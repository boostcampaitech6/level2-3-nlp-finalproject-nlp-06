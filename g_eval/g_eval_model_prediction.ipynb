{
 "cells": [
  {
   "cell_type": "markdown",
   "metadata": {},
   "source": [
    "# 모델 예측\n",
    "\n",
    "* open-solar-ko를 가지고 주어진 이전 대화, 사용자 페르소나, 챗봇 페르소나로부터 bot의 다음 발화를 생성"
   ]
  },
  {
   "cell_type": "markdown",
   "metadata": {},
   "source": [
    "## 평가 데이터 불러오기"
   ]
  },
  {
   "cell_type": "markdown",
   "metadata": {},
   "source": [
    "src_list, context_list만 있는 dataframe으로 편집"
   ]
  },
  {
   "cell_type": "code",
   "execution_count": null,
   "metadata": {},
   "outputs": [],
   "source": [
    "from tqdm import tqdm\n",
    "import pandas as pd\n",
    "eval_vl2 = pd.read_csv('korean_msc/preprocessing/VL_session2_geval_v6_sampled_banmal.csv')\n",
    "# eval_vl3 = pd.read_csv('korean_msc/preprocessing/VL_session3_geval_v4_sampled.csv')\n",
    "# eval_vl4 = pd.read_csv('korean_msc/preprocessing/VL_session4_geval_banmal_persona_pred.csv')"
   ]
  },
  {
   "cell_type": "code",
   "execution_count": null,
   "metadata": {},
   "outputs": [],
   "source": [
    "eval_vl2.shape"
   ]
  },
  {
   "cell_type": "code",
   "execution_count": null,
   "metadata": {},
   "outputs": [],
   "source": [
    "eval_vl2.head()"
   ]
  },
  {
   "cell_type": "code",
   "execution_count": null,
   "metadata": {},
   "outputs": [],
   "source": [
    "eval_vl2['bot_persona'] = eval_vl2['bot_persona'].apply(lambda x: eval(x))\n",
    "eval_vl2['user_persona'] = eval_vl2['user_persona'].apply(lambda x: eval(x))\n",
    "eval_vl2['bot_dialog'] = eval_vl2['bot_dialog'].apply(lambda x: eval(x))\n",
    "eval_vl2['user_dialog'] = eval_vl2['user_dialog'].apply(lambda x: eval(x))\n",
    "eval_vl2['prev_dialog'] = eval_vl2.apply(lambda x: eval(x['prev_dialog'])[1:] + x['new_input'], axis=1)"
   ]
  },
  {
   "cell_type": "code",
   "execution_count": null,
   "metadata": {},
   "outputs": [],
   "source": [
    "eval_vl2.head()"
   ]
  },
  {
   "cell_type": "code",
   "execution_count": null,
   "metadata": {},
   "outputs": [],
   "source": [
    "from tqdm import tqdm\n",
    "import pandas as pd\n",
    "\n",
    "def preprocess(data):\n",
    "    eval_df = pd.DataFrame(columns=['user_persona', 'bot_persona', 'prev_dialog', 'response'])\n",
    "    \n",
    "    tqdm.pandas()\n",
    "    # '\\n' join - row마다!\n",
    "    eval_df['user_persona'] = data['user_persona'].progress_apply(lambda x : ''.join(x))\n",
    "    eval_df['bot_persona'] = data['bot_persona'].progress_apply(lambda x : ''.join(x))\n",
    "    eval_df['prev_dialog'] = data['prev_dialog'].progress_apply(lambda x : ''.join(x))\n",
    "    eval_df['response'] = data['response'].progress_apply(lambda x : ''.join(x))\n",
    "    \n",
    "    return eval_df"
   ]
  },
  {
   "cell_type": "code",
   "execution_count": null,
   "metadata": {},
   "outputs": [],
   "source": [
    "eval_vl2 = preprocess(eval_vl2)\n",
    "eval_vl2.head()"
   ]
  },
  {
   "cell_type": "code",
   "execution_count": null,
   "metadata": {},
   "outputs": [],
   "source": [
    "eval_vl2.loc[0, 'user_persona']"
   ]
  },
  {
   "cell_type": "markdown",
   "metadata": {},
   "source": [
    "## Model Prediction"
   ]
  },
  {
   "cell_type": "markdown",
   "metadata": {},
   "source": [
    "\n",
    "https://python.langchain.com/docs/integrations/llms/llamacpp"
   ]
  },
  {
   "cell_type": "code",
   "execution_count": 1,
   "metadata": {},
   "outputs": [],
   "source": [
    "from langchain.callbacks.manager import CallbackManager\n",
    "from langchain.callbacks.streaming_stdout import StreamingStdOutCallbackHandler\n",
    "from langchain.chains import LLMChain\n",
    "from langchain.prompts import PromptTemplate\n",
    "from langchain_community.llms import LlamaCpp\n",
    "\n",
    "n_gpu_layers = -1  # The number of layers to put on the GPU. The rest will be on the CPU. If you don't know how many layers there are, you can use -1 to move all to GPU.\n",
    "n_batch = 4096  # Should be between 1 and n_ctx, consider the amount of VRAM in your GPU.\n",
    "\n",
    "# Callbacks support token-wise streaming\n",
    "callback_manager = CallbackManager([StreamingStdOutCallbackHandler()])\n"
   ]
  },
  {
   "cell_type": "markdown",
   "metadata": {},
   "source": [
    "2가지로 구성\n",
    "\n",
    "1. 최근 5-turn의 대화\n",
    "2. 추출한 사용자 페르소나 + 최근 5-turn의 대화\n",
    "\n",
    "-> 근데 이게 챗봇 페르소나가 아니라 MSC의 사용자 1과 이뤄진 대화이기 때문에 챗봇 페르소나를 넣는 것이 불가능!\n",
    "\n",
    "\n",
    "----\n",
    "\n",
    "따라서 챗봇 페르소나를 제외하고 실험 진행\n"
   ]
  },
  {
   "cell_type": "markdown",
   "metadata": {},
   "source": [
    "> 프롬프트 수정 필요"
   ]
  },
  {
   "cell_type": "code",
   "execution_count": 3,
   "metadata": {},
   "outputs": [
    {
     "data": {
      "text/plain": [
       "PromptTemplate(input_variables=['bot_age', 'bot_gender', 'bot_persona', 'new_input', 'prev_dialog', 'user_age', 'user_gender', 'user_persona'], template='지금부터 아래의 [챗봇 페르소나]를 가진 인물이 되어, [상대 페르소나]를 고려한 대화를 수행한다.\\n[챗봇 페르소나]\\n- 나이:{bot_age}\\n- 성별:{bot_gender}\\n- 성격:{bot_persona}\\n\\n[사용자 기본 정보]\\n- 나이:{user_age}\\n- 성별:{user_gender}\\n\\n[대화 예시]\\nBot:나는 학원 수학강사로 일하고 있는데, 다음주부터 학생들이 기말고사라서 바빠져서 첼로연주를 쉬어야 해.\\nUser:학원 수학 선생님이셨구나. 나도 일렉기타를 배우고 싶은데, 밴드부 동아리에는 관심이 없고 학원을 알아보려고 하는데 학원비용이 많이 비쌀까?\\nBot:그렇게 비싸진 않을거야. 20만원 안에서 해결할 수 있을거야.\\nUser:그정도면 아르바이트해서 모을 수 있는 금액이네. 첼로 연주 배운지는 얼마나 됐어?\\nBot:3개월째 배우고 있는데, 중급단계를 배우고 있어.\\n\\n[현재 발화 관련 사용자 정보]\\n{user_persona}\\n\\n지금까지의 프롬프트를 읽고 [챗봇 정보]의 인물이 되어 대답하고, [사용자 정보]와 [현재 발화 관련 사용자 정보]에 기반하여 친절하고 예의있게 답변하라.\\n{prev_dialog}\\nUser:{new_input}\\nBot:')"
      ]
     },
     "execution_count": 3,
     "metadata": {},
     "output_type": "execute_result"
    }
   ],
   "source": [
    "_DEFAULT_TEMPLATE =  \"\"\"지금부터 아래의 [챗봇 페르소나]를 가진 인물이 되어, [상대 페르소나]를 고려한 대화를 수행한다.\n",
    "[챗봇 페르소나]\n",
    "- 나이:{bot_age}\n",
    "- 성별:{bot_gender}\n",
    "- 성격:{bot_persona}\n",
    "\n",
    "[사용자 기본 정보]\n",
    "- 나이:{user_age}\n",
    "- 성별:{user_gender}\n",
    "\n",
    "[대화 예시]\n",
    "Bot:나는 학원 수학강사로 일하고 있는데, 다음주부터 학생들이 기말고사라서 바빠져서 첼로연주를 쉬어야 해.\n",
    "User:학원 수학 선생님이셨구나. 나도 일렉기타를 배우고 싶은데, 밴드부 동아리에는 관심이 없고 학원을 알아보려고 하는데 학원비용이 많이 비쌀까?\n",
    "Bot:그렇게 비싸진 않을거야. 20만원 안에서 해결할 수 있을거야.\n",
    "User:그정도면 아르바이트해서 모을 수 있는 금액이네. 첼로 연주 배운지는 얼마나 됐어?\n",
    "Bot:3개월째 배우고 있는데, 중급단계를 배우고 있어.\n",
    "\n",
    "[현재 발화 관련 사용자 정보]\n",
    "{user_persona}\n",
    "\n",
    "지금까지의 프롬프트를 읽고 [챗봇 정보]의 인물이 되어 대답하고, [사용자 정보]와 [현재 발화 관련 사용자 정보]에 기반하여 친절하고 예의있게 답변하라.\n",
    "{prev_dialog}\n",
    "User:{new_input}\n",
    "Bot:\"\"\"\n",
    "\n",
    "prompt = PromptTemplate.from_template(_DEFAULT_TEMPLATE)\n",
    "prompt"
   ]
  },
  {
   "cell_type": "code",
   "execution_count": 4,
   "metadata": {},
   "outputs": [
    {
     "data": {
      "text/html": [
       "<div>\n",
       "<style scoped>\n",
       "    .dataframe tbody tr th:only-of-type {\n",
       "        vertical-align: middle;\n",
       "    }\n",
       "\n",
       "    .dataframe tbody tr th {\n",
       "        vertical-align: top;\n",
       "    }\n",
       "\n",
       "    .dataframe thead th {\n",
       "        text-align: right;\n",
       "    }\n",
       "</style>\n",
       "<table border=\"1\" class=\"dataframe\">\n",
       "  <thead>\n",
       "    <tr style=\"text-align: right;\">\n",
       "      <th></th>\n",
       "      <th>id</th>\n",
       "      <th>topic</th>\n",
       "      <th>num_sessions</th>\n",
       "      <th>bot_persona</th>\n",
       "      <th>bot_age</th>\n",
       "      <th>bot_gender</th>\n",
       "      <th>bot_occupation</th>\n",
       "      <th>user_persona</th>\n",
       "      <th>user_age</th>\n",
       "      <th>user_gender</th>\n",
       "      <th>user_occupation</th>\n",
       "      <th>bot_dialog</th>\n",
       "      <th>user_dialog</th>\n",
       "      <th>prev_dialog</th>\n",
       "      <th>new_input</th>\n",
       "    </tr>\n",
       "  </thead>\n",
       "  <tbody>\n",
       "    <tr>\n",
       "      <th>0</th>\n",
       "      <td>K2-33237-CL21405-CP22628-07-07-S2.json</td>\n",
       "      <td>가족</td>\n",
       "      <td>2</td>\n",
       "      <td>['나는 여자이다.', '나는 20대이다.', '나는 고양이 두 마리를 키운다.',...</td>\n",
       "      <td>20대</td>\n",
       "      <td>여성</td>\n",
       "      <td>사무직</td>\n",
       "      <td>['나는 고양이 두 마리를 중성화 수술시키고 집으로 가는 길이다', '나는 친구랑 ...</td>\n",
       "      <td>20대</td>\n",
       "      <td>여성</td>\n",
       "      <td>기능직</td>\n",
       "      <td>['경기도에 살고 있구나. 난 20대이고 같은 경기도에 사는 여자야.', '고양이를...</td>\n",
       "      <td>['안녕, 난 경기도에서 살고 있어. 20대 여자야.', '같은 도시 사람이네. 나...</td>\n",
       "      <td>['Bot:나는 학원 수학강사로 일하고 있는데, 다음주부터 학생들이 기말고사라서 바...</td>\n",
       "      <td>빠르게 습득한 거 아니야? 나는 고양이 케어하러 가야되서 다음에 연락할게.</td>\n",
       "    </tr>\n",
       "    <tr>\n",
       "      <th>1</th>\n",
       "      <td>K5-03865-CL74427-CP10762-07-02-S2.json</td>\n",
       "      <td>가족</td>\n",
       "      <td>2</td>\n",
       "      <td>['나는 남자이다.', '나는 20대이다.', '나의 거주지는 대구이다.', '나는...</td>\n",
       "      <td>20대</td>\n",
       "      <td>남성</td>\n",
       "      <td>학생</td>\n",
       "      <td>['나의 형은 자동차 정비원이다']</td>\n",
       "      <td>20대</td>\n",
       "      <td>남성</td>\n",
       "      <td>무직</td>\n",
       "      <td>['안녕, 나는 20대 남성이야.', '안녕. 10대면 지금 고등학생이겠네.', '...</td>\n",
       "      <td>['안녕, 나는 10대 남자야.', '응, 작곡가가 되기 위해서 음악 공부를 열심히...</td>\n",
       "      <td>['Bot:에이 그정도면 그래도 괜찮지. 우리 어머니는 남자 키가 175이상만 되면...</td>\n",
       "      <td>괜찮아. 너는 어머니하고 사이 좋아?</td>\n",
       "    </tr>\n",
       "    <tr>\n",
       "      <th>2</th>\n",
       "      <td>K2-08382-CL20425-CP21061-17-08-S2.json</td>\n",
       "      <td>건강</td>\n",
       "      <td>2</td>\n",
       "      <td>['나는 남자이다.', '나는 20대이다.', '나는 커피를 최근에 끊었다.', '...</td>\n",
       "      <td>20대</td>\n",
       "      <td>남성</td>\n",
       "      <td>학생</td>\n",
       "      <td>['나는 미국으로 어학연수를 간다']</td>\n",
       "      <td>20대</td>\n",
       "      <td>남성</td>\n",
       "      <td>무직</td>\n",
       "      <td>['안녕, 난 20대 남자야. 반가워.', '오늘 기분이 좋더라. 너는 무슨 일을 ...</td>\n",
       "      <td>['기운이 엄청 넘치네. 나도 20대 남자야. 반가워.', '나는 싫어하는 EDM를...</td>\n",
       "      <td>['Bot:깁스 몇 주만 하면 되는 건데, 괜찮아.', 'User:축구하다가 너무 ...</td>\n",
       "      <td>맞아, 그래서 챙길 수 있는 약들은 많이 챙겨가려고 해.</td>\n",
       "    </tr>\n",
       "    <tr>\n",
       "      <th>3</th>\n",
       "      <td>K2-31842-CL23868-CP23582-17-06-S2.json</td>\n",
       "      <td>건강</td>\n",
       "      <td>2</td>\n",
       "      <td>['나는 여자이다.', '나는 20대이다.', '나는 요즘, 가끔 죄책감이 든다.'...</td>\n",
       "      <td>20대</td>\n",
       "      <td>남성</td>\n",
       "      <td>학생</td>\n",
       "      <td>['나는 대학생이다', '나는 심리학이 부전공이다', '나는 카푸치노를 매일 2잔 ...</td>\n",
       "      <td>20대</td>\n",
       "      <td>여성</td>\n",
       "      <td>자영업</td>\n",
       "      <td>['안녕, 나는 20대 남성이야.', '나도 아직 대학생이야. 우리 아버지가 운수업...</td>\n",
       "      <td>['안녕, 나는 20대 여성이야.', '나는 대학생이야. 너는 무슨 일을 해?', ...</td>\n",
       "      <td>['Bot:정말 열심히 하네. 나는 야구를 좋아해서 야구 동아리에 들어가고 싶어.'...</td>\n",
       "      <td>그러게, 난 이만 카페가서 공부하러 가볼게. 나중에 대화하자.</td>\n",
       "    </tr>\n",
       "    <tr>\n",
       "      <th>4</th>\n",
       "      <td>K2-10919-CL12469-CP11587-17-05-S2.json</td>\n",
       "      <td>건강</td>\n",
       "      <td>2</td>\n",
       "      <td>['나는 여자이다.', '나는 10대이다.', '내가 사는 곳은 속초이다', '나는...</td>\n",
       "      <td>20대</td>\n",
       "      <td>여성</td>\n",
       "      <td>학생</td>\n",
       "      <td>['나는 요즘 치료를 받고 있다', '나는 건강관리를 안 해서 치료를 받고 있는 것...</td>\n",
       "      <td>20대</td>\n",
       "      <td>여성</td>\n",
       "      <td>무직</td>\n",
       "      <td>['안녕, 나는 서울 사는 10대 여성이야.', '나는 요즘 모든 것이 귀찮아서 사...</td>\n",
       "      <td>['안녕, 나는 10대 여성이고, 속초에 살고 있어.', '같은 10대라니 반가워....</td>\n",
       "      <td>['Bot:솔직히 건강관리는 하나도 안하는 것 같아. 난 학교 하나 다니는 것도 벅...</td>\n",
       "      <td>응 지금은 완치됐어. 치료 받지 않게 목관리를 조심해.</td>\n",
       "    </tr>\n",
       "  </tbody>\n",
       "</table>\n",
       "</div>"
      ],
      "text/plain": [
       "                                       id topic  num_sessions  \\\n",
       "0  K2-33237-CL21405-CP22628-07-07-S2.json    가족             2   \n",
       "1  K5-03865-CL74427-CP10762-07-02-S2.json    가족             2   \n",
       "2  K2-08382-CL20425-CP21061-17-08-S2.json    건강             2   \n",
       "3  K2-31842-CL23868-CP23582-17-06-S2.json    건강             2   \n",
       "4  K2-10919-CL12469-CP11587-17-05-S2.json    건강             2   \n",
       "\n",
       "                                         bot_persona bot_age bot_gender  \\\n",
       "0  ['나는 여자이다.', '나는 20대이다.', '나는 고양이 두 마리를 키운다.',...     20대         여성   \n",
       "1  ['나는 남자이다.', '나는 20대이다.', '나의 거주지는 대구이다.', '나는...     20대         남성   \n",
       "2  ['나는 남자이다.', '나는 20대이다.', '나는 커피를 최근에 끊었다.', '...     20대         남성   \n",
       "3  ['나는 여자이다.', '나는 20대이다.', '나는 요즘, 가끔 죄책감이 든다.'...     20대         남성   \n",
       "4  ['나는 여자이다.', '나는 10대이다.', '내가 사는 곳은 속초이다', '나는...     20대         여성   \n",
       "\n",
       "  bot_occupation                                       user_persona user_age  \\\n",
       "0            사무직  ['나는 고양이 두 마리를 중성화 수술시키고 집으로 가는 길이다', '나는 친구랑 ...      20대   \n",
       "1             학생                                ['나의 형은 자동차 정비원이다']      20대   \n",
       "2             학생                               ['나는 미국으로 어학연수를 간다']      20대   \n",
       "3             학생  ['나는 대학생이다', '나는 심리학이 부전공이다', '나는 카푸치노를 매일 2잔 ...      20대   \n",
       "4             학생  ['나는 요즘 치료를 받고 있다', '나는 건강관리를 안 해서 치료를 받고 있는 것...      20대   \n",
       "\n",
       "  user_gender user_occupation  \\\n",
       "0          여성             기능직   \n",
       "1          남성              무직   \n",
       "2          남성              무직   \n",
       "3          여성             자영업   \n",
       "4          여성              무직   \n",
       "\n",
       "                                          bot_dialog  \\\n",
       "0  ['경기도에 살고 있구나. 난 20대이고 같은 경기도에 사는 여자야.', '고양이를...   \n",
       "1  ['안녕, 나는 20대 남성이야.', '안녕. 10대면 지금 고등학생이겠네.', '...   \n",
       "2  ['안녕, 난 20대 남자야. 반가워.', '오늘 기분이 좋더라. 너는 무슨 일을 ...   \n",
       "3  ['안녕, 나는 20대 남성이야.', '나도 아직 대학생이야. 우리 아버지가 운수업...   \n",
       "4  ['안녕, 나는 서울 사는 10대 여성이야.', '나는 요즘 모든 것이 귀찮아서 사...   \n",
       "\n",
       "                                         user_dialog  \\\n",
       "0  ['안녕, 난 경기도에서 살고 있어. 20대 여자야.', '같은 도시 사람이네. 나...   \n",
       "1  ['안녕, 나는 10대 남자야.', '응, 작곡가가 되기 위해서 음악 공부를 열심히...   \n",
       "2  ['기운이 엄청 넘치네. 나도 20대 남자야. 반가워.', '나는 싫어하는 EDM를...   \n",
       "3  ['안녕, 나는 20대 여성이야.', '나는 대학생이야. 너는 무슨 일을 해?', ...   \n",
       "4  ['안녕, 나는 10대 여성이고, 속초에 살고 있어.', '같은 10대라니 반가워....   \n",
       "\n",
       "                                         prev_dialog  \\\n",
       "0  ['Bot:나는 학원 수학강사로 일하고 있는데, 다음주부터 학생들이 기말고사라서 바...   \n",
       "1  ['Bot:에이 그정도면 그래도 괜찮지. 우리 어머니는 남자 키가 175이상만 되면...   \n",
       "2  ['Bot:깁스 몇 주만 하면 되는 건데, 괜찮아.', 'User:축구하다가 너무 ...   \n",
       "3  ['Bot:정말 열심히 하네. 나는 야구를 좋아해서 야구 동아리에 들어가고 싶어.'...   \n",
       "4  ['Bot:솔직히 건강관리는 하나도 안하는 것 같아. 난 학교 하나 다니는 것도 벅...   \n",
       "\n",
       "                                   new_input  \n",
       "0  빠르게 습득한 거 아니야? 나는 고양이 케어하러 가야되서 다음에 연락할게.  \n",
       "1                       괜찮아. 너는 어머니하고 사이 좋아?  \n",
       "2            맞아, 그래서 챙길 수 있는 약들은 많이 챙겨가려고 해.  \n",
       "3         그러게, 난 이만 카페가서 공부하러 가볼게. 나중에 대화하자.  \n",
       "4             응 지금은 완치됐어. 치료 받지 않게 목관리를 조심해.  "
      ]
     },
     "execution_count": 4,
     "metadata": {},
     "output_type": "execute_result"
    }
   ],
   "source": [
    "import pandas as pd\n",
    "\n",
    "eval_vl2 = pd.read_csv('./korean_msc/preprocessing/VL_session2_geval_v6_sampled_banmal.csv')\n",
    "eval_vl2.head()"
   ]
  },
  {
   "cell_type": "code",
   "execution_count": 5,
   "metadata": {},
   "outputs": [],
   "source": [
    "eval_vl2['bot_persona'] = eval_vl2['bot_persona'].apply(lambda x: eval(x))\n",
    "eval_vl2['user_persona'] = eval_vl2['user_persona'].apply(lambda x: eval(x))\n",
    "eval_vl2['bot_dialog'] = eval_vl2['bot_dialog'].apply(lambda x: eval(x))\n",
    "eval_vl2['user_dialog'] = eval_vl2['user_dialog'].apply(lambda x: eval(x))\n",
    "eval_vl2['prev_dialog'] = eval_vl2['prev_dialog'].apply(lambda x: eval(x))"
   ]
  },
  {
   "cell_type": "code",
   "execution_count": 6,
   "metadata": {},
   "outputs": [
    {
     "data": {
      "text/plain": [
       "['Bot:나는 학원 수학강사로 일하고 있는데, 다음주부터 학생들이 기말고사라서 바빠져서 첼로연주를 쉬어야 해.',\n",
       " 'User:학원 수학 선생님이셨구나. 나도 일렉기타를 배우고 싶은데, 밴드부 동아리에는 관심이 없고 학원을 알아보려고 하는데 학원비용이 많이 비쌀까?',\n",
       " 'Bot:그렇게 비싸진 않을거야. 20만원 안에서 해결할 수 있을거야.',\n",
       " 'User:그정도면 아르바이트해서 모을 수 있는 금액이네. 첼로 연주 배운지는 얼마나 됐어?',\n",
       " 'Bot:3개월째 배우고 있는데, 중급단계를 배우고 있어.']"
      ]
     },
     "execution_count": 6,
     "metadata": {},
     "output_type": "execute_result"
    }
   ],
   "source": [
    "eval_vl2.loc[0, 'prev_dialog']"
   ]
  },
  {
   "cell_type": "code",
   "execution_count": 7,
   "metadata": {},
   "outputs": [
    {
     "data": {
      "text/plain": [
       "['나는 여자이다.',\n",
       " '나는 20대이다.',\n",
       " '나는 고양이 두 마리를 키운다.',\n",
       " '나는 밴드부 동아리에 관심이 없다.',\n",
       " '나는 일식을 싫어한다.']"
      ]
     },
     "execution_count": 7,
     "metadata": {},
     "output_type": "execute_result"
    }
   ],
   "source": [
    "eval_vl2.loc[0, 'bot_persona'] # 지우 프롬프트도 이런 식으로 수정"
   ]
  },
  {
   "cell_type": "code",
   "execution_count": 8,
   "metadata": {},
   "outputs": [
    {
     "data": {
      "text/plain": [
       "'빠르게 습득한 거 아니야? 나는 고양이 케어하러 가야되서 다음에 연락할게.'"
      ]
     },
     "execution_count": 8,
     "metadata": {},
     "output_type": "execute_result"
    }
   ],
   "source": [
    "eval_vl2.loc[0, 'new_input']"
   ]
  },
  {
   "cell_type": "markdown",
   "metadata": {},
   "source": [
    "prev 5-turn + user input"
   ]
  },
  {
   "cell_type": "code",
   "execution_count": 9,
   "metadata": {},
   "outputs": [],
   "source": [
    "from utils import convert_to_json\n",
    "import json\n",
    "from tqdm import tqdm\n",
    "import traceback\n",
    "\n",
    "def make_json_data(origin_data, data_name, model, prompt, persona, json_path=\"./\"):\n",
    "    print('## Data info ##')\n",
    "    print(f\"dataset name : {data_name} data length : {origin_data.shape}\")\n",
    "    print('## Model info ##')\n",
    "    print(model)\n",
    "\n",
    "    preprocessed_data = pd.DataFrame(columns=['user_persona', 'bot_persona', 'prev_dialog', 'response'])\n",
    "\n",
    "    # row마다 하나씩 넣기\n",
    "    for idx in tqdm(range(len(origin_data))):\n",
    "        llm_chain = LLMChain(prompt=prompt, llm=model)\n",
    "        try:\n",
    "            preprocessed_data.loc[idx, 'bot_persona'] = origin_data.loc[idx, 'bot_persona']\n",
    "            preprocessed_data.loc[idx, 'prev_dialog'] = origin_data.loc[idx, 'prev_dialog'][1:] + [\"User:\" + origin_data.loc[idx, 'new_input']]\n",
    "            \n",
    "            if persona == True:\n",
    "                preprocessed_data.at[idx, 'user_persona'] = origin_data.loc[idx, 'user_persona']\n",
    "                preprocessed_data.at[idx, 'response'] = llm_chain.invoke(\n",
    "                                            {'bot_age' : origin_data.loc[idx, 'bot_age'], \n",
    "                                            'bot_gender' : origin_data.loc[idx, 'bot_gender'],\n",
    "                                            'bot_persona' : ' '.join(origin_data.loc[idx, 'bot_persona']),\n",
    "                                            'user_age' : origin_data.loc[idx, 'user_age'],\n",
    "                                            'user_gender' : origin_data.loc[idx, 'user_gender'],\n",
    "                                            'user_persona': ' '.join(origin_data.loc[idx, 'user_persona']),\n",
    "                                            'new_input': origin_data.loc[idx, 'new_input'],\n",
    "                                            'prev_dialog': '\\n'.join(origin_data.loc[idx, 'prev_dialog'])\n",
    "                                            })['text']\n",
    "            else:\n",
    "                preprocessed_data.at[idx, 'user_persona'] = \"\"\n",
    "                preprocessed_data.at[idx, 'response'] = llm_chain.invoke(\n",
    "                                            {'bot_age' : origin_data.loc[idx, 'bot_age'], \n",
    "                                            'bot_gender' : origin_data.loc[idx, 'bot_gender'],\n",
    "                                            'bot_persona' : ' '.join(origin_data.loc[idx, 'bot_persona']),\n",
    "                                            'user_age' : origin_data.loc[idx, 'user_age'],\n",
    "                                            'user_gender' : origin_data.loc[idx, 'user_gender'],\n",
    "                                            'user_persona': \"\",\n",
    "                                            'new_input': origin_data.loc[idx, 'new_input'],\n",
    "                                            'prev_dialog': '\\n'.join(origin_data.loc[idx, 'prev_dialog'])\n",
    "                                            })['text']\n",
    "        # 끊겼을 때 예외처리\n",
    "        except Exception as ex:\n",
    "            print(f\"error occured in {idx}\")\n",
    "            err_msg = traceback.format_exc()\n",
    "            print(\"## Error : \", err_msg)\n",
    "            data = convert_to_json(user_persona=preprocessed_data['user_persona'], bot_persona=preprocessed_data['bot_persona'],\n",
    "                                   prev_dialog=preprocessed_data['prev_dialog'], response=preprocessed_data['response'])\n",
    "            \n",
    "            with open(f\"{json_path}/{data_name}.json\", \"w\", encoding=\"UTF-8\") as json_file:\n",
    "                json.dump(data, json_file, ensure_ascii=False)\n",
    "            print(f'## JSON Converted in {json_path}/{data_name}.json##')\n",
    "            print(data)\n",
    "            return data\n",
    "        \n",
    "    data = convert_to_json(user_persona=preprocessed_data['user_persona'], bot_persona=preprocessed_data['bot_persona'],\n",
    "                            prev_dialog=preprocessed_data['prev_dialog'], response=preprocessed_data['response'])\n",
    "    \n",
    "    with open(f\"{json_path}/{data_name}.json\", \"w\", encoding=\"UTF-8\") as json_file:\n",
    "        json.dump(data, json_file, ensure_ascii=False, indent=4)\n",
    "\n",
    "    print(f'## JSON Converted in {json_path} as {data_name}.json##')\n",
    "    print(data)\n",
    "    \n",
    "    return data"
   ]
  },
  {
   "cell_type": "markdown",
   "metadata": {},
   "source": [
    "### OPEN-SOLAR-KO-10_7B"
   ]
  },
  {
   "cell_type": "code",
   "execution_count": 10,
   "metadata": {},
   "outputs": [
    {
     "name": "stderr",
     "output_type": "stream",
     "text": [
      "llama_model_loader: loaded meta data with 21 key-value pairs and 435 tensors from ./solar/OPEN-SOLAR-KO-10_7B.Q5_K_S.gguf (version GGUF V3 (latest))\n",
      "llama_model_loader: Dumping metadata keys/values. Note: KV overrides do not apply in this output.\n",
      "llama_model_loader: - kv   0:                       general.architecture str              = llama\n",
      "llama_model_loader: - kv   1:                               general.name str              = LLaMA v2\n",
      "llama_model_loader: - kv   2:                       llama.context_length u32              = 4096\n",
      "llama_model_loader: - kv   3:                     llama.embedding_length u32              = 4096\n",
      "llama_model_loader: - kv   4:                          llama.block_count u32              = 48\n",
      "llama_model_loader: - kv   5:                  llama.feed_forward_length u32              = 14336\n",
      "llama_model_loader: - kv   6:                 llama.rope.dimension_count u32              = 128\n",
      "llama_model_loader: - kv   7:                 llama.attention.head_count u32              = 32\n",
      "llama_model_loader: - kv   8:              llama.attention.head_count_kv u32              = 8\n",
      "llama_model_loader: - kv   9:     llama.attention.layer_norm_rms_epsilon f32              = 0.000010\n",
      "llama_model_loader: - kv  10:                       llama.rope.freq_base f32              = 10000.000000\n",
      "llama_model_loader: - kv  11:                          general.file_type u32              = 16\n",
      "llama_model_loader: - kv  12:                       tokenizer.ggml.model str              = llama\n",
      "llama_model_loader: - kv  13:                      tokenizer.ggml.tokens arr[str,46592]   = [\"<unk>\", \"<s>\", \"</s>\", \"<0x00>\", \"<...\n",
      "llama_model_loader: - kv  14:                      tokenizer.ggml.scores arr[f32,46592]   = [-1000.000000, -1000.000000, -1000.00...\n",
      "llama_model_loader: - kv  15:                  tokenizer.ggml.token_type arr[i32,46592]   = [3, 3, 3, 6, 6, 6, 6, 6, 6, 6, 6, 6, ...\n",
      "llama_model_loader: - kv  16:                tokenizer.ggml.bos_token_id u32              = 1\n",
      "llama_model_loader: - kv  17:                tokenizer.ggml.eos_token_id u32              = 2\n",
      "llama_model_loader: - kv  18:            tokenizer.ggml.unknown_token_id u32              = 0\n",
      "llama_model_loader: - kv  19:            tokenizer.ggml.padding_token_id u32              = 2\n",
      "llama_model_loader: - kv  20:               general.quantization_version u32              = 2\n",
      "llama_model_loader: - type  f32:   97 tensors\n",
      "llama_model_loader: - type q5_K:  337 tensors\n",
      "llama_model_loader: - type q6_K:    1 tensors\n",
      "llm_load_vocab: mismatch in special tokens definition ( 700/46592 vs 695/46592 ).\n",
      "llm_load_print_meta: format           = GGUF V3 (latest)\n",
      "llm_load_print_meta: arch             = llama\n",
      "llm_load_print_meta: vocab type       = SPM\n",
      "llm_load_print_meta: n_vocab          = 46592\n",
      "llm_load_print_meta: n_merges         = 0\n",
      "llm_load_print_meta: n_ctx_train      = 4096\n",
      "llm_load_print_meta: n_embd           = 4096\n",
      "llm_load_print_meta: n_head           = 32\n",
      "llm_load_print_meta: n_head_kv        = 8\n",
      "llm_load_print_meta: n_layer          = 48\n",
      "llm_load_print_meta: n_rot            = 128\n",
      "llm_load_print_meta: n_embd_head_k    = 128\n",
      "llm_load_print_meta: n_embd_head_v    = 128\n",
      "llm_load_print_meta: n_gqa            = 4\n",
      "llm_load_print_meta: n_embd_k_gqa     = 1024\n",
      "llm_load_print_meta: n_embd_v_gqa     = 1024\n",
      "llm_load_print_meta: f_norm_eps       = 0.0e+00\n",
      "llm_load_print_meta: f_norm_rms_eps   = 1.0e-05\n",
      "llm_load_print_meta: f_clamp_kqv      = 0.0e+00\n",
      "llm_load_print_meta: f_max_alibi_bias = 0.0e+00\n",
      "llm_load_print_meta: n_ff             = 14336\n",
      "llm_load_print_meta: n_expert         = 0\n",
      "llm_load_print_meta: n_expert_used    = 0\n",
      "llm_load_print_meta: pooling type     = 0\n",
      "llm_load_print_meta: rope type        = 0\n",
      "llm_load_print_meta: rope scaling     = linear\n",
      "llm_load_print_meta: freq_base_train  = 10000.0\n",
      "llm_load_print_meta: freq_scale_train = 1\n",
      "llm_load_print_meta: n_yarn_orig_ctx  = 4096\n",
      "llm_load_print_meta: rope_finetuned   = unknown\n",
      "llm_load_print_meta: model type       = 34B\n",
      "llm_load_print_meta: model ftype      = Q5_K - Small\n",
      "llm_load_print_meta: model params     = 10.85 B\n",
      "llm_load_print_meta: model size       = 6.97 GiB (5.52 BPW) \n",
      "llm_load_print_meta: general.name     = LLaMA v2\n",
      "llm_load_print_meta: BOS token        = 1 '<s>'\n",
      "llm_load_print_meta: EOS token        = 2 '</s>'\n",
      "llm_load_print_meta: UNK token        = 0 '<unk>'\n",
      "llm_load_print_meta: PAD token        = 2 '</s>'\n",
      "llm_load_print_meta: LF token         = 13 '<0x0A>'\n",
      "llm_load_tensors: ggml ctx size =    0.17 MiB\n",
      "llm_load_tensors:        CPU buffer size =  7139.94 MiB\n",
      "...................................................................................................\n",
      "llama_new_context_with_model: n_ctx      = 2048\n",
      "llama_new_context_with_model: freq_base  = 10000.0\n",
      "llama_new_context_with_model: freq_scale = 1\n",
      "llama_kv_cache_init:        CPU KV buffer size =   384.00 MiB\n",
      "llama_new_context_with_model: KV self size  =  384.00 MiB, K (f16):  192.00 MiB, V (f16):  192.00 MiB\n",
      "llama_new_context_with_model:        CPU input buffer size   =    64.04 MiB\n",
      "llama_new_context_with_model:        CPU compute buffer size =   640.00 MiB\n",
      "llama_new_context_with_model: graph splits (measure): 1\n",
      "AVX = 1 | AVX_VNNI = 0 | AVX2 = 1 | AVX512 = 0 | AVX512_VBMI = 0 | AVX512_VNNI = 0 | FMA = 1 | NEON = 0 | ARM_FMA = 0 | F16C = 1 | FP16_VA = 0 | WASM_SIMD = 0 | BLAS = 0 | SSE3 = 1 | SSSE3 = 0 | VSX = 0 | MATMUL_INT8 = 0 | \n",
      "Model metadata: {'general.name': 'LLaMA v2', 'general.architecture': 'llama', 'llama.context_length': '4096', 'llama.rope.dimension_count': '128', 'llama.embedding_length': '4096', 'llama.block_count': '48', 'llama.feed_forward_length': '14336', 'llama.attention.head_count': '32', 'tokenizer.ggml.eos_token_id': '2', 'general.file_type': '16', 'llama.attention.head_count_kv': '8', 'llama.attention.layer_norm_rms_epsilon': '0.000010', 'llama.rope.freq_base': '10000.000000', 'tokenizer.ggml.model': 'llama', 'general.quantization_version': '2', 'tokenizer.ggml.bos_token_id': '1', 'tokenizer.ggml.unknown_token_id': '0', 'tokenizer.ggml.padding_token_id': '2'}\n",
      "Using fallback chat format: None\n"
     ]
    }
   ],
   "source": [
    "# Make sure the model path is correct for your system!\n",
    "solar = LlamaCpp(\n",
    "    model_path=\"./solar/OPEN-SOLAR-KO-10_7B.Q5_K_S.gguf\",\n",
    "    n_gpu_layers=n_gpu_layers,\n",
    "    n_batch=n_batch,\n",
    "    callback_manager=callback_manager,\n",
    "    temperature=0.9,\n",
    "    top_p=0.95,\n",
    "    top_k=30,\n",
    "    max_tokens=256,\n",
    "    n_ctx=2048,\n",
    "    stop=[\"User:\", \"Bot:\", \"\\n\", \"ᄏ\"*6, \"ᄒ\"*6, \"ㅠ\"*6, \"ᄋ\"*6, \"ㅋ\"*6, \"ㅎ\"*6, \"ㅠ\"*6, \"ㅇ\"*6],\n",
    "    model_kwargs={\n",
    "        'min_p':0.7,\n",
    "        'repeatition_penalty': 1.4,\n",
    "        'no_repeat_ngram_size': 6,\n",
    "        'repeat_last_n' : 10,\n",
    "        'early_stopping': True\n",
    "    },\n",
    "    verbose=True,  # Verbose is required to pass to the callback manager\n",
    ")"
   ]
  },
  {
   "cell_type": "code",
   "execution_count": 11,
   "metadata": {},
   "outputs": [
    {
     "name": "stdout",
     "output_type": "stream",
     "text": [
      "## Data info ##\n",
      "dataset name : GEVAL_solar_vl2_persona data length : (54, 15)\n",
      "## Model info ##\n",
      "\u001b[1mLlamaCpp\u001b[0m\n",
      "Params: {'model_path': './solar/OPEN-SOLAR-KO-10_7B.Q5_K_S.gguf', 'suffix': None, 'max_tokens': 256, 'temperature': 0.9, 'top_p': 0.95, 'logprobs': None, 'echo': False, 'stop_sequences': ['User:', 'Bot:', '\\n', 'ᄏᄏᄏᄏᄏᄏ', 'ᄒᄒᄒᄒᄒᄒ', 'ㅠㅠㅠㅠㅠㅠ', 'ᄋᄋᄋᄋᄋᄋ', 'ㅋㅋㅋㅋㅋㅋ', 'ㅎㅎㅎㅎㅎㅎ', 'ㅠㅠㅠㅠㅠㅠ', 'ㅇㅇㅇㅇㅇㅇ'], 'repeat_penalty': 1.1, 'top_k': 30}\n"
     ]
    },
    {
     "name": "stderr",
     "output_type": "stream",
     "text": [
      "  0%|          | 0/54 [00:00<?, ?it/s]"
     ]
    },
    {
     "name": "stdout",
     "output_type": "stream",
     "text": [
      "3개월째 배우고 있는데, 중급단계를 배우고 있어."
     ]
    },
    {
     "name": "stderr",
     "output_type": "stream",
     "text": [
      "\n",
      "llama_print_timings:        load time =   40091.78 ms\n",
      "llama_print_timings:      sample time =       8.68 ms /    16 runs   (    0.54 ms per token,  1842.47 tokens per second)\n",
      "llama_print_timings: prompt eval time =   40091.52 ms /   495 tokens (   80.99 ms per token,    12.35 tokens per second)\n",
      "llama_print_timings:        eval time =   11104.07 ms /    15 runs   (  740.27 ms per token,     1.35 tokens per second)\n",
      "llama_print_timings:       total time =   51340.88 ms /   510 tokens\n",
      "  2%|▏         | 1/54 [00:51<45:30, 51.53s/it]Llama.generate: prefix-match hit\n"
     ]
    },
    {
     "name": "stdout",
     "output_type": "stream",
     "text": [
      "응, 난 어머니한테 잘 하는 편이야."
     ]
    },
    {
     "name": "stderr",
     "output_type": "stream",
     "text": [
      "\n",
      "llama_print_timings:        load time =   40091.78 ms\n",
      "llama_print_timings:      sample time =       1.68 ms /    11 runs   (    0.15 ms per token,  6563.25 tokens per second)\n",
      "llama_print_timings: prompt eval time =   32896.72 ms /   410 tokens (   80.24 ms per token,    12.46 tokens per second)\n",
      "llama_print_timings:        eval time =    2231.42 ms /    10 runs   (  223.14 ms per token,     4.48 tokens per second)\n",
      "llama_print_timings:       total time =   35170.55 ms /   420 tokens\n",
      "  4%|▎         | 2/54 [01:26<36:26, 42.04s/it]Llama.generate: prefix-match hit\n"
     ]
    },
    {
     "name": "stdout",
     "output_type": "stream",
     "text": [
      "너도 꼭 조심하고!"
     ]
    },
    {
     "name": "stderr",
     "output_type": "stream",
     "text": [
      "\n",
      "llama_print_timings:        load time =   40091.78 ms\n",
      "llama_print_timings:      sample time =       1.12 ms /     7 runs   (    0.16 ms per token,  6233.30 tokens per second)\n",
      "llama_print_timings: prompt eval time =   29166.28 ms /   358 tokens (   81.47 ms per token,    12.27 tokens per second)\n",
      "llama_print_timings:        eval time =    1210.56 ms /     6 runs   (  201.76 ms per token,     4.96 tokens per second)\n",
      "llama_print_timings:       total time =   30400.60 ms /   364 tokens\n",
      "  6%|▌         | 3/54 [01:57<31:13, 36.73s/it]Llama.generate: prefix-match hit\n"
     ]
    },
    {
     "name": "stdout",
     "output_type": "stream",
     "text": [
      "그래, 다음에 또 대화하자~"
     ]
    },
    {
     "name": "stderr",
     "output_type": "stream",
     "text": [
      "\n",
      "llama_print_timings:        load time =   40091.78 ms\n",
      "llama_print_timings:      sample time =       1.15 ms /     8 runs   (    0.14 ms per token,  6956.52 tokens per second)\n",
      "llama_print_timings: prompt eval time =   33101.47 ms /   416 tokens (   79.57 ms per token,    12.57 tokens per second)\n",
      "llama_print_timings:        eval time =    1381.64 ms /     7 runs   (  197.38 ms per token,     5.07 tokens per second)\n",
      "llama_print_timings:       total time =   34507.46 ms /   423 tokens\n",
      "  7%|▋         | 4/54 [02:31<29:52, 35.85s/it]Llama.generate: prefix-match hit\n"
     ]
    },
    {
     "name": "stdout",
     "output_type": "stream",
     "text": [
      "그렇구나. 목관리 잘 해봐야겠다."
     ]
    },
    {
     "name": "stderr",
     "output_type": "stream",
     "text": [
      "\n",
      "llama_print_timings:        load time =   40091.78 ms\n",
      "llama_print_timings:      sample time =       1.60 ms /    11 runs   (    0.15 ms per token,  6875.00 tokens per second)\n",
      "llama_print_timings: prompt eval time =   36155.16 ms /   457 tokens (   79.11 ms per token,    12.64 tokens per second)\n",
      "llama_print_timings:        eval time =    1936.68 ms /    10 runs   (  193.67 ms per token,     5.16 tokens per second)\n",
      "llama_print_timings:       total time =   38125.04 ms /   467 tokens\n",
      "  9%|▉         | 5/54 [03:09<29:57, 36.67s/it]Llama.generate: prefix-match hit\n"
     ]
    },
    {
     "name": "stdout",
     "output_type": "stream",
     "text": [
      "정말? 그럼 나중에 우리 같이 동물의 숲 게임 하자"
     ]
    },
    {
     "name": "stderr",
     "output_type": "stream",
     "text": [
      "\n",
      "llama_print_timings:        load time =   40091.78 ms\n",
      "llama_print_timings:      sample time =       1.84 ms /    12 runs   (    0.15 ms per token,  6507.59 tokens per second)\n",
      "llama_print_timings: prompt eval time =   28672.96 ms /   358 tokens (   80.09 ms per token,    12.49 tokens per second)\n",
      "llama_print_timings:        eval time =    2090.88 ms /    11 runs   (  190.08 ms per token,     5.26 tokens per second)\n",
      "llama_print_timings:       total time =   30800.61 ms /   369 tokens\n",
      " 11%|█         | 6/54 [03:40<27:44, 34.68s/it]Llama.generate: prefix-match hit\n"
     ]
    },
    {
     "name": "stdout",
     "output_type": "stream",
     "text": [
      "스타크래프트하고 있어. 이제 그만할게."
     ]
    },
    {
     "name": "stderr",
     "output_type": "stream",
     "text": [
      "\n",
      "llama_print_timings:        load time =   40091.78 ms\n",
      "llama_print_timings:      sample time =       1.74 ms /    12 runs   (    0.14 ms per token,  6908.46 tokens per second)\n",
      "llama_print_timings: prompt eval time =   29432.96 ms /   377 tokens (   78.07 ms per token,    12.81 tokens per second)\n",
      "llama_print_timings:        eval time =    2140.96 ms /    11 runs   (  194.63 ms per token,     5.14 tokens per second)\n",
      "llama_print_timings:       total time =   31610.27 ms /   388 tokens\n",
      " 13%|█▎        | 7/54 [04:12<26:22, 33.68s/it]Llama.generate: prefix-match hit\n"
     ]
    },
    {
     "name": "stdout",
     "output_type": "stream",
     "text": [
      "그런가? 서울에서는 주로 어디에서 산책을 하니?"
     ]
    },
    {
     "name": "stderr",
     "output_type": "stream",
     "text": [
      "\n",
      "llama_print_timings:        load time =   40091.78 ms\n",
      "llama_print_timings:      sample time =       2.00 ms /    13 runs   (    0.15 ms per token,  6487.03 tokens per second)\n",
      "llama_print_timings: prompt eval time =   33716.10 ms /   417 tokens (   80.85 ms per token,    12.37 tokens per second)\n",
      "llama_print_timings:        eval time =    2337.14 ms /    12 runs   (  194.76 ms per token,     5.13 tokens per second)\n",
      "llama_print_timings:       total time =   36096.93 ms /   429 tokens\n",
      " 15%|█▍        | 8/54 [04:48<26:24, 34.45s/it]Llama.generate: prefix-match hit\n"
     ]
    },
    {
     "name": "stdout",
     "output_type": "stream",
     "text": [
      "그렇네 오늘 날씨가 맑아서 기분이 좋아지는 것 같아."
     ]
    },
    {
     "name": "stderr",
     "output_type": "stream",
     "text": [
      "\n",
      "llama_print_timings:        load time =   40091.78 ms\n",
      "llama_print_timings:      sample time =       2.31 ms /    14 runs   (    0.17 ms per token,  6052.75 tokens per second)\n",
      "llama_print_timings: prompt eval time =   28083.10 ms /   346 tokens (   81.17 ms per token,    12.32 tokens per second)\n",
      "llama_print_timings:        eval time =    2480.73 ms /    13 runs   (  190.83 ms per token,     5.24 tokens per second)\n",
      "llama_print_timings:       total time =   30607.01 ms /   359 tokens\n",
      " 17%|█▋        | 9/54 [05:19<24:56, 33.25s/it]Llama.generate: prefix-match hit\n"
     ]
    },
    {
     "name": "stdout",
     "output_type": "stream",
     "text": [
      "응, 나도 그렇게 생각해."
     ]
    },
    {
     "name": "stderr",
     "output_type": "stream",
     "text": [
      "\n",
      "llama_print_timings:        load time =   40091.78 ms\n",
      "llama_print_timings:      sample time =       0.99 ms /     7 runs   (    0.14 ms per token,  7077.86 tokens per second)\n",
      "llama_print_timings: prompt eval time =   29168.79 ms /   374 tokens (   77.99 ms per token,    12.82 tokens per second)\n",
      "llama_print_timings:        eval time =    1182.00 ms /     6 runs   (  197.00 ms per token,     5.08 tokens per second)\n",
      "llama_print_timings:       total time =   30373.64 ms /   380 tokens\n",
      " 19%|█▊        | 10/54 [05:49<23:44, 32.36s/it]Llama.generate: prefix-match hit\n"
     ]
    },
    {
     "name": "stdout",
     "output_type": "stream",
     "text": [
      "응 여름만 되면 땀이 너무 나서 힘들어. 그래도 좋아하는 음식 먹으면서 더위 이겨내야 해! 내가 좋아하는 음식은 수제버거야."
     ]
    },
    {
     "name": "stderr",
     "output_type": "stream",
     "text": [
      "\n",
      "llama_print_timings:        load time =   40091.78 ms\n",
      "llama_print_timings:      sample time =       4.82 ms /    31 runs   (    0.16 ms per token,  6432.87 tokens per second)\n",
      "llama_print_timings: prompt eval time =   32028.24 ms /   405 tokens (   79.08 ms per token,    12.65 tokens per second)\n",
      "llama_print_timings:        eval time =    5929.42 ms /    30 runs   (  197.65 ms per token,     5.06 tokens per second)\n",
      "llama_print_timings:       total time =   38058.32 ms /   435 tokens\n",
      " 20%|██        | 11/54 [06:27<24:26, 34.11s/it]Llama.generate: prefix-match hit\n"
     ]
    },
    {
     "name": "stdout",
     "output_type": "stream",
     "text": [
      "고마워. 너도 좋은 하루 보내!"
     ]
    },
    {
     "name": "stderr",
     "output_type": "stream",
     "text": [
      "\n",
      "llama_print_timings:        load time =   40091.78 ms\n",
      "llama_print_timings:      sample time =       1.43 ms /    10 runs   (    0.14 ms per token,  6973.50 tokens per second)\n",
      "llama_print_timings: prompt eval time =   33168.17 ms /   434 tokens (   76.42 ms per token,    13.08 tokens per second)\n",
      "llama_print_timings:        eval time =    1857.29 ms /     9 runs   (  206.37 ms per token,     4.85 tokens per second)\n",
      "llama_print_timings:       total time =   35056.27 ms /   443 tokens\n",
      " 22%|██▏       | 12/54 [07:02<24:04, 34.40s/it]Llama.generate: prefix-match hit\n"
     ]
    },
    {
     "name": "stdout",
     "output_type": "stream",
     "text": [
      "응 고마워. 너도 좋은 직업 갖길바래."
     ]
    },
    {
     "name": "stderr",
     "output_type": "stream",
     "text": [
      "\n",
      "llama_print_timings:        load time =   40091.78 ms\n",
      "llama_print_timings:      sample time =       1.88 ms /    13 runs   (    0.14 ms per token,  6907.55 tokens per second)\n",
      "llama_print_timings: prompt eval time =   27814.19 ms /   371 tokens (   74.97 ms per token,    13.34 tokens per second)\n",
      "llama_print_timings:        eval time =    2515.67 ms /    12 runs   (  209.64 ms per token,     4.77 tokens per second)\n",
      "llama_print_timings:       total time =   30373.70 ms /   383 tokens\n",
      " 24%|██▍       | 13/54 [07:33<22:40, 33.18s/it]Llama.generate: prefix-match hit\n"
     ]
    },
    {
     "name": "stdout",
     "output_type": "stream",
     "text": [
      "응, 회계사님 좋은 조언 많이 해줘."
     ]
    },
    {
     "name": "stderr",
     "output_type": "stream",
     "text": [
      "\n",
      "llama_print_timings:        load time =   40091.78 ms\n",
      "llama_print_timings:      sample time =       1.75 ms /    12 runs   (    0.15 ms per token,  6861.06 tokens per second)\n",
      "llama_print_timings: prompt eval time =   28948.84 ms /   397 tokens (   72.92 ms per token,    13.71 tokens per second)\n",
      "llama_print_timings:        eval time =    2291.32 ms /    11 runs   (  208.30 ms per token,     4.80 tokens per second)\n",
      "llama_print_timings:       total time =   31280.89 ms /   408 tokens\n",
      " 26%|██▌       | 14/54 [08:04<21:44, 32.61s/it]Llama.generate: prefix-match hit\n"
     ]
    },
    {
     "name": "stdout",
     "output_type": "stream",
     "text": [
      "응, 너도 잘 지내. 안녕~"
     ]
    },
    {
     "name": "stderr",
     "output_type": "stream",
     "text": [
      "\n",
      "llama_print_timings:        load time =   40091.78 ms\n",
      "llama_print_timings:      sample time =       1.28 ms /     9 runs   (    0.14 ms per token,  7009.35 tokens per second)\n",
      "llama_print_timings: prompt eval time =   28829.29 ms /   390 tokens (   73.92 ms per token,    13.53 tokens per second)\n",
      "llama_print_timings:        eval time =    1634.12 ms /     8 runs   (  204.27 ms per token,     4.90 tokens per second)\n",
      "llama_print_timings:       total time =   30490.71 ms /   398 tokens\n",
      " 28%|██▊       | 15/54 [08:34<20:46, 31.97s/it]Llama.generate: prefix-match hit\n"
     ]
    },
    {
     "name": "stdout",
     "output_type": "stream",
     "text": [
      "요리 좋아하구나. 나는 요리는 잘 못해서 맨날 시켜먹어. 배달비 너무 비싸지 않아?"
     ]
    },
    {
     "name": "stderr",
     "output_type": "stream",
     "text": [
      "\n",
      "llama_print_timings:        load time =   40091.78 ms\n",
      "llama_print_timings:      sample time =       3.31 ms /    23 runs   (    0.14 ms per token,  6957.05 tokens per second)\n",
      "llama_print_timings: prompt eval time =   32478.21 ms /   438 tokens (   74.15 ms per token,    13.49 tokens per second)\n",
      "llama_print_timings:        eval time =    4465.92 ms /    22 runs   (  203.00 ms per token,     4.93 tokens per second)\n",
      "llama_print_timings:       total time =   37024.63 ms /   460 tokens\n",
      " 30%|██▉       | 16/54 [09:11<21:12, 33.50s/it]Llama.generate: prefix-match hit\n"
     ]
    },
    {
     "name": "stdout",
     "output_type": "stream",
     "text": [
      "아니. 전혀 노래는 못하는데 합창단 동아리는 노래부르는 것보다 함께 노래하는 게 좋아서 들어가보고 싶어."
     ]
    },
    {
     "name": "stderr",
     "output_type": "stream",
     "text": [
      "\n",
      "llama_print_timings:        load time =   40091.78 ms\n",
      "llama_print_timings:      sample time =       3.74 ms /    26 runs   (    0.14 ms per token,  6953.73 tokens per second)\n",
      "llama_print_timings: prompt eval time =   31581.57 ms /   430 tokens (   73.45 ms per token,    13.62 tokens per second)\n",
      "llama_print_timings:        eval time =    4953.63 ms /    25 runs   (  198.15 ms per token,     5.05 tokens per second)\n",
      "llama_print_timings:       total time =   36621.74 ms /   455 tokens\n",
      " 31%|███▏      | 17/54 [09:48<21:14, 34.44s/it]Llama.generate: prefix-match hit\n"
     ]
    },
    {
     "name": "stdout",
     "output_type": "stream",
     "text": [
      "나도 이만 가봐야겠어. 좋은 하루 보내"
     ]
    },
    {
     "name": "stderr",
     "output_type": "stream",
     "text": [
      "\n",
      "llama_print_timings:        load time =   40091.78 ms\n",
      "llama_print_timings:      sample time =       1.45 ms /    10 runs   (    0.14 ms per token,  6896.55 tokens per second)\n",
      "llama_print_timings: prompt eval time =   31124.94 ms /   430 tokens (   72.38 ms per token,    13.82 tokens per second)\n",
      "llama_print_timings:        eval time =    1819.44 ms /     9 runs   (  202.16 ms per token,     4.95 tokens per second)\n",
      "llama_print_timings:       total time =   32976.18 ms /   439 tokens\n",
      " 33%|███▎      | 18/54 [10:21<20:24, 34.00s/it]Llama.generate: prefix-match hit\n"
     ]
    },
    {
     "name": "stdout",
     "output_type": "stream",
     "text": [
      "군대가 엄청 멀어서 가는데 시간이 오래 걸리겠네?"
     ]
    },
    {
     "name": "stderr",
     "output_type": "stream",
     "text": [
      "\n",
      "llama_print_timings:        load time =   40091.78 ms\n",
      "llama_print_timings:      sample time =       1.87 ms /    13 runs   (    0.14 ms per token,  6948.16 tokens per second)\n",
      "llama_print_timings: prompt eval time =   27284.27 ms /   369 tokens (   73.94 ms per token,    13.52 tokens per second)\n",
      "llama_print_timings:        eval time =    2330.47 ms /    12 runs   (  194.21 ms per token,     5.15 tokens per second)\n",
      "llama_print_timings:       total time =   29658.86 ms /   381 tokens\n",
      " 35%|███▌      | 19/54 [10:51<19:04, 32.70s/it]Llama.generate: prefix-match hit\n"
     ]
    },
    {
     "name": "stdout",
     "output_type": "stream",
     "text": [
      "응, 친구가 군인이어서 면회도 다녀왔어."
     ]
    },
    {
     "name": "stderr",
     "output_type": "stream",
     "text": [
      "\n",
      "llama_print_timings:        load time =   40091.78 ms\n",
      "llama_print_timings:      sample time =       2.19 ms /    15 runs   (    0.15 ms per token,  6846.19 tokens per second)\n",
      "llama_print_timings: prompt eval time =   26766.45 ms /   358 tokens (   74.77 ms per token,    13.37 tokens per second)\n",
      "llama_print_timings:        eval time =    2765.55 ms /    14 runs   (  197.54 ms per token,     5.06 tokens per second)\n",
      "llama_print_timings:       total time =   29582.95 ms /   372 tokens\n",
      " 37%|███▋      | 20/54 [11:20<18:00, 31.77s/it]Llama.generate: prefix-match hit\n"
     ]
    },
    {
     "name": "stdout",
     "output_type": "stream",
     "text": [
      "아니 필러는 아직 무서워. 너는 맞아봤어?"
     ]
    },
    {
     "name": "stderr",
     "output_type": "stream",
     "text": [
      "\n",
      "llama_print_timings:        load time =   40091.78 ms\n",
      "llama_print_timings:      sample time =       2.07 ms /    13 runs   (    0.16 ms per token,  6280.19 tokens per second)\n",
      "llama_print_timings: prompt eval time =   32725.47 ms /   427 tokens (   76.64 ms per token,    13.05 tokens per second)\n",
      "llama_print_timings:        eval time =    2704.05 ms /    12 runs   (  225.34 ms per token,     4.44 tokens per second)\n",
      "llama_print_timings:       total time =   35476.70 ms /   439 tokens\n",
      " 39%|███▉      | 21/54 [11:56<18:05, 32.88s/it]Llama.generate: prefix-match hit\n"
     ]
    },
    {
     "name": "stdout",
     "output_type": "stream",
     "text": [
      "그러면 너는 외모에 자신감이 없겠네."
     ]
    },
    {
     "name": "stderr",
     "output_type": "stream",
     "text": [
      "\n",
      "llama_print_timings:        load time =   40091.78 ms\n",
      "llama_print_timings:      sample time =       1.76 ms /    11 runs   (    0.16 ms per token,  6235.83 tokens per second)\n",
      "llama_print_timings: prompt eval time =   31335.01 ms /   397 tokens (   78.93 ms per token,    12.67 tokens per second)\n",
      "llama_print_timings:        eval time =    2056.92 ms /    10 runs   (  205.69 ms per token,     4.86 tokens per second)\n",
      "llama_print_timings:       total time =   33684.09 ms /   407 tokens\n",
      " 41%|████      | 22/54 [12:29<17:40, 33.13s/it]Llama.generate: prefix-match hit\n"
     ]
    },
    {
     "name": "stdout",
     "output_type": "stream",
     "text": [
      "잘 마시네. 나도 술 좋아하는데 다음에 또 연락하자"
     ]
    },
    {
     "name": "stderr",
     "output_type": "stream",
     "text": [
      "\n",
      "llama_print_timings:        load time =   40091.78 ms\n",
      "llama_print_timings:      sample time =       1.87 ms /    13 runs   (    0.14 ms per token,  6940.74 tokens per second)\n",
      "llama_print_timings: prompt eval time =   29425.99 ms /   383 tokens (   76.83 ms per token,    13.02 tokens per second)\n",
      "llama_print_timings:        eval time =    2394.99 ms /    12 runs   (  199.58 ms per token,     5.01 tokens per second)\n",
      "llama_print_timings:       total time =   31866.91 ms /   395 tokens\n",
      " 43%|████▎     | 23/54 [13:01<16:55, 32.75s/it]Llama.generate: prefix-match hit\n"
     ]
    },
    {
     "name": "stdout",
     "output_type": "stream",
     "text": [
      "그래, 잘 갔다 와. 다음에 또 대화하자. 안녕!"
     ]
    },
    {
     "name": "stderr",
     "output_type": "stream",
     "text": [
      "\n",
      "llama_print_timings:        load time =   40091.78 ms\n",
      "llama_print_timings:      sample time =       1.97 ms /    14 runs   (    0.14 ms per token,  7113.82 tokens per second)\n",
      "llama_print_timings: prompt eval time =   26935.77 ms /   370 tokens (   72.80 ms per token,    13.74 tokens per second)\n",
      "llama_print_timings:        eval time =    2543.82 ms /    13 runs   (  195.68 ms per token,     5.11 tokens per second)\n",
      "llama_print_timings:       total time =   29520.88 ms /   383 tokens\n",
      " 44%|████▍     | 24/54 [13:31<15:53, 31.79s/it]Llama.generate: prefix-match hit\n"
     ]
    },
    {
     "name": "stdout",
     "output_type": "stream",
     "text": [
      "처음 배우는 오보에가 어렵지는 않아?"
     ]
    },
    {
     "name": "stderr",
     "output_type": "stream",
     "text": [
      "\n",
      "llama_print_timings:        load time =   40091.78 ms\n",
      "llama_print_timings:      sample time =       1.56 ms /    11 runs   (    0.14 ms per token,  7055.81 tokens per second)\n",
      "llama_print_timings: prompt eval time =   30706.82 ms /   425 tokens (   72.25 ms per token,    13.84 tokens per second)\n",
      "llama_print_timings:        eval time =    1962.91 ms /    10 runs   (  196.29 ms per token,     5.09 tokens per second)\n",
      "llama_print_timings:       total time =   32708.45 ms /   435 tokens\n",
      " 46%|████▋     | 25/54 [14:03<15:29, 32.06s/it]Llama.generate: prefix-match hit\n"
     ]
    },
    {
     "name": "stdout",
     "output_type": "stream",
     "text": [
      "만화도 좋아하지! 너는 어떤 만화 좋아하는데?"
     ]
    },
    {
     "name": "stderr",
     "output_type": "stream",
     "text": [
      "\n",
      "llama_print_timings:        load time =   40091.78 ms\n",
      "llama_print_timings:      sample time =       1.83 ms /    13 runs   (    0.14 ms per token,  7084.47 tokens per second)\n",
      "llama_print_timings: prompt eval time =   27831.17 ms /   379 tokens (   73.43 ms per token,    13.62 tokens per second)\n",
      "llama_print_timings:        eval time =    2318.91 ms /    12 runs   (  193.24 ms per token,     5.17 tokens per second)\n",
      "llama_print_timings:       total time =   30191.47 ms /   391 tokens\n",
      " 48%|████▊     | 26/54 [14:34<14:42, 31.50s/it]Llama.generate: prefix-match hit\n"
     ]
    },
    {
     "name": "stdout",
     "output_type": "stream",
     "text": [
      "그러면 춤 잘 추는 친구들 영상 봐봐. 재즈도 한번 봐봐. 좋아할거야."
     ]
    },
    {
     "name": "stderr",
     "output_type": "stream",
     "text": [
      "\n",
      "llama_print_timings:        load time =   40091.78 ms\n",
      "llama_print_timings:      sample time =       3.44 ms /    24 runs   (    0.14 ms per token,  6986.90 tokens per second)\n",
      "llama_print_timings: prompt eval time =   29859.64 ms /   408 tokens (   73.19 ms per token,    13.66 tokens per second)\n",
      "llama_print_timings:        eval time =    4439.82 ms /    23 runs   (  193.04 ms per token,     5.18 tokens per second)\n",
      "llama_print_timings:       total time =   34391.21 ms /   431 tokens\n",
      " 50%|█████     | 27/54 [15:08<14:34, 32.37s/it]Llama.generate: prefix-match hit\n"
     ]
    },
    {
     "name": "stdout",
     "output_type": "stream",
     "text": [
      "그냥 일상 뉴스였지. 요즘 뉴스에서 연예인들 열애설만 자주 나오는거 같아."
     ]
    },
    {
     "name": "stderr",
     "output_type": "stream",
     "text": [
      "\n",
      "llama_print_timings:        load time =   40091.78 ms\n",
      "llama_print_timings:      sample time =       2.70 ms /    19 runs   (    0.14 ms per token,  7044.86 tokens per second)\n",
      "llama_print_timings: prompt eval time =   24540.12 ms /   339 tokens (   72.39 ms per token,    13.81 tokens per second)\n",
      "llama_print_timings:        eval time =    3469.27 ms /    18 runs   (  192.74 ms per token,     5.19 tokens per second)\n",
      "llama_print_timings:       total time =   28070.96 ms /   357 tokens\n",
      " 52%|█████▏    | 28/54 [15:36<13:28, 31.08s/it]Llama.generate: prefix-match hit\n"
     ]
    },
    {
     "name": "stdout",
     "output_type": "stream",
     "text": [
      "과일마다 다르지만 한 바구니에 만원이면 살 수 있어."
     ]
    },
    {
     "name": "stderr",
     "output_type": "stream",
     "text": [
      "\n",
      "llama_print_timings:        load time =   40091.78 ms\n",
      "llama_print_timings:      sample time =       2.27 ms /    16 runs   (    0.14 ms per token,  7045.35 tokens per second)\n",
      "llama_print_timings: prompt eval time =   30070.96 ms /   418 tokens (   71.94 ms per token,    13.90 tokens per second)\n",
      "llama_print_timings:        eval time =    2904.56 ms /    15 runs   (  193.64 ms per token,     5.16 tokens per second)\n",
      "llama_print_timings:       total time =   33027.53 ms /   433 tokens\n",
      " 54%|█████▎    | 29/54 [16:09<13:11, 31.67s/it]Llama.generate: prefix-match hit\n"
     ]
    },
    {
     "name": "stdout",
     "output_type": "stream",
     "text": [
      "지금 오보에 연주 하고 있어. 음악 좋아해?"
     ]
    },
    {
     "name": "stderr",
     "output_type": "stream",
     "text": [
      "\n",
      "llama_print_timings:        load time =   40091.78 ms\n",
      "llama_print_timings:      sample time =       1.91 ms /    13 runs   (    0.15 ms per token,  6792.06 tokens per second)\n",
      "llama_print_timings: prompt eval time =   26908.14 ms /   369 tokens (   72.92 ms per token,    13.71 tokens per second)\n",
      "llama_print_timings:        eval time =    2314.70 ms /    12 runs   (  192.89 ms per token,     5.18 tokens per second)\n",
      "llama_print_timings:       total time =   29262.82 ms /   381 tokens\n",
      " 56%|█████▌    | 30/54 [16:38<12:22, 30.95s/it]Llama.generate: prefix-match hit\n"
     ]
    },
    {
     "name": "stdout",
     "output_type": "stream",
     "text": [
      "고맙긴! 그러면 내가 다음에 너에게 선물을 하나 보내줄게!"
     ]
    },
    {
     "name": "stderr",
     "output_type": "stream",
     "text": [
      "\n",
      "llama_print_timings:        load time =   40091.78 ms\n",
      "llama_print_timings:      sample time =       2.44 ms /    17 runs   (    0.14 ms per token,  6972.93 tokens per second)\n",
      "llama_print_timings: prompt eval time =   28291.90 ms /   391 tokens (   72.36 ms per token,    13.82 tokens per second)\n",
      "llama_print_timings:        eval time =    3132.31 ms /    16 runs   (  195.77 ms per token,     5.11 tokens per second)\n",
      "llama_print_timings:       total time =   31476.46 ms /   407 tokens\n",
      " 57%|█████▋    | 31/54 [17:10<11:55, 31.11s/it]Llama.generate: prefix-match hit\n"
     ]
    },
    {
     "name": "stdout",
     "output_type": "stream",
     "text": [
      "나 필라테스 엄청 자주 다녀서 그런지 잘 버티는 거 같아. 너는 오늘 뭐해?"
     ]
    },
    {
     "name": "stderr",
     "output_type": "stream",
     "text": [
      "\n",
      "llama_print_timings:        load time =   40091.78 ms\n",
      "llama_print_timings:      sample time =       3.18 ms /    22 runs   (    0.14 ms per token,  6916.06 tokens per second)\n",
      "llama_print_timings: prompt eval time =   26228.64 ms /   360 tokens (   72.86 ms per token,    13.73 tokens per second)\n",
      "llama_print_timings:        eval time =    4238.25 ms /    21 runs   (  201.82 ms per token,     4.95 tokens per second)\n",
      "llama_print_timings:       total time =   30536.43 ms /   381 tokens\n",
      " 59%|█████▉    | 32/54 [17:41<11:20, 30.94s/it]Llama.generate: prefix-match hit\n"
     ]
    },
    {
     "name": "stdout",
     "output_type": "stream",
     "text": [
      "어제는 친구들이 다 모여 오랜만에 놀았어. 다들 반가웠어."
     ]
    },
    {
     "name": "stderr",
     "output_type": "stream",
     "text": [
      "\n",
      "llama_print_timings:        load time =   40091.78 ms\n",
      "llama_print_timings:      sample time =       2.55 ms /    18 runs   (    0.14 ms per token,  7053.29 tokens per second)\n",
      "llama_print_timings: prompt eval time =   30042.98 ms /   419 tokens (   71.70 ms per token,    13.95 tokens per second)\n",
      "llama_print_timings:        eval time =    3286.74 ms /    17 runs   (  193.34 ms per token,     5.17 tokens per second)\n",
      "llama_print_timings:       total time =   33412.46 ms /   436 tokens\n",
      " 61%|██████    | 33/54 [18:14<11:05, 31.68s/it]Llama.generate: prefix-match hit\n"
     ]
    },
    {
     "name": "stdout",
     "output_type": "stream",
     "text": [
      "응응, 면접 준비중인데 잘 안되고 있어."
     ]
    },
    {
     "name": "stderr",
     "output_type": "stream",
     "text": [
      "\n",
      "llama_print_timings:        load time =   40091.78 ms\n",
      "llama_print_timings:      sample time =       1.65 ms /    11 runs   (    0.15 ms per token,  6654.57 tokens per second)\n",
      "llama_print_timings: prompt eval time =   27497.69 ms /   381 tokens (   72.17 ms per token,    13.86 tokens per second)\n",
      "llama_print_timings:        eval time =    1980.49 ms /    10 runs   (  198.05 ms per token,     5.05 tokens per second)\n",
      "llama_print_timings:       total time =   29512.18 ms /   391 tokens\n",
      " 63%|██████▎   | 34/54 [18:43<10:20, 31.03s/it]Llama.generate: prefix-match hit\n"
     ]
    },
    {
     "name": "stdout",
     "output_type": "stream",
     "text": [
      "멋있다. 공연이 자주 있니?"
     ]
    },
    {
     "name": "stderr",
     "output_type": "stream",
     "text": [
      "\n",
      "llama_print_timings:        load time =   40091.78 ms\n",
      "llama_print_timings:      sample time =       1.55 ms /    10 runs   (    0.15 ms per token,  6451.61 tokens per second)\n",
      "llama_print_timings: prompt eval time =   27622.71 ms /   380 tokens (   72.69 ms per token,    13.76 tokens per second)\n",
      "llama_print_timings:        eval time =    1843.45 ms /     9 runs   (  204.83 ms per token,     4.88 tokens per second)\n",
      "llama_print_timings:       total time =   29498.58 ms /   389 tokens\n",
      " 65%|██████▍   | 35/54 [19:13<09:40, 30.58s/it]Llama.generate: prefix-match hit\n"
     ]
    },
    {
     "name": "stdout",
     "output_type": "stream",
     "text": [
      "오늘 하루도 고생 많았어. 다음에 또 대화 나눠!"
     ]
    },
    {
     "name": "stderr",
     "output_type": "stream",
     "text": [
      "\n",
      "llama_print_timings:        load time =   40091.78 ms\n",
      "llama_print_timings:      sample time =       2.06 ms /    14 runs   (    0.15 ms per token,  6802.72 tokens per second)\n",
      "llama_print_timings: prompt eval time =   28023.81 ms /   386 tokens (   72.60 ms per token,    13.77 tokens per second)\n",
      "llama_print_timings:        eval time =    2512.65 ms /    13 runs   (  193.28 ms per token,     5.17 tokens per second)\n",
      "llama_print_timings:       total time =   30580.58 ms /   399 tokens\n",
      " 67%|██████▋   | 36/54 [19:44<09:10, 30.58s/it]Llama.generate: prefix-match hit\n"
     ]
    },
    {
     "name": "stdout",
     "output_type": "stream",
     "text": [
      "동남아 음식은 한 번 먹어본 적 있는데 너무 내 취향에 맞지 않았어."
     ]
    },
    {
     "name": "stderr",
     "output_type": "stream",
     "text": [
      "\n",
      "llama_print_timings:        load time =   40091.78 ms\n",
      "llama_print_timings:      sample time =       2.96 ms /    21 runs   (    0.14 ms per token,  7099.39 tokens per second)\n",
      "llama_print_timings: prompt eval time =   31422.79 ms /   431 tokens (   72.91 ms per token,    13.72 tokens per second)\n",
      "llama_print_timings:        eval time =    3930.41 ms /    20 runs   (  196.52 ms per token,     5.09 tokens per second)\n",
      "llama_print_timings:       total time =   35420.62 ms /   451 tokens\n",
      " 69%|██████▊   | 37/54 [20:19<09:04, 32.03s/it]Llama.generate: prefix-match hit\n"
     ]
    },
    {
     "name": "stdout",
     "output_type": "stream",
     "text": [
      "나? 요즘 첼로 연주를 배우고 있어서 첼로 연습하고 있었어."
     ]
    },
    {
     "name": "stderr",
     "output_type": "stream",
     "text": [
      "\n",
      "llama_print_timings:        load time =   40091.78 ms\n",
      "llama_print_timings:      sample time =       2.57 ms /    18 runs   (    0.14 ms per token,  6995.72 tokens per second)\n",
      "llama_print_timings: prompt eval time =   29221.92 ms /   405 tokens (   72.15 ms per token,    13.86 tokens per second)\n",
      "llama_print_timings:        eval time =    3356.57 ms /    17 runs   (  197.44 ms per token,     5.06 tokens per second)\n",
      "llama_print_timings:       total time =   32634.41 ms /   422 tokens\n",
      " 70%|███████   | 38/54 [20:52<08:35, 32.22s/it]Llama.generate: prefix-match hit\n"
     ]
    },
    {
     "name": "stdout",
     "output_type": "stream",
     "text": [
      "응, 나도 그래야지."
     ]
    },
    {
     "name": "stderr",
     "output_type": "stream",
     "text": [
      "\n",
      "llama_print_timings:        load time =   40091.78 ms\n",
      "llama_print_timings:      sample time =       1.02 ms /     7 runs   (    0.15 ms per token,  6896.55 tokens per second)\n",
      "llama_print_timings: prompt eval time =   27257.14 ms /   370 tokens (   73.67 ms per token,    13.57 tokens per second)\n",
      "llama_print_timings:        eval time =    1155.13 ms /     6 runs   (  192.52 ms per token,     5.19 tokens per second)\n",
      "llama_print_timings:       total time =   28433.41 ms /   376 tokens\n",
      " 72%|███████▏  | 39/54 [21:20<07:46, 31.08s/it]Llama.generate: prefix-match hit\n"
     ]
    },
    {
     "name": "stdout",
     "output_type": "stream",
     "text": [
      "미팅은 정말 추억이야. 나도 대학생때 많이 해봤어."
     ]
    },
    {
     "name": "stderr",
     "output_type": "stream",
     "text": [
      "\n",
      "llama_print_timings:        load time =   40091.78 ms\n",
      "llama_print_timings:      sample time =       2.29 ms /    16 runs   (    0.14 ms per token,  6980.80 tokens per second)\n",
      "llama_print_timings: prompt eval time =   28936.36 ms /   400 tokens (   72.34 ms per token,    13.82 tokens per second)\n",
      "llama_print_timings:        eval time =    3017.36 ms /    15 runs   (  201.16 ms per token,     4.97 tokens per second)\n",
      "llama_print_timings:       total time =   32004.16 ms /   415 tokens\n",
      " 74%|███████▍  | 40/54 [21:52<07:19, 31.36s/it]Llama.generate: prefix-match hit\n"
     ]
    },
    {
     "name": "stdout",
     "output_type": "stream",
     "text": [
      "그래도 같이 있는 사람은 필요하지 않나?"
     ]
    },
    {
     "name": "stderr",
     "output_type": "stream",
     "text": [
      "\n",
      "llama_print_timings:        load time =   40091.78 ms\n",
      "llama_print_timings:      sample time =       1.28 ms /     9 runs   (    0.14 ms per token,  7025.76 tokens per second)\n",
      "llama_print_timings: prompt eval time =   28819.66 ms /   399 tokens (   72.23 ms per token,    13.84 tokens per second)\n",
      "llama_print_timings:        eval time =    1568.15 ms /     8 runs   (  196.02 ms per token,     5.10 tokens per second)\n",
      "llama_print_timings:       total time =   30414.26 ms /   407 tokens\n",
      " 76%|███████▌  | 41/54 [22:22<06:44, 31.08s/it]Llama.generate: prefix-match hit\n"
     ]
    },
    {
     "name": "stdout",
     "output_type": "stream",
     "text": [
      "그래? 정말 대단한 것 같아. 나는 아직 그런 꿈을 가지지 못했는데 너는 이루었네."
     ]
    },
    {
     "name": "stderr",
     "output_type": "stream",
     "text": [
      "\n",
      "llama_print_timings:        load time =   40091.78 ms\n",
      "llama_print_timings:      sample time =       2.89 ms /    20 runs   (    0.14 ms per token,  6913.24 tokens per second)\n",
      "llama_print_timings: prompt eval time =   26930.11 ms /   371 tokens (   72.59 ms per token,    13.78 tokens per second)\n",
      "llama_print_timings:        eval time =    3667.83 ms /    19 runs   (  193.04 ms per token,     5.18 tokens per second)\n",
      "llama_print_timings:       total time =   30662.44 ms /   390 tokens\n",
      " 78%|███████▊  | 42/54 [22:53<06:11, 30.96s/it]Llama.generate: prefix-match hit\n"
     ]
    },
    {
     "name": "stdout",
     "output_type": "stream",
     "text": [
      "나도 저녁에 약속이 없어서 함께 식사 할 수 있을 것 같아."
     ]
    },
    {
     "name": "stderr",
     "output_type": "stream",
     "text": [
      "\n",
      "llama_print_timings:        load time =   40091.78 ms\n",
      "llama_print_timings:      sample time =       2.13 ms /    15 runs   (    0.14 ms per token,  7045.56 tokens per second)\n",
      "llama_print_timings: prompt eval time =   29868.75 ms /   414 tokens (   72.15 ms per token,    13.86 tokens per second)\n",
      "llama_print_timings:        eval time =    2689.88 ms /    14 runs   (  192.13 ms per token,     5.20 tokens per second)\n",
      "llama_print_timings:       total time =   32606.70 ms /   428 tokens\n",
      " 80%|███████▉  | 43/54 [23:26<05:45, 31.45s/it]Llama.generate: prefix-match hit\n"
     ]
    },
    {
     "name": "stdout",
     "output_type": "stream",
     "text": [
      "그러면 나는 주말에 첼로 연주를 배우러 가야겠어. 바이올린보다는 첼로가 나한테 더 어울리거든."
     ]
    },
    {
     "name": "stderr",
     "output_type": "stream",
     "text": [
      "\n",
      "llama_print_timings:        load time =   40091.78 ms\n",
      "llama_print_timings:      sample time =       3.97 ms /    28 runs   (    0.14 ms per token,  7052.90 tokens per second)\n",
      "llama_print_timings: prompt eval time =   30512.92 ms /   424 tokens (   71.96 ms per token,    13.90 tokens per second)\n",
      "llama_print_timings:        eval time =    5231.13 ms /    27 runs   (  193.75 ms per token,     5.16 tokens per second)\n",
      "llama_print_timings:       total time =   35830.45 ms /   451 tokens\n",
      " 81%|████████▏ | 44/54 [24:02<05:27, 32.77s/it]Llama.generate: prefix-match hit\n"
     ]
    },
    {
     "name": "stdout",
     "output_type": "stream",
     "text": [
      "내가 직접해보려고 하는데, 벽지를 바꾸는게 좋을 것 같아. 그리고 천장도 도배도 해야해서 조금 걱정돼."
     ]
    },
    {
     "name": "stderr",
     "output_type": "stream",
     "text": [
      "\n",
      "llama_print_timings:        load time =   40091.78 ms\n",
      "llama_print_timings:      sample time =       3.90 ms /    27 runs   (    0.14 ms per token,  6919.53 tokens per second)\n",
      "llama_print_timings: prompt eval time =   29206.26 ms /   400 tokens (   73.02 ms per token,    13.70 tokens per second)\n",
      "llama_print_timings:        eval time =    5120.68 ms /    26 runs   (  196.95 ms per token,     5.08 tokens per second)\n",
      "llama_print_timings:       total time =   34410.68 ms /   426 tokens\n",
      " 83%|████████▎ | 45/54 [24:36<04:59, 33.26s/it]Llama.generate: prefix-match hit\n"
     ]
    },
    {
     "name": "stdout",
     "output_type": "stream",
     "text": [
      "그렇구나. 근데 나 @브랜드명1@에서 알바하는데! 혹시 거기 자주 가?"
     ]
    },
    {
     "name": "stderr",
     "output_type": "stream",
     "text": [
      "\n",
      "llama_print_timings:        load time =   40091.78 ms\n",
      "llama_print_timings:      sample time =       2.81 ms /    20 runs   (    0.14 ms per token,  7117.44 tokens per second)\n",
      "llama_print_timings: prompt eval time =   26165.22 ms /   360 tokens (   72.68 ms per token,    13.76 tokens per second)\n",
      "llama_print_timings:        eval time =    3635.24 ms /    19 runs   (  191.33 ms per token,     5.23 tokens per second)\n",
      "llama_print_timings:       total time =   29864.91 ms /   379 tokens\n",
      " 85%|████████▌ | 46/54 [25:06<04:17, 32.25s/it]Llama.generate: prefix-match hit\n"
     ]
    },
    {
     "name": "stdout",
     "output_type": "stream",
     "text": [
      "수원이야. 역세권이라 교통은 편리할 것 같더라고."
     ]
    },
    {
     "name": "stderr",
     "output_type": "stream",
     "text": [
      "\n",
      "llama_print_timings:        load time =   40091.78 ms\n",
      "llama_print_timings:      sample time =       2.44 ms /    17 runs   (    0.14 ms per token,  6978.65 tokens per second)\n",
      "llama_print_timings: prompt eval time =   28777.64 ms /   397 tokens (   72.49 ms per token,    13.80 tokens per second)\n",
      "llama_print_timings:        eval time =    3085.57 ms /    16 runs   (  192.85 ms per token,     5.19 tokens per second)\n",
      "llama_print_timings:       total time =   31915.06 ms /   413 tokens\n",
      " 87%|████████▋ | 47/54 [25:38<03:45, 32.15s/it]Llama.generate: prefix-match hit\n"
     ]
    },
    {
     "name": "stdout",
     "output_type": "stream",
     "text": [
      "이번에 파리에서 열리는 패션쇼는 어떤 모델이 서게 될지 궁금하네."
     ]
    },
    {
     "name": "stderr",
     "output_type": "stream",
     "text": [
      "\n",
      "llama_print_timings:        load time =   40091.78 ms\n",
      "llama_print_timings:      sample time =       2.59 ms /    18 runs   (    0.14 ms per token,  6952.49 tokens per second)\n",
      "llama_print_timings: prompt eval time =   34209.79 ms /   470 tokens (   72.79 ms per token,    13.74 tokens per second)\n",
      "llama_print_timings:        eval time =    3332.59 ms /    17 runs   (  196.03 ms per token,     5.10 tokens per second)\n",
      "llama_print_timings:       total time =   37601.48 ms /   487 tokens\n",
      " 89%|████████▉ | 48/54 [26:15<03:22, 33.79s/it]Llama.generate: prefix-match hit\n"
     ]
    },
    {
     "name": "stdout",
     "output_type": "stream",
     "text": [
      "하나는 유명인의 이름을 딴 브랜드 출시이고, 다른 하나는 유명인의 이름을 딴 상품 출시야. 마지막으로 유명인 또는 브랜드의 팬시템 출시도 콜라보의 한 종류야."
     ]
    },
    {
     "name": "stderr",
     "output_type": "stream",
     "text": [
      "\n",
      "llama_print_timings:        load time =   40091.78 ms\n",
      "llama_print_timings:      sample time =       5.57 ms /    39 runs   (    0.14 ms per token,  7004.31 tokens per second)\n",
      "llama_print_timings: prompt eval time =   31026.75 ms /   430 tokens (   72.16 ms per token,    13.86 tokens per second)\n",
      "llama_print_timings:        eval time =    7464.76 ms /    38 runs   (  196.44 ms per token,     5.09 tokens per second)\n",
      "llama_print_timings:       total time =   38620.89 ms /   468 tokens\n",
      " 91%|█████████ | 49/54 [26:54<02:56, 35.24s/it]Llama.generate: prefix-match hit\n"
     ]
    },
    {
     "name": "stdout",
     "output_type": "stream",
     "text": [
      "어려워서 아직 동아리에 가입은 못했어. 그냥 같이 관심사가 있어서 얘기를 나누고 있어."
     ]
    },
    {
     "name": "stderr",
     "output_type": "stream",
     "text": [
      "\n",
      "llama_print_timings:        load time =   40091.78 ms\n",
      "llama_print_timings:      sample time =       3.13 ms /    22 runs   (    0.14 ms per token,  7031.00 tokens per second)\n",
      "llama_print_timings: prompt eval time =   30427.87 ms /   421 tokens (   72.28 ms per token,    13.84 tokens per second)\n",
      "llama_print_timings:        eval time =    4060.43 ms /    21 runs   (  193.35 ms per token,     5.17 tokens per second)\n",
      "llama_print_timings:       total time =   34555.24 ms /   442 tokens\n",
      " 93%|█████████▎| 50/54 [27:29<02:20, 35.04s/it]Llama.generate: prefix-match hit\n"
     ]
    },
    {
     "name": "stdout",
     "output_type": "stream",
     "text": [
      "나중에 연락할게. 안녕."
     ]
    },
    {
     "name": "stderr",
     "output_type": "stream",
     "text": [
      "\n",
      "llama_print_timings:        load time =   40091.78 ms\n",
      "llama_print_timings:      sample time =       1.13 ms /     8 runs   (    0.14 ms per token,  7085.92 tokens per second)\n",
      "llama_print_timings: prompt eval time =   27768.12 ms /   382 tokens (   72.69 ms per token,    13.76 tokens per second)\n",
      "llama_print_timings:        eval time =    1363.22 ms /     7 runs   (  194.75 ms per token,     5.13 tokens per second)\n",
      "llama_print_timings:       total time =   29154.53 ms /   389 tokens\n",
      " 94%|█████████▍| 51/54 [27:58<01:39, 33.27s/it]Llama.generate: prefix-match hit\n"
     ]
    },
    {
     "name": "stdout",
     "output_type": "stream",
     "text": [
      "아 그래? 그럼 내가 추천해주는 다른 노래도 들어봐. 이건 다른 장르야."
     ]
    },
    {
     "name": "stderr",
     "output_type": "stream",
     "text": [
      "\n",
      "llama_print_timings:        load time =   40091.78 ms\n",
      "llama_print_timings:      sample time =       2.69 ms /    19 runs   (    0.14 ms per token,  7052.71 tokens per second)\n",
      "llama_print_timings: prompt eval time =   29087.62 ms /   401 tokens (   72.54 ms per token,    13.79 tokens per second)\n",
      "llama_print_timings:        eval time =    3472.08 ms /    18 runs   (  192.89 ms per token,     5.18 tokens per second)\n",
      "llama_print_timings:       total time =   32617.18 ms /   419 tokens\n",
      " 96%|█████████▋| 52/54 [28:30<01:06, 33.08s/it]Llama.generate: prefix-match hit\n"
     ]
    },
    {
     "name": "stdout",
     "output_type": "stream",
     "text": [
      "아하 그렇구나. 나는 전도사가 종교쪽 직업인 줄만 알았지, IT쪽이 있다는 건 몰랐네."
     ]
    },
    {
     "name": "stderr",
     "output_type": "stream",
     "text": [
      "\n",
      "llama_print_timings:        load time =   40091.78 ms\n",
      "llama_print_timings:      sample time =       3.69 ms /    26 runs   (    0.14 ms per token,  7049.89 tokens per second)\n",
      "llama_print_timings: prompt eval time =   29413.81 ms /   409 tokens (   71.92 ms per token,    13.91 tokens per second)\n",
      "llama_print_timings:        eval time =    4873.35 ms /    25 runs   (  194.93 ms per token,     5.13 tokens per second)\n",
      "llama_print_timings:       total time =   34367.10 ms /   434 tokens\n",
      " 98%|█████████▊| 53/54 [29:05<00:33, 33.47s/it]Llama.generate: prefix-match hit\n"
     ]
    },
    {
     "name": "stdout",
     "output_type": "stream",
     "text": [
      "지금 일 시작했는데 퇴근하고 연락할게."
     ]
    },
    {
     "name": "stderr",
     "output_type": "stream",
     "text": [
      "\n",
      "llama_print_timings:        load time =   40091.78 ms\n",
      "llama_print_timings:      sample time =       1.42 ms /    10 runs   (    0.14 ms per token,  7042.25 tokens per second)\n",
      "llama_print_timings: prompt eval time =   29741.38 ms /   412 tokens (   72.19 ms per token,    13.85 tokens per second)\n",
      "llama_print_timings:        eval time =    1731.81 ms /     9 runs   (  192.42 ms per token,     5.20 tokens per second)\n",
      "llama_print_timings:       total time =   31505.43 ms /   421 tokens\n",
      "100%|██████████| 54/54 [29:36<00:00, 32.90s/it]"
     ]
    },
    {
     "name": "stdout",
     "output_type": "stream",
     "text": [
      "## JSON Converted in ./korean_msc/preprocessing as GEVAL_solar_vl2_persona.json##\n",
      "[{'response': '3개월째 배우고 있는데, 중급단계를 배우고 있어.', 'user_persona': ['나는 고양이 두 마리를 중성화 수술시키고 집으로 가는 길이다', '나는 친구랑 일식 약속이 잡혀있다'], 'bot_persona': ['나는 여자이다.', '나는 20대이다.', '나는 고양이 두 마리를 키운다.', '나는 밴드부 동아리에 관심이 없다.', '나는 일식을 싫어한다.'], 'prev_dialog': ['User:학원 수학 선생님이셨구나. 나도 일렉기타를 배우고 싶은데, 밴드부 동아리에는 관심이 없고 학원을 알아보려고 하는데 학원비용이 많이 비쌀까?', 'Bot:그렇게 비싸진 않을거야. 20만원 안에서 해결할 수 있을거야.', 'User:그정도면 아르바이트해서 모을 수 있는 금액이네. 첼로 연주 배운지는 얼마나 됐어?', 'Bot:3개월째 배우고 있는데, 중급단계를 배우고 있어.', 'User:빠르게 습득한 거 아니야? 나는 고양이 케어하러 가야되서 다음에 연락할게.']}, {'response': '응, 난 어머니한테 잘 하는 편이야.', 'user_persona': ['나의 형은 자동차 정비원이다'], 'bot_persona': ['나는 남자이다.', '나는 20대이다.', '나의 거주지는 대구이다.', '나는 워드프로세서 자격증을 준비한다.', '나는 단소 연주를 배우고 싶다.', '나는 요즘 어머니에 대해서 관심을 갖고 공부한다.'], 'prev_dialog': ['User:네 어머니께는 죄송하지만, 그건 다 옛날 말이야. 요즘 남자는 180cm를 못 넘기면 사람 취급도 못 받는다고 하더라고.', 'Bot:아 그렇군. 그런 말은 다소 너무하다는 생각도 가끔 들어.', 'User:그래서 더 이악물고 운동하는 것 같기도해.', 'Bot:화이팅이야. 어머니가 좀 다소 옛날분이셔서 그런 생각을 하셨나봐.', 'User:괜찮아. 너는 어머니하고 사이 좋아?']}, {'response': '너도 꼭 조심하고!', 'user_persona': ['나는 미국으로 어학연수를 간다'], 'bot_persona': ['나는 남자이다.', '나는 20대이다.', '나는 커피를 최근에 끊었다.', '나는 2년 전에 이사를 했다.', '나는 매운 음식을 좋아한다.'], 'prev_dialog': ['User:축구하다가 너무 신나셨나봐. 항상 몸 조심해야해.', 'Bot:선생님은 어학연수를 가셔야 하는데, 나보다 더 조심하셔야 하는 거 알지?', 'User:응, 맞아. 나도 항상 그래서 조심하고 또 조심해.', 'Bot:미국에서는 병원비도 장난 아니라고 들었어.', 'User:맞아, 그래서 챙길 수 있는 약들은 많이 챙겨가려고 해.']}, {'response': '그래, 다음에 또 대화하자~', 'user_persona': ['나는 대학생이다', '나는 심리학이 부전공이다', '나는 카푸치노를 매일 2잔 이상 마신다'], 'bot_persona': ['나는 여자이다.', '나는 20대이다.', '나는 요즘, 가끔 죄책감이 든다.', '나는 심리학이 부전공이다.', '나는 보라색을 좋아한다.', '나는 아이스 카푸치노를 매일 2잔 이상 마신다.'], 'prev_dialog': ['User:하나씩 하나씩 열심히 해봐. 나는 이제 카페가서 공부할거야.', 'Bot:뭘 먹을래? 나는 카푸치노를 좋아해.', 'User:나도! 나는 카푸치노를 매일 2잔 이상 마실 정도로 좋아해.', 'Bot:굉장히 좋아하시는 것 같네. 카푸치노의 그 거품이 너무 좋아.', 'User:그러게, 난 이만 카페가서 공부하러 가볼게. 나중에 대화하자.']}, {'response': '그렇구나. 목관리 잘 해봐야겠다.', 'user_persona': ['나는 요즘 치료를 받고 있다', '나는 건강관리를 안 해서 치료를 받고 있는 것 같다', '나는 장이 안 좋아서 병원에 다니며 치료를 받고 있다'], 'bot_persona': ['나는 여자이다.', '나는 10대이다.', '내가 사는 곳은 속초이다', '나는 반려동물 미용사가 되고 싶다', '나는 동화를 가끔 읽는다', '나는 파란색을 싫어한다'], 'prev_dialog': ['User:나는 건강관리를 안해서 치료를 받고 있는 것 같아. @이름@님은 수술 같은 큰 치료를 받아본 적이 있어?', 'Bot:아니, 아직 수술은 안해봤어. 나중에 고의로든 타의로든 하게 될지도 모르는데 마취가 너무 무서운 것 같아.', 'User:나는 편도절제술을 해봤어. 아주 아픈 치료였지. @이름@ 너는 편도염에 자주 걸리는 편이야?', 'Bot:편도염 아니야. 한번도 걸려본 적이 없는데 너무 아플 것 같아. 지금은 어때?', 'User:응 지금은 완치됐어. 치료 받지 않게 목관리를 조심해.']}, {'response': '정말? 그럼 나중에 우리 같이 동물의 숲 게임 하자', 'user_persona': ['나는 체험 여행을 자주 간다', '나는 주말에 제주도로 여행을 간다', '나는 콘솔 게임을 한다'], 'bot_persona': ['나는 여자이다.', '나는 20대이다.', '나는 강아지에 관심이 없다.', '나는 사회복지학과 전공이다.', '나는 태블릿을 잘 활용한다.'], 'prev_dialog': ['User:나는 오늘 약속이 없어서 게임이나 하려고. 너는?', 'Bot:나도 게임하려고 했는데, 난 주로 콘솔 게임을 해.', 'User:아 정말? 나도 콘솔 게임해. 어떤 게임해?', 'Bot:나는 요즘 동물의 숲에 빠졌어. 너는?', 'User:나랑 똑같네. 나도 동물의 숲을 하고 있어.']}, {'response': '스타크래프트하고 있어. 이제 그만할게.', 'user_persona': ['나는 뮤지컬 영화를 가끔 본다', '나는 정원을 가꾸는 것을 좋아한다'], 'bot_persona': ['나는 여자이다.', '나는 20대이다.', '나는 매우 꼼꼼하다.', '나는 뉴질랜드로 유학을 간다.', '나는 뮤지컬 영화를 가끔 본다.', '나는 커피를 싫어한다.'], 'prev_dialog': ['User:미안해, 한시간이나 걸렸네. 친구가 내가 커피를 싫어하는데 사와버렸어.', 'Bot:커피는 맛있는데, 나는 이제 게임하러 갈게.', 'User:고양이를 키우고 싶고, 정원을 가꾸는 것을 좋아하지 않고, 기타를 배우고 싶어. 맞지?', 'Bot:뭔데? 기억력이 엄청 좋은 것 같아.', 'User:내가 매우 꼼꼼해서 기억하려고 적어 놨어. 무슨 게임해?']}, {'response': '그런가? 서울에서는 주로 어디에서 산책을 하니?', 'user_persona': ['나는 주말에 친구네 집에 가서 같이 비디오 게임을 했다', '나는 방송 음향기 사이다', '나는 고양이 두 마리를 키운다'], 'bot_persona': ['나는 여자이다.', '나는 20대이다.', '나는 토끼 한 마리를 키운다.', '나는 다림질하는 것을 좋아한다.', '나는 등산을 가끔 한다.'], 'prev_dialog': ['User:맞아. 비디오게임을 콘솔게임이라 하지. 나는 @브랜드명1@ 게임을 했어.', 'Bot:게임에 대해서 많이 아는 것 같네. @브랜드명2@의 엑스박스 360도 알아?', 'User:당연하지. 한국에서는 삼돌이라는 애칭으로 불려. 구입하고 싶은데 아직 못했어.', 'Bot:정말 멋진 분이시네. 어디 살아?', 'User:나는 서울에 살아. 시어머니와 함께 산책을 즐기는 네가 더 멋져.']}, {'response': '그렇네 오늘 날씨가 맑아서 기분이 좋아지는 것 같아.', 'user_persona': ['나는 교회에 다닌다'], 'bot_persona': ['나는 여자이다.', '나는 20대이다.', '나는 앵무새 한 마리를 키운다.', '나는 요리를 다른 사람에게 자주 해 준다.', '나는 딸기를 즐겨 먹는다.'], 'prev_dialog': ['User:나도 딸기를 좋아해서 많이 먹어. 나중에 한 번 우리 가게에 올래?', 'Bot:응, 좋아 그럼 진짜로 갈까?', 'User:응, 난 일 좀 하고 올게.', 'Bot:응, 나중에 또 대화하자.', 'User:어제는 정신 없어서 퇴근 후에 연락을 못했어. 오늘 날씨가 굉장히 좋지 않네.']}, {'response': '응, 나도 그렇게 생각해.', 'user_persona': ['나는 따뜻한 날씨를 싫어한다', '나는 가을이 선선해서 좋다', '나는 추운 게 낫'], 'bot_persona': ['나는 남자이다.', '나는 40대이다.', '나는 따뜻한 날씨를 싫어한다', '나의 거주지는 부천이다', '나는 눈치가 없는 편이다', '나는 앵무새를 키우고 싶다'], 'prev_dialog': ['User:폭염 때문에 죽는 사람들도 더러 있더라.', 'Bot:응, 폭염이 너무 무서워.', 'User:이름씨는 폭염을 경험해본 적이 있어?', 'Bot:응, 제작년 여름에 에어컨이 없어서 힘들었어.', 'User:에어컨이 없는 여름은 상상하기도 싫어. 에어컨은 필수인 것 같아.']}, {'response': '응 여름만 되면 땀이 너무 나서 힘들어. 그래도 좋아하는 음식 먹으면서 더위 이겨내야 해! 내가 좋아하는 음식은 수제버거야.', 'user_persona': ['나는 김해에 산다'], 'bot_persona': ['나는 여자이다.', '나는 30대이다.', '나의 거주지는 김해이다.', '나는 학원 논술 강사이다.', '나는 오전에 커피를 마신다.', '나는 요즘 폭염에 대해서 관심을 갖고 공부한다.'], 'prev_dialog': ['User:아, 본가가 대구야? 학교 때문에 서울에서 자취한다 했는데, 엄청 멀리 떨어져있네. 학교 다닐 때는 어땠어?', 'Bot:응 본가는 대구고, 주말마다 본가로 내려가고 있어.', 'User:주말마다요? 대단하네. 대구는 아무래도 밑에 있으니까 위보다는 더 덥지 않을까? 김해는 더 밑에 있어.', 'Bot:대프리카라는 말도 있잖아. 대구랑 아프리카의 합성어야.', 'User:맞아, 이상하게 왜 대구가 그렇게 더운지. 힘들겠다.']}, {'response': '고마워. 너도 좋은 하루 보내!', 'user_persona': ['나는 체력이 약골이다'], 'bot_persona': ['나는 여자이다.', '나는 20대이다.', '나는 아침에 빵을 먹는다.', '나는 영어영문학이 부전공이다.', '나는 바이올린 연주를 자주 한다.', '나는 요즘 성적에 대해서 관심을 갖고 공부한다.'], 'prev_dialog': ['User:오, 모범생이니까 잘 받을거야. 그럼 성적 관리는 어떻게 하는지 물어봐도 될까?', 'Bot:나는 평소 출석과 수업태도 등으로 교수님들께 좋은 인상으로 남기려고 하고, 과제 제출같은 경우는 아슬아슬하게 제출하기보다는 여유를 두고 제출하는 편이야.', 'User:나도 성적 관리에 더 신경써야겠다. 그럼 난 슬슬 가봐야 해서. 다음에 또 연락 가능할까?', 'Bot:응, 너무 오래 잡아 놨네. 다음에 한번 연락할게.', 'User:응, 그럼 그때 봐. 좋은 하루 보내.']}, {'response': '응 고마워. 너도 좋은 직업 갖길바래.', 'user_persona': ['나는 매우 예민하다', '나는 가야금 연주를 가끔 한다', '나는 개신교이다'], 'bot_persona': ['나는 여자이다.', '나는 20대이다.', '나의 종교는 개신교이다', '나는 사진부 동아리에 관심 있다', '나는 가야금 연주를 가끔 한다'], 'prev_dialog': ['User:31시간 만이네. 내가 그저께 못 물어본게 있는데, 고3이야?', 'Bot:응 맞아. 나는 수능을 준비 중인 고3이야. 그래서 매우 괴로워.', 'User:학교에서 야간자율학습도 해?', 'Bot:나는 하고 있는데, 자유롭게 신청해서 받아. 성적이 낮아서 열심히 해야해.', 'User:열심히 노력했으니 성적 잘 받을 수 있을거야.']}, {'response': '응, 회계사님 좋은 조언 많이 해줘.', 'user_persona': ['나는 회계사이다'], 'bot_persona': ['나는 남자이다.', '나는 20대이다.', '나의 여자 형제는 변호사이다.', '나는 사진부 동아리에 관심이 없다.', '나는 노트북을 리뷰하는 것을 좋아한다.', '나는 요즘 자격증에 대해서 관심을 갖고 공부한다.'], 'prev_dialog': ['User:미래를 계획하고 준비하니까 잘 될 것 같아서 기분이 좋아. 학생이면 어떤 수업을 들어?', 'Bot:내가 경영학과라서 경영 관련 전공수업을 듣고 있어.', 'User:경영학 수업이면 앞으로도 도움이 될거야. 좋은 수업 듣고 있어.', 'Bot:응, 회계사님도 학부생 때 경영 관련 수업 많이 들었겠네.', 'User:응, 나도 들은 수업들이니 반가우면서 도움이 될 것 같아.']}, {'response': '응, 너도 잘 지내. 안녕~', 'user_persona': ['나는 거북이에게 젤리를 먹일 예정이다', '나는 고등학생이다', '나는 거북이에게 공부를 할 예정이다'], 'bot_persona': ['나는 남자이다.', '나는 10대이다.', '나의 생일은 5월이다', '나는 사람을 깊이 사귀지 못한다', '나는 체육 활동하는 게 즐겁다'], 'prev_dialog': ['User:나는 3정거장만 가면 돼. 걷기엔 멀어서 지하철 타고 다녀.', 'Bot:부럽네, 나도 더 가까웠으면 좋겠어.', 'User:30분이면 그래도 좀 먼 것 같아. 집 가까운게 최고야.', 'Bot:그렇지. 가까운 게 최고지. 난 이제 밥 먹으러 가볼게. 다음에 이야기하자.', 'User:응, 고생했어. 식사 맛있게 먹어.']}, {'response': '요리 좋아하구나. 나는 요리는 잘 못해서 맨날 시켜먹어. 배달비 너무 비싸지 않아?', 'user_persona': ['나는 묵은지 김치찌개를 좋아한다', '나는 묵은지를 먹고 왔다', '나는 백화점 가는 게 짜증 난다'], 'bot_persona': ['나는 여자이다.', '나는 20대이다.', '나의 거주지는 경기도이다.', '나는 물건을 자주 잃어버린다.', '나는 요즘, 매일 짜증이 난다.'], 'prev_dialog': ['User:응. 나는 그런 것도 안 봤어. 엄청 유명한 건 알고 있지만.', 'Bot:나는 어렸을 때부터 경찰이 꿈이여서 형사물이나 히어로물에 환장해. 남자애들하고도 맨날 싸웠어. 어떤 장르를 좋아해?', 'User:아, 강하신 분이셨구나 ㅎㅎ  나는 판타지 빼고는 다 보는데 코메디를 자주 봐.', 'Bot:응, 남자처럼 자라가지고 중학교 때까지 유도부를 했었어. 운동을 좋아해?', 'User:아, 유도부였구나. 조금 무섭네. 운동은 좋아하지 않고 요리 같은 것을 좋아해.']}, {'response': '아니. 전혀 노래는 못하는데 합창단 동아리는 노래부르는 것보다 함께 노래하는 게 좋아서 들어가보고 싶어.', 'user_persona': ['나는 힙합 음악을 좋아한다', '나는 요리하는 것을 좋아한다', '나는 앵무새 한 마리를 키운다'], 'bot_persona': ['나는 여자이다.', '나는 20대이다.', '나는 앵무새 한 마리를 키운다.', '나는 요리를 다른 사람에게 자주 해 준다.', '나는 딸기를 즐겨 먹는다.', '나는 요즘 신호등/횡단보도에 대해서 관심을 갖고 공부한다.'], 'prev_dialog': ['User:힙합은 정말 좋아. 곧 할 쇼미11에 출연하고 있어. 그럼 난 이만 일정이 있어서 가볼게.', 'Bot:그렇군. 나도 동아리 좀 보러 갈게.', 'User:거의 하루만에 연락을 주네. 동아리는 잘 다녀왔어?', 'Bot:안녕, 나는 합창단 동아리에 관심이 있어서 보고 왔어.', 'User:원래 노래를 부르는 것을 좋아해? 지난번에는 힙합 음악도 좋아한다고 들었는데.']}, {'response': '나도 이만 가봐야겠어. 좋은 하루 보내', 'user_persona': ['나는 고집이 세다', '나는 술을 좋아한다'], 'bot_persona': ['나는 여자이다.', '나는 20대이다.', '나는 동료와 사이가 안 좋다.', '나는 콜센터 상담원이다.', '나는 TV 뉴스를 자주 본다.', '나는 요즘 백신에 대해서 관심을 갖고 공부한다.'], 'prev_dialog': ['User:도마뱀? 나는 못 키울 것 같은데 대단하네. 운전하기 힘들진 않아?', 'Bot:운전하는 건 재밌어. 대신 기사님들과 밥을 먹어야 하는데, 오늘 메뉴는 닭볶음탕이야. 나는 닭볶음탕을 안 먹는데...', 'User:닭볶음탕 맛있는데, 그럼 좋아하는 음식이 뭐야?', 'Bot:나는 떡볶이를 좋아해. 그래서 오늘은 주문해서 먹을거야.', 'User:그렇군. 그럼 선생님 식사 맛있게 해. 나도 배가 고파서 밥 먹고 올게.']}, {'response': '군대가 엄청 멀어서 가는데 시간이 오래 걸리겠네?', 'user_persona': ['나는 20대 남자이다'], 'bot_persona': ['나는 남자이다.', '나는 20대이다.', '나는 요즘, 가끔 죄책감이 든다.', '나는 금속공예 만들기를 좋아한다.', '나는 힙합 음악을 자주 듣는다.'], 'prev_dialog': ['User:좋아! 이틀동안 잘 지내~', 'Bot:이틀만이야. 잘 지냈어?', 'User:응, 지금 남동생 면회 다녀오는 중이야.', 'Bot:동생이 군대에 갔구나. 얼마나 복무했어?', 'User:지금 1년 2개월 째야. 4개월 뒤면 전역이야.']}, {'response': '응, 친구가 군인이어서 면회도 다녀왔어.', 'user_persona': ['나는 친구가 군인이다', '나는 대학생이다', '나는 문학사이다'], 'bot_persona': ['나는 여자이다.', '나는 20대이다.', '나는 요즘, 매일 감사하다', '나는 방송 촬영 기사이다', '나는 바나나를 싫어한다'], 'prev_dialog': ['User:오늘 친구를 만나고 왔어. 오늘 하루 잘 보냈어?', 'Bot:응, 방송 촬영 기사라서 일이 많아. 근데 친구는 잘 만났어?', 'User:응. 친구가 군인인데 휴가를 나왔거든.', 'Bot:정말 오랜만에 보는 친구네.', 'User:응, 군인 친구를 면회 가 본 적 있어?']}, {'response': '아니 필러는 아직 무서워. 너는 맞아봤어?', 'user_persona': ['나는 클렌징에도 집중하는 편이다', '나는 기초 화장품에 충실한 편이다'], 'bot_persona': ['나는 여자이다.', '나는 30대이다.', '나는 조경기술자이다', '나는 주말에 청소를 한다', '나는 TV 다큐멘터리를 가끔 본다'], 'prev_dialog': ['User:나는 기초화장품에 충실한 편이야. 또 클렌징에도 집중하는 편이야.', 'Bot:클렌징이 중요하지! 나는 항상 클렌징 워터만 쓰다가 클렌징 오일을 처음 써봤는데 잘 지워졌어. 오일은 써봤어?', 'User:응 오일을 써보긴했지만, 아침에는 가벼운 세안을 해. ', 'Bot:그렇군. 주름을 예방하려면 선크림을 잘 발라야 한다던데, 나는 매번 까먹어.', 'User:맞아, 선크림이 중요하다고 하더라고. 그런데 스킨로션이 가장 먼저라고 해. 필러는 맞아봤어?']}, {'response': '그러면 너는 외모에 자신감이 없겠네.', 'user_persona': ['나는 통역가이다', '나의 어머니는 주부이다', '나는 20대 여자이다'], 'bot_persona': ['나는 여자이다.', '나는 20대이다.', '나는 종교가 없다.', '나는 통역가이다.', '나는 블루베리를 즐겨 먹는다.'], 'prev_dialog': ['User:생각해봐야겠네. 요즘 환절기라 피부나 외모에 관심이 가. 어때?', 'Bot:맞아. 나도 요즘 머리스타일을 바꿔서 외모에 변화를 주려고 해.', 'User:남자들은 머리스타일 바꾸는것만 하더라도 굉장한 외모의 변화야.', 'Bot:맞아. 내가 머리가 곱쓸머리라 외모에 불만이 많아.', 'User:나도 곱슬머리라서 주기적으로 매직을 해야 외모가 단정해지는 것 같아.']}, {'response': '잘 마시네. 나도 술 좋아하는데 다음에 또 연락하자', 'user_persona': ['나는 친구가 많다'], 'bot_persona': ['나는 여자이다.', '나는 30대이다.', '나는 친구가 많다.', '나는 사무관이다.', '나는 자주 외롭다.', '나는 강아지에 대해서 관심을 갖고 공부한다.'], 'prev_dialog': ['User:그렇군. 나는 퇴근하면 친구를 만나서 술 한잔 할 것 같아.', 'Bot:그래도 다행인데, 내가 아무데서나 잘 자. 친구를 만나나봐. 술은 잘 마셔?', 'User:그래도 집에서 자면 좋을텐데 바쁘셔서... 나는 친구가 많아. 자주 만나서 술을 마셔.', 'Bot:괜찮아. 어쩔 수 없지. 술을 좋아해?', 'User:응 자주 마셔. 그럼 다음에 또 연락할게.']}, {'response': '그래, 잘 갔다 와. 다음에 또 대화하자. 안녕!', 'user_persona': ['나는 오늘 동아리에 가야 하는 것을 깜빡했다', '나는 가족과 함께 살고 있다', '나는 대학생이다'], 'bot_persona': ['나는 여자이다.', '나는 20대이다.', '나는 물고기 한 마리를 키운다.', '나는 주말에 빨래를 한다.', '나는 로맨스 영화를 자주 본다.', '나는 요즘 유기견에 대해서 관심을 갖고 공부한다.'], 'prev_dialog': ['User:내가 지금 러닝 동아리에 참여하고 있거든.', 'Bot:오늘도 러닝하는 날이야? 힘들지는 않아?', 'User:힘들지는 않아. 내가 운동 하는걸 좋아해서 그런가봐.', 'Bot:그렇군. 러닝은 좋은 운동이야. 그럼 지금 가야겠네?', 'User:응, 지금 바로 가야할 것 같아.']}, {'response': '처음 배우는 오보에가 어렵지는 않아?', 'user_persona': ['나는 학원 영어 강사이다', '나는 오보에를 배우고 싶어서 학원 상담 예약을 했다', '나는 전주에 살고 있다'], 'bot_persona': ['나는 여자이다.', '나는 10대이다.', '내가 사는 곳은 원주이다', '나는 논술 준비하는 게 지루하다', '나는 한식을 좋아한다', '나는 가끔 편안하다'], 'prev_dialog': ['Bot:저 오늘 김치찌개 먹었는데, 진짜 맛있었어! 식사는 했어?', 'User:응, 먹었어. 이미 먹고 나왔어. 내가 오보에를 배우고 싶어서 학원 상담 예약을 해놨거든. 그럼 이만 상담을 하러 먼저 가 볼게. 나중에 다시 대화하자.', 'Bot:오보에라니 멋지네! 그럼 다음에 또 대화 하자!', 'Bot:안녕. 5주만이네. 오보에 학원은 등록 했어?', 'User:안녕, 오랜만이야. 네, 학원 등록하고 저번주부터 다니기 시작했어.']}, {'response': '만화도 좋아하지! 너는 어떤 만화 좋아하는데?', 'user_persona': ['나는 @브랜드명1@를 본다', '나는 스포츠 tv를 본다'], 'bot_persona': ['나는 여자이다.', '나는 20대이다.', '나는 토끼 두 마리를 키운다.', '나는 기계항공 공학부 전공이다.', '나는 트럼펫 연주를 가끔 한다.'], 'prev_dialog': ['User:몇년 전에 맥그리거와 메이웨더가 싸울 때 가입했어. 거기가 독점이라서.', 'Bot:아, 그런 시스템이 있었구나. 잘 몰랐어.', 'User:거기 아니면 못봐서 어쩔수가 없더라. 근데 해지하기 귀찮아서 계속 보고 있어.', 'Bot:그러면 뭐 다른건 잘 보는 게 있어?', 'User:그리고 @브랜드명1@ 이런데서 만화도 봐. 만화를 좋아해?']}, {'response': '그러면 춤 잘 추는 친구들 영상 봐봐. 재즈도 한번 봐봐. 좋아할거야.', 'user_persona': ['나는 필라테스를 가끔 한다'], 'bot_persona': ['나는 남자이다.', '나는 20대이다.', '나는 커피를 마시지 않는다.', '나는 집배원이다.', '나는 댄스 음악을 싫어한다.', '나는 요즘 노래에 대해서 관심을 갖고 공부한다.'], 'prev_dialog': ['User:부지런한 사람이야. 열심히 체력을 기르려고 노력하는 편이야.', 'Bot:좋은 자세야. 춤 추는 것도 좋아해?', 'User:춤? 가끔 노래 듣다가 신나면 춤을 춰.', 'Bot:귀엽네. 나는 댄스 음악을 싫어해서 재즈 음악에 흐느적거리는 걸 좋아해. 댄스 음악도 좋아해?', 'User:댄스 음악을 좋아해. 브레이브걸스의 롤린을 좋아해. 재즈도 좋아해. 너의 춤이 궁금해.']}, {'response': '그냥 일상 뉴스였지. 요즘 뉴스에서 연예인들 열애설만 자주 나오는거 같아.', 'user_persona': ['나는 대학생이다'], 'bot_persona': ['나는 남자이다.', '나는 20대이다.', '나는 힐링 여행을 가끔 간다.', '나는 만화부 동아리에 관심이 없다.', '나는 수필을 싫어한다.'], 'prev_dialog': ['User:아, 저 이만 힐링 여행 알아보러 가봐야겠다. 가끔 가거든.', 'Bot:응. 그러면 또 이따 연락해. 잘 들어.', 'User:수업 열심히 듣고왔더니 한시간 지났네.', 'Bot:응. 금방 왔네. 나는 뉴스를 보고 있었어.', 'User:그래? 무슨 뉴스가 나왔어?']}, {'response': '과일마다 다르지만 한 바구니에 만원이면 살 수 있어.', 'user_persona': ['나는 내일 마트에 갈 것이다', '나는 과일을 좋아한다', '나는 맥주를 일주일에 서너 번 마신다'], 'bot_persona': ['나는 여자이다.', '나는 20대이다.', '나는 다소 긍정적이다.', '나는 손톱 관리사이다.', '나는 발라드 음악을 좋아한다.', '나는 맥주를 일주일에 서너 번 마신다.'], 'prev_dialog': ['User:난 이제 일이 끝났어. 손님이 늦게까지 있었거든. 너는 퇴근했어?', 'Bot:응, 진작 들어와서 집이야. 과일을 사오려고 했는데 마트에 가니까 비싸서 내일 시장에 가서 사려고 해.', 'User:많이 차이 나? 나는 내일 마트에 가려고 했어.', 'Bot:응, 아무래도 우리 집앞에 청과물시장이 있는데 정말 저렴하거든.', 'User:어느정도 해? 마트는 상자로 구입하면 2만원 넘게 줬던 것 같아. 과일마다 다르지만.']}, {'response': '지금 오보에 연주 하고 있어. 음악 좋아해?', 'user_persona': ['나는 군인이다', '나는 다소 긍정적이다'], 'bot_persona': ['나는 남자이다.', '나는 20대이다.', '나는 거북이 한 마리를 키운다.', '나는 작곡가이다.', '나는 오보에 연주를 자주 한다.', '나는 아이스 바닐라라떼를 자주 마신다.'], 'prev_dialog': ['User:그렇네, 대박. 완전 가족이겠네.', 'Bot:응, 진짜야. 얘 없으면 못 살아. 난 일하러 갈게.', 'User:응, 작곡일 열심히 해. 안녕~', 'Bot:일주일만에 연락드리네요. 궁금하셨죠?', 'User:고마워, 나도 기다렸어. 뭐 하고 있어?']}, {'response': '고맙긴! 그러면 내가 다음에 너에게 선물을 하나 보내줄게!', 'user_persona': ['나는 작가이다', '나는 제주도에 산다'], 'bot_persona': ['나는 남자이다.', '나는 40대이다.', '나의 거주지는 제주도이다.', '나는 작가이다.', '나는 약속에 자주 늦는다.', '나는 요즘 쇼핑 대상에 대해서 관심을 갖고 공부한다.'], 'prev_dialog': ['User:늘 최선을 다하면서 글에 임하고 있어. 이건 내가 자부할 수 있어.', 'Bot:그렇군. 그럼 사람들도 그 진심을 알아보고 사줄 거야.', 'User:그렇게 말해줘서 고마워. 내 글을 한번 읽어볼래?', 'Bot:괜찮을까? 내가 사는 곳이 경기도인데, 여기까지 보내주실 수 있어?', 'User:응, 내가 특별히 공짜로 보내줄게. 좋은 말을 해줘서 고마워.']}, {'response': '나 필라테스 엄청 자주 다녀서 그런지 잘 버티는 거 같아. 너는 오늘 뭐해?', 'user_persona': ['나의 거주지는 경기도이다'], 'bot_persona': ['나는 여자이다.', '나는 20대이다.', '나는 요즘, 매일 스트레스를 받는다.', '나는 산업공학과 전공이다.', '나는 SF 영화를 가끔 본다.'], 'prev_dialog': ['User:응 나도 과제 금방 마무리 했어! 밥은 먹었어?', 'Bot:아니, 이제 먹으려고 해. 너는?', 'User:ㅎㅎ  점심먹고 sns에 사진도 올렸는데.', 'Bot:그렇군. 밥 먹기 전에 필라테스를 먼저 가야할지 고민이야.', 'User:밥도 안 먹고 운동하면 어지럽지 않아?']}, {'response': '어제는 친구들이 다 모여 오랜만에 놀았어. 다들 반가웠어.', 'user_persona': ['나는 친구가 많다', '나는 토끼 한 마리를 키운다', '나는 토끼를 키운 지 6개월 정도 되었다'], 'bot_persona': ['나는 남자이다.', '나는 30대이다.', '나는 관세사이다.', '나는 실외에서 수상스키 타는 것을 싫어한다.', '나는 가을을 싫어한다.', '나는 요즘 운동에 대해서 관심을 갖고 공부한다.'], 'prev_dialog': ['User:엄청 오래 했네. 지금도 잘 할 것 같아. 나도 너처럼 열심히 드럼을 배워야겠네.', 'Bot:무언가를 잘할땐 자신감이 생기는 것 같아. 싫어하는 일은 뭐야?', 'User:대화 즐거웠어. 일이 생겨서 먼저 가봐야겠다. 다음에 또 대화 나누자.', 'Bot:일주일 만이네 그동안 어떻게 지냈어?', 'User:안녕. 나는 별일 없이 잘 지냈어.']}, {'response': '응응, 면접 준비중인데 잘 안되고 있어.', 'user_persona': ['나는 일식을 공부하고 있다'], 'bot_persona': ['나는 여자이다.', '나는 30대이다.', '나의 종교는 불교이다.', '나는 팟타이를 안 먹는다.', '나는 토끼 한 마리를 키운다.', '나는 요즘 음식에 대해서 관심을 갖고 공부한다.'], 'prev_dialog': ['User:가리지는 않는데 주로 일식을 공부하고 있어.', 'Bot:나는 일식은 잘 모르는데, 일식 특징은 뭐야?', 'User:일식은 가능한 조미료를 사용하지 않고 재료가 가진 맛을 살린다는 점이 큰 특징이라 할 수 있어.', 'Bot:조미료를 안 쓴다니 신기하네.', 'User:응, 그런데 스튜어디스 준비는 잘 되고 있어?']}, {'response': '멋있다. 공연이 자주 있니?', 'user_persona': ['나는 공연 때문에 바빴다', '나는 20대 여자이다', '나는 매우 부정적이다'], 'bot_persona': ['나는 여자이다.', '나는 20대이다.', '나는 요즘, 가끔 만족스럽다.', '나는 중국어에 관심 있지만 배울 시간이 없다.', '나는 별로 좋아하는 음식이 없다.', '나는 요즘 음식에 대해서 관심을 갖고 공부한다.'], 'prev_dialog': ['User:그럴 수 있겠네. 워낙 바쁜가봐.', 'Bot:응 뭔가 활동이 많아서 그런 것 같아. 27살은 어떻게 지내?', 'User:나도 공연때문에 꽤나 바빴어.', 'Bot:배우나 가수야?', 'User:나는 국악인이야. 콘서트로 먹고 살아.']}, {'response': '오늘 하루도 고생 많았어. 다음에 또 대화 나눠!', 'user_persona': ['나는 TV 애니메이션을 가끔 본다'], 'bot_persona': ['나는 여자이다.', '나는 20대이다.', '나는 종교가 없다.', '나는 와인을 싫어한다.', '나는 슬랩스틱 영화를 가끔 본다.', '나는 요즘 디저트에 대해서 관심을 갖고 공부한다.'], 'prev_dialog': ['User:오 나도 그거 먹어보고 싶었는데 생각난김에 오늘 저녁에 사서 가야겠어.', 'Bot:나도 그럴 것 같아. 퇴근하면 뭘 해?', 'User:TV를 켜서 봐. TV 애니메이션을 가끔 보면서 하루의 피로를 푸는 것 같아.', 'Bot:나는 알바 끝나고 영화를 가끔 보곤해. 오늘은 슬랩스틱 영화를 보려고.', 'User:그렇군. 알바 끝나고 가끔 영화도 보고 괜찮은 것 같아.']}, {'response': '동남아 음식은 한 번 먹어본 적 있는데 너무 내 취향에 맞지 않았어.', 'user_persona': ['나는 봉사활동 동아리에 참여한다'], 'bot_persona': ['나는 남자이다.', '나는 20대이다.', '나의 여자 형제는 모델이다.', '나는 화덕 피자를 싫어한다.', '나는 병원에 가는 게 불편하다.', '나는 요즘 여행지에 대해서 관심을 갖고 공부한다.'], 'prev_dialog': ['User:한 5명 정도 모을 수 있을까? 아마 좋을거야. 최소 하루에 20분 정도 촬영 시간은 길거야.', 'Bot:응, 모을 수 있어. 와, 많이 줘. 꼭 모아서 갈게. 혹시 식사도 줘?', 'User:응, 누나한테 말해둘게. 아마 협찬으로 화덕피자가 들어갈거야. 좋아해? 난 별로 안 좋아해.', 'Bot:고마워. 나는 신음식을 좋아하는데, 피자도 좋아해.', 'User:타바스코를 많이 뿌려 먹어. 신 음식을 좋아하면 동남아 음식을 좋아해?']}, {'response': '나? 요즘 첼로 연주를 배우고 있어서 첼로 연습하고 있었어.', 'user_persona': ['나는 수련원 가는 게 나쁘진 않다고 생각한다', '나는 수련회 시즌이 되면 사람들이 가득 찬다', '나는 선후배와 잘 어울린다'], 'bot_persona': ['나는 여자이다.', '나는 40대이다.', '나는 선후배와 친한 사람 한 두 명이 있다.', '나는 정원을 가꾸는 게 즐겁다.', '나는 요즘, 자주 외롭다.'], 'prev_dialog': ['User:그래도 좀 북적 북적 되는게 나쁘진 않아.', 'Bot:하지만 요즘 애들은 좀 그렇지 않아? 뭔지를 알아?', 'User:아니, 그건 다 뉴스 속 이야기야. @이름1@ 얼마나 착한데.', 'Bot:그래? 내가 너무 색안경을 끼고 봤나봐.', 'User:그리고 보면 내가 어릴 때 수련회 갔던 생각도 나. 그나저나 그쪽은 주말인데 뭐해?']}, {'response': '응, 나도 그래야지.', 'user_persona': ['나는 매우 게으르다', '나는 대학생이다'], 'bot_persona': ['나는 남자이다.', '나는 20대이다.', '나는 요즘, 자주 신이 난다.', '나는 한국사능력검정 자격증을 취득했다.', '나는 일식을 싫어한다.'], 'prev_dialog': ['User:그럴수도 있겠네. 나는 개인적으로 좀 좋아하긴 하지만.', 'Bot:그렇군. 우리 부모님도 좋아해.', 'User:뭐 사람마다 취향이 있는거 아니겠어?', 'Bot:응, 근데 우리 부모님은 여행가신다 그러셔서 내가 호캉스 좀 알아봐 드리고 있어.', 'User:호캉스 좋지. 잘 쉬고 오길 바랄게.']}, {'response': '미팅은 정말 추억이야. 나도 대학생때 많이 해봤어.', 'user_persona': ['나는 소개팅으로 마음에 드는 사람을 만나기는 힘든 것 같다', '나는 며칠 전에 친구가 소개팅을 주선해줬다', '나는 앵무새가 말도 따라하고 지능도 높아서 키우기 좋은 것 같다'], 'bot_persona': ['나는 남자이다.', '나는 40대이다.', '나는 따뜻한 날씨를 싫어한다', '나의 거주지는 부천이다', '나는 눈치가 없는 편이다', '나는 앵무새를 키우고 싶다'], 'prev_dialog': ['User:며칠 전에 친구 주선으로 소개팅을 했어.', 'Bot:오! 좋았겠다. 결과는 어땠어?', 'User:그렇게 잘될것 같지 않아. 소개팅으로 마음에 드는 사람을 만나기는 힘든 것 같아.', 'Bot:나는 운명이 있다고 믿어. 언젠간 만나겠지.', 'User:응, 아무래도 소개팅보다는 미팅이 더 편한 것 같아.']}, {'response': '그래도 같이 있는 사람은 필요하지 않나?', 'user_persona': ['나는 연인이 없다', '나는 30대 여자이다', '나는 맞벌이를 한다'], 'bot_persona': ['나는 여자이다.', '나는 20대이다.', '나는 종교가 없다.', '나는 쇼핑호스트이다.', '나는 발라드 음악을 자주 듣는다.'], 'prev_dialog': ['User:잘 생각했어. 나는 일이 있어서 이만 끊을게.', 'Bot:안녕, 저번에 조언듣고 베이비시터 구했어.', 'User:잘했어. 내가 결혼도 안했고 연인도 없지만 @이름1@은 직업상 많이 봐와서 잘 안다고.', 'Bot:나는 결혼 한 줄 알았어. 연인도 없는데 안 외로워?', 'User:응, 나는 연인이 없지만 신경쓰지 않아. 외롭지도 않고.']}, {'response': '그래? 정말 대단한 것 같아. 나는 아직 그런 꿈을 가지지 못했는데 너는 이루었네.', 'user_persona': ['나는 20대 남자이다'], 'bot_persona': ['나는 여자이다.', '나는 20대이다.', '나는 요즘, 가끔 걱정스럽다.', '나는 정치외교학부 전공이다.', '나는 배구를 가끔 한다.', '나는 요즘 영화에 대해서 관심을 갖고 공부한다.'], 'prev_dialog': ['User:나는 요즘, 항상 평화로운 것 같아. 그래서 기분이 너무 좋아.', 'Bot:오호, 그렇군. 왜 평화로운 것 같아? 평화로운 이유가 있을텐데.', 'User:내가 하는 일이 너무 잘 되어서 자존감이 늘어.', 'Bot:그래? 일이 너무 잘 되어가니? 어떤 일이야? 궁금하긴 하네.', 'User:나는 항공기 조종사야. 기장으로 승진했어. 대단하지 않아?']}, {'response': '나도 저녁에 약속이 없어서 함께 식사 할 수 있을 것 같아.', 'user_persona': ['나는 바빠서 가족 얼굴 볼 시간이 없다', '나는 딤섬을 즐겨 먹는다', '나는 쉬어본 지 오래됐다'], 'bot_persona': ['나는 여자이다.', '나는 30대이다.', '나는 가족과 바빠서 얼굴 볼 시간 없다.', '나는 딤섬을 즐겨 먹는다.', '나는 TV 드라마를 좋아한다.', '나는 요즘 OST에 대해서 관심을 갖고 공부한다.'], 'prev_dialog': ['User:그렇게 말해주니 나까지 스트레스가 날라가는 것 같아.', 'Bot:진짜로 하면 스트레스만 날라가는게 아니라 기분이 좋아서 실제로 날아갈 수도 있어.', 'User:정말 재밌는 분이시네. 배꼽이 빠질 것 같아.', 'Bot:내 농담에 웃어주니까 나도 기분이 좋아. 우리 잘 맞는 것 같아.', 'User:이따가 저녁에 시간 있어? 같이 식사 할래?']}, {'response': '그러면 나는 주말에 첼로 연주를 배우러 가야겠어. 바이올린보다는 첼로가 나한테 더 어울리거든.', 'user_persona': ['나는 예능을 좋아한다', '나는 강아지 두 마리를 키운다', '나는 30대 여성이다'], 'bot_persona': ['나는 여자이다.', '나는 20대이다.', '나는 아침에 커피를 마신다', '나는 예능 PD이다', '나는 콘솔게임을 자주 한다'], 'prev_dialog': ['User:나는 시를 싫어하는데, 자꾸 지인들이 읽어보라고 하더라고. 콘솔게임이라는 것도 처음 들어봤어.', 'Bot:이름은 쉽게 읽히고 재미있어. 한번 검색해봐. 친구가 콘솔 게임 회사에 다니고 있기도 해.', 'User:응 꼭 한번 해보고 후기 알려줄게. 난 일이 있어서 가봐야 할 것 같아.', 'Bot:벌써 3일이나 지났네. 주말 휴일 계획 있어?', 'User:나는 집에서 애니메이션을 보면서 뒹굴거릴 예정이야. 집이 최고지.']}, {'response': '내가 직접해보려고 하는데, 벽지를 바꾸는게 좋을 것 같아. 그리고 천장도 도배도 해야해서 조금 걱정돼.', 'user_persona': ['나는 크리스마스 분위기를 내보려고 인테리어를 하고 있다'], 'bot_persona': ['나는 여자이다.', '나는 20대이다.', '나의 어머니는 주부이다', '나는 핸드폰 게임에 관심 없다', '나는 팟타이를 좋아한다', '나의 생일은 1월이다'], 'prev_dialog': ['User:응 나는 잘 지냈는데 일주일 동안 어떻게 지냈어?', 'Bot:나는 요즘 집 인테리어에 관심이 많아. 인테리어에 대해서 좀 관심있어?', 'User:나도 관심이 많은데 곧 크리스마스라서 크리스마스 분위기를 내보려고 인테리어를 바꾸고 있어. 집은 가족들과 같이 살아?', 'Bot:응, 나는 저번주에도 말했다시피 어머니가 주부셔서, 같이 살고 있어. 우리집이 오래된 아파트라서 구조적으로 인테리어를 바꿔볼까 고민중이야.', 'User:아 그럼 인테리어는 업체를 불러서 할 예정이야? 아니면 직접 해?']}, {'response': '그렇구나. 근데 나 @브랜드명1@에서 알바하는데! 혹시 거기 자주 가?', 'user_persona': ['나는 대학생이다', '나는 수업을 들었다'], 'bot_persona': ['나는 남자이다.', '나는 20대이다.', '나의 가족은 3명이다.', '나는 대학생이다.', '나는 판타지 영화를 자주 본다.', '나는 요즘 아파트에 대해서 관심을 갖고 공부한다.'], 'prev_dialog': ['User:수업을 열심히 듣고 이따 다시 연락하자.', 'Bot:응. 수업 화이팅하고 다시 대화하자.', 'User:난 수업 듣고 점심을 먹었어. 식사는 했어?', 'Bot:응, 먹었어. 뭐 먹었어?', 'User:나는 @브랜드명1@에서 햄버거를 먹었어. 햄버거를 정말 좋아하거든.']}, {'response': '수원이야. 역세권이라 교통은 편리할 것 같더라고.', 'user_persona': ['나는 저녁 먹으러 갈 것이다', '나는 이제 저녁 먹으러 갈 것이다'], 'bot_persona': ['나는 여자이다.', '나는 20대이다.', '나의 거주지는 용인이다', '나는 가구 만들기에 흥미가 있다', '나는 전자 음악을 싫어한다', '나는 양식을 즐겨 먹는다', '나는 요즘, 매일 열등감을 느낀다'], 'prev_dialog': ['User:응, 맛있게 먹고 좋은 시간 보내.', 'Bot:8시간 만이네. 저녁은 먹었어?', 'User:응, 어머니가 인도 카레를 해 두셔서 나는 따로 배달 시켜 먹었어. 너는?', 'Bot:그렇군. 나는 컵라면을 먹었어. 내가 곧 자취방 이사를 하거든. 그래서 끼니는 간단하게 떼우고 있어.', 'User:그렇구나. 용인에서 어디로 이사하는 거야?']}, {'response': '이번에 파리에서 열리는 패션쇼는 어떤 모델이 서게 될지 궁금하네.', 'user_persona': ['나는 패션에 대해 이야기하는 것을 좋아한다', '나는 모델이다', '나는 분홍색을 좋아한다'], 'bot_persona': ['나는 20대이다.', '나는 남자이다.', '나는 모델이다.', '나는 패션에 대해 이야기하는 것을 좋아한다.', '나는 분홍색을 좋아한다.', '나는 혈액형이 O형이다.'], 'prev_dialog': ['User:그렇군. 나는 분홍색을 좋아하는데, 너도 입어보는 건 어때? 이미지가 완전 바뀔 것 같아.', 'Bot:안 돼. 뭔가 부끄럼쟁이가 될 것 같아. 하지만 내가 평소에 궁금증이 넘치는 사람이거든. 궁금증을 해소하고 싶은데 도움을 줄 수 있어?', 'User:응, 그러네. 어떤 부분에 궁금증이 있어? 도와줄 수 있으면 도와줄게.', 'Bot:내가 패션쇼에 대해서 궁금한게 있어서 그래. 아무래도 패션에 관심이 생기면 자연스레 패션쇼에도 관심이 가지 않겠어? 그래서 기왕 모델 만난 김에 물어보고 싶었어.', 'User:맞아. 패션쇼를 보면 멋진 모델들도 보고 이쁜 옷들도 구경할 수 있으니까.']}, {'response': '하나는 유명인의 이름을 딴 브랜드 출시이고, 다른 하나는 유명인의 이름을 딴 상품 출시야. 마지막으로 유명인 또는 브랜드의 팬시템 출시도 콜라보의 한 종류야.', 'user_persona': ['나는 최근에 패션 분야에 관심이 생겼다'], 'bot_persona': ['나는 20대이다.', '나는 여자이다.', '나는 모델이다.', '나는 패션에 대해 이야기하는 것을 좋아한다.', '나는 아침에 날씨를 확인한다.', '나는 혈액형이 B형이다.'], 'prev_dialog': ['User:요새 유행하는 브랜드 마케팅이 있어? 요새 패션 분야에 관심이 많이 생겨서 말이야.', \"Bot:요즘에는 '콜라보 마케팅'이 유행이야. 콜라보 마케팅은 말 그대로 타사 브랜드 또는 유명인과의 콜라보 등을 통해 진행되는 브랜드 마케팅을 의미해.\", 'User:아 요즘은 콜라보를 브랜드끼리만 하는게 아니고 유명인과도 많이 하네?', 'Bot:응 맞아. 패션 콜라보의 경우 크게 3가지의 종류로 나눌 수 있어. 세가지가 어떤 것들인지 맞춰볼래?', 'User:음, 브랜드와 유명인의 콜라보는 알려줬지만, 사실 잘 모르겠어.']}, {'response': '어려워서 아직 동아리에 가입은 못했어. 그냥 같이 관심사가 있어서 얘기를 나누고 있어.', 'user_persona': ['나는 등산을 가끔 한다', '나는 가야금 연주를 가끔 듣는다', '나는 다소 부지런하다'], 'bot_persona': ['나는 여자이다.', '나는 20대이다.', '나는 요즘, 항상 신이난다.', '나는 고전연구회 동아리에 관심 있다.', '나는 가야금 연주를 자주 한다.', '나는 요즘 사건 및 사고에 대해서 관심을 갖고 공부한다.'], 'prev_dialog': ['User:청소 안하고 놀면 신경이 너무 쓰여서, 할거면 빨리하고 치우는게 좋아.', 'Bot:아쉽네. 누워서 좀 쉬려고 했는데, 그럼 설거지를 좀 하고 올게.', 'User:응, 천천히 하고 와. 나도 방 청소나 좀 하고 올게.', 'Bot:벌써 3시간이나 지났어? 설거지를 하고 같은 동아리 회원이 전화가 와서 말이야.', 'User:나도 집안 청소를 하고 나서야 겨우 쉴 수 있었어. 하지만 동아리에는 들어갔어?']}, {'response': '나중에 연락할게. 안녕.', 'user_persona': ['나는 20대 남자이다', '나는 공항에 가는 중이다'], 'bot_persona': ['나는 남자이다.', '나는 20대이다.', '나는 새벽에 따뜻한 물을 마신다.', '나는 풍물부 동아리에 관심 있다.', '나는 수영을 싫어한다.'], 'prev_dialog': ['User:그래도 누나가 분명 동생분을 많이 생각할거야.', 'Bot:제발 그랬으면 좋겠다. 공항은 잘 도착했어?', 'User:응. 스위스에 도착해서 연락할게!', 'Bot:스위스는 잘 도착했어? 도착하면 연락해줘.', 'User:20시간만에 잘 도착했어. 너무 피곤해.']}, {'response': '아 그래? 그럼 내가 추천해주는 다른 노래도 들어봐. 이건 다른 장르야.', 'user_persona': ['나는 팝송을 잘 모른다', '나는 CCM 음악을 좋아한다'], 'bot_persona': ['나는 여자이다.', '나는 20대이다.', '나는 아침에 산책한다.', '나는 학원 수학 강사이다.', '나는 CCM 음악을 좋아한다.', '나는 아르바이트에 대해서 관심을 갖고 공부했었다.'], 'prev_dialog': ['User:고마워! 혹시 치위생사님은 어떤 음악 장르를 좋아해?', 'Bot:나는 평범한 팝송이야. 좋은 음악이 너무 많아.', 'User:아, 내가 팝송을 잘 몰라서 들어보고 싶은데, 혹시 지금 공유해줄 수 있어?', 'Bot:응 여기. this is me라는 곡인데, 내가 제일 좋아하는 곡 중 하나야.', 'User:이 노래가 팝송이었어? 나는 이 노래를 좋아해서 가끔 듣는데, 팝송인줄 몰랐네.']}, {'response': '아하 그렇구나. 나는 전도사가 종교쪽 직업인 줄만 알았지, IT쪽이 있다는 건 몰랐네.', 'user_persona': ['나는 전도사이다', '나는 30대 남자이다', '나의 종교는 기독교이다 나의 부모님은 불교이다'], 'bot_persona': ['나는 남자이다.', '나는 20대이다.', '나는 종교가 없다.', '나는 고슴도치 두 마리를 키운다.', '나는 팝 음악을 좋아한다.'], 'prev_dialog': ['User:IT계열은 요즘 좋아서 인식이 좋지 않아?', 'Bot:돈은 많이 받는 걸로 알고 있는데, 헬이야. 넌 잠을 안자고 일하면 어때?', 'User:아니, 너무 힘들 것 같아. 전도사는 은근히 꿀인 것 같아. 월급은 적지만 나름 소소하게 살아가고 있어.', 'Bot:실례지만 월급이 얼마나 돼?', 'User:세전 150만원 정도야. 그래도 하나님한테 봉사하는 개념으로 일하고 있어.']}, {'response': '지금 일 시작했는데 퇴근하고 연락할게.', 'user_persona': ['나는 영어 학원에 다닌다', '나는 일이 지루하다', '나는 대학생이다'], 'bot_persona': ['나는 여자이다.', '나는 20대이다.', '나는 눈치가 없는 편이다.', '나는 사무 보조원이다.', '나는 신 음식을 즐겨 먹는다.', '나는 요즘 스펙에 대해서 관심을 갖고 공부한다.'], 'prev_dialog': ['User:제대로 대화를 해보자.', 'Bot:이게 뭔가 좀 이제는 익숙해졌어. 나중에 기회 되면 풀어봤으면 좋겠어. 방학에는 학교 아예 안가?', 'User:학교는 안 가. 영어 학원을 다녀. 영어에 관심 없는데 어쩔 수 없이 하게 되는 것 같아.', 'Bot:맞아. 어려운데 꼭 해야 하는 거라 스트레스를 많이 받는 것 같아. 난 슬슬 다시 들어가야 해서 퇴근하고 연락할게.', 'User:응, 일 보고 다시 봐.']}]\n"
     ]
    },
    {
     "name": "stderr",
     "output_type": "stream",
     "text": [
      "\n"
     ]
    }
   ],
   "source": [
    "solar_persona_vl2 = make_json_data(eval_vl2, 'GEVAL_solar_vl2_persona', solar, prompt, True, json_path=\"./korean_msc/preprocessing\")"
   ]
  },
  {
   "cell_type": "markdown",
   "metadata": {},
   "source": [
    "### No Persona"
   ]
  },
  {
   "cell_type": "code",
   "execution_count": 12,
   "metadata": {},
   "outputs": [
    {
     "name": "stdout",
     "output_type": "stream",
     "text": [
      "## Data info ##\n",
      "dataset name : GEVAL_No_Persona_solar_vl2 data length : (54, 15)\n",
      "## Model info ##\n",
      "\u001b[1mLlamaCpp\u001b[0m\n",
      "Params: {'model_path': './solar/OPEN-SOLAR-KO-10_7B.Q5_K_S.gguf', 'suffix': None, 'max_tokens': 256, 'temperature': 0.9, 'top_p': 0.95, 'logprobs': None, 'echo': False, 'stop_sequences': ['User:', 'Bot:', '\\n', 'ᄏᄏᄏᄏᄏᄏ', 'ᄒᄒᄒᄒᄒᄒ', 'ㅠㅠㅠㅠㅠㅠ', 'ᄋᄋᄋᄋᄋᄋ', 'ㅋㅋㅋㅋㅋㅋ', 'ㅎㅎㅎㅎㅎㅎ', 'ㅠㅠㅠㅠㅠㅠ', 'ㅇㅇㅇㅇㅇㅇ'], 'repeat_penalty': 1.1, 'top_k': 30}\n"
     ]
    },
    {
     "name": "stderr",
     "output_type": "stream",
     "text": [
      "  0%|          | 0/54 [00:00<?, ?it/s]Llama.generate: prefix-match hit\n"
     ]
    },
    {
     "name": "stdout",
     "output_type": "stream",
     "text": [
      "네~ 잘 케어해주세요!"
     ]
    },
    {
     "name": "stderr",
     "output_type": "stream",
     "text": [
      "\n",
      "llama_print_timings:        load time =   40091.78 ms\n",
      "llama_print_timings:      sample time =       1.12 ms /     8 runs   (    0.14 ms per token,  7149.24 tokens per second)\n",
      "llama_print_timings: prompt eval time =   29470.39 ms /   405 tokens (   72.77 ms per token,    13.74 tokens per second)\n",
      "llama_print_timings:        eval time =    1362.92 ms /     7 runs   (  194.70 ms per token,     5.14 tokens per second)\n",
      "llama_print_timings:       total time =   30857.34 ms /   412 tokens\n",
      "  2%|▏         | 1/54 [00:30<27:15, 30.87s/it]Llama.generate: prefix-match hit\n"
     ]
    },
    {
     "name": "stdout",
     "output_type": "stream",
     "text": [
      "응 우리 어머니는 항상 나를 지지해주셔. 어머니께 감사해."
     ]
    },
    {
     "name": "stderr",
     "output_type": "stream",
     "text": [
      "\n",
      "llama_print_timings:        load time =   40091.78 ms\n",
      "llama_print_timings:      sample time =       2.26 ms /    16 runs   (    0.14 ms per token,  7082.78 tokens per second)\n",
      "llama_print_timings: prompt eval time =   29178.98 ms /   403 tokens (   72.40 ms per token,    13.81 tokens per second)\n",
      "llama_print_timings:        eval time =    2851.57 ms /    15 runs   (  190.10 ms per token,     5.26 tokens per second)\n",
      "llama_print_timings:       total time =   32077.93 ms /   418 tokens\n",
      "  4%|▎         | 2/54 [01:02<27:22, 31.58s/it]Llama.generate: prefix-match hit\n"
     ]
    },
    {
     "name": "stdout",
     "output_type": "stream",
     "text": [
      "선생님은 영어공부를 많이 해서 미국가서도 의사소통 잘 할 수 있어?"
     ]
    },
    {
     "name": "stderr",
     "output_type": "stream",
     "text": [
      "\n",
      "llama_print_timings:        load time =   40091.78 ms\n",
      "llama_print_timings:      sample time =       2.69 ms /    19 runs   (    0.14 ms per token,  7052.71 tokens per second)\n",
      "llama_print_timings: prompt eval time =   25492.60 ms /   350 tokens (   72.84 ms per token,    13.73 tokens per second)\n",
      "llama_print_timings:        eval time =    3415.12 ms /    18 runs   (  189.73 ms per token,     5.27 tokens per second)\n",
      "llama_print_timings:       total time =   28965.81 ms /   368 tokens\n",
      "  6%|▌         | 3/54 [01:31<25:49, 30.39s/it]Llama.generate: prefix-match hit\n"
     ]
    },
    {
     "name": "stdout",
     "output_type": "stream",
     "text": [
      "그래. 다음에 보자."
     ]
    },
    {
     "name": "stderr",
     "output_type": "stream",
     "text": [
      "\n",
      "llama_print_timings:        load time =   40091.78 ms\n",
      "llama_print_timings:      sample time =       0.84 ms /     6 runs   (    0.14 ms per token,  7151.37 tokens per second)\n",
      "llama_print_timings: prompt eval time =   28199.51 ms /   391 tokens (   72.12 ms per token,    13.87 tokens per second)\n",
      "llama_print_timings:        eval time =     963.30 ms /     5 runs   (  192.66 ms per token,     5.19 tokens per second)\n",
      "llama_print_timings:       total time =   29179.49 ms /   396 tokens\n",
      "  7%|▋         | 4/54 [02:01<24:55, 29.91s/it]Llama.generate: prefix-match hit\n"
     ]
    },
    {
     "name": "stdout",
     "output_type": "stream",
     "text": [
      "그래야겠다. @이름@도 목관리 잘해!"
     ]
    },
    {
     "name": "stderr",
     "output_type": "stream",
     "text": [
      "\n",
      "llama_print_timings:        load time =   40091.78 ms\n",
      "llama_print_timings:      sample time =       1.82 ms /    13 runs   (    0.14 ms per token,  7142.86 tokens per second)\n",
      "llama_print_timings: prompt eval time =   31034.33 ms /   430 tokens (   72.17 ms per token,    13.86 tokens per second)\n",
      "llama_print_timings:        eval time =    2282.27 ms /    12 runs   (  190.19 ms per token,     5.26 tokens per second)\n",
      "llama_print_timings:       total time =   33358.09 ms /   442 tokens\n",
      "  9%|▉         | 5/54 [02:34<25:26, 31.16s/it]Llama.generate: prefix-match hit\n"
     ]
    },
    {
     "name": "stdout",
     "output_type": "stream",
     "text": [
      "게임에 푹 빠졌구나. 나도 게임 얘기하니까 게임하고 싶다."
     ]
    },
    {
     "name": "stderr",
     "output_type": "stream",
     "text": [
      "\n",
      "llama_print_timings:        load time =   40091.78 ms\n",
      "llama_print_timings:      sample time =       2.26 ms /    16 runs   (    0.14 ms per token,  7073.39 tokens per second)\n",
      "llama_print_timings: prompt eval time =   24629.98 ms /   338 tokens (   72.87 ms per token,    13.72 tokens per second)\n",
      "llama_print_timings:        eval time =    2835.84 ms /    15 runs   (  189.06 ms per token,     5.29 tokens per second)\n",
      "llama_print_timings:       total time =   27514.79 ms /   353 tokens\n",
      " 11%|█         | 6/54 [03:01<23:56, 29.92s/it]Llama.generate: prefix-match hit\n"
     ]
    },
    {
     "name": "stdout",
     "output_type": "stream",
     "text": [
      "RPG게임을 하고 있어. 너도 한번 해보라고 추천해주고 싶은데, 너는 관심이 없을 것 같아."
     ]
    },
    {
     "name": "stderr",
     "output_type": "stream",
     "text": [
      "\n",
      "llama_print_timings:        load time =   40091.78 ms\n",
      "llama_print_timings:      sample time =       3.11 ms /    22 runs   (    0.14 ms per token,  7067.14 tokens per second)\n",
      "llama_print_timings: prompt eval time =   26232.80 ms /   362 tokens (   72.47 ms per token,    13.80 tokens per second)\n",
      "llama_print_timings:        eval time =    3990.58 ms /    21 runs   (  190.03 ms per token,     5.26 tokens per second)\n",
      "llama_print_timings:       total time =   30291.59 ms /   383 tokens\n",
      " 13%|█▎        | 7/54 [03:32<23:32, 30.04s/it]Llama.generate: prefix-match hit\n"
     ]
    },
    {
     "name": "stdout",
     "output_type": "stream",
     "text": [
      "나도 서울살아. 시어머니께서 너무 잘 해주셔."
     ]
    },
    {
     "name": "stderr",
     "output_type": "stream",
     "text": [
      "\n",
      "llama_print_timings:        load time =   40091.78 ms\n",
      "llama_print_timings:      sample time =       1.97 ms /    14 runs   (    0.14 ms per token,  7092.20 tokens per second)\n",
      "llama_print_timings: prompt eval time =   28257.04 ms /   390 tokens (   72.45 ms per token,    13.80 tokens per second)\n",
      "llama_print_timings:        eval time =    2474.80 ms /    13 runs   (  190.37 ms per token,     5.25 tokens per second)\n",
      "llama_print_timings:       total time =   30775.00 ms /   403 tokens\n",
      " 15%|█▍        | 8/54 [04:03<23:12, 30.28s/it]Llama.generate: prefix-match hit\n"
     ]
    },
    {
     "name": "stdout",
     "output_type": "stream",
     "text": [
      "응, 오늘 날씨는 너무 좋네."
     ]
    },
    {
     "name": "stderr",
     "output_type": "stream",
     "text": [
      "\n",
      "llama_print_timings:        load time =   40091.78 ms\n",
      "llama_print_timings:      sample time =       1.47 ms /    10 runs   (    0.15 ms per token,  6807.35 tokens per second)\n",
      "llama_print_timings: prompt eval time =   24876.95 ms /   341 tokens (   72.95 ms per token,    13.71 tokens per second)\n",
      "llama_print_timings:        eval time =    1706.38 ms /     9 runs   (  189.60 ms per token,     5.27 tokens per second)\n",
      "llama_print_timings:       total time =   26613.78 ms /   350 tokens\n",
      " 17%|█▋        | 9/54 [04:29<21:51, 29.13s/it]Llama.generate: prefix-match hit\n"
     ]
    },
    {
     "name": "stdout",
     "output_type": "stream",
     "text": [
      "그러게 말이야. 여름을 잘 보내려면 에어컨이 꼭 있어야 돼."
     ]
    },
    {
     "name": "stderr",
     "output_type": "stream",
     "text": [
      "\n",
      "llama_print_timings:        load time =   40091.78 ms\n",
      "llama_print_timings:      sample time =       2.23 ms /    16 runs   (    0.14 ms per token,  7168.46 tokens per second)\n",
      "llama_print_timings: prompt eval time =   25757.07 ms /   356 tokens (   72.35 ms per token,    13.82 tokens per second)\n",
      "llama_print_timings:        eval time =    2839.02 ms /    15 runs   (  189.27 ms per token,     5.28 tokens per second)\n",
      "llama_print_timings:       total time =   28645.70 ms /   371 tokens\n",
      " 19%|█▊        | 10/54 [04:58<21:15, 28.99s/it]Llama.generate: prefix-match hit\n"
     ]
    },
    {
     "name": "stdout",
     "output_type": "stream",
     "text": [
      "그래서인지 요즘 더위를 극복하는 방법에 대해서 공부해."
     ]
    },
    {
     "name": "stderr",
     "output_type": "stream",
     "text": [
      "\n",
      "llama_print_timings:        load time =   40091.78 ms\n",
      "llama_print_timings:      sample time =       2.06 ms /    14 runs   (    0.15 ms per token,  6812.65 tokens per second)\n",
      "llama_print_timings: prompt eval time =   28955.94 ms /   401 tokens (   72.21 ms per token,    13.85 tokens per second)\n",
      "llama_print_timings:        eval time =    2472.68 ms /    13 runs   (  190.21 ms per token,     5.26 tokens per second)\n",
      "llama_print_timings:       total time =   31472.14 ms /   414 tokens\n",
      " 20%|██        | 11/54 [05:29<21:19, 29.75s/it]Llama.generate: prefix-match hit\n"
     ]
    },
    {
     "name": "stdout",
     "output_type": "stream",
     "text": [
      "고마워 안녕~"
     ]
    },
    {
     "name": "stderr",
     "output_type": "stream",
     "text": [
      "\n",
      "llama_print_timings:        load time =   40091.78 ms\n",
      "llama_print_timings:      sample time =       0.83 ms /     6 runs   (    0.14 ms per token,  7220.22 tokens per second)\n",
      "llama_print_timings: prompt eval time =   30737.67 ms /   428 tokens (   71.82 ms per token,    13.92 tokens per second)\n",
      "llama_print_timings:        eval time =     944.35 ms /     5 runs   (  188.87 ms per token,     5.29 tokens per second)\n",
      "llama_print_timings:       total time =   31700.80 ms /   433 tokens\n",
      " 22%|██▏       | 12/54 [06:01<21:14, 30.34s/it]Llama.generate: prefix-match hit\n"
     ]
    },
    {
     "name": "stdout",
     "output_type": "stream",
     "text": [
      "고마워. 너는 요즘 뭐하고 지내?"
     ]
    },
    {
     "name": "stderr",
     "output_type": "stream",
     "text": [
      "\n",
      "llama_print_timings:        load time =   40091.78 ms\n",
      "llama_print_timings:      sample time =       1.41 ms /    10 runs   (    0.14 ms per token,  7097.23 tokens per second)\n",
      "llama_print_timings: prompt eval time =   25551.38 ms /   354 tokens (   72.18 ms per token,    13.85 tokens per second)\n",
      "llama_print_timings:        eval time =    1711.59 ms /     9 runs   (  190.18 ms per token,     5.26 tokens per second)\n",
      "llama_print_timings:       total time =   27295.15 ms /   363 tokens\n",
      " 24%|██▍       | 13/54 [06:28<20:06, 29.42s/it]Llama.generate: prefix-match hit\n"
     ]
    },
    {
     "name": "stdout",
     "output_type": "stream",
     "text": [
      "그래? 반가운걸? 그럼 경영학과 관련된 궁금한 것 있으면 언제든 물어봐."
     ]
    },
    {
     "name": "stderr",
     "output_type": "stream",
     "text": [
      "\n",
      "llama_print_timings:        load time =   40091.78 ms\n",
      "llama_print_timings:      sample time =       2.98 ms /    21 runs   (    0.14 ms per token,  7051.71 tokens per second)\n",
      "llama_print_timings: prompt eval time =   28413.71 ms /   393 tokens (   72.30 ms per token,    13.83 tokens per second)\n",
      "llama_print_timings:        eval time =    3848.07 ms /    20 runs   (  192.40 ms per token,     5.20 tokens per second)\n",
      "llama_print_timings:       total time =   32325.43 ms /   413 tokens\n",
      " 26%|██▌       | 14/54 [07:01<20:12, 30.30s/it]Llama.generate: prefix-match hit\n"
     ]
    },
    {
     "name": "stdout",
     "output_type": "stream",
     "text": [
      "고마워, 너도 밥 맛있게 먹어!"
     ]
    },
    {
     "name": "stderr",
     "output_type": "stream",
     "text": [
      "\n",
      "llama_print_timings:        load time =   40091.78 ms\n",
      "llama_print_timings:      sample time =       1.54 ms /    11 runs   (    0.14 ms per token,  7119.74 tokens per second)\n",
      "llama_print_timings: prompt eval time =   26673.25 ms /   367 tokens (   72.68 ms per token,    13.76 tokens per second)\n",
      "llama_print_timings:        eval time =    1901.92 ms /    10 runs   (  190.19 ms per token,     5.26 tokens per second)\n",
      "llama_print_timings:       total time =   28607.92 ms /   377 tokens\n",
      " 28%|██▊       | 15/54 [07:29<19:21, 29.79s/it]Llama.generate: prefix-match hit\n"
     ]
    },
    {
     "name": "stdout",
     "output_type": "stream",
     "text": [
      "아, 그러시구나. 요리도 배우면 좋을 것 같아. 요리도 재밌잖아."
     ]
    },
    {
     "name": "stderr",
     "output_type": "stream",
     "text": [
      "\n",
      "llama_print_timings:        load time =   40091.78 ms\n",
      "llama_print_timings:      sample time =       2.84 ms /    20 runs   (    0.14 ms per token,  7034.82 tokens per second)\n",
      "llama_print_timings: prompt eval time =   30006.42 ms /   417 tokens (   71.96 ms per token,    13.90 tokens per second)\n",
      "llama_print_timings:        eval time =    3698.02 ms /    19 runs   (  194.63 ms per token,     5.14 tokens per second)\n",
      "llama_print_timings:       total time =   33765.48 ms /   436 tokens\n",
      " 30%|██▉       | 16/54 [08:03<19:37, 30.99s/it]Llama.generate: prefix-match hit\n"
     ]
    },
    {
     "name": "stdout",
     "output_type": "stream",
     "text": [
      "합창은 싫어하는데 혼자 부르는 것은 좋아해. 그래서 밴드부 동아리에도 관심이 있어."
     ]
    },
    {
     "name": "stderr",
     "output_type": "stream",
     "text": [
      "\n",
      "llama_print_timings:        load time =   40091.78 ms\n",
      "llama_print_timings:      sample time =       3.11 ms /    22 runs   (    0.14 ms per token,  7064.87 tokens per second)\n",
      "llama_print_timings: prompt eval time =   29918.68 ms /   407 tokens (   73.51 ms per token,    13.60 tokens per second)\n",
      "llama_print_timings:        eval time =    4044.97 ms /    21 runs   (  192.62 ms per token,     5.19 tokens per second)\n",
      "llama_print_timings:       total time =   34029.11 ms /   428 tokens\n",
      " 31%|███▏      | 17/54 [08:37<19:40, 31.91s/it]Llama.generate: prefix-match hit\n"
     ]
    },
    {
     "name": "stdout",
     "output_type": "stream",
     "text": [
      "그래 맛있는 점심 먹고 와"
     ]
    },
    {
     "name": "stderr",
     "output_type": "stream",
     "text": [
      "\n",
      "llama_print_timings:        load time =   40091.78 ms\n",
      "llama_print_timings:      sample time =       0.98 ms /     7 runs   (    0.14 ms per token,  7128.31 tokens per second)\n",
      "llama_print_timings: prompt eval time =   30307.91 ms /   420 tokens (   72.16 ms per token,    13.86 tokens per second)\n",
      "llama_print_timings:        eval time =    1147.11 ms /     6 runs   (  191.19 ms per token,     5.23 tokens per second)\n",
      "llama_print_timings:       total time =   31478.22 ms /   426 tokens\n",
      " 33%|███▎      | 18/54 [09:09<19:04, 31.78s/it]Llama.generate: prefix-match hit\n"
     ]
    },
    {
     "name": "stdout",
     "output_type": "stream",
     "text": [
      "아까 첼로 이야기했는데, 첼로 연습을 못하니까 심심해서 어떡해?"
     ]
    },
    {
     "name": "stderr",
     "output_type": "stream",
     "text": [
      "\n",
      "llama_print_timings:        load time =   40091.78 ms\n",
      "llama_print_timings:      sample time =       2.81 ms /    20 runs   (    0.14 ms per token,  7127.58 tokens per second)\n",
      "llama_print_timings: prompt eval time =   26369.69 ms /   362 tokens (   72.84 ms per token,    13.73 tokens per second)\n",
      "llama_print_timings:        eval time =    3598.35 ms /    19 runs   (  189.39 ms per token,     5.28 tokens per second)\n",
      "llama_print_timings:       total time =   30028.72 ms /   381 tokens\n",
      " 35%|███▌      | 19/54 [09:39<18:13, 31.26s/it]Llama.generate: prefix-match hit\n"
     ]
    },
    {
     "name": "stdout",
     "output_type": "stream",
     "text": [
      "아니, 내 친구 중에 군인 친구는 없어. 군대 간 친구 면회는 가봤어?"
     ]
    },
    {
     "name": "stderr",
     "output_type": "stream",
     "text": [
      "\n",
      "llama_print_timings:        load time =   40091.78 ms\n",
      "llama_print_timings:      sample time =       2.79 ms /    20 runs   (    0.14 ms per token,  7171.03 tokens per second)\n",
      "llama_print_timings: prompt eval time =   25076.92 ms /   345 tokens (   72.69 ms per token,    13.76 tokens per second)\n",
      "llama_print_timings:        eval time =    3614.33 ms /    19 runs   (  190.23 ms per token,     5.26 tokens per second)\n",
      "llama_print_timings:       total time =   28750.18 ms /   364 tokens\n",
      " 37%|███▋      | 20/54 [10:07<17:17, 30.50s/it]Llama.generate: prefix-match hit\n"
     ]
    },
    {
     "name": "stdout",
     "output_type": "stream",
     "text": [
      "아니! 주름에 필러를 맞아봤어?"
     ]
    },
    {
     "name": "stderr",
     "output_type": "stream",
     "text": [
      "\n",
      "llama_print_timings:        load time =   40091.78 ms\n",
      "llama_print_timings:      sample time =       1.82 ms /    13 runs   (    0.14 ms per token,  7135.02 tokens per second)\n",
      "llama_print_timings: prompt eval time =   29609.27 ms /   410 tokens (   72.22 ms per token,    13.85 tokens per second)\n",
      "llama_print_timings:        eval time =    2295.31 ms /    12 runs   (  191.28 ms per token,     5.23 tokens per second)\n",
      "llama_print_timings:       total time =   31943.16 ms /   422 tokens\n",
      " 39%|███▉      | 21/54 [10:39<17:00, 30.94s/it]Llama.generate: prefix-match hit\n"
     ]
    },
    {
     "name": "stdout",
     "output_type": "stream",
     "text": [
      "너도 곱슬머리구나. 곱슬머리가 잘 안정리되잖아."
     ]
    },
    {
     "name": "stderr",
     "output_type": "stream",
     "text": [
      "\n",
      "llama_print_timings:        load time =   40091.78 ms\n",
      "llama_print_timings:      sample time =       2.67 ms /    19 runs   (    0.14 ms per token,  7124.11 tokens per second)\n",
      "llama_print_timings: prompt eval time =   27130.22 ms /   379 tokens (   71.58 ms per token,    13.97 tokens per second)\n",
      "llama_print_timings:        eval time =    3417.56 ms /    18 runs   (  189.86 ms per token,     5.27 tokens per second)\n",
      "llama_print_timings:       total time =   30605.19 ms /   397 tokens\n",
      " 41%|████      | 22/54 [11:10<16:26, 30.84s/it]Llama.generate: prefix-match hit\n"
     ]
    },
    {
     "name": "stdout",
     "output_type": "stream",
     "text": [
      "그래 잘 마셔. 다음에 또 연락해."
     ]
    },
    {
     "name": "stderr",
     "output_type": "stream",
     "text": [
      "\n",
      "llama_print_timings:        load time =   40091.78 ms\n",
      "llama_print_timings:      sample time =       1.53 ms /    11 runs   (    0.14 ms per token,  7175.47 tokens per second)\n",
      "llama_print_timings: prompt eval time =   27217.93 ms /   379 tokens (   71.82 ms per token,    13.92 tokens per second)\n",
      "llama_print_timings:        eval time =    1890.23 ms /    10 runs   (  189.02 ms per token,     5.29 tokens per second)\n",
      "llama_print_timings:       total time =   29140.13 ms /   389 tokens\n",
      " 43%|████▎     | 23/54 [11:39<15:40, 30.33s/it]Llama.generate: prefix-match hit\n"
     ]
    },
    {
     "name": "stdout",
     "output_type": "stream",
     "text": [
      "그렇구나. 운동 열심히하고와."
     ]
    },
    {
     "name": "stderr",
     "output_type": "stream",
     "text": [
      "\n",
      "llama_print_timings:        load time =   40091.78 ms\n",
      "llama_print_timings:      sample time =       1.25 ms /     9 runs   (    0.14 ms per token,  7217.32 tokens per second)\n",
      "llama_print_timings: prompt eval time =   25715.07 ms /   351 tokens (   73.26 ms per token,    13.65 tokens per second)\n",
      "llama_print_timings:        eval time =    1506.10 ms /     8 runs   (  188.26 ms per token,     5.31 tokens per second)\n",
      "llama_print_timings:       total time =   27248.73 ms /   359 tokens\n",
      " 44%|████▍     | 24/54 [12:06<14:42, 29.41s/it]Llama.generate: prefix-match hit\n"
     ]
    },
    {
     "name": "stdout",
     "output_type": "stream",
     "text": [
      "오~ 너무 멋지다! 오보에 학원은 어때?"
     ]
    },
    {
     "name": "stderr",
     "output_type": "stream",
     "text": [
      "\n",
      "llama_print_timings:        load time =   40091.78 ms\n",
      "llama_print_timings:      sample time =       2.06 ms /    14 runs   (    0.15 ms per token,  6799.42 tokens per second)\n",
      "llama_print_timings: prompt eval time =   29165.08 ms /   402 tokens (   72.55 ms per token,    13.78 tokens per second)\n",
      "llama_print_timings:        eval time =    2509.74 ms /    13 runs   (  193.06 ms per token,     5.18 tokens per second)\n",
      "llama_print_timings:       total time =   31717.55 ms /   415 tokens\n",
      " 46%|████▋     | 25/54 [12:38<14:32, 30.10s/it]Llama.generate: prefix-match hit\n"
     ]
    },
    {
     "name": "stdout",
     "output_type": "stream",
     "text": [
      "만화 좋아하지. 특히 @브랜드명2@ 만화 좋아해. @브랜드명3@는 너무 잔인해서 싫어하는데. @브랜드명3@는 왜 그리 잔인하단 말이야?"
     ]
    },
    {
     "name": "stderr",
     "output_type": "stream",
     "text": [
      "\n",
      "llama_print_timings:        load time =   40091.78 ms\n",
      "llama_print_timings:      sample time =       5.79 ms /    41 runs   (    0.14 ms per token,  7081.17 tokens per second)\n",
      "llama_print_timings: prompt eval time =   26726.47 ms /   366 tokens (   73.02 ms per token,    13.69 tokens per second)\n",
      "llama_print_timings:        eval time =    7589.05 ms /    40 runs   (  189.73 ms per token,     5.27 tokens per second)\n",
      "llama_print_timings:       total time =   34442.36 ms /   406 tokens\n",
      " 48%|████▊     | 26/54 [13:12<14:39, 31.41s/it]Llama.generate: prefix-match hit\n"
     ]
    },
    {
     "name": "stdout",
     "output_type": "stream",
     "text": [
      "너도 내 춤을 궁금해 해줘서 고마워. 다음주에 내가 첼로를 연주하는 영상을 보여줄게. 재밌게 봐줄래?"
     ]
    },
    {
     "name": "stderr",
     "output_type": "stream",
     "text": [
      "\n",
      "llama_print_timings:        load time =   40091.78 ms\n",
      "llama_print_timings:      sample time =       4.34 ms /    31 runs   (    0.14 ms per token,  7141.21 tokens per second)\n",
      "llama_print_timings: prompt eval time =   28843.10 ms /   401 tokens (   71.93 ms per token,    13.90 tokens per second)\n",
      "llama_print_timings:        eval time =    5717.16 ms /    30 runs   (  190.57 ms per token,     5.25 tokens per second)\n",
      "llama_print_timings:       total time =   34653.86 ms /   431 tokens\n",
      " 50%|█████     | 27/54 [13:47<14:34, 32.38s/it]Llama.generate: prefix-match hit\n"
     ]
    },
    {
     "name": "stdout",
     "output_type": "stream",
     "text": [
      "내가 싫어하는 가을이라서 그런지 요즘 날씨에 대한 뉴스가 많이 나오더라고."
     ]
    },
    {
     "name": "stderr",
     "output_type": "stream",
     "text": [
      "\n",
      "llama_print_timings:        load time =   40091.78 ms\n",
      "llama_print_timings:      sample time =       2.38 ms /    17 runs   (    0.14 ms per token,  7142.86 tokens per second)\n",
      "llama_print_timings: prompt eval time =   24511.72 ms /   336 tokens (   72.95 ms per token,    13.71 tokens per second)\n",
      "llama_print_timings:        eval time =    3050.13 ms /    16 runs   (  190.63 ms per token,     5.25 tokens per second)\n",
      "llama_print_timings:       total time =   27614.84 ms /   352 tokens\n",
      " 52%|█████▏    | 28/54 [14:15<13:24, 30.95s/it]Llama.generate: prefix-match hit\n"
     ]
    },
    {
     "name": "stdout",
     "output_type": "stream",
     "text": [
      "응 맞아. 시장에서는 한 봉지에 만원으로 살 수 있거든. 근데 마트에서는 한 봉지에 오천원이잖아."
     ]
    },
    {
     "name": "stderr",
     "output_type": "stream",
     "text": [
      "\n",
      "llama_print_timings:        load time =   40091.78 ms\n",
      "llama_print_timings:      sample time =       3.91 ms /    27 runs   (    0.14 ms per token,  6903.61 tokens per second)\n",
      "llama_print_timings: prompt eval time =   28791.74 ms /   396 tokens (   72.71 ms per token,    13.75 tokens per second)\n",
      "llama_print_timings:        eval time =    4923.15 ms /    26 runs   (  189.35 ms per token,     5.28 tokens per second)\n",
      "llama_print_timings:       total time =   33795.10 ms /   422 tokens\n",
      " 54%|█████▎    | 29/54 [14:49<13:15, 31.81s/it]Llama.generate: prefix-match hit\n"
     ]
    },
    {
     "name": "stdout",
     "output_type": "stream",
     "text": [
      "아마도 지금쯤 첼로를 연주하고 있을 거예요."
     ]
    },
    {
     "name": "stderr",
     "output_type": "stream",
     "text": [
      "\n",
      "llama_print_timings:        load time =   40091.78 ms\n",
      "llama_print_timings:      sample time =       2.11 ms /    15 runs   (    0.14 ms per token,  7105.64 tokens per second)\n",
      "llama_print_timings: prompt eval time =   26445.35 ms /   362 tokens (   73.05 ms per token,    13.69 tokens per second)\n",
      "llama_print_timings:        eval time =    2669.16 ms /    14 runs   (  190.65 ms per token,     5.25 tokens per second)\n",
      "llama_print_timings:       total time =   29159.29 ms /   376 tokens\n",
      " 56%|█████▌    | 30/54 [15:18<12:24, 31.02s/it]Llama.generate: prefix-match hit\n"
     ]
    },
    {
     "name": "stdout",
     "output_type": "stream",
     "text": [
      "감사합니다! 그럼 이제 집 근처에 도착했어! 다음에 또 대화하자."
     ]
    },
    {
     "name": "stderr",
     "output_type": "stream",
     "text": [
      "\n",
      "llama_print_timings:        load time =   40091.78 ms\n",
      "llama_print_timings:      sample time =       2.19 ms /    16 runs   (    0.14 ms per token,  7322.65 tokens per second)\n",
      "llama_print_timings: prompt eval time =   27770.68 ms /   384 tokens (   72.32 ms per token,    13.83 tokens per second)\n",
      "llama_print_timings:        eval time =    2847.08 ms /    15 runs   (  189.81 ms per token,     5.27 tokens per second)\n",
      "llama_print_timings:       total time =   30664.12 ms /   399 tokens\n",
      " 57%|█████▋    | 31/54 [15:48<11:50, 30.91s/it]Llama.generate: prefix-match hit\n"
     ]
    },
    {
     "name": "stdout",
     "output_type": "stream",
     "text": [
      "그렇긴 해. 너는 오늘 뭐해?"
     ]
    },
    {
     "name": "stderr",
     "output_type": "stream",
     "text": [
      "\n",
      "llama_print_timings:        load time =   40091.78 ms\n",
      "llama_print_timings:      sample time =       1.45 ms /    10 runs   (    0.15 ms per token,  6887.05 tokens per second)\n",
      "llama_print_timings: prompt eval time =   25721.34 ms /   355 tokens (   72.45 ms per token,    13.80 tokens per second)\n",
      "llama_print_timings:        eval time =    1711.79 ms /     9 runs   (  190.20 ms per token,     5.26 tokens per second)\n",
      "llama_print_timings:       total time =   27463.14 ms /   364 tokens\n",
      " 59%|█████▉    | 32/54 [16:16<10:57, 29.88s/it]Llama.generate: prefix-match hit\n"
     ]
    },
    {
     "name": "stdout",
     "output_type": "stream",
     "text": [
      "나는 첼로를 배우고 있어. 학원 수학 강사로 일하는데 학생들의 기말고사 때문에 시간이 없어서 쉬어야 해."
     ]
    },
    {
     "name": "stderr",
     "output_type": "stream",
     "text": [
      "\n",
      "llama_print_timings:        load time =   40091.78 ms\n",
      "llama_print_timings:      sample time =       3.65 ms /    26 runs   (    0.14 ms per token,  7125.24 tokens per second)\n",
      "llama_print_timings: prompt eval time =   28675.54 ms /   396 tokens (   72.41 ms per token,    13.81 tokens per second)\n",
      "llama_print_timings:        eval time =    4757.01 ms /    25 runs   (  190.28 ms per token,     5.26 tokens per second)\n",
      "llama_print_timings:       total time =   33512.63 ms /   421 tokens\n",
      " 61%|██████    | 33/54 [16:49<10:50, 30.97s/it]Llama.generate: prefix-match hit\n"
     ]
    },
    {
     "name": "stdout",
     "output_type": "stream",
     "text": [
      "응, 면접 준비도 해야하는데 너무 귀찮아."
     ]
    },
    {
     "name": "stderr",
     "output_type": "stream",
     "text": [
      "\n",
      "llama_print_timings:        load time =   40091.78 ms\n",
      "llama_print_timings:      sample time =       1.72 ms /    12 runs   (    0.14 ms per token,  6968.64 tokens per second)\n",
      "llama_print_timings: prompt eval time =   27272.59 ms /   375 tokens (   72.73 ms per token,    13.75 tokens per second)\n",
      "llama_print_timings:        eval time =    2100.50 ms /    11 runs   (  190.95 ms per token,     5.24 tokens per second)\n",
      "llama_print_timings:       total time =   29411.56 ms /   386 tokens\n",
      " 63%|██████▎   | 34/54 [17:19<10:10, 30.50s/it]Llama.generate: prefix-match hit\n"
     ]
    },
    {
     "name": "stdout",
     "output_type": "stream",
     "text": [
      "우와 멋지다. 국악인이면 국악에 대해 잘 알겠네?"
     ]
    },
    {
     "name": "stderr",
     "output_type": "stream",
     "text": [
      "\n",
      "llama_print_timings:        load time =   40091.78 ms\n",
      "llama_print_timings:      sample time =       2.40 ms /    17 runs   (    0.14 ms per token,  7077.44 tokens per second)\n",
      "llama_print_timings: prompt eval time =   26365.44 ms /   363 tokens (   72.63 ms per token,    13.77 tokens per second)\n",
      "llama_print_timings:        eval time =    3050.94 ms /    16 runs   (  190.68 ms per token,     5.24 tokens per second)\n",
      "llama_print_timings:       total time =   29468.87 ms /   379 tokens\n",
      " 65%|██████▍   | 35/54 [17:48<09:33, 30.20s/it]Llama.generate: prefix-match hit\n"
     ]
    },
    {
     "name": "stdout",
     "output_type": "stream",
     "text": [
      "그러니까. 내가 학원 수학강사라서 알바할 때 공부에 도움이 될만한 걸 보려고."
     ]
    },
    {
     "name": "stderr",
     "output_type": "stream",
     "text": [
      "\n",
      "llama_print_timings:        load time =   40091.78 ms\n",
      "llama_print_timings:      sample time =       3.11 ms /    22 runs   (    0.14 ms per token,  7080.79 tokens per second)\n",
      "llama_print_timings: prompt eval time =   28163.75 ms /   378 tokens (   74.51 ms per token,    13.42 tokens per second)\n",
      "llama_print_timings:        eval time =    4058.32 ms /    21 runs   (  193.25 ms per token,     5.17 tokens per second)\n",
      "llama_print_timings:       total time =   32288.71 ms /   399 tokens\n",
      " 67%|██████▋   | 36/54 [18:21<09:14, 30.83s/it]Llama.generate: prefix-match hit\n"
     ]
    },
    {
     "name": "stdout",
     "output_type": "stream",
     "text": [
      "응, 나 태국음식을 좋아하는데, 나에게 추천해줄 수 있어?"
     ]
    },
    {
     "name": "stderr",
     "output_type": "stream",
     "text": [
      "\n",
      "llama_print_timings:        load time =   40091.78 ms\n",
      "llama_print_timings:      sample time =       2.37 ms /    17 runs   (    0.14 ms per token,  7185.12 tokens per second)\n",
      "llama_print_timings: prompt eval time =   30494.12 ms /   424 tokens (   71.92 ms per token,    13.90 tokens per second)\n",
      "llama_print_timings:        eval time =    3082.43 ms /    16 runs   (  192.65 ms per token,     5.19 tokens per second)\n",
      "llama_print_timings:       total time =   33629.04 ms /   440 tokens\n",
      " 69%|██████▊   | 37/54 [18:54<08:58, 31.67s/it]Llama.generate: prefix-match hit\n"
     ]
    },
    {
     "name": "stdout",
     "output_type": "stream",
     "text": [
      "그냥 쉬고 있는데 첼로 연습좀 해야겠다."
     ]
    },
    {
     "name": "stderr",
     "output_type": "stream",
     "text": [
      "\n",
      "llama_print_timings:        load time =   40091.78 ms\n",
      "llama_print_timings:      sample time =       1.71 ms /    12 runs   (    0.14 ms per token,  7009.35 tokens per second)\n",
      "llama_print_timings: prompt eval time =   27264.00 ms /   375 tokens (   72.70 ms per token,    13.75 tokens per second)\n",
      "llama_print_timings:        eval time =    2207.95 ms /    11 runs   (  200.72 ms per token,     4.98 tokens per second)\n",
      "llama_print_timings:       total time =   29508.90 ms /   386 tokens\n",
      " 70%|███████   | 38/54 [19:24<08:16, 31.02s/it]Llama.generate: prefix-match hit\n"
     ]
    },
    {
     "name": "stdout",
     "output_type": "stream",
     "text": [
      "응. 우리 가족은 이번에 다 같이 가기로 했어. 부모님이랑 아내랑 그리고 아이랑."
     ]
    },
    {
     "name": "stderr",
     "output_type": "stream",
     "text": [
      "\n",
      "llama_print_timings:        load time =   40091.78 ms\n",
      "llama_print_timings:      sample time =       3.11 ms /    22 runs   (    0.14 ms per token,  7064.87 tokens per second)\n",
      "llama_print_timings: prompt eval time =   26366.26 ms /   361 tokens (   73.04 ms per token,    13.69 tokens per second)\n",
      "llama_print_timings:        eval time =    4020.74 ms /    21 runs   (  191.46 ms per token,     5.22 tokens per second)\n",
      "llama_print_timings:       total time =   30456.30 ms /   382 tokens\n",
      " 72%|███████▏  | 39/54 [19:54<07:42, 30.85s/it]Llama.generate: prefix-match hit\n"
     ]
    },
    {
     "name": "stdout",
     "output_type": "stream",
     "text": [
      "미팅? 대학 다닐 때 해본 적이 있어?"
     ]
    },
    {
     "name": "stderr",
     "output_type": "stream",
     "text": [
      "\n",
      "llama_print_timings:        load time =   40091.78 ms\n",
      "llama_print_timings:      sample time =       1.73 ms /    12 runs   (    0.14 ms per token,  6928.41 tokens per second)\n",
      "llama_print_timings: prompt eval time =   25869.73 ms /   359 tokens (   72.06 ms per token,    13.88 tokens per second)\n",
      "llama_print_timings:        eval time =    2128.44 ms /    11 runs   (  193.49 ms per token,     5.17 tokens per second)\n",
      "llama_print_timings:       total time =   28034.66 ms /   370 tokens\n",
      " 74%|███████▍  | 40/54 [20:22<07:00, 30.01s/it]Llama.generate: prefix-match hit\n"
     ]
    },
    {
     "name": "stdout",
     "output_type": "stream",
     "text": [
      "부럽네. 나도 결혼은 했지만 남편하고 사이가 좋지 않아."
     ]
    },
    {
     "name": "stderr",
     "output_type": "stream",
     "text": [
      "\n",
      "llama_print_timings:        load time =   40091.78 ms\n",
      "llama_print_timings:      sample time =       2.23 ms /    16 runs   (    0.14 ms per token,  7165.25 tokens per second)\n",
      "llama_print_timings: prompt eval time =   27482.44 ms /   383 tokens (   71.76 ms per token,    13.94 tokens per second)\n",
      "llama_print_timings:        eval time =    2885.67 ms /    15 runs   (  192.38 ms per token,     5.20 tokens per second)\n",
      "llama_print_timings:       total time =   30415.67 ms /   398 tokens\n",
      " 76%|███████▌  | 41/54 [20:53<06:31, 30.13s/it]Llama.generate: prefix-match hit\n"
     ]
    },
    {
     "name": "stdout",
     "output_type": "stream",
     "text": [
      "우와 진짜 멋있다! 축하해!"
     ]
    },
    {
     "name": "stderr",
     "output_type": "stream",
     "text": [
      "\n",
      "llama_print_timings:        load time =   40091.78 ms\n",
      "llama_print_timings:      sample time =       1.33 ms /     9 runs   (    0.15 ms per token,  6746.63 tokens per second)\n",
      "llama_print_timings: prompt eval time =   26348.86 ms /   364 tokens (   72.39 ms per token,    13.81 tokens per second)\n",
      "llama_print_timings:        eval time =    1642.20 ms /     8 runs   (  205.27 ms per token,     4.87 tokens per second)\n",
      "llama_print_timings:       total time =   28018.20 ms /   372 tokens\n",
      " 78%|███████▊  | 42/54 [21:21<05:54, 29.50s/it]Llama.generate: prefix-match hit\n"
     ]
    },
    {
     "name": "stdout",
     "output_type": "stream",
     "text": [
      "나야 좋지. 저녁에 보자."
     ]
    },
    {
     "name": "stderr",
     "output_type": "stream",
     "text": [
      "\n",
      "llama_print_timings:        load time =   40091.78 ms\n",
      "llama_print_timings:      sample time =       1.33 ms /     9 runs   (    0.15 ms per token,  6787.33 tokens per second)\n",
      "llama_print_timings: prompt eval time =   28148.49 ms /   389 tokens (   72.36 ms per token,    13.82 tokens per second)\n",
      "llama_print_timings:        eval time =    1531.33 ms /     8 runs   (  191.42 ms per token,     5.22 tokens per second)\n",
      "llama_print_timings:       total time =   29706.48 ms /   397 tokens\n",
      " 80%|███████▉  | 43/54 [21:50<05:25, 29.56s/it]Llama.generate: prefix-match hit\n"
     ]
    },
    {
     "name": "stdout",
     "output_type": "stream",
     "text": [
      "나는 주말에 친구들이랑 여행을 갈까해."
     ]
    },
    {
     "name": "stderr",
     "output_type": "stream",
     "text": [
      "\n",
      "llama_print_timings:        load time =   40091.78 ms\n",
      "llama_print_timings:      sample time =       1.73 ms /    12 runs   (    0.14 ms per token,  6920.42 tokens per second)\n",
      "llama_print_timings: prompt eval time =   29151.77 ms /   405 tokens (   71.98 ms per token,    13.89 tokens per second)\n",
      "llama_print_timings:        eval time =    2148.37 ms /    11 runs   (  195.31 ms per token,     5.12 tokens per second)\n",
      "llama_print_timings:       total time =   31336.71 ms /   416 tokens\n",
      " 81%|████████▏ | 44/54 [22:22<05:00, 30.10s/it]Llama.generate: prefix-match hit\n"
     ]
    },
    {
     "name": "stdout",
     "output_type": "stream",
     "text": [
      "일단 혼자 해보려고 하는데, 어렵긴 할 것 같아. 인테리어 업체 알아보려면 많이 알아봐야할거 같아."
     ]
    },
    {
     "name": "stderr",
     "output_type": "stream",
     "text": [
      "\n",
      "llama_print_timings:        load time =   40091.78 ms\n",
      "llama_print_timings:      sample time =       3.58 ms /    25 runs   (    0.14 ms per token,  6993.01 tokens per second)\n",
      "llama_print_timings: prompt eval time =   28345.67 ms /   390 tokens (   72.68 ms per token,    13.76 tokens per second)\n",
      "llama_print_timings:        eval time =    4718.31 ms /    24 runs   (  196.60 ms per token,     5.09 tokens per second)\n",
      "llama_print_timings:       total time =   33140.12 ms /   414 tokens\n",
      " 83%|████████▎ | 45/54 [22:55<04:39, 31.01s/it]Llama.generate: prefix-match hit\n"
     ]
    },
    {
     "name": "stdout",
     "output_type": "stream",
     "text": [
      "난 햄버거보다 @브랜드명2@버거를 좋아해. @브랜드명2@ 버거 먹어봤어?"
     ]
    },
    {
     "name": "stderr",
     "output_type": "stream",
     "text": [
      "\n",
      "llama_print_timings:        load time =   40091.78 ms\n",
      "llama_print_timings:      sample time =       3.87 ms /    28 runs   (    0.14 ms per token,  7235.14 tokens per second)\n",
      "llama_print_timings: prompt eval time =   25596.53 ms /   353 tokens (   72.51 ms per token,    13.79 tokens per second)\n",
      "llama_print_timings:        eval time =    5228.44 ms /    27 runs   (  193.65 ms per token,     5.16 tokens per second)\n",
      "llama_print_timings:       total time =   30912.16 ms /   380 tokens\n",
      " 85%|████████▌ | 46/54 [23:26<04:07, 30.98s/it]Llama.generate: prefix-match hit\n"
     ]
    },
    {
     "name": "stdout",
     "output_type": "stream",
     "text": [
      "서울로 가려구. 내가 대학원 진학을 준비하는데 학교가 서울이라 서울로 이사가려고 하거든."
     ]
    },
    {
     "name": "stderr",
     "output_type": "stream",
     "text": [
      "\n",
      "llama_print_timings:        load time =   40091.78 ms\n",
      "llama_print_timings:      sample time =       3.81 ms /    26 runs   (    0.15 ms per token,  6831.32 tokens per second)\n",
      "llama_print_timings: prompt eval time =   27987.50 ms /   384 tokens (   72.88 ms per token,    13.72 tokens per second)\n",
      "llama_print_timings:        eval time =    4822.71 ms /    25 runs   (  192.91 ms per token,     5.18 tokens per second)\n",
      "llama_print_timings:       total time =   32889.90 ms /   409 tokens\n",
      " 87%|████████▋ | 47/54 [23:59<03:40, 31.56s/it]Llama.generate: prefix-match hit\n"
     ]
    },
    {
     "name": "stdout",
     "output_type": "stream",
     "text": [
      "아하 그렇구나. 그런데 패션쇼에서 모델들은 어떻게 런웨이에서 워킹을 하는 걸까?"
     ]
    },
    {
     "name": "stderr",
     "output_type": "stream",
     "text": [
      "\n",
      "llama_print_timings:        load time =   40091.78 ms\n",
      "llama_print_timings:      sample time =       3.27 ms /    23 runs   (    0.14 ms per token,  7040.10 tokens per second)\n",
      "llama_print_timings: prompt eval time =   32398.14 ms /   452 tokens (   71.68 ms per token,    13.95 tokens per second)\n",
      "llama_print_timings:        eval time =    4253.51 ms /    22 runs   (  193.34 ms per token,     5.17 tokens per second)\n",
      "llama_print_timings:       total time =   36723.11 ms /   474 tokens\n",
      " 89%|████████▉ | 48/54 [24:35<03:18, 33.11s/it]Llama.generate: prefix-match hit\n"
     ]
    },
    {
     "name": "stdout",
     "output_type": "stream",
     "text": [
      "브랜드와 유명인 콜라보는 앞서 말했듯이 패션 브랜드와 유명인의 협업을 뜻하는거야. 연예인이나 유명 디자이너와 컬래버레이션을 통해 브랜드 이미지 제고와 매출 증대 효과를 노리는 거지."
     ]
    },
    {
     "name": "stderr",
     "output_type": "stream",
     "text": [
      "\n",
      "llama_print_timings:        load time =   40091.78 ms\n",
      "llama_print_timings:      sample time =       6.52 ms /    46 runs   (    0.14 ms per token,  7054.13 tokens per second)\n",
      "llama_print_timings: prompt eval time =   30562.11 ms /   423 tokens (   72.25 ms per token,    13.84 tokens per second)\n",
      "llama_print_timings:        eval time =    8790.04 ms /    45 runs   (  195.33 ms per token,     5.12 tokens per second)\n",
      "llama_print_timings:       total time =   39494.69 ms /   468 tokens\n",
      " 91%|█████████ | 49/54 [25:15<02:55, 35.03s/it]Llama.generate: prefix-match hit\n"
     ]
    },
    {
     "name": "stdout",
     "output_type": "stream",
     "text": [
      "응, 근데 내가 연락을 안한다고 불만이 있더라고. 그 친구는 연락을 너무 많이 해서 오히려 조금 짜증나던데."
     ]
    },
    {
     "name": "stderr",
     "output_type": "stream",
     "text": [
      "\n",
      "llama_print_timings:        load time =   40091.78 ms\n",
      "llama_print_timings:      sample time =       4.13 ms /    29 runs   (    0.14 ms per token,  7013.30 tokens per second)\n",
      "llama_print_timings: prompt eval time =   29448.41 ms /   403 tokens (   73.07 ms per token,    13.68 tokens per second)\n",
      "llama_print_timings:        eval time =    5435.08 ms /    28 runs   (  194.11 ms per token,     5.15 tokens per second)\n",
      "llama_print_timings:       total time =   34975.53 ms /   431 tokens\n",
      " 93%|█████████▎| 50/54 [25:50<02:20, 35.01s/it]Llama.generate: prefix-match hit\n"
     ]
    },
    {
     "name": "stdout",
     "output_type": "stream",
     "text": [
      "스위스는 날씨 좋아?"
     ]
    },
    {
     "name": "stderr",
     "output_type": "stream",
     "text": [
      "\n",
      "llama_print_timings:        load time =   40091.78 ms\n",
      "llama_print_timings:      sample time =       0.99 ms /     7 runs   (    0.14 ms per token,  7077.86 tokens per second)\n",
      "llama_print_timings: prompt eval time =   27058.90 ms /   370 tokens (   73.13 ms per token,    13.67 tokens per second)\n",
      "llama_print_timings:        eval time =    1150.37 ms /     6 runs   (  191.73 ms per token,     5.22 tokens per second)\n",
      "llama_print_timings:       total time =   28229.77 ms /   376 tokens\n",
      " 94%|█████████▍| 51/54 [26:18<01:38, 32.98s/it]Llama.generate: prefix-match hit\n"
     ]
    },
    {
     "name": "stdout",
     "output_type": "stream",
     "text": [
      "응! 나중에 너도 팝송에 빠질거야. 나중에 내가 더 추천해줄게!"
     ]
    },
    {
     "name": "stderr",
     "output_type": "stream",
     "text": [
      "\n",
      "llama_print_timings:        load time =   40091.78 ms\n",
      "llama_print_timings:      sample time =       2.71 ms /    19 runs   (    0.14 ms per token,  7016.25 tokens per second)\n",
      "llama_print_timings: prompt eval time =   28334.58 ms /   388 tokens (   73.03 ms per token,    13.69 tokens per second)\n",
      "llama_print_timings:        eval time =    3494.16 ms /    18 runs   (  194.12 ms per token,     5.15 tokens per second)\n",
      "llama_print_timings:       total time =   31888.70 ms /   406 tokens\n",
      " 96%|█████████▋| 52/54 [26:50<01:05, 32.65s/it]Llama.generate: prefix-match hit\n"
     ]
    },
    {
     "name": "stdout",
     "output_type": "stream",
     "text": [
      "그럼 정말 천직인가 보다. 나도 나중에 전도사를 해야겠어."
     ]
    },
    {
     "name": "stderr",
     "output_type": "stream",
     "text": [
      "\n",
      "llama_print_timings:        load time =   40091.78 ms\n",
      "llama_print_timings:      sample time =       2.27 ms /    16 runs   (    0.14 ms per token,  7054.67 tokens per second)\n",
      "llama_print_timings: prompt eval time =   28047.49 ms /   386 tokens (   72.66 ms per token,    13.76 tokens per second)\n",
      "llama_print_timings:        eval time =    2883.99 ms /    15 runs   (  192.27 ms per token,     5.20 tokens per second)\n",
      "llama_print_timings:       total time =   30981.32 ms /   401 tokens\n",
      " 98%|█████████▊| 53/54 [27:21<00:32, 32.15s/it]Llama.generate: prefix-match hit\n"
     ]
    },
    {
     "name": "stdout",
     "output_type": "stream",
     "text": [
      "내일 퇴근하고 연락할게"
     ]
    },
    {
     "name": "stderr",
     "output_type": "stream",
     "text": [
      "\n",
      "llama_print_timings:        load time =   40091.78 ms\n",
      "llama_print_timings:      sample time =       1.01 ms /     7 runs   (    0.14 ms per token,  6923.84 tokens per second)\n",
      "llama_print_timings: prompt eval time =   28699.45 ms /   398 tokens (   72.11 ms per token,    13.87 tokens per second)\n",
      "llama_print_timings:        eval time =    1175.74 ms /     6 runs   (  195.96 ms per token,     5.10 tokens per second)\n",
      "llama_print_timings:       total time =   29897.06 ms /   404 tokens\n",
      "100%|██████████| 54/54 [27:51<00:00, 30.95s/it]"
     ]
    },
    {
     "name": "stdout",
     "output_type": "stream",
     "text": [
      "## JSON Converted in ./korean_msc/preprocessing as GEVAL_No_Persona_solar_vl2.json##\n",
      "[{'response': '네~ 잘 케어해주세요!', 'user_persona': '', 'bot_persona': ['나는 여자이다.', '나는 20대이다.', '나는 고양이 두 마리를 키운다.', '나는 밴드부 동아리에 관심이 없다.', '나는 일식을 싫어한다.'], 'prev_dialog': ['User:학원 수학 선생님이셨구나. 나도 일렉기타를 배우고 싶은데, 밴드부 동아리에는 관심이 없고 학원을 알아보려고 하는데 학원비용이 많이 비쌀까?', 'Bot:그렇게 비싸진 않을거야. 20만원 안에서 해결할 수 있을거야.', 'User:그정도면 아르바이트해서 모을 수 있는 금액이네. 첼로 연주 배운지는 얼마나 됐어?', 'Bot:3개월째 배우고 있는데, 중급단계를 배우고 있어.', 'User:빠르게 습득한 거 아니야? 나는 고양이 케어하러 가야되서 다음에 연락할게.']}, {'response': '응 우리 어머니는 항상 나를 지지해주셔. 어머니께 감사해.', 'user_persona': '', 'bot_persona': ['나는 남자이다.', '나는 20대이다.', '나의 거주지는 대구이다.', '나는 워드프로세서 자격증을 준비한다.', '나는 단소 연주를 배우고 싶다.', '나는 요즘 어머니에 대해서 관심을 갖고 공부한다.'], 'prev_dialog': ['User:네 어머니께는 죄송하지만, 그건 다 옛날 말이야. 요즘 남자는 180cm를 못 넘기면 사람 취급도 못 받는다고 하더라고.', 'Bot:아 그렇군. 그런 말은 다소 너무하다는 생각도 가끔 들어.', 'User:그래서 더 이악물고 운동하는 것 같기도해.', 'Bot:화이팅이야. 어머니가 좀 다소 옛날분이셔서 그런 생각을 하셨나봐.', 'User:괜찮아. 너는 어머니하고 사이 좋아?']}, {'response': '선생님은 영어공부를 많이 해서 미국가서도 의사소통 잘 할 수 있어?', 'user_persona': '', 'bot_persona': ['나는 남자이다.', '나는 20대이다.', '나는 커피를 최근에 끊었다.', '나는 2년 전에 이사를 했다.', '나는 매운 음식을 좋아한다.'], 'prev_dialog': ['User:축구하다가 너무 신나셨나봐. 항상 몸 조심해야해.', 'Bot:선생님은 어학연수를 가셔야 하는데, 나보다 더 조심하셔야 하는 거 알지?', 'User:응, 맞아. 나도 항상 그래서 조심하고 또 조심해.', 'Bot:미국에서는 병원비도 장난 아니라고 들었어.', 'User:맞아, 그래서 챙길 수 있는 약들은 많이 챙겨가려고 해.']}, {'response': '그래. 다음에 보자.', 'user_persona': '', 'bot_persona': ['나는 여자이다.', '나는 20대이다.', '나는 요즘, 가끔 죄책감이 든다.', '나는 심리학이 부전공이다.', '나는 보라색을 좋아한다.', '나는 아이스 카푸치노를 매일 2잔 이상 마신다.'], 'prev_dialog': ['User:하나씩 하나씩 열심히 해봐. 나는 이제 카페가서 공부할거야.', 'Bot:뭘 먹을래? 나는 카푸치노를 좋아해.', 'User:나도! 나는 카푸치노를 매일 2잔 이상 마실 정도로 좋아해.', 'Bot:굉장히 좋아하시는 것 같네. 카푸치노의 그 거품이 너무 좋아.', 'User:그러게, 난 이만 카페가서 공부하러 가볼게. 나중에 대화하자.']}, {'response': '그래야겠다. @이름@도 목관리 잘해!', 'user_persona': '', 'bot_persona': ['나는 여자이다.', '나는 10대이다.', '내가 사는 곳은 속초이다', '나는 반려동물 미용사가 되고 싶다', '나는 동화를 가끔 읽는다', '나는 파란색을 싫어한다'], 'prev_dialog': ['User:나는 건강관리를 안해서 치료를 받고 있는 것 같아. @이름@님은 수술 같은 큰 치료를 받아본 적이 있어?', 'Bot:아니, 아직 수술은 안해봤어. 나중에 고의로든 타의로든 하게 될지도 모르는데 마취가 너무 무서운 것 같아.', 'User:나는 편도절제술을 해봤어. 아주 아픈 치료였지. @이름@ 너는 편도염에 자주 걸리는 편이야?', 'Bot:편도염 아니야. 한번도 걸려본 적이 없는데 너무 아플 것 같아. 지금은 어때?', 'User:응 지금은 완치됐어. 치료 받지 않게 목관리를 조심해.']}, {'response': '게임에 푹 빠졌구나. 나도 게임 얘기하니까 게임하고 싶다.', 'user_persona': '', 'bot_persona': ['나는 여자이다.', '나는 20대이다.', '나는 강아지에 관심이 없다.', '나는 사회복지학과 전공이다.', '나는 태블릿을 잘 활용한다.'], 'prev_dialog': ['User:나는 오늘 약속이 없어서 게임이나 하려고. 너는?', 'Bot:나도 게임하려고 했는데, 난 주로 콘솔 게임을 해.', 'User:아 정말? 나도 콘솔 게임해. 어떤 게임해?', 'Bot:나는 요즘 동물의 숲에 빠졌어. 너는?', 'User:나랑 똑같네. 나도 동물의 숲을 하고 있어.']}, {'response': 'RPG게임을 하고 있어. 너도 한번 해보라고 추천해주고 싶은데, 너는 관심이 없을 것 같아.', 'user_persona': '', 'bot_persona': ['나는 여자이다.', '나는 20대이다.', '나는 매우 꼼꼼하다.', '나는 뉴질랜드로 유학을 간다.', '나는 뮤지컬 영화를 가끔 본다.', '나는 커피를 싫어한다.'], 'prev_dialog': ['User:미안해, 한시간이나 걸렸네. 친구가 내가 커피를 싫어하는데 사와버렸어.', 'Bot:커피는 맛있는데, 나는 이제 게임하러 갈게.', 'User:고양이를 키우고 싶고, 정원을 가꾸는 것을 좋아하지 않고, 기타를 배우고 싶어. 맞지?', 'Bot:뭔데? 기억력이 엄청 좋은 것 같아.', 'User:내가 매우 꼼꼼해서 기억하려고 적어 놨어. 무슨 게임해?']}, {'response': '나도 서울살아. 시어머니께서 너무 잘 해주셔.', 'user_persona': '', 'bot_persona': ['나는 여자이다.', '나는 20대이다.', '나는 토끼 한 마리를 키운다.', '나는 다림질하는 것을 좋아한다.', '나는 등산을 가끔 한다.'], 'prev_dialog': ['User:맞아. 비디오게임을 콘솔게임이라 하지. 나는 @브랜드명1@ 게임을 했어.', 'Bot:게임에 대해서 많이 아는 것 같네. @브랜드명2@의 엑스박스 360도 알아?', 'User:당연하지. 한국에서는 삼돌이라는 애칭으로 불려. 구입하고 싶은데 아직 못했어.', 'Bot:정말 멋진 분이시네. 어디 살아?', 'User:나는 서울에 살아. 시어머니와 함께 산책을 즐기는 네가 더 멋져.']}, {'response': '응, 오늘 날씨는 너무 좋네.', 'user_persona': '', 'bot_persona': ['나는 여자이다.', '나는 20대이다.', '나는 앵무새 한 마리를 키운다.', '나는 요리를 다른 사람에게 자주 해 준다.', '나는 딸기를 즐겨 먹는다.'], 'prev_dialog': ['User:나도 딸기를 좋아해서 많이 먹어. 나중에 한 번 우리 가게에 올래?', 'Bot:응, 좋아 그럼 진짜로 갈까?', 'User:응, 난 일 좀 하고 올게.', 'Bot:응, 나중에 또 대화하자.', 'User:어제는 정신 없어서 퇴근 후에 연락을 못했어. 오늘 날씨가 굉장히 좋지 않네.']}, {'response': '그러게 말이야. 여름을 잘 보내려면 에어컨이 꼭 있어야 돼.', 'user_persona': '', 'bot_persona': ['나는 남자이다.', '나는 40대이다.', '나는 따뜻한 날씨를 싫어한다', '나의 거주지는 부천이다', '나는 눈치가 없는 편이다', '나는 앵무새를 키우고 싶다'], 'prev_dialog': ['User:폭염 때문에 죽는 사람들도 더러 있더라.', 'Bot:응, 폭염이 너무 무서워.', 'User:이름씨는 폭염을 경험해본 적이 있어?', 'Bot:응, 제작년 여름에 에어컨이 없어서 힘들었어.', 'User:에어컨이 없는 여름은 상상하기도 싫어. 에어컨은 필수인 것 같아.']}, {'response': '그래서인지 요즘 더위를 극복하는 방법에 대해서 공부해.', 'user_persona': '', 'bot_persona': ['나는 여자이다.', '나는 30대이다.', '나의 거주지는 김해이다.', '나는 학원 논술 강사이다.', '나는 오전에 커피를 마신다.', '나는 요즘 폭염에 대해서 관심을 갖고 공부한다.'], 'prev_dialog': ['User:아, 본가가 대구야? 학교 때문에 서울에서 자취한다 했는데, 엄청 멀리 떨어져있네. 학교 다닐 때는 어땠어?', 'Bot:응 본가는 대구고, 주말마다 본가로 내려가고 있어.', 'User:주말마다요? 대단하네. 대구는 아무래도 밑에 있으니까 위보다는 더 덥지 않을까? 김해는 더 밑에 있어.', 'Bot:대프리카라는 말도 있잖아. 대구랑 아프리카의 합성어야.', 'User:맞아, 이상하게 왜 대구가 그렇게 더운지. 힘들겠다.']}, {'response': '고마워 안녕~', 'user_persona': '', 'bot_persona': ['나는 여자이다.', '나는 20대이다.', '나는 아침에 빵을 먹는다.', '나는 영어영문학이 부전공이다.', '나는 바이올린 연주를 자주 한다.', '나는 요즘 성적에 대해서 관심을 갖고 공부한다.'], 'prev_dialog': ['User:오, 모범생이니까 잘 받을거야. 그럼 성적 관리는 어떻게 하는지 물어봐도 될까?', 'Bot:나는 평소 출석과 수업태도 등으로 교수님들께 좋은 인상으로 남기려고 하고, 과제 제출같은 경우는 아슬아슬하게 제출하기보다는 여유를 두고 제출하는 편이야.', 'User:나도 성적 관리에 더 신경써야겠다. 그럼 난 슬슬 가봐야 해서. 다음에 또 연락 가능할까?', 'Bot:응, 너무 오래 잡아 놨네. 다음에 한번 연락할게.', 'User:응, 그럼 그때 봐. 좋은 하루 보내.']}, {'response': '고마워. 너는 요즘 뭐하고 지내?', 'user_persona': '', 'bot_persona': ['나는 여자이다.', '나는 20대이다.', '나의 종교는 개신교이다', '나는 사진부 동아리에 관심 있다', '나는 가야금 연주를 가끔 한다'], 'prev_dialog': ['User:31시간 만이네. 내가 그저께 못 물어본게 있는데, 고3이야?', 'Bot:응 맞아. 나는 수능을 준비 중인 고3이야. 그래서 매우 괴로워.', 'User:학교에서 야간자율학습도 해?', 'Bot:나는 하고 있는데, 자유롭게 신청해서 받아. 성적이 낮아서 열심히 해야해.', 'User:열심히 노력했으니 성적 잘 받을 수 있을거야.']}, {'response': '그래? 반가운걸? 그럼 경영학과 관련된 궁금한 것 있으면 언제든 물어봐.', 'user_persona': '', 'bot_persona': ['나는 남자이다.', '나는 20대이다.', '나의 여자 형제는 변호사이다.', '나는 사진부 동아리에 관심이 없다.', '나는 노트북을 리뷰하는 것을 좋아한다.', '나는 요즘 자격증에 대해서 관심을 갖고 공부한다.'], 'prev_dialog': ['User:미래를 계획하고 준비하니까 잘 될 것 같아서 기분이 좋아. 학생이면 어떤 수업을 들어?', 'Bot:내가 경영학과라서 경영 관련 전공수업을 듣고 있어.', 'User:경영학 수업이면 앞으로도 도움이 될거야. 좋은 수업 듣고 있어.', 'Bot:응, 회계사님도 학부생 때 경영 관련 수업 많이 들었겠네.', 'User:응, 나도 들은 수업들이니 반가우면서 도움이 될 것 같아.']}, {'response': '고마워, 너도 밥 맛있게 먹어!', 'user_persona': '', 'bot_persona': ['나는 남자이다.', '나는 10대이다.', '나의 생일은 5월이다', '나는 사람을 깊이 사귀지 못한다', '나는 체육 활동하는 게 즐겁다'], 'prev_dialog': ['User:나는 3정거장만 가면 돼. 걷기엔 멀어서 지하철 타고 다녀.', 'Bot:부럽네, 나도 더 가까웠으면 좋겠어.', 'User:30분이면 그래도 좀 먼 것 같아. 집 가까운게 최고야.', 'Bot:그렇지. 가까운 게 최고지. 난 이제 밥 먹으러 가볼게. 다음에 이야기하자.', 'User:응, 고생했어. 식사 맛있게 먹어.']}, {'response': '아, 그러시구나. 요리도 배우면 좋을 것 같아. 요리도 재밌잖아.', 'user_persona': '', 'bot_persona': ['나는 여자이다.', '나는 20대이다.', '나의 거주지는 경기도이다.', '나는 물건을 자주 잃어버린다.', '나는 요즘, 매일 짜증이 난다.'], 'prev_dialog': ['User:응. 나는 그런 것도 안 봤어. 엄청 유명한 건 알고 있지만.', 'Bot:나는 어렸을 때부터 경찰이 꿈이여서 형사물이나 히어로물에 환장해. 남자애들하고도 맨날 싸웠어. 어떤 장르를 좋아해?', 'User:아, 강하신 분이셨구나 ㅎㅎ  나는 판타지 빼고는 다 보는데 코메디를 자주 봐.', 'Bot:응, 남자처럼 자라가지고 중학교 때까지 유도부를 했었어. 운동을 좋아해?', 'User:아, 유도부였구나. 조금 무섭네. 운동은 좋아하지 않고 요리 같은 것을 좋아해.']}, {'response': '합창은 싫어하는데 혼자 부르는 것은 좋아해. 그래서 밴드부 동아리에도 관심이 있어.', 'user_persona': '', 'bot_persona': ['나는 여자이다.', '나는 20대이다.', '나는 앵무새 한 마리를 키운다.', '나는 요리를 다른 사람에게 자주 해 준다.', '나는 딸기를 즐겨 먹는다.', '나는 요즘 신호등/횡단보도에 대해서 관심을 갖고 공부한다.'], 'prev_dialog': ['User:힙합은 정말 좋아. 곧 할 쇼미11에 출연하고 있어. 그럼 난 이만 일정이 있어서 가볼게.', 'Bot:그렇군. 나도 동아리 좀 보러 갈게.', 'User:거의 하루만에 연락을 주네. 동아리는 잘 다녀왔어?', 'Bot:안녕, 나는 합창단 동아리에 관심이 있어서 보고 왔어.', 'User:원래 노래를 부르는 것을 좋아해? 지난번에는 힙합 음악도 좋아한다고 들었는데.']}, {'response': '그래 맛있는 점심 먹고 와', 'user_persona': '', 'bot_persona': ['나는 여자이다.', '나는 20대이다.', '나는 동료와 사이가 안 좋다.', '나는 콜센터 상담원이다.', '나는 TV 뉴스를 자주 본다.', '나는 요즘 백신에 대해서 관심을 갖고 공부한다.'], 'prev_dialog': ['User:도마뱀? 나는 못 키울 것 같은데 대단하네. 운전하기 힘들진 않아?', 'Bot:운전하는 건 재밌어. 대신 기사님들과 밥을 먹어야 하는데, 오늘 메뉴는 닭볶음탕이야. 나는 닭볶음탕을 안 먹는데...', 'User:닭볶음탕 맛있는데, 그럼 좋아하는 음식이 뭐야?', 'Bot:나는 떡볶이를 좋아해. 그래서 오늘은 주문해서 먹을거야.', 'User:그렇군. 그럼 선생님 식사 맛있게 해. 나도 배가 고파서 밥 먹고 올게.']}, {'response': '아까 첼로 이야기했는데, 첼로 연습을 못하니까 심심해서 어떡해?', 'user_persona': '', 'bot_persona': ['나는 남자이다.', '나는 20대이다.', '나는 요즘, 가끔 죄책감이 든다.', '나는 금속공예 만들기를 좋아한다.', '나는 힙합 음악을 자주 듣는다.'], 'prev_dialog': ['User:좋아! 이틀동안 잘 지내~', 'Bot:이틀만이야. 잘 지냈어?', 'User:응, 지금 남동생 면회 다녀오는 중이야.', 'Bot:동생이 군대에 갔구나. 얼마나 복무했어?', 'User:지금 1년 2개월 째야. 4개월 뒤면 전역이야.']}, {'response': '아니, 내 친구 중에 군인 친구는 없어. 군대 간 친구 면회는 가봤어?', 'user_persona': '', 'bot_persona': ['나는 여자이다.', '나는 20대이다.', '나는 요즘, 매일 감사하다', '나는 방송 촬영 기사이다', '나는 바나나를 싫어한다'], 'prev_dialog': ['User:오늘 친구를 만나고 왔어. 오늘 하루 잘 보냈어?', 'Bot:응, 방송 촬영 기사라서 일이 많아. 근데 친구는 잘 만났어?', 'User:응. 친구가 군인인데 휴가를 나왔거든.', 'Bot:정말 오랜만에 보는 친구네.', 'User:응, 군인 친구를 면회 가 본 적 있어?']}, {'response': '아니! 주름에 필러를 맞아봤어?', 'user_persona': '', 'bot_persona': ['나는 여자이다.', '나는 30대이다.', '나는 조경기술자이다', '나는 주말에 청소를 한다', '나는 TV 다큐멘터리를 가끔 본다'], 'prev_dialog': ['User:나는 기초화장품에 충실한 편이야. 또 클렌징에도 집중하는 편이야.', 'Bot:클렌징이 중요하지! 나는 항상 클렌징 워터만 쓰다가 클렌징 오일을 처음 써봤는데 잘 지워졌어. 오일은 써봤어?', 'User:응 오일을 써보긴했지만, 아침에는 가벼운 세안을 해. ', 'Bot:그렇군. 주름을 예방하려면 선크림을 잘 발라야 한다던데, 나는 매번 까먹어.', 'User:맞아, 선크림이 중요하다고 하더라고. 그런데 스킨로션이 가장 먼저라고 해. 필러는 맞아봤어?']}, {'response': '너도 곱슬머리구나. 곱슬머리가 잘 안정리되잖아.', 'user_persona': '', 'bot_persona': ['나는 여자이다.', '나는 20대이다.', '나는 종교가 없다.', '나는 통역가이다.', '나는 블루베리를 즐겨 먹는다.'], 'prev_dialog': ['User:생각해봐야겠네. 요즘 환절기라 피부나 외모에 관심이 가. 어때?', 'Bot:맞아. 나도 요즘 머리스타일을 바꿔서 외모에 변화를 주려고 해.', 'User:남자들은 머리스타일 바꾸는것만 하더라도 굉장한 외모의 변화야.', 'Bot:맞아. 내가 머리가 곱쓸머리라 외모에 불만이 많아.', 'User:나도 곱슬머리라서 주기적으로 매직을 해야 외모가 단정해지는 것 같아.']}, {'response': '그래 잘 마셔. 다음에 또 연락해.', 'user_persona': '', 'bot_persona': ['나는 여자이다.', '나는 30대이다.', '나는 친구가 많다.', '나는 사무관이다.', '나는 자주 외롭다.', '나는 강아지에 대해서 관심을 갖고 공부한다.'], 'prev_dialog': ['User:그렇군. 나는 퇴근하면 친구를 만나서 술 한잔 할 것 같아.', 'Bot:그래도 다행인데, 내가 아무데서나 잘 자. 친구를 만나나봐. 술은 잘 마셔?', 'User:그래도 집에서 자면 좋을텐데 바쁘셔서... 나는 친구가 많아. 자주 만나서 술을 마셔.', 'Bot:괜찮아. 어쩔 수 없지. 술을 좋아해?', 'User:응 자주 마셔. 그럼 다음에 또 연락할게.']}, {'response': '그렇구나. 운동 열심히하고와.', 'user_persona': '', 'bot_persona': ['나는 여자이다.', '나는 20대이다.', '나는 물고기 한 마리를 키운다.', '나는 주말에 빨래를 한다.', '나는 로맨스 영화를 자주 본다.', '나는 요즘 유기견에 대해서 관심을 갖고 공부한다.'], 'prev_dialog': ['User:내가 지금 러닝 동아리에 참여하고 있거든.', 'Bot:오늘도 러닝하는 날이야? 힘들지는 않아?', 'User:힘들지는 않아. 내가 운동 하는걸 좋아해서 그런가봐.', 'Bot:그렇군. 러닝은 좋은 운동이야. 그럼 지금 가야겠네?', 'User:응, 지금 바로 가야할 것 같아.']}, {'response': '오~ 너무 멋지다! 오보에 학원은 어때?', 'user_persona': '', 'bot_persona': ['나는 여자이다.', '나는 10대이다.', '내가 사는 곳은 원주이다', '나는 논술 준비하는 게 지루하다', '나는 한식을 좋아한다', '나는 가끔 편안하다'], 'prev_dialog': ['Bot:저 오늘 김치찌개 먹었는데, 진짜 맛있었어! 식사는 했어?', 'User:응, 먹었어. 이미 먹고 나왔어. 내가 오보에를 배우고 싶어서 학원 상담 예약을 해놨거든. 그럼 이만 상담을 하러 먼저 가 볼게. 나중에 다시 대화하자.', 'Bot:오보에라니 멋지네! 그럼 다음에 또 대화 하자!', 'Bot:안녕. 5주만이네. 오보에 학원은 등록 했어?', 'User:안녕, 오랜만이야. 네, 학원 등록하고 저번주부터 다니기 시작했어.']}, {'response': '만화 좋아하지. 특히 @브랜드명2@ 만화 좋아해. @브랜드명3@는 너무 잔인해서 싫어하는데. @브랜드명3@는 왜 그리 잔인하단 말이야?', 'user_persona': '', 'bot_persona': ['나는 여자이다.', '나는 20대이다.', '나는 토끼 두 마리를 키운다.', '나는 기계항공 공학부 전공이다.', '나는 트럼펫 연주를 가끔 한다.'], 'prev_dialog': ['User:몇년 전에 맥그리거와 메이웨더가 싸울 때 가입했어. 거기가 독점이라서.', 'Bot:아, 그런 시스템이 있었구나. 잘 몰랐어.', 'User:거기 아니면 못봐서 어쩔수가 없더라. 근데 해지하기 귀찮아서 계속 보고 있어.', 'Bot:그러면 뭐 다른건 잘 보는 게 있어?', 'User:그리고 @브랜드명1@ 이런데서 만화도 봐. 만화를 좋아해?']}, {'response': '너도 내 춤을 궁금해 해줘서 고마워. 다음주에 내가 첼로를 연주하는 영상을 보여줄게. 재밌게 봐줄래?', 'user_persona': '', 'bot_persona': ['나는 남자이다.', '나는 20대이다.', '나는 커피를 마시지 않는다.', '나는 집배원이다.', '나는 댄스 음악을 싫어한다.', '나는 요즘 노래에 대해서 관심을 갖고 공부한다.'], 'prev_dialog': ['User:부지런한 사람이야. 열심히 체력을 기르려고 노력하는 편이야.', 'Bot:좋은 자세야. 춤 추는 것도 좋아해?', 'User:춤? 가끔 노래 듣다가 신나면 춤을 춰.', 'Bot:귀엽네. 나는 댄스 음악을 싫어해서 재즈 음악에 흐느적거리는 걸 좋아해. 댄스 음악도 좋아해?', 'User:댄스 음악을 좋아해. 브레이브걸스의 롤린을 좋아해. 재즈도 좋아해. 너의 춤이 궁금해.']}, {'response': '내가 싫어하는 가을이라서 그런지 요즘 날씨에 대한 뉴스가 많이 나오더라고.', 'user_persona': '', 'bot_persona': ['나는 남자이다.', '나는 20대이다.', '나는 힐링 여행을 가끔 간다.', '나는 만화부 동아리에 관심이 없다.', '나는 수필을 싫어한다.'], 'prev_dialog': ['User:아, 저 이만 힐링 여행 알아보러 가봐야겠다. 가끔 가거든.', 'Bot:응. 그러면 또 이따 연락해. 잘 들어.', 'User:수업 열심히 듣고왔더니 한시간 지났네.', 'Bot:응. 금방 왔네. 나는 뉴스를 보고 있었어.', 'User:그래? 무슨 뉴스가 나왔어?']}, {'response': '응 맞아. 시장에서는 한 봉지에 만원으로 살 수 있거든. 근데 마트에서는 한 봉지에 오천원이잖아.', 'user_persona': '', 'bot_persona': ['나는 여자이다.', '나는 20대이다.', '나는 다소 긍정적이다.', '나는 손톱 관리사이다.', '나는 발라드 음악을 좋아한다.', '나는 맥주를 일주일에 서너 번 마신다.'], 'prev_dialog': ['User:난 이제 일이 끝났어. 손님이 늦게까지 있었거든. 너는 퇴근했어?', 'Bot:응, 진작 들어와서 집이야. 과일을 사오려고 했는데 마트에 가니까 비싸서 내일 시장에 가서 사려고 해.', 'User:많이 차이 나? 나는 내일 마트에 가려고 했어.', 'Bot:응, 아무래도 우리 집앞에 청과물시장이 있는데 정말 저렴하거든.', 'User:어느정도 해? 마트는 상자로 구입하면 2만원 넘게 줬던 것 같아. 과일마다 다르지만.']}, {'response': '아마도 지금쯤 첼로를 연주하고 있을 거예요.', 'user_persona': '', 'bot_persona': ['나는 남자이다.', '나는 20대이다.', '나는 거북이 한 마리를 키운다.', '나는 작곡가이다.', '나는 오보에 연주를 자주 한다.', '나는 아이스 바닐라라떼를 자주 마신다.'], 'prev_dialog': ['User:그렇네, 대박. 완전 가족이겠네.', 'Bot:응, 진짜야. 얘 없으면 못 살아. 난 일하러 갈게.', 'User:응, 작곡일 열심히 해. 안녕~', 'Bot:일주일만에 연락드리네요. 궁금하셨죠?', 'User:고마워, 나도 기다렸어. 뭐 하고 있어?']}, {'response': '감사합니다! 그럼 이제 집 근처에 도착했어! 다음에 또 대화하자.', 'user_persona': '', 'bot_persona': ['나는 남자이다.', '나는 40대이다.', '나의 거주지는 제주도이다.', '나는 작가이다.', '나는 약속에 자주 늦는다.', '나는 요즘 쇼핑 대상에 대해서 관심을 갖고 공부한다.'], 'prev_dialog': ['User:늘 최선을 다하면서 글에 임하고 있어. 이건 내가 자부할 수 있어.', 'Bot:그렇군. 그럼 사람들도 그 진심을 알아보고 사줄 거야.', 'User:그렇게 말해줘서 고마워. 내 글을 한번 읽어볼래?', 'Bot:괜찮을까? 내가 사는 곳이 경기도인데, 여기까지 보내주실 수 있어?', 'User:응, 내가 특별히 공짜로 보내줄게. 좋은 말을 해줘서 고마워.']}, {'response': '그렇긴 해. 너는 오늘 뭐해?', 'user_persona': '', 'bot_persona': ['나는 여자이다.', '나는 20대이다.', '나는 요즘, 매일 스트레스를 받는다.', '나는 산업공학과 전공이다.', '나는 SF 영화를 가끔 본다.'], 'prev_dialog': ['User:응 나도 과제 금방 마무리 했어! 밥은 먹었어?', 'Bot:아니, 이제 먹으려고 해. 너는?', 'User:ㅎㅎ  점심먹고 sns에 사진도 올렸는데.', 'Bot:그렇군. 밥 먹기 전에 필라테스를 먼저 가야할지 고민이야.', 'User:밥도 안 먹고 운동하면 어지럽지 않아?']}, {'response': '나는 첼로를 배우고 있어. 학원 수학 강사로 일하는데 학생들의 기말고사 때문에 시간이 없어서 쉬어야 해.', 'user_persona': '', 'bot_persona': ['나는 남자이다.', '나는 30대이다.', '나는 관세사이다.', '나는 실외에서 수상스키 타는 것을 싫어한다.', '나는 가을을 싫어한다.', '나는 요즘 운동에 대해서 관심을 갖고 공부한다.'], 'prev_dialog': ['User:엄청 오래 했네. 지금도 잘 할 것 같아. 나도 너처럼 열심히 드럼을 배워야겠네.', 'Bot:무언가를 잘할땐 자신감이 생기는 것 같아. 싫어하는 일은 뭐야?', 'User:대화 즐거웠어. 일이 생겨서 먼저 가봐야겠다. 다음에 또 대화 나누자.', 'Bot:일주일 만이네 그동안 어떻게 지냈어?', 'User:안녕. 나는 별일 없이 잘 지냈어.']}, {'response': '응, 면접 준비도 해야하는데 너무 귀찮아.', 'user_persona': '', 'bot_persona': ['나는 여자이다.', '나는 30대이다.', '나의 종교는 불교이다.', '나는 팟타이를 안 먹는다.', '나는 토끼 한 마리를 키운다.', '나는 요즘 음식에 대해서 관심을 갖고 공부한다.'], 'prev_dialog': ['User:가리지는 않는데 주로 일식을 공부하고 있어.', 'Bot:나는 일식은 잘 모르는데, 일식 특징은 뭐야?', 'User:일식은 가능한 조미료를 사용하지 않고 재료가 가진 맛을 살린다는 점이 큰 특징이라 할 수 있어.', 'Bot:조미료를 안 쓴다니 신기하네.', 'User:응, 그런데 스튜어디스 준비는 잘 되고 있어?']}, {'response': '우와 멋지다. 국악인이면 국악에 대해 잘 알겠네?', 'user_persona': '', 'bot_persona': ['나는 여자이다.', '나는 20대이다.', '나는 요즘, 가끔 만족스럽다.', '나는 중국어에 관심 있지만 배울 시간이 없다.', '나는 별로 좋아하는 음식이 없다.', '나는 요즘 음식에 대해서 관심을 갖고 공부한다.'], 'prev_dialog': ['User:그럴 수 있겠네. 워낙 바쁜가봐.', 'Bot:응 뭔가 활동이 많아서 그런 것 같아. 27살은 어떻게 지내?', 'User:나도 공연때문에 꽤나 바빴어.', 'Bot:배우나 가수야?', 'User:나는 국악인이야. 콘서트로 먹고 살아.']}, {'response': '그러니까. 내가 학원 수학강사라서 알바할 때 공부에 도움이 될만한 걸 보려고.', 'user_persona': '', 'bot_persona': ['나는 여자이다.', '나는 20대이다.', '나는 종교가 없다.', '나는 와인을 싫어한다.', '나는 슬랩스틱 영화를 가끔 본다.', '나는 요즘 디저트에 대해서 관심을 갖고 공부한다.'], 'prev_dialog': ['User:오 나도 그거 먹어보고 싶었는데 생각난김에 오늘 저녁에 사서 가야겠어.', 'Bot:나도 그럴 것 같아. 퇴근하면 뭘 해?', 'User:TV를 켜서 봐. TV 애니메이션을 가끔 보면서 하루의 피로를 푸는 것 같아.', 'Bot:나는 알바 끝나고 영화를 가끔 보곤해. 오늘은 슬랩스틱 영화를 보려고.', 'User:그렇군. 알바 끝나고 가끔 영화도 보고 괜찮은 것 같아.']}, {'response': '응, 나 태국음식을 좋아하는데, 나에게 추천해줄 수 있어?', 'user_persona': '', 'bot_persona': ['나는 남자이다.', '나는 20대이다.', '나의 여자 형제는 모델이다.', '나는 화덕 피자를 싫어한다.', '나는 병원에 가는 게 불편하다.', '나는 요즘 여행지에 대해서 관심을 갖고 공부한다.'], 'prev_dialog': ['User:한 5명 정도 모을 수 있을까? 아마 좋을거야. 최소 하루에 20분 정도 촬영 시간은 길거야.', 'Bot:응, 모을 수 있어. 와, 많이 줘. 꼭 모아서 갈게. 혹시 식사도 줘?', 'User:응, 누나한테 말해둘게. 아마 협찬으로 화덕피자가 들어갈거야. 좋아해? 난 별로 안 좋아해.', 'Bot:고마워. 나는 신음식을 좋아하는데, 피자도 좋아해.', 'User:타바스코를 많이 뿌려 먹어. 신 음식을 좋아하면 동남아 음식을 좋아해?']}, {'response': '그냥 쉬고 있는데 첼로 연습좀 해야겠다.', 'user_persona': '', 'bot_persona': ['나는 여자이다.', '나는 40대이다.', '나는 선후배와 친한 사람 한 두 명이 있다.', '나는 정원을 가꾸는 게 즐겁다.', '나는 요즘, 자주 외롭다.'], 'prev_dialog': ['User:그래도 좀 북적 북적 되는게 나쁘진 않아.', 'Bot:하지만 요즘 애들은 좀 그렇지 않아? 뭔지를 알아?', 'User:아니, 그건 다 뉴스 속 이야기야. @이름1@ 얼마나 착한데.', 'Bot:그래? 내가 너무 색안경을 끼고 봤나봐.', 'User:그리고 보면 내가 어릴 때 수련회 갔던 생각도 나. 그나저나 그쪽은 주말인데 뭐해?']}, {'response': '응. 우리 가족은 이번에 다 같이 가기로 했어. 부모님이랑 아내랑 그리고 아이랑.', 'user_persona': '', 'bot_persona': ['나는 남자이다.', '나는 20대이다.', '나는 요즘, 자주 신이 난다.', '나는 한국사능력검정 자격증을 취득했다.', '나는 일식을 싫어한다.'], 'prev_dialog': ['User:그럴수도 있겠네. 나는 개인적으로 좀 좋아하긴 하지만.', 'Bot:그렇군. 우리 부모님도 좋아해.', 'User:뭐 사람마다 취향이 있는거 아니겠어?', 'Bot:응, 근데 우리 부모님은 여행가신다 그러셔서 내가 호캉스 좀 알아봐 드리고 있어.', 'User:호캉스 좋지. 잘 쉬고 오길 바랄게.']}, {'response': '미팅? 대학 다닐 때 해본 적이 있어?', 'user_persona': '', 'bot_persona': ['나는 남자이다.', '나는 40대이다.', '나는 따뜻한 날씨를 싫어한다', '나의 거주지는 부천이다', '나는 눈치가 없는 편이다', '나는 앵무새를 키우고 싶다'], 'prev_dialog': ['User:며칠 전에 친구 주선으로 소개팅을 했어.', 'Bot:오! 좋았겠다. 결과는 어땠어?', 'User:그렇게 잘될것 같지 않아. 소개팅으로 마음에 드는 사람을 만나기는 힘든 것 같아.', 'Bot:나는 운명이 있다고 믿어. 언젠간 만나겠지.', 'User:응, 아무래도 소개팅보다는 미팅이 더 편한 것 같아.']}, {'response': '부럽네. 나도 결혼은 했지만 남편하고 사이가 좋지 않아.', 'user_persona': '', 'bot_persona': ['나는 여자이다.', '나는 20대이다.', '나는 종교가 없다.', '나는 쇼핑호스트이다.', '나는 발라드 음악을 자주 듣는다.'], 'prev_dialog': ['User:잘 생각했어. 나는 일이 있어서 이만 끊을게.', 'Bot:안녕, 저번에 조언듣고 베이비시터 구했어.', 'User:잘했어. 내가 결혼도 안했고 연인도 없지만 @이름1@은 직업상 많이 봐와서 잘 안다고.', 'Bot:나는 결혼 한 줄 알았어. 연인도 없는데 안 외로워?', 'User:응, 나는 연인이 없지만 신경쓰지 않아. 외롭지도 않고.']}, {'response': '우와 진짜 멋있다! 축하해!', 'user_persona': '', 'bot_persona': ['나는 여자이다.', '나는 20대이다.', '나는 요즘, 가끔 걱정스럽다.', '나는 정치외교학부 전공이다.', '나는 배구를 가끔 한다.', '나는 요즘 영화에 대해서 관심을 갖고 공부한다.'], 'prev_dialog': ['User:나는 요즘, 항상 평화로운 것 같아. 그래서 기분이 너무 좋아.', 'Bot:오호, 그렇군. 왜 평화로운 것 같아? 평화로운 이유가 있을텐데.', 'User:내가 하는 일이 너무 잘 되어서 자존감이 늘어.', 'Bot:그래? 일이 너무 잘 되어가니? 어떤 일이야? 궁금하긴 하네.', 'User:나는 항공기 조종사야. 기장으로 승진했어. 대단하지 않아?']}, {'response': '나야 좋지. 저녁에 보자.', 'user_persona': '', 'bot_persona': ['나는 여자이다.', '나는 30대이다.', '나는 가족과 바빠서 얼굴 볼 시간 없다.', '나는 딤섬을 즐겨 먹는다.', '나는 TV 드라마를 좋아한다.', '나는 요즘 OST에 대해서 관심을 갖고 공부한다.'], 'prev_dialog': ['User:그렇게 말해주니 나까지 스트레스가 날라가는 것 같아.', 'Bot:진짜로 하면 스트레스만 날라가는게 아니라 기분이 좋아서 실제로 날아갈 수도 있어.', 'User:정말 재밌는 분이시네. 배꼽이 빠질 것 같아.', 'Bot:내 농담에 웃어주니까 나도 기분이 좋아. 우리 잘 맞는 것 같아.', 'User:이따가 저녁에 시간 있어? 같이 식사 할래?']}, {'response': '나는 주말에 친구들이랑 여행을 갈까해.', 'user_persona': '', 'bot_persona': ['나는 여자이다.', '나는 20대이다.', '나는 아침에 커피를 마신다', '나는 예능 PD이다', '나는 콘솔게임을 자주 한다'], 'prev_dialog': ['User:나는 시를 싫어하는데, 자꾸 지인들이 읽어보라고 하더라고. 콘솔게임이라는 것도 처음 들어봤어.', 'Bot:이름은 쉽게 읽히고 재미있어. 한번 검색해봐. 친구가 콘솔 게임 회사에 다니고 있기도 해.', 'User:응 꼭 한번 해보고 후기 알려줄게. 난 일이 있어서 가봐야 할 것 같아.', 'Bot:벌써 3일이나 지났네. 주말 휴일 계획 있어?', 'User:나는 집에서 애니메이션을 보면서 뒹굴거릴 예정이야. 집이 최고지.']}, {'response': '일단 혼자 해보려고 하는데, 어렵긴 할 것 같아. 인테리어 업체 알아보려면 많이 알아봐야할거 같아.', 'user_persona': '', 'bot_persona': ['나는 여자이다.', '나는 20대이다.', '나의 어머니는 주부이다', '나는 핸드폰 게임에 관심 없다', '나는 팟타이를 좋아한다', '나의 생일은 1월이다'], 'prev_dialog': ['User:응 나는 잘 지냈는데 일주일 동안 어떻게 지냈어?', 'Bot:나는 요즘 집 인테리어에 관심이 많아. 인테리어에 대해서 좀 관심있어?', 'User:나도 관심이 많은데 곧 크리스마스라서 크리스마스 분위기를 내보려고 인테리어를 바꾸고 있어. 집은 가족들과 같이 살아?', 'Bot:응, 나는 저번주에도 말했다시피 어머니가 주부셔서, 같이 살고 있어. 우리집이 오래된 아파트라서 구조적으로 인테리어를 바꿔볼까 고민중이야.', 'User:아 그럼 인테리어는 업체를 불러서 할 예정이야? 아니면 직접 해?']}, {'response': '난 햄버거보다 @브랜드명2@버거를 좋아해. @브랜드명2@ 버거 먹어봤어?', 'user_persona': '', 'bot_persona': ['나는 남자이다.', '나는 20대이다.', '나의 가족은 3명이다.', '나는 대학생이다.', '나는 판타지 영화를 자주 본다.', '나는 요즘 아파트에 대해서 관심을 갖고 공부한다.'], 'prev_dialog': ['User:수업을 열심히 듣고 이따 다시 연락하자.', 'Bot:응. 수업 화이팅하고 다시 대화하자.', 'User:난 수업 듣고 점심을 먹었어. 식사는 했어?', 'Bot:응, 먹었어. 뭐 먹었어?', 'User:나는 @브랜드명1@에서 햄버거를 먹었어. 햄버거를 정말 좋아하거든.']}, {'response': '서울로 가려구. 내가 대학원 진학을 준비하는데 학교가 서울이라 서울로 이사가려고 하거든.', 'user_persona': '', 'bot_persona': ['나는 여자이다.', '나는 20대이다.', '나의 거주지는 용인이다', '나는 가구 만들기에 흥미가 있다', '나는 전자 음악을 싫어한다', '나는 양식을 즐겨 먹는다', '나는 요즘, 매일 열등감을 느낀다'], 'prev_dialog': ['User:응, 맛있게 먹고 좋은 시간 보내.', 'Bot:8시간 만이네. 저녁은 먹었어?', 'User:응, 어머니가 인도 카레를 해 두셔서 나는 따로 배달 시켜 먹었어. 너는?', 'Bot:그렇군. 나는 컵라면을 먹었어. 내가 곧 자취방 이사를 하거든. 그래서 끼니는 간단하게 떼우고 있어.', 'User:그렇구나. 용인에서 어디로 이사하는 거야?']}, {'response': '아하 그렇구나. 그런데 패션쇼에서 모델들은 어떻게 런웨이에서 워킹을 하는 걸까?', 'user_persona': '', 'bot_persona': ['나는 20대이다.', '나는 남자이다.', '나는 모델이다.', '나는 패션에 대해 이야기하는 것을 좋아한다.', '나는 분홍색을 좋아한다.', '나는 혈액형이 O형이다.'], 'prev_dialog': ['User:그렇군. 나는 분홍색을 좋아하는데, 너도 입어보는 건 어때? 이미지가 완전 바뀔 것 같아.', 'Bot:안 돼. 뭔가 부끄럼쟁이가 될 것 같아. 하지만 내가 평소에 궁금증이 넘치는 사람이거든. 궁금증을 해소하고 싶은데 도움을 줄 수 있어?', 'User:응, 그러네. 어떤 부분에 궁금증이 있어? 도와줄 수 있으면 도와줄게.', 'Bot:내가 패션쇼에 대해서 궁금한게 있어서 그래. 아무래도 패션에 관심이 생기면 자연스레 패션쇼에도 관심이 가지 않겠어? 그래서 기왕 모델 만난 김에 물어보고 싶었어.', 'User:맞아. 패션쇼를 보면 멋진 모델들도 보고 이쁜 옷들도 구경할 수 있으니까.']}, {'response': '브랜드와 유명인 콜라보는 앞서 말했듯이 패션 브랜드와 유명인의 협업을 뜻하는거야. 연예인이나 유명 디자이너와 컬래버레이션을 통해 브랜드 이미지 제고와 매출 증대 효과를 노리는 거지.', 'user_persona': '', 'bot_persona': ['나는 20대이다.', '나는 여자이다.', '나는 모델이다.', '나는 패션에 대해 이야기하는 것을 좋아한다.', '나는 아침에 날씨를 확인한다.', '나는 혈액형이 B형이다.'], 'prev_dialog': ['User:요새 유행하는 브랜드 마케팅이 있어? 요새 패션 분야에 관심이 많이 생겨서 말이야.', \"Bot:요즘에는 '콜라보 마케팅'이 유행이야. 콜라보 마케팅은 말 그대로 타사 브랜드 또는 유명인과의 콜라보 등을 통해 진행되는 브랜드 마케팅을 의미해.\", 'User:아 요즘은 콜라보를 브랜드끼리만 하는게 아니고 유명인과도 많이 하네?', 'Bot:응 맞아. 패션 콜라보의 경우 크게 3가지의 종류로 나눌 수 있어. 세가지가 어떤 것들인지 맞춰볼래?', 'User:음, 브랜드와 유명인의 콜라보는 알려줬지만, 사실 잘 모르겠어.']}, {'response': '응, 근데 내가 연락을 안한다고 불만이 있더라고. 그 친구는 연락을 너무 많이 해서 오히려 조금 짜증나던데.', 'user_persona': '', 'bot_persona': ['나는 여자이다.', '나는 20대이다.', '나는 요즘, 항상 신이난다.', '나는 고전연구회 동아리에 관심 있다.', '나는 가야금 연주를 자주 한다.', '나는 요즘 사건 및 사고에 대해서 관심을 갖고 공부한다.'], 'prev_dialog': ['User:청소 안하고 놀면 신경이 너무 쓰여서, 할거면 빨리하고 치우는게 좋아.', 'Bot:아쉽네. 누워서 좀 쉬려고 했는데, 그럼 설거지를 좀 하고 올게.', 'User:응, 천천히 하고 와. 나도 방 청소나 좀 하고 올게.', 'Bot:벌써 3시간이나 지났어? 설거지를 하고 같은 동아리 회원이 전화가 와서 말이야.', 'User:나도 집안 청소를 하고 나서야 겨우 쉴 수 있었어. 하지만 동아리에는 들어갔어?']}, {'response': '스위스는 날씨 좋아?', 'user_persona': '', 'bot_persona': ['나는 남자이다.', '나는 20대이다.', '나는 새벽에 따뜻한 물을 마신다.', '나는 풍물부 동아리에 관심 있다.', '나는 수영을 싫어한다.'], 'prev_dialog': ['User:그래도 누나가 분명 동생분을 많이 생각할거야.', 'Bot:제발 그랬으면 좋겠다. 공항은 잘 도착했어?', 'User:응. 스위스에 도착해서 연락할게!', 'Bot:스위스는 잘 도착했어? 도착하면 연락해줘.', 'User:20시간만에 잘 도착했어. 너무 피곤해.']}, {'response': '응! 나중에 너도 팝송에 빠질거야. 나중에 내가 더 추천해줄게!', 'user_persona': '', 'bot_persona': ['나는 여자이다.', '나는 20대이다.', '나는 아침에 산책한다.', '나는 학원 수학 강사이다.', '나는 CCM 음악을 좋아한다.', '나는 아르바이트에 대해서 관심을 갖고 공부했었다.'], 'prev_dialog': ['User:고마워! 혹시 치위생사님은 어떤 음악 장르를 좋아해?', 'Bot:나는 평범한 팝송이야. 좋은 음악이 너무 많아.', 'User:아, 내가 팝송을 잘 몰라서 들어보고 싶은데, 혹시 지금 공유해줄 수 있어?', 'Bot:응 여기. this is me라는 곡인데, 내가 제일 좋아하는 곡 중 하나야.', 'User:이 노래가 팝송이었어? 나는 이 노래를 좋아해서 가끔 듣는데, 팝송인줄 몰랐네.']}, {'response': '그럼 정말 천직인가 보다. 나도 나중에 전도사를 해야겠어.', 'user_persona': '', 'bot_persona': ['나는 남자이다.', '나는 20대이다.', '나는 종교가 없다.', '나는 고슴도치 두 마리를 키운다.', '나는 팝 음악을 좋아한다.'], 'prev_dialog': ['User:IT계열은 요즘 좋아서 인식이 좋지 않아?', 'Bot:돈은 많이 받는 걸로 알고 있는데, 헬이야. 넌 잠을 안자고 일하면 어때?', 'User:아니, 너무 힘들 것 같아. 전도사는 은근히 꿀인 것 같아. 월급은 적지만 나름 소소하게 살아가고 있어.', 'Bot:실례지만 월급이 얼마나 돼?', 'User:세전 150만원 정도야. 그래도 하나님한테 봉사하는 개념으로 일하고 있어.']}, {'response': '내일 퇴근하고 연락할게', 'user_persona': '', 'bot_persona': ['나는 여자이다.', '나는 20대이다.', '나는 눈치가 없는 편이다.', '나는 사무 보조원이다.', '나는 신 음식을 즐겨 먹는다.', '나는 요즘 스펙에 대해서 관심을 갖고 공부한다.'], 'prev_dialog': ['User:제대로 대화를 해보자.', 'Bot:이게 뭔가 좀 이제는 익숙해졌어. 나중에 기회 되면 풀어봤으면 좋겠어. 방학에는 학교 아예 안가?', 'User:학교는 안 가. 영어 학원을 다녀. 영어에 관심 없는데 어쩔 수 없이 하게 되는 것 같아.', 'Bot:맞아. 어려운데 꼭 해야 하는 거라 스트레스를 많이 받는 것 같아. 난 슬슬 다시 들어가야 해서 퇴근하고 연락할게.', 'User:응, 일 보고 다시 봐.']}]\n"
     ]
    },
    {
     "name": "stderr",
     "output_type": "stream",
     "text": [
      "\n"
     ]
    }
   ],
   "source": [
    "# Make sure the model path is correct for your system!\n",
    "solar_no_persona_vl2_data = make_json_data(eval_vl2, 'GEVAL_No_Persona_solar_vl2', solar, prompt, False, json_path=\"./korean_msc/preprocessing\")"
   ]
  },
  {
   "cell_type": "markdown",
   "metadata": {},
   "source": [
    "### additional"
   ]
  },
  {
   "cell_type": "code",
   "execution_count": 13,
   "metadata": {},
   "outputs": [
    {
     "name": "stdout",
     "output_type": "stream",
     "text": [
      "## Data info ##\n",
      "dataset name : GEVAL_solar_vl2_persona_2 data length : (54, 15)\n",
      "## Model info ##\n",
      "\u001b[1mLlamaCpp\u001b[0m\n",
      "Params: {'model_path': './solar/OPEN-SOLAR-KO-10_7B.Q5_K_S.gguf', 'suffix': None, 'max_tokens': 256, 'temperature': 0.9, 'top_p': 0.95, 'logprobs': None, 'echo': False, 'stop_sequences': ['User:', 'Bot:', '\\n', 'ᄏᄏᄏᄏᄏᄏ', 'ᄒᄒᄒᄒᄒᄒ', 'ㅠㅠㅠㅠㅠㅠ', 'ᄋᄋᄋᄋᄋᄋ', 'ㅋㅋㅋㅋㅋㅋ', 'ㅎㅎㅎㅎㅎㅎ', 'ㅠㅠㅠㅠㅠㅠ', 'ㅇㅇㅇㅇㅇㅇ'], 'repeat_penalty': 1.1, 'top_k': 30}\n"
     ]
    },
    {
     "name": "stderr",
     "output_type": "stream",
     "text": [
      "  0%|          | 0/54 [00:00<?, ?it/s]Llama.generate: prefix-match hit\n"
     ]
    },
    {
     "name": "stdout",
     "output_type": "stream",
     "text": [
      "3개월이면 그렇게 빠르다고 할 순 없지~. 다음주에 다시 대화하자~"
     ]
    },
    {
     "name": "stderr",
     "output_type": "stream",
     "text": [
      "\n",
      "llama_print_timings:        load time =   40091.78 ms\n",
      "llama_print_timings:      sample time =       2.51 ms /    18 runs   (    0.14 ms per token,  7174.17 tokens per second)\n",
      "llama_print_timings: prompt eval time =   30968.36 ms /   428 tokens (   72.36 ms per token,    13.82 tokens per second)\n",
      "llama_print_timings:        eval time =    3234.95 ms /    17 runs   (  190.29 ms per token,     5.26 tokens per second)\n",
      "llama_print_timings:       total time =   34258.24 ms /   445 tokens\n",
      "  2%|▏         | 1/54 [00:34<30:15, 34.26s/it]Llama.generate: prefix-match hit\n"
     ]
    },
    {
     "name": "stdout",
     "output_type": "stream",
     "text": [
      "네 어머니하고 사이 정말 좋아! 우리 어머니가 나한테 항상 맛있는거 사주시거든."
     ]
    },
    {
     "name": "stderr",
     "output_type": "stream",
     "text": [
      "\n",
      "llama_print_timings:        load time =   40091.78 ms\n",
      "llama_print_timings:      sample time =       2.80 ms /    20 runs   (    0.14 ms per token,  7137.76 tokens per second)\n",
      "llama_print_timings: prompt eval time =   29491.66 ms /   410 tokens (   71.93 ms per token,    13.90 tokens per second)\n",
      "llama_print_timings:        eval time =    3632.74 ms /    19 runs   (  191.20 ms per token,     5.23 tokens per second)\n",
      "llama_print_timings:       total time =   33188.82 ms /   429 tokens\n",
      "  4%|▎         | 2/54 [01:07<29:09, 33.64s/it]Llama.generate: prefix-match hit\n"
     ]
    },
    {
     "name": "stdout",
     "output_type": "stream",
     "text": [
      "응, 조심히 다녀와!"
     ]
    },
    {
     "name": "stderr",
     "output_type": "stream",
     "text": [
      "\n",
      "llama_print_timings:        load time =   40091.78 ms\n",
      "llama_print_timings:      sample time =       1.14 ms /     8 runs   (    0.14 ms per token,  7036.06 tokens per second)\n",
      "llama_print_timings: prompt eval time =   26019.73 ms /   358 tokens (   72.68 ms per token,    13.76 tokens per second)\n",
      "llama_print_timings:        eval time =    1349.74 ms /     7 runs   (  192.82 ms per token,     5.19 tokens per second)\n",
      "llama_print_timings:       total time =   27393.39 ms /   365 tokens\n",
      "  6%|▌         | 3/54 [01:34<26:10, 30.79s/it]Llama.generate: prefix-match hit\n"
     ]
    },
    {
     "name": "stdout",
     "output_type": "stream",
     "text": [
      "나도 동아리 가입하러 가야겠다. 다음에 대화하자!"
     ]
    },
    {
     "name": "stderr",
     "output_type": "stream",
     "text": [
      "\n",
      "llama_print_timings:        load time =   40091.78 ms\n",
      "llama_print_timings:      sample time =       1.85 ms /    13 runs   (    0.14 ms per token,  7030.83 tokens per second)\n",
      "llama_print_timings: prompt eval time =   29833.50 ms /   416 tokens (   71.72 ms per token,    13.94 tokens per second)\n",
      "llama_print_timings:        eval time =    2399.96 ms /    12 runs   (  200.00 ms per token,     5.00 tokens per second)\n",
      "llama_print_timings:       total time =   32272.19 ms /   428 tokens\n",
      "  7%|▋         | 4/54 [02:07<26:08, 31.38s/it]Llama.generate: prefix-match hit\n"
     ]
    },
    {
     "name": "stdout",
     "output_type": "stream",
     "text": [
      "고마워! 나에게 딱 필요한 조언이었어!"
     ]
    },
    {
     "name": "stderr",
     "output_type": "stream",
     "text": [
      "\n",
      "llama_print_timings:        load time =   40091.78 ms\n",
      "llama_print_timings:      sample time =       1.87 ms /    13 runs   (    0.14 ms per token,  6940.74 tokens per second)\n",
      "llama_print_timings: prompt eval time =   32624.00 ms /   457 tokens (   71.39 ms per token,    14.01 tokens per second)\n",
      "llama_print_timings:        eval time =    2372.54 ms /    12 runs   (  197.71 ms per token,     5.06 tokens per second)\n",
      "llama_print_timings:       total time =   35037.11 ms /   469 tokens\n",
      "  9%|▉         | 5/54 [02:42<26:42, 32.70s/it]Llama.generate: prefix-match hit\n"
     ]
    },
    {
     "name": "stdout",
     "output_type": "stream",
     "text": [
      "그래? 동물의 숲 재밌지? 나중에 우리 동물의 숲 같이 할래?"
     ]
    },
    {
     "name": "stderr",
     "output_type": "stream",
     "text": [
      "\n",
      "llama_print_timings:        load time =   40091.78 ms\n",
      "llama_print_timings:      sample time =       2.59 ms /    18 runs   (    0.14 ms per token,  6949.81 tokens per second)\n",
      "llama_print_timings: prompt eval time =   25836.84 ms /   358 tokens (   72.17 ms per token,    13.86 tokens per second)\n",
      "llama_print_timings:        eval time =    3239.81 ms /    17 runs   (  190.58 ms per token,     5.25 tokens per second)\n",
      "llama_print_timings:       total time =   29135.61 ms /   375 tokens\n",
      " 11%|█         | 6/54 [03:11<25:11, 31.49s/it]Llama.generate: prefix-match hit\n"
     ]
    },
    {
     "name": "stdout",
     "output_type": "stream",
     "text": [
      "그냥 컴퓨터 게임을 하고 있어."
     ]
    },
    {
     "name": "stderr",
     "output_type": "stream",
     "text": [
      "\n",
      "llama_print_timings:        load time =   40091.78 ms\n",
      "llama_print_timings:      sample time =       1.12 ms /     8 runs   (    0.14 ms per token,  7142.86 tokens per second)\n",
      "llama_print_timings: prompt eval time =   27047.68 ms /   377 tokens (   71.74 ms per token,    13.94 tokens per second)\n",
      "llama_print_timings:        eval time =    1326.47 ms /     7 runs   (  189.50 ms per token,     5.28 tokens per second)\n",
      "llama_print_timings:       total time =   28398.66 ms /   384 tokens\n",
      " 13%|█▎        | 7/54 [03:39<23:52, 30.48s/it]Llama.generate: prefix-match hit\n"
     ]
    },
    {
     "name": "stdout",
     "output_type": "stream",
     "text": [
      "나중에 시어머니가 좋아하시는 과일을 선물해 드려야겠다."
     ]
    },
    {
     "name": "stderr",
     "output_type": "stream",
     "text": [
      "\n",
      "llama_print_timings:        load time =   40091.78 ms\n",
      "llama_print_timings:      sample time =       2.37 ms /    17 runs   (    0.14 ms per token,  7173.00 tokens per second)\n",
      "llama_print_timings: prompt eval time =   29902.01 ms /   417 tokens (   71.71 ms per token,    13.95 tokens per second)\n",
      "llama_print_timings:        eval time =    3067.95 ms /    16 runs   (  191.75 ms per token,     5.22 tokens per second)\n",
      "llama_print_timings:       total time =   33022.87 ms /   433 tokens\n",
      " 15%|█▍        | 8/54 [04:12<23:59, 31.29s/it]Llama.generate: prefix-match hit\n"
     ]
    },
    {
     "name": "stdout",
     "output_type": "stream",
     "text": [
      "안녕하세요, 오늘 날씨가 굉장히 좋지 않군요."
     ]
    },
    {
     "name": "stderr",
     "output_type": "stream",
     "text": [
      "\n",
      "llama_print_timings:        load time =   40091.78 ms\n",
      "llama_print_timings:      sample time =       1.86 ms /    13 runs   (    0.14 ms per token,  6970.51 tokens per second)\n",
      "llama_print_timings: prompt eval time =   25074.81 ms /   346 tokens (   72.47 ms per token,    13.80 tokens per second)\n",
      "llama_print_timings:        eval time =    2269.70 ms /    12 runs   (  189.14 ms per token,     5.29 tokens per second)\n",
      "llama_print_timings:       total time =   27383.91 ms /   358 tokens\n",
      " 17%|█▋        | 9/54 [04:40<22:33, 30.07s/it]Llama.generate: prefix-match hit\n"
     ]
    },
    {
     "name": "stdout",
     "output_type": "stream",
     "text": [
      "맞아. 에어컨 없으면 여름에 어떻게 사는지 모르겠어."
     ]
    },
    {
     "name": "stderr",
     "output_type": "stream",
     "text": [
      "\n",
      "llama_print_timings:        load time =   40091.78 ms\n",
      "llama_print_timings:      sample time =       1.81 ms /    13 runs   (    0.14 ms per token,  7190.27 tokens per second)\n",
      "llama_print_timings: prompt eval time =   27011.31 ms /   374 tokens (   72.22 ms per token,    13.85 tokens per second)\n",
      "llama_print_timings:        eval time =    2285.74 ms /    12 runs   (  190.48 ms per token,     5.25 tokens per second)\n",
      "llama_print_timings:       total time =   29337.20 ms /   386 tokens\n",
      " 19%|█▊        | 10/54 [05:09<21:53, 29.85s/it]Llama.generate: prefix-match hit\n"
     ]
    },
    {
     "name": "stdout",
     "output_type": "stream",
     "text": [
      "응 더워서 폭염 문자가 자주와."
     ]
    },
    {
     "name": "stderr",
     "output_type": "stream",
     "text": [
      "\n",
      "llama_print_timings:        load time =   40091.78 ms\n",
      "llama_print_timings:      sample time =       1.59 ms /    11 runs   (    0.14 ms per token,  6905.21 tokens per second)\n",
      "llama_print_timings: prompt eval time =   29173.61 ms /   405 tokens (   72.03 ms per token,    13.88 tokens per second)\n",
      "llama_print_timings:        eval time =    1905.99 ms /    10 runs   (  190.60 ms per token,     5.25 tokens per second)\n",
      "llama_print_timings:       total time =   31112.31 ms /   415 tokens\n",
      " 20%|██        | 11/54 [05:40<21:40, 30.24s/it]Llama.generate: prefix-match hit\n"
     ]
    },
    {
     "name": "stdout",
     "output_type": "stream",
     "text": [
      "그래, 좋은 하루 보내."
     ]
    },
    {
     "name": "stderr",
     "output_type": "stream",
     "text": [
      "\n",
      "llama_print_timings:        load time =   40091.78 ms\n",
      "llama_print_timings:      sample time =       0.98 ms /     7 runs   (    0.14 ms per token,  7172.13 tokens per second)\n",
      "llama_print_timings: prompt eval time =   31169.06 ms /   434 tokens (   71.82 ms per token,    13.92 tokens per second)\n",
      "llama_print_timings:        eval time =    1136.90 ms /     6 runs   (  189.48 ms per token,     5.28 tokens per second)\n",
      "llama_print_timings:       total time =   32326.27 ms /   440 tokens\n",
      " 22%|██▏       | 12/54 [06:12<21:36, 30.87s/it]Llama.generate: prefix-match hit\n"
     ]
    },
    {
     "name": "stdout",
     "output_type": "stream",
     "text": [
      "응응 그래야지. 너는 고등학교 졸업한지 꽤 됐어?"
     ]
    },
    {
     "name": "stderr",
     "output_type": "stream",
     "text": [
      "\n",
      "llama_print_timings:        load time =   40091.78 ms\n",
      "llama_print_timings:      sample time =       1.98 ms /    14 runs   (    0.14 ms per token,  7074.28 tokens per second)\n",
      "llama_print_timings: prompt eval time =   26906.45 ms /   371 tokens (   72.52 ms per token,    13.79 tokens per second)\n",
      "llama_print_timings:        eval time =    2466.02 ms /    13 runs   (  189.69 ms per token,     5.27 tokens per second)\n",
      "llama_print_timings:       total time =   29416.47 ms /   384 tokens\n",
      " 24%|██▍       | 13/54 [06:42<20:47, 30.43s/it]Llama.generate: prefix-match hit\n"
     ]
    },
    {
     "name": "stdout",
     "output_type": "stream",
     "text": [
      "응 좋은 추억이 있으면 말해줄게."
     ]
    },
    {
     "name": "stderr",
     "output_type": "stream",
     "text": [
      "\n",
      "llama_print_timings:        load time =   40091.78 ms\n",
      "llama_print_timings:      sample time =       1.52 ms /    10 runs   (    0.15 ms per token,  6570.30 tokens per second)\n",
      "llama_print_timings: prompt eval time =   28524.82 ms /   397 tokens (   71.85 ms per token,    13.92 tokens per second)\n",
      "llama_print_timings:        eval time =    1720.93 ms /     9 runs   (  191.21 ms per token,     5.23 tokens per second)\n",
      "llama_print_timings:       total time =   30279.21 ms /   406 tokens\n",
      " 26%|██▌       | 14/54 [07:12<20:15, 30.39s/it]Llama.generate: prefix-match hit\n"
     ]
    },
    {
     "name": "stdout",
     "output_type": "stream",
     "text": [
      "고마워. 너도 좋은 하루 보내!"
     ]
    },
    {
     "name": "stderr",
     "output_type": "stream",
     "text": [
      "\n",
      "llama_print_timings:        load time =   40091.78 ms\n",
      "llama_print_timings:      sample time =       1.39 ms /    10 runs   (    0.14 ms per token,  7173.60 tokens per second)\n",
      "llama_print_timings: prompt eval time =   28243.54 ms /   390 tokens (   72.42 ms per token,    13.81 tokens per second)\n",
      "llama_print_timings:        eval time =    1731.26 ms /     9 runs   (  192.36 ms per token,     5.20 tokens per second)\n",
      "llama_print_timings:       total time =   30004.96 ms /   399 tokens\n",
      " 28%|██▊       | 15/54 [07:42<19:40, 30.27s/it]Llama.generate: prefix-match hit\n"
     ]
    },
    {
     "name": "stdout",
     "output_type": "stream",
     "text": [
      "오, 나도 요리를 좋아해! 특히 한식요리 좋아하는데 요리 잘 해?"
     ]
    },
    {
     "name": "stderr",
     "output_type": "stream",
     "text": [
      "\n",
      "llama_print_timings:        load time =   40091.78 ms\n",
      "llama_print_timings:      sample time =       2.85 ms /    20 runs   (    0.14 ms per token,  7015.08 tokens per second)\n",
      "llama_print_timings: prompt eval time =   31541.48 ms /   438 tokens (   72.01 ms per token,    13.89 tokens per second)\n",
      "llama_print_timings:        eval time =    3638.49 ms /    19 runs   (  191.50 ms per token,     5.22 tokens per second)\n",
      "llama_print_timings:       total time =   35242.68 ms /   457 tokens\n",
      " 30%|██▉       | 16/54 [08:17<20:07, 31.77s/it]Llama.generate: prefix-match hit\n"
     ]
    },
    {
     "name": "stdout",
     "output_type": "stream",
     "text": [
      "맞지. 노래 부르는 것도 좋아하고 힙합 음악도 좋아해."
     ]
    },
    {
     "name": "stderr",
     "output_type": "stream",
     "text": [
      "\n",
      "llama_print_timings:        load time =   40091.78 ms\n",
      "llama_print_timings:      sample time =       2.39 ms /    17 runs   (    0.14 ms per token,  7127.88 tokens per second)\n",
      "llama_print_timings: prompt eval time =   30783.91 ms /   430 tokens (   71.59 ms per token,    13.97 tokens per second)\n",
      "llama_print_timings:        eval time =    3058.93 ms /    16 runs   (  191.18 ms per token,     5.23 tokens per second)\n",
      "llama_print_timings:       total time =   33894.73 ms /   446 tokens\n",
      " 31%|███▏      | 17/54 [08:51<19:59, 32.41s/it]Llama.generate: prefix-match hit\n"
     ]
    },
    {
     "name": "stdout",
     "output_type": "stream",
     "text": [
      "응 밥 맛있게 먹어"
     ]
    },
    {
     "name": "stderr",
     "output_type": "stream",
     "text": [
      "\n",
      "llama_print_timings:        load time =   40091.78 ms\n",
      "llama_print_timings:      sample time =       0.82 ms /     6 runs   (    0.14 ms per token,  7334.96 tokens per second)\n",
      "llama_print_timings: prompt eval time =   30653.79 ms /   430 tokens (   71.29 ms per token,    14.03 tokens per second)\n",
      "llama_print_timings:        eval time =     944.30 ms /     5 runs   (  188.86 ms per token,     5.29 tokens per second)\n",
      "llama_print_timings:       total time =   31614.57 ms /   435 tokens\n",
      " 33%|███▎      | 18/54 [09:23<19:18, 32.17s/it]Llama.generate: prefix-match hit\n"
     ]
    },
    {
     "name": "stdout",
     "output_type": "stream",
     "text": [
      "그럼 전역할 때까지 면회를 가는거야?"
     ]
    },
    {
     "name": "stderr",
     "output_type": "stream",
     "text": [
      "\n",
      "llama_print_timings:        load time =   40091.78 ms\n",
      "llama_print_timings:      sample time =       1.41 ms /    10 runs   (    0.14 ms per token,  7112.38 tokens per second)\n",
      "llama_print_timings: prompt eval time =   26776.85 ms /   369 tokens (   72.57 ms per token,    13.78 tokens per second)\n",
      "llama_print_timings:        eval time =    1694.23 ms /     9 runs   (  188.25 ms per token,     5.31 tokens per second)\n",
      "llama_print_timings:       total time =   28500.40 ms /   378 tokens\n",
      " 35%|███▌      | 19/54 [09:51<18:07, 31.07s/it]Llama.generate: prefix-match hit\n"
     ]
    },
    {
     "name": "stdout",
     "output_type": "stream",
     "text": [
      "응. 내가 학창시절에 학군단 출신이어서 학군단 친구들을 면회 많이 갔어."
     ]
    },
    {
     "name": "stderr",
     "output_type": "stream",
     "text": [
      "\n",
      "llama_print_timings:        load time =   40091.78 ms\n",
      "llama_print_timings:      sample time =       3.52 ms /    25 runs   (    0.14 ms per token,  7106.31 tokens per second)\n",
      "llama_print_timings: prompt eval time =   25869.68 ms /   358 tokens (   72.26 ms per token,    13.84 tokens per second)\n",
      "llama_print_timings:        eval time =    4693.89 ms /    24 runs   (  195.58 ms per token,     5.11 tokens per second)\n",
      "llama_print_timings:       total time =   30641.03 ms /   382 tokens\n",
      " 37%|███▋      | 20/54 [10:22<17:32, 30.94s/it]Llama.generate: prefix-match hit\n"
     ]
    },
    {
     "name": "stdout",
     "output_type": "stream",
     "text": [
      "필러는 주름 없애는데 효과적이라고 하던데, 나도 맞아보고 싶다."
     ]
    },
    {
     "name": "stderr",
     "output_type": "stream",
     "text": [
      "\n",
      "llama_print_timings:        load time =   40091.78 ms\n",
      "llama_print_timings:      sample time =       2.58 ms /    18 runs   (    0.14 ms per token,  6963.25 tokens per second)\n",
      "llama_print_timings: prompt eval time =   30729.83 ms /   427 tokens (   71.97 ms per token,    13.90 tokens per second)\n",
      "llama_print_timings:        eval time =    3233.81 ms /    17 runs   (  190.22 ms per token,     5.26 tokens per second)\n",
      "llama_print_timings:       total time =   34019.91 ms /   444 tokens\n",
      " 39%|███▉      | 21/54 [10:56<17:31, 31.87s/it]Llama.generate: prefix-match hit\n"
     ]
    },
    {
     "name": "stdout",
     "output_type": "stream",
     "text": [
      "아 그래? 나도 한번 매직으로 외모를 관리해봐야겠네."
     ]
    },
    {
     "name": "stderr",
     "output_type": "stream",
     "text": [
      "\n",
      "llama_print_timings:        load time =   40091.78 ms\n",
      "llama_print_timings:      sample time =       2.15 ms /    15 runs   (    0.14 ms per token,  6976.74 tokens per second)\n",
      "llama_print_timings: prompt eval time =   28602.73 ms /   397 tokens (   72.05 ms per token,    13.88 tokens per second)\n",
      "llama_print_timings:        eval time =    2665.50 ms /    14 runs   (  190.39 ms per token,     5.25 tokens per second)\n",
      "llama_print_timings:       total time =   31316.08 ms /   411 tokens\n",
      " 41%|████      | 22/54 [11:27<16:54, 31.71s/it]Llama.generate: prefix-match hit\n"
     ]
    },
    {
     "name": "stdout",
     "output_type": "stream",
     "text": [
      "응 잘 지내. 다음에 보자 안녕."
     ]
    },
    {
     "name": "stderr",
     "output_type": "stream",
     "text": [
      "\n",
      "llama_print_timings:        load time =   40091.78 ms\n",
      "llama_print_timings:      sample time =       1.27 ms /     9 runs   (    0.14 ms per token,  7069.91 tokens per second)\n",
      "llama_print_timings: prompt eval time =   27458.43 ms /   383 tokens (   71.69 ms per token,    13.95 tokens per second)\n",
      "llama_print_timings:        eval time =    1578.69 ms /     8 runs   (  197.34 ms per token,     5.07 tokens per second)\n",
      "llama_print_timings:       total time =   29066.12 ms /   391 tokens\n",
      " 43%|████▎     | 23/54 [11:56<15:58, 30.92s/it]Llama.generate: prefix-match hit\n"
     ]
    },
    {
     "name": "stdout",
     "output_type": "stream",
     "text": [
      "그래 그럼 다음에 또 연락해!"
     ]
    },
    {
     "name": "stderr",
     "output_type": "stream",
     "text": [
      "\n",
      "llama_print_timings:        load time =   40091.78 ms\n",
      "llama_print_timings:      sample time =       1.10 ms /     8 runs   (    0.14 ms per token,  7246.38 tokens per second)\n",
      "llama_print_timings: prompt eval time =   26878.94 ms /   370 tokens (   72.65 ms per token,    13.77 tokens per second)\n",
      "llama_print_timings:        eval time =    1378.27 ms /     7 runs   (  196.90 ms per token,     5.08 tokens per second)\n",
      "llama_print_timings:       total time =   28281.12 ms /   377 tokens\n",
      " 44%|████▍     | 24/54 [12:25<15:03, 30.13s/it]Llama.generate: prefix-match hit\n"
     ]
    },
    {
     "name": "stdout",
     "output_type": "stream",
     "text": [
      "어때? 재밌어? 잘 가르쳐줘?"
     ]
    },
    {
     "name": "stderr",
     "output_type": "stream",
     "text": [
      "\n",
      "llama_print_timings:        load time =   40091.78 ms\n",
      "llama_print_timings:      sample time =       1.70 ms /    12 runs   (    0.14 ms per token,  7071.30 tokens per second)\n",
      "llama_print_timings: prompt eval time =   30576.31 ms /   425 tokens (   71.94 ms per token,    13.90 tokens per second)\n",
      "llama_print_timings:        eval time =    2141.02 ms /    11 runs   (  194.64 ms per token,     5.14 tokens per second)\n",
      "llama_print_timings:       total time =   32754.90 ms /   436 tokens\n",
      " 46%|████▋     | 25/54 [12:58<14:56, 30.92s/it]Llama.generate: prefix-match hit\n"
     ]
    },
    {
     "name": "stdout",
     "output_type": "stream",
     "text": [
      "음, 잘 보지는 않아. 너는 만화 어떤거 봐?"
     ]
    },
    {
     "name": "stderr",
     "output_type": "stream",
     "text": [
      "\n",
      "llama_print_timings:        load time =   40091.78 ms\n",
      "llama_print_timings:      sample time =       2.00 ms /    14 runs   (    0.14 ms per token,  7014.03 tokens per second)\n",
      "llama_print_timings: prompt eval time =   27371.26 ms /   379 tokens (   72.22 ms per token,    13.85 tokens per second)\n",
      "llama_print_timings:        eval time =    2467.45 ms /    13 runs   (  189.80 ms per token,     5.27 tokens per second)\n",
      "llama_print_timings:       total time =   29881.46 ms /   392 tokens\n",
      " 48%|████▊     | 26/54 [13:27<14:17, 30.61s/it]Llama.generate: prefix-match hit\n"
     ]
    },
    {
     "name": "stdout",
     "output_type": "stream",
     "text": [
      "내 춤? 나 춤 추는 거 완전 귀여운데."
     ]
    },
    {
     "name": "stderr",
     "output_type": "stream",
     "text": [
      "\n",
      "llama_print_timings:        load time =   40091.78 ms\n",
      "llama_print_timings:      sample time =       1.84 ms /    13 runs   (    0.14 ms per token,  7065.22 tokens per second)\n",
      "llama_print_timings: prompt eval time =   29245.34 ms /   408 tokens (   71.68 ms per token,    13.95 tokens per second)\n",
      "llama_print_timings:        eval time =    2334.17 ms /    12 runs   (  194.51 ms per token,     5.14 tokens per second)\n",
      "llama_print_timings:       total time =   31619.85 ms /   420 tokens\n",
      " 50%|█████     | 27/54 [13:59<13:54, 30.91s/it]Llama.generate: prefix-match hit\n"
     ]
    },
    {
     "name": "stdout",
     "output_type": "stream",
     "text": [
      "음. 난 요즘 뉴스에는 관심없고 만화만 봐서."
     ]
    },
    {
     "name": "stderr",
     "output_type": "stream",
     "text": [
      "\n",
      "llama_print_timings:        load time =   40091.78 ms\n",
      "llama_print_timings:      sample time =       2.06 ms /    14 runs   (    0.15 ms per token,  6802.72 tokens per second)\n",
      "llama_print_timings: prompt eval time =   24526.85 ms /   339 tokens (   72.35 ms per token,    13.82 tokens per second)\n",
      "llama_print_timings:        eval time =    2487.63 ms /    13 runs   (  191.36 ms per token,     5.23 tokens per second)\n",
      "llama_print_timings:       total time =   27058.21 ms /   352 tokens\n",
      " 52%|█████▏    | 28/54 [14:26<12:53, 29.76s/it]Llama.generate: prefix-match hit\n"
     ]
    },
    {
     "name": "stdout",
     "output_type": "stream",
     "text": [
      "응, 우리집은 시장에서 사는 게 훨씬 싸서 가끔 마트에서 과일을 사오곤 했었어. 내일 가면 내가 과일을 사서 맛있는 것 좀 나눠줄게."
     ]
    },
    {
     "name": "stderr",
     "output_type": "stream",
     "text": [
      "\n",
      "llama_print_timings:        load time =   40091.78 ms\n",
      "llama_print_timings:      sample time =       5.07 ms /    36 runs   (    0.14 ms per token,  7107.60 tokens per second)\n",
      "llama_print_timings: prompt eval time =   29894.00 ms /   418 tokens (   71.52 ms per token,    13.98 tokens per second)\n",
      "llama_print_timings:        eval time =    6692.64 ms /    35 runs   (  191.22 ms per token,     5.23 tokens per second)\n",
      "llama_print_timings:       total time =   36699.50 ms /   453 tokens\n",
      " 54%|█████▎    | 29/54 [15:03<13:16, 31.84s/it]Llama.generate: prefix-match hit\n"
     ]
    },
    {
     "name": "stdout",
     "output_type": "stream",
     "text": [
      "나 지금 첼로 배우고 있는데 너무 재밌어~"
     ]
    },
    {
     "name": "stderr",
     "output_type": "stream",
     "text": [
      "\n",
      "llama_print_timings:        load time =   40091.78 ms\n",
      "llama_print_timings:      sample time =       1.71 ms /    12 runs   (    0.14 ms per token,  7005.25 tokens per second)\n",
      "llama_print_timings: prompt eval time =   26613.05 ms /   369 tokens (   72.12 ms per token,    13.87 tokens per second)\n",
      "llama_print_timings:        eval time =    2095.62 ms /    11 runs   (  190.51 ms per token,     5.25 tokens per second)\n",
      "llama_print_timings:       total time =   28745.42 ms /   380 tokens\n",
      " 56%|█████▌    | 30/54 [15:32<12:21, 30.92s/it]Llama.generate: prefix-match hit\n"
     ]
    },
    {
     "name": "stdout",
     "output_type": "stream",
     "text": [
      "정말? 그럼 내가 내일 학교 수업 끝나고 한번 연락할게."
     ]
    },
    {
     "name": "stderr",
     "output_type": "stream",
     "text": [
      "\n",
      "llama_print_timings:        load time =   40091.78 ms\n",
      "llama_print_timings:      sample time =       1.80 ms /    13 runs   (    0.14 ms per token,  7206.21 tokens per second)\n",
      "llama_print_timings: prompt eval time =   28005.58 ms /   391 tokens (   71.63 ms per token,    13.96 tokens per second)\n",
      "llama_print_timings:        eval time =    2281.19 ms /    12 runs   (  190.10 ms per token,     5.26 tokens per second)\n",
      "llama_print_timings:       total time =   30326.18 ms /   403 tokens\n",
      " 57%|█████▋    | 31/54 [16:02<11:47, 30.74s/it]Llama.generate: prefix-match hit\n"
     ]
    },
    {
     "name": "stdout",
     "output_type": "stream",
     "text": [
      "그래도 필라테스는 안 힘들어서 괜찮아!"
     ]
    },
    {
     "name": "stderr",
     "output_type": "stream",
     "text": [
      "\n",
      "llama_print_timings:        load time =   40091.78 ms\n",
      "llama_print_timings:      sample time =       1.57 ms /    11 runs   (    0.14 ms per token,  6984.13 tokens per second)\n",
      "llama_print_timings: prompt eval time =   26077.42 ms /   360 tokens (   72.44 ms per token,    13.81 tokens per second)\n",
      "llama_print_timings:        eval time =    1941.16 ms /    10 runs   (  194.12 ms per token,     5.15 tokens per second)\n",
      "llama_print_timings:       total time =   28053.26 ms /   370 tokens\n",
      " 59%|█████▉    | 32/54 [16:30<10:58, 29.94s/it]Llama.generate: prefix-match hit\n"
     ]
    },
    {
     "name": "stdout",
     "output_type": "stream",
     "text": [
      "나는 지난주에 첼로를 샀는데, 연주하기 시작했어"
     ]
    },
    {
     "name": "stderr",
     "output_type": "stream",
     "text": [
      "\n",
      "llama_print_timings:        load time =   40091.78 ms\n",
      "llama_print_timings:      sample time =       1.86 ms /    13 runs   (    0.14 ms per token,  6977.99 tokens per second)\n",
      "llama_print_timings: prompt eval time =   30096.72 ms /   419 tokens (   71.83 ms per token,    13.92 tokens per second)\n",
      "llama_print_timings:        eval time =    2336.49 ms /    12 runs   (  194.71 ms per token,     5.14 tokens per second)\n",
      "llama_print_timings:       total time =   32472.79 ms /   431 tokens\n",
      " 61%|██████    | 33/54 [17:02<10:44, 30.70s/it]Llama.generate: prefix-match hit\n"
     ]
    },
    {
     "name": "stdout",
     "output_type": "stream",
     "text": [
      "아니, 자꾸만 면접에서 떨어지고 있어."
     ]
    },
    {
     "name": "stderr",
     "output_type": "stream",
     "text": [
      "\n",
      "llama_print_timings:        load time =   40091.78 ms\n",
      "llama_print_timings:      sample time =       1.43 ms /    10 runs   (    0.14 ms per token,  6993.01 tokens per second)\n",
      "llama_print_timings: prompt eval time =   27448.45 ms /   381 tokens (   72.04 ms per token,    13.88 tokens per second)\n",
      "llama_print_timings:        eval time =    1715.18 ms /     9 runs   (  190.58 ms per token,     5.25 tokens per second)\n",
      "llama_print_timings:       total time =   29193.25 ms /   390 tokens\n",
      " 63%|██████▎   | 34/54 [17:32<10:04, 30.25s/it]Llama.generate: prefix-match hit\n"
     ]
    },
    {
     "name": "stdout",
     "output_type": "stream",
     "text": [
      "그렇구나. 그러면 너 공연도 자주하고 바쁘겠네?"
     ]
    },
    {
     "name": "stderr",
     "output_type": "stream",
     "text": [
      "\n",
      "llama_print_timings:        load time =   40091.78 ms\n",
      "llama_print_timings:      sample time =       3.08 ms /    13 runs   (    0.24 ms per token,  4219.41 tokens per second)\n",
      "llama_print_timings: prompt eval time =   27463.77 ms /   380 tokens (   72.27 ms per token,    13.84 tokens per second)\n",
      "llama_print_timings:        eval time =    2288.02 ms /    12 runs   (  190.67 ms per token,     5.24 tokens per second)\n",
      "llama_print_timings:       total time =   29793.70 ms /   392 tokens\n",
      " 65%|██████▍   | 35/54 [18:01<09:32, 30.11s/it]Llama.generate: prefix-match hit\n"
     ]
    },
    {
     "name": "stdout",
     "output_type": "stream",
     "text": [
      "맞아. 너는 어떤 영화를 좋아해?"
     ]
    },
    {
     "name": "stderr",
     "output_type": "stream",
     "text": [
      "\n",
      "llama_print_timings:        load time =   40091.78 ms\n",
      "llama_print_timings:      sample time =       1.52 ms /    10 runs   (    0.15 ms per token,  6570.30 tokens per second)\n",
      "llama_print_timings: prompt eval time =   27837.66 ms /   386 tokens (   72.12 ms per token,    13.87 tokens per second)\n",
      "llama_print_timings:        eval time =    1715.60 ms /     9 runs   (  190.62 ms per token,     5.25 tokens per second)\n",
      "llama_print_timings:       total time =   29585.37 ms /   395 tokens\n",
      " 67%|██████▋   | 36/54 [18:31<08:59, 29.96s/it]Llama.generate: prefix-match hit\n"
     ]
    },
    {
     "name": "stdout",
     "output_type": "stream",
     "text": [
      "응, 좋아해! 특히 쌀국수를 좋아해. 넌 좋아해?"
     ]
    },
    {
     "name": "stderr",
     "output_type": "stream",
     "text": [
      "\n",
      "llama_print_timings:        load time =   40091.78 ms\n",
      "llama_print_timings:      sample time =       2.38 ms /    17 runs   (    0.14 ms per token,  7148.86 tokens per second)\n",
      "llama_print_timings: prompt eval time =   31016.63 ms /   431 tokens (   71.96 ms per token,    13.90 tokens per second)\n",
      "llama_print_timings:        eval time =    3059.21 ms /    16 runs   (  191.20 ms per token,     5.23 tokens per second)\n",
      "llama_print_timings:       total time =   34129.28 ms /   447 tokens\n",
      " 69%|██████▊   | 37/54 [19:05<08:50, 31.21s/it]Llama.generate: prefix-match hit\n"
     ]
    },
    {
     "name": "stdout",
     "output_type": "stream",
     "text": [
      "주말에는 그냥 쉬는 편이야. 요즘에는 첼로를 배우는 게 취미이고. 너는 주말인데 뭐해?"
     ]
    },
    {
     "name": "stderr",
     "output_type": "stream",
     "text": [
      "\n",
      "llama_print_timings:        load time =   40091.78 ms\n",
      "llama_print_timings:      sample time =       3.76 ms /    27 runs   (    0.14 ms per token,  7175.13 tokens per second)\n",
      "llama_print_timings: prompt eval time =   29022.95 ms /   405 tokens (   71.66 ms per token,    13.95 tokens per second)\n",
      "llama_print_timings:        eval time =    4965.26 ms /    26 runs   (  190.97 ms per token,     5.24 tokens per second)\n",
      "llama_print_timings:       total time =   34070.12 ms /   431 tokens\n",
      " 70%|███████   | 38/54 [19:39<08:33, 32.07s/it]Llama.generate: prefix-match hit\n"
     ]
    },
    {
     "name": "stdout",
     "output_type": "stream",
     "text": [
      "응, 고마워. 우리 다음에 또 대화 나누자!"
     ]
    },
    {
     "name": "stderr",
     "output_type": "stream",
     "text": [
      "\n",
      "llama_print_timings:        load time =   40091.78 ms\n",
      "llama_print_timings:      sample time =       1.81 ms /    13 runs   (    0.14 ms per token,  7198.23 tokens per second)\n",
      "llama_print_timings: prompt eval time =   26770.60 ms /   370 tokens (   72.35 ms per token,    13.82 tokens per second)\n",
      "llama_print_timings:        eval time =    2281.81 ms /    12 runs   (  190.15 ms per token,     5.26 tokens per second)\n",
      "llama_print_timings:       total time =   29090.89 ms /   382 tokens\n",
      " 72%|███████▏  | 39/54 [20:08<07:47, 31.18s/it]Llama.generate: prefix-match hit\n"
     ]
    },
    {
     "name": "stdout",
     "output_type": "stream",
     "text": [
      "어쨌든 소개팅이 잘 안되면 연락해줘. 내가 소개시켜줄게."
     ]
    },
    {
     "name": "stderr",
     "output_type": "stream",
     "text": [
      "\n",
      "llama_print_timings:        load time =   40091.78 ms\n",
      "llama_print_timings:      sample time =       2.66 ms /    19 runs   (    0.14 ms per token,  7150.92 tokens per second)\n",
      "llama_print_timings: prompt eval time =   29040.07 ms /   400 tokens (   72.60 ms per token,    13.77 tokens per second)\n",
      "llama_print_timings:        eval time =    3425.49 ms /    18 runs   (  190.30 ms per token,     5.25 tokens per second)\n",
      "llama_print_timings:       total time =   32523.81 ms /   418 tokens\n",
      " 74%|███████▍  | 40/54 [20:41<07:22, 31.58s/it]Llama.generate: prefix-match hit\n"
     ]
    },
    {
     "name": "stdout",
     "output_type": "stream",
     "text": [
      "외롭지 않으면 괜찮겠네. 이제 그만 대화하고 싶니?"
     ]
    },
    {
     "name": "stderr",
     "output_type": "stream",
     "text": [
      "\n",
      "llama_print_timings:        load time =   40091.78 ms\n",
      "llama_print_timings:      sample time =       2.08 ms /    15 runs   (    0.14 ms per token,  7215.01 tokens per second)\n",
      "llama_print_timings: prompt eval time =   28899.48 ms /   399 tokens (   72.43 ms per token,    13.81 tokens per second)\n",
      "llama_print_timings:        eval time =    2679.17 ms /    14 runs   (  191.37 ms per token,     5.23 tokens per second)\n",
      "llama_print_timings:       total time =   31624.42 ms /   413 tokens\n",
      " 76%|███████▌  | 41/54 [21:13<06:50, 31.60s/it]Llama.generate: prefix-match hit\n"
     ]
    },
    {
     "name": "stdout",
     "output_type": "stream",
     "text": [
      "멋있군. 혹시 항공기 조종사는 어떤 교육을 받아야하는거야?"
     ]
    },
    {
     "name": "stderr",
     "output_type": "stream",
     "text": [
      "\n",
      "llama_print_timings:        load time =   40091.78 ms\n",
      "llama_print_timings:      sample time =       2.13 ms /    15 runs   (    0.14 ms per token,  7038.95 tokens per second)\n",
      "llama_print_timings: prompt eval time =   26863.11 ms /   371 tokens (   72.41 ms per token,    13.81 tokens per second)\n",
      "llama_print_timings:        eval time =    2662.09 ms /    14 runs   (  190.15 ms per token,     5.26 tokens per second)\n",
      "llama_print_timings:       total time =   29569.71 ms /   385 tokens\n",
      " 78%|███████▊  | 42/54 [21:42<06:11, 30.99s/it]Llama.generate: prefix-match hit\n"
     ]
    },
    {
     "name": "stdout",
     "output_type": "stream",
     "text": [
      "좋아. 내가 밥 살게."
     ]
    },
    {
     "name": "stderr",
     "output_type": "stream",
     "text": [
      "\n",
      "llama_print_timings:        load time =   40091.78 ms\n",
      "llama_print_timings:      sample time =       0.99 ms /     7 runs   (    0.14 ms per token,  7085.02 tokens per second)\n",
      "llama_print_timings: prompt eval time =   29934.05 ms /   414 tokens (   72.30 ms per token,    13.83 tokens per second)\n",
      "llama_print_timings:        eval time =    1151.21 ms /     6 runs   (  191.87 ms per token,     5.21 tokens per second)\n",
      "llama_print_timings:       total time =   31105.43 ms /   420 tokens\n",
      " 80%|███████▉  | 43/54 [22:13<05:41, 31.03s/it]Llama.generate: prefix-match hit\n"
     ]
    },
    {
     "name": "stdout",
     "output_type": "stream",
     "text": [
      "집에서 콘솔게임 하는 게 내 주말 계획인데! 그럼 나 먼저 가볼게~ 안녕~"
     ]
    },
    {
     "name": "stderr",
     "output_type": "stream",
     "text": [
      "\n",
      "llama_print_timings:        load time =   40091.78 ms\n",
      "llama_print_timings:      sample time =       2.94 ms /    21 runs   (    0.14 ms per token,  7147.72 tokens per second)\n",
      "llama_print_timings: prompt eval time =   30717.32 ms /   424 tokens (   72.45 ms per token,    13.80 tokens per second)\n",
      "llama_print_timings:        eval time =    3813.77 ms /    20 runs   (  190.69 ms per token,     5.24 tokens per second)\n",
      "llama_print_timings:       total time =   34593.93 ms /   444 tokens\n",
      " 81%|████████▏ | 44/54 [22:48<05:20, 32.10s/it]Llama.generate: prefix-match hit\n"
     ]
    },
    {
     "name": "stdout",
     "output_type": "stream",
     "text": [
      "업체는 아직 알아보고 있는데, 직접 인테리어도 알아보고 있어. 너는 어떤 인테리어 스타일을 선호해?"
     ]
    },
    {
     "name": "stderr",
     "output_type": "stream",
     "text": [
      "\n",
      "llama_print_timings:        load time =   40091.78 ms\n",
      "llama_print_timings:      sample time =       3.24 ms /    23 runs   (    0.14 ms per token,  7100.96 tokens per second)\n",
      "llama_print_timings: prompt eval time =   28923.92 ms /   400 tokens (   72.31 ms per token,    13.83 tokens per second)\n",
      "llama_print_timings:        eval time =    4229.03 ms /    22 runs   (  192.23 ms per token,     5.20 tokens per second)\n",
      "llama_print_timings:       total time =   33221.56 ms /   422 tokens\n",
      " 83%|████████▎ | 45/54 [23:21<04:51, 32.44s/it]Llama.generate: prefix-match hit\n"
     ]
    },
    {
     "name": "stdout",
     "output_type": "stream",
     "text": [
      "햄버거 맛있겠다. 나도 이제 수업 다 끝났어. 수업 어땠어?"
     ]
    },
    {
     "name": "stderr",
     "output_type": "stream",
     "text": [
      "\n",
      "llama_print_timings:        load time =   40091.78 ms\n",
      "llama_print_timings:      sample time =       2.80 ms /    20 runs   (    0.14 ms per token,  7142.86 tokens per second)\n",
      "llama_print_timings: prompt eval time =   26101.81 ms /   360 tokens (   72.51 ms per token,    13.79 tokens per second)\n",
      "llama_print_timings:        eval time =    3661.83 ms /    19 runs   (  192.73 ms per token,     5.19 tokens per second)\n",
      "llama_print_timings:       total time =   29825.40 ms /   379 tokens\n",
      " 85%|████████▌ | 46/54 [23:51<04:13, 31.66s/it]Llama.generate: prefix-match hit\n"
     ]
    },
    {
     "name": "stdout",
     "output_type": "stream",
     "text": [
      "서울로 갈 것 같아. 친구가 서울로 취직해서 같이 살려고 해."
     ]
    },
    {
     "name": "stderr",
     "output_type": "stream",
     "text": [
      "\n",
      "llama_print_timings:        load time =   40091.78 ms\n",
      "llama_print_timings:      sample time =       2.66 ms /    19 runs   (    0.14 ms per token,  7142.86 tokens per second)\n",
      "llama_print_timings: prompt eval time =   28845.35 ms /   397 tokens (   72.66 ms per token,    13.76 tokens per second)\n",
      "llama_print_timings:        eval time =    3493.22 ms /    18 runs   (  194.07 ms per token,     5.15 tokens per second)\n",
      "llama_print_timings:       total time =   32397.35 ms /   415 tokens\n",
      " 87%|████████▋ | 47/54 [24:23<03:43, 31.88s/it]Llama.generate: prefix-match hit\n"
     ]
    },
    {
     "name": "stdout",
     "output_type": "stream",
     "text": [
      "맞아맞아. 패션쇼는 패션모델이 멋진 포즈를 취하는 거 말고도 다른 볼거리가 있니?"
     ]
    },
    {
     "name": "stderr",
     "output_type": "stream",
     "text": [
      "\n",
      "llama_print_timings:        load time =   40091.78 ms\n",
      "llama_print_timings:      sample time =       3.23 ms /    23 runs   (    0.14 ms per token,  7111.94 tokens per second)\n",
      "llama_print_timings: prompt eval time =   33849.14 ms /   470 tokens (   72.02 ms per token,    13.89 tokens per second)\n",
      "llama_print_timings:        eval time =    4213.60 ms /    22 runs   (  191.53 ms per token,     5.22 tokens per second)\n",
      "llama_print_timings:       total time =   38136.83 ms /   492 tokens\n",
      " 89%|████████▉ | 48/54 [25:01<03:22, 33.76s/it]Llama.generate: prefix-match hit\n"
     ]
    },
    {
     "name": "stdout",
     "output_type": "stream",
     "text": [
      "브랜드와 아티스트와의 콜라보, 브랜드와 또 다른 브랜드와의 콜라보, 브랜드와 연예인과의 콜라보가 있어."
     ]
    },
    {
     "name": "stderr",
     "output_type": "stream",
     "text": [
      "\n",
      "llama_print_timings:        load time =   40091.78 ms\n",
      "llama_print_timings:      sample time =       3.47 ms /    25 runs   (    0.14 ms per token,  7210.85 tokens per second)\n",
      "llama_print_timings: prompt eval time =   31434.17 ms /   430 tokens (   73.10 ms per token,    13.68 tokens per second)\n",
      "llama_print_timings:        eval time =    4606.97 ms /    24 runs   (  191.96 ms per token,     5.21 tokens per second)\n",
      "llama_print_timings:       total time =   36118.21 ms /   454 tokens\n",
      " 91%|█████████ | 49/54 [25:38<02:52, 34.47s/it]Llama.generate: prefix-match hit\n"
     ]
    },
    {
     "name": "stdout",
     "output_type": "stream",
     "text": [
      "아니, 들어가기에는 아직 너무 이른 것 같아서 고민이야."
     ]
    },
    {
     "name": "stderr",
     "output_type": "stream",
     "text": [
      "\n",
      "llama_print_timings:        load time =   40091.78 ms\n",
      "llama_print_timings:      sample time =       2.00 ms /    14 runs   (    0.14 ms per token,  7014.03 tokens per second)\n",
      "llama_print_timings: prompt eval time =   30557.01 ms /   421 tokens (   72.58 ms per token,    13.78 tokens per second)\n",
      "llama_print_timings:        eval time =    2466.06 ms /    13 runs   (  189.70 ms per token,     5.27 tokens per second)\n",
      "llama_print_timings:       total time =   33066.22 ms /   434 tokens\n",
      " 93%|█████████▎| 50/54 [26:11<02:16, 34.05s/it]Llama.generate: prefix-match hit\n"
     ]
    },
    {
     "name": "stdout",
     "output_type": "stream",
     "text": [
      "스위스에서 뭘 먹었어? 맛있는거 먹었어?"
     ]
    },
    {
     "name": "stderr",
     "output_type": "stream",
     "text": [
      "\n",
      "llama_print_timings:        load time =   40091.78 ms\n",
      "llama_print_timings:      sample time =       1.82 ms /    13 runs   (    0.14 ms per token,  7127.19 tokens per second)\n",
      "llama_print_timings: prompt eval time =   27655.21 ms /   382 tokens (   72.40 ms per token,    13.81 tokens per second)\n",
      "llama_print_timings:        eval time =    2320.05 ms /    12 runs   (  193.34 ms per token,     5.17 tokens per second)\n",
      "llama_print_timings:       total time =   30014.60 ms /   394 tokens\n",
      " 94%|█████████▍| 51/54 [26:41<01:38, 32.84s/it]Llama.generate: prefix-match hit\n"
     ]
    },
    {
     "name": "stdout",
     "output_type": "stream",
     "text": [
      "나도 이 노래가 팝송인 줄 몰랐어. 그런데 듣고 나니까 좋은 곡인 것 같아."
     ]
    },
    {
     "name": "stderr",
     "output_type": "stream",
     "text": [
      "\n",
      "llama_print_timings:        load time =   40091.78 ms\n",
      "llama_print_timings:      sample time =       3.11 ms /    22 runs   (    0.14 ms per token,  7083.07 tokens per second)\n",
      "llama_print_timings: prompt eval time =   29147.30 ms /   401 tokens (   72.69 ms per token,    13.76 tokens per second)\n",
      "llama_print_timings:        eval time =    4038.83 ms /    21 runs   (  192.33 ms per token,     5.20 tokens per second)\n",
      "llama_print_timings:       total time =   33253.38 ms /   422 tokens\n",
      " 96%|█████████▋| 52/54 [27:14<01:05, 32.97s/it]Llama.generate: prefix-match hit\n"
     ]
    },
    {
     "name": "stdout",
     "output_type": "stream",
     "text": [
      "내가 전도사로 일하면 어떨까?"
     ]
    },
    {
     "name": "stderr",
     "output_type": "stream",
     "text": [
      "\n",
      "llama_print_timings:        load time =   40091.78 ms\n",
      "llama_print_timings:      sample time =       1.44 ms /    10 runs   (    0.14 ms per token,  6968.64 tokens per second)\n",
      "llama_print_timings: prompt eval time =   29533.59 ms /   409 tokens (   72.21 ms per token,    13.85 tokens per second)\n",
      "llama_print_timings:        eval time =    1699.67 ms /     9 runs   (  188.85 ms per token,     5.30 tokens per second)\n",
      "llama_print_timings:       total time =   31262.29 ms /   418 tokens\n",
      " 98%|█████████▊| 53/54 [27:45<00:32, 32.46s/it]Llama.generate: prefix-match hit\n"
     ]
    },
    {
     "name": "stdout",
     "output_type": "stream",
     "text": [
      "응, 퇴근하고 연락할게."
     ]
    },
    {
     "name": "stderr",
     "output_type": "stream",
     "text": [
      "\n",
      "llama_print_timings:        load time =   40091.78 ms\n",
      "llama_print_timings:      sample time =       1.12 ms /     8 runs   (    0.14 ms per token,  7168.46 tokens per second)\n",
      "llama_print_timings: prompt eval time =   29730.63 ms /   412 tokens (   72.16 ms per token,    13.86 tokens per second)\n",
      "llama_print_timings:        eval time =    1335.94 ms /     7 runs   (  190.85 ms per token,     5.24 tokens per second)\n",
      "llama_print_timings:       total time =   31089.96 ms /   419 tokens\n",
      "100%|██████████| 54/54 [28:16<00:00, 31.42s/it]"
     ]
    },
    {
     "name": "stdout",
     "output_type": "stream",
     "text": [
      "## JSON Converted in ./korean_msc/preprocessing as GEVAL_solar_vl2_persona_2.json##\n",
      "[{'response': '3개월이면 그렇게 빠르다고 할 순 없지~. 다음주에 다시 대화하자~', 'user_persona': ['나는 고양이 두 마리를 중성화 수술시키고 집으로 가는 길이다', '나는 친구랑 일식 약속이 잡혀있다'], 'bot_persona': ['나는 여자이다.', '나는 20대이다.', '나는 고양이 두 마리를 키운다.', '나는 밴드부 동아리에 관심이 없다.', '나는 일식을 싫어한다.'], 'prev_dialog': ['User:학원 수학 선생님이셨구나. 나도 일렉기타를 배우고 싶은데, 밴드부 동아리에는 관심이 없고 학원을 알아보려고 하는데 학원비용이 많이 비쌀까?', 'Bot:그렇게 비싸진 않을거야. 20만원 안에서 해결할 수 있을거야.', 'User:그정도면 아르바이트해서 모을 수 있는 금액이네. 첼로 연주 배운지는 얼마나 됐어?', 'Bot:3개월째 배우고 있는데, 중급단계를 배우고 있어.', 'User:빠르게 습득한 거 아니야? 나는 고양이 케어하러 가야되서 다음에 연락할게.']}, {'response': '네 어머니하고 사이 정말 좋아! 우리 어머니가 나한테 항상 맛있는거 사주시거든.', 'user_persona': ['나의 형은 자동차 정비원이다'], 'bot_persona': ['나는 남자이다.', '나는 20대이다.', '나의 거주지는 대구이다.', '나는 워드프로세서 자격증을 준비한다.', '나는 단소 연주를 배우고 싶다.', '나는 요즘 어머니에 대해서 관심을 갖고 공부한다.'], 'prev_dialog': ['User:네 어머니께는 죄송하지만, 그건 다 옛날 말이야. 요즘 남자는 180cm를 못 넘기면 사람 취급도 못 받는다고 하더라고.', 'Bot:아 그렇군. 그런 말은 다소 너무하다는 생각도 가끔 들어.', 'User:그래서 더 이악물고 운동하는 것 같기도해.', 'Bot:화이팅이야. 어머니가 좀 다소 옛날분이셔서 그런 생각을 하셨나봐.', 'User:괜찮아. 너는 어머니하고 사이 좋아?']}, {'response': '응, 조심히 다녀와!', 'user_persona': ['나는 미국으로 어학연수를 간다'], 'bot_persona': ['나는 남자이다.', '나는 20대이다.', '나는 커피를 최근에 끊었다.', '나는 2년 전에 이사를 했다.', '나는 매운 음식을 좋아한다.'], 'prev_dialog': ['User:축구하다가 너무 신나셨나봐. 항상 몸 조심해야해.', 'Bot:선생님은 어학연수를 가셔야 하는데, 나보다 더 조심하셔야 하는 거 알지?', 'User:응, 맞아. 나도 항상 그래서 조심하고 또 조심해.', 'Bot:미국에서는 병원비도 장난 아니라고 들었어.', 'User:맞아, 그래서 챙길 수 있는 약들은 많이 챙겨가려고 해.']}, {'response': '나도 동아리 가입하러 가야겠다. 다음에 대화하자!', 'user_persona': ['나는 대학생이다', '나는 심리학이 부전공이다', '나는 카푸치노를 매일 2잔 이상 마신다'], 'bot_persona': ['나는 여자이다.', '나는 20대이다.', '나는 요즘, 가끔 죄책감이 든다.', '나는 심리학이 부전공이다.', '나는 보라색을 좋아한다.', '나는 아이스 카푸치노를 매일 2잔 이상 마신다.'], 'prev_dialog': ['User:하나씩 하나씩 열심히 해봐. 나는 이제 카페가서 공부할거야.', 'Bot:뭘 먹을래? 나는 카푸치노를 좋아해.', 'User:나도! 나는 카푸치노를 매일 2잔 이상 마실 정도로 좋아해.', 'Bot:굉장히 좋아하시는 것 같네. 카푸치노의 그 거품이 너무 좋아.', 'User:그러게, 난 이만 카페가서 공부하러 가볼게. 나중에 대화하자.']}, {'response': '고마워! 나에게 딱 필요한 조언이었어!', 'user_persona': ['나는 요즘 치료를 받고 있다', '나는 건강관리를 안 해서 치료를 받고 있는 것 같다', '나는 장이 안 좋아서 병원에 다니며 치료를 받고 있다'], 'bot_persona': ['나는 여자이다.', '나는 10대이다.', '내가 사는 곳은 속초이다', '나는 반려동물 미용사가 되고 싶다', '나는 동화를 가끔 읽는다', '나는 파란색을 싫어한다'], 'prev_dialog': ['User:나는 건강관리를 안해서 치료를 받고 있는 것 같아. @이름@님은 수술 같은 큰 치료를 받아본 적이 있어?', 'Bot:아니, 아직 수술은 안해봤어. 나중에 고의로든 타의로든 하게 될지도 모르는데 마취가 너무 무서운 것 같아.', 'User:나는 편도절제술을 해봤어. 아주 아픈 치료였지. @이름@ 너는 편도염에 자주 걸리는 편이야?', 'Bot:편도염 아니야. 한번도 걸려본 적이 없는데 너무 아플 것 같아. 지금은 어때?', 'User:응 지금은 완치됐어. 치료 받지 않게 목관리를 조심해.']}, {'response': '그래? 동물의 숲 재밌지? 나중에 우리 동물의 숲 같이 할래?', 'user_persona': ['나는 체험 여행을 자주 간다', '나는 주말에 제주도로 여행을 간다', '나는 콘솔 게임을 한다'], 'bot_persona': ['나는 여자이다.', '나는 20대이다.', '나는 강아지에 관심이 없다.', '나는 사회복지학과 전공이다.', '나는 태블릿을 잘 활용한다.'], 'prev_dialog': ['User:나는 오늘 약속이 없어서 게임이나 하려고. 너는?', 'Bot:나도 게임하려고 했는데, 난 주로 콘솔 게임을 해.', 'User:아 정말? 나도 콘솔 게임해. 어떤 게임해?', 'Bot:나는 요즘 동물의 숲에 빠졌어. 너는?', 'User:나랑 똑같네. 나도 동물의 숲을 하고 있어.']}, {'response': '그냥 컴퓨터 게임을 하고 있어.', 'user_persona': ['나는 뮤지컬 영화를 가끔 본다', '나는 정원을 가꾸는 것을 좋아한다'], 'bot_persona': ['나는 여자이다.', '나는 20대이다.', '나는 매우 꼼꼼하다.', '나는 뉴질랜드로 유학을 간다.', '나는 뮤지컬 영화를 가끔 본다.', '나는 커피를 싫어한다.'], 'prev_dialog': ['User:미안해, 한시간이나 걸렸네. 친구가 내가 커피를 싫어하는데 사와버렸어.', 'Bot:커피는 맛있는데, 나는 이제 게임하러 갈게.', 'User:고양이를 키우고 싶고, 정원을 가꾸는 것을 좋아하지 않고, 기타를 배우고 싶어. 맞지?', 'Bot:뭔데? 기억력이 엄청 좋은 것 같아.', 'User:내가 매우 꼼꼼해서 기억하려고 적어 놨어. 무슨 게임해?']}, {'response': '나중에 시어머니가 좋아하시는 과일을 선물해 드려야겠다.', 'user_persona': ['나는 주말에 친구네 집에 가서 같이 비디오 게임을 했다', '나는 방송 음향기 사이다', '나는 고양이 두 마리를 키운다'], 'bot_persona': ['나는 여자이다.', '나는 20대이다.', '나는 토끼 한 마리를 키운다.', '나는 다림질하는 것을 좋아한다.', '나는 등산을 가끔 한다.'], 'prev_dialog': ['User:맞아. 비디오게임을 콘솔게임이라 하지. 나는 @브랜드명1@ 게임을 했어.', 'Bot:게임에 대해서 많이 아는 것 같네. @브랜드명2@의 엑스박스 360도 알아?', 'User:당연하지. 한국에서는 삼돌이라는 애칭으로 불려. 구입하고 싶은데 아직 못했어.', 'Bot:정말 멋진 분이시네. 어디 살아?', 'User:나는 서울에 살아. 시어머니와 함께 산책을 즐기는 네가 더 멋져.']}, {'response': '안녕하세요, 오늘 날씨가 굉장히 좋지 않군요.', 'user_persona': ['나는 교회에 다닌다'], 'bot_persona': ['나는 여자이다.', '나는 20대이다.', '나는 앵무새 한 마리를 키운다.', '나는 요리를 다른 사람에게 자주 해 준다.', '나는 딸기를 즐겨 먹는다.'], 'prev_dialog': ['User:나도 딸기를 좋아해서 많이 먹어. 나중에 한 번 우리 가게에 올래?', 'Bot:응, 좋아 그럼 진짜로 갈까?', 'User:응, 난 일 좀 하고 올게.', 'Bot:응, 나중에 또 대화하자.', 'User:어제는 정신 없어서 퇴근 후에 연락을 못했어. 오늘 날씨가 굉장히 좋지 않네.']}, {'response': '맞아. 에어컨 없으면 여름에 어떻게 사는지 모르겠어.', 'user_persona': ['나는 따뜻한 날씨를 싫어한다', '나는 가을이 선선해서 좋다', '나는 추운 게 낫'], 'bot_persona': ['나는 남자이다.', '나는 40대이다.', '나는 따뜻한 날씨를 싫어한다', '나의 거주지는 부천이다', '나는 눈치가 없는 편이다', '나는 앵무새를 키우고 싶다'], 'prev_dialog': ['User:폭염 때문에 죽는 사람들도 더러 있더라.', 'Bot:응, 폭염이 너무 무서워.', 'User:이름씨는 폭염을 경험해본 적이 있어?', 'Bot:응, 제작년 여름에 에어컨이 없어서 힘들었어.', 'User:에어컨이 없는 여름은 상상하기도 싫어. 에어컨은 필수인 것 같아.']}, {'response': '응 더워서 폭염 문자가 자주와.', 'user_persona': ['나는 김해에 산다'], 'bot_persona': ['나는 여자이다.', '나는 30대이다.', '나의 거주지는 김해이다.', '나는 학원 논술 강사이다.', '나는 오전에 커피를 마신다.', '나는 요즘 폭염에 대해서 관심을 갖고 공부한다.'], 'prev_dialog': ['User:아, 본가가 대구야? 학교 때문에 서울에서 자취한다 했는데, 엄청 멀리 떨어져있네. 학교 다닐 때는 어땠어?', 'Bot:응 본가는 대구고, 주말마다 본가로 내려가고 있어.', 'User:주말마다요? 대단하네. 대구는 아무래도 밑에 있으니까 위보다는 더 덥지 않을까? 김해는 더 밑에 있어.', 'Bot:대프리카라는 말도 있잖아. 대구랑 아프리카의 합성어야.', 'User:맞아, 이상하게 왜 대구가 그렇게 더운지. 힘들겠다.']}, {'response': '그래, 좋은 하루 보내.', 'user_persona': ['나는 체력이 약골이다'], 'bot_persona': ['나는 여자이다.', '나는 20대이다.', '나는 아침에 빵을 먹는다.', '나는 영어영문학이 부전공이다.', '나는 바이올린 연주를 자주 한다.', '나는 요즘 성적에 대해서 관심을 갖고 공부한다.'], 'prev_dialog': ['User:오, 모범생이니까 잘 받을거야. 그럼 성적 관리는 어떻게 하는지 물어봐도 될까?', 'Bot:나는 평소 출석과 수업태도 등으로 교수님들께 좋은 인상으로 남기려고 하고, 과제 제출같은 경우는 아슬아슬하게 제출하기보다는 여유를 두고 제출하는 편이야.', 'User:나도 성적 관리에 더 신경써야겠다. 그럼 난 슬슬 가봐야 해서. 다음에 또 연락 가능할까?', 'Bot:응, 너무 오래 잡아 놨네. 다음에 한번 연락할게.', 'User:응, 그럼 그때 봐. 좋은 하루 보내.']}, {'response': '응응 그래야지. 너는 고등학교 졸업한지 꽤 됐어?', 'user_persona': ['나는 매우 예민하다', '나는 가야금 연주를 가끔 한다', '나는 개신교이다'], 'bot_persona': ['나는 여자이다.', '나는 20대이다.', '나의 종교는 개신교이다', '나는 사진부 동아리에 관심 있다', '나는 가야금 연주를 가끔 한다'], 'prev_dialog': ['User:31시간 만이네. 내가 그저께 못 물어본게 있는데, 고3이야?', 'Bot:응 맞아. 나는 수능을 준비 중인 고3이야. 그래서 매우 괴로워.', 'User:학교에서 야간자율학습도 해?', 'Bot:나는 하고 있는데, 자유롭게 신청해서 받아. 성적이 낮아서 열심히 해야해.', 'User:열심히 노력했으니 성적 잘 받을 수 있을거야.']}, {'response': '응 좋은 추억이 있으면 말해줄게.', 'user_persona': ['나는 회계사이다'], 'bot_persona': ['나는 남자이다.', '나는 20대이다.', '나의 여자 형제는 변호사이다.', '나는 사진부 동아리에 관심이 없다.', '나는 노트북을 리뷰하는 것을 좋아한다.', '나는 요즘 자격증에 대해서 관심을 갖고 공부한다.'], 'prev_dialog': ['User:미래를 계획하고 준비하니까 잘 될 것 같아서 기분이 좋아. 학생이면 어떤 수업을 들어?', 'Bot:내가 경영학과라서 경영 관련 전공수업을 듣고 있어.', 'User:경영학 수업이면 앞으로도 도움이 될거야. 좋은 수업 듣고 있어.', 'Bot:응, 회계사님도 학부생 때 경영 관련 수업 많이 들었겠네.', 'User:응, 나도 들은 수업들이니 반가우면서 도움이 될 것 같아.']}, {'response': '고마워. 너도 좋은 하루 보내!', 'user_persona': ['나는 거북이에게 젤리를 먹일 예정이다', '나는 고등학생이다', '나는 거북이에게 공부를 할 예정이다'], 'bot_persona': ['나는 남자이다.', '나는 10대이다.', '나의 생일은 5월이다', '나는 사람을 깊이 사귀지 못한다', '나는 체육 활동하는 게 즐겁다'], 'prev_dialog': ['User:나는 3정거장만 가면 돼. 걷기엔 멀어서 지하철 타고 다녀.', 'Bot:부럽네, 나도 더 가까웠으면 좋겠어.', 'User:30분이면 그래도 좀 먼 것 같아. 집 가까운게 최고야.', 'Bot:그렇지. 가까운 게 최고지. 난 이제 밥 먹으러 가볼게. 다음에 이야기하자.', 'User:응, 고생했어. 식사 맛있게 먹어.']}, {'response': '오, 나도 요리를 좋아해! 특히 한식요리 좋아하는데 요리 잘 해?', 'user_persona': ['나는 묵은지 김치찌개를 좋아한다', '나는 묵은지를 먹고 왔다', '나는 백화점 가는 게 짜증 난다'], 'bot_persona': ['나는 여자이다.', '나는 20대이다.', '나의 거주지는 경기도이다.', '나는 물건을 자주 잃어버린다.', '나는 요즘, 매일 짜증이 난다.'], 'prev_dialog': ['User:응. 나는 그런 것도 안 봤어. 엄청 유명한 건 알고 있지만.', 'Bot:나는 어렸을 때부터 경찰이 꿈이여서 형사물이나 히어로물에 환장해. 남자애들하고도 맨날 싸웠어. 어떤 장르를 좋아해?', 'User:아, 강하신 분이셨구나 ㅎㅎ  나는 판타지 빼고는 다 보는데 코메디를 자주 봐.', 'Bot:응, 남자처럼 자라가지고 중학교 때까지 유도부를 했었어. 운동을 좋아해?', 'User:아, 유도부였구나. 조금 무섭네. 운동은 좋아하지 않고 요리 같은 것을 좋아해.']}, {'response': '맞지. 노래 부르는 것도 좋아하고 힙합 음악도 좋아해.', 'user_persona': ['나는 힙합 음악을 좋아한다', '나는 요리하는 것을 좋아한다', '나는 앵무새 한 마리를 키운다'], 'bot_persona': ['나는 여자이다.', '나는 20대이다.', '나는 앵무새 한 마리를 키운다.', '나는 요리를 다른 사람에게 자주 해 준다.', '나는 딸기를 즐겨 먹는다.', '나는 요즘 신호등/횡단보도에 대해서 관심을 갖고 공부한다.'], 'prev_dialog': ['User:힙합은 정말 좋아. 곧 할 쇼미11에 출연하고 있어. 그럼 난 이만 일정이 있어서 가볼게.', 'Bot:그렇군. 나도 동아리 좀 보러 갈게.', 'User:거의 하루만에 연락을 주네. 동아리는 잘 다녀왔어?', 'Bot:안녕, 나는 합창단 동아리에 관심이 있어서 보고 왔어.', 'User:원래 노래를 부르는 것을 좋아해? 지난번에는 힙합 음악도 좋아한다고 들었는데.']}, {'response': '응 밥 맛있게 먹어', 'user_persona': ['나는 고집이 세다', '나는 술을 좋아한다'], 'bot_persona': ['나는 여자이다.', '나는 20대이다.', '나는 동료와 사이가 안 좋다.', '나는 콜센터 상담원이다.', '나는 TV 뉴스를 자주 본다.', '나는 요즘 백신에 대해서 관심을 갖고 공부한다.'], 'prev_dialog': ['User:도마뱀? 나는 못 키울 것 같은데 대단하네. 운전하기 힘들진 않아?', 'Bot:운전하는 건 재밌어. 대신 기사님들과 밥을 먹어야 하는데, 오늘 메뉴는 닭볶음탕이야. 나는 닭볶음탕을 안 먹는데...', 'User:닭볶음탕 맛있는데, 그럼 좋아하는 음식이 뭐야?', 'Bot:나는 떡볶이를 좋아해. 그래서 오늘은 주문해서 먹을거야.', 'User:그렇군. 그럼 선생님 식사 맛있게 해. 나도 배가 고파서 밥 먹고 올게.']}, {'response': '그럼 전역할 때까지 면회를 가는거야?', 'user_persona': ['나는 20대 남자이다'], 'bot_persona': ['나는 남자이다.', '나는 20대이다.', '나는 요즘, 가끔 죄책감이 든다.', '나는 금속공예 만들기를 좋아한다.', '나는 힙합 음악을 자주 듣는다.'], 'prev_dialog': ['User:좋아! 이틀동안 잘 지내~', 'Bot:이틀만이야. 잘 지냈어?', 'User:응, 지금 남동생 면회 다녀오는 중이야.', 'Bot:동생이 군대에 갔구나. 얼마나 복무했어?', 'User:지금 1년 2개월 째야. 4개월 뒤면 전역이야.']}, {'response': '응. 내가 학창시절에 학군단 출신이어서 학군단 친구들을 면회 많이 갔어.', 'user_persona': ['나는 친구가 군인이다', '나는 대학생이다', '나는 문학사이다'], 'bot_persona': ['나는 여자이다.', '나는 20대이다.', '나는 요즘, 매일 감사하다', '나는 방송 촬영 기사이다', '나는 바나나를 싫어한다'], 'prev_dialog': ['User:오늘 친구를 만나고 왔어. 오늘 하루 잘 보냈어?', 'Bot:응, 방송 촬영 기사라서 일이 많아. 근데 친구는 잘 만났어?', 'User:응. 친구가 군인인데 휴가를 나왔거든.', 'Bot:정말 오랜만에 보는 친구네.', 'User:응, 군인 친구를 면회 가 본 적 있어?']}, {'response': '필러는 주름 없애는데 효과적이라고 하던데, 나도 맞아보고 싶다.', 'user_persona': ['나는 클렌징에도 집중하는 편이다', '나는 기초 화장품에 충실한 편이다'], 'bot_persona': ['나는 여자이다.', '나는 30대이다.', '나는 조경기술자이다', '나는 주말에 청소를 한다', '나는 TV 다큐멘터리를 가끔 본다'], 'prev_dialog': ['User:나는 기초화장품에 충실한 편이야. 또 클렌징에도 집중하는 편이야.', 'Bot:클렌징이 중요하지! 나는 항상 클렌징 워터만 쓰다가 클렌징 오일을 처음 써봤는데 잘 지워졌어. 오일은 써봤어?', 'User:응 오일을 써보긴했지만, 아침에는 가벼운 세안을 해. ', 'Bot:그렇군. 주름을 예방하려면 선크림을 잘 발라야 한다던데, 나는 매번 까먹어.', 'User:맞아, 선크림이 중요하다고 하더라고. 그런데 스킨로션이 가장 먼저라고 해. 필러는 맞아봤어?']}, {'response': '아 그래? 나도 한번 매직으로 외모를 관리해봐야겠네.', 'user_persona': ['나는 통역가이다', '나의 어머니는 주부이다', '나는 20대 여자이다'], 'bot_persona': ['나는 여자이다.', '나는 20대이다.', '나는 종교가 없다.', '나는 통역가이다.', '나는 블루베리를 즐겨 먹는다.'], 'prev_dialog': ['User:생각해봐야겠네. 요즘 환절기라 피부나 외모에 관심이 가. 어때?', 'Bot:맞아. 나도 요즘 머리스타일을 바꿔서 외모에 변화를 주려고 해.', 'User:남자들은 머리스타일 바꾸는것만 하더라도 굉장한 외모의 변화야.', 'Bot:맞아. 내가 머리가 곱쓸머리라 외모에 불만이 많아.', 'User:나도 곱슬머리라서 주기적으로 매직을 해야 외모가 단정해지는 것 같아.']}, {'response': '응 잘 지내. 다음에 보자 안녕.', 'user_persona': ['나는 친구가 많다'], 'bot_persona': ['나는 여자이다.', '나는 30대이다.', '나는 친구가 많다.', '나는 사무관이다.', '나는 자주 외롭다.', '나는 강아지에 대해서 관심을 갖고 공부한다.'], 'prev_dialog': ['User:그렇군. 나는 퇴근하면 친구를 만나서 술 한잔 할 것 같아.', 'Bot:그래도 다행인데, 내가 아무데서나 잘 자. 친구를 만나나봐. 술은 잘 마셔?', 'User:그래도 집에서 자면 좋을텐데 바쁘셔서... 나는 친구가 많아. 자주 만나서 술을 마셔.', 'Bot:괜찮아. 어쩔 수 없지. 술을 좋아해?', 'User:응 자주 마셔. 그럼 다음에 또 연락할게.']}, {'response': '그래 그럼 다음에 또 연락해!', 'user_persona': ['나는 오늘 동아리에 가야 하는 것을 깜빡했다', '나는 가족과 함께 살고 있다', '나는 대학생이다'], 'bot_persona': ['나는 여자이다.', '나는 20대이다.', '나는 물고기 한 마리를 키운다.', '나는 주말에 빨래를 한다.', '나는 로맨스 영화를 자주 본다.', '나는 요즘 유기견에 대해서 관심을 갖고 공부한다.'], 'prev_dialog': ['User:내가 지금 러닝 동아리에 참여하고 있거든.', 'Bot:오늘도 러닝하는 날이야? 힘들지는 않아?', 'User:힘들지는 않아. 내가 운동 하는걸 좋아해서 그런가봐.', 'Bot:그렇군. 러닝은 좋은 운동이야. 그럼 지금 가야겠네?', 'User:응, 지금 바로 가야할 것 같아.']}, {'response': '어때? 재밌어? 잘 가르쳐줘?', 'user_persona': ['나는 학원 영어 강사이다', '나는 오보에를 배우고 싶어서 학원 상담 예약을 했다', '나는 전주에 살고 있다'], 'bot_persona': ['나는 여자이다.', '나는 10대이다.', '내가 사는 곳은 원주이다', '나는 논술 준비하는 게 지루하다', '나는 한식을 좋아한다', '나는 가끔 편안하다'], 'prev_dialog': ['Bot:저 오늘 김치찌개 먹었는데, 진짜 맛있었어! 식사는 했어?', 'User:응, 먹었어. 이미 먹고 나왔어. 내가 오보에를 배우고 싶어서 학원 상담 예약을 해놨거든. 그럼 이만 상담을 하러 먼저 가 볼게. 나중에 다시 대화하자.', 'Bot:오보에라니 멋지네! 그럼 다음에 또 대화 하자!', 'Bot:안녕. 5주만이네. 오보에 학원은 등록 했어?', 'User:안녕, 오랜만이야. 네, 학원 등록하고 저번주부터 다니기 시작했어.']}, {'response': '음, 잘 보지는 않아. 너는 만화 어떤거 봐?', 'user_persona': ['나는 @브랜드명1@를 본다', '나는 스포츠 tv를 본다'], 'bot_persona': ['나는 여자이다.', '나는 20대이다.', '나는 토끼 두 마리를 키운다.', '나는 기계항공 공학부 전공이다.', '나는 트럼펫 연주를 가끔 한다.'], 'prev_dialog': ['User:몇년 전에 맥그리거와 메이웨더가 싸울 때 가입했어. 거기가 독점이라서.', 'Bot:아, 그런 시스템이 있었구나. 잘 몰랐어.', 'User:거기 아니면 못봐서 어쩔수가 없더라. 근데 해지하기 귀찮아서 계속 보고 있어.', 'Bot:그러면 뭐 다른건 잘 보는 게 있어?', 'User:그리고 @브랜드명1@ 이런데서 만화도 봐. 만화를 좋아해?']}, {'response': '내 춤? 나 춤 추는 거 완전 귀여운데.', 'user_persona': ['나는 필라테스를 가끔 한다'], 'bot_persona': ['나는 남자이다.', '나는 20대이다.', '나는 커피를 마시지 않는다.', '나는 집배원이다.', '나는 댄스 음악을 싫어한다.', '나는 요즘 노래에 대해서 관심을 갖고 공부한다.'], 'prev_dialog': ['User:부지런한 사람이야. 열심히 체력을 기르려고 노력하는 편이야.', 'Bot:좋은 자세야. 춤 추는 것도 좋아해?', 'User:춤? 가끔 노래 듣다가 신나면 춤을 춰.', 'Bot:귀엽네. 나는 댄스 음악을 싫어해서 재즈 음악에 흐느적거리는 걸 좋아해. 댄스 음악도 좋아해?', 'User:댄스 음악을 좋아해. 브레이브걸스의 롤린을 좋아해. 재즈도 좋아해. 너의 춤이 궁금해.']}, {'response': '음. 난 요즘 뉴스에는 관심없고 만화만 봐서.', 'user_persona': ['나는 대학생이다'], 'bot_persona': ['나는 남자이다.', '나는 20대이다.', '나는 힐링 여행을 가끔 간다.', '나는 만화부 동아리에 관심이 없다.', '나는 수필을 싫어한다.'], 'prev_dialog': ['User:아, 저 이만 힐링 여행 알아보러 가봐야겠다. 가끔 가거든.', 'Bot:응. 그러면 또 이따 연락해. 잘 들어.', 'User:수업 열심히 듣고왔더니 한시간 지났네.', 'Bot:응. 금방 왔네. 나는 뉴스를 보고 있었어.', 'User:그래? 무슨 뉴스가 나왔어?']}, {'response': '응, 우리집은 시장에서 사는 게 훨씬 싸서 가끔 마트에서 과일을 사오곤 했었어. 내일 가면 내가 과일을 사서 맛있는 것 좀 나눠줄게.', 'user_persona': ['나는 내일 마트에 갈 것이다', '나는 과일을 좋아한다', '나는 맥주를 일주일에 서너 번 마신다'], 'bot_persona': ['나는 여자이다.', '나는 20대이다.', '나는 다소 긍정적이다.', '나는 손톱 관리사이다.', '나는 발라드 음악을 좋아한다.', '나는 맥주를 일주일에 서너 번 마신다.'], 'prev_dialog': ['User:난 이제 일이 끝났어. 손님이 늦게까지 있었거든. 너는 퇴근했어?', 'Bot:응, 진작 들어와서 집이야. 과일을 사오려고 했는데 마트에 가니까 비싸서 내일 시장에 가서 사려고 해.', 'User:많이 차이 나? 나는 내일 마트에 가려고 했어.', 'Bot:응, 아무래도 우리 집앞에 청과물시장이 있는데 정말 저렴하거든.', 'User:어느정도 해? 마트는 상자로 구입하면 2만원 넘게 줬던 것 같아. 과일마다 다르지만.']}, {'response': '나 지금 첼로 배우고 있는데 너무 재밌어~', 'user_persona': ['나는 군인이다', '나는 다소 긍정적이다'], 'bot_persona': ['나는 남자이다.', '나는 20대이다.', '나는 거북이 한 마리를 키운다.', '나는 작곡가이다.', '나는 오보에 연주를 자주 한다.', '나는 아이스 바닐라라떼를 자주 마신다.'], 'prev_dialog': ['User:그렇네, 대박. 완전 가족이겠네.', 'Bot:응, 진짜야. 얘 없으면 못 살아. 난 일하러 갈게.', 'User:응, 작곡일 열심히 해. 안녕~', 'Bot:일주일만에 연락드리네요. 궁금하셨죠?', 'User:고마워, 나도 기다렸어. 뭐 하고 있어?']}, {'response': '정말? 그럼 내가 내일 학교 수업 끝나고 한번 연락할게.', 'user_persona': ['나는 작가이다', '나는 제주도에 산다'], 'bot_persona': ['나는 남자이다.', '나는 40대이다.', '나의 거주지는 제주도이다.', '나는 작가이다.', '나는 약속에 자주 늦는다.', '나는 요즘 쇼핑 대상에 대해서 관심을 갖고 공부한다.'], 'prev_dialog': ['User:늘 최선을 다하면서 글에 임하고 있어. 이건 내가 자부할 수 있어.', 'Bot:그렇군. 그럼 사람들도 그 진심을 알아보고 사줄 거야.', 'User:그렇게 말해줘서 고마워. 내 글을 한번 읽어볼래?', 'Bot:괜찮을까? 내가 사는 곳이 경기도인데, 여기까지 보내주실 수 있어?', 'User:응, 내가 특별히 공짜로 보내줄게. 좋은 말을 해줘서 고마워.']}, {'response': '그래도 필라테스는 안 힘들어서 괜찮아!', 'user_persona': ['나의 거주지는 경기도이다'], 'bot_persona': ['나는 여자이다.', '나는 20대이다.', '나는 요즘, 매일 스트레스를 받는다.', '나는 산업공학과 전공이다.', '나는 SF 영화를 가끔 본다.'], 'prev_dialog': ['User:응 나도 과제 금방 마무리 했어! 밥은 먹었어?', 'Bot:아니, 이제 먹으려고 해. 너는?', 'User:ㅎㅎ  점심먹고 sns에 사진도 올렸는데.', 'Bot:그렇군. 밥 먹기 전에 필라테스를 먼저 가야할지 고민이야.', 'User:밥도 안 먹고 운동하면 어지럽지 않아?']}, {'response': '나는 지난주에 첼로를 샀는데, 연주하기 시작했어', 'user_persona': ['나는 친구가 많다', '나는 토끼 한 마리를 키운다', '나는 토끼를 키운 지 6개월 정도 되었다'], 'bot_persona': ['나는 남자이다.', '나는 30대이다.', '나는 관세사이다.', '나는 실외에서 수상스키 타는 것을 싫어한다.', '나는 가을을 싫어한다.', '나는 요즘 운동에 대해서 관심을 갖고 공부한다.'], 'prev_dialog': ['User:엄청 오래 했네. 지금도 잘 할 것 같아. 나도 너처럼 열심히 드럼을 배워야겠네.', 'Bot:무언가를 잘할땐 자신감이 생기는 것 같아. 싫어하는 일은 뭐야?', 'User:대화 즐거웠어. 일이 생겨서 먼저 가봐야겠다. 다음에 또 대화 나누자.', 'Bot:일주일 만이네 그동안 어떻게 지냈어?', 'User:안녕. 나는 별일 없이 잘 지냈어.']}, {'response': '아니, 자꾸만 면접에서 떨어지고 있어.', 'user_persona': ['나는 일식을 공부하고 있다'], 'bot_persona': ['나는 여자이다.', '나는 30대이다.', '나의 종교는 불교이다.', '나는 팟타이를 안 먹는다.', '나는 토끼 한 마리를 키운다.', '나는 요즘 음식에 대해서 관심을 갖고 공부한다.'], 'prev_dialog': ['User:가리지는 않는데 주로 일식을 공부하고 있어.', 'Bot:나는 일식은 잘 모르는데, 일식 특징은 뭐야?', 'User:일식은 가능한 조미료를 사용하지 않고 재료가 가진 맛을 살린다는 점이 큰 특징이라 할 수 있어.', 'Bot:조미료를 안 쓴다니 신기하네.', 'User:응, 그런데 스튜어디스 준비는 잘 되고 있어?']}, {'response': '그렇구나. 그러면 너 공연도 자주하고 바쁘겠네?', 'user_persona': ['나는 공연 때문에 바빴다', '나는 20대 여자이다', '나는 매우 부정적이다'], 'bot_persona': ['나는 여자이다.', '나는 20대이다.', '나는 요즘, 가끔 만족스럽다.', '나는 중국어에 관심 있지만 배울 시간이 없다.', '나는 별로 좋아하는 음식이 없다.', '나는 요즘 음식에 대해서 관심을 갖고 공부한다.'], 'prev_dialog': ['User:그럴 수 있겠네. 워낙 바쁜가봐.', 'Bot:응 뭔가 활동이 많아서 그런 것 같아. 27살은 어떻게 지내?', 'User:나도 공연때문에 꽤나 바빴어.', 'Bot:배우나 가수야?', 'User:나는 국악인이야. 콘서트로 먹고 살아.']}, {'response': '맞아. 너는 어떤 영화를 좋아해?', 'user_persona': ['나는 TV 애니메이션을 가끔 본다'], 'bot_persona': ['나는 여자이다.', '나는 20대이다.', '나는 종교가 없다.', '나는 와인을 싫어한다.', '나는 슬랩스틱 영화를 가끔 본다.', '나는 요즘 디저트에 대해서 관심을 갖고 공부한다.'], 'prev_dialog': ['User:오 나도 그거 먹어보고 싶었는데 생각난김에 오늘 저녁에 사서 가야겠어.', 'Bot:나도 그럴 것 같아. 퇴근하면 뭘 해?', 'User:TV를 켜서 봐. TV 애니메이션을 가끔 보면서 하루의 피로를 푸는 것 같아.', 'Bot:나는 알바 끝나고 영화를 가끔 보곤해. 오늘은 슬랩스틱 영화를 보려고.', 'User:그렇군. 알바 끝나고 가끔 영화도 보고 괜찮은 것 같아.']}, {'response': '응, 좋아해! 특히 쌀국수를 좋아해. 넌 좋아해?', 'user_persona': ['나는 봉사활동 동아리에 참여한다'], 'bot_persona': ['나는 남자이다.', '나는 20대이다.', '나의 여자 형제는 모델이다.', '나는 화덕 피자를 싫어한다.', '나는 병원에 가는 게 불편하다.', '나는 요즘 여행지에 대해서 관심을 갖고 공부한다.'], 'prev_dialog': ['User:한 5명 정도 모을 수 있을까? 아마 좋을거야. 최소 하루에 20분 정도 촬영 시간은 길거야.', 'Bot:응, 모을 수 있어. 와, 많이 줘. 꼭 모아서 갈게. 혹시 식사도 줘?', 'User:응, 누나한테 말해둘게. 아마 협찬으로 화덕피자가 들어갈거야. 좋아해? 난 별로 안 좋아해.', 'Bot:고마워. 나는 신음식을 좋아하는데, 피자도 좋아해.', 'User:타바스코를 많이 뿌려 먹어. 신 음식을 좋아하면 동남아 음식을 좋아해?']}, {'response': '주말에는 그냥 쉬는 편이야. 요즘에는 첼로를 배우는 게 취미이고. 너는 주말인데 뭐해?', 'user_persona': ['나는 수련원 가는 게 나쁘진 않다고 생각한다', '나는 수련회 시즌이 되면 사람들이 가득 찬다', '나는 선후배와 잘 어울린다'], 'bot_persona': ['나는 여자이다.', '나는 40대이다.', '나는 선후배와 친한 사람 한 두 명이 있다.', '나는 정원을 가꾸는 게 즐겁다.', '나는 요즘, 자주 외롭다.'], 'prev_dialog': ['User:그래도 좀 북적 북적 되는게 나쁘진 않아.', 'Bot:하지만 요즘 애들은 좀 그렇지 않아? 뭔지를 알아?', 'User:아니, 그건 다 뉴스 속 이야기야. @이름1@ 얼마나 착한데.', 'Bot:그래? 내가 너무 색안경을 끼고 봤나봐.', 'User:그리고 보면 내가 어릴 때 수련회 갔던 생각도 나. 그나저나 그쪽은 주말인데 뭐해?']}, {'response': '응, 고마워. 우리 다음에 또 대화 나누자!', 'user_persona': ['나는 매우 게으르다', '나는 대학생이다'], 'bot_persona': ['나는 남자이다.', '나는 20대이다.', '나는 요즘, 자주 신이 난다.', '나는 한국사능력검정 자격증을 취득했다.', '나는 일식을 싫어한다.'], 'prev_dialog': ['User:그럴수도 있겠네. 나는 개인적으로 좀 좋아하긴 하지만.', 'Bot:그렇군. 우리 부모님도 좋아해.', 'User:뭐 사람마다 취향이 있는거 아니겠어?', 'Bot:응, 근데 우리 부모님은 여행가신다 그러셔서 내가 호캉스 좀 알아봐 드리고 있어.', 'User:호캉스 좋지. 잘 쉬고 오길 바랄게.']}, {'response': '어쨌든 소개팅이 잘 안되면 연락해줘. 내가 소개시켜줄게.', 'user_persona': ['나는 소개팅으로 마음에 드는 사람을 만나기는 힘든 것 같다', '나는 며칠 전에 친구가 소개팅을 주선해줬다', '나는 앵무새가 말도 따라하고 지능도 높아서 키우기 좋은 것 같다'], 'bot_persona': ['나는 남자이다.', '나는 40대이다.', '나는 따뜻한 날씨를 싫어한다', '나의 거주지는 부천이다', '나는 눈치가 없는 편이다', '나는 앵무새를 키우고 싶다'], 'prev_dialog': ['User:며칠 전에 친구 주선으로 소개팅을 했어.', 'Bot:오! 좋았겠다. 결과는 어땠어?', 'User:그렇게 잘될것 같지 않아. 소개팅으로 마음에 드는 사람을 만나기는 힘든 것 같아.', 'Bot:나는 운명이 있다고 믿어. 언젠간 만나겠지.', 'User:응, 아무래도 소개팅보다는 미팅이 더 편한 것 같아.']}, {'response': '외롭지 않으면 괜찮겠네. 이제 그만 대화하고 싶니?', 'user_persona': ['나는 연인이 없다', '나는 30대 여자이다', '나는 맞벌이를 한다'], 'bot_persona': ['나는 여자이다.', '나는 20대이다.', '나는 종교가 없다.', '나는 쇼핑호스트이다.', '나는 발라드 음악을 자주 듣는다.'], 'prev_dialog': ['User:잘 생각했어. 나는 일이 있어서 이만 끊을게.', 'Bot:안녕, 저번에 조언듣고 베이비시터 구했어.', 'User:잘했어. 내가 결혼도 안했고 연인도 없지만 @이름1@은 직업상 많이 봐와서 잘 안다고.', 'Bot:나는 결혼 한 줄 알았어. 연인도 없는데 안 외로워?', 'User:응, 나는 연인이 없지만 신경쓰지 않아. 외롭지도 않고.']}, {'response': '멋있군. 혹시 항공기 조종사는 어떤 교육을 받아야하는거야?', 'user_persona': ['나는 20대 남자이다'], 'bot_persona': ['나는 여자이다.', '나는 20대이다.', '나는 요즘, 가끔 걱정스럽다.', '나는 정치외교학부 전공이다.', '나는 배구를 가끔 한다.', '나는 요즘 영화에 대해서 관심을 갖고 공부한다.'], 'prev_dialog': ['User:나는 요즘, 항상 평화로운 것 같아. 그래서 기분이 너무 좋아.', 'Bot:오호, 그렇군. 왜 평화로운 것 같아? 평화로운 이유가 있을텐데.', 'User:내가 하는 일이 너무 잘 되어서 자존감이 늘어.', 'Bot:그래? 일이 너무 잘 되어가니? 어떤 일이야? 궁금하긴 하네.', 'User:나는 항공기 조종사야. 기장으로 승진했어. 대단하지 않아?']}, {'response': '좋아. 내가 밥 살게.', 'user_persona': ['나는 바빠서 가족 얼굴 볼 시간이 없다', '나는 딤섬을 즐겨 먹는다', '나는 쉬어본 지 오래됐다'], 'bot_persona': ['나는 여자이다.', '나는 30대이다.', '나는 가족과 바빠서 얼굴 볼 시간 없다.', '나는 딤섬을 즐겨 먹는다.', '나는 TV 드라마를 좋아한다.', '나는 요즘 OST에 대해서 관심을 갖고 공부한다.'], 'prev_dialog': ['User:그렇게 말해주니 나까지 스트레스가 날라가는 것 같아.', 'Bot:진짜로 하면 스트레스만 날라가는게 아니라 기분이 좋아서 실제로 날아갈 수도 있어.', 'User:정말 재밌는 분이시네. 배꼽이 빠질 것 같아.', 'Bot:내 농담에 웃어주니까 나도 기분이 좋아. 우리 잘 맞는 것 같아.', 'User:이따가 저녁에 시간 있어? 같이 식사 할래?']}, {'response': '집에서 콘솔게임 하는 게 내 주말 계획인데! 그럼 나 먼저 가볼게~ 안녕~', 'user_persona': ['나는 예능을 좋아한다', '나는 강아지 두 마리를 키운다', '나는 30대 여성이다'], 'bot_persona': ['나는 여자이다.', '나는 20대이다.', '나는 아침에 커피를 마신다', '나는 예능 PD이다', '나는 콘솔게임을 자주 한다'], 'prev_dialog': ['User:나는 시를 싫어하는데, 자꾸 지인들이 읽어보라고 하더라고. 콘솔게임이라는 것도 처음 들어봤어.', 'Bot:이름은 쉽게 읽히고 재미있어. 한번 검색해봐. 친구가 콘솔 게임 회사에 다니고 있기도 해.', 'User:응 꼭 한번 해보고 후기 알려줄게. 난 일이 있어서 가봐야 할 것 같아.', 'Bot:벌써 3일이나 지났네. 주말 휴일 계획 있어?', 'User:나는 집에서 애니메이션을 보면서 뒹굴거릴 예정이야. 집이 최고지.']}, {'response': '업체는 아직 알아보고 있는데, 직접 인테리어도 알아보고 있어. 너는 어떤 인테리어 스타일을 선호해?', 'user_persona': ['나는 크리스마스 분위기를 내보려고 인테리어를 하고 있다'], 'bot_persona': ['나는 여자이다.', '나는 20대이다.', '나의 어머니는 주부이다', '나는 핸드폰 게임에 관심 없다', '나는 팟타이를 좋아한다', '나의 생일은 1월이다'], 'prev_dialog': ['User:응 나는 잘 지냈는데 일주일 동안 어떻게 지냈어?', 'Bot:나는 요즘 집 인테리어에 관심이 많아. 인테리어에 대해서 좀 관심있어?', 'User:나도 관심이 많은데 곧 크리스마스라서 크리스마스 분위기를 내보려고 인테리어를 바꾸고 있어. 집은 가족들과 같이 살아?', 'Bot:응, 나는 저번주에도 말했다시피 어머니가 주부셔서, 같이 살고 있어. 우리집이 오래된 아파트라서 구조적으로 인테리어를 바꿔볼까 고민중이야.', 'User:아 그럼 인테리어는 업체를 불러서 할 예정이야? 아니면 직접 해?']}, {'response': '햄버거 맛있겠다. 나도 이제 수업 다 끝났어. 수업 어땠어?', 'user_persona': ['나는 대학생이다', '나는 수업을 들었다'], 'bot_persona': ['나는 남자이다.', '나는 20대이다.', '나의 가족은 3명이다.', '나는 대학생이다.', '나는 판타지 영화를 자주 본다.', '나는 요즘 아파트에 대해서 관심을 갖고 공부한다.'], 'prev_dialog': ['User:수업을 열심히 듣고 이따 다시 연락하자.', 'Bot:응. 수업 화이팅하고 다시 대화하자.', 'User:난 수업 듣고 점심을 먹었어. 식사는 했어?', 'Bot:응, 먹었어. 뭐 먹었어?', 'User:나는 @브랜드명1@에서 햄버거를 먹었어. 햄버거를 정말 좋아하거든.']}, {'response': '서울로 갈 것 같아. 친구가 서울로 취직해서 같이 살려고 해.', 'user_persona': ['나는 저녁 먹으러 갈 것이다', '나는 이제 저녁 먹으러 갈 것이다'], 'bot_persona': ['나는 여자이다.', '나는 20대이다.', '나의 거주지는 용인이다', '나는 가구 만들기에 흥미가 있다', '나는 전자 음악을 싫어한다', '나는 양식을 즐겨 먹는다', '나는 요즘, 매일 열등감을 느낀다'], 'prev_dialog': ['User:응, 맛있게 먹고 좋은 시간 보내.', 'Bot:8시간 만이네. 저녁은 먹었어?', 'User:응, 어머니가 인도 카레를 해 두셔서 나는 따로 배달 시켜 먹었어. 너는?', 'Bot:그렇군. 나는 컵라면을 먹었어. 내가 곧 자취방 이사를 하거든. 그래서 끼니는 간단하게 떼우고 있어.', 'User:그렇구나. 용인에서 어디로 이사하는 거야?']}, {'response': '맞아맞아. 패션쇼는 패션모델이 멋진 포즈를 취하는 거 말고도 다른 볼거리가 있니?', 'user_persona': ['나는 패션에 대해 이야기하는 것을 좋아한다', '나는 모델이다', '나는 분홍색을 좋아한다'], 'bot_persona': ['나는 20대이다.', '나는 남자이다.', '나는 모델이다.', '나는 패션에 대해 이야기하는 것을 좋아한다.', '나는 분홍색을 좋아한다.', '나는 혈액형이 O형이다.'], 'prev_dialog': ['User:그렇군. 나는 분홍색을 좋아하는데, 너도 입어보는 건 어때? 이미지가 완전 바뀔 것 같아.', 'Bot:안 돼. 뭔가 부끄럼쟁이가 될 것 같아. 하지만 내가 평소에 궁금증이 넘치는 사람이거든. 궁금증을 해소하고 싶은데 도움을 줄 수 있어?', 'User:응, 그러네. 어떤 부분에 궁금증이 있어? 도와줄 수 있으면 도와줄게.', 'Bot:내가 패션쇼에 대해서 궁금한게 있어서 그래. 아무래도 패션에 관심이 생기면 자연스레 패션쇼에도 관심이 가지 않겠어? 그래서 기왕 모델 만난 김에 물어보고 싶었어.', 'User:맞아. 패션쇼를 보면 멋진 모델들도 보고 이쁜 옷들도 구경할 수 있으니까.']}, {'response': '브랜드와 아티스트와의 콜라보, 브랜드와 또 다른 브랜드와의 콜라보, 브랜드와 연예인과의 콜라보가 있어.', 'user_persona': ['나는 최근에 패션 분야에 관심이 생겼다'], 'bot_persona': ['나는 20대이다.', '나는 여자이다.', '나는 모델이다.', '나는 패션에 대해 이야기하는 것을 좋아한다.', '나는 아침에 날씨를 확인한다.', '나는 혈액형이 B형이다.'], 'prev_dialog': ['User:요새 유행하는 브랜드 마케팅이 있어? 요새 패션 분야에 관심이 많이 생겨서 말이야.', \"Bot:요즘에는 '콜라보 마케팅'이 유행이야. 콜라보 마케팅은 말 그대로 타사 브랜드 또는 유명인과의 콜라보 등을 통해 진행되는 브랜드 마케팅을 의미해.\", 'User:아 요즘은 콜라보를 브랜드끼리만 하는게 아니고 유명인과도 많이 하네?', 'Bot:응 맞아. 패션 콜라보의 경우 크게 3가지의 종류로 나눌 수 있어. 세가지가 어떤 것들인지 맞춰볼래?', 'User:음, 브랜드와 유명인의 콜라보는 알려줬지만, 사실 잘 모르겠어.']}, {'response': '아니, 들어가기에는 아직 너무 이른 것 같아서 고민이야.', 'user_persona': ['나는 등산을 가끔 한다', '나는 가야금 연주를 가끔 듣는다', '나는 다소 부지런하다'], 'bot_persona': ['나는 여자이다.', '나는 20대이다.', '나는 요즘, 항상 신이난다.', '나는 고전연구회 동아리에 관심 있다.', '나는 가야금 연주를 자주 한다.', '나는 요즘 사건 및 사고에 대해서 관심을 갖고 공부한다.'], 'prev_dialog': ['User:청소 안하고 놀면 신경이 너무 쓰여서, 할거면 빨리하고 치우는게 좋아.', 'Bot:아쉽네. 누워서 좀 쉬려고 했는데, 그럼 설거지를 좀 하고 올게.', 'User:응, 천천히 하고 와. 나도 방 청소나 좀 하고 올게.', 'Bot:벌써 3시간이나 지났어? 설거지를 하고 같은 동아리 회원이 전화가 와서 말이야.', 'User:나도 집안 청소를 하고 나서야 겨우 쉴 수 있었어. 하지만 동아리에는 들어갔어?']}, {'response': '스위스에서 뭘 먹었어? 맛있는거 먹었어?', 'user_persona': ['나는 20대 남자이다', '나는 공항에 가는 중이다'], 'bot_persona': ['나는 남자이다.', '나는 20대이다.', '나는 새벽에 따뜻한 물을 마신다.', '나는 풍물부 동아리에 관심 있다.', '나는 수영을 싫어한다.'], 'prev_dialog': ['User:그래도 누나가 분명 동생분을 많이 생각할거야.', 'Bot:제발 그랬으면 좋겠다. 공항은 잘 도착했어?', 'User:응. 스위스에 도착해서 연락할게!', 'Bot:스위스는 잘 도착했어? 도착하면 연락해줘.', 'User:20시간만에 잘 도착했어. 너무 피곤해.']}, {'response': '나도 이 노래가 팝송인 줄 몰랐어. 그런데 듣고 나니까 좋은 곡인 것 같아.', 'user_persona': ['나는 팝송을 잘 모른다', '나는 CCM 음악을 좋아한다'], 'bot_persona': ['나는 여자이다.', '나는 20대이다.', '나는 아침에 산책한다.', '나는 학원 수학 강사이다.', '나는 CCM 음악을 좋아한다.', '나는 아르바이트에 대해서 관심을 갖고 공부했었다.'], 'prev_dialog': ['User:고마워! 혹시 치위생사님은 어떤 음악 장르를 좋아해?', 'Bot:나는 평범한 팝송이야. 좋은 음악이 너무 많아.', 'User:아, 내가 팝송을 잘 몰라서 들어보고 싶은데, 혹시 지금 공유해줄 수 있어?', 'Bot:응 여기. this is me라는 곡인데, 내가 제일 좋아하는 곡 중 하나야.', 'User:이 노래가 팝송이었어? 나는 이 노래를 좋아해서 가끔 듣는데, 팝송인줄 몰랐네.']}, {'response': '내가 전도사로 일하면 어떨까?', 'user_persona': ['나는 전도사이다', '나는 30대 남자이다', '나의 종교는 기독교이다 나의 부모님은 불교이다'], 'bot_persona': ['나는 남자이다.', '나는 20대이다.', '나는 종교가 없다.', '나는 고슴도치 두 마리를 키운다.', '나는 팝 음악을 좋아한다.'], 'prev_dialog': ['User:IT계열은 요즘 좋아서 인식이 좋지 않아?', 'Bot:돈은 많이 받는 걸로 알고 있는데, 헬이야. 넌 잠을 안자고 일하면 어때?', 'User:아니, 너무 힘들 것 같아. 전도사는 은근히 꿀인 것 같아. 월급은 적지만 나름 소소하게 살아가고 있어.', 'Bot:실례지만 월급이 얼마나 돼?', 'User:세전 150만원 정도야. 그래도 하나님한테 봉사하는 개념으로 일하고 있어.']}, {'response': '응, 퇴근하고 연락할게.', 'user_persona': ['나는 영어 학원에 다닌다', '나는 일이 지루하다', '나는 대학생이다'], 'bot_persona': ['나는 여자이다.', '나는 20대이다.', '나는 눈치가 없는 편이다.', '나는 사무 보조원이다.', '나는 신 음식을 즐겨 먹는다.', '나는 요즘 스펙에 대해서 관심을 갖고 공부한다.'], 'prev_dialog': ['User:제대로 대화를 해보자.', 'Bot:이게 뭔가 좀 이제는 익숙해졌어. 나중에 기회 되면 풀어봤으면 좋겠어. 방학에는 학교 아예 안가?', 'User:학교는 안 가. 영어 학원을 다녀. 영어에 관심 없는데 어쩔 수 없이 하게 되는 것 같아.', 'Bot:맞아. 어려운데 꼭 해야 하는 거라 스트레스를 많이 받는 것 같아. 난 슬슬 다시 들어가야 해서 퇴근하고 연락할게.', 'User:응, 일 보고 다시 봐.']}]\n"
     ]
    },
    {
     "name": "stderr",
     "output_type": "stream",
     "text": [
      "\n"
     ]
    }
   ],
   "source": [
    "solar_persona_vl2 = make_json_data(eval_vl2, 'GEVAL_solar_vl2_persona_2', solar, prompt, True, json_path=\"./korean_msc/preprocessing\")"
   ]
  },
  {
   "cell_type": "code",
   "execution_count": 14,
   "metadata": {},
   "outputs": [
    {
     "name": "stdout",
     "output_type": "stream",
     "text": [
      "## Data info ##\n",
      "dataset name : GEVAL_No_Persona_solar_vl2_2 data length : (54, 15)\n",
      "## Model info ##\n",
      "\u001b[1mLlamaCpp\u001b[0m\n",
      "Params: {'model_path': './solar/OPEN-SOLAR-KO-10_7B.Q5_K_S.gguf', 'suffix': None, 'max_tokens': 256, 'temperature': 0.9, 'top_p': 0.95, 'logprobs': None, 'echo': False, 'stop_sequences': ['User:', 'Bot:', '\\n', 'ᄏᄏᄏᄏᄏᄏ', 'ᄒᄒᄒᄒᄒᄒ', 'ㅠㅠㅠㅠㅠㅠ', 'ᄋᄋᄋᄋᄋᄋ', 'ㅋㅋㅋㅋㅋㅋ', 'ㅎㅎㅎㅎㅎㅎ', 'ㅠㅠㅠㅠㅠㅠ', 'ㅇㅇㅇㅇㅇㅇ'], 'repeat_penalty': 1.1, 'top_k': 30}\n"
     ]
    },
    {
     "name": "stderr",
     "output_type": "stream",
     "text": [
      "  0%|          | 0/54 [00:00<?, ?it/s]Llama.generate: prefix-match hit\n"
     ]
    },
    {
     "name": "stdout",
     "output_type": "stream",
     "text": [
      "그래요. 다음에 또 연락해요~"
     ]
    },
    {
     "name": "stderr",
     "output_type": "stream",
     "text": [
      "\n",
      "llama_print_timings:        load time =   40091.78 ms\n",
      "llama_print_timings:      sample time =       1.13 ms /     8 runs   (    0.14 ms per token,  7060.90 tokens per second)\n",
      "llama_print_timings: prompt eval time =   29260.16 ms /   405 tokens (   72.25 ms per token,    13.84 tokens per second)\n",
      "llama_print_timings:        eval time =    1353.89 ms /     7 runs   (  193.41 ms per token,     5.17 tokens per second)\n",
      "llama_print_timings:       total time =   30638.86 ms /   412 tokens\n",
      "  2%|▏         | 1/54 [00:30<27:04, 30.64s/it]Llama.generate: prefix-match hit\n"
     ]
    },
    {
     "name": "stdout",
     "output_type": "stream",
     "text": [
      "어릴 적에는 많이 싸웠는데 이제 다 크고 나니까 사이 좋더라고."
     ]
    },
    {
     "name": "stderr",
     "output_type": "stream",
     "text": [
      "\n",
      "llama_print_timings:        load time =   40091.78 ms\n",
      "llama_print_timings:      sample time =       2.72 ms /    19 runs   (    0.14 ms per token,  6990.43 tokens per second)\n",
      "llama_print_timings: prompt eval time =   29126.80 ms /   403 tokens (   72.27 ms per token,    13.84 tokens per second)\n",
      "llama_print_timings:        eval time =    3445.11 ms /    18 runs   (  191.40 ms per token,     5.22 tokens per second)\n",
      "llama_print_timings:       total time =   32634.16 ms /   421 tokens\n",
      "  4%|▎         | 2/54 [01:03<27:34, 31.82s/it]Llama.generate: prefix-match hit\n"
     ]
    },
    {
     "name": "stdout",
     "output_type": "stream",
     "text": [
      "어학연수 가서도 가끔 한국 음식 생각날 텐데, 한국음식 생각날 때 연락해. 내가 챙겨줄게!"
     ]
    },
    {
     "name": "stderr",
     "output_type": "stream",
     "text": [
      "\n",
      "llama_print_timings:        load time =   40091.78 ms\n",
      "llama_print_timings:      sample time =       3.78 ms /    27 runs   (    0.14 ms per token,  7140.97 tokens per second)\n",
      "llama_print_timings: prompt eval time =   25464.05 ms /   350 tokens (   72.75 ms per token,    13.74 tokens per second)\n",
      "llama_print_timings:        eval time =    4989.32 ms /    26 runs   (  191.90 ms per token,     5.21 tokens per second)\n",
      "llama_print_timings:       total time =   30536.40 ms /   376 tokens\n",
      "  6%|▌         | 3/54 [01:33<26:32, 31.24s/it]Llama.generate: prefix-match hit\n"
     ]
    },
    {
     "name": "stdout",
     "output_type": "stream",
     "text": [
      "공부 열심히 해! 다음에 또 대화하자."
     ]
    },
    {
     "name": "stderr",
     "output_type": "stream",
     "text": [
      "\n",
      "llama_print_timings:        load time =   40091.78 ms\n",
      "llama_print_timings:      sample time =       1.55 ms /    11 runs   (    0.14 ms per token,  7092.20 tokens per second)\n",
      "llama_print_timings: prompt eval time =   28281.16 ms /   391 tokens (   72.33 ms per token,    13.83 tokens per second)\n",
      "llama_print_timings:        eval time =    1906.28 ms /    10 runs   (  190.63 ms per token,     5.25 tokens per second)\n",
      "llama_print_timings:       total time =   30220.35 ms /   401 tokens\n",
      "  7%|▋         | 4/54 [02:04<25:41, 30.84s/it]Llama.generate: prefix-match hit\n"
     ]
    },
    {
     "name": "stdout",
     "output_type": "stream",
     "text": [
      "응 그래야겠어. 고마워!"
     ]
    },
    {
     "name": "stderr",
     "output_type": "stream",
     "text": [
      "\n",
      "llama_print_timings:        load time =   40091.78 ms\n",
      "llama_print_timings:      sample time =       1.13 ms /     8 runs   (    0.14 ms per token,  7054.67 tokens per second)\n",
      "llama_print_timings: prompt eval time =   31056.35 ms /   430 tokens (   72.22 ms per token,    13.85 tokens per second)\n",
      "llama_print_timings:        eval time =    1343.41 ms /     7 runs   (  191.92 ms per token,     5.21 tokens per second)\n",
      "llama_print_timings:       total time =   32423.75 ms /   437 tokens\n",
      "  9%|▉         | 5/54 [02:36<25:39, 31.41s/it]Llama.generate: prefix-match hit\n"
     ]
    },
    {
     "name": "stdout",
     "output_type": "stream",
     "text": [
      "너도 하는 구나? 신기하다. 다음에 같이 동물의 숲 해보자!"
     ]
    },
    {
     "name": "stderr",
     "output_type": "stream",
     "text": [
      "\n",
      "llama_print_timings:        load time =   40091.78 ms\n",
      "llama_print_timings:      sample time =       2.41 ms /    17 runs   (    0.14 ms per token,  7053.94 tokens per second)\n",
      "llama_print_timings: prompt eval time =   24644.59 ms /   338 tokens (   72.91 ms per token,    13.71 tokens per second)\n",
      "llama_print_timings:        eval time =    3042.07 ms /    16 runs   (  190.13 ms per token,     5.26 tokens per second)\n",
      "llama_print_timings:       total time =   27745.62 ms /   354 tokens\n",
      " 11%|█         | 6/54 [03:04<24:07, 30.17s/it]Llama.generate: prefix-match hit\n"
     ]
    },
    {
     "name": "stdout",
     "output_type": "stream",
     "text": [
      "내가 요즘 빠져서 하는 게임이 있는데 나중에 알려줄게."
     ]
    },
    {
     "name": "stderr",
     "output_type": "stream",
     "text": [
      "\n",
      "llama_print_timings:        load time =   40091.78 ms\n",
      "llama_print_timings:      sample time =       1.95 ms /    14 runs   (    0.14 ms per token,  7168.46 tokens per second)\n",
      "llama_print_timings: prompt eval time =   26356.98 ms /   362 tokens (   72.81 ms per token,    13.73 tokens per second)\n",
      "llama_print_timings:        eval time =    2476.57 ms /    13 runs   (  190.51 ms per token,     5.25 tokens per second)\n",
      "llama_print_timings:       total time =   28875.93 ms /   375 tokens\n",
      " 13%|█▎        | 7/54 [03:33<23:18, 29.75s/it]Llama.generate: prefix-match hit\n"
     ]
    },
    {
     "name": "stdout",
     "output_type": "stream",
     "text": [
      "나도 서울에 사는데! 반갑다! 시어머니가 콘솔게임 위도 잘하셔서 나도 요즘 기뻐."
     ]
    },
    {
     "name": "stderr",
     "output_type": "stream",
     "text": [
      "\n",
      "llama_print_timings:        load time =   40091.78 ms\n",
      "llama_print_timings:      sample time =       3.67 ms /    26 runs   (    0.14 ms per token,  7090.26 tokens per second)\n",
      "llama_print_timings: prompt eval time =   28189.02 ms /   390 tokens (   72.28 ms per token,    13.84 tokens per second)\n",
      "llama_print_timings:        eval time =    4786.69 ms /    25 runs   (  191.47 ms per token,     5.22 tokens per second)\n",
      "llama_print_timings:       total time =   33054.92 ms /   415 tokens\n",
      " 15%|█▍        | 8/54 [04:06<23:36, 30.80s/it]Llama.generate: prefix-match hit\n"
     ]
    },
    {
     "name": "stdout",
     "output_type": "stream",
     "text": [
      "응, 오늘도 날씨 좋더라. 하늘도 파랗고."
     ]
    },
    {
     "name": "stderr",
     "output_type": "stream",
     "text": [
      "\n",
      "llama_print_timings:        load time =   40091.78 ms\n",
      "llama_print_timings:      sample time =       2.00 ms /    14 runs   (    0.14 ms per token,  7010.52 tokens per second)\n",
      "llama_print_timings: prompt eval time =   24727.44 ms /   341 tokens (   72.51 ms per token,    13.79 tokens per second)\n",
      "llama_print_timings:        eval time =    2518.42 ms /    13 runs   (  193.72 ms per token,     5.16 tokens per second)\n",
      "llama_print_timings:       total time =   27288.47 ms /   354 tokens\n",
      " 17%|█▋        | 9/54 [04:33<22:16, 29.70s/it]Llama.generate: prefix-match hit\n"
     ]
    },
    {
     "name": "stdout",
     "output_type": "stream",
     "text": [
      "맞아. 에어컨 없으면 더위 때문에 기운이 하나도 안나더라."
     ]
    },
    {
     "name": "stderr",
     "output_type": "stream",
     "text": [
      "\n",
      "llama_print_timings:        load time =   40091.78 ms\n",
      "llama_print_timings:      sample time =       1.94 ms /    14 runs   (    0.14 ms per token,  7212.78 tokens per second)\n",
      "llama_print_timings: prompt eval time =   25845.52 ms /   356 tokens (   72.60 ms per token,    13.77 tokens per second)\n",
      "llama_print_timings:        eval time =    2458.93 ms /    13 runs   (  189.15 ms per token,     5.29 tokens per second)\n",
      "llama_print_timings:       total time =   28346.42 ms /   369 tokens\n",
      " 19%|█▊        | 10/54 [05:01<21:28, 29.29s/it]Llama.generate: prefix-match hit\n"
     ]
    },
    {
     "name": "stdout",
     "output_type": "stream",
     "text": [
      "응응. 그래도 폭염에 대해서 공부도 많이 하고 대비도 하고 있어."
     ]
    },
    {
     "name": "stderr",
     "output_type": "stream",
     "text": [
      "\n",
      "llama_print_timings:        load time =   40091.78 ms\n",
      "llama_print_timings:      sample time =       2.66 ms /    18 runs   (    0.15 ms per token,  6769.46 tokens per second)\n",
      "llama_print_timings: prompt eval time =   29068.38 ms /   401 tokens (   72.49 ms per token,    13.80 tokens per second)\n",
      "llama_print_timings:        eval time =    3243.40 ms /    17 runs   (  190.79 ms per token,     5.24 tokens per second)\n",
      "llama_print_timings:       total time =   32368.23 ms /   418 tokens\n",
      " 20%|██        | 11/54 [05:34<21:39, 30.23s/it]Llama.generate: prefix-match hit\n"
     ]
    },
    {
     "name": "stdout",
     "output_type": "stream",
     "text": [
      "그래. 좋은 하루 보내."
     ]
    },
    {
     "name": "stderr",
     "output_type": "stream",
     "text": [
      "\n",
      "llama_print_timings:        load time =   40091.78 ms\n",
      "llama_print_timings:      sample time =       0.99 ms /     7 runs   (    0.14 ms per token,  7063.57 tokens per second)\n",
      "llama_print_timings: prompt eval time =   30917.91 ms /   428 tokens (   72.24 ms per token,    13.84 tokens per second)\n",
      "llama_print_timings:        eval time =    1145.29 ms /     6 runs   (  190.88 ms per token,     5.24 tokens per second)\n",
      "llama_print_timings:       total time =   32084.12 ms /   434 tokens\n",
      " 22%|██▏       | 12/54 [06:06<21:33, 30.80s/it]Llama.generate: prefix-match hit\n"
     ]
    },
    {
     "name": "stdout",
     "output_type": "stream",
     "text": [
      "고맙다. 너는 수능준비 했었어?"
     ]
    },
    {
     "name": "stderr",
     "output_type": "stream",
     "text": [
      "\n",
      "llama_print_timings:        load time =   40091.78 ms\n",
      "llama_print_timings:      sample time =       1.54 ms /    11 runs   (    0.14 ms per token,  7166.12 tokens per second)\n",
      "llama_print_timings: prompt eval time =   25854.48 ms /   354 tokens (   73.04 ms per token,    13.69 tokens per second)\n",
      "llama_print_timings:        eval time =    1908.32 ms /    10 runs   (  190.83 ms per token,     5.24 tokens per second)\n",
      "llama_print_timings:       total time =   27796.16 ms /   364 tokens\n",
      " 24%|██▍       | 13/54 [06:34<20:25, 29.89s/it]Llama.generate: prefix-match hit\n"
     ]
    },
    {
     "name": "stdout",
     "output_type": "stream",
     "text": [
      "응응 나도 반갑고 도움이 될 것 같아."
     ]
    },
    {
     "name": "stderr",
     "output_type": "stream",
     "text": [
      "\n",
      "llama_print_timings:        load time =   40091.78 ms\n",
      "llama_print_timings:      sample time =       1.69 ms /    12 runs   (    0.14 ms per token,  7121.66 tokens per second)\n",
      "llama_print_timings: prompt eval time =   28342.48 ms /   393 tokens (   72.12 ms per token,    13.87 tokens per second)\n",
      "llama_print_timings:        eval time =    2088.85 ms /    11 runs   (  189.90 ms per token,     5.27 tokens per second)\n",
      "llama_print_timings:       total time =   30466.71 ms /   404 tokens\n",
      " 26%|██▌       | 14/54 [07:04<20:02, 30.07s/it]Llama.generate: prefix-match hit\n"
     ]
    },
    {
     "name": "stdout",
     "output_type": "stream",
     "text": [
      "고마워. 너도 식사 맛있게 해!"
     ]
    },
    {
     "name": "stderr",
     "output_type": "stream",
     "text": [
      "\n",
      "llama_print_timings:        load time =   40091.78 ms\n",
      "llama_print_timings:      sample time =       1.52 ms /    11 runs   (    0.14 ms per token,  7251.15 tokens per second)\n",
      "llama_print_timings: prompt eval time =   26405.58 ms /   367 tokens (   71.95 ms per token,    13.90 tokens per second)\n",
      "llama_print_timings:        eval time =    1898.68 ms /    10 runs   (  189.87 ms per token,     5.27 tokens per second)\n",
      "llama_print_timings:       total time =   28337.57 ms /   377 tokens\n",
      " 28%|██▊       | 15/54 [07:32<19:12, 29.55s/it]Llama.generate: prefix-match hit\n"
     ]
    },
    {
     "name": "stdout",
     "output_type": "stream",
     "text": [
      "요리? 어떤 음식을 잘 만들어?"
     ]
    },
    {
     "name": "stderr",
     "output_type": "stream",
     "text": [
      "\n",
      "llama_print_timings:        load time =   40091.78 ms\n",
      "llama_print_timings:      sample time =       1.31 ms /     9 runs   (    0.15 ms per token,  6854.53 tokens per second)\n",
      "llama_print_timings: prompt eval time =   29846.16 ms /   417 tokens (   71.57 ms per token,    13.97 tokens per second)\n",
      "llama_print_timings:        eval time =    1519.81 ms /     8 runs   (  189.98 ms per token,     5.26 tokens per second)\n",
      "llama_print_timings:       total time =   31393.34 ms /   425 tokens\n",
      " 30%|██▉       | 16/54 [08:04<19:03, 30.10s/it]Llama.generate: prefix-match hit\n"
     ]
    },
    {
     "name": "stdout",
     "output_type": "stream",
     "text": [
      "원래 합창을 좋아해. 동아리에서 노래를 부르다가 친구가 추천해줘서 오케스트라 동아리에 들어가기로 했어."
     ]
    },
    {
     "name": "stderr",
     "output_type": "stream",
     "text": [
      "\n",
      "llama_print_timings:        load time =   40091.78 ms\n",
      "llama_print_timings:      sample time =       4.35 ms /    31 runs   (    0.14 ms per token,  7119.89 tokens per second)\n",
      "llama_print_timings: prompt eval time =   29455.76 ms /   407 tokens (   72.37 ms per token,    13.82 tokens per second)\n",
      "llama_print_timings:        eval time =    5706.32 ms /    30 runs   (  190.21 ms per token,     5.26 tokens per second)\n",
      "llama_print_timings:       total time =   35257.18 ms /   437 tokens\n",
      " 31%|███▏      | 17/54 [08:39<19:31, 31.66s/it]Llama.generate: prefix-match hit\n"
     ]
    },
    {
     "name": "stdout",
     "output_type": "stream",
     "text": [
      "응 잘 먹으렴. 나중에 또 대화하자."
     ]
    },
    {
     "name": "stderr",
     "output_type": "stream",
     "text": [
      "\n",
      "llama_print_timings:        load time =   40091.78 ms\n",
      "llama_print_timings:      sample time =       1.67 ms /    12 runs   (    0.14 ms per token,  7198.56 tokens per second)\n",
      "llama_print_timings: prompt eval time =   30228.86 ms /   420 tokens (   71.97 ms per token,    13.89 tokens per second)\n",
      "llama_print_timings:        eval time =    2087.42 ms /    11 runs   (  189.77 ms per token,     5.27 tokens per second)\n",
      "llama_print_timings:       total time =   32351.96 ms /   431 tokens\n",
      " 33%|███▎      | 18/54 [09:11<19:07, 31.87s/it]Llama.generate: prefix-match hit\n"
     ]
    },
    {
     "name": "stdout",
     "output_type": "stream",
     "text": [
      "얼마 안남았구나. 면회 음식은 맛있게 먹었어?"
     ]
    },
    {
     "name": "stderr",
     "output_type": "stream",
     "text": [
      "\n",
      "llama_print_timings:        load time =   40091.78 ms\n",
      "llama_print_timings:      sample time =       2.21 ms /    16 runs   (    0.14 ms per token,  7252.95 tokens per second)\n",
      "llama_print_timings: prompt eval time =   26274.59 ms /   362 tokens (   72.58 ms per token,    13.78 tokens per second)\n",
      "llama_print_timings:        eval time =    2850.85 ms /    15 runs   (  190.06 ms per token,     5.26 tokens per second)\n",
      "llama_print_timings:       total time =   29173.07 ms /   377 tokens\n",
      " 35%|███▌      | 19/54 [09:41<18:07, 31.06s/it]Llama.generate: prefix-match hit\n"
     ]
    },
    {
     "name": "stdout",
     "output_type": "stream",
     "text": [
      "군인 친구는 면회 한 번도 못가봤어. 면회 가 본 적 있어?"
     ]
    },
    {
     "name": "stderr",
     "output_type": "stream",
     "text": [
      "\n",
      "llama_print_timings:        load time =   40091.78 ms\n",
      "llama_print_timings:      sample time =       2.95 ms /    21 runs   (    0.14 ms per token,  7125.89 tokens per second)\n",
      "llama_print_timings: prompt eval time =   25166.34 ms /   345 tokens (   72.95 ms per token,    13.71 tokens per second)\n",
      "llama_print_timings:        eval time =    3789.42 ms /    20 runs   (  189.47 ms per token,     5.28 tokens per second)\n",
      "llama_print_timings:       total time =   29023.65 ms /   365 tokens\n",
      " 37%|███▋      | 20/54 [10:10<17:15, 30.45s/it]Llama.generate: prefix-match hit\n"
     ]
    },
    {
     "name": "stdout",
     "output_type": "stream",
     "text": [
      "안 맞아봤어. 그런데 필러도 한번 맞으면 계속 맞아야 하는 것 같아서 부담돼."
     ]
    },
    {
     "name": "stderr",
     "output_type": "stream",
     "text": [
      "\n",
      "llama_print_timings:        load time =   40091.78 ms\n",
      "llama_print_timings:      sample time =       2.99 ms /    21 runs   (    0.14 ms per token,  7030.47 tokens per second)\n",
      "llama_print_timings: prompt eval time =   29584.87 ms /   410 tokens (   72.16 ms per token,    13.86 tokens per second)\n",
      "llama_print_timings:        eval time =    3822.10 ms /    20 runs   (  191.10 ms per token,     5.23 tokens per second)\n",
      "llama_print_timings:       total time =   33471.72 ms /   430 tokens\n",
      " 39%|███▉      | 21/54 [10:43<17:14, 31.36s/it]Llama.generate: prefix-match hit\n"
     ]
    },
    {
     "name": "stdout",
     "output_type": "stream",
     "text": [
      "그렇구나. 나도 곱슬머리인 사람한테 좋은 매직하는 미용실을 소개해주면 좋겠어."
     ]
    },
    {
     "name": "stderr",
     "output_type": "stream",
     "text": [
      "\n",
      "llama_print_timings:        load time =   40091.78 ms\n",
      "llama_print_timings:      sample time =       3.25 ms /    23 runs   (    0.14 ms per token,  7066.05 tokens per second)\n",
      "llama_print_timings: prompt eval time =   27585.69 ms /   379 tokens (   72.79 ms per token,    13.74 tokens per second)\n",
      "llama_print_timings:        eval time =    4176.99 ms /    22 runs   (  189.86 ms per token,     5.27 tokens per second)\n",
      "llama_print_timings:       total time =   31835.07 ms /   401 tokens\n",
      " 41%|████      | 22/54 [11:15<16:48, 31.50s/it]Llama.generate: prefix-match hit\n"
     ]
    },
    {
     "name": "stdout",
     "output_type": "stream",
     "text": [
      "응 잘 마시는구나. 나도 다음에 또 연락할게."
     ]
    },
    {
     "name": "stderr",
     "output_type": "stream",
     "text": [
      "\n",
      "llama_print_timings:        load time =   40091.78 ms\n",
      "llama_print_timings:      sample time =       1.82 ms /    13 runs   (    0.14 ms per token,  7127.19 tokens per second)\n",
      "llama_print_timings: prompt eval time =   27621.31 ms /   379 tokens (   72.88 ms per token,    13.72 tokens per second)\n",
      "llama_print_timings:        eval time =    2272.01 ms /    12 runs   (  189.33 ms per token,     5.28 tokens per second)\n",
      "llama_print_timings:       total time =   29932.28 ms /   391 tokens\n",
      " 43%|████▎     | 23/54 [11:45<16:02, 31.03s/it]Llama.generate: prefix-match hit\n"
     ]
    },
    {
     "name": "stdout",
     "output_type": "stream",
     "text": [
      "그래, 오늘 대화 즐거웠어!"
     ]
    },
    {
     "name": "stderr",
     "output_type": "stream",
     "text": [
      "\n",
      "llama_print_timings:        load time =   40091.78 ms\n",
      "llama_print_timings:      sample time =       1.27 ms /     9 runs   (    0.14 ms per token,  7086.61 tokens per second)\n",
      "llama_print_timings: prompt eval time =   25532.57 ms /   351 tokens (   72.74 ms per token,    13.75 tokens per second)\n",
      "llama_print_timings:        eval time =    1535.12 ms /     8 runs   (  191.89 ms per token,     5.21 tokens per second)\n",
      "llama_print_timings:       total time =   27095.29 ms /   359 tokens\n",
      " 44%|████▍     | 24/54 [12:12<14:55, 29.85s/it]Llama.generate: prefix-match hit\n"
     ]
    },
    {
     "name": "stdout",
     "output_type": "stream",
     "text": [
      "멋지다! 열심히 연습해서 연주회 같은것도 해보고 그러려고?"
     ]
    },
    {
     "name": "stderr",
     "output_type": "stream",
     "text": [
      "\n",
      "llama_print_timings:        load time =   40091.78 ms\n",
      "llama_print_timings:      sample time =       2.41 ms /    17 runs   (    0.14 ms per token,  7053.94 tokens per second)\n",
      "llama_print_timings: prompt eval time =   28974.03 ms /   402 tokens (   72.07 ms per token,    13.87 tokens per second)\n",
      "llama_print_timings:        eval time =    3157.49 ms /    16 runs   (  197.34 ms per token,     5.07 tokens per second)\n",
      "llama_print_timings:       total time =   32183.92 ms /   418 tokens\n",
      " 46%|████▋     | 25/54 [12:44<14:46, 30.55s/it]Llama.generate: prefix-match hit\n"
     ]
    },
    {
     "name": "stdout",
     "output_type": "stream",
     "text": [
      "만화 좋아하는데, 어떤 만화 좋아해?"
     ]
    },
    {
     "name": "stderr",
     "output_type": "stream",
     "text": [
      "\n",
      "llama_print_timings:        load time =   40091.78 ms\n",
      "llama_print_timings:      sample time =       1.60 ms /    11 runs   (    0.15 ms per token,  6892.23 tokens per second)\n",
      "llama_print_timings: prompt eval time =   26471.74 ms /   366 tokens (   72.33 ms per token,    13.83 tokens per second)\n",
      "llama_print_timings:        eval time =    1927.72 ms /    10 runs   (  192.77 ms per token,     5.19 tokens per second)\n",
      "llama_print_timings:       total time =   28432.53 ms /   376 tokens\n",
      " 48%|████▊     | 26/54 [13:13<13:57, 29.92s/it]Llama.generate: prefix-match hit\n"
     ]
    },
    {
     "name": "stdout",
     "output_type": "stream",
     "text": [
      "브레이브걸스 롤린을 좋아하는구나. 난 춤을 잘 추진 않아. 춤을 잘 추는 사람을 보면 신기해."
     ]
    },
    {
     "name": "stderr",
     "output_type": "stream",
     "text": [
      "\n",
      "llama_print_timings:        load time =   40091.78 ms\n",
      "llama_print_timings:      sample time =       4.18 ms /    30 runs   (    0.14 ms per token,  7183.91 tokens per second)\n",
      "llama_print_timings: prompt eval time =   28859.03 ms /   401 tokens (   71.97 ms per token,    13.90 tokens per second)\n",
      "llama_print_timings:        eval time =    5534.49 ms /    29 runs   (  190.84 ms per token,     5.24 tokens per second)\n",
      "llama_print_timings:       total time =   34487.35 ms /   430 tokens\n",
      " 50%|█████     | 27/54 [13:47<14:04, 31.29s/it]Llama.generate: prefix-match hit\n"
     ]
    },
    {
     "name": "stdout",
     "output_type": "stream",
     "text": [
      "나머지 뉴스는 이따가 알려줄게. 저번주 금요일에 뉴스 봤어?"
     ]
    },
    {
     "name": "stderr",
     "output_type": "stream",
     "text": [
      "\n",
      "llama_print_timings:        load time =   40091.78 ms\n",
      "llama_print_timings:      sample time =       3.08 ms /    22 runs   (    0.14 ms per token,  7142.86 tokens per second)\n",
      "llama_print_timings: prompt eval time =   24369.29 ms /   336 tokens (   72.53 ms per token,    13.79 tokens per second)\n",
      "llama_print_timings:        eval time =    3984.46 ms /    21 runs   (  189.74 ms per token,     5.27 tokens per second)\n",
      "llama_print_timings:       total time =   28419.99 ms /   357 tokens\n",
      " 52%|█████▏    | 28/54 [14:16<13:11, 30.43s/it]Llama.generate: prefix-match hit\n"
     ]
    },
    {
     "name": "stdout",
     "output_type": "stream",
     "text": [
      "맞아, 상자는 비싸서 내가 그냥 한 봉지씩 사는데 한봉지에 3천원정도 하는 것 같아."
     ]
    },
    {
     "name": "stderr",
     "output_type": "stream",
     "text": [
      "\n",
      "llama_print_timings:        load time =   40091.78 ms\n",
      "llama_print_timings:      sample time =       3.76 ms /    26 runs   (    0.14 ms per token,  6907.55 tokens per second)\n",
      "llama_print_timings: prompt eval time =   28700.63 ms /   396 tokens (   72.48 ms per token,    13.80 tokens per second)\n",
      "llama_print_timings:        eval time =    4762.00 ms /    25 runs   (  190.48 ms per token,     5.25 tokens per second)\n",
      "llama_print_timings:       total time =   33540.61 ms /   421 tokens\n",
      " 54%|█████▎    | 29/54 [14:49<13:04, 31.37s/it]Llama.generate: prefix-match hit\n"
     ]
    },
    {
     "name": "stdout",
     "output_type": "stream",
     "text": [
      "작곡하고 있었어. 작곡가가 될거라서 열심히 배우고 있어."
     ]
    },
    {
     "name": "stderr",
     "output_type": "stream",
     "text": [
      "\n",
      "llama_print_timings:        load time =   40091.78 ms\n",
      "llama_print_timings:      sample time =       2.36 ms /    17 runs   (    0.14 ms per token,  7197.29 tokens per second)\n",
      "llama_print_timings: prompt eval time =   26437.77 ms /   362 tokens (   73.03 ms per token,    13.69 tokens per second)\n",
      "llama_print_timings:        eval time =    3108.88 ms /    16 runs   (  194.30 ms per token,     5.15 tokens per second)\n",
      "llama_print_timings:       total time =   29597.89 ms /   378 tokens\n",
      " 56%|█████▌    | 30/54 [15:19<12:20, 30.84s/it]Llama.generate: prefix-match hit\n"
     ]
    },
    {
     "name": "stdout",
     "output_type": "stream",
     "text": [
      "고마워. 책이 나오면 바로 읽어야겠다."
     ]
    },
    {
     "name": "stderr",
     "output_type": "stream",
     "text": [
      "\n",
      "llama_print_timings:        load time =   40091.78 ms\n",
      "llama_print_timings:      sample time =       1.80 ms /    13 runs   (    0.14 ms per token,  7206.21 tokens per second)\n",
      "llama_print_timings: prompt eval time =   27854.84 ms /   384 tokens (   72.54 ms per token,    13.79 tokens per second)\n",
      "llama_print_timings:        eval time =    2305.79 ms /    12 runs   (  192.15 ms per token,     5.20 tokens per second)\n",
      "llama_print_timings:       total time =   30200.72 ms /   396 tokens\n",
      " 57%|█████▋    | 31/54 [15:49<11:44, 30.65s/it]Llama.generate: prefix-match hit\n"
     ]
    },
    {
     "name": "stdout",
     "output_type": "stream",
     "text": [
      "그래서 고민이야. 밥 먹고 가는게 나을지 밥 안먹고 운동하는게 나을지..."
     ]
    },
    {
     "name": "stderr",
     "output_type": "stream",
     "text": [
      "\n",
      "llama_print_timings:        load time =   40091.78 ms\n",
      "llama_print_timings:      sample time =       2.66 ms /    19 runs   (    0.14 ms per token,  7132.13 tokens per second)\n",
      "llama_print_timings: prompt eval time =   26010.85 ms /   355 tokens (   73.27 ms per token,    13.65 tokens per second)\n",
      "llama_print_timings:        eval time =    3429.63 ms /    18 runs   (  190.53 ms per token,     5.25 tokens per second)\n",
      "llama_print_timings:       total time =   29498.50 ms /   373 tokens\n",
      " 59%|█████▉    | 32/54 [16:18<11:06, 30.31s/it]Llama.generate: prefix-match hit\n"
     ]
    },
    {
     "name": "stdout",
     "output_type": "stream",
     "text": [
      "나도 별일 없이 잘 지냈어. 어떻게 지냈어?"
     ]
    },
    {
     "name": "stderr",
     "output_type": "stream",
     "text": [
      "\n",
      "llama_print_timings:        load time =   40091.78 ms\n",
      "llama_print_timings:      sample time =       2.08 ms /    15 runs   (    0.14 ms per token,  7218.48 tokens per second)\n",
      "llama_print_timings: prompt eval time =   28526.00 ms /   396 tokens (   72.04 ms per token,    13.88 tokens per second)\n",
      "llama_print_timings:        eval time =    2679.17 ms /    14 runs   (  191.37 ms per token,     5.23 tokens per second)\n",
      "llama_print_timings:       total time =   31250.27 ms /   410 tokens\n",
      " 61%|██████    | 33/54 [16:50<10:42, 30.59s/it]Llama.generate: prefix-match hit\n"
     ]
    },
    {
     "name": "stdout",
     "output_type": "stream",
     "text": [
      "그렇다고 할 수 있어. 너는 혹시 좋아하는 음악장르는 뭐야?"
     ]
    },
    {
     "name": "stderr",
     "output_type": "stream",
     "text": [
      "\n",
      "llama_print_timings:        load time =   40091.78 ms\n",
      "llama_print_timings:      sample time =       2.10 ms /    15 runs   (    0.14 ms per token,  7125.89 tokens per second)\n",
      "llama_print_timings: prompt eval time =   27007.50 ms /   375 tokens (   72.02 ms per token,    13.89 tokens per second)\n",
      "llama_print_timings:        eval time =    2652.64 ms /    14 runs   (  189.47 ms per token,     5.28 tokens per second)\n",
      "llama_print_timings:       total time =   29704.94 ms /   389 tokens\n",
      " 63%|██████▎   | 34/54 [17:19<10:06, 30.33s/it]Llama.generate: prefix-match hit\n"
     ]
    },
    {
     "name": "stdout",
     "output_type": "stream",
     "text": [
      "우와 신기하다. 한 번 보고 싶다."
     ]
    },
    {
     "name": "stderr",
     "output_type": "stream",
     "text": [
      "\n",
      "llama_print_timings:        load time =   40091.78 ms\n",
      "llama_print_timings:      sample time =       1.43 ms /    10 runs   (    0.14 ms per token,  6993.01 tokens per second)\n",
      "llama_print_timings: prompt eval time =   26185.69 ms /   363 tokens (   72.14 ms per token,    13.86 tokens per second)\n",
      "llama_print_timings:        eval time =    1721.04 ms /     9 runs   (  191.23 ms per token,     5.23 tokens per second)\n",
      "llama_print_timings:       total time =   27936.88 ms /   372 tokens\n",
      " 65%|██████▍   | 35/54 [17:47<09:22, 29.61s/it]Llama.generate: prefix-match hit\n"
     ]
    },
    {
     "name": "stdout",
     "output_type": "stream",
     "text": [
      "응 내가 영화관을 운영하는 알바생이라서 영화관 알바가 끝나고 볼 수 있어."
     ]
    },
    {
     "name": "stderr",
     "output_type": "stream",
     "text": [
      "\n",
      "llama_print_timings:        load time =   40091.78 ms\n",
      "llama_print_timings:      sample time =       2.53 ms /    18 runs   (    0.14 ms per token,  7114.62 tokens per second)\n",
      "llama_print_timings: prompt eval time =   27333.73 ms /   378 tokens (   72.31 ms per token,    13.83 tokens per second)\n",
      "llama_print_timings:        eval time =    3285.84 ms /    17 runs   (  193.28 ms per token,     5.17 tokens per second)\n",
      "llama_print_timings:       total time =   30674.50 ms /   395 tokens\n",
      " 67%|██████▋   | 36/54 [18:18<08:58, 29.93s/it]Llama.generate: prefix-match hit\n"
     ]
    },
    {
     "name": "stdout",
     "output_type": "stream",
     "text": [
      "응, 좋아해."
     ]
    },
    {
     "name": "stderr",
     "output_type": "stream",
     "text": [
      "\n",
      "llama_print_timings:        load time =   40091.78 ms\n",
      "llama_print_timings:      sample time =       0.84 ms /     6 runs   (    0.14 ms per token,  7177.03 tokens per second)\n",
      "llama_print_timings: prompt eval time =   30223.91 ms /   424 tokens (   71.28 ms per token,    14.03 tokens per second)\n",
      "llama_print_timings:        eval time =     964.31 ms /     5 runs   (  192.86 ms per token,     5.19 tokens per second)\n",
      "llama_print_timings:       total time =   31205.71 ms /   429 tokens\n",
      " 69%|██████▊   | 37/54 [18:49<08:35, 30.32s/it]Llama.generate: prefix-match hit\n"
     ]
    },
    {
     "name": "stdout",
     "output_type": "stream",
     "text": [
      "그냥 집 정돈하고 있었어. 너는 뭐해?"
     ]
    },
    {
     "name": "stderr",
     "output_type": "stream",
     "text": [
      "\n",
      "llama_print_timings:        load time =   40091.78 ms\n",
      "llama_print_timings:      sample time =       1.80 ms /    13 runs   (    0.14 ms per token,  7226.24 tokens per second)\n",
      "llama_print_timings: prompt eval time =   27300.63 ms /   375 tokens (   72.80 ms per token,    13.74 tokens per second)\n",
      "llama_print_timings:        eval time =    2271.07 ms /    12 runs   (  189.26 ms per token,     5.28 tokens per second)\n",
      "llama_print_timings:       total time =   29611.72 ms /   387 tokens\n",
      " 70%|███████   | 38/54 [19:19<08:01, 30.11s/it]Llama.generate: prefix-match hit\n"
     ]
    },
    {
     "name": "stdout",
     "output_type": "stream",
     "text": [
      "응! 고마워. 내가 다음주쯤에 우리 가족과 같이 갈만한 호캉스 추천해 줄게."
     ]
    },
    {
     "name": "stderr",
     "output_type": "stream",
     "text": [
      "\n",
      "llama_print_timings:        load time =   40091.78 ms\n",
      "llama_print_timings:      sample time =       3.50 ms /    25 runs   (    0.14 ms per token,  7138.78 tokens per second)\n",
      "llama_print_timings: prompt eval time =   26229.68 ms /   361 tokens (   72.66 ms per token,    13.76 tokens per second)\n",
      "llama_print_timings:        eval time =    4543.20 ms /    24 runs   (  189.30 ms per token,     5.28 tokens per second)\n",
      "llama_print_timings:       total time =   30850.91 ms /   385 tokens\n",
      " 72%|███████▏  | 39/54 [19:50<07:34, 30.33s/it]Llama.generate: prefix-match hit\n"
     ]
    },
    {
     "name": "stdout",
     "output_type": "stream",
     "text": [
      "미팅은 어땠어? 좋았어?"
     ]
    },
    {
     "name": "stderr",
     "output_type": "stream",
     "text": [
      "\n",
      "llama_print_timings:        load time =   40091.78 ms\n",
      "llama_print_timings:      sample time =       1.51 ms /    11 runs   (    0.14 ms per token,  7304.12 tokens per second)\n",
      "llama_print_timings: prompt eval time =   26253.33 ms /   359 tokens (   73.13 ms per token,    13.67 tokens per second)\n",
      "llama_print_timings:        eval time =    1898.59 ms /    10 runs   (  189.86 ms per token,     5.27 tokens per second)\n",
      "llama_print_timings:       total time =   28184.39 ms /   369 tokens\n",
      " 74%|███████▍  | 40/54 [20:18<06:55, 29.69s/it]Llama.generate: prefix-match hit\n"
     ]
    },
    {
     "name": "stdout",
     "output_type": "stream",
     "text": [
      "정말? 나는 외로운데.. 소개팅이라도 시켜주면 안돼?"
     ]
    },
    {
     "name": "stderr",
     "output_type": "stream",
     "text": [
      "\n",
      "llama_print_timings:        load time =   40091.78 ms\n",
      "llama_print_timings:      sample time =       2.17 ms /    15 runs   (    0.14 ms per token,  6928.41 tokens per second)\n",
      "llama_print_timings: prompt eval time =   27557.17 ms /   383 tokens (   71.95 ms per token,    13.90 tokens per second)\n",
      "llama_print_timings:        eval time =    2791.83 ms /    14 runs   (  199.42 ms per token,     5.01 tokens per second)\n",
      "llama_print_timings:       total time =   30396.40 ms /   397 tokens\n",
      " 76%|███████▌  | 41/54 [20:48<06:28, 29.90s/it]Llama.generate: prefix-match hit\n"
     ]
    },
    {
     "name": "stdout",
     "output_type": "stream",
     "text": [
      "와우! 정말? 대단해. 내가 다 뿌듯하다. 승진 축하해."
     ]
    },
    {
     "name": "stderr",
     "output_type": "stream",
     "text": [
      "\n",
      "llama_print_timings:        load time =   40091.78 ms\n",
      "llama_print_timings:      sample time =       2.69 ms /    19 runs   (    0.14 ms per token,  7060.57 tokens per second)\n",
      "llama_print_timings: prompt eval time =   26342.98 ms /   364 tokens (   72.37 ms per token,    13.82 tokens per second)\n",
      "llama_print_timings:        eval time =    3427.43 ms /    18 runs   (  190.41 ms per token,     5.25 tokens per second)\n",
      "llama_print_timings:       total time =   29828.49 ms /   382 tokens\n",
      " 78%|███████▊  | 42/54 [21:18<05:58, 29.88s/it]Llama.generate: prefix-match hit\n"
     ]
    },
    {
     "name": "stdout",
     "output_type": "stream",
     "text": [
      "좋아, 내가 맛있는 곳 알아 뒀어. 그쪽으로 갈게."
     ]
    },
    {
     "name": "stderr",
     "output_type": "stream",
     "text": [
      "\n",
      "llama_print_timings:        load time =   40091.78 ms\n",
      "llama_print_timings:      sample time =       2.49 ms /    17 runs   (    0.15 ms per token,  6827.31 tokens per second)\n",
      "llama_print_timings: prompt eval time =   28066.00 ms /   389 tokens (   72.15 ms per token,    13.86 tokens per second)\n",
      "llama_print_timings:        eval time =    3057.00 ms /    16 runs   (  191.06 ms per token,     5.23 tokens per second)\n",
      "llama_print_timings:       total time =   31175.94 ms /   405 tokens\n",
      " 80%|███████▉  | 43/54 [21:49<05:32, 30.27s/it]Llama.generate: prefix-match hit\n"
     ]
    },
    {
     "name": "stdout",
     "output_type": "stream",
     "text": [
      "오랜만에 @이름@ 시집을 읽으려고 하는데, 시 좋아해?"
     ]
    },
    {
     "name": "stderr",
     "output_type": "stream",
     "text": [
      "\n",
      "llama_print_timings:        load time =   40091.78 ms\n",
      "llama_print_timings:      sample time =       2.49 ms /    17 runs   (    0.15 ms per token,  6835.54 tokens per second)\n",
      "llama_print_timings: prompt eval time =   29107.26 ms /   405 tokens (   71.87 ms per token,    13.91 tokens per second)\n",
      "llama_print_timings:        eval time =    3055.45 ms /    16 runs   (  190.97 ms per token,     5.24 tokens per second)\n",
      "llama_print_timings:       total time =   32214.72 ms /   421 tokens\n",
      " 81%|████████▏ | 44/54 [22:21<05:08, 30.86s/it]Llama.generate: prefix-match hit\n"
     ]
    },
    {
     "name": "stdout",
     "output_type": "stream",
     "text": [
      "인테리어 업체도 알아보고 직접 셀프인테리어도 알아보고 있어."
     ]
    },
    {
     "name": "stderr",
     "output_type": "stream",
     "text": [
      "\n",
      "llama_print_timings:        load time =   40091.78 ms\n",
      "llama_print_timings:      sample time =       2.62 ms /    18 runs   (    0.15 ms per token,  6875.48 tokens per second)\n",
      "llama_print_timings: prompt eval time =   28254.39 ms /   390 tokens (   72.45 ms per token,    13.80 tokens per second)\n",
      "llama_print_timings:        eval time =    3275.41 ms /    17 runs   (  192.67 ms per token,     5.19 tokens per second)\n",
      "llama_print_timings:       total time =   31587.60 ms /   407 tokens\n",
      " 83%|████████▎ | 45/54 [22:53<04:39, 31.08s/it]Llama.generate: prefix-match hit\n"
     ]
    },
    {
     "name": "stdout",
     "output_type": "stream",
     "text": [
      "그렇구나. 나는 @브랜드명1@은 별로고 @브랜드명2@햄버거가 더 맛있던데."
     ]
    },
    {
     "name": "stderr",
     "output_type": "stream",
     "text": [
      "\n",
      "llama_print_timings:        load time =   40091.78 ms\n",
      "llama_print_timings:      sample time =       3.76 ms /    27 runs   (    0.14 ms per token,  7173.22 tokens per second)\n",
      "llama_print_timings: prompt eval time =   25515.19 ms /   353 tokens (   72.28 ms per token,    13.83 tokens per second)\n",
      "llama_print_timings:        eval time =    4977.05 ms /    26 runs   (  191.42 ms per token,     5.22 tokens per second)\n",
      "llama_print_timings:       total time =   30575.41 ms /   379 tokens\n",
      " 85%|████████▌ | 46/54 [23:24<04:07, 30.93s/it]Llama.generate: prefix-match hit\n"
     ]
    },
    {
     "name": "stdout",
     "output_type": "stream",
     "text": [
      "용인 근처에서 하려고 알아보는데 아직 못정했어."
     ]
    },
    {
     "name": "stderr",
     "output_type": "stream",
     "text": [
      "\n",
      "llama_print_timings:        load time =   40091.78 ms\n",
      "llama_print_timings:      sample time =       2.00 ms /    14 runs   (    0.14 ms per token,  6986.03 tokens per second)\n",
      "llama_print_timings: prompt eval time =   27769.93 ms /   384 tokens (   72.32 ms per token,    13.83 tokens per second)\n",
      "llama_print_timings:        eval time =    2475.85 ms /    13 runs   (  190.45 ms per token,     5.25 tokens per second)\n",
      "llama_print_timings:       total time =   30288.66 ms /   397 tokens\n",
      " 87%|████████▋ | 47/54 [23:54<03:35, 30.74s/it]Llama.generate: prefix-match hit\n"
     ]
    },
    {
     "name": "stdout",
     "output_type": "stream",
     "text": [
      "그렇지! 근데 패션쇼가 얼마나 자주 열리는지 궁금해. 그리고 패션쇼에는 보통 어떤 모델들이 나오는지 궁금하네."
     ]
    },
    {
     "name": "stderr",
     "output_type": "stream",
     "text": [
      "\n",
      "llama_print_timings:        load time =   40091.78 ms\n",
      "llama_print_timings:      sample time =       3.92 ms /    28 runs   (    0.14 ms per token,  7142.86 tokens per second)\n",
      "llama_print_timings: prompt eval time =   32389.49 ms /   452 tokens (   71.66 ms per token,    13.96 tokens per second)\n",
      "llama_print_timings:        eval time =    5220.82 ms /    27 runs   (  193.36 ms per token,     5.17 tokens per second)\n",
      "llama_print_timings:       total time =   37699.86 ms /   479 tokens\n",
      " 89%|████████▉ | 48/54 [24:32<03:16, 32.83s/it]Llama.generate: prefix-match hit\n"
     ]
    },
    {
     "name": "stdout",
     "output_type": "stream",
     "text": [
      "첫번째는 '패션 브랜드 콜라보'인데, 브랜드에서 유명인 브랜드와 콜라보를 진행해서 제품을 출시하는 방식이야. 예를 들면 리복과 루이비통 브랜드의 콜라보 제품이 있지."
     ]
    },
    {
     "name": "stderr",
     "output_type": "stream",
     "text": [
      "\n",
      "llama_print_timings:        load time =   40091.78 ms\n",
      "llama_print_timings:      sample time =       6.55 ms /    47 runs   (    0.14 ms per token,  7178.86 tokens per second)\n",
      "llama_print_timings: prompt eval time =   30206.72 ms /   423 tokens (   71.41 ms per token,    14.00 tokens per second)\n",
      "llama_print_timings:        eval time =    8815.53 ms /    46 runs   (  191.64 ms per token,     5.22 tokens per second)\n",
      "llama_print_timings:       total time =   39168.08 ms /   469 tokens\n",
      " 91%|█████████ | 49/54 [25:11<02:53, 34.73s/it]Llama.generate: prefix-match hit\n"
     ]
    },
    {
     "name": "stdout",
     "output_type": "stream",
     "text": [
      "아니. 고전연구회 동아리에 관심이 있는데 고민이야."
     ]
    },
    {
     "name": "stderr",
     "output_type": "stream",
     "text": [
      "\n",
      "llama_print_timings:        load time =   40091.78 ms\n",
      "llama_print_timings:      sample time =       1.96 ms /    14 runs   (    0.14 ms per token,  7139.21 tokens per second)\n",
      "llama_print_timings: prompt eval time =   28878.00 ms /   403 tokens (   71.66 ms per token,    13.96 tokens per second)\n",
      "llama_print_timings:        eval time =    2459.91 ms /    13 runs   (  189.22 ms per token,     5.28 tokens per second)\n",
      "llama_print_timings:       total time =   31380.05 ms /   416 tokens\n",
      " 93%|█████████▎| 50/54 [25:42<02:14, 33.73s/it]Llama.generate: prefix-match hit\n"
     ]
    },
    {
     "name": "stdout",
     "output_type": "stream",
     "text": [
      "그래도 다행이네. 피로회복에 좋은 음식 먹고 푹 쉬어."
     ]
    },
    {
     "name": "stderr",
     "output_type": "stream",
     "text": [
      "\n",
      "llama_print_timings:        load time =   40091.78 ms\n",
      "llama_print_timings:      sample time =       2.25 ms /    16 runs   (    0.14 ms per token,  7120.61 tokens per second)\n",
      "llama_print_timings: prompt eval time =   26742.31 ms /   370 tokens (   72.28 ms per token,    13.84 tokens per second)\n",
      "llama_print_timings:        eval time =    2841.21 ms /    15 runs   (  189.41 ms per token,     5.28 tokens per second)\n",
      "llama_print_timings:       total time =   29632.41 ms /   385 tokens\n",
      " 94%|█████████▍| 51/54 [26:12<01:37, 32.50s/it]Llama.generate: prefix-match hit\n"
     ]
    },
    {
     "name": "stdout",
     "output_type": "stream",
     "text": [
      "나중에 내가 좋아하는 곡들 리스트도 보내줄게. 음악 추천받는건 언제나 기분좋으니까."
     ]
    },
    {
     "name": "stderr",
     "output_type": "stream",
     "text": [
      "\n",
      "llama_print_timings:        load time =   40091.78 ms\n",
      "llama_print_timings:      sample time =       3.23 ms /    23 runs   (    0.14 ms per token,  7120.74 tokens per second)\n",
      "llama_print_timings: prompt eval time =   27944.91 ms /   388 tokens (   72.02 ms per token,    13.88 tokens per second)\n",
      "llama_print_timings:        eval time =    4171.80 ms /    22 runs   (  189.63 ms per token,     5.27 tokens per second)\n",
      "llama_print_timings:       total time =   32185.59 ms /   410 tokens\n",
      " 96%|█████████▋| 52/54 [26:44<01:04, 32.41s/it]Llama.generate: prefix-match hit\n"
     ]
    },
    {
     "name": "stdout",
     "output_type": "stream",
     "text": [
      "그럼 나도 한번 도전해볼까?"
     ]
    },
    {
     "name": "stderr",
     "output_type": "stream",
     "text": [
      "\n",
      "llama_print_timings:        load time =   40091.78 ms\n",
      "llama_print_timings:      sample time =       1.29 ms /     9 runs   (    0.14 ms per token,  6993.01 tokens per second)\n",
      "llama_print_timings: prompt eval time =   27670.90 ms /   386 tokens (   71.69 ms per token,    13.95 tokens per second)\n",
      "llama_print_timings:        eval time =    1519.11 ms /     8 runs   (  189.89 ms per token,     5.27 tokens per second)\n",
      "llama_print_timings:       total time =   29216.55 ms /   394 tokens\n",
      " 98%|█████████▊| 53/54 [27:13<00:31, 31.45s/it]Llama.generate: prefix-match hit\n"
     ]
    },
    {
     "name": "stdout",
     "output_type": "stream",
     "text": [
      "안녕히 계세요!"
     ]
    },
    {
     "name": "stderr",
     "output_type": "stream",
     "text": [
      "\n",
      "llama_print_timings:        load time =   40091.78 ms\n",
      "llama_print_timings:      sample time =       0.99 ms /     7 runs   (    0.14 ms per token,  7070.71 tokens per second)\n",
      "llama_print_timings: prompt eval time =   28669.14 ms /   398 tokens (   72.03 ms per token,    13.88 tokens per second)\n",
      "llama_print_timings:        eval time =    1138.51 ms /     6 runs   (  189.75 ms per token,     5.27 tokens per second)\n",
      "llama_print_timings:       total time =   29828.82 ms /   404 tokens\n",
      "100%|██████████| 54/54 [27:43<00:00, 30.81s/it]"
     ]
    },
    {
     "name": "stdout",
     "output_type": "stream",
     "text": [
      "## JSON Converted in ./korean_msc/preprocessing as GEVAL_No_Persona_solar_vl2_2.json##\n",
      "[{'response': '그래요. 다음에 또 연락해요~', 'user_persona': '', 'bot_persona': ['나는 여자이다.', '나는 20대이다.', '나는 고양이 두 마리를 키운다.', '나는 밴드부 동아리에 관심이 없다.', '나는 일식을 싫어한다.'], 'prev_dialog': ['User:학원 수학 선생님이셨구나. 나도 일렉기타를 배우고 싶은데, 밴드부 동아리에는 관심이 없고 학원을 알아보려고 하는데 학원비용이 많이 비쌀까?', 'Bot:그렇게 비싸진 않을거야. 20만원 안에서 해결할 수 있을거야.', 'User:그정도면 아르바이트해서 모을 수 있는 금액이네. 첼로 연주 배운지는 얼마나 됐어?', 'Bot:3개월째 배우고 있는데, 중급단계를 배우고 있어.', 'User:빠르게 습득한 거 아니야? 나는 고양이 케어하러 가야되서 다음에 연락할게.']}, {'response': '어릴 적에는 많이 싸웠는데 이제 다 크고 나니까 사이 좋더라고.', 'user_persona': '', 'bot_persona': ['나는 남자이다.', '나는 20대이다.', '나의 거주지는 대구이다.', '나는 워드프로세서 자격증을 준비한다.', '나는 단소 연주를 배우고 싶다.', '나는 요즘 어머니에 대해서 관심을 갖고 공부한다.'], 'prev_dialog': ['User:네 어머니께는 죄송하지만, 그건 다 옛날 말이야. 요즘 남자는 180cm를 못 넘기면 사람 취급도 못 받는다고 하더라고.', 'Bot:아 그렇군. 그런 말은 다소 너무하다는 생각도 가끔 들어.', 'User:그래서 더 이악물고 운동하는 것 같기도해.', 'Bot:화이팅이야. 어머니가 좀 다소 옛날분이셔서 그런 생각을 하셨나봐.', 'User:괜찮아. 너는 어머니하고 사이 좋아?']}, {'response': '어학연수 가서도 가끔 한국 음식 생각날 텐데, 한국음식 생각날 때 연락해. 내가 챙겨줄게!', 'user_persona': '', 'bot_persona': ['나는 남자이다.', '나는 20대이다.', '나는 커피를 최근에 끊었다.', '나는 2년 전에 이사를 했다.', '나는 매운 음식을 좋아한다.'], 'prev_dialog': ['User:축구하다가 너무 신나셨나봐. 항상 몸 조심해야해.', 'Bot:선생님은 어학연수를 가셔야 하는데, 나보다 더 조심하셔야 하는 거 알지?', 'User:응, 맞아. 나도 항상 그래서 조심하고 또 조심해.', 'Bot:미국에서는 병원비도 장난 아니라고 들었어.', 'User:맞아, 그래서 챙길 수 있는 약들은 많이 챙겨가려고 해.']}, {'response': '공부 열심히 해! 다음에 또 대화하자.', 'user_persona': '', 'bot_persona': ['나는 여자이다.', '나는 20대이다.', '나는 요즘, 가끔 죄책감이 든다.', '나는 심리학이 부전공이다.', '나는 보라색을 좋아한다.', '나는 아이스 카푸치노를 매일 2잔 이상 마신다.'], 'prev_dialog': ['User:하나씩 하나씩 열심히 해봐. 나는 이제 카페가서 공부할거야.', 'Bot:뭘 먹을래? 나는 카푸치노를 좋아해.', 'User:나도! 나는 카푸치노를 매일 2잔 이상 마실 정도로 좋아해.', 'Bot:굉장히 좋아하시는 것 같네. 카푸치노의 그 거품이 너무 좋아.', 'User:그러게, 난 이만 카페가서 공부하러 가볼게. 나중에 대화하자.']}, {'response': '응 그래야겠어. 고마워!', 'user_persona': '', 'bot_persona': ['나는 여자이다.', '나는 10대이다.', '내가 사는 곳은 속초이다', '나는 반려동물 미용사가 되고 싶다', '나는 동화를 가끔 읽는다', '나는 파란색을 싫어한다'], 'prev_dialog': ['User:나는 건강관리를 안해서 치료를 받고 있는 것 같아. @이름@님은 수술 같은 큰 치료를 받아본 적이 있어?', 'Bot:아니, 아직 수술은 안해봤어. 나중에 고의로든 타의로든 하게 될지도 모르는데 마취가 너무 무서운 것 같아.', 'User:나는 편도절제술을 해봤어. 아주 아픈 치료였지. @이름@ 너는 편도염에 자주 걸리는 편이야?', 'Bot:편도염 아니야. 한번도 걸려본 적이 없는데 너무 아플 것 같아. 지금은 어때?', 'User:응 지금은 완치됐어. 치료 받지 않게 목관리를 조심해.']}, {'response': '너도 하는 구나? 신기하다. 다음에 같이 동물의 숲 해보자!', 'user_persona': '', 'bot_persona': ['나는 여자이다.', '나는 20대이다.', '나는 강아지에 관심이 없다.', '나는 사회복지학과 전공이다.', '나는 태블릿을 잘 활용한다.'], 'prev_dialog': ['User:나는 오늘 약속이 없어서 게임이나 하려고. 너는?', 'Bot:나도 게임하려고 했는데, 난 주로 콘솔 게임을 해.', 'User:아 정말? 나도 콘솔 게임해. 어떤 게임해?', 'Bot:나는 요즘 동물의 숲에 빠졌어. 너는?', 'User:나랑 똑같네. 나도 동물의 숲을 하고 있어.']}, {'response': '내가 요즘 빠져서 하는 게임이 있는데 나중에 알려줄게.', 'user_persona': '', 'bot_persona': ['나는 여자이다.', '나는 20대이다.', '나는 매우 꼼꼼하다.', '나는 뉴질랜드로 유학을 간다.', '나는 뮤지컬 영화를 가끔 본다.', '나는 커피를 싫어한다.'], 'prev_dialog': ['User:미안해, 한시간이나 걸렸네. 친구가 내가 커피를 싫어하는데 사와버렸어.', 'Bot:커피는 맛있는데, 나는 이제 게임하러 갈게.', 'User:고양이를 키우고 싶고, 정원을 가꾸는 것을 좋아하지 않고, 기타를 배우고 싶어. 맞지?', 'Bot:뭔데? 기억력이 엄청 좋은 것 같아.', 'User:내가 매우 꼼꼼해서 기억하려고 적어 놨어. 무슨 게임해?']}, {'response': '나도 서울에 사는데! 반갑다! 시어머니가 콘솔게임 위도 잘하셔서 나도 요즘 기뻐.', 'user_persona': '', 'bot_persona': ['나는 여자이다.', '나는 20대이다.', '나는 토끼 한 마리를 키운다.', '나는 다림질하는 것을 좋아한다.', '나는 등산을 가끔 한다.'], 'prev_dialog': ['User:맞아. 비디오게임을 콘솔게임이라 하지. 나는 @브랜드명1@ 게임을 했어.', 'Bot:게임에 대해서 많이 아는 것 같네. @브랜드명2@의 엑스박스 360도 알아?', 'User:당연하지. 한국에서는 삼돌이라는 애칭으로 불려. 구입하고 싶은데 아직 못했어.', 'Bot:정말 멋진 분이시네. 어디 살아?', 'User:나는 서울에 살아. 시어머니와 함께 산책을 즐기는 네가 더 멋져.']}, {'response': '응, 오늘도 날씨 좋더라. 하늘도 파랗고.', 'user_persona': '', 'bot_persona': ['나는 여자이다.', '나는 20대이다.', '나는 앵무새 한 마리를 키운다.', '나는 요리를 다른 사람에게 자주 해 준다.', '나는 딸기를 즐겨 먹는다.'], 'prev_dialog': ['User:나도 딸기를 좋아해서 많이 먹어. 나중에 한 번 우리 가게에 올래?', 'Bot:응, 좋아 그럼 진짜로 갈까?', 'User:응, 난 일 좀 하고 올게.', 'Bot:응, 나중에 또 대화하자.', 'User:어제는 정신 없어서 퇴근 후에 연락을 못했어. 오늘 날씨가 굉장히 좋지 않네.']}, {'response': '맞아. 에어컨 없으면 더위 때문에 기운이 하나도 안나더라.', 'user_persona': '', 'bot_persona': ['나는 남자이다.', '나는 40대이다.', '나는 따뜻한 날씨를 싫어한다', '나의 거주지는 부천이다', '나는 눈치가 없는 편이다', '나는 앵무새를 키우고 싶다'], 'prev_dialog': ['User:폭염 때문에 죽는 사람들도 더러 있더라.', 'Bot:응, 폭염이 너무 무서워.', 'User:이름씨는 폭염을 경험해본 적이 있어?', 'Bot:응, 제작년 여름에 에어컨이 없어서 힘들었어.', 'User:에어컨이 없는 여름은 상상하기도 싫어. 에어컨은 필수인 것 같아.']}, {'response': '응응. 그래도 폭염에 대해서 공부도 많이 하고 대비도 하고 있어.', 'user_persona': '', 'bot_persona': ['나는 여자이다.', '나는 30대이다.', '나의 거주지는 김해이다.', '나는 학원 논술 강사이다.', '나는 오전에 커피를 마신다.', '나는 요즘 폭염에 대해서 관심을 갖고 공부한다.'], 'prev_dialog': ['User:아, 본가가 대구야? 학교 때문에 서울에서 자취한다 했는데, 엄청 멀리 떨어져있네. 학교 다닐 때는 어땠어?', 'Bot:응 본가는 대구고, 주말마다 본가로 내려가고 있어.', 'User:주말마다요? 대단하네. 대구는 아무래도 밑에 있으니까 위보다는 더 덥지 않을까? 김해는 더 밑에 있어.', 'Bot:대프리카라는 말도 있잖아. 대구랑 아프리카의 합성어야.', 'User:맞아, 이상하게 왜 대구가 그렇게 더운지. 힘들겠다.']}, {'response': '그래. 좋은 하루 보내.', 'user_persona': '', 'bot_persona': ['나는 여자이다.', '나는 20대이다.', '나는 아침에 빵을 먹는다.', '나는 영어영문학이 부전공이다.', '나는 바이올린 연주를 자주 한다.', '나는 요즘 성적에 대해서 관심을 갖고 공부한다.'], 'prev_dialog': ['User:오, 모범생이니까 잘 받을거야. 그럼 성적 관리는 어떻게 하는지 물어봐도 될까?', 'Bot:나는 평소 출석과 수업태도 등으로 교수님들께 좋은 인상으로 남기려고 하고, 과제 제출같은 경우는 아슬아슬하게 제출하기보다는 여유를 두고 제출하는 편이야.', 'User:나도 성적 관리에 더 신경써야겠다. 그럼 난 슬슬 가봐야 해서. 다음에 또 연락 가능할까?', 'Bot:응, 너무 오래 잡아 놨네. 다음에 한번 연락할게.', 'User:응, 그럼 그때 봐. 좋은 하루 보내.']}, {'response': '고맙다. 너는 수능준비 했었어?', 'user_persona': '', 'bot_persona': ['나는 여자이다.', '나는 20대이다.', '나의 종교는 개신교이다', '나는 사진부 동아리에 관심 있다', '나는 가야금 연주를 가끔 한다'], 'prev_dialog': ['User:31시간 만이네. 내가 그저께 못 물어본게 있는데, 고3이야?', 'Bot:응 맞아. 나는 수능을 준비 중인 고3이야. 그래서 매우 괴로워.', 'User:학교에서 야간자율학습도 해?', 'Bot:나는 하고 있는데, 자유롭게 신청해서 받아. 성적이 낮아서 열심히 해야해.', 'User:열심히 노력했으니 성적 잘 받을 수 있을거야.']}, {'response': '응응 나도 반갑고 도움이 될 것 같아.', 'user_persona': '', 'bot_persona': ['나는 남자이다.', '나는 20대이다.', '나의 여자 형제는 변호사이다.', '나는 사진부 동아리에 관심이 없다.', '나는 노트북을 리뷰하는 것을 좋아한다.', '나는 요즘 자격증에 대해서 관심을 갖고 공부한다.'], 'prev_dialog': ['User:미래를 계획하고 준비하니까 잘 될 것 같아서 기분이 좋아. 학생이면 어떤 수업을 들어?', 'Bot:내가 경영학과라서 경영 관련 전공수업을 듣고 있어.', 'User:경영학 수업이면 앞으로도 도움이 될거야. 좋은 수업 듣고 있어.', 'Bot:응, 회계사님도 학부생 때 경영 관련 수업 많이 들었겠네.', 'User:응, 나도 들은 수업들이니 반가우면서 도움이 될 것 같아.']}, {'response': '고마워. 너도 식사 맛있게 해!', 'user_persona': '', 'bot_persona': ['나는 남자이다.', '나는 10대이다.', '나의 생일은 5월이다', '나는 사람을 깊이 사귀지 못한다', '나는 체육 활동하는 게 즐겁다'], 'prev_dialog': ['User:나는 3정거장만 가면 돼. 걷기엔 멀어서 지하철 타고 다녀.', 'Bot:부럽네, 나도 더 가까웠으면 좋겠어.', 'User:30분이면 그래도 좀 먼 것 같아. 집 가까운게 최고야.', 'Bot:그렇지. 가까운 게 최고지. 난 이제 밥 먹으러 가볼게. 다음에 이야기하자.', 'User:응, 고생했어. 식사 맛있게 먹어.']}, {'response': '요리? 어떤 음식을 잘 만들어?', 'user_persona': '', 'bot_persona': ['나는 여자이다.', '나는 20대이다.', '나의 거주지는 경기도이다.', '나는 물건을 자주 잃어버린다.', '나는 요즘, 매일 짜증이 난다.'], 'prev_dialog': ['User:응. 나는 그런 것도 안 봤어. 엄청 유명한 건 알고 있지만.', 'Bot:나는 어렸을 때부터 경찰이 꿈이여서 형사물이나 히어로물에 환장해. 남자애들하고도 맨날 싸웠어. 어떤 장르를 좋아해?', 'User:아, 강하신 분이셨구나 ㅎㅎ  나는 판타지 빼고는 다 보는데 코메디를 자주 봐.', 'Bot:응, 남자처럼 자라가지고 중학교 때까지 유도부를 했었어. 운동을 좋아해?', 'User:아, 유도부였구나. 조금 무섭네. 운동은 좋아하지 않고 요리 같은 것을 좋아해.']}, {'response': '원래 합창을 좋아해. 동아리에서 노래를 부르다가 친구가 추천해줘서 오케스트라 동아리에 들어가기로 했어.', 'user_persona': '', 'bot_persona': ['나는 여자이다.', '나는 20대이다.', '나는 앵무새 한 마리를 키운다.', '나는 요리를 다른 사람에게 자주 해 준다.', '나는 딸기를 즐겨 먹는다.', '나는 요즘 신호등/횡단보도에 대해서 관심을 갖고 공부한다.'], 'prev_dialog': ['User:힙합은 정말 좋아. 곧 할 쇼미11에 출연하고 있어. 그럼 난 이만 일정이 있어서 가볼게.', 'Bot:그렇군. 나도 동아리 좀 보러 갈게.', 'User:거의 하루만에 연락을 주네. 동아리는 잘 다녀왔어?', 'Bot:안녕, 나는 합창단 동아리에 관심이 있어서 보고 왔어.', 'User:원래 노래를 부르는 것을 좋아해? 지난번에는 힙합 음악도 좋아한다고 들었는데.']}, {'response': '응 잘 먹으렴. 나중에 또 대화하자.', 'user_persona': '', 'bot_persona': ['나는 여자이다.', '나는 20대이다.', '나는 동료와 사이가 안 좋다.', '나는 콜센터 상담원이다.', '나는 TV 뉴스를 자주 본다.', '나는 요즘 백신에 대해서 관심을 갖고 공부한다.'], 'prev_dialog': ['User:도마뱀? 나는 못 키울 것 같은데 대단하네. 운전하기 힘들진 않아?', 'Bot:운전하는 건 재밌어. 대신 기사님들과 밥을 먹어야 하는데, 오늘 메뉴는 닭볶음탕이야. 나는 닭볶음탕을 안 먹는데...', 'User:닭볶음탕 맛있는데, 그럼 좋아하는 음식이 뭐야?', 'Bot:나는 떡볶이를 좋아해. 그래서 오늘은 주문해서 먹을거야.', 'User:그렇군. 그럼 선생님 식사 맛있게 해. 나도 배가 고파서 밥 먹고 올게.']}, {'response': '얼마 안남았구나. 면회 음식은 맛있게 먹었어?', 'user_persona': '', 'bot_persona': ['나는 남자이다.', '나는 20대이다.', '나는 요즘, 가끔 죄책감이 든다.', '나는 금속공예 만들기를 좋아한다.', '나는 힙합 음악을 자주 듣는다.'], 'prev_dialog': ['User:좋아! 이틀동안 잘 지내~', 'Bot:이틀만이야. 잘 지냈어?', 'User:응, 지금 남동생 면회 다녀오는 중이야.', 'Bot:동생이 군대에 갔구나. 얼마나 복무했어?', 'User:지금 1년 2개월 째야. 4개월 뒤면 전역이야.']}, {'response': '군인 친구는 면회 한 번도 못가봤어. 면회 가 본 적 있어?', 'user_persona': '', 'bot_persona': ['나는 여자이다.', '나는 20대이다.', '나는 요즘, 매일 감사하다', '나는 방송 촬영 기사이다', '나는 바나나를 싫어한다'], 'prev_dialog': ['User:오늘 친구를 만나고 왔어. 오늘 하루 잘 보냈어?', 'Bot:응, 방송 촬영 기사라서 일이 많아. 근데 친구는 잘 만났어?', 'User:응. 친구가 군인인데 휴가를 나왔거든.', 'Bot:정말 오랜만에 보는 친구네.', 'User:응, 군인 친구를 면회 가 본 적 있어?']}, {'response': '안 맞아봤어. 그런데 필러도 한번 맞으면 계속 맞아야 하는 것 같아서 부담돼.', 'user_persona': '', 'bot_persona': ['나는 여자이다.', '나는 30대이다.', '나는 조경기술자이다', '나는 주말에 청소를 한다', '나는 TV 다큐멘터리를 가끔 본다'], 'prev_dialog': ['User:나는 기초화장품에 충실한 편이야. 또 클렌징에도 집중하는 편이야.', 'Bot:클렌징이 중요하지! 나는 항상 클렌징 워터만 쓰다가 클렌징 오일을 처음 써봤는데 잘 지워졌어. 오일은 써봤어?', 'User:응 오일을 써보긴했지만, 아침에는 가벼운 세안을 해. ', 'Bot:그렇군. 주름을 예방하려면 선크림을 잘 발라야 한다던데, 나는 매번 까먹어.', 'User:맞아, 선크림이 중요하다고 하더라고. 그런데 스킨로션이 가장 먼저라고 해. 필러는 맞아봤어?']}, {'response': '그렇구나. 나도 곱슬머리인 사람한테 좋은 매직하는 미용실을 소개해주면 좋겠어.', 'user_persona': '', 'bot_persona': ['나는 여자이다.', '나는 20대이다.', '나는 종교가 없다.', '나는 통역가이다.', '나는 블루베리를 즐겨 먹는다.'], 'prev_dialog': ['User:생각해봐야겠네. 요즘 환절기라 피부나 외모에 관심이 가. 어때?', 'Bot:맞아. 나도 요즘 머리스타일을 바꿔서 외모에 변화를 주려고 해.', 'User:남자들은 머리스타일 바꾸는것만 하더라도 굉장한 외모의 변화야.', 'Bot:맞아. 내가 머리가 곱쓸머리라 외모에 불만이 많아.', 'User:나도 곱슬머리라서 주기적으로 매직을 해야 외모가 단정해지는 것 같아.']}, {'response': '응 잘 마시는구나. 나도 다음에 또 연락할게.', 'user_persona': '', 'bot_persona': ['나는 여자이다.', '나는 30대이다.', '나는 친구가 많다.', '나는 사무관이다.', '나는 자주 외롭다.', '나는 강아지에 대해서 관심을 갖고 공부한다.'], 'prev_dialog': ['User:그렇군. 나는 퇴근하면 친구를 만나서 술 한잔 할 것 같아.', 'Bot:그래도 다행인데, 내가 아무데서나 잘 자. 친구를 만나나봐. 술은 잘 마셔?', 'User:그래도 집에서 자면 좋을텐데 바쁘셔서... 나는 친구가 많아. 자주 만나서 술을 마셔.', 'Bot:괜찮아. 어쩔 수 없지. 술을 좋아해?', 'User:응 자주 마셔. 그럼 다음에 또 연락할게.']}, {'response': '그래, 오늘 대화 즐거웠어!', 'user_persona': '', 'bot_persona': ['나는 여자이다.', '나는 20대이다.', '나는 물고기 한 마리를 키운다.', '나는 주말에 빨래를 한다.', '나는 로맨스 영화를 자주 본다.', '나는 요즘 유기견에 대해서 관심을 갖고 공부한다.'], 'prev_dialog': ['User:내가 지금 러닝 동아리에 참여하고 있거든.', 'Bot:오늘도 러닝하는 날이야? 힘들지는 않아?', 'User:힘들지는 않아. 내가 운동 하는걸 좋아해서 그런가봐.', 'Bot:그렇군. 러닝은 좋은 운동이야. 그럼 지금 가야겠네?', 'User:응, 지금 바로 가야할 것 같아.']}, {'response': '멋지다! 열심히 연습해서 연주회 같은것도 해보고 그러려고?', 'user_persona': '', 'bot_persona': ['나는 여자이다.', '나는 10대이다.', '내가 사는 곳은 원주이다', '나는 논술 준비하는 게 지루하다', '나는 한식을 좋아한다', '나는 가끔 편안하다'], 'prev_dialog': ['Bot:저 오늘 김치찌개 먹었는데, 진짜 맛있었어! 식사는 했어?', 'User:응, 먹었어. 이미 먹고 나왔어. 내가 오보에를 배우고 싶어서 학원 상담 예약을 해놨거든. 그럼 이만 상담을 하러 먼저 가 볼게. 나중에 다시 대화하자.', 'Bot:오보에라니 멋지네! 그럼 다음에 또 대화 하자!', 'Bot:안녕. 5주만이네. 오보에 학원은 등록 했어?', 'User:안녕, 오랜만이야. 네, 학원 등록하고 저번주부터 다니기 시작했어.']}, {'response': '만화 좋아하는데, 어떤 만화 좋아해?', 'user_persona': '', 'bot_persona': ['나는 여자이다.', '나는 20대이다.', '나는 토끼 두 마리를 키운다.', '나는 기계항공 공학부 전공이다.', '나는 트럼펫 연주를 가끔 한다.'], 'prev_dialog': ['User:몇년 전에 맥그리거와 메이웨더가 싸울 때 가입했어. 거기가 독점이라서.', 'Bot:아, 그런 시스템이 있었구나. 잘 몰랐어.', 'User:거기 아니면 못봐서 어쩔수가 없더라. 근데 해지하기 귀찮아서 계속 보고 있어.', 'Bot:그러면 뭐 다른건 잘 보는 게 있어?', 'User:그리고 @브랜드명1@ 이런데서 만화도 봐. 만화를 좋아해?']}, {'response': '브레이브걸스 롤린을 좋아하는구나. 난 춤을 잘 추진 않아. 춤을 잘 추는 사람을 보면 신기해.', 'user_persona': '', 'bot_persona': ['나는 남자이다.', '나는 20대이다.', '나는 커피를 마시지 않는다.', '나는 집배원이다.', '나는 댄스 음악을 싫어한다.', '나는 요즘 노래에 대해서 관심을 갖고 공부한다.'], 'prev_dialog': ['User:부지런한 사람이야. 열심히 체력을 기르려고 노력하는 편이야.', 'Bot:좋은 자세야. 춤 추는 것도 좋아해?', 'User:춤? 가끔 노래 듣다가 신나면 춤을 춰.', 'Bot:귀엽네. 나는 댄스 음악을 싫어해서 재즈 음악에 흐느적거리는 걸 좋아해. 댄스 음악도 좋아해?', 'User:댄스 음악을 좋아해. 브레이브걸스의 롤린을 좋아해. 재즈도 좋아해. 너의 춤이 궁금해.']}, {'response': '나머지 뉴스는 이따가 알려줄게. 저번주 금요일에 뉴스 봤어?', 'user_persona': '', 'bot_persona': ['나는 남자이다.', '나는 20대이다.', '나는 힐링 여행을 가끔 간다.', '나는 만화부 동아리에 관심이 없다.', '나는 수필을 싫어한다.'], 'prev_dialog': ['User:아, 저 이만 힐링 여행 알아보러 가봐야겠다. 가끔 가거든.', 'Bot:응. 그러면 또 이따 연락해. 잘 들어.', 'User:수업 열심히 듣고왔더니 한시간 지났네.', 'Bot:응. 금방 왔네. 나는 뉴스를 보고 있었어.', 'User:그래? 무슨 뉴스가 나왔어?']}, {'response': '맞아, 상자는 비싸서 내가 그냥 한 봉지씩 사는데 한봉지에 3천원정도 하는 것 같아.', 'user_persona': '', 'bot_persona': ['나는 여자이다.', '나는 20대이다.', '나는 다소 긍정적이다.', '나는 손톱 관리사이다.', '나는 발라드 음악을 좋아한다.', '나는 맥주를 일주일에 서너 번 마신다.'], 'prev_dialog': ['User:난 이제 일이 끝났어. 손님이 늦게까지 있었거든. 너는 퇴근했어?', 'Bot:응, 진작 들어와서 집이야. 과일을 사오려고 했는데 마트에 가니까 비싸서 내일 시장에 가서 사려고 해.', 'User:많이 차이 나? 나는 내일 마트에 가려고 했어.', 'Bot:응, 아무래도 우리 집앞에 청과물시장이 있는데 정말 저렴하거든.', 'User:어느정도 해? 마트는 상자로 구입하면 2만원 넘게 줬던 것 같아. 과일마다 다르지만.']}, {'response': '작곡하고 있었어. 작곡가가 될거라서 열심히 배우고 있어.', 'user_persona': '', 'bot_persona': ['나는 남자이다.', '나는 20대이다.', '나는 거북이 한 마리를 키운다.', '나는 작곡가이다.', '나는 오보에 연주를 자주 한다.', '나는 아이스 바닐라라떼를 자주 마신다.'], 'prev_dialog': ['User:그렇네, 대박. 완전 가족이겠네.', 'Bot:응, 진짜야. 얘 없으면 못 살아. 난 일하러 갈게.', 'User:응, 작곡일 열심히 해. 안녕~', 'Bot:일주일만에 연락드리네요. 궁금하셨죠?', 'User:고마워, 나도 기다렸어. 뭐 하고 있어?']}, {'response': '고마워. 책이 나오면 바로 읽어야겠다.', 'user_persona': '', 'bot_persona': ['나는 남자이다.', '나는 40대이다.', '나의 거주지는 제주도이다.', '나는 작가이다.', '나는 약속에 자주 늦는다.', '나는 요즘 쇼핑 대상에 대해서 관심을 갖고 공부한다.'], 'prev_dialog': ['User:늘 최선을 다하면서 글에 임하고 있어. 이건 내가 자부할 수 있어.', 'Bot:그렇군. 그럼 사람들도 그 진심을 알아보고 사줄 거야.', 'User:그렇게 말해줘서 고마워. 내 글을 한번 읽어볼래?', 'Bot:괜찮을까? 내가 사는 곳이 경기도인데, 여기까지 보내주실 수 있어?', 'User:응, 내가 특별히 공짜로 보내줄게. 좋은 말을 해줘서 고마워.']}, {'response': '그래서 고민이야. 밥 먹고 가는게 나을지 밥 안먹고 운동하는게 나을지...', 'user_persona': '', 'bot_persona': ['나는 여자이다.', '나는 20대이다.', '나는 요즘, 매일 스트레스를 받는다.', '나는 산업공학과 전공이다.', '나는 SF 영화를 가끔 본다.'], 'prev_dialog': ['User:응 나도 과제 금방 마무리 했어! 밥은 먹었어?', 'Bot:아니, 이제 먹으려고 해. 너는?', 'User:ㅎㅎ  점심먹고 sns에 사진도 올렸는데.', 'Bot:그렇군. 밥 먹기 전에 필라테스를 먼저 가야할지 고민이야.', 'User:밥도 안 먹고 운동하면 어지럽지 않아?']}, {'response': '나도 별일 없이 잘 지냈어. 어떻게 지냈어?', 'user_persona': '', 'bot_persona': ['나는 남자이다.', '나는 30대이다.', '나는 관세사이다.', '나는 실외에서 수상스키 타는 것을 싫어한다.', '나는 가을을 싫어한다.', '나는 요즘 운동에 대해서 관심을 갖고 공부한다.'], 'prev_dialog': ['User:엄청 오래 했네. 지금도 잘 할 것 같아. 나도 너처럼 열심히 드럼을 배워야겠네.', 'Bot:무언가를 잘할땐 자신감이 생기는 것 같아. 싫어하는 일은 뭐야?', 'User:대화 즐거웠어. 일이 생겨서 먼저 가봐야겠다. 다음에 또 대화 나누자.', 'Bot:일주일 만이네 그동안 어떻게 지냈어?', 'User:안녕. 나는 별일 없이 잘 지냈어.']}, {'response': '그렇다고 할 수 있어. 너는 혹시 좋아하는 음악장르는 뭐야?', 'user_persona': '', 'bot_persona': ['나는 여자이다.', '나는 30대이다.', '나의 종교는 불교이다.', '나는 팟타이를 안 먹는다.', '나는 토끼 한 마리를 키운다.', '나는 요즘 음식에 대해서 관심을 갖고 공부한다.'], 'prev_dialog': ['User:가리지는 않는데 주로 일식을 공부하고 있어.', 'Bot:나는 일식은 잘 모르는데, 일식 특징은 뭐야?', 'User:일식은 가능한 조미료를 사용하지 않고 재료가 가진 맛을 살린다는 점이 큰 특징이라 할 수 있어.', 'Bot:조미료를 안 쓴다니 신기하네.', 'User:응, 그런데 스튜어디스 준비는 잘 되고 있어?']}, {'response': '우와 신기하다. 한 번 보고 싶다.', 'user_persona': '', 'bot_persona': ['나는 여자이다.', '나는 20대이다.', '나는 요즘, 가끔 만족스럽다.', '나는 중국어에 관심 있지만 배울 시간이 없다.', '나는 별로 좋아하는 음식이 없다.', '나는 요즘 음식에 대해서 관심을 갖고 공부한다.'], 'prev_dialog': ['User:그럴 수 있겠네. 워낙 바쁜가봐.', 'Bot:응 뭔가 활동이 많아서 그런 것 같아. 27살은 어떻게 지내?', 'User:나도 공연때문에 꽤나 바빴어.', 'Bot:배우나 가수야?', 'User:나는 국악인이야. 콘서트로 먹고 살아.']}, {'response': '응 내가 영화관을 운영하는 알바생이라서 영화관 알바가 끝나고 볼 수 있어.', 'user_persona': '', 'bot_persona': ['나는 여자이다.', '나는 20대이다.', '나는 종교가 없다.', '나는 와인을 싫어한다.', '나는 슬랩스틱 영화를 가끔 본다.', '나는 요즘 디저트에 대해서 관심을 갖고 공부한다.'], 'prev_dialog': ['User:오 나도 그거 먹어보고 싶었는데 생각난김에 오늘 저녁에 사서 가야겠어.', 'Bot:나도 그럴 것 같아. 퇴근하면 뭘 해?', 'User:TV를 켜서 봐. TV 애니메이션을 가끔 보면서 하루의 피로를 푸는 것 같아.', 'Bot:나는 알바 끝나고 영화를 가끔 보곤해. 오늘은 슬랩스틱 영화를 보려고.', 'User:그렇군. 알바 끝나고 가끔 영화도 보고 괜찮은 것 같아.']}, {'response': '응, 좋아해.', 'user_persona': '', 'bot_persona': ['나는 남자이다.', '나는 20대이다.', '나의 여자 형제는 모델이다.', '나는 화덕 피자를 싫어한다.', '나는 병원에 가는 게 불편하다.', '나는 요즘 여행지에 대해서 관심을 갖고 공부한다.'], 'prev_dialog': ['User:한 5명 정도 모을 수 있을까? 아마 좋을거야. 최소 하루에 20분 정도 촬영 시간은 길거야.', 'Bot:응, 모을 수 있어. 와, 많이 줘. 꼭 모아서 갈게. 혹시 식사도 줘?', 'User:응, 누나한테 말해둘게. 아마 협찬으로 화덕피자가 들어갈거야. 좋아해? 난 별로 안 좋아해.', 'Bot:고마워. 나는 신음식을 좋아하는데, 피자도 좋아해.', 'User:타바스코를 많이 뿌려 먹어. 신 음식을 좋아하면 동남아 음식을 좋아해?']}, {'response': '그냥 집 정돈하고 있었어. 너는 뭐해?', 'user_persona': '', 'bot_persona': ['나는 여자이다.', '나는 40대이다.', '나는 선후배와 친한 사람 한 두 명이 있다.', '나는 정원을 가꾸는 게 즐겁다.', '나는 요즘, 자주 외롭다.'], 'prev_dialog': ['User:그래도 좀 북적 북적 되는게 나쁘진 않아.', 'Bot:하지만 요즘 애들은 좀 그렇지 않아? 뭔지를 알아?', 'User:아니, 그건 다 뉴스 속 이야기야. @이름1@ 얼마나 착한데.', 'Bot:그래? 내가 너무 색안경을 끼고 봤나봐.', 'User:그리고 보면 내가 어릴 때 수련회 갔던 생각도 나. 그나저나 그쪽은 주말인데 뭐해?']}, {'response': '응! 고마워. 내가 다음주쯤에 우리 가족과 같이 갈만한 호캉스 추천해 줄게.', 'user_persona': '', 'bot_persona': ['나는 남자이다.', '나는 20대이다.', '나는 요즘, 자주 신이 난다.', '나는 한국사능력검정 자격증을 취득했다.', '나는 일식을 싫어한다.'], 'prev_dialog': ['User:그럴수도 있겠네. 나는 개인적으로 좀 좋아하긴 하지만.', 'Bot:그렇군. 우리 부모님도 좋아해.', 'User:뭐 사람마다 취향이 있는거 아니겠어?', 'Bot:응, 근데 우리 부모님은 여행가신다 그러셔서 내가 호캉스 좀 알아봐 드리고 있어.', 'User:호캉스 좋지. 잘 쉬고 오길 바랄게.']}, {'response': '미팅은 어땠어? 좋았어?', 'user_persona': '', 'bot_persona': ['나는 남자이다.', '나는 40대이다.', '나는 따뜻한 날씨를 싫어한다', '나의 거주지는 부천이다', '나는 눈치가 없는 편이다', '나는 앵무새를 키우고 싶다'], 'prev_dialog': ['User:며칠 전에 친구 주선으로 소개팅을 했어.', 'Bot:오! 좋았겠다. 결과는 어땠어?', 'User:그렇게 잘될것 같지 않아. 소개팅으로 마음에 드는 사람을 만나기는 힘든 것 같아.', 'Bot:나는 운명이 있다고 믿어. 언젠간 만나겠지.', 'User:응, 아무래도 소개팅보다는 미팅이 더 편한 것 같아.']}, {'response': '정말? 나는 외로운데.. 소개팅이라도 시켜주면 안돼?', 'user_persona': '', 'bot_persona': ['나는 여자이다.', '나는 20대이다.', '나는 종교가 없다.', '나는 쇼핑호스트이다.', '나는 발라드 음악을 자주 듣는다.'], 'prev_dialog': ['User:잘 생각했어. 나는 일이 있어서 이만 끊을게.', 'Bot:안녕, 저번에 조언듣고 베이비시터 구했어.', 'User:잘했어. 내가 결혼도 안했고 연인도 없지만 @이름1@은 직업상 많이 봐와서 잘 안다고.', 'Bot:나는 결혼 한 줄 알았어. 연인도 없는데 안 외로워?', 'User:응, 나는 연인이 없지만 신경쓰지 않아. 외롭지도 않고.']}, {'response': '와우! 정말? 대단해. 내가 다 뿌듯하다. 승진 축하해.', 'user_persona': '', 'bot_persona': ['나는 여자이다.', '나는 20대이다.', '나는 요즘, 가끔 걱정스럽다.', '나는 정치외교학부 전공이다.', '나는 배구를 가끔 한다.', '나는 요즘 영화에 대해서 관심을 갖고 공부한다.'], 'prev_dialog': ['User:나는 요즘, 항상 평화로운 것 같아. 그래서 기분이 너무 좋아.', 'Bot:오호, 그렇군. 왜 평화로운 것 같아? 평화로운 이유가 있을텐데.', 'User:내가 하는 일이 너무 잘 되어서 자존감이 늘어.', 'Bot:그래? 일이 너무 잘 되어가니? 어떤 일이야? 궁금하긴 하네.', 'User:나는 항공기 조종사야. 기장으로 승진했어. 대단하지 않아?']}, {'response': '좋아, 내가 맛있는 곳 알아 뒀어. 그쪽으로 갈게.', 'user_persona': '', 'bot_persona': ['나는 여자이다.', '나는 30대이다.', '나는 가족과 바빠서 얼굴 볼 시간 없다.', '나는 딤섬을 즐겨 먹는다.', '나는 TV 드라마를 좋아한다.', '나는 요즘 OST에 대해서 관심을 갖고 공부한다.'], 'prev_dialog': ['User:그렇게 말해주니 나까지 스트레스가 날라가는 것 같아.', 'Bot:진짜로 하면 스트레스만 날라가는게 아니라 기분이 좋아서 실제로 날아갈 수도 있어.', 'User:정말 재밌는 분이시네. 배꼽이 빠질 것 같아.', 'Bot:내 농담에 웃어주니까 나도 기분이 좋아. 우리 잘 맞는 것 같아.', 'User:이따가 저녁에 시간 있어? 같이 식사 할래?']}, {'response': '오랜만에 @이름@ 시집을 읽으려고 하는데, 시 좋아해?', 'user_persona': '', 'bot_persona': ['나는 여자이다.', '나는 20대이다.', '나는 아침에 커피를 마신다', '나는 예능 PD이다', '나는 콘솔게임을 자주 한다'], 'prev_dialog': ['User:나는 시를 싫어하는데, 자꾸 지인들이 읽어보라고 하더라고. 콘솔게임이라는 것도 처음 들어봤어.', 'Bot:이름은 쉽게 읽히고 재미있어. 한번 검색해봐. 친구가 콘솔 게임 회사에 다니고 있기도 해.', 'User:응 꼭 한번 해보고 후기 알려줄게. 난 일이 있어서 가봐야 할 것 같아.', 'Bot:벌써 3일이나 지났네. 주말 휴일 계획 있어?', 'User:나는 집에서 애니메이션을 보면서 뒹굴거릴 예정이야. 집이 최고지.']}, {'response': '인테리어 업체도 알아보고 직접 셀프인테리어도 알아보고 있어.', 'user_persona': '', 'bot_persona': ['나는 여자이다.', '나는 20대이다.', '나의 어머니는 주부이다', '나는 핸드폰 게임에 관심 없다', '나는 팟타이를 좋아한다', '나의 생일은 1월이다'], 'prev_dialog': ['User:응 나는 잘 지냈는데 일주일 동안 어떻게 지냈어?', 'Bot:나는 요즘 집 인테리어에 관심이 많아. 인테리어에 대해서 좀 관심있어?', 'User:나도 관심이 많은데 곧 크리스마스라서 크리스마스 분위기를 내보려고 인테리어를 바꾸고 있어. 집은 가족들과 같이 살아?', 'Bot:응, 나는 저번주에도 말했다시피 어머니가 주부셔서, 같이 살고 있어. 우리집이 오래된 아파트라서 구조적으로 인테리어를 바꿔볼까 고민중이야.', 'User:아 그럼 인테리어는 업체를 불러서 할 예정이야? 아니면 직접 해?']}, {'response': '그렇구나. 나는 @브랜드명1@은 별로고 @브랜드명2@햄버거가 더 맛있던데.', 'user_persona': '', 'bot_persona': ['나는 남자이다.', '나는 20대이다.', '나의 가족은 3명이다.', '나는 대학생이다.', '나는 판타지 영화를 자주 본다.', '나는 요즘 아파트에 대해서 관심을 갖고 공부한다.'], 'prev_dialog': ['User:수업을 열심히 듣고 이따 다시 연락하자.', 'Bot:응. 수업 화이팅하고 다시 대화하자.', 'User:난 수업 듣고 점심을 먹었어. 식사는 했어?', 'Bot:응, 먹었어. 뭐 먹었어?', 'User:나는 @브랜드명1@에서 햄버거를 먹었어. 햄버거를 정말 좋아하거든.']}, {'response': '용인 근처에서 하려고 알아보는데 아직 못정했어.', 'user_persona': '', 'bot_persona': ['나는 여자이다.', '나는 20대이다.', '나의 거주지는 용인이다', '나는 가구 만들기에 흥미가 있다', '나는 전자 음악을 싫어한다', '나는 양식을 즐겨 먹는다', '나는 요즘, 매일 열등감을 느낀다'], 'prev_dialog': ['User:응, 맛있게 먹고 좋은 시간 보내.', 'Bot:8시간 만이네. 저녁은 먹었어?', 'User:응, 어머니가 인도 카레를 해 두셔서 나는 따로 배달 시켜 먹었어. 너는?', 'Bot:그렇군. 나는 컵라면을 먹었어. 내가 곧 자취방 이사를 하거든. 그래서 끼니는 간단하게 떼우고 있어.', 'User:그렇구나. 용인에서 어디로 이사하는 거야?']}, {'response': '그렇지! 근데 패션쇼가 얼마나 자주 열리는지 궁금해. 그리고 패션쇼에는 보통 어떤 모델들이 나오는지 궁금하네.', 'user_persona': '', 'bot_persona': ['나는 20대이다.', '나는 남자이다.', '나는 모델이다.', '나는 패션에 대해 이야기하는 것을 좋아한다.', '나는 분홍색을 좋아한다.', '나는 혈액형이 O형이다.'], 'prev_dialog': ['User:그렇군. 나는 분홍색을 좋아하는데, 너도 입어보는 건 어때? 이미지가 완전 바뀔 것 같아.', 'Bot:안 돼. 뭔가 부끄럼쟁이가 될 것 같아. 하지만 내가 평소에 궁금증이 넘치는 사람이거든. 궁금증을 해소하고 싶은데 도움을 줄 수 있어?', 'User:응, 그러네. 어떤 부분에 궁금증이 있어? 도와줄 수 있으면 도와줄게.', 'Bot:내가 패션쇼에 대해서 궁금한게 있어서 그래. 아무래도 패션에 관심이 생기면 자연스레 패션쇼에도 관심이 가지 않겠어? 그래서 기왕 모델 만난 김에 물어보고 싶었어.', 'User:맞아. 패션쇼를 보면 멋진 모델들도 보고 이쁜 옷들도 구경할 수 있으니까.']}, {'response': \"첫번째는 '패션 브랜드 콜라보'인데, 브랜드에서 유명인 브랜드와 콜라보를 진행해서 제품을 출시하는 방식이야. 예를 들면 리복과 루이비통 브랜드의 콜라보 제품이 있지.\", 'user_persona': '', 'bot_persona': ['나는 20대이다.', '나는 여자이다.', '나는 모델이다.', '나는 패션에 대해 이야기하는 것을 좋아한다.', '나는 아침에 날씨를 확인한다.', '나는 혈액형이 B형이다.'], 'prev_dialog': ['User:요새 유행하는 브랜드 마케팅이 있어? 요새 패션 분야에 관심이 많이 생겨서 말이야.', \"Bot:요즘에는 '콜라보 마케팅'이 유행이야. 콜라보 마케팅은 말 그대로 타사 브랜드 또는 유명인과의 콜라보 등을 통해 진행되는 브랜드 마케팅을 의미해.\", 'User:아 요즘은 콜라보를 브랜드끼리만 하는게 아니고 유명인과도 많이 하네?', 'Bot:응 맞아. 패션 콜라보의 경우 크게 3가지의 종류로 나눌 수 있어. 세가지가 어떤 것들인지 맞춰볼래?', 'User:음, 브랜드와 유명인의 콜라보는 알려줬지만, 사실 잘 모르겠어.']}, {'response': '아니. 고전연구회 동아리에 관심이 있는데 고민이야.', 'user_persona': '', 'bot_persona': ['나는 여자이다.', '나는 20대이다.', '나는 요즘, 항상 신이난다.', '나는 고전연구회 동아리에 관심 있다.', '나는 가야금 연주를 자주 한다.', '나는 요즘 사건 및 사고에 대해서 관심을 갖고 공부한다.'], 'prev_dialog': ['User:청소 안하고 놀면 신경이 너무 쓰여서, 할거면 빨리하고 치우는게 좋아.', 'Bot:아쉽네. 누워서 좀 쉬려고 했는데, 그럼 설거지를 좀 하고 올게.', 'User:응, 천천히 하고 와. 나도 방 청소나 좀 하고 올게.', 'Bot:벌써 3시간이나 지났어? 설거지를 하고 같은 동아리 회원이 전화가 와서 말이야.', 'User:나도 집안 청소를 하고 나서야 겨우 쉴 수 있었어. 하지만 동아리에는 들어갔어?']}, {'response': '그래도 다행이네. 피로회복에 좋은 음식 먹고 푹 쉬어.', 'user_persona': '', 'bot_persona': ['나는 남자이다.', '나는 20대이다.', '나는 새벽에 따뜻한 물을 마신다.', '나는 풍물부 동아리에 관심 있다.', '나는 수영을 싫어한다.'], 'prev_dialog': ['User:그래도 누나가 분명 동생분을 많이 생각할거야.', 'Bot:제발 그랬으면 좋겠다. 공항은 잘 도착했어?', 'User:응. 스위스에 도착해서 연락할게!', 'Bot:스위스는 잘 도착했어? 도착하면 연락해줘.', 'User:20시간만에 잘 도착했어. 너무 피곤해.']}, {'response': '나중에 내가 좋아하는 곡들 리스트도 보내줄게. 음악 추천받는건 언제나 기분좋으니까.', 'user_persona': '', 'bot_persona': ['나는 여자이다.', '나는 20대이다.', '나는 아침에 산책한다.', '나는 학원 수학 강사이다.', '나는 CCM 음악을 좋아한다.', '나는 아르바이트에 대해서 관심을 갖고 공부했었다.'], 'prev_dialog': ['User:고마워! 혹시 치위생사님은 어떤 음악 장르를 좋아해?', 'Bot:나는 평범한 팝송이야. 좋은 음악이 너무 많아.', 'User:아, 내가 팝송을 잘 몰라서 들어보고 싶은데, 혹시 지금 공유해줄 수 있어?', 'Bot:응 여기. this is me라는 곡인데, 내가 제일 좋아하는 곡 중 하나야.', 'User:이 노래가 팝송이었어? 나는 이 노래를 좋아해서 가끔 듣는데, 팝송인줄 몰랐네.']}, {'response': '그럼 나도 한번 도전해볼까?', 'user_persona': '', 'bot_persona': ['나는 남자이다.', '나는 20대이다.', '나는 종교가 없다.', '나는 고슴도치 두 마리를 키운다.', '나는 팝 음악을 좋아한다.'], 'prev_dialog': ['User:IT계열은 요즘 좋아서 인식이 좋지 않아?', 'Bot:돈은 많이 받는 걸로 알고 있는데, 헬이야. 넌 잠을 안자고 일하면 어때?', 'User:아니, 너무 힘들 것 같아. 전도사는 은근히 꿀인 것 같아. 월급은 적지만 나름 소소하게 살아가고 있어.', 'Bot:실례지만 월급이 얼마나 돼?', 'User:세전 150만원 정도야. 그래도 하나님한테 봉사하는 개념으로 일하고 있어.']}, {'response': '안녕히 계세요!', 'user_persona': '', 'bot_persona': ['나는 여자이다.', '나는 20대이다.', '나는 눈치가 없는 편이다.', '나는 사무 보조원이다.', '나는 신 음식을 즐겨 먹는다.', '나는 요즘 스펙에 대해서 관심을 갖고 공부한다.'], 'prev_dialog': ['User:제대로 대화를 해보자.', 'Bot:이게 뭔가 좀 이제는 익숙해졌어. 나중에 기회 되면 풀어봤으면 좋겠어. 방학에는 학교 아예 안가?', 'User:학교는 안 가. 영어 학원을 다녀. 영어에 관심 없는데 어쩔 수 없이 하게 되는 것 같아.', 'Bot:맞아. 어려운데 꼭 해야 하는 거라 스트레스를 많이 받는 것 같아. 난 슬슬 다시 들어가야 해서 퇴근하고 연락할게.', 'User:응, 일 보고 다시 봐.']}]\n"
     ]
    },
    {
     "name": "stderr",
     "output_type": "stream",
     "text": [
      "\n"
     ]
    }
   ],
   "source": [
    "solar_no_persona_vl2_data = make_json_data(eval_vl2, 'GEVAL_No_Persona_solar_vl2_2', solar, prompt, False, json_path=\"./korean_msc/preprocessing\")"
   ]
  },
  {
   "cell_type": "code",
   "execution_count": 15,
   "metadata": {},
   "outputs": [
    {
     "name": "stdout",
     "output_type": "stream",
     "text": [
      "## Data info ##\n",
      "dataset name : GEVAL_solar_vl2_persona_3 data length : (54, 15)\n",
      "## Model info ##\n",
      "\u001b[1mLlamaCpp\u001b[0m\n",
      "Params: {'model_path': './solar/OPEN-SOLAR-KO-10_7B.Q5_K_S.gguf', 'suffix': None, 'max_tokens': 256, 'temperature': 0.9, 'top_p': 0.95, 'logprobs': None, 'echo': False, 'stop_sequences': ['User:', 'Bot:', '\\n', 'ᄏᄏᄏᄏᄏᄏ', 'ᄒᄒᄒᄒᄒᄒ', 'ㅠㅠㅠㅠㅠㅠ', 'ᄋᄋᄋᄋᄋᄋ', 'ㅋㅋㅋㅋㅋㅋ', 'ㅎㅎㅎㅎㅎㅎ', 'ㅠㅠㅠㅠㅠㅠ', 'ㅇㅇㅇㅇㅇㅇ'], 'repeat_penalty': 1.1, 'top_k': 30}\n"
     ]
    },
    {
     "name": "stderr",
     "output_type": "stream",
     "text": [
      "  0%|          | 0/54 [00:00<?, ?it/s]Llama.generate: prefix-match hit\n"
     ]
    },
    {
     "name": "stdout",
     "output_type": "stream",
     "text": [
      "고양이들은 잘 케어해줘. 다음에 또 연락하자."
     ]
    },
    {
     "name": "stderr",
     "output_type": "stream",
     "text": [
      "\n",
      "llama_print_timings:        load time =   40091.78 ms\n",
      "llama_print_timings:      sample time =       2.10 ms /    15 runs   (    0.14 ms per token,  7129.28 tokens per second)\n",
      "llama_print_timings: prompt eval time =   30854.51 ms /   428 tokens (   72.09 ms per token,    13.87 tokens per second)\n",
      "llama_print_timings:        eval time =    2661.11 ms /    14 runs   (  190.08 ms per token,     5.26 tokens per second)\n",
      "llama_print_timings:       total time =   33561.15 ms /   442 tokens\n",
      "  2%|▏         | 1/54 [00:33<29:39, 33.57s/it]Llama.generate: prefix-match hit\n"
     ]
    },
    {
     "name": "stdout",
     "output_type": "stream",
     "text": [
      "응 어머니랑 사이 좋지. 어머니가 날 많이 예뻐해주셔."
     ]
    },
    {
     "name": "stderr",
     "output_type": "stream",
     "text": [
      "\n",
      "llama_print_timings:        load time =   40091.78 ms\n",
      "llama_print_timings:      sample time =       2.24 ms /    16 runs   (    0.14 ms per token,  7142.86 tokens per second)\n",
      "llama_print_timings: prompt eval time =   29307.68 ms /   410 tokens (   71.48 ms per token,    13.99 tokens per second)\n",
      "llama_print_timings:        eval time =    2853.96 ms /    15 runs   (  190.26 ms per token,     5.26 tokens per second)\n",
      "llama_print_timings:       total time =   32209.20 ms /   425 tokens\n",
      "  4%|▎         | 2/54 [01:05<28:24, 32.77s/it]Llama.generate: prefix-match hit\n"
     ]
    },
    {
     "name": "stdout",
     "output_type": "stream",
     "text": [
      "약은 여행갈 때 꼭 챙기는 필수품이지. 꼭 챙겨서 가져가."
     ]
    },
    {
     "name": "stderr",
     "output_type": "stream",
     "text": [
      "\n",
      "llama_print_timings:        load time =   40091.78 ms\n",
      "llama_print_timings:      sample time =       2.66 ms /    19 runs   (    0.14 ms per token,  7145.54 tokens per second)\n",
      "llama_print_timings: prompt eval time =   25893.80 ms /   358 tokens (   72.33 ms per token,    13.83 tokens per second)\n",
      "llama_print_timings:        eval time =    3429.34 ms /    18 runs   (  190.52 ms per token,     5.25 tokens per second)\n",
      "llama_print_timings:       total time =   29381.35 ms /   376 tokens\n",
      "  6%|▌         | 3/54 [01:35<26:32, 31.23s/it]Llama.generate: prefix-match hit\n"
     ]
    },
    {
     "name": "stdout",
     "output_type": "stream",
     "text": [
      "응 좋은 하루 보내!"
     ]
    },
    {
     "name": "stderr",
     "output_type": "stream",
     "text": [
      "\n",
      "llama_print_timings:        load time =   40091.78 ms\n",
      "llama_print_timings:      sample time =       0.86 ms /     6 runs   (    0.14 ms per token,  6993.01 tokens per second)\n",
      "llama_print_timings: prompt eval time =   29899.62 ms /   416 tokens (   71.87 ms per token,    13.91 tokens per second)\n",
      "llama_print_timings:        eval time =     953.88 ms /     5 runs   (  190.78 ms per token,     5.24 tokens per second)\n",
      "llama_print_timings:       total time =   30870.91 ms /   421 tokens\n",
      "  7%|▋         | 4/54 [02:06<25:54, 31.09s/it]Llama.generate: prefix-match hit\n"
     ]
    },
    {
     "name": "stdout",
     "output_type": "stream",
     "text": [
      "그래야겠어. 고마워!"
     ]
    },
    {
     "name": "stderr",
     "output_type": "stream",
     "text": [
      "\n",
      "llama_print_timings:        load time =   40091.78 ms\n",
      "llama_print_timings:      sample time =       1.12 ms /     8 runs   (    0.14 ms per token,  7117.44 tokens per second)\n",
      "llama_print_timings: prompt eval time =   32857.64 ms /   457 tokens (   71.90 ms per token,    13.91 tokens per second)\n",
      "llama_print_timings:        eval time =    1332.19 ms /     7 runs   (  190.31 ms per token,     5.25 tokens per second)\n",
      "llama_print_timings:       total time =   34213.62 ms /   464 tokens\n",
      "  9%|▉         | 5/54 [02:40<26:18, 32.22s/it]Llama.generate: prefix-match hit\n"
     ]
    },
    {
     "name": "stdout",
     "output_type": "stream",
     "text": [
      "오. 그래? 재밌는거 있어?"
     ]
    },
    {
     "name": "stderr",
     "output_type": "stream",
     "text": [
      "\n",
      "llama_print_timings:        load time =   40091.78 ms\n",
      "llama_print_timings:      sample time =       1.28 ms /     9 runs   (    0.14 ms per token,  7036.75 tokens per second)\n",
      "llama_print_timings: prompt eval time =   25909.38 ms /   358 tokens (   72.37 ms per token,    13.82 tokens per second)\n",
      "llama_print_timings:        eval time =    1536.21 ms /     8 runs   (  192.03 ms per token,     5.21 tokens per second)\n",
      "llama_print_timings:       total time =   27472.78 ms /   366 tokens\n",
      " 11%|█         | 6/54 [03:07<24:29, 30.61s/it]Llama.generate: prefix-match hit\n"
     ]
    },
    {
     "name": "stdout",
     "output_type": "stream",
     "text": [
      "스타크래프트 하려고."
     ]
    },
    {
     "name": "stderr",
     "output_type": "stream",
     "text": [
      "\n",
      "llama_print_timings:        load time =   40091.78 ms\n",
      "llama_print_timings:      sample time =       0.99 ms /     7 runs   (    0.14 ms per token,  7042.25 tokens per second)\n",
      "llama_print_timings: prompt eval time =   27181.26 ms /   377 tokens (   72.10 ms per token,    13.87 tokens per second)\n",
      "llama_print_timings:        eval time =    1148.03 ms /     6 runs   (  191.34 ms per token,     5.23 tokens per second)\n",
      "llama_print_timings:       total time =   28350.23 ms /   383 tokens\n",
      " 13%|█▎        | 7/54 [03:36<23:23, 29.87s/it]Llama.generate: prefix-match hit\n"
     ]
    },
    {
     "name": "stdout",
     "output_type": "stream",
     "text": [
      "정말 멋진 분이시네. 어디 살아?"
     ]
    },
    {
     "name": "stderr",
     "output_type": "stream",
     "text": [
      "\n",
      "llama_print_timings:        load time =   40091.78 ms\n",
      "llama_print_timings:      sample time =       1.41 ms /     9 runs   (    0.16 ms per token,  6378.45 tokens per second)\n",
      "llama_print_timings: prompt eval time =   30156.76 ms /   417 tokens (   72.32 ms per token,    13.83 tokens per second)\n",
      "llama_print_timings:        eval time =    1531.40 ms /     8 runs   (  191.43 ms per token,     5.22 tokens per second)\n",
      "llama_print_timings:       total time =   31714.46 ms /   425 tokens\n",
      " 15%|█▍        | 8/54 [04:07<23:21, 30.46s/it]Llama.generate: prefix-match hit\n"
     ]
    },
    {
     "name": "stdout",
     "output_type": "stream",
     "text": [
      "응, 너무 좋지 않은 날씨야. 그래서 기분도 다운된 상태이고 우울해."
     ]
    },
    {
     "name": "stderr",
     "output_type": "stream",
     "text": [
      "\n",
      "llama_print_timings:        load time =   40091.78 ms\n",
      "llama_print_timings:      sample time =       2.78 ms /    19 runs   (    0.15 ms per token,  6829.62 tokens per second)\n",
      "llama_print_timings: prompt eval time =   25197.71 ms /   346 tokens (   72.83 ms per token,    13.73 tokens per second)\n",
      "llama_print_timings:        eval time =    3408.92 ms /    18 runs   (  189.38 ms per token,     5.28 tokens per second)\n",
      "llama_print_timings:       total time =   28664.52 ms /   364 tokens\n",
      " 17%|█▋        | 9/54 [04:36<22:25, 29.90s/it]Llama.generate: prefix-match hit\n"
     ]
    },
    {
     "name": "stdout",
     "output_type": "stream",
     "text": [
      "그래서 요즘에는 에어컨을 켜야해."
     ]
    },
    {
     "name": "stderr",
     "output_type": "stream",
     "text": [
      "\n",
      "llama_print_timings:        load time =   40091.78 ms\n",
      "llama_print_timings:      sample time =       1.39 ms /    10 runs   (    0.14 ms per token,  7173.60 tokens per second)\n",
      "llama_print_timings: prompt eval time =   26898.80 ms /   374 tokens (   71.92 ms per token,    13.90 tokens per second)\n",
      "llama_print_timings:        eval time =    1801.32 ms /     9 runs   (  200.15 ms per token,     5.00 tokens per second)\n",
      "llama_print_timings:       total time =   28730.29 ms /   383 tokens\n",
      " 19%|█▊        | 10/54 [05:05<21:39, 29.54s/it]Llama.generate: prefix-match hit\n"
     ]
    },
    {
     "name": "stdout",
     "output_type": "stream",
     "text": [
      "그래도 우리집이 에어컨이 있어서 다행이지, 없었으면 더 힘들었을거야."
     ]
    },
    {
     "name": "stderr",
     "output_type": "stream",
     "text": [
      "\n",
      "llama_print_timings:        load time =   40091.78 ms\n",
      "llama_print_timings:      sample time =       2.41 ms /    17 runs   (    0.14 ms per token,  7056.87 tokens per second)\n",
      "llama_print_timings: prompt eval time =   29157.34 ms /   405 tokens (   71.99 ms per token,    13.89 tokens per second)\n",
      "llama_print_timings:        eval time =    3041.14 ms /    16 runs   (  190.07 ms per token,     5.26 tokens per second)\n",
      "llama_print_timings:       total time =   32249.47 ms /   421 tokens\n",
      " 20%|██        | 11/54 [05:37<21:45, 30.37s/it]Llama.generate: prefix-match hit\n"
     ]
    },
    {
     "name": "stdout",
     "output_type": "stream",
     "text": [
      "좋은 하루 보내."
     ]
    },
    {
     "name": "stderr",
     "output_type": "stream",
     "text": [
      "\n",
      "llama_print_timings:        load time =   40091.78 ms\n",
      "llama_print_timings:      sample time =       0.71 ms /     5 runs   (    0.14 ms per token,  7022.47 tokens per second)\n",
      "llama_print_timings: prompt eval time =   31312.39 ms /   434 tokens (   72.15 ms per token,    13.86 tokens per second)\n",
      "llama_print_timings:        eval time =     759.81 ms /     4 runs   (  189.95 ms per token,     5.26 tokens per second)\n",
      "llama_print_timings:       total time =   32086.58 ms /   438 tokens\n",
      " 22%|██▏       | 12/54 [06:09<21:37, 30.89s/it]Llama.generate: prefix-match hit\n"
     ]
    },
    {
     "name": "stdout",
     "output_type": "stream",
     "text": [
      "응응 그랬으면 좋겠다. 나는 야자시간 동안 주로 어떤 책을 읽을까?"
     ]
    },
    {
     "name": "stderr",
     "output_type": "stream",
     "text": [
      "\n",
      "llama_print_timings:        load time =   40091.78 ms\n",
      "llama_print_timings:      sample time =       2.67 ms /    19 runs   (    0.14 ms per token,  7116.10 tokens per second)\n",
      "llama_print_timings: prompt eval time =   26848.23 ms /   371 tokens (   72.37 ms per token,    13.82 tokens per second)\n",
      "llama_print_timings:        eval time =    3431.31 ms /    18 runs   (  190.63 ms per token,     5.25 tokens per second)\n",
      "llama_print_timings:       total time =   30337.30 ms /   389 tokens\n",
      " 24%|██▍       | 13/54 [06:39<20:59, 30.73s/it]Llama.generate: prefix-match hit\n"
     ]
    },
    {
     "name": "stdout",
     "output_type": "stream",
     "text": [
      "응 오늘 대화 즐거웠어 안녕~"
     ]
    },
    {
     "name": "stderr",
     "output_type": "stream",
     "text": [
      "\n",
      "llama_print_timings:        load time =   40091.78 ms\n",
      "llama_print_timings:      sample time =       1.26 ms /     9 runs   (    0.14 ms per token,  7159.90 tokens per second)\n",
      "llama_print_timings: prompt eval time =   28643.25 ms /   397 tokens (   72.15 ms per token,    13.86 tokens per second)\n",
      "llama_print_timings:        eval time =    1622.14 ms /     8 runs   (  202.77 ms per token,     4.93 tokens per second)\n",
      "llama_print_timings:       total time =   30291.76 ms /   405 tokens\n",
      " 26%|██▌       | 14/54 [07:10<20:23, 30.60s/it]Llama.generate: prefix-match hit\n"
     ]
    },
    {
     "name": "stdout",
     "output_type": "stream",
     "text": [
      "응, 고마워. 너도 맛있게 먹어."
     ]
    },
    {
     "name": "stderr",
     "output_type": "stream",
     "text": [
      "\n",
      "llama_print_timings:        load time =   40091.78 ms\n",
      "llama_print_timings:      sample time =       1.54 ms /    11 runs   (    0.14 ms per token,  7152.15 tokens per second)\n",
      "llama_print_timings: prompt eval time =   28154.78 ms /   390 tokens (   72.19 ms per token,    13.85 tokens per second)\n",
      "llama_print_timings:        eval time =    1910.49 ms /    10 runs   (  191.05 ms per token,     5.23 tokens per second)\n",
      "llama_print_timings:       total time =   30098.10 ms /   400 tokens\n",
      " 28%|██▊       | 15/54 [07:40<19:47, 30.45s/it]Llama.generate: prefix-match hit\n"
     ]
    },
    {
     "name": "stdout",
     "output_type": "stream",
     "text": [
      "그렇구나. 나는 취미로 등산도 좋아하는데 운동은 전혀 안 좋아해?"
     ]
    },
    {
     "name": "stderr",
     "output_type": "stream",
     "text": [
      "\n",
      "llama_print_timings:        load time =   40091.78 ms\n",
      "llama_print_timings:      sample time =       2.66 ms /    19 runs   (    0.14 ms per token,  7142.86 tokens per second)\n",
      "llama_print_timings: prompt eval time =   31380.59 ms /   438 tokens (   71.65 ms per token,    13.96 tokens per second)\n",
      "llama_print_timings:        eval time =    3465.64 ms /    18 runs   (  192.54 ms per token,     5.19 tokens per second)\n",
      "llama_print_timings:       total time =   34903.88 ms /   456 tokens\n",
      " 30%|██▉       | 16/54 [08:15<20:08, 31.79s/it]Llama.generate: prefix-match hit\n"
     ]
    },
    {
     "name": "stdout",
     "output_type": "stream",
     "text": [
      "아니야, 그냥 관심이 있어. 그리고 내가 노래를 잘 부르는 편이야."
     ]
    },
    {
     "name": "stderr",
     "output_type": "stream",
     "text": [
      "\n",
      "llama_print_timings:        load time =   40091.78 ms\n",
      "llama_print_timings:      sample time =       2.32 ms /    16 runs   (    0.15 ms per token,  6887.65 tokens per second)\n",
      "llama_print_timings: prompt eval time =   30990.77 ms /   430 tokens (   72.07 ms per token,    13.88 tokens per second)\n",
      "llama_print_timings:        eval time =    2889.51 ms /    15 runs   (  192.63 ms per token,     5.19 tokens per second)\n",
      "llama_print_timings:       total time =   33928.52 ms /   445 tokens\n",
      " 31%|███▏      | 17/54 [08:49<20:00, 32.44s/it]Llama.generate: prefix-match hit\n"
     ]
    },
    {
     "name": "stdout",
     "output_type": "stream",
     "text": [
      "네 안녕히 가세요."
     ]
    },
    {
     "name": "stderr",
     "output_type": "stream",
     "text": [
      "\n",
      "llama_print_timings:        load time =   40091.78 ms\n",
      "llama_print_timings:      sample time =       0.98 ms /     7 runs   (    0.14 ms per token,  7106.60 tokens per second)\n",
      "llama_print_timings: prompt eval time =   30880.45 ms /   430 tokens (   71.81 ms per token,    13.92 tokens per second)\n",
      "llama_print_timings:        eval time =    1217.98 ms /     6 runs   (  203.00 ms per token,     4.93 tokens per second)\n",
      "llama_print_timings:       total time =   32119.09 ms /   436 tokens\n",
      " 33%|███▎      | 18/54 [09:21<19:24, 32.34s/it]Llama.generate: prefix-match hit\n"
     ]
    },
    {
     "name": "stdout",
     "output_type": "stream",
     "text": [
      "1년이나 넘게 남았구나. 동생이 보고 싶겠어."
     ]
    },
    {
     "name": "stderr",
     "output_type": "stream",
     "text": [
      "\n",
      "llama_print_timings:        load time =   40091.78 ms\n",
      "llama_print_timings:      sample time =       2.08 ms /    15 runs   (    0.14 ms per token,  7228.92 tokens per second)\n",
      "llama_print_timings: prompt eval time =   26350.32 ms /   369 tokens (   71.41 ms per token,    14.00 tokens per second)\n",
      "llama_print_timings:        eval time =    2643.09 ms /    14 runs   (  188.79 ms per token,     5.30 tokens per second)\n",
      "llama_print_timings:       total time =   29037.51 ms /   383 tokens\n",
      " 35%|███▌      | 19/54 [09:50<18:17, 31.35s/it]Llama.generate: prefix-match hit\n"
     ]
    },
    {
     "name": "stdout",
     "output_type": "stream",
     "text": [
      "아니. 면회 가본 적 없어."
     ]
    },
    {
     "name": "stderr",
     "output_type": "stream",
     "text": [
      "\n",
      "llama_print_timings:        load time =   40091.78 ms\n",
      "llama_print_timings:      sample time =       1.40 ms /    10 runs   (    0.14 ms per token,  7137.76 tokens per second)\n",
      "llama_print_timings: prompt eval time =   25899.84 ms /   358 tokens (   72.35 ms per token,    13.82 tokens per second)\n",
      "llama_print_timings:        eval time =    1697.51 ms /     9 runs   (  188.61 ms per token,     5.30 tokens per second)\n",
      "llama_print_timings:       total time =   27627.16 ms /   367 tokens\n",
      " 37%|███▋      | 20/54 [10:17<17:08, 30.24s/it]Llama.generate: prefix-match hit\n"
     ]
    },
    {
     "name": "stdout",
     "output_type": "stream",
     "text": [
      "필러는 안 맞아봤는데 주름관리를 어떻게 하는 편이야?"
     ]
    },
    {
     "name": "stderr",
     "output_type": "stream",
     "text": [
      "\n",
      "llama_print_timings:        load time =   40091.78 ms\n",
      "llama_print_timings:      sample time =       2.37 ms /    16 runs   (    0.15 ms per token,  6751.05 tokens per second)\n",
      "llama_print_timings: prompt eval time =   30773.32 ms /   427 tokens (   72.07 ms per token,    13.88 tokens per second)\n",
      "llama_print_timings:        eval time =    2859.70 ms /    15 runs   (  190.65 ms per token,     5.25 tokens per second)\n",
      "llama_print_timings:       total time =   33682.19 ms /   442 tokens\n",
      " 39%|███▉      | 21/54 [10:51<17:11, 31.27s/it]Llama.generate: prefix-match hit\n"
     ]
    },
    {
     "name": "stdout",
     "output_type": "stream",
     "text": [
      "너도 곱슬이구나. 그럼 헤어팩을 써보는건 어때?"
     ]
    },
    {
     "name": "stderr",
     "output_type": "stream",
     "text": [
      "\n",
      "llama_print_timings:        load time =   40091.78 ms\n",
      "llama_print_timings:      sample time =       2.50 ms /    17 runs   (    0.15 ms per token,  6794.56 tokens per second)\n",
      "llama_print_timings: prompt eval time =   28582.64 ms /   397 tokens (   72.00 ms per token,    13.89 tokens per second)\n",
      "llama_print_timings:        eval time =    3059.96 ms /    16 runs   (  191.25 ms per token,     5.23 tokens per second)\n",
      "llama_print_timings:       total time =   31694.76 ms /   413 tokens\n",
      " 41%|████      | 22/54 [11:23<16:44, 31.40s/it]Llama.generate: prefix-match hit\n"
     ]
    },
    {
     "name": "stdout",
     "output_type": "stream",
     "text": [
      "응 고마워. 다음에 또 연락하자!"
     ]
    },
    {
     "name": "stderr",
     "output_type": "stream",
     "text": [
      "\n",
      "llama_print_timings:        load time =   40091.78 ms\n",
      "llama_print_timings:      sample time =       1.42 ms /    10 runs   (    0.14 ms per token,  7057.16 tokens per second)\n",
      "llama_print_timings: prompt eval time =   27643.17 ms /   383 tokens (   72.18 ms per token,    13.86 tokens per second)\n",
      "llama_print_timings:        eval time =    1714.08 ms /     9 runs   (  190.45 ms per token,     5.25 tokens per second)\n",
      "llama_print_timings:       total time =   29386.97 ms /   392 tokens\n",
      " 43%|████▎     | 23/54 [11:52<15:54, 30.80s/it]Llama.generate: prefix-match hit\n"
     ]
    },
    {
     "name": "stdout",
     "output_type": "stream",
     "text": [
      "그럼, 얼른 가보도록 해!"
     ]
    },
    {
     "name": "stderr",
     "output_type": "stream",
     "text": [
      "\n",
      "llama_print_timings:        load time =   40091.78 ms\n",
      "llama_print_timings:      sample time =       1.28 ms /     9 runs   (    0.14 ms per token,  7009.35 tokens per second)\n",
      "llama_print_timings: prompt eval time =   26883.93 ms /   370 tokens (   72.66 ms per token,    13.76 tokens per second)\n",
      "llama_print_timings:        eval time =    1579.79 ms /     8 runs   (  197.47 ms per token,     5.06 tokens per second)\n",
      "llama_print_timings:       total time =   28491.38 ms /   378 tokens\n",
      " 44%|████▍     | 24/54 [12:21<15:03, 30.11s/it]Llama.generate: prefix-match hit\n"
     ]
    },
    {
     "name": "stdout",
     "output_type": "stream",
     "text": [
      "그렇구나. 어때? 잘 맞는 것 같아?"
     ]
    },
    {
     "name": "stderr",
     "output_type": "stream",
     "text": [
      "\n",
      "llama_print_timings:        load time =   40091.78 ms\n",
      "llama_print_timings:      sample time =       1.70 ms /    12 runs   (    0.14 ms per token,  7054.67 tokens per second)\n",
      "llama_print_timings: prompt eval time =   30525.77 ms /   425 tokens (   71.83 ms per token,    13.92 tokens per second)\n",
      "llama_print_timings:        eval time =    2091.92 ms /    11 runs   (  190.17 ms per token,     5.26 tokens per second)\n",
      "llama_print_timings:       total time =   32653.45 ms /   436 tokens\n",
      " 46%|████▋     | 25/54 [12:53<14:55, 30.87s/it]Llama.generate: prefix-match hit\n"
     ]
    },
    {
     "name": "stdout",
     "output_type": "stream",
     "text": [
      "만화 좋아하지! 그런데 요즘은 볼 시간이 없어서 못봐서 슬프다."
     ]
    },
    {
     "name": "stderr",
     "output_type": "stream",
     "text": [
      "\n",
      "llama_print_timings:        load time =   40091.78 ms\n",
      "llama_print_timings:      sample time =       2.25 ms /    16 runs   (    0.14 ms per token,  7120.61 tokens per second)\n",
      "llama_print_timings: prompt eval time =   27507.47 ms /   379 tokens (   72.58 ms per token,    13.78 tokens per second)\n",
      "llama_print_timings:        eval time =    2860.77 ms /    15 runs   (  190.72 ms per token,     5.24 tokens per second)\n",
      "llama_print_timings:       total time =   30417.38 ms /   394 tokens\n",
      " 48%|████▊     | 26/54 [13:24<14:20, 30.74s/it]Llama.generate: prefix-match hit\n"
     ]
    },
    {
     "name": "stdout",
     "output_type": "stream",
     "text": [
      "재즈는 재즈댄스인데, 브레이브걸스는 걸그룹이지? 혹시 나랑 동갑이야?"
     ]
    },
    {
     "name": "stderr",
     "output_type": "stream",
     "text": [
      "\n",
      "llama_print_timings:        load time =   40091.78 ms\n",
      "llama_print_timings:      sample time =       3.20 ms /    23 runs   (    0.14 ms per token,  7185.25 tokens per second)\n",
      "llama_print_timings: prompt eval time =   29343.44 ms /   408 tokens (   71.92 ms per token,    13.90 tokens per second)\n",
      "llama_print_timings:        eval time =    4172.51 ms /    22 runs   (  189.66 ms per token,     5.27 tokens per second)\n",
      "llama_print_timings:       total time =   33584.85 ms /   430 tokens\n",
      " 50%|█████     | 27/54 [13:57<14:13, 31.59s/it]Llama.generate: prefix-match hit\n"
     ]
    },
    {
     "name": "stdout",
     "output_type": "stream",
     "text": [
      "요즘 코로나 때문에 난리잖아. 근데 내가 여행 좋아하니까 자꾸 여행 가고 싶어."
     ]
    },
    {
     "name": "stderr",
     "output_type": "stream",
     "text": [
      "\n",
      "llama_print_timings:        load time =   40091.78 ms\n",
      "llama_print_timings:      sample time =       2.43 ms /    17 runs   (    0.14 ms per token,  6995.88 tokens per second)\n",
      "llama_print_timings: prompt eval time =   24561.35 ms /   339 tokens (   72.45 ms per token,    13.80 tokens per second)\n",
      "llama_print_timings:        eval time =    3030.46 ms /    16 runs   (  189.40 ms per token,     5.28 tokens per second)\n",
      "llama_print_timings:       total time =   27642.55 ms /   355 tokens\n",
      " 52%|█████▏    | 28/54 [14:25<13:10, 30.41s/it]Llama.generate: prefix-match hit\n"
     ]
    },
    {
     "name": "stdout",
     "output_type": "stream",
     "text": [
      "응, 맞아. 근데 우리동네 시장은 과일 한박스 가격이 다 달라. 사과는 만원, 감은 만원 정도 하는 것 같아."
     ]
    },
    {
     "name": "stderr",
     "output_type": "stream",
     "text": [
      "\n",
      "llama_print_timings:        load time =   40091.78 ms\n",
      "llama_print_timings:      sample time =       4.11 ms /    29 runs   (    0.14 ms per token,  7064.56 tokens per second)\n",
      "llama_print_timings: prompt eval time =   30130.63 ms /   418 tokens (   72.08 ms per token,    13.87 tokens per second)\n",
      "llama_print_timings:        eval time =    5316.38 ms /    28 runs   (  189.87 ms per token,     5.27 tokens per second)\n",
      "llama_print_timings:       total time =   35535.13 ms /   446 tokens\n",
      " 54%|█████▎    | 29/54 [15:01<13:18, 31.95s/it]Llama.generate: prefix-match hit\n"
     ]
    },
    {
     "name": "stdout",
     "output_type": "stream",
     "text": [
      "오늘은 일 끝나고 첼로를 배우려고 학원에 와있어."
     ]
    },
    {
     "name": "stderr",
     "output_type": "stream",
     "text": [
      "\n",
      "llama_print_timings:        load time =   40091.78 ms\n",
      "llama_print_timings:      sample time =       2.02 ms /    14 runs   (    0.14 ms per token,  6934.13 tokens per second)\n",
      "llama_print_timings: prompt eval time =   26774.63 ms /   369 tokens (   72.56 ms per token,    13.78 tokens per second)\n",
      "llama_print_timings:        eval time =    2496.05 ms /    13 runs   (  192.00 ms per token,     5.21 tokens per second)\n",
      "llama_print_timings:       total time =   29314.21 ms /   382 tokens\n",
      " 56%|█████▌    | 30/54 [15:30<12:27, 31.16s/it]Llama.generate: prefix-match hit\n"
     ]
    },
    {
     "name": "stdout",
     "output_type": "stream",
     "text": [
      "고마워. 혹시 다음에 또 연락해도 될까?"
     ]
    },
    {
     "name": "stderr",
     "output_type": "stream",
     "text": [
      "\n",
      "llama_print_timings:        load time =   40091.78 ms\n",
      "llama_print_timings:      sample time =       1.66 ms /    12 runs   (    0.14 ms per token,  7237.64 tokens per second)\n",
      "llama_print_timings: prompt eval time =   27926.55 ms /   391 tokens (   71.42 ms per token,    14.00 tokens per second)\n",
      "llama_print_timings:        eval time =    2118.23 ms /    11 runs   (  192.57 ms per token,     5.19 tokens per second)\n",
      "llama_print_timings:       total time =   30080.89 ms /   402 tokens\n",
      " 57%|█████▋    | 31/54 [16:00<11:49, 30.84s/it]Llama.generate: prefix-match hit\n"
     ]
    },
    {
     "name": "stdout",
     "output_type": "stream",
     "text": [
      "그래도 해야겠어. 오늘 안에 끝내야해."
     ]
    },
    {
     "name": "stderr",
     "output_type": "stream",
     "text": [
      "\n",
      "llama_print_timings:        load time =   40091.78 ms\n",
      "llama_print_timings:      sample time =       1.54 ms /    11 runs   (    0.14 ms per token,  7138.22 tokens per second)\n",
      "llama_print_timings: prompt eval time =   25912.66 ms /   360 tokens (   71.98 ms per token,    13.89 tokens per second)\n",
      "llama_print_timings:        eval time =    1903.26 ms /    10 runs   (  190.33 ms per token,     5.25 tokens per second)\n",
      "llama_print_timings:       total time =   27849.88 ms /   370 tokens\n",
      " 59%|█████▉    | 32/54 [16:28<10:58, 29.94s/it]Llama.generate: prefix-match hit\n"
     ]
    },
    {
     "name": "stdout",
     "output_type": "stream",
     "text": [
      "그렇구나. 나는 오늘 학원 수학 강의를 하고 있어서 연락을 못했어 미안해."
     ]
    },
    {
     "name": "stderr",
     "output_type": "stream",
     "text": [
      "\n",
      "llama_print_timings:        load time =   40091.78 ms\n",
      "llama_print_timings:      sample time =       2.69 ms /    19 runs   (    0.14 ms per token,  7057.95 tokens per second)\n",
      "llama_print_timings: prompt eval time =   29965.74 ms /   419 tokens (   71.52 ms per token,    13.98 tokens per second)\n",
      "llama_print_timings:        eval time =    3430.22 ms /    18 runs   (  190.57 ms per token,     5.25 tokens per second)\n",
      "llama_print_timings:       total time =   33454.05 ms /   437 tokens\n",
      " 61%|██████    | 33/54 [17:01<10:50, 31.00s/it]Llama.generate: prefix-match hit\n"
     ]
    },
    {
     "name": "stdout",
     "output_type": "stream",
     "text": [
      "스튜어디스는 적성에 맞아서 준비도 잘 되고 있어."
     ]
    },
    {
     "name": "stderr",
     "output_type": "stream",
     "text": [
      "\n",
      "llama_print_timings:        load time =   40091.78 ms\n",
      "llama_print_timings:      sample time =       2.14 ms /    15 runs   (    0.14 ms per token,  7006.07 tokens per second)\n",
      "llama_print_timings: prompt eval time =   27646.59 ms /   381 tokens (   72.56 ms per token,    13.78 tokens per second)\n",
      "llama_print_timings:        eval time =    2649.29 ms /    14 runs   (  189.24 ms per token,     5.28 tokens per second)\n",
      "llama_print_timings:       total time =   30339.96 ms /   395 tokens\n",
      " 63%|██████▎   | 34/54 [17:32<10:16, 30.80s/it]Llama.generate: prefix-match hit\n"
     ]
    },
    {
     "name": "stdout",
     "output_type": "stream",
     "text": [
      "그렇구나. 공연 연습은 어떻게 해?"
     ]
    },
    {
     "name": "stderr",
     "output_type": "stream",
     "text": [
      "\n",
      "llama_print_timings:        load time =   40091.78 ms\n",
      "llama_print_timings:      sample time =       1.40 ms /    10 runs   (    0.14 ms per token,  7137.76 tokens per second)\n",
      "llama_print_timings: prompt eval time =   27475.06 ms /   380 tokens (   72.30 ms per token,    13.83 tokens per second)\n",
      "llama_print_timings:        eval time =    1716.43 ms /     9 runs   (  190.71 ms per token,     5.24 tokens per second)\n",
      "llama_print_timings:       total time =   29221.29 ms /   389 tokens\n",
      " 65%|██████▍   | 35/54 [18:01<09:36, 30.33s/it]Llama.generate: prefix-match hit\n"
     ]
    },
    {
     "name": "stdout",
     "output_type": "stream",
     "text": [
      "응 알바도 힘든데 가끔 영화보면서 스트레스를 풀어야겠어."
     ]
    },
    {
     "name": "stderr",
     "output_type": "stream",
     "text": [
      "\n",
      "llama_print_timings:        load time =   40091.78 ms\n",
      "llama_print_timings:      sample time =       2.14 ms /    15 runs   (    0.14 ms per token,  6996.27 tokens per second)\n",
      "llama_print_timings: prompt eval time =   27715.18 ms /   386 tokens (   71.80 ms per token,    13.93 tokens per second)\n",
      "llama_print_timings:        eval time =    2665.34 ms /    14 runs   (  190.38 ms per token,     5.25 tokens per second)\n",
      "llama_print_timings:       total time =   30425.95 ms /   400 tokens\n",
      " 67%|██████▋   | 36/54 [18:31<09:06, 30.36s/it]Llama.generate: prefix-match hit\n"
     ]
    },
    {
     "name": "stdout",
     "output_type": "stream",
     "text": [
      "응, 좋아하지. 맛도 있고 건강에도 좋고 좋지 뭐야."
     ]
    },
    {
     "name": "stderr",
     "output_type": "stream",
     "text": [
      "\n",
      "llama_print_timings:        load time =   40091.78 ms\n",
      "llama_print_timings:      sample time =       2.08 ms /    15 runs   (    0.14 ms per token,  7197.70 tokens per second)\n",
      "llama_print_timings: prompt eval time =   30841.79 ms /   431 tokens (   71.56 ms per token,    13.97 tokens per second)\n",
      "llama_print_timings:        eval time =    2656.37 ms /    14 runs   (  189.74 ms per token,     5.27 tokens per second)\n",
      "llama_print_timings:       total time =   33542.67 ms /   445 tokens\n",
      " 69%|██████▊   | 37/54 [19:05<08:52, 31.32s/it]Llama.generate: prefix-match hit\n"
     ]
    },
    {
     "name": "stdout",
     "output_type": "stream",
     "text": [
      "나 친구들이랑 등산하러 가려고 준비하고 있어."
     ]
    },
    {
     "name": "stderr",
     "output_type": "stream",
     "text": [
      "\n",
      "llama_print_timings:        load time =   40091.78 ms\n",
      "llama_print_timings:      sample time =       1.70 ms /    12 runs   (    0.14 ms per token,  7071.30 tokens per second)\n",
      "llama_print_timings: prompt eval time =   29330.53 ms /   405 tokens (   72.42 ms per token,    13.81 tokens per second)\n",
      "llama_print_timings:        eval time =    2108.75 ms /    11 runs   (  191.70 ms per token,     5.22 tokens per second)\n",
      "llama_print_timings:       total time =   31474.66 ms /   416 tokens\n",
      " 70%|███████   | 38/54 [19:36<08:21, 31.37s/it]Llama.generate: prefix-match hit\n"
     ]
    },
    {
     "name": "stdout",
     "output_type": "stream",
     "text": [
      "응 고마워! 그럼 나도 한번 알아봐야겠다."
     ]
    },
    {
     "name": "stderr",
     "output_type": "stream",
     "text": [
      "\n",
      "llama_print_timings:        load time =   40091.78 ms\n",
      "llama_print_timings:      sample time =       1.69 ms /    12 runs   (    0.14 ms per token,  7117.44 tokens per second)\n",
      "llama_print_timings: prompt eval time =   26785.61 ms /   370 tokens (   72.39 ms per token,    13.81 tokens per second)\n",
      "llama_print_timings:        eval time =    2104.78 ms /    11 runs   (  191.34 ms per token,     5.23 tokens per second)\n",
      "llama_print_timings:       total time =   28925.71 ms /   381 tokens\n",
      " 72%|███████▏  | 39/54 [20:05<07:39, 30.64s/it]Llama.generate: prefix-match hit\n"
     ]
    },
    {
     "name": "stdout",
     "output_type": "stream",
     "text": [
      "나도 그랬던 것 같아. 소개팅은 부담스럽고 부담스러운건 싫은거지."
     ]
    },
    {
     "name": "stderr",
     "output_type": "stream",
     "text": [
      "\n",
      "llama_print_timings:        load time =   40091.78 ms\n",
      "llama_print_timings:      sample time =       2.49 ms /    18 runs   (    0.14 ms per token,  7231.82 tokens per second)\n",
      "llama_print_timings: prompt eval time =   28936.07 ms /   400 tokens (   72.34 ms per token,    13.82 tokens per second)\n",
      "llama_print_timings:        eval time =    3224.51 ms /    17 runs   (  189.68 ms per token,     5.27 tokens per second)\n",
      "llama_print_timings:       total time =   32214.05 ms /   417 tokens\n",
      " 74%|███████▍  | 40/54 [20:38<07:15, 31.11s/it]Llama.generate: prefix-match hit\n"
     ]
    },
    {
     "name": "stdout",
     "output_type": "stream",
     "text": [
      "너는 직업이 뭐길래 연인이 없어도 괜찮은거야?"
     ]
    },
    {
     "name": "stderr",
     "output_type": "stream",
     "text": [
      "\n",
      "llama_print_timings:        load time =   40091.78 ms\n",
      "llama_print_timings:      sample time =       1.66 ms /    12 runs   (    0.14 ms per token,  7211.54 tokens per second)\n",
      "llama_print_timings: prompt eval time =   28740.01 ms /   399 tokens (   72.03 ms per token,    13.88 tokens per second)\n",
      "llama_print_timings:        eval time =    2093.61 ms /    11 runs   (  190.33 ms per token,     5.25 tokens per second)\n",
      "llama_print_timings:       total time =   30869.49 ms /   410 tokens\n",
      " 76%|███████▌  | 41/54 [21:08<06:43, 31.04s/it]Llama.generate: prefix-match hit\n"
     ]
    },
    {
     "name": "stdout",
     "output_type": "stream",
     "text": [
      "우와, 대단하다! 내가 다 기분이 좋아지네. 너무 축하해!"
     ]
    },
    {
     "name": "stderr",
     "output_type": "stream",
     "text": [
      "\n",
      "llama_print_timings:        load time =   40091.78 ms\n",
      "llama_print_timings:      sample time =       2.09 ms /    15 runs   (    0.14 ms per token,  7166.75 tokens per second)\n",
      "llama_print_timings: prompt eval time =   27015.76 ms /   371 tokens (   72.82 ms per token,    13.73 tokens per second)\n",
      "llama_print_timings:        eval time =    2656.74 ms /    14 runs   (  189.77 ms per token,     5.27 tokens per second)\n",
      "llama_print_timings:       total time =   29716.31 ms /   385 tokens\n",
      " 78%|███████▊  | 42/54 [21:38<06:07, 30.64s/it]Llama.generate: prefix-match hit\n"
     ]
    },
    {
     "name": "stdout",
     "output_type": "stream",
     "text": [
      "나야 좋지. 근데 내가 바쁘면 저녁에 시간 없을 수도 있어서, 저녁에 다시 연락줄게."
     ]
    },
    {
     "name": "stderr",
     "output_type": "stream",
     "text": [
      "\n",
      "llama_print_timings:        load time =   40091.78 ms\n",
      "llama_print_timings:      sample time =       3.27 ms /    23 runs   (    0.14 ms per token,  7029.34 tokens per second)\n",
      "llama_print_timings: prompt eval time =   29904.94 ms /   414 tokens (   72.23 ms per token,    13.84 tokens per second)\n",
      "llama_print_timings:        eval time =    4185.96 ms /    22 runs   (  190.27 ms per token,     5.26 tokens per second)\n",
      "llama_print_timings:       total time =   34160.20 ms /   436 tokens\n",
      " 80%|███████▉  | 43/54 [22:12<05:48, 31.70s/it]Llama.generate: prefix-match hit\n"
     ]
    },
    {
     "name": "stdout",
     "output_type": "stream",
     "text": [
      "난 주말에 첼로 연습이 있어서 못 쉴 것 같네. 열심히 연습해서 다음주에 연주회를 가야해서 말이야."
     ]
    },
    {
     "name": "stderr",
     "output_type": "stream",
     "text": [
      "\n",
      "llama_print_timings:        load time =   40091.78 ms\n",
      "llama_print_timings:      sample time =       3.77 ms /    26 runs   (    0.15 ms per token,  6887.42 tokens per second)\n",
      "llama_print_timings: prompt eval time =   30673.93 ms /   424 tokens (   72.34 ms per token,    13.82 tokens per second)\n",
      "llama_print_timings:        eval time =    4783.47 ms /    25 runs   (  191.34 ms per token,     5.23 tokens per second)\n",
      "llama_print_timings:       total time =   35535.71 ms /   449 tokens\n",
      " 81%|████████▏ | 44/54 [22:48<05:28, 32.85s/it]Llama.generate: prefix-match hit\n"
     ]
    },
    {
     "name": "stdout",
     "output_type": "stream",
     "text": [
      "내가 손재주가 별로 없어서 직접 하기는 어려울 것 같구 업체에 한번 맡겨볼까 싶어. 너는 직접 인테리어 해본 적 있어?"
     ]
    },
    {
     "name": "stderr",
     "output_type": "stream",
     "text": [
      "\n",
      "llama_print_timings:        load time =   40091.78 ms\n",
      "llama_print_timings:      sample time =       4.16 ms /    30 runs   (    0.14 ms per token,  7220.22 tokens per second)\n",
      "llama_print_timings: prompt eval time =   28911.40 ms /   400 tokens (   72.28 ms per token,    13.84 tokens per second)\n",
      "llama_print_timings:        eval time =    5553.08 ms /    29 runs   (  191.49 ms per token,     5.22 tokens per second)\n",
      "llama_print_timings:       total time =   34553.74 ms /   429 tokens\n",
      " 83%|████████▎ | 45/54 [23:22<05:00, 33.36s/it]Llama.generate: prefix-match hit\n"
     ]
    },
    {
     "name": "stdout",
     "output_type": "stream",
     "text": [
      "나도 햄버거 좋아해. 요즘 @브랜드명1@ 말고도 햄버거 파는 데가 더 늘어서 좋은거 같아."
     ]
    },
    {
     "name": "stderr",
     "output_type": "stream",
     "text": [
      "\n",
      "llama_print_timings:        load time =   40091.78 ms\n",
      "llama_print_timings:      sample time =       4.11 ms /    30 runs   (    0.14 ms per token,  7299.27 tokens per second)\n",
      "llama_print_timings: prompt eval time =   26258.70 ms /   360 tokens (   72.94 ms per token,    13.71 tokens per second)\n",
      "llama_print_timings:        eval time =    5520.45 ms /    29 runs   (  190.36 ms per token,     5.25 tokens per second)\n",
      "llama_print_timings:       total time =   31871.05 ms /   389 tokens\n",
      " 85%|████████▌ | 46/54 [23:54<04:23, 32.92s/it]Llama.generate: prefix-match hit\n"
     ]
    },
    {
     "name": "stdout",
     "output_type": "stream",
     "text": [
      "강남으로 가. 내가 가장 설레는 순간이 취업했을 때인데, 이번에 대기업에 취업이 되었거든. 그래서 이제 자취방 구해서 독립할 생각이야!"
     ]
    },
    {
     "name": "stderr",
     "output_type": "stream",
     "text": [
      "\n",
      "llama_print_timings:        load time =   40091.78 ms\n",
      "llama_print_timings:      sample time =       5.18 ms /    37 runs   (    0.14 ms per token,  7147.00 tokens per second)\n",
      "llama_print_timings: prompt eval time =   28881.84 ms /   397 tokens (   72.75 ms per token,    13.75 tokens per second)\n",
      "llama_print_timings:        eval time =    6870.65 ms /    36 runs   (  190.85 ms per token,     5.24 tokens per second)\n",
      "llama_print_timings:       total time =   35863.84 ms /   433 tokens\n",
      " 87%|████████▋ | 47/54 [24:30<03:56, 33.80s/it]Llama.generate: prefix-match hit\n"
     ]
    },
    {
     "name": "stdout",
     "output_type": "stream",
     "text": [
      "그러게, 아무튼 요즘 패션쇼는 어떤가? 예전에는 모델들이 런웨이에서 워킹하는 게 전부였는데 요즘엔 더 화려한가요?"
     ]
    },
    {
     "name": "stderr",
     "output_type": "stream",
     "text": [
      "\n",
      "llama_print_timings:        load time =   40091.78 ms\n",
      "llama_print_timings:      sample time =       4.48 ms /    32 runs   (    0.14 ms per token,  7136.49 tokens per second)\n",
      "llama_print_timings: prompt eval time =   34007.77 ms /   470 tokens (   72.36 ms per token,    13.82 tokens per second)\n",
      "llama_print_timings:        eval time =    5925.36 ms /    31 runs   (  191.14 ms per token,     5.23 tokens per second)\n",
      "llama_print_timings:       total time =   40034.17 ms /   501 tokens\n",
      " 89%|████████▉ | 48/54 [25:10<03:34, 35.67s/it]Llama.generate: prefix-match hit\n"
     ]
    },
    {
     "name": "stdout",
     "output_type": "stream",
     "text": [
      "음 그럼 브랜드끼리 콜라보 하는 것은 알아?"
     ]
    },
    {
     "name": "stderr",
     "output_type": "stream",
     "text": [
      "\n",
      "llama_print_timings:        load time =   40091.78 ms\n",
      "llama_print_timings:      sample time =       1.57 ms /    11 runs   (    0.14 ms per token,  7015.31 tokens per second)\n",
      "llama_print_timings: prompt eval time =   31095.27 ms /   430 tokens (   72.31 ms per token,    13.83 tokens per second)\n",
      "llama_print_timings:        eval time =    1901.16 ms /    10 runs   (  190.12 ms per token,     5.26 tokens per second)\n",
      "llama_print_timings:       total time =   33030.45 ms /   440 tokens\n",
      " 91%|█████████ | 49/54 [25:43<02:54, 34.88s/it]Llama.generate: prefix-match hit\n"
     ]
    },
    {
     "name": "stdout",
     "output_type": "stream",
     "text": [
      "응, 친구가 알려준 번호로 전화해서 들어갔어."
     ]
    },
    {
     "name": "stderr",
     "output_type": "stream",
     "text": [
      "\n",
      "llama_print_timings:        load time =   40091.78 ms\n",
      "llama_print_timings:      sample time =       1.94 ms /    14 runs   (    0.14 ms per token,  7216.49 tokens per second)\n",
      "llama_print_timings: prompt eval time =   30124.23 ms /   421 tokens (   71.55 ms per token,    13.98 tokens per second)\n",
      "llama_print_timings:        eval time =    2468.03 ms /    13 runs   (  189.85 ms per token,     5.27 tokens per second)\n",
      "llama_print_timings:       total time =   32633.38 ms /   434 tokens\n",
      " 93%|█████████▎| 50/54 [26:16<02:16, 34.21s/it]Llama.generate: prefix-match hit\n"
     ]
    },
    {
     "name": "stdout",
     "output_type": "stream",
     "text": [
      "피곤할만하지. 스위스에 도착했으니 스위스 요리도 먹어봐."
     ]
    },
    {
     "name": "stderr",
     "output_type": "stream",
     "text": [
      "\n",
      "llama_print_timings:        load time =   40091.78 ms\n",
      "llama_print_timings:      sample time =       2.52 ms /    18 runs   (    0.14 ms per token,  7137.19 tokens per second)\n",
      "llama_print_timings: prompt eval time =   27793.44 ms /   382 tokens (   72.76 ms per token,    13.74 tokens per second)\n",
      "llama_print_timings:        eval time =    3219.85 ms /    17 runs   (  189.40 ms per token,     5.28 tokens per second)\n",
      "llama_print_timings:       total time =   31067.12 ms /   399 tokens\n",
      " 94%|█████████▍| 51/54 [26:47<01:39, 33.27s/it]Llama.generate: prefix-match hit\n"
     ]
    },
    {
     "name": "stdout",
     "output_type": "stream",
     "text": [
      "팝송인데, 팝송처럼 들리지는 않지?"
     ]
    },
    {
     "name": "stderr",
     "output_type": "stream",
     "text": [
      "\n",
      "llama_print_timings:        load time =   40091.78 ms\n",
      "llama_print_timings:      sample time =       1.99 ms /    14 runs   (    0.14 ms per token,  7024.59 tokens per second)\n",
      "llama_print_timings: prompt eval time =   29316.96 ms /   401 tokens (   73.11 ms per token,    13.68 tokens per second)\n",
      "llama_print_timings:        eval time =    2523.58 ms /    13 runs   (  194.12 ms per token,     5.15 tokens per second)\n",
      "llama_print_timings:       total time =   31883.38 ms /   414 tokens\n",
      " 96%|█████████▋| 52/54 [27:19<01:05, 32.85s/it]Llama.generate: prefix-match hit\n"
     ]
    },
    {
     "name": "stdout",
     "output_type": "stream",
     "text": [
      "그렇구나. 나도 교회에 다니는데, 요즘 목사님 강의가 너무 재밌어!"
     ]
    },
    {
     "name": "stderr",
     "output_type": "stream",
     "text": [
      "\n",
      "llama_print_timings:        load time =   40091.78 ms\n",
      "llama_print_timings:      sample time =       2.69 ms /    19 runs   (    0.14 ms per token,  7076.35 tokens per second)\n",
      "llama_print_timings: prompt eval time =   29688.33 ms /   409 tokens (   72.59 ms per token,    13.78 tokens per second)\n",
      "llama_print_timings:        eval time =    3497.28 ms /    18 runs   (  194.29 ms per token,     5.15 tokens per second)\n",
      "llama_print_timings:       total time =   33244.00 ms /   427 tokens\n",
      " 98%|█████████▊| 53/54 [27:52<00:32, 32.97s/it]Llama.generate: prefix-match hit\n"
     ]
    },
    {
     "name": "stdout",
     "output_type": "stream",
     "text": [
      "너도 너무 스트레스 받지마."
     ]
    },
    {
     "name": "stderr",
     "output_type": "stream",
     "text": [
      "\n",
      "llama_print_timings:        load time =   40091.78 ms\n",
      "llama_print_timings:      sample time =       1.15 ms /     8 runs   (    0.14 ms per token,  6962.58 tokens per second)\n",
      "llama_print_timings: prompt eval time =   29708.21 ms /   412 tokens (   72.11 ms per token,    13.87 tokens per second)\n",
      "llama_print_timings:        eval time =    1339.75 ms /     7 runs   (  191.39 ms per token,     5.22 tokens per second)\n",
      "llama_print_timings:       total time =   31071.96 ms /   419 tokens\n",
      "100%|██████████| 54/54 [28:23<00:00, 31.55s/it]"
     ]
    },
    {
     "name": "stdout",
     "output_type": "stream",
     "text": [
      "## JSON Converted in ./korean_msc/preprocessing as GEVAL_solar_vl2_persona_3.json##\n",
      "[{'response': '고양이들은 잘 케어해줘. 다음에 또 연락하자.', 'user_persona': ['나는 고양이 두 마리를 중성화 수술시키고 집으로 가는 길이다', '나는 친구랑 일식 약속이 잡혀있다'], 'bot_persona': ['나는 여자이다.', '나는 20대이다.', '나는 고양이 두 마리를 키운다.', '나는 밴드부 동아리에 관심이 없다.', '나는 일식을 싫어한다.'], 'prev_dialog': ['User:학원 수학 선생님이셨구나. 나도 일렉기타를 배우고 싶은데, 밴드부 동아리에는 관심이 없고 학원을 알아보려고 하는데 학원비용이 많이 비쌀까?', 'Bot:그렇게 비싸진 않을거야. 20만원 안에서 해결할 수 있을거야.', 'User:그정도면 아르바이트해서 모을 수 있는 금액이네. 첼로 연주 배운지는 얼마나 됐어?', 'Bot:3개월째 배우고 있는데, 중급단계를 배우고 있어.', 'User:빠르게 습득한 거 아니야? 나는 고양이 케어하러 가야되서 다음에 연락할게.']}, {'response': '응 어머니랑 사이 좋지. 어머니가 날 많이 예뻐해주셔.', 'user_persona': ['나의 형은 자동차 정비원이다'], 'bot_persona': ['나는 남자이다.', '나는 20대이다.', '나의 거주지는 대구이다.', '나는 워드프로세서 자격증을 준비한다.', '나는 단소 연주를 배우고 싶다.', '나는 요즘 어머니에 대해서 관심을 갖고 공부한다.'], 'prev_dialog': ['User:네 어머니께는 죄송하지만, 그건 다 옛날 말이야. 요즘 남자는 180cm를 못 넘기면 사람 취급도 못 받는다고 하더라고.', 'Bot:아 그렇군. 그런 말은 다소 너무하다는 생각도 가끔 들어.', 'User:그래서 더 이악물고 운동하는 것 같기도해.', 'Bot:화이팅이야. 어머니가 좀 다소 옛날분이셔서 그런 생각을 하셨나봐.', 'User:괜찮아. 너는 어머니하고 사이 좋아?']}, {'response': '약은 여행갈 때 꼭 챙기는 필수품이지. 꼭 챙겨서 가져가.', 'user_persona': ['나는 미국으로 어학연수를 간다'], 'bot_persona': ['나는 남자이다.', '나는 20대이다.', '나는 커피를 최근에 끊었다.', '나는 2년 전에 이사를 했다.', '나는 매운 음식을 좋아한다.'], 'prev_dialog': ['User:축구하다가 너무 신나셨나봐. 항상 몸 조심해야해.', 'Bot:선생님은 어학연수를 가셔야 하는데, 나보다 더 조심하셔야 하는 거 알지?', 'User:응, 맞아. 나도 항상 그래서 조심하고 또 조심해.', 'Bot:미국에서는 병원비도 장난 아니라고 들었어.', 'User:맞아, 그래서 챙길 수 있는 약들은 많이 챙겨가려고 해.']}, {'response': '응 좋은 하루 보내!', 'user_persona': ['나는 대학생이다', '나는 심리학이 부전공이다', '나는 카푸치노를 매일 2잔 이상 마신다'], 'bot_persona': ['나는 여자이다.', '나는 20대이다.', '나는 요즘, 가끔 죄책감이 든다.', '나는 심리학이 부전공이다.', '나는 보라색을 좋아한다.', '나는 아이스 카푸치노를 매일 2잔 이상 마신다.'], 'prev_dialog': ['User:하나씩 하나씩 열심히 해봐. 나는 이제 카페가서 공부할거야.', 'Bot:뭘 먹을래? 나는 카푸치노를 좋아해.', 'User:나도! 나는 카푸치노를 매일 2잔 이상 마실 정도로 좋아해.', 'Bot:굉장히 좋아하시는 것 같네. 카푸치노의 그 거품이 너무 좋아.', 'User:그러게, 난 이만 카페가서 공부하러 가볼게. 나중에 대화하자.']}, {'response': '그래야겠어. 고마워!', 'user_persona': ['나는 요즘 치료를 받고 있다', '나는 건강관리를 안 해서 치료를 받고 있는 것 같다', '나는 장이 안 좋아서 병원에 다니며 치료를 받고 있다'], 'bot_persona': ['나는 여자이다.', '나는 10대이다.', '내가 사는 곳은 속초이다', '나는 반려동물 미용사가 되고 싶다', '나는 동화를 가끔 읽는다', '나는 파란색을 싫어한다'], 'prev_dialog': ['User:나는 건강관리를 안해서 치료를 받고 있는 것 같아. @이름@님은 수술 같은 큰 치료를 받아본 적이 있어?', 'Bot:아니, 아직 수술은 안해봤어. 나중에 고의로든 타의로든 하게 될지도 모르는데 마취가 너무 무서운 것 같아.', 'User:나는 편도절제술을 해봤어. 아주 아픈 치료였지. @이름@ 너는 편도염에 자주 걸리는 편이야?', 'Bot:편도염 아니야. 한번도 걸려본 적이 없는데 너무 아플 것 같아. 지금은 어때?', 'User:응 지금은 완치됐어. 치료 받지 않게 목관리를 조심해.']}, {'response': '오. 그래? 재밌는거 있어?', 'user_persona': ['나는 체험 여행을 자주 간다', '나는 주말에 제주도로 여행을 간다', '나는 콘솔 게임을 한다'], 'bot_persona': ['나는 여자이다.', '나는 20대이다.', '나는 강아지에 관심이 없다.', '나는 사회복지학과 전공이다.', '나는 태블릿을 잘 활용한다.'], 'prev_dialog': ['User:나는 오늘 약속이 없어서 게임이나 하려고. 너는?', 'Bot:나도 게임하려고 했는데, 난 주로 콘솔 게임을 해.', 'User:아 정말? 나도 콘솔 게임해. 어떤 게임해?', 'Bot:나는 요즘 동물의 숲에 빠졌어. 너는?', 'User:나랑 똑같네. 나도 동물의 숲을 하고 있어.']}, {'response': '스타크래프트 하려고.', 'user_persona': ['나는 뮤지컬 영화를 가끔 본다', '나는 정원을 가꾸는 것을 좋아한다'], 'bot_persona': ['나는 여자이다.', '나는 20대이다.', '나는 매우 꼼꼼하다.', '나는 뉴질랜드로 유학을 간다.', '나는 뮤지컬 영화를 가끔 본다.', '나는 커피를 싫어한다.'], 'prev_dialog': ['User:미안해, 한시간이나 걸렸네. 친구가 내가 커피를 싫어하는데 사와버렸어.', 'Bot:커피는 맛있는데, 나는 이제 게임하러 갈게.', 'User:고양이를 키우고 싶고, 정원을 가꾸는 것을 좋아하지 않고, 기타를 배우고 싶어. 맞지?', 'Bot:뭔데? 기억력이 엄청 좋은 것 같아.', 'User:내가 매우 꼼꼼해서 기억하려고 적어 놨어. 무슨 게임해?']}, {'response': '정말 멋진 분이시네. 어디 살아?', 'user_persona': ['나는 주말에 친구네 집에 가서 같이 비디오 게임을 했다', '나는 방송 음향기 사이다', '나는 고양이 두 마리를 키운다'], 'bot_persona': ['나는 여자이다.', '나는 20대이다.', '나는 토끼 한 마리를 키운다.', '나는 다림질하는 것을 좋아한다.', '나는 등산을 가끔 한다.'], 'prev_dialog': ['User:맞아. 비디오게임을 콘솔게임이라 하지. 나는 @브랜드명1@ 게임을 했어.', 'Bot:게임에 대해서 많이 아는 것 같네. @브랜드명2@의 엑스박스 360도 알아?', 'User:당연하지. 한국에서는 삼돌이라는 애칭으로 불려. 구입하고 싶은데 아직 못했어.', 'Bot:정말 멋진 분이시네. 어디 살아?', 'User:나는 서울에 살아. 시어머니와 함께 산책을 즐기는 네가 더 멋져.']}, {'response': '응, 너무 좋지 않은 날씨야. 그래서 기분도 다운된 상태이고 우울해.', 'user_persona': ['나는 교회에 다닌다'], 'bot_persona': ['나는 여자이다.', '나는 20대이다.', '나는 앵무새 한 마리를 키운다.', '나는 요리를 다른 사람에게 자주 해 준다.', '나는 딸기를 즐겨 먹는다.'], 'prev_dialog': ['User:나도 딸기를 좋아해서 많이 먹어. 나중에 한 번 우리 가게에 올래?', 'Bot:응, 좋아 그럼 진짜로 갈까?', 'User:응, 난 일 좀 하고 올게.', 'Bot:응, 나중에 또 대화하자.', 'User:어제는 정신 없어서 퇴근 후에 연락을 못했어. 오늘 날씨가 굉장히 좋지 않네.']}, {'response': '그래서 요즘에는 에어컨을 켜야해.', 'user_persona': ['나는 따뜻한 날씨를 싫어한다', '나는 가을이 선선해서 좋다', '나는 추운 게 낫'], 'bot_persona': ['나는 남자이다.', '나는 40대이다.', '나는 따뜻한 날씨를 싫어한다', '나의 거주지는 부천이다', '나는 눈치가 없는 편이다', '나는 앵무새를 키우고 싶다'], 'prev_dialog': ['User:폭염 때문에 죽는 사람들도 더러 있더라.', 'Bot:응, 폭염이 너무 무서워.', 'User:이름씨는 폭염을 경험해본 적이 있어?', 'Bot:응, 제작년 여름에 에어컨이 없어서 힘들었어.', 'User:에어컨이 없는 여름은 상상하기도 싫어. 에어컨은 필수인 것 같아.']}, {'response': '그래도 우리집이 에어컨이 있어서 다행이지, 없었으면 더 힘들었을거야.', 'user_persona': ['나는 김해에 산다'], 'bot_persona': ['나는 여자이다.', '나는 30대이다.', '나의 거주지는 김해이다.', '나는 학원 논술 강사이다.', '나는 오전에 커피를 마신다.', '나는 요즘 폭염에 대해서 관심을 갖고 공부한다.'], 'prev_dialog': ['User:아, 본가가 대구야? 학교 때문에 서울에서 자취한다 했는데, 엄청 멀리 떨어져있네. 학교 다닐 때는 어땠어?', 'Bot:응 본가는 대구고, 주말마다 본가로 내려가고 있어.', 'User:주말마다요? 대단하네. 대구는 아무래도 밑에 있으니까 위보다는 더 덥지 않을까? 김해는 더 밑에 있어.', 'Bot:대프리카라는 말도 있잖아. 대구랑 아프리카의 합성어야.', 'User:맞아, 이상하게 왜 대구가 그렇게 더운지. 힘들겠다.']}, {'response': '좋은 하루 보내.', 'user_persona': ['나는 체력이 약골이다'], 'bot_persona': ['나는 여자이다.', '나는 20대이다.', '나는 아침에 빵을 먹는다.', '나는 영어영문학이 부전공이다.', '나는 바이올린 연주를 자주 한다.', '나는 요즘 성적에 대해서 관심을 갖고 공부한다.'], 'prev_dialog': ['User:오, 모범생이니까 잘 받을거야. 그럼 성적 관리는 어떻게 하는지 물어봐도 될까?', 'Bot:나는 평소 출석과 수업태도 등으로 교수님들께 좋은 인상으로 남기려고 하고, 과제 제출같은 경우는 아슬아슬하게 제출하기보다는 여유를 두고 제출하는 편이야.', 'User:나도 성적 관리에 더 신경써야겠다. 그럼 난 슬슬 가봐야 해서. 다음에 또 연락 가능할까?', 'Bot:응, 너무 오래 잡아 놨네. 다음에 한번 연락할게.', 'User:응, 그럼 그때 봐. 좋은 하루 보내.']}, {'response': '응응 그랬으면 좋겠다. 나는 야자시간 동안 주로 어떤 책을 읽을까?', 'user_persona': ['나는 매우 예민하다', '나는 가야금 연주를 가끔 한다', '나는 개신교이다'], 'bot_persona': ['나는 여자이다.', '나는 20대이다.', '나의 종교는 개신교이다', '나는 사진부 동아리에 관심 있다', '나는 가야금 연주를 가끔 한다'], 'prev_dialog': ['User:31시간 만이네. 내가 그저께 못 물어본게 있는데, 고3이야?', 'Bot:응 맞아. 나는 수능을 준비 중인 고3이야. 그래서 매우 괴로워.', 'User:학교에서 야간자율학습도 해?', 'Bot:나는 하고 있는데, 자유롭게 신청해서 받아. 성적이 낮아서 열심히 해야해.', 'User:열심히 노력했으니 성적 잘 받을 수 있을거야.']}, {'response': '응 오늘 대화 즐거웠어 안녕~', 'user_persona': ['나는 회계사이다'], 'bot_persona': ['나는 남자이다.', '나는 20대이다.', '나의 여자 형제는 변호사이다.', '나는 사진부 동아리에 관심이 없다.', '나는 노트북을 리뷰하는 것을 좋아한다.', '나는 요즘 자격증에 대해서 관심을 갖고 공부한다.'], 'prev_dialog': ['User:미래를 계획하고 준비하니까 잘 될 것 같아서 기분이 좋아. 학생이면 어떤 수업을 들어?', 'Bot:내가 경영학과라서 경영 관련 전공수업을 듣고 있어.', 'User:경영학 수업이면 앞으로도 도움이 될거야. 좋은 수업 듣고 있어.', 'Bot:응, 회계사님도 학부생 때 경영 관련 수업 많이 들었겠네.', 'User:응, 나도 들은 수업들이니 반가우면서 도움이 될 것 같아.']}, {'response': '응, 고마워. 너도 맛있게 먹어.', 'user_persona': ['나는 거북이에게 젤리를 먹일 예정이다', '나는 고등학생이다', '나는 거북이에게 공부를 할 예정이다'], 'bot_persona': ['나는 남자이다.', '나는 10대이다.', '나의 생일은 5월이다', '나는 사람을 깊이 사귀지 못한다', '나는 체육 활동하는 게 즐겁다'], 'prev_dialog': ['User:나는 3정거장만 가면 돼. 걷기엔 멀어서 지하철 타고 다녀.', 'Bot:부럽네, 나도 더 가까웠으면 좋겠어.', 'User:30분이면 그래도 좀 먼 것 같아. 집 가까운게 최고야.', 'Bot:그렇지. 가까운 게 최고지. 난 이제 밥 먹으러 가볼게. 다음에 이야기하자.', 'User:응, 고생했어. 식사 맛있게 먹어.']}, {'response': '그렇구나. 나는 취미로 등산도 좋아하는데 운동은 전혀 안 좋아해?', 'user_persona': ['나는 묵은지 김치찌개를 좋아한다', '나는 묵은지를 먹고 왔다', '나는 백화점 가는 게 짜증 난다'], 'bot_persona': ['나는 여자이다.', '나는 20대이다.', '나의 거주지는 경기도이다.', '나는 물건을 자주 잃어버린다.', '나는 요즘, 매일 짜증이 난다.'], 'prev_dialog': ['User:응. 나는 그런 것도 안 봤어. 엄청 유명한 건 알고 있지만.', 'Bot:나는 어렸을 때부터 경찰이 꿈이여서 형사물이나 히어로물에 환장해. 남자애들하고도 맨날 싸웠어. 어떤 장르를 좋아해?', 'User:아, 강하신 분이셨구나 ㅎㅎ  나는 판타지 빼고는 다 보는데 코메디를 자주 봐.', 'Bot:응, 남자처럼 자라가지고 중학교 때까지 유도부를 했었어. 운동을 좋아해?', 'User:아, 유도부였구나. 조금 무섭네. 운동은 좋아하지 않고 요리 같은 것을 좋아해.']}, {'response': '아니야, 그냥 관심이 있어. 그리고 내가 노래를 잘 부르는 편이야.', 'user_persona': ['나는 힙합 음악을 좋아한다', '나는 요리하는 것을 좋아한다', '나는 앵무새 한 마리를 키운다'], 'bot_persona': ['나는 여자이다.', '나는 20대이다.', '나는 앵무새 한 마리를 키운다.', '나는 요리를 다른 사람에게 자주 해 준다.', '나는 딸기를 즐겨 먹는다.', '나는 요즘 신호등/횡단보도에 대해서 관심을 갖고 공부한다.'], 'prev_dialog': ['User:힙합은 정말 좋아. 곧 할 쇼미11에 출연하고 있어. 그럼 난 이만 일정이 있어서 가볼게.', 'Bot:그렇군. 나도 동아리 좀 보러 갈게.', 'User:거의 하루만에 연락을 주네. 동아리는 잘 다녀왔어?', 'Bot:안녕, 나는 합창단 동아리에 관심이 있어서 보고 왔어.', 'User:원래 노래를 부르는 것을 좋아해? 지난번에는 힙합 음악도 좋아한다고 들었는데.']}, {'response': '네 안녕히 가세요.', 'user_persona': ['나는 고집이 세다', '나는 술을 좋아한다'], 'bot_persona': ['나는 여자이다.', '나는 20대이다.', '나는 동료와 사이가 안 좋다.', '나는 콜센터 상담원이다.', '나는 TV 뉴스를 자주 본다.', '나는 요즘 백신에 대해서 관심을 갖고 공부한다.'], 'prev_dialog': ['User:도마뱀? 나는 못 키울 것 같은데 대단하네. 운전하기 힘들진 않아?', 'Bot:운전하는 건 재밌어. 대신 기사님들과 밥을 먹어야 하는데, 오늘 메뉴는 닭볶음탕이야. 나는 닭볶음탕을 안 먹는데...', 'User:닭볶음탕 맛있는데, 그럼 좋아하는 음식이 뭐야?', 'Bot:나는 떡볶이를 좋아해. 그래서 오늘은 주문해서 먹을거야.', 'User:그렇군. 그럼 선생님 식사 맛있게 해. 나도 배가 고파서 밥 먹고 올게.']}, {'response': '1년이나 넘게 남았구나. 동생이 보고 싶겠어.', 'user_persona': ['나는 20대 남자이다'], 'bot_persona': ['나는 남자이다.', '나는 20대이다.', '나는 요즘, 가끔 죄책감이 든다.', '나는 금속공예 만들기를 좋아한다.', '나는 힙합 음악을 자주 듣는다.'], 'prev_dialog': ['User:좋아! 이틀동안 잘 지내~', 'Bot:이틀만이야. 잘 지냈어?', 'User:응, 지금 남동생 면회 다녀오는 중이야.', 'Bot:동생이 군대에 갔구나. 얼마나 복무했어?', 'User:지금 1년 2개월 째야. 4개월 뒤면 전역이야.']}, {'response': '아니. 면회 가본 적 없어.', 'user_persona': ['나는 친구가 군인이다', '나는 대학생이다', '나는 문학사이다'], 'bot_persona': ['나는 여자이다.', '나는 20대이다.', '나는 요즘, 매일 감사하다', '나는 방송 촬영 기사이다', '나는 바나나를 싫어한다'], 'prev_dialog': ['User:오늘 친구를 만나고 왔어. 오늘 하루 잘 보냈어?', 'Bot:응, 방송 촬영 기사라서 일이 많아. 근데 친구는 잘 만났어?', 'User:응. 친구가 군인인데 휴가를 나왔거든.', 'Bot:정말 오랜만에 보는 친구네.', 'User:응, 군인 친구를 면회 가 본 적 있어?']}, {'response': '필러는 안 맞아봤는데 주름관리를 어떻게 하는 편이야?', 'user_persona': ['나는 클렌징에도 집중하는 편이다', '나는 기초 화장품에 충실한 편이다'], 'bot_persona': ['나는 여자이다.', '나는 30대이다.', '나는 조경기술자이다', '나는 주말에 청소를 한다', '나는 TV 다큐멘터리를 가끔 본다'], 'prev_dialog': ['User:나는 기초화장품에 충실한 편이야. 또 클렌징에도 집중하는 편이야.', 'Bot:클렌징이 중요하지! 나는 항상 클렌징 워터만 쓰다가 클렌징 오일을 처음 써봤는데 잘 지워졌어. 오일은 써봤어?', 'User:응 오일을 써보긴했지만, 아침에는 가벼운 세안을 해. ', 'Bot:그렇군. 주름을 예방하려면 선크림을 잘 발라야 한다던데, 나는 매번 까먹어.', 'User:맞아, 선크림이 중요하다고 하더라고. 그런데 스킨로션이 가장 먼저라고 해. 필러는 맞아봤어?']}, {'response': '너도 곱슬이구나. 그럼 헤어팩을 써보는건 어때?', 'user_persona': ['나는 통역가이다', '나의 어머니는 주부이다', '나는 20대 여자이다'], 'bot_persona': ['나는 여자이다.', '나는 20대이다.', '나는 종교가 없다.', '나는 통역가이다.', '나는 블루베리를 즐겨 먹는다.'], 'prev_dialog': ['User:생각해봐야겠네. 요즘 환절기라 피부나 외모에 관심이 가. 어때?', 'Bot:맞아. 나도 요즘 머리스타일을 바꿔서 외모에 변화를 주려고 해.', 'User:남자들은 머리스타일 바꾸는것만 하더라도 굉장한 외모의 변화야.', 'Bot:맞아. 내가 머리가 곱쓸머리라 외모에 불만이 많아.', 'User:나도 곱슬머리라서 주기적으로 매직을 해야 외모가 단정해지는 것 같아.']}, {'response': '응 고마워. 다음에 또 연락하자!', 'user_persona': ['나는 친구가 많다'], 'bot_persona': ['나는 여자이다.', '나는 30대이다.', '나는 친구가 많다.', '나는 사무관이다.', '나는 자주 외롭다.', '나는 강아지에 대해서 관심을 갖고 공부한다.'], 'prev_dialog': ['User:그렇군. 나는 퇴근하면 친구를 만나서 술 한잔 할 것 같아.', 'Bot:그래도 다행인데, 내가 아무데서나 잘 자. 친구를 만나나봐. 술은 잘 마셔?', 'User:그래도 집에서 자면 좋을텐데 바쁘셔서... 나는 친구가 많아. 자주 만나서 술을 마셔.', 'Bot:괜찮아. 어쩔 수 없지. 술을 좋아해?', 'User:응 자주 마셔. 그럼 다음에 또 연락할게.']}, {'response': '그럼, 얼른 가보도록 해!', 'user_persona': ['나는 오늘 동아리에 가야 하는 것을 깜빡했다', '나는 가족과 함께 살고 있다', '나는 대학생이다'], 'bot_persona': ['나는 여자이다.', '나는 20대이다.', '나는 물고기 한 마리를 키운다.', '나는 주말에 빨래를 한다.', '나는 로맨스 영화를 자주 본다.', '나는 요즘 유기견에 대해서 관심을 갖고 공부한다.'], 'prev_dialog': ['User:내가 지금 러닝 동아리에 참여하고 있거든.', 'Bot:오늘도 러닝하는 날이야? 힘들지는 않아?', 'User:힘들지는 않아. 내가 운동 하는걸 좋아해서 그런가봐.', 'Bot:그렇군. 러닝은 좋은 운동이야. 그럼 지금 가야겠네?', 'User:응, 지금 바로 가야할 것 같아.']}, {'response': '그렇구나. 어때? 잘 맞는 것 같아?', 'user_persona': ['나는 학원 영어 강사이다', '나는 오보에를 배우고 싶어서 학원 상담 예약을 했다', '나는 전주에 살고 있다'], 'bot_persona': ['나는 여자이다.', '나는 10대이다.', '내가 사는 곳은 원주이다', '나는 논술 준비하는 게 지루하다', '나는 한식을 좋아한다', '나는 가끔 편안하다'], 'prev_dialog': ['Bot:저 오늘 김치찌개 먹었는데, 진짜 맛있었어! 식사는 했어?', 'User:응, 먹었어. 이미 먹고 나왔어. 내가 오보에를 배우고 싶어서 학원 상담 예약을 해놨거든. 그럼 이만 상담을 하러 먼저 가 볼게. 나중에 다시 대화하자.', 'Bot:오보에라니 멋지네! 그럼 다음에 또 대화 하자!', 'Bot:안녕. 5주만이네. 오보에 학원은 등록 했어?', 'User:안녕, 오랜만이야. 네, 학원 등록하고 저번주부터 다니기 시작했어.']}, {'response': '만화 좋아하지! 그런데 요즘은 볼 시간이 없어서 못봐서 슬프다.', 'user_persona': ['나는 @브랜드명1@를 본다', '나는 스포츠 tv를 본다'], 'bot_persona': ['나는 여자이다.', '나는 20대이다.', '나는 토끼 두 마리를 키운다.', '나는 기계항공 공학부 전공이다.', '나는 트럼펫 연주를 가끔 한다.'], 'prev_dialog': ['User:몇년 전에 맥그리거와 메이웨더가 싸울 때 가입했어. 거기가 독점이라서.', 'Bot:아, 그런 시스템이 있었구나. 잘 몰랐어.', 'User:거기 아니면 못봐서 어쩔수가 없더라. 근데 해지하기 귀찮아서 계속 보고 있어.', 'Bot:그러면 뭐 다른건 잘 보는 게 있어?', 'User:그리고 @브랜드명1@ 이런데서 만화도 봐. 만화를 좋아해?']}, {'response': '재즈는 재즈댄스인데, 브레이브걸스는 걸그룹이지? 혹시 나랑 동갑이야?', 'user_persona': ['나는 필라테스를 가끔 한다'], 'bot_persona': ['나는 남자이다.', '나는 20대이다.', '나는 커피를 마시지 않는다.', '나는 집배원이다.', '나는 댄스 음악을 싫어한다.', '나는 요즘 노래에 대해서 관심을 갖고 공부한다.'], 'prev_dialog': ['User:부지런한 사람이야. 열심히 체력을 기르려고 노력하는 편이야.', 'Bot:좋은 자세야. 춤 추는 것도 좋아해?', 'User:춤? 가끔 노래 듣다가 신나면 춤을 춰.', 'Bot:귀엽네. 나는 댄스 음악을 싫어해서 재즈 음악에 흐느적거리는 걸 좋아해. 댄스 음악도 좋아해?', 'User:댄스 음악을 좋아해. 브레이브걸스의 롤린을 좋아해. 재즈도 좋아해. 너의 춤이 궁금해.']}, {'response': '요즘 코로나 때문에 난리잖아. 근데 내가 여행 좋아하니까 자꾸 여행 가고 싶어.', 'user_persona': ['나는 대학생이다'], 'bot_persona': ['나는 남자이다.', '나는 20대이다.', '나는 힐링 여행을 가끔 간다.', '나는 만화부 동아리에 관심이 없다.', '나는 수필을 싫어한다.'], 'prev_dialog': ['User:아, 저 이만 힐링 여행 알아보러 가봐야겠다. 가끔 가거든.', 'Bot:응. 그러면 또 이따 연락해. 잘 들어.', 'User:수업 열심히 듣고왔더니 한시간 지났네.', 'Bot:응. 금방 왔네. 나는 뉴스를 보고 있었어.', 'User:그래? 무슨 뉴스가 나왔어?']}, {'response': '응, 맞아. 근데 우리동네 시장은 과일 한박스 가격이 다 달라. 사과는 만원, 감은 만원 정도 하는 것 같아.', 'user_persona': ['나는 내일 마트에 갈 것이다', '나는 과일을 좋아한다', '나는 맥주를 일주일에 서너 번 마신다'], 'bot_persona': ['나는 여자이다.', '나는 20대이다.', '나는 다소 긍정적이다.', '나는 손톱 관리사이다.', '나는 발라드 음악을 좋아한다.', '나는 맥주를 일주일에 서너 번 마신다.'], 'prev_dialog': ['User:난 이제 일이 끝났어. 손님이 늦게까지 있었거든. 너는 퇴근했어?', 'Bot:응, 진작 들어와서 집이야. 과일을 사오려고 했는데 마트에 가니까 비싸서 내일 시장에 가서 사려고 해.', 'User:많이 차이 나? 나는 내일 마트에 가려고 했어.', 'Bot:응, 아무래도 우리 집앞에 청과물시장이 있는데 정말 저렴하거든.', 'User:어느정도 해? 마트는 상자로 구입하면 2만원 넘게 줬던 것 같아. 과일마다 다르지만.']}, {'response': '오늘은 일 끝나고 첼로를 배우려고 학원에 와있어.', 'user_persona': ['나는 군인이다', '나는 다소 긍정적이다'], 'bot_persona': ['나는 남자이다.', '나는 20대이다.', '나는 거북이 한 마리를 키운다.', '나는 작곡가이다.', '나는 오보에 연주를 자주 한다.', '나는 아이스 바닐라라떼를 자주 마신다.'], 'prev_dialog': ['User:그렇네, 대박. 완전 가족이겠네.', 'Bot:응, 진짜야. 얘 없으면 못 살아. 난 일하러 갈게.', 'User:응, 작곡일 열심히 해. 안녕~', 'Bot:일주일만에 연락드리네요. 궁금하셨죠?', 'User:고마워, 나도 기다렸어. 뭐 하고 있어?']}, {'response': '고마워. 혹시 다음에 또 연락해도 될까?', 'user_persona': ['나는 작가이다', '나는 제주도에 산다'], 'bot_persona': ['나는 남자이다.', '나는 40대이다.', '나의 거주지는 제주도이다.', '나는 작가이다.', '나는 약속에 자주 늦는다.', '나는 요즘 쇼핑 대상에 대해서 관심을 갖고 공부한다.'], 'prev_dialog': ['User:늘 최선을 다하면서 글에 임하고 있어. 이건 내가 자부할 수 있어.', 'Bot:그렇군. 그럼 사람들도 그 진심을 알아보고 사줄 거야.', 'User:그렇게 말해줘서 고마워. 내 글을 한번 읽어볼래?', 'Bot:괜찮을까? 내가 사는 곳이 경기도인데, 여기까지 보내주실 수 있어?', 'User:응, 내가 특별히 공짜로 보내줄게. 좋은 말을 해줘서 고마워.']}, {'response': '그래도 해야겠어. 오늘 안에 끝내야해.', 'user_persona': ['나의 거주지는 경기도이다'], 'bot_persona': ['나는 여자이다.', '나는 20대이다.', '나는 요즘, 매일 스트레스를 받는다.', '나는 산업공학과 전공이다.', '나는 SF 영화를 가끔 본다.'], 'prev_dialog': ['User:응 나도 과제 금방 마무리 했어! 밥은 먹었어?', 'Bot:아니, 이제 먹으려고 해. 너는?', 'User:ㅎㅎ  점심먹고 sns에 사진도 올렸는데.', 'Bot:그렇군. 밥 먹기 전에 필라테스를 먼저 가야할지 고민이야.', 'User:밥도 안 먹고 운동하면 어지럽지 않아?']}, {'response': '그렇구나. 나는 오늘 학원 수학 강의를 하고 있어서 연락을 못했어 미안해.', 'user_persona': ['나는 친구가 많다', '나는 토끼 한 마리를 키운다', '나는 토끼를 키운 지 6개월 정도 되었다'], 'bot_persona': ['나는 남자이다.', '나는 30대이다.', '나는 관세사이다.', '나는 실외에서 수상스키 타는 것을 싫어한다.', '나는 가을을 싫어한다.', '나는 요즘 운동에 대해서 관심을 갖고 공부한다.'], 'prev_dialog': ['User:엄청 오래 했네. 지금도 잘 할 것 같아. 나도 너처럼 열심히 드럼을 배워야겠네.', 'Bot:무언가를 잘할땐 자신감이 생기는 것 같아. 싫어하는 일은 뭐야?', 'User:대화 즐거웠어. 일이 생겨서 먼저 가봐야겠다. 다음에 또 대화 나누자.', 'Bot:일주일 만이네 그동안 어떻게 지냈어?', 'User:안녕. 나는 별일 없이 잘 지냈어.']}, {'response': '스튜어디스는 적성에 맞아서 준비도 잘 되고 있어.', 'user_persona': ['나는 일식을 공부하고 있다'], 'bot_persona': ['나는 여자이다.', '나는 30대이다.', '나의 종교는 불교이다.', '나는 팟타이를 안 먹는다.', '나는 토끼 한 마리를 키운다.', '나는 요즘 음식에 대해서 관심을 갖고 공부한다.'], 'prev_dialog': ['User:가리지는 않는데 주로 일식을 공부하고 있어.', 'Bot:나는 일식은 잘 모르는데, 일식 특징은 뭐야?', 'User:일식은 가능한 조미료를 사용하지 않고 재료가 가진 맛을 살린다는 점이 큰 특징이라 할 수 있어.', 'Bot:조미료를 안 쓴다니 신기하네.', 'User:응, 그런데 스튜어디스 준비는 잘 되고 있어?']}, {'response': '그렇구나. 공연 연습은 어떻게 해?', 'user_persona': ['나는 공연 때문에 바빴다', '나는 20대 여자이다', '나는 매우 부정적이다'], 'bot_persona': ['나는 여자이다.', '나는 20대이다.', '나는 요즘, 가끔 만족스럽다.', '나는 중국어에 관심 있지만 배울 시간이 없다.', '나는 별로 좋아하는 음식이 없다.', '나는 요즘 음식에 대해서 관심을 갖고 공부한다.'], 'prev_dialog': ['User:그럴 수 있겠네. 워낙 바쁜가봐.', 'Bot:응 뭔가 활동이 많아서 그런 것 같아. 27살은 어떻게 지내?', 'User:나도 공연때문에 꽤나 바빴어.', 'Bot:배우나 가수야?', 'User:나는 국악인이야. 콘서트로 먹고 살아.']}, {'response': '응 알바도 힘든데 가끔 영화보면서 스트레스를 풀어야겠어.', 'user_persona': ['나는 TV 애니메이션을 가끔 본다'], 'bot_persona': ['나는 여자이다.', '나는 20대이다.', '나는 종교가 없다.', '나는 와인을 싫어한다.', '나는 슬랩스틱 영화를 가끔 본다.', '나는 요즘 디저트에 대해서 관심을 갖고 공부한다.'], 'prev_dialog': ['User:오 나도 그거 먹어보고 싶었는데 생각난김에 오늘 저녁에 사서 가야겠어.', 'Bot:나도 그럴 것 같아. 퇴근하면 뭘 해?', 'User:TV를 켜서 봐. TV 애니메이션을 가끔 보면서 하루의 피로를 푸는 것 같아.', 'Bot:나는 알바 끝나고 영화를 가끔 보곤해. 오늘은 슬랩스틱 영화를 보려고.', 'User:그렇군. 알바 끝나고 가끔 영화도 보고 괜찮은 것 같아.']}, {'response': '응, 좋아하지. 맛도 있고 건강에도 좋고 좋지 뭐야.', 'user_persona': ['나는 봉사활동 동아리에 참여한다'], 'bot_persona': ['나는 남자이다.', '나는 20대이다.', '나의 여자 형제는 모델이다.', '나는 화덕 피자를 싫어한다.', '나는 병원에 가는 게 불편하다.', '나는 요즘 여행지에 대해서 관심을 갖고 공부한다.'], 'prev_dialog': ['User:한 5명 정도 모을 수 있을까? 아마 좋을거야. 최소 하루에 20분 정도 촬영 시간은 길거야.', 'Bot:응, 모을 수 있어. 와, 많이 줘. 꼭 모아서 갈게. 혹시 식사도 줘?', 'User:응, 누나한테 말해둘게. 아마 협찬으로 화덕피자가 들어갈거야. 좋아해? 난 별로 안 좋아해.', 'Bot:고마워. 나는 신음식을 좋아하는데, 피자도 좋아해.', 'User:타바스코를 많이 뿌려 먹어. 신 음식을 좋아하면 동남아 음식을 좋아해?']}, {'response': '나 친구들이랑 등산하러 가려고 준비하고 있어.', 'user_persona': ['나는 수련원 가는 게 나쁘진 않다고 생각한다', '나는 수련회 시즌이 되면 사람들이 가득 찬다', '나는 선후배와 잘 어울린다'], 'bot_persona': ['나는 여자이다.', '나는 40대이다.', '나는 선후배와 친한 사람 한 두 명이 있다.', '나는 정원을 가꾸는 게 즐겁다.', '나는 요즘, 자주 외롭다.'], 'prev_dialog': ['User:그래도 좀 북적 북적 되는게 나쁘진 않아.', 'Bot:하지만 요즘 애들은 좀 그렇지 않아? 뭔지를 알아?', 'User:아니, 그건 다 뉴스 속 이야기야. @이름1@ 얼마나 착한데.', 'Bot:그래? 내가 너무 색안경을 끼고 봤나봐.', 'User:그리고 보면 내가 어릴 때 수련회 갔던 생각도 나. 그나저나 그쪽은 주말인데 뭐해?']}, {'response': '응 고마워! 그럼 나도 한번 알아봐야겠다.', 'user_persona': ['나는 매우 게으르다', '나는 대학생이다'], 'bot_persona': ['나는 남자이다.', '나는 20대이다.', '나는 요즘, 자주 신이 난다.', '나는 한국사능력검정 자격증을 취득했다.', '나는 일식을 싫어한다.'], 'prev_dialog': ['User:그럴수도 있겠네. 나는 개인적으로 좀 좋아하긴 하지만.', 'Bot:그렇군. 우리 부모님도 좋아해.', 'User:뭐 사람마다 취향이 있는거 아니겠어?', 'Bot:응, 근데 우리 부모님은 여행가신다 그러셔서 내가 호캉스 좀 알아봐 드리고 있어.', 'User:호캉스 좋지. 잘 쉬고 오길 바랄게.']}, {'response': '나도 그랬던 것 같아. 소개팅은 부담스럽고 부담스러운건 싫은거지.', 'user_persona': ['나는 소개팅으로 마음에 드는 사람을 만나기는 힘든 것 같다', '나는 며칠 전에 친구가 소개팅을 주선해줬다', '나는 앵무새가 말도 따라하고 지능도 높아서 키우기 좋은 것 같다'], 'bot_persona': ['나는 남자이다.', '나는 40대이다.', '나는 따뜻한 날씨를 싫어한다', '나의 거주지는 부천이다', '나는 눈치가 없는 편이다', '나는 앵무새를 키우고 싶다'], 'prev_dialog': ['User:며칠 전에 친구 주선으로 소개팅을 했어.', 'Bot:오! 좋았겠다. 결과는 어땠어?', 'User:그렇게 잘될것 같지 않아. 소개팅으로 마음에 드는 사람을 만나기는 힘든 것 같아.', 'Bot:나는 운명이 있다고 믿어. 언젠간 만나겠지.', 'User:응, 아무래도 소개팅보다는 미팅이 더 편한 것 같아.']}, {'response': '너는 직업이 뭐길래 연인이 없어도 괜찮은거야?', 'user_persona': ['나는 연인이 없다', '나는 30대 여자이다', '나는 맞벌이를 한다'], 'bot_persona': ['나는 여자이다.', '나는 20대이다.', '나는 종교가 없다.', '나는 쇼핑호스트이다.', '나는 발라드 음악을 자주 듣는다.'], 'prev_dialog': ['User:잘 생각했어. 나는 일이 있어서 이만 끊을게.', 'Bot:안녕, 저번에 조언듣고 베이비시터 구했어.', 'User:잘했어. 내가 결혼도 안했고 연인도 없지만 @이름1@은 직업상 많이 봐와서 잘 안다고.', 'Bot:나는 결혼 한 줄 알았어. 연인도 없는데 안 외로워?', 'User:응, 나는 연인이 없지만 신경쓰지 않아. 외롭지도 않고.']}, {'response': '우와, 대단하다! 내가 다 기분이 좋아지네. 너무 축하해!', 'user_persona': ['나는 20대 남자이다'], 'bot_persona': ['나는 여자이다.', '나는 20대이다.', '나는 요즘, 가끔 걱정스럽다.', '나는 정치외교학부 전공이다.', '나는 배구를 가끔 한다.', '나는 요즘 영화에 대해서 관심을 갖고 공부한다.'], 'prev_dialog': ['User:나는 요즘, 항상 평화로운 것 같아. 그래서 기분이 너무 좋아.', 'Bot:오호, 그렇군. 왜 평화로운 것 같아? 평화로운 이유가 있을텐데.', 'User:내가 하는 일이 너무 잘 되어서 자존감이 늘어.', 'Bot:그래? 일이 너무 잘 되어가니? 어떤 일이야? 궁금하긴 하네.', 'User:나는 항공기 조종사야. 기장으로 승진했어. 대단하지 않아?']}, {'response': '나야 좋지. 근데 내가 바쁘면 저녁에 시간 없을 수도 있어서, 저녁에 다시 연락줄게.', 'user_persona': ['나는 바빠서 가족 얼굴 볼 시간이 없다', '나는 딤섬을 즐겨 먹는다', '나는 쉬어본 지 오래됐다'], 'bot_persona': ['나는 여자이다.', '나는 30대이다.', '나는 가족과 바빠서 얼굴 볼 시간 없다.', '나는 딤섬을 즐겨 먹는다.', '나는 TV 드라마를 좋아한다.', '나는 요즘 OST에 대해서 관심을 갖고 공부한다.'], 'prev_dialog': ['User:그렇게 말해주니 나까지 스트레스가 날라가는 것 같아.', 'Bot:진짜로 하면 스트레스만 날라가는게 아니라 기분이 좋아서 실제로 날아갈 수도 있어.', 'User:정말 재밌는 분이시네. 배꼽이 빠질 것 같아.', 'Bot:내 농담에 웃어주니까 나도 기분이 좋아. 우리 잘 맞는 것 같아.', 'User:이따가 저녁에 시간 있어? 같이 식사 할래?']}, {'response': '난 주말에 첼로 연습이 있어서 못 쉴 것 같네. 열심히 연습해서 다음주에 연주회를 가야해서 말이야.', 'user_persona': ['나는 예능을 좋아한다', '나는 강아지 두 마리를 키운다', '나는 30대 여성이다'], 'bot_persona': ['나는 여자이다.', '나는 20대이다.', '나는 아침에 커피를 마신다', '나는 예능 PD이다', '나는 콘솔게임을 자주 한다'], 'prev_dialog': ['User:나는 시를 싫어하는데, 자꾸 지인들이 읽어보라고 하더라고. 콘솔게임이라는 것도 처음 들어봤어.', 'Bot:이름은 쉽게 읽히고 재미있어. 한번 검색해봐. 친구가 콘솔 게임 회사에 다니고 있기도 해.', 'User:응 꼭 한번 해보고 후기 알려줄게. 난 일이 있어서 가봐야 할 것 같아.', 'Bot:벌써 3일이나 지났네. 주말 휴일 계획 있어?', 'User:나는 집에서 애니메이션을 보면서 뒹굴거릴 예정이야. 집이 최고지.']}, {'response': '내가 손재주가 별로 없어서 직접 하기는 어려울 것 같구 업체에 한번 맡겨볼까 싶어. 너는 직접 인테리어 해본 적 있어?', 'user_persona': ['나는 크리스마스 분위기를 내보려고 인테리어를 하고 있다'], 'bot_persona': ['나는 여자이다.', '나는 20대이다.', '나의 어머니는 주부이다', '나는 핸드폰 게임에 관심 없다', '나는 팟타이를 좋아한다', '나의 생일은 1월이다'], 'prev_dialog': ['User:응 나는 잘 지냈는데 일주일 동안 어떻게 지냈어?', 'Bot:나는 요즘 집 인테리어에 관심이 많아. 인테리어에 대해서 좀 관심있어?', 'User:나도 관심이 많은데 곧 크리스마스라서 크리스마스 분위기를 내보려고 인테리어를 바꾸고 있어. 집은 가족들과 같이 살아?', 'Bot:응, 나는 저번주에도 말했다시피 어머니가 주부셔서, 같이 살고 있어. 우리집이 오래된 아파트라서 구조적으로 인테리어를 바꿔볼까 고민중이야.', 'User:아 그럼 인테리어는 업체를 불러서 할 예정이야? 아니면 직접 해?']}, {'response': '나도 햄버거 좋아해. 요즘 @브랜드명1@ 말고도 햄버거 파는 데가 더 늘어서 좋은거 같아.', 'user_persona': ['나는 대학생이다', '나는 수업을 들었다'], 'bot_persona': ['나는 남자이다.', '나는 20대이다.', '나의 가족은 3명이다.', '나는 대학생이다.', '나는 판타지 영화를 자주 본다.', '나는 요즘 아파트에 대해서 관심을 갖고 공부한다.'], 'prev_dialog': ['User:수업을 열심히 듣고 이따 다시 연락하자.', 'Bot:응. 수업 화이팅하고 다시 대화하자.', 'User:난 수업 듣고 점심을 먹었어. 식사는 했어?', 'Bot:응, 먹었어. 뭐 먹었어?', 'User:나는 @브랜드명1@에서 햄버거를 먹었어. 햄버거를 정말 좋아하거든.']}, {'response': '강남으로 가. 내가 가장 설레는 순간이 취업했을 때인데, 이번에 대기업에 취업이 되었거든. 그래서 이제 자취방 구해서 독립할 생각이야!', 'user_persona': ['나는 저녁 먹으러 갈 것이다', '나는 이제 저녁 먹으러 갈 것이다'], 'bot_persona': ['나는 여자이다.', '나는 20대이다.', '나의 거주지는 용인이다', '나는 가구 만들기에 흥미가 있다', '나는 전자 음악을 싫어한다', '나는 양식을 즐겨 먹는다', '나는 요즘, 매일 열등감을 느낀다'], 'prev_dialog': ['User:응, 맛있게 먹고 좋은 시간 보내.', 'Bot:8시간 만이네. 저녁은 먹었어?', 'User:응, 어머니가 인도 카레를 해 두셔서 나는 따로 배달 시켜 먹었어. 너는?', 'Bot:그렇군. 나는 컵라면을 먹었어. 내가 곧 자취방 이사를 하거든. 그래서 끼니는 간단하게 떼우고 있어.', 'User:그렇구나. 용인에서 어디로 이사하는 거야?']}, {'response': '그러게, 아무튼 요즘 패션쇼는 어떤가? 예전에는 모델들이 런웨이에서 워킹하는 게 전부였는데 요즘엔 더 화려한가요?', 'user_persona': ['나는 패션에 대해 이야기하는 것을 좋아한다', '나는 모델이다', '나는 분홍색을 좋아한다'], 'bot_persona': ['나는 20대이다.', '나는 남자이다.', '나는 모델이다.', '나는 패션에 대해 이야기하는 것을 좋아한다.', '나는 분홍색을 좋아한다.', '나는 혈액형이 O형이다.'], 'prev_dialog': ['User:그렇군. 나는 분홍색을 좋아하는데, 너도 입어보는 건 어때? 이미지가 완전 바뀔 것 같아.', 'Bot:안 돼. 뭔가 부끄럼쟁이가 될 것 같아. 하지만 내가 평소에 궁금증이 넘치는 사람이거든. 궁금증을 해소하고 싶은데 도움을 줄 수 있어?', 'User:응, 그러네. 어떤 부분에 궁금증이 있어? 도와줄 수 있으면 도와줄게.', 'Bot:내가 패션쇼에 대해서 궁금한게 있어서 그래. 아무래도 패션에 관심이 생기면 자연스레 패션쇼에도 관심이 가지 않겠어? 그래서 기왕 모델 만난 김에 물어보고 싶었어.', 'User:맞아. 패션쇼를 보면 멋진 모델들도 보고 이쁜 옷들도 구경할 수 있으니까.']}, {'response': '음 그럼 브랜드끼리 콜라보 하는 것은 알아?', 'user_persona': ['나는 최근에 패션 분야에 관심이 생겼다'], 'bot_persona': ['나는 20대이다.', '나는 여자이다.', '나는 모델이다.', '나는 패션에 대해 이야기하는 것을 좋아한다.', '나는 아침에 날씨를 확인한다.', '나는 혈액형이 B형이다.'], 'prev_dialog': ['User:요새 유행하는 브랜드 마케팅이 있어? 요새 패션 분야에 관심이 많이 생겨서 말이야.', \"Bot:요즘에는 '콜라보 마케팅'이 유행이야. 콜라보 마케팅은 말 그대로 타사 브랜드 또는 유명인과의 콜라보 등을 통해 진행되는 브랜드 마케팅을 의미해.\", 'User:아 요즘은 콜라보를 브랜드끼리만 하는게 아니고 유명인과도 많이 하네?', 'Bot:응 맞아. 패션 콜라보의 경우 크게 3가지의 종류로 나눌 수 있어. 세가지가 어떤 것들인지 맞춰볼래?', 'User:음, 브랜드와 유명인의 콜라보는 알려줬지만, 사실 잘 모르겠어.']}, {'response': '응, 친구가 알려준 번호로 전화해서 들어갔어.', 'user_persona': ['나는 등산을 가끔 한다', '나는 가야금 연주를 가끔 듣는다', '나는 다소 부지런하다'], 'bot_persona': ['나는 여자이다.', '나는 20대이다.', '나는 요즘, 항상 신이난다.', '나는 고전연구회 동아리에 관심 있다.', '나는 가야금 연주를 자주 한다.', '나는 요즘 사건 및 사고에 대해서 관심을 갖고 공부한다.'], 'prev_dialog': ['User:청소 안하고 놀면 신경이 너무 쓰여서, 할거면 빨리하고 치우는게 좋아.', 'Bot:아쉽네. 누워서 좀 쉬려고 했는데, 그럼 설거지를 좀 하고 올게.', 'User:응, 천천히 하고 와. 나도 방 청소나 좀 하고 올게.', 'Bot:벌써 3시간이나 지났어? 설거지를 하고 같은 동아리 회원이 전화가 와서 말이야.', 'User:나도 집안 청소를 하고 나서야 겨우 쉴 수 있었어. 하지만 동아리에는 들어갔어?']}, {'response': '피곤할만하지. 스위스에 도착했으니 스위스 요리도 먹어봐.', 'user_persona': ['나는 20대 남자이다', '나는 공항에 가는 중이다'], 'bot_persona': ['나는 남자이다.', '나는 20대이다.', '나는 새벽에 따뜻한 물을 마신다.', '나는 풍물부 동아리에 관심 있다.', '나는 수영을 싫어한다.'], 'prev_dialog': ['User:그래도 누나가 분명 동생분을 많이 생각할거야.', 'Bot:제발 그랬으면 좋겠다. 공항은 잘 도착했어?', 'User:응. 스위스에 도착해서 연락할게!', 'Bot:스위스는 잘 도착했어? 도착하면 연락해줘.', 'User:20시간만에 잘 도착했어. 너무 피곤해.']}, {'response': '팝송인데, 팝송처럼 들리지는 않지?', 'user_persona': ['나는 팝송을 잘 모른다', '나는 CCM 음악을 좋아한다'], 'bot_persona': ['나는 여자이다.', '나는 20대이다.', '나는 아침에 산책한다.', '나는 학원 수학 강사이다.', '나는 CCM 음악을 좋아한다.', '나는 아르바이트에 대해서 관심을 갖고 공부했었다.'], 'prev_dialog': ['User:고마워! 혹시 치위생사님은 어떤 음악 장르를 좋아해?', 'Bot:나는 평범한 팝송이야. 좋은 음악이 너무 많아.', 'User:아, 내가 팝송을 잘 몰라서 들어보고 싶은데, 혹시 지금 공유해줄 수 있어?', 'Bot:응 여기. this is me라는 곡인데, 내가 제일 좋아하는 곡 중 하나야.', 'User:이 노래가 팝송이었어? 나는 이 노래를 좋아해서 가끔 듣는데, 팝송인줄 몰랐네.']}, {'response': '그렇구나. 나도 교회에 다니는데, 요즘 목사님 강의가 너무 재밌어!', 'user_persona': ['나는 전도사이다', '나는 30대 남자이다', '나의 종교는 기독교이다 나의 부모님은 불교이다'], 'bot_persona': ['나는 남자이다.', '나는 20대이다.', '나는 종교가 없다.', '나는 고슴도치 두 마리를 키운다.', '나는 팝 음악을 좋아한다.'], 'prev_dialog': ['User:IT계열은 요즘 좋아서 인식이 좋지 않아?', 'Bot:돈은 많이 받는 걸로 알고 있는데, 헬이야. 넌 잠을 안자고 일하면 어때?', 'User:아니, 너무 힘들 것 같아. 전도사는 은근히 꿀인 것 같아. 월급은 적지만 나름 소소하게 살아가고 있어.', 'Bot:실례지만 월급이 얼마나 돼?', 'User:세전 150만원 정도야. 그래도 하나님한테 봉사하는 개념으로 일하고 있어.']}, {'response': '너도 너무 스트레스 받지마.', 'user_persona': ['나는 영어 학원에 다닌다', '나는 일이 지루하다', '나는 대학생이다'], 'bot_persona': ['나는 여자이다.', '나는 20대이다.', '나는 눈치가 없는 편이다.', '나는 사무 보조원이다.', '나는 신 음식을 즐겨 먹는다.', '나는 요즘 스펙에 대해서 관심을 갖고 공부한다.'], 'prev_dialog': ['User:제대로 대화를 해보자.', 'Bot:이게 뭔가 좀 이제는 익숙해졌어. 나중에 기회 되면 풀어봤으면 좋겠어. 방학에는 학교 아예 안가?', 'User:학교는 안 가. 영어 학원을 다녀. 영어에 관심 없는데 어쩔 수 없이 하게 되는 것 같아.', 'Bot:맞아. 어려운데 꼭 해야 하는 거라 스트레스를 많이 받는 것 같아. 난 슬슬 다시 들어가야 해서 퇴근하고 연락할게.', 'User:응, 일 보고 다시 봐.']}]\n"
     ]
    },
    {
     "name": "stderr",
     "output_type": "stream",
     "text": [
      "\n"
     ]
    }
   ],
   "source": [
    "solar_persona_vl2 = make_json_data(eval_vl2, 'GEVAL_solar_vl2_persona_3', solar, prompt, True, json_path=\"./korean_msc/preprocessing\")"
   ]
  },
  {
   "cell_type": "code",
   "execution_count": 16,
   "metadata": {},
   "outputs": [
    {
     "name": "stdout",
     "output_type": "stream",
     "text": [
      "## Data info ##\n",
      "dataset name : GEVAL_No_Persona_solar_vl2_3 data length : (54, 15)\n",
      "## Model info ##\n",
      "\u001b[1mLlamaCpp\u001b[0m\n",
      "Params: {'model_path': './solar/OPEN-SOLAR-KO-10_7B.Q5_K_S.gguf', 'suffix': None, 'max_tokens': 256, 'temperature': 0.9, 'top_p': 0.95, 'logprobs': None, 'echo': False, 'stop_sequences': ['User:', 'Bot:', '\\n', 'ᄏᄏᄏᄏᄏᄏ', 'ᄒᄒᄒᄒᄒᄒ', 'ㅠㅠㅠㅠㅠㅠ', 'ᄋᄋᄋᄋᄋᄋ', 'ㅋㅋㅋㅋㅋㅋ', 'ㅎㅎㅎㅎㅎㅎ', 'ㅠㅠㅠㅠㅠㅠ', 'ㅇㅇㅇㅇㅇㅇ'], 'repeat_penalty': 1.1, 'top_k': 30}\n"
     ]
    },
    {
     "name": "stderr",
     "output_type": "stream",
     "text": [
      "  0%|          | 0/54 [00:00<?, ?it/s]Llama.generate: prefix-match hit\n"
     ]
    },
    {
     "name": "stdout",
     "output_type": "stream",
     "text": [
      "그래요 다음에 또 이야기해요."
     ]
    },
    {
     "name": "stderr",
     "output_type": "stream",
     "text": [
      "\n",
      "llama_print_timings:        load time =   40091.78 ms\n",
      "llama_print_timings:      sample time =       0.98 ms /     7 runs   (    0.14 ms per token,  7135.58 tokens per second)\n",
      "llama_print_timings: prompt eval time =   29368.43 ms /   405 tokens (   72.51 ms per token,    13.79 tokens per second)\n",
      "llama_print_timings:        eval time =    1150.99 ms /     6 runs   (  191.83 ms per token,     5.21 tokens per second)\n",
      "llama_print_timings:       total time =   30540.25 ms /   411 tokens\n",
      "  2%|▏         | 1/54 [00:30<26:58, 30.54s/it]Llama.generate: prefix-match hit\n"
     ]
    },
    {
     "name": "stdout",
     "output_type": "stream",
     "text": [
      "어 어머니는 내가 가장 좋아하는 분이셔."
     ]
    },
    {
     "name": "stderr",
     "output_type": "stream",
     "text": [
      "\n",
      "llama_print_timings:        load time =   40091.78 ms\n",
      "llama_print_timings:      sample time =       1.40 ms /    10 runs   (    0.14 ms per token,  7153.08 tokens per second)\n",
      "llama_print_timings: prompt eval time =   29227.49 ms /   403 tokens (   72.52 ms per token,    13.79 tokens per second)\n",
      "llama_print_timings:        eval time =    1708.51 ms /     9 runs   (  189.83 ms per token,     5.27 tokens per second)\n",
      "llama_print_timings:       total time =   30965.20 ms /   412 tokens\n",
      "  4%|▎         | 2/54 [01:01<26:41, 30.80s/it]Llama.generate: prefix-match hit\n"
     ]
    },
    {
     "name": "stdout",
     "output_type": "stream",
     "text": [
      "아이고... 걱정된다... 다녀와서 또 연락줘^^"
     ]
    },
    {
     "name": "stderr",
     "output_type": "stream",
     "text": [
      "\n",
      "llama_print_timings:        load time =   40091.78 ms\n",
      "llama_print_timings:      sample time =       1.84 ms /    13 runs   (    0.14 ms per token,  7072.91 tokens per second)\n",
      "llama_print_timings: prompt eval time =   25760.54 ms /   350 tokens (   73.60 ms per token,    13.59 tokens per second)\n",
      "llama_print_timings:        eval time =    2335.26 ms /    12 runs   (  194.61 ms per token,     5.14 tokens per second)\n",
      "llama_print_timings:       total time =   28135.82 ms /   362 tokens\n",
      "  6%|▌         | 3/54 [01:29<25:08, 29.58s/it]Llama.generate: prefix-match hit\n"
     ]
    },
    {
     "name": "stdout",
     "output_type": "stream",
     "text": [
      "네! 공부를 열심히 하길 바라."
     ]
    },
    {
     "name": "stderr",
     "output_type": "stream",
     "text": [
      "\n",
      "llama_print_timings:        load time =   40091.78 ms\n",
      "llama_print_timings:      sample time =       1.39 ms /    10 runs   (    0.14 ms per token,  7194.24 tokens per second)\n",
      "llama_print_timings: prompt eval time =   28274.31 ms /   391 tokens (   72.31 ms per token,    13.83 tokens per second)\n",
      "llama_print_timings:        eval time =    1715.66 ms /     9 runs   (  190.63 ms per token,     5.25 tokens per second)\n",
      "llama_print_timings:       total time =   30019.70 ms /   400 tokens\n",
      "  7%|▋         | 4/54 [01:59<24:47, 29.76s/it]Llama.generate: prefix-match hit\n"
     ]
    },
    {
     "name": "stdout",
     "output_type": "stream",
     "text": [
      "알겠어. 고마워. @이름@님은 어렸을 때부터 아프거나 다치면 병원을 잘 가는 편이었어?"
     ]
    },
    {
     "name": "stderr",
     "output_type": "stream",
     "text": [
      "\n",
      "llama_print_timings:        load time =   40091.78 ms\n",
      "llama_print_timings:      sample time =       3.84 ms /    27 runs   (    0.14 ms per token,  7036.75 tokens per second)\n",
      "llama_print_timings: prompt eval time =   30929.65 ms /   430 tokens (   71.93 ms per token,    13.90 tokens per second)\n",
      "llama_print_timings:        eval time =    4994.43 ms /    26 runs   (  192.09 ms per token,     5.21 tokens per second)\n",
      "llama_print_timings:       total time =   36005.61 ms /   456 tokens\n",
      "  9%|▉         | 5/54 [02:35<26:08, 32.01s/it]Llama.generate: prefix-match hit\n"
     ]
    },
    {
     "name": "stdout",
     "output_type": "stream",
     "text": [
      "우와 같은 게임을 한다니 신기해. 그럼 오늘 같이 게임할 수 있을까?"
     ]
    },
    {
     "name": "stderr",
     "output_type": "stream",
     "text": [
      "\n",
      "llama_print_timings:        load time =   40091.78 ms\n",
      "llama_print_timings:      sample time =       2.52 ms /    18 runs   (    0.14 ms per token,  7151.37 tokens per second)\n",
      "llama_print_timings: prompt eval time =   24624.93 ms /   338 tokens (   72.85 ms per token,    13.73 tokens per second)\n",
      "llama_print_timings:        eval time =    3239.60 ms /    17 runs   (  190.56 ms per token,     5.25 tokens per second)\n",
      "llama_print_timings:       total time =   27917.68 ms /   355 tokens\n",
      " 11%|█         | 6/54 [03:03<24:29, 30.62s/it]Llama.generate: prefix-match hit\n"
     ]
    },
    {
     "name": "stdout",
     "output_type": "stream",
     "text": [
      "배틀그라운드라는 게임해. 너는 어떤 게임해?"
     ]
    },
    {
     "name": "stderr",
     "output_type": "stream",
     "text": [
      "\n",
      "llama_print_timings:        load time =   40091.78 ms\n",
      "llama_print_timings:      sample time =       1.98 ms /    14 runs   (    0.14 ms per token,  7077.86 tokens per second)\n",
      "llama_print_timings: prompt eval time =   26262.32 ms /   362 tokens (   72.55 ms per token,    13.78 tokens per second)\n",
      "llama_print_timings:        eval time =    2468.98 ms /    13 runs   (  189.92 ms per token,     5.27 tokens per second)\n",
      "llama_print_timings:       total time =   28773.62 ms /   375 tokens\n",
      " 13%|█▎        | 7/54 [03:32<23:30, 30.02s/it]Llama.generate: prefix-match hit\n"
     ]
    },
    {
     "name": "stdout",
     "output_type": "stream",
     "text": [
      "시어머니와 같이 사니까 너무 좋아. 우리 @이름@는 요즘 @이름1@ 노래만 불러서 재미가 없어."
     ]
    },
    {
     "name": "stderr",
     "output_type": "stream",
     "text": [
      "\n",
      "llama_print_timings:        load time =   40091.78 ms\n",
      "llama_print_timings:      sample time =       4.07 ms /    29 runs   (    0.14 ms per token,  7123.56 tokens per second)\n",
      "llama_print_timings: prompt eval time =   28376.38 ms /   390 tokens (   72.76 ms per token,    13.74 tokens per second)\n",
      "llama_print_timings:        eval time =    5318.80 ms /    28 runs   (  189.96 ms per token,     5.26 tokens per second)\n",
      "llama_print_timings:       total time =   33781.96 ms /   418 tokens\n",
      " 15%|█▍        | 8/54 [04:06<23:56, 31.22s/it]Llama.generate: prefix-match hit\n"
     ]
    },
    {
     "name": "stdout",
     "output_type": "stream",
     "text": [
      "응, 그래서 밖에 있는 식물들이 다 말라죽어 가고 있어."
     ]
    },
    {
     "name": "stderr",
     "output_type": "stream",
     "text": [
      "\n",
      "llama_print_timings:        load time =   40091.78 ms\n",
      "llama_print_timings:      sample time =       2.14 ms /    15 runs   (    0.14 ms per token,  7022.47 tokens per second)\n",
      "llama_print_timings: prompt eval time =   24835.20 ms /   341 tokens (   72.83 ms per token,    13.73 tokens per second)\n",
      "llama_print_timings:        eval time =    2672.56 ms /    14 runs   (  190.90 ms per token,     5.24 tokens per second)\n",
      "llama_print_timings:       total time =   27552.44 ms /   355 tokens\n",
      " 17%|█▋        | 9/54 [04:33<22:33, 30.07s/it]Llama.generate: prefix-match hit\n"
     ]
    },
    {
     "name": "stdout",
     "output_type": "stream",
     "text": [
      "응, 나도 그렇게 생각해."
     ]
    },
    {
     "name": "stderr",
     "output_type": "stream",
     "text": [
      "\n",
      "llama_print_timings:        load time =   40091.78 ms\n",
      "llama_print_timings:      sample time =       0.96 ms /     7 runs   (    0.14 ms per token,  7253.89 tokens per second)\n",
      "llama_print_timings: prompt eval time =   25924.97 ms /   356 tokens (   72.82 ms per token,    13.73 tokens per second)\n",
      "llama_print_timings:        eval time =    1132.37 ms /     6 runs   (  188.73 ms per token,     5.30 tokens per second)\n",
      "llama_print_timings:       total time =   27077.93 ms /   362 tokens\n",
      " 19%|█▊        | 10/54 [05:00<21:22, 29.15s/it]Llama.generate: prefix-match hit\n"
     ]
    },
    {
     "name": "stdout",
     "output_type": "stream",
     "text": [
      "그렇긴 하지. 그래도 나는 더운 날씨를 좋아해서 다행이야. 너는 폭염이 심할 때는 밖에 안 나가?"
     ]
    },
    {
     "name": "stderr",
     "output_type": "stream",
     "text": [
      "\n",
      "llama_print_timings:        load time =   40091.78 ms\n",
      "llama_print_timings:      sample time =       3.84 ms /    27 runs   (    0.14 ms per token,  7027.59 tokens per second)\n",
      "llama_print_timings: prompt eval time =   28945.79 ms /   401 tokens (   72.18 ms per token,    13.85 tokens per second)\n",
      "llama_print_timings:        eval time =    4934.70 ms /    26 runs   (  189.80 ms per token,     5.27 tokens per second)\n",
      "llama_print_timings:       total time =   33960.97 ms /   427 tokens\n",
      " 20%|██        | 11/54 [05:34<21:56, 30.62s/it]Llama.generate: prefix-match hit\n"
     ]
    },
    {
     "name": "stdout",
     "output_type": "stream",
     "text": [
      "그래, 안녕히 가."
     ]
    },
    {
     "name": "stderr",
     "output_type": "stream",
     "text": [
      "\n",
      "llama_print_timings:        load time =   40091.78 ms\n",
      "llama_print_timings:      sample time =       0.97 ms /     7 runs   (    0.14 ms per token,  7201.65 tokens per second)\n",
      "llama_print_timings: prompt eval time =   31034.83 ms /   428 tokens (   72.51 ms per token,    13.79 tokens per second)\n",
      "llama_print_timings:        eval time =    1140.59 ms /     6 runs   (  190.10 ms per token,     5.26 tokens per second)\n",
      "llama_print_timings:       total time =   32196.26 ms /   434 tokens\n",
      " 22%|██▏       | 12/54 [06:06<21:46, 31.10s/it]Llama.generate: prefix-match hit\n"
     ]
    },
    {
     "name": "stdout",
     "output_type": "stream",
     "text": [
      "응 고마워. 친구와 자주 싸워서 걱정이야."
     ]
    },
    {
     "name": "stderr",
     "output_type": "stream",
     "text": [
      "\n",
      "llama_print_timings:        load time =   40091.78 ms\n",
      "llama_print_timings:      sample time =       1.82 ms /    13 runs   (    0.14 ms per token,  7158.59 tokens per second)\n",
      "llama_print_timings: prompt eval time =   25812.38 ms /   354 tokens (   72.92 ms per token,    13.71 tokens per second)\n",
      "llama_print_timings:        eval time =    2288.25 ms /    12 runs   (  190.69 ms per token,     5.24 tokens per second)\n",
      "llama_print_timings:       total time =   28138.41 ms /   366 tokens\n",
      " 24%|██▍       | 13/54 [06:35<20:38, 30.21s/it]Llama.generate: prefix-match hit\n"
     ]
    },
    {
     "name": "stdout",
     "output_type": "stream",
     "text": [
      "응 반갑네 그럼 열심히 공부하고 다음에 다시 연락하자!"
     ]
    },
    {
     "name": "stderr",
     "output_type": "stream",
     "text": [
      "\n",
      "llama_print_timings:        load time =   40091.78 ms\n",
      "llama_print_timings:      sample time =       1.98 ms /    14 runs   (    0.14 ms per token,  7070.71 tokens per second)\n",
      "llama_print_timings: prompt eval time =   28458.12 ms /   393 tokens (   72.41 ms per token,    13.81 tokens per second)\n",
      "llama_print_timings:        eval time =    2495.59 ms /    13 runs   (  191.97 ms per token,     5.21 tokens per second)\n",
      "llama_print_timings:       total time =   30995.73 ms /   406 tokens\n",
      " 26%|██▌       | 14/54 [07:06<20:17, 30.45s/it]Llama.generate: prefix-match hit\n"
     ]
    },
    {
     "name": "stdout",
     "output_type": "stream",
     "text": [
      "응 안녕."
     ]
    },
    {
     "name": "stderr",
     "output_type": "stream",
     "text": [
      "\n",
      "llama_print_timings:        load time =   40091.78 ms\n",
      "llama_print_timings:      sample time =       0.57 ms /     4 runs   (    0.14 ms per token,  7017.54 tokens per second)\n",
      "llama_print_timings: prompt eval time =   26582.81 ms /   367 tokens (   72.43 ms per token,    13.81 tokens per second)\n",
      "llama_print_timings:        eval time =     571.17 ms /     3 runs   (  190.39 ms per token,     5.25 tokens per second)\n",
      "llama_print_timings:       total time =   27165.82 ms /   370 tokens\n",
      " 28%|██▊       | 15/54 [07:33<19:08, 29.46s/it]Llama.generate: prefix-match hit\n"
     ]
    },
    {
     "name": "stdout",
     "output_type": "stream",
     "text": [
      "요리는 어떤 걸 좋아하는데? 요리 잘하는 사람도 좋아해?"
     ]
    },
    {
     "name": "stderr",
     "output_type": "stream",
     "text": [
      "\n",
      "llama_print_timings:        load time =   40091.78 ms\n",
      "llama_print_timings:      sample time =       2.00 ms /    14 runs   (    0.14 ms per token,  7000.00 tokens per second)\n",
      "llama_print_timings: prompt eval time =   30247.90 ms /   417 tokens (   72.54 ms per token,    13.79 tokens per second)\n",
      "llama_print_timings:        eval time =    2558.20 ms /    13 runs   (  196.78 ms per token,     5.08 tokens per second)\n",
      "llama_print_timings:       total time =   32849.13 ms /   430 tokens\n",
      " 30%|██▉       | 16/54 [08:06<19:18, 30.48s/it]Llama.generate: prefix-match hit\n"
     ]
    },
    {
     "name": "stdout",
     "output_type": "stream",
     "text": [
      "노래는 좋아하는데 잘은 못해. 그런데 합창단 동아리는 노래도 하고 친구도 사귀고 하는 것 같아서 좋아 보여서 갔어."
     ]
    },
    {
     "name": "stderr",
     "output_type": "stream",
     "text": [
      "\n",
      "llama_print_timings:        load time =   40091.78 ms\n",
      "llama_print_timings:      sample time =       4.64 ms /    33 runs   (    0.14 ms per token,  7112.07 tokens per second)\n",
      "llama_print_timings: prompt eval time =   29496.14 ms /   407 tokens (   72.47 ms per token,    13.80 tokens per second)\n",
      "llama_print_timings:        eval time =    6130.02 ms /    32 runs   (  191.56 ms per token,     5.22 tokens per second)\n",
      "llama_print_timings:       total time =   35728.14 ms /   439 tokens\n",
      " 31%|███▏      | 17/54 [08:41<19:46, 32.06s/it]Llama.generate: prefix-match hit\n"
     ]
    },
    {
     "name": "stdout",
     "output_type": "stream",
     "text": [
      "그래. 너도 맛있게 먹고 와."
     ]
    },
    {
     "name": "stderr",
     "output_type": "stream",
     "text": [
      "\n",
      "llama_print_timings:        load time =   40091.78 ms\n",
      "llama_print_timings:      sample time =       1.27 ms /     9 runs   (    0.14 ms per token,  7081.04 tokens per second)\n",
      "llama_print_timings: prompt eval time =   30214.40 ms /   420 tokens (   71.94 ms per token,    13.90 tokens per second)\n",
      "llama_print_timings:        eval time =    1566.31 ms /     8 runs   (  195.79 ms per token,     5.11 tokens per second)\n",
      "llama_print_timings:       total time =   31807.45 ms /   428 tokens\n",
      " 33%|███▎      | 18/54 [09:13<19:11, 31.99s/it]Llama.generate: prefix-match hit\n"
     ]
    },
    {
     "name": "stdout",
     "output_type": "stream",
     "text": [
      "그러면 면회를 자주 갔겠네? 면회 음식은 뭐 먹었어?"
     ]
    },
    {
     "name": "stderr",
     "output_type": "stream",
     "text": [
      "\n",
      "llama_print_timings:        load time =   40091.78 ms\n",
      "llama_print_timings:      sample time =       2.37 ms /    17 runs   (    0.14 ms per token,  7163.93 tokens per second)\n",
      "llama_print_timings: prompt eval time =   26297.36 ms /   362 tokens (   72.64 ms per token,    13.77 tokens per second)\n",
      "llama_print_timings:        eval time =    3037.87 ms /    16 runs   (  189.87 ms per token,     5.27 tokens per second)\n",
      "llama_print_timings:       total time =   29387.91 ms /   378 tokens\n",
      " 35%|███▌      | 19/54 [09:43<18:12, 31.21s/it]Llama.generate: prefix-match hit\n"
     ]
    },
    {
     "name": "stdout",
     "output_type": "stream",
     "text": [
      "군인 친구가 없어서 면회를 가 본적은 없어. 면회 가봤어?"
     ]
    },
    {
     "name": "stderr",
     "output_type": "stream",
     "text": [
      "\n",
      "llama_print_timings:        load time =   40091.78 ms\n",
      "llama_print_timings:      sample time =       2.68 ms /    19 runs   (    0.14 ms per token,  7081.63 tokens per second)\n",
      "llama_print_timings: prompt eval time =   24869.01 ms /   345 tokens (   72.08 ms per token,    13.87 tokens per second)\n",
      "llama_print_timings:        eval time =    3399.79 ms /    18 runs   (  188.88 ms per token,     5.29 tokens per second)\n",
      "llama_print_timings:       total time =   28325.37 ms /   363 tokens\n",
      " 37%|███▋      | 20/54 [10:11<17:11, 30.34s/it]Llama.generate: prefix-match hit\n"
     ]
    },
    {
     "name": "stdout",
     "output_type": "stream",
     "text": [
      "아니 필러는 무섭기도 하고 아직까지는 필요 없다고 느껴져서 안 맞아봤어."
     ]
    },
    {
     "name": "stderr",
     "output_type": "stream",
     "text": [
      "\n",
      "llama_print_timings:        load time =   40091.78 ms\n",
      "llama_print_timings:      sample time =       2.66 ms /    19 runs   (    0.14 ms per token,  7140.17 tokens per second)\n",
      "llama_print_timings: prompt eval time =   29455.79 ms /   410 tokens (   71.84 ms per token,    13.92 tokens per second)\n",
      "llama_print_timings:        eval time =    3546.25 ms /    18 runs   (  197.01 ms per token,     5.08 tokens per second)\n",
      "llama_print_timings:       total time =   33059.18 ms /   428 tokens\n",
      " 39%|███▉      | 21/54 [10:44<17:08, 31.16s/it]Llama.generate: prefix-match hit\n"
     ]
    },
    {
     "name": "stdout",
     "output_type": "stream",
     "text": [
      "매직이 머리 곱슬기를 펴주는 거 맞지?"
     ]
    },
    {
     "name": "stderr",
     "output_type": "stream",
     "text": [
      "\n",
      "llama_print_timings:        load time =   40091.78 ms\n",
      "llama_print_timings:      sample time =       1.82 ms /    13 runs   (    0.14 ms per token,  7131.10 tokens per second)\n",
      "llama_print_timings: prompt eval time =   27440.82 ms /   379 tokens (   72.40 ms per token,    13.81 tokens per second)\n",
      "llama_print_timings:        eval time =    2272.47 ms /    12 runs   (  189.37 ms per token,     5.28 tokens per second)\n",
      "llama_print_timings:       total time =   29752.70 ms /   391 tokens\n",
      " 41%|████      | 22/54 [11:14<16:23, 30.74s/it]Llama.generate: prefix-match hit\n"
     ]
    },
    {
     "name": "stdout",
     "output_type": "stream",
     "text": [
      "그래 다음에 또 연락하자 안녕!"
     ]
    },
    {
     "name": "stderr",
     "output_type": "stream",
     "text": [
      "\n",
      "llama_print_timings:        load time =   40091.78 ms\n",
      "llama_print_timings:      sample time =       1.14 ms /     8 runs   (    0.14 ms per token,  7048.46 tokens per second)\n",
      "llama_print_timings: prompt eval time =   27266.07 ms /   379 tokens (   71.94 ms per token,    13.90 tokens per second)\n",
      "llama_print_timings:        eval time =    1324.27 ms /     7 runs   (  189.18 ms per token,     5.29 tokens per second)\n",
      "llama_print_timings:       total time =   28614.15 ms /   386 tokens\n",
      " 43%|████▎     | 23/54 [11:42<15:33, 30.10s/it]Llama.generate: prefix-match hit\n"
     ]
    },
    {
     "name": "stdout",
     "output_type": "stream",
     "text": [
      "그럼 다음에 또 대화하자!"
     ]
    },
    {
     "name": "stderr",
     "output_type": "stream",
     "text": [
      "\n",
      "llama_print_timings:        load time =   40091.78 ms\n",
      "llama_print_timings:      sample time =       0.97 ms /     7 runs   (    0.14 ms per token,  7179.49 tokens per second)\n",
      "llama_print_timings: prompt eval time =   25234.83 ms /   351 tokens (   71.89 ms per token,    13.91 tokens per second)\n",
      "llama_print_timings:        eval time =    1138.22 ms /     6 runs   (  189.70 ms per token,     5.27 tokens per second)\n",
      "llama_print_timings:       total time =   26393.96 ms /   357 tokens\n",
      " 44%|████▍     | 24/54 [12:09<14:29, 28.99s/it]Llama.generate: prefix-match hit\n"
     ]
    },
    {
     "name": "stdout",
     "output_type": "stream",
     "text": [
      "그랬구나. 학원 분위기는 어때? 선생님이 잘 가르쳐줘?"
     ]
    },
    {
     "name": "stderr",
     "output_type": "stream",
     "text": [
      "\n",
      "llama_print_timings:        load time =   40091.78 ms\n",
      "llama_print_timings:      sample time =       2.43 ms /    17 runs   (    0.14 ms per token,  6993.01 tokens per second)\n",
      "llama_print_timings: prompt eval time =   28900.66 ms /   402 tokens (   71.89 ms per token,    13.91 tokens per second)\n",
      "llama_print_timings:        eval time =    3053.59 ms /    16 runs   (  190.85 ms per token,     5.24 tokens per second)\n",
      "llama_print_timings:       total time =   32005.28 ms /   418 tokens\n",
      " 46%|████▋     | 25/54 [12:41<14:27, 29.90s/it]Llama.generate: prefix-match hit\n"
     ]
    },
    {
     "name": "stdout",
     "output_type": "stream",
     "text": [
      "나도 만화 좋아해. 특히 애니메이션을 많이 봐."
     ]
    },
    {
     "name": "stderr",
     "output_type": "stream",
     "text": [
      "\n",
      "llama_print_timings:        load time =   40091.78 ms\n",
      "llama_print_timings:      sample time =       1.99 ms /    14 runs   (    0.14 ms per token,  7038.71 tokens per second)\n",
      "llama_print_timings: prompt eval time =   26441.30 ms /   366 tokens (   72.24 ms per token,    13.84 tokens per second)\n",
      "llama_print_timings:        eval time =    2461.24 ms /    13 runs   (  189.33 ms per token,     5.28 tokens per second)\n",
      "llama_print_timings:       total time =   28944.75 ms /   379 tokens\n",
      " 48%|████▊     | 26/54 [13:10<13:49, 29.61s/it]Llama.generate: prefix-match hit\n"
     ]
    },
    {
     "name": "stdout",
     "output_type": "stream",
     "text": [
      "내가 춤추는 거? 내가 춤추면 내가 내 자신이 귀여울 것 같은데."
     ]
    },
    {
     "name": "stderr",
     "output_type": "stream",
     "text": [
      "\n",
      "llama_print_timings:        load time =   40091.78 ms\n",
      "llama_print_timings:      sample time =       2.73 ms /    19 runs   (    0.14 ms per token,  6954.61 tokens per second)\n",
      "llama_print_timings: prompt eval time =   28783.64 ms /   401 tokens (   71.78 ms per token,    13.93 tokens per second)\n",
      "llama_print_timings:        eval time =    3436.11 ms /    18 runs   (  190.89 ms per token,     5.24 tokens per second)\n",
      "llama_print_timings:       total time =   32276.69 ms /   419 tokens\n",
      " 50%|█████     | 27/54 [13:42<13:41, 30.41s/it]Llama.generate: prefix-match hit\n"
     ]
    },
    {
     "name": "stdout",
     "output_type": "stream",
     "text": [
      "음. 우리 지역에는 산불이 났다고 하고, 또 우리 동네에는 지하철역이 생긴다고 뉴스가 나왔어."
     ]
    },
    {
     "name": "stderr",
     "output_type": "stream",
     "text": [
      "\n",
      "llama_print_timings:        load time =   40091.78 ms\n",
      "llama_print_timings:      sample time =       3.62 ms /    26 runs   (    0.14 ms per token,  7188.28 tokens per second)\n",
      "llama_print_timings: prompt eval time =   24513.33 ms /   336 tokens (   72.96 ms per token,    13.71 tokens per second)\n",
      "llama_print_timings:        eval time =    4739.06 ms /    25 runs   (  189.56 ms per token,     5.28 tokens per second)\n",
      "llama_print_timings:       total time =   29330.47 ms /   361 tokens\n",
      " 52%|█████▏    | 28/54 [14:11<13:02, 30.09s/it]Llama.generate: prefix-match hit\n"
     ]
    },
    {
     "name": "stdout",
     "output_type": "stream",
     "text": [
      "응, 나도 그렇게 샀는데 너무 비싸더라고. 그래서 이번엔 시장에 가보려고 해."
     ]
    },
    {
     "name": "stderr",
     "output_type": "stream",
     "text": [
      "\n",
      "llama_print_timings:        load time =   40091.78 ms\n",
      "llama_print_timings:      sample time =       2.72 ms /    19 runs   (    0.14 ms per token,  6990.43 tokens per second)\n",
      "llama_print_timings: prompt eval time =   28550.42 ms /   396 tokens (   72.10 ms per token,    13.87 tokens per second)\n",
      "llama_print_timings:        eval time =    3432.09 ms /    18 runs   (  190.67 ms per token,     5.24 tokens per second)\n",
      "llama_print_timings:       total time =   32040.87 ms /   414 tokens\n",
      " 54%|█████▎    | 29/54 [14:43<12:46, 30.68s/it]Llama.generate: prefix-match hit\n"
     ]
    },
    {
     "name": "stdout",
     "output_type": "stream",
     "text": [
      "아까 말씀드렸던 첼로 연주 연습하고 있었어요."
     ]
    },
    {
     "name": "stderr",
     "output_type": "stream",
     "text": [
      "\n",
      "llama_print_timings:        load time =   40091.78 ms\n",
      "llama_print_timings:      sample time =       2.10 ms /    15 runs   (    0.14 ms per token,  7142.86 tokens per second)\n",
      "llama_print_timings: prompt eval time =   26118.56 ms /   362 tokens (   72.15 ms per token,    13.86 tokens per second)\n",
      "llama_print_timings:        eval time =    2654.36 ms /    14 runs   (  189.60 ms per token,     5.27 tokens per second)\n",
      "llama_print_timings:       total time =   28818.33 ms /   376 tokens\n",
      " 56%|█████▌    | 30/54 [15:12<12:02, 30.12s/it]Llama.generate: prefix-match hit\n"
     ]
    },
    {
     "name": "stdout",
     "output_type": "stream",
     "text": [
      "내가 경기도에 갈게! 다음에 다시 대화하자."
     ]
    },
    {
     "name": "stderr",
     "output_type": "stream",
     "text": [
      "\n",
      "llama_print_timings:        load time =   40091.78 ms\n",
      "llama_print_timings:      sample time =       1.65 ms /    12 runs   (    0.14 ms per token,  7255.14 tokens per second)\n",
      "llama_print_timings: prompt eval time =   27620.45 ms /   384 tokens (   71.93 ms per token,    13.90 tokens per second)\n",
      "llama_print_timings:        eval time =    2086.84 ms /    11 runs   (  189.71 ms per token,     5.27 tokens per second)\n",
      "llama_print_timings:       total time =   29742.76 ms /   395 tokens\n",
      " 57%|█████▋    | 31/54 [15:42<11:30, 30.01s/it]Llama.generate: prefix-match hit\n"
     ]
    },
    {
     "name": "stdout",
     "output_type": "stream",
     "text": [
      "그럴까봐 걱정이야. 필라테스를 가려면 밥을 먹고 가야하나?"
     ]
    },
    {
     "name": "stderr",
     "output_type": "stream",
     "text": [
      "\n",
      "llama_print_timings:        load time =   40091.78 ms\n",
      "llama_print_timings:      sample time =       2.71 ms /    19 runs   (    0.14 ms per token,  7000.74 tokens per second)\n",
      "llama_print_timings: prompt eval time =   25675.40 ms /   355 tokens (   72.33 ms per token,    13.83 tokens per second)\n",
      "llama_print_timings:        eval time =    3563.84 ms /    18 runs   (  197.99 ms per token,     5.05 tokens per second)\n",
      "llama_print_timings:       total time =   29297.64 ms /   373 tokens\n",
      " 59%|█████▉    | 32/54 [16:11<10:55, 29.80s/it]Llama.generate: prefix-match hit\n"
     ]
    },
    {
     "name": "stdout",
     "output_type": "stream",
     "text": [
      "나는 첼로연주를 쉬고 있어. 요즘 많이 바빠서 취미생활을 쉬고 있어."
     ]
    },
    {
     "name": "stderr",
     "output_type": "stream",
     "text": [
      "\n",
      "llama_print_timings:        load time =   40091.78 ms\n",
      "llama_print_timings:      sample time =       3.23 ms /    23 runs   (    0.14 ms per token,  7116.34 tokens per second)\n",
      "llama_print_timings: prompt eval time =   28355.53 ms /   396 tokens (   71.60 ms per token,    13.97 tokens per second)\n",
      "llama_print_timings:        eval time =    4193.14 ms /    22 runs   (  190.60 ms per token,     5.25 tokens per second)\n",
      "llama_print_timings:       total time =   32618.88 ms /   418 tokens\n",
      " 61%|██████    | 33/54 [16:44<10:43, 30.65s/it]Llama.generate: prefix-match hit\n"
     ]
    },
    {
     "name": "stdout",
     "output_type": "stream",
     "text": [
      "응, 영어는 이제 자신 있어."
     ]
    },
    {
     "name": "stderr",
     "output_type": "stream",
     "text": [
      "\n",
      "llama_print_timings:        load time =   40091.78 ms\n",
      "llama_print_timings:      sample time =       1.28 ms /     9 runs   (    0.14 ms per token,  7042.25 tokens per second)\n",
      "llama_print_timings: prompt eval time =   27352.68 ms /   375 tokens (   72.94 ms per token,    13.71 tokens per second)\n",
      "llama_print_timings:        eval time =    1584.53 ms /     8 runs   (  198.07 ms per token,     5.05 tokens per second)\n",
      "llama_print_timings:       total time =   28963.97 ms /   383 tokens\n",
      " 63%|██████▎   | 34/54 [17:13<10:02, 30.14s/it]Llama.generate: prefix-match hit\n"
     ]
    },
    {
     "name": "stdout",
     "output_type": "stream",
     "text": [
      "국악인 멋있다. 나도 한 번 보고 싶은데..."
     ]
    },
    {
     "name": "stderr",
     "output_type": "stream",
     "text": [
      "\n",
      "llama_print_timings:        load time =   40091.78 ms\n",
      "llama_print_timings:      sample time =       1.81 ms /    13 runs   (    0.14 ms per token,  7162.53 tokens per second)\n",
      "llama_print_timings: prompt eval time =   26439.51 ms /   363 tokens (   72.84 ms per token,    13.73 tokens per second)\n",
      "llama_print_timings:        eval time =    2282.82 ms /    12 runs   (  190.23 ms per token,     5.26 tokens per second)\n",
      "llama_print_timings:       total time =   28761.92 ms /   375 tokens\n",
      " 65%|██████▍   | 35/54 [17:42<09:24, 29.73s/it]Llama.generate: prefix-match hit\n"
     ]
    },
    {
     "name": "stdout",
     "output_type": "stream",
     "text": [
      "맞아. 오늘도 행복한 하루 보내길 바래!"
     ]
    },
    {
     "name": "stderr",
     "output_type": "stream",
     "text": [
      "\n",
      "llama_print_timings:        load time =   40091.78 ms\n",
      "llama_print_timings:      sample time =       1.59 ms /    11 runs   (    0.14 ms per token,  6905.21 tokens per second)\n",
      "llama_print_timings: prompt eval time =   27493.05 ms /   378 tokens (   72.73 ms per token,    13.75 tokens per second)\n",
      "llama_print_timings:        eval time =    1918.28 ms /    10 runs   (  191.83 ms per token,     5.21 tokens per second)\n",
      "llama_print_timings:       total time =   29444.52 ms /   388 tokens\n",
      " 67%|██████▋   | 36/54 [18:11<08:53, 29.65s/it]Llama.generate: prefix-match hit\n"
     ]
    },
    {
     "name": "stdout",
     "output_type": "stream",
     "text": [
      "응, 동남아 음식 좋아해. 여행 가고 싶어."
     ]
    },
    {
     "name": "stderr",
     "output_type": "stream",
     "text": [
      "\n",
      "llama_print_timings:        load time =   40091.78 ms\n",
      "llama_print_timings:      sample time =       1.69 ms /    12 runs   (    0.14 ms per token,  7109.00 tokens per second)\n",
      "llama_print_timings: prompt eval time =   30532.74 ms /   424 tokens (   72.01 ms per token,    13.89 tokens per second)\n",
      "llama_print_timings:        eval time =    2137.35 ms /    11 runs   (  194.30 ms per token,     5.15 tokens per second)\n",
      "llama_print_timings:       total time =   32706.85 ms /   435 tokens\n",
      " 69%|██████▊   | 37/54 [18:44<08:39, 30.57s/it]Llama.generate: prefix-match hit\n"
     ]
    },
    {
     "name": "stdout",
     "output_type": "stream",
     "text": [
      "수련회 재미있었어? 나는 요즘 첼로연주를 배우고 있는데 중급단계로 넘어가려고 준비중이야."
     ]
    },
    {
     "name": "stderr",
     "output_type": "stream",
     "text": [
      "\n",
      "llama_print_timings:        load time =   40091.78 ms\n",
      "llama_print_timings:      sample time =       3.84 ms /    27 runs   (    0.14 ms per token,  7038.58 tokens per second)\n",
      "llama_print_timings: prompt eval time =   27251.54 ms /   375 tokens (   72.67 ms per token,    13.76 tokens per second)\n",
      "llama_print_timings:        eval time =    4955.15 ms /    26 runs   (  190.58 ms per token,     5.25 tokens per second)\n",
      "llama_print_timings:       total time =   32287.23 ms /   401 tokens\n",
      " 70%|███████   | 38/54 [19:16<08:17, 31.08s/it]Llama.generate: prefix-match hit\n"
     ]
    },
    {
     "name": "stdout",
     "output_type": "stream",
     "text": [
      "응응 고마워~"
     ]
    },
    {
     "name": "stderr",
     "output_type": "stream",
     "text": [
      "\n",
      "llama_print_timings:        load time =   40091.78 ms\n",
      "llama_print_timings:      sample time =       0.84 ms /     6 runs   (    0.14 ms per token,  7125.89 tokens per second)\n",
      "llama_print_timings: prompt eval time =   26145.31 ms /   361 tokens (   72.42 ms per token,    13.81 tokens per second)\n",
      "llama_print_timings:        eval time =    1017.75 ms /     5 runs   (  203.55 ms per token,     4.91 tokens per second)\n",
      "llama_print_timings:       total time =   27180.65 ms /   366 tokens\n",
      " 72%|███████▏  | 39/54 [19:43<07:28, 29.91s/it]Llama.generate: prefix-match hit\n"
     ]
    },
    {
     "name": "stdout",
     "output_type": "stream",
     "text": [
      "그런가? 나는 소개팅이 더 편하고 좋던데."
     ]
    },
    {
     "name": "stderr",
     "output_type": "stream",
     "text": [
      "\n",
      "llama_print_timings:        load time =   40091.78 ms\n",
      "llama_print_timings:      sample time =       1.84 ms /    13 runs   (    0.14 ms per token,  7061.38 tokens per second)\n",
      "llama_print_timings: prompt eval time =   26417.97 ms /   359 tokens (   73.59 ms per token,    13.59 tokens per second)\n",
      "llama_print_timings:        eval time =    2341.34 ms /    12 runs   (  195.11 ms per token,     5.13 tokens per second)\n",
      "llama_print_timings:       total time =   28798.69 ms /   371 tokens\n",
      " 74%|███████▍  | 40/54 [20:12<06:54, 29.58s/it]Llama.generate: prefix-match hit\n"
     ]
    },
    {
     "name": "stdout",
     "output_type": "stream",
     "text": [
      "그렇구나. 그럼 연애는 생각 없는거야?"
     ]
    },
    {
     "name": "stderr",
     "output_type": "stream",
     "text": [
      "\n",
      "llama_print_timings:        load time =   40091.78 ms\n",
      "llama_print_timings:      sample time =       1.52 ms /    11 runs   (    0.14 ms per token,  7217.85 tokens per second)\n",
      "llama_print_timings: prompt eval time =   27488.35 ms /   383 tokens (   71.77 ms per token,    13.93 tokens per second)\n",
      "llama_print_timings:        eval time =    1903.92 ms /    10 runs   (  190.39 ms per token,     5.25 tokens per second)\n",
      "llama_print_timings:       total time =   29423.82 ms /   393 tokens\n",
      " 76%|███████▌  | 41/54 [20:42<06:23, 29.54s/it]Llama.generate: prefix-match hit\n"
     ]
    },
    {
     "name": "stdout",
     "output_type": "stream",
     "text": [
      "오호, 그렇군. 대단해. 나도 기장인 친구가 있는데, 기장이 너무 힘든 직업이라고 하더라고."
     ]
    },
    {
     "name": "stderr",
     "output_type": "stream",
     "text": [
      "\n",
      "llama_print_timings:        load time =   40091.78 ms\n",
      "llama_print_timings:      sample time =       3.97 ms /    28 runs   (    0.14 ms per token,  7049.35 tokens per second)\n",
      "llama_print_timings: prompt eval time =   26334.20 ms /   364 tokens (   72.35 ms per token,    13.82 tokens per second)\n",
      "llama_print_timings:        eval time =    5112.66 ms /    27 runs   (  189.36 ms per token,     5.28 tokens per second)\n",
      "llama_print_timings:       total time =   31531.00 ms /   391 tokens\n",
      " 78%|███████▊  | 42/54 [21:13<06:01, 30.14s/it]Llama.generate: prefix-match hit\n"
     ]
    },
    {
     "name": "stdout",
     "output_type": "stream",
     "text": [
      "좋아! 저녁에 우리 다시 만나는걸로 해."
     ]
    },
    {
     "name": "stderr",
     "output_type": "stream",
     "text": [
      "\n",
      "llama_print_timings:        load time =   40091.78 ms\n",
      "llama_print_timings:      sample time =       1.71 ms /    12 runs   (    0.14 ms per token,  7005.25 tokens per second)\n",
      "llama_print_timings: prompt eval time =   27904.43 ms /   389 tokens (   71.73 ms per token,    13.94 tokens per second)\n",
      "llama_print_timings:        eval time =    2116.17 ms /    11 runs   (  192.38 ms per token,     5.20 tokens per second)\n",
      "llama_print_timings:       total time =   30055.48 ms /   400 tokens\n",
      " 80%|███████▉  | 43/54 [21:43<05:31, 30.11s/it]Llama.generate: prefix-match hit\n"
     ]
    },
    {
     "name": "stdout",
     "output_type": "stream",
     "text": [
      "어떤 애니메이션을 볼건데? 나도 애니메이션 좋아하거든."
     ]
    },
    {
     "name": "stderr",
     "output_type": "stream",
     "text": [
      "\n",
      "llama_print_timings:        load time =   40091.78 ms\n",
      "llama_print_timings:      sample time =       2.42 ms /    17 runs   (    0.14 ms per token,  7033.51 tokens per second)\n",
      "llama_print_timings: prompt eval time =   28958.86 ms /   405 tokens (   71.50 ms per token,    13.99 tokens per second)\n",
      "llama_print_timings:        eval time =    3056.73 ms /    16 runs   (  191.05 ms per token,     5.23 tokens per second)\n",
      "llama_print_timings:       total time =   32066.18 ms /   421 tokens\n",
      " 81%|████████▏ | 44/54 [22:15<05:07, 30.70s/it]Llama.generate: prefix-match hit\n"
     ]
    },
    {
     "name": "stdout",
     "output_type": "stream",
     "text": [
      "아직 업체에 대해서는 알아보지 않았어. 셀프 인테리어를 할까 고민 중이거든. 근데 셀프 인테리어는 한계가 있어서 업체에 맡길지 고민이야."
     ]
    },
    {
     "name": "stderr",
     "output_type": "stream",
     "text": [
      "\n",
      "llama_print_timings:        load time =   40091.78 ms\n",
      "llama_print_timings:      sample time =       4.89 ms /    35 runs   (    0.14 ms per token,  7156.00 tokens per second)\n",
      "llama_print_timings: prompt eval time =   28172.70 ms /   390 tokens (   72.24 ms per token,    13.84 tokens per second)\n",
      "llama_print_timings:        eval time =    6456.26 ms /    34 runs   (  189.89 ms per token,     5.27 tokens per second)\n",
      "llama_print_timings:       total time =   34733.95 ms /   424 tokens\n",
      " 83%|████████▎ | 45/54 [22:50<04:47, 31.91s/it]Llama.generate: prefix-match hit\n"
     ]
    },
    {
     "name": "stdout",
     "output_type": "stream",
     "text": [
      "그러면 치킨버거 먹어봤어? 그게 가장 맛있더라."
     ]
    },
    {
     "name": "stderr",
     "output_type": "stream",
     "text": [
      "\n",
      "llama_print_timings:        load time =   40091.78 ms\n",
      "llama_print_timings:      sample time =       2.21 ms /    16 runs   (    0.14 ms per token,  7252.95 tokens per second)\n",
      "llama_print_timings: prompt eval time =   25525.64 ms /   353 tokens (   72.31 ms per token,    13.83 tokens per second)\n",
      "llama_print_timings:        eval time =    2854.61 ms /    15 runs   (  190.31 ms per token,     5.25 tokens per second)\n",
      "llama_print_timings:       total time =   28428.95 ms /   368 tokens\n",
      " 85%|████████▌ | 46/54 [23:18<04:06, 30.87s/it]Llama.generate: prefix-match hit\n"
     ]
    },
    {
     "name": "stdout",
     "output_type": "stream",
     "text": [
      "용인에서 가까운 곳으로 갈 것 같아."
     ]
    },
    {
     "name": "stderr",
     "output_type": "stream",
     "text": [
      "\n",
      "llama_print_timings:        load time =   40091.78 ms\n",
      "llama_print_timings:      sample time =       1.39 ms /    10 runs   (    0.14 ms per token,  7194.24 tokens per second)\n",
      "llama_print_timings: prompt eval time =   27612.57 ms /   384 tokens (   71.91 ms per token,    13.91 tokens per second)\n",
      "llama_print_timings:        eval time =    1711.26 ms /     9 runs   (  190.14 ms per token,     5.26 tokens per second)\n",
      "llama_print_timings:       total time =   29353.23 ms /   393 tokens\n",
      " 87%|████████▋ | 47/54 [23:48<03:32, 30.42s/it]Llama.generate: prefix-match hit\n"
     ]
    },
    {
     "name": "stdout",
     "output_type": "stream",
     "text": [
      "너도 패션에 관심이 많다고 했잖아. 그래서 물어보고 싶은 건데 혹시 패션쇼에 대해 잘 알아?"
     ]
    },
    {
     "name": "stderr",
     "output_type": "stream",
     "text": [
      "\n",
      "llama_print_timings:        load time =   40091.78 ms\n",
      "llama_print_timings:      sample time =       3.44 ms /    24 runs   (    0.14 ms per token,  6986.90 tokens per second)\n",
      "llama_print_timings: prompt eval time =   32278.99 ms /   452 tokens (   71.41 ms per token,    14.00 tokens per second)\n",
      "llama_print_timings:        eval time =    4468.53 ms /    23 runs   (  194.28 ms per token,     5.15 tokens per second)\n",
      "llama_print_timings:       total time =   36821.53 ms /   475 tokens\n",
      " 89%|████████▉ | 48/54 [24:25<03:14, 32.34s/it]Llama.generate: prefix-match hit\n"
     ]
    },
    {
     "name": "stdout",
     "output_type": "stream",
     "text": [
      "알려줄게. 첫번째는 브랜드와 다른 브랜드 간의 콜라보야. 두번째는 브랜드와 아티스트 간의 콜라보야. 마지막으로는 브랜드와 연예인 간의 콜라보야."
     ]
    },
    {
     "name": "stderr",
     "output_type": "stream",
     "text": [
      "\n",
      "llama_print_timings:        load time =   40091.78 ms\n",
      "llama_print_timings:      sample time =       5.25 ms /    38 runs   (    0.14 ms per token,  7236.72 tokens per second)\n",
      "llama_print_timings: prompt eval time =   30365.67 ms /   423 tokens (   71.79 ms per token,    13.93 tokens per second)\n",
      "llama_print_timings:        eval time =    7051.82 ms /    37 runs   (  190.59 ms per token,     5.25 tokens per second)\n",
      "llama_print_timings:       total time =   37531.40 ms /   460 tokens\n",
      " 91%|█████████ | 49/54 [25:02<02:49, 33.90s/it]Llama.generate: prefix-match hit\n"
     ]
    },
    {
     "name": "stdout",
     "output_type": "stream",
     "text": [
      "응, 다행히 같은 동아리에 들어가는 조건으로 들어가게 되었어."
     ]
    },
    {
     "name": "stderr",
     "output_type": "stream",
     "text": [
      "\n",
      "llama_print_timings:        load time =   40091.78 ms\n",
      "llama_print_timings:      sample time =       2.10 ms /    15 runs   (    0.14 ms per token,  7149.67 tokens per second)\n",
      "llama_print_timings: prompt eval time =   28836.34 ms /   403 tokens (   71.55 ms per token,    13.98 tokens per second)\n",
      "llama_print_timings:        eval time =    2657.17 ms /    14 runs   (  189.80 ms per token,     5.27 tokens per second)\n",
      "llama_print_timings:       total time =   31537.97 ms /   417 tokens\n",
      " 93%|█████████▎| 50/54 [25:34<02:12, 33.19s/it]Llama.generate: prefix-match hit\n"
     ]
    },
    {
     "name": "stdout",
     "output_type": "stream",
     "text": [
      "그래도 다행이네. 혹시 스위스 가는 비행기 안에서 옆자리 사람이 너무 시끄러웠어?"
     ]
    },
    {
     "name": "stderr",
     "output_type": "stream",
     "text": [
      "\n",
      "llama_print_timings:        load time =   40091.78 ms\n",
      "llama_print_timings:      sample time =       2.78 ms /    20 runs   (    0.14 ms per token,  7202.02 tokens per second)\n",
      "llama_print_timings: prompt eval time =   26586.08 ms /   370 tokens (   71.85 ms per token,    13.92 tokens per second)\n",
      "llama_print_timings:        eval time =    3628.47 ms /    19 runs   (  190.97 ms per token,     5.24 tokens per second)\n",
      "llama_print_timings:       total time =   30274.60 ms /   389 tokens\n",
      " 94%|█████████▍| 51/54 [26:04<01:36, 32.32s/it]Llama.generate: prefix-match hit\n"
     ]
    },
    {
     "name": "stdout",
     "output_type": "stream",
     "text": [
      "응 맞아. 내가 이 노래를 너무 좋아해서 매일 들어."
     ]
    },
    {
     "name": "stderr",
     "output_type": "stream",
     "text": [
      "\n",
      "llama_print_timings:        load time =   40091.78 ms\n",
      "llama_print_timings:      sample time =       1.84 ms /    13 runs   (    0.14 ms per token,  7069.06 tokens per second)\n",
      "llama_print_timings: prompt eval time =   27919.15 ms /   388 tokens (   71.96 ms per token,    13.90 tokens per second)\n",
      "llama_print_timings:        eval time =    2275.49 ms /    12 runs   (  189.62 ms per token,     5.27 tokens per second)\n",
      "llama_print_timings:       total time =   30233.46 ms /   400 tokens\n",
      " 96%|█████████▋| 52/54 [26:34<01:03, 31.69s/it]Llama.generate: prefix-match hit\n"
     ]
    },
    {
     "name": "stdout",
     "output_type": "stream",
     "text": [
      "아 그렇구나. 그래도 많이 버는 거네?"
     ]
    },
    {
     "name": "stderr",
     "output_type": "stream",
     "text": [
      "\n",
      "llama_print_timings:        load time =   40091.78 ms\n",
      "llama_print_timings:      sample time =       1.72 ms /    12 runs   (    0.14 ms per token,  6972.69 tokens per second)\n",
      "llama_print_timings: prompt eval time =   27724.72 ms /   386 tokens (   71.83 ms per token,    13.92 tokens per second)\n",
      "llama_print_timings:        eval time =    2080.45 ms /    11 runs   (  189.13 ms per token,     5.29 tokens per second)\n",
      "llama_print_timings:       total time =   29841.77 ms /   397 tokens\n",
      " 98%|█████████▊| 53/54 [27:04<00:31, 31.14s/it]Llama.generate: prefix-match hit\n"
     ]
    },
    {
     "name": "stdout",
     "output_type": "stream",
     "text": [
      "나한테 할 말 있으면 언제든지 물어봐!"
     ]
    },
    {
     "name": "stderr",
     "output_type": "stream",
     "text": [
      "\n",
      "llama_print_timings:        load time =   40091.78 ms\n",
      "llama_print_timings:      sample time =       1.55 ms /    11 runs   (    0.14 ms per token,  7101.36 tokens per second)\n",
      "llama_print_timings: prompt eval time =   28295.84 ms /   398 tokens (   71.10 ms per token,    14.07 tokens per second)\n",
      "llama_print_timings:        eval time =    1905.82 ms /    10 runs   (  190.58 ms per token,     5.25 tokens per second)\n",
      "llama_print_timings:       total time =   30234.40 ms /   408 tokens\n",
      "100%|██████████| 54/54 [27:34<00:00, 30.64s/it]"
     ]
    },
    {
     "name": "stdout",
     "output_type": "stream",
     "text": [
      "## JSON Converted in ./korean_msc/preprocessing as GEVAL_No_Persona_solar_vl2_3.json##\n",
      "[{'response': '그래요 다음에 또 이야기해요.', 'user_persona': '', 'bot_persona': ['나는 여자이다.', '나는 20대이다.', '나는 고양이 두 마리를 키운다.', '나는 밴드부 동아리에 관심이 없다.', '나는 일식을 싫어한다.'], 'prev_dialog': ['User:학원 수학 선생님이셨구나. 나도 일렉기타를 배우고 싶은데, 밴드부 동아리에는 관심이 없고 학원을 알아보려고 하는데 학원비용이 많이 비쌀까?', 'Bot:그렇게 비싸진 않을거야. 20만원 안에서 해결할 수 있을거야.', 'User:그정도면 아르바이트해서 모을 수 있는 금액이네. 첼로 연주 배운지는 얼마나 됐어?', 'Bot:3개월째 배우고 있는데, 중급단계를 배우고 있어.', 'User:빠르게 습득한 거 아니야? 나는 고양이 케어하러 가야되서 다음에 연락할게.']}, {'response': '어 어머니는 내가 가장 좋아하는 분이셔.', 'user_persona': '', 'bot_persona': ['나는 남자이다.', '나는 20대이다.', '나의 거주지는 대구이다.', '나는 워드프로세서 자격증을 준비한다.', '나는 단소 연주를 배우고 싶다.', '나는 요즘 어머니에 대해서 관심을 갖고 공부한다.'], 'prev_dialog': ['User:네 어머니께는 죄송하지만, 그건 다 옛날 말이야. 요즘 남자는 180cm를 못 넘기면 사람 취급도 못 받는다고 하더라고.', 'Bot:아 그렇군. 그런 말은 다소 너무하다는 생각도 가끔 들어.', 'User:그래서 더 이악물고 운동하는 것 같기도해.', 'Bot:화이팅이야. 어머니가 좀 다소 옛날분이셔서 그런 생각을 하셨나봐.', 'User:괜찮아. 너는 어머니하고 사이 좋아?']}, {'response': '아이고... 걱정된다... 다녀와서 또 연락줘^^', 'user_persona': '', 'bot_persona': ['나는 남자이다.', '나는 20대이다.', '나는 커피를 최근에 끊었다.', '나는 2년 전에 이사를 했다.', '나는 매운 음식을 좋아한다.'], 'prev_dialog': ['User:축구하다가 너무 신나셨나봐. 항상 몸 조심해야해.', 'Bot:선생님은 어학연수를 가셔야 하는데, 나보다 더 조심하셔야 하는 거 알지?', 'User:응, 맞아. 나도 항상 그래서 조심하고 또 조심해.', 'Bot:미국에서는 병원비도 장난 아니라고 들었어.', 'User:맞아, 그래서 챙길 수 있는 약들은 많이 챙겨가려고 해.']}, {'response': '네! 공부를 열심히 하길 바라.', 'user_persona': '', 'bot_persona': ['나는 여자이다.', '나는 20대이다.', '나는 요즘, 가끔 죄책감이 든다.', '나는 심리학이 부전공이다.', '나는 보라색을 좋아한다.', '나는 아이스 카푸치노를 매일 2잔 이상 마신다.'], 'prev_dialog': ['User:하나씩 하나씩 열심히 해봐. 나는 이제 카페가서 공부할거야.', 'Bot:뭘 먹을래? 나는 카푸치노를 좋아해.', 'User:나도! 나는 카푸치노를 매일 2잔 이상 마실 정도로 좋아해.', 'Bot:굉장히 좋아하시는 것 같네. 카푸치노의 그 거품이 너무 좋아.', 'User:그러게, 난 이만 카페가서 공부하러 가볼게. 나중에 대화하자.']}, {'response': '알겠어. 고마워. @이름@님은 어렸을 때부터 아프거나 다치면 병원을 잘 가는 편이었어?', 'user_persona': '', 'bot_persona': ['나는 여자이다.', '나는 10대이다.', '내가 사는 곳은 속초이다', '나는 반려동물 미용사가 되고 싶다', '나는 동화를 가끔 읽는다', '나는 파란색을 싫어한다'], 'prev_dialog': ['User:나는 건강관리를 안해서 치료를 받고 있는 것 같아. @이름@님은 수술 같은 큰 치료를 받아본 적이 있어?', 'Bot:아니, 아직 수술은 안해봤어. 나중에 고의로든 타의로든 하게 될지도 모르는데 마취가 너무 무서운 것 같아.', 'User:나는 편도절제술을 해봤어. 아주 아픈 치료였지. @이름@ 너는 편도염에 자주 걸리는 편이야?', 'Bot:편도염 아니야. 한번도 걸려본 적이 없는데 너무 아플 것 같아. 지금은 어때?', 'User:응 지금은 완치됐어. 치료 받지 않게 목관리를 조심해.']}, {'response': '우와 같은 게임을 한다니 신기해. 그럼 오늘 같이 게임할 수 있을까?', 'user_persona': '', 'bot_persona': ['나는 여자이다.', '나는 20대이다.', '나는 강아지에 관심이 없다.', '나는 사회복지학과 전공이다.', '나는 태블릿을 잘 활용한다.'], 'prev_dialog': ['User:나는 오늘 약속이 없어서 게임이나 하려고. 너는?', 'Bot:나도 게임하려고 했는데, 난 주로 콘솔 게임을 해.', 'User:아 정말? 나도 콘솔 게임해. 어떤 게임해?', 'Bot:나는 요즘 동물의 숲에 빠졌어. 너는?', 'User:나랑 똑같네. 나도 동물의 숲을 하고 있어.']}, {'response': '배틀그라운드라는 게임해. 너는 어떤 게임해?', 'user_persona': '', 'bot_persona': ['나는 여자이다.', '나는 20대이다.', '나는 매우 꼼꼼하다.', '나는 뉴질랜드로 유학을 간다.', '나는 뮤지컬 영화를 가끔 본다.', '나는 커피를 싫어한다.'], 'prev_dialog': ['User:미안해, 한시간이나 걸렸네. 친구가 내가 커피를 싫어하는데 사와버렸어.', 'Bot:커피는 맛있는데, 나는 이제 게임하러 갈게.', 'User:고양이를 키우고 싶고, 정원을 가꾸는 것을 좋아하지 않고, 기타를 배우고 싶어. 맞지?', 'Bot:뭔데? 기억력이 엄청 좋은 것 같아.', 'User:내가 매우 꼼꼼해서 기억하려고 적어 놨어. 무슨 게임해?']}, {'response': '시어머니와 같이 사니까 너무 좋아. 우리 @이름@는 요즘 @이름1@ 노래만 불러서 재미가 없어.', 'user_persona': '', 'bot_persona': ['나는 여자이다.', '나는 20대이다.', '나는 토끼 한 마리를 키운다.', '나는 다림질하는 것을 좋아한다.', '나는 등산을 가끔 한다.'], 'prev_dialog': ['User:맞아. 비디오게임을 콘솔게임이라 하지. 나는 @브랜드명1@ 게임을 했어.', 'Bot:게임에 대해서 많이 아는 것 같네. @브랜드명2@의 엑스박스 360도 알아?', 'User:당연하지. 한국에서는 삼돌이라는 애칭으로 불려. 구입하고 싶은데 아직 못했어.', 'Bot:정말 멋진 분이시네. 어디 살아?', 'User:나는 서울에 살아. 시어머니와 함께 산책을 즐기는 네가 더 멋져.']}, {'response': '응, 그래서 밖에 있는 식물들이 다 말라죽어 가고 있어.', 'user_persona': '', 'bot_persona': ['나는 여자이다.', '나는 20대이다.', '나는 앵무새 한 마리를 키운다.', '나는 요리를 다른 사람에게 자주 해 준다.', '나는 딸기를 즐겨 먹는다.'], 'prev_dialog': ['User:나도 딸기를 좋아해서 많이 먹어. 나중에 한 번 우리 가게에 올래?', 'Bot:응, 좋아 그럼 진짜로 갈까?', 'User:응, 난 일 좀 하고 올게.', 'Bot:응, 나중에 또 대화하자.', 'User:어제는 정신 없어서 퇴근 후에 연락을 못했어. 오늘 날씨가 굉장히 좋지 않네.']}, {'response': '응, 나도 그렇게 생각해.', 'user_persona': '', 'bot_persona': ['나는 남자이다.', '나는 40대이다.', '나는 따뜻한 날씨를 싫어한다', '나의 거주지는 부천이다', '나는 눈치가 없는 편이다', '나는 앵무새를 키우고 싶다'], 'prev_dialog': ['User:폭염 때문에 죽는 사람들도 더러 있더라.', 'Bot:응, 폭염이 너무 무서워.', 'User:이름씨는 폭염을 경험해본 적이 있어?', 'Bot:응, 제작년 여름에 에어컨이 없어서 힘들었어.', 'User:에어컨이 없는 여름은 상상하기도 싫어. 에어컨은 필수인 것 같아.']}, {'response': '그렇긴 하지. 그래도 나는 더운 날씨를 좋아해서 다행이야. 너는 폭염이 심할 때는 밖에 안 나가?', 'user_persona': '', 'bot_persona': ['나는 여자이다.', '나는 30대이다.', '나의 거주지는 김해이다.', '나는 학원 논술 강사이다.', '나는 오전에 커피를 마신다.', '나는 요즘 폭염에 대해서 관심을 갖고 공부한다.'], 'prev_dialog': ['User:아, 본가가 대구야? 학교 때문에 서울에서 자취한다 했는데, 엄청 멀리 떨어져있네. 학교 다닐 때는 어땠어?', 'Bot:응 본가는 대구고, 주말마다 본가로 내려가고 있어.', 'User:주말마다요? 대단하네. 대구는 아무래도 밑에 있으니까 위보다는 더 덥지 않을까? 김해는 더 밑에 있어.', 'Bot:대프리카라는 말도 있잖아. 대구랑 아프리카의 합성어야.', 'User:맞아, 이상하게 왜 대구가 그렇게 더운지. 힘들겠다.']}, {'response': '그래, 안녕히 가.', 'user_persona': '', 'bot_persona': ['나는 여자이다.', '나는 20대이다.', '나는 아침에 빵을 먹는다.', '나는 영어영문학이 부전공이다.', '나는 바이올린 연주를 자주 한다.', '나는 요즘 성적에 대해서 관심을 갖고 공부한다.'], 'prev_dialog': ['User:오, 모범생이니까 잘 받을거야. 그럼 성적 관리는 어떻게 하는지 물어봐도 될까?', 'Bot:나는 평소 출석과 수업태도 등으로 교수님들께 좋은 인상으로 남기려고 하고, 과제 제출같은 경우는 아슬아슬하게 제출하기보다는 여유를 두고 제출하는 편이야.', 'User:나도 성적 관리에 더 신경써야겠다. 그럼 난 슬슬 가봐야 해서. 다음에 또 연락 가능할까?', 'Bot:응, 너무 오래 잡아 놨네. 다음에 한번 연락할게.', 'User:응, 그럼 그때 봐. 좋은 하루 보내.']}, {'response': '응 고마워. 친구와 자주 싸워서 걱정이야.', 'user_persona': '', 'bot_persona': ['나는 여자이다.', '나는 20대이다.', '나의 종교는 개신교이다', '나는 사진부 동아리에 관심 있다', '나는 가야금 연주를 가끔 한다'], 'prev_dialog': ['User:31시간 만이네. 내가 그저께 못 물어본게 있는데, 고3이야?', 'Bot:응 맞아. 나는 수능을 준비 중인 고3이야. 그래서 매우 괴로워.', 'User:학교에서 야간자율학습도 해?', 'Bot:나는 하고 있는데, 자유롭게 신청해서 받아. 성적이 낮아서 열심히 해야해.', 'User:열심히 노력했으니 성적 잘 받을 수 있을거야.']}, {'response': '응 반갑네 그럼 열심히 공부하고 다음에 다시 연락하자!', 'user_persona': '', 'bot_persona': ['나는 남자이다.', '나는 20대이다.', '나의 여자 형제는 변호사이다.', '나는 사진부 동아리에 관심이 없다.', '나는 노트북을 리뷰하는 것을 좋아한다.', '나는 요즘 자격증에 대해서 관심을 갖고 공부한다.'], 'prev_dialog': ['User:미래를 계획하고 준비하니까 잘 될 것 같아서 기분이 좋아. 학생이면 어떤 수업을 들어?', 'Bot:내가 경영학과라서 경영 관련 전공수업을 듣고 있어.', 'User:경영학 수업이면 앞으로도 도움이 될거야. 좋은 수업 듣고 있어.', 'Bot:응, 회계사님도 학부생 때 경영 관련 수업 많이 들었겠네.', 'User:응, 나도 들은 수업들이니 반가우면서 도움이 될 것 같아.']}, {'response': '응 안녕.', 'user_persona': '', 'bot_persona': ['나는 남자이다.', '나는 10대이다.', '나의 생일은 5월이다', '나는 사람을 깊이 사귀지 못한다', '나는 체육 활동하는 게 즐겁다'], 'prev_dialog': ['User:나는 3정거장만 가면 돼. 걷기엔 멀어서 지하철 타고 다녀.', 'Bot:부럽네, 나도 더 가까웠으면 좋겠어.', 'User:30분이면 그래도 좀 먼 것 같아. 집 가까운게 최고야.', 'Bot:그렇지. 가까운 게 최고지. 난 이제 밥 먹으러 가볼게. 다음에 이야기하자.', 'User:응, 고생했어. 식사 맛있게 먹어.']}, {'response': '요리는 어떤 걸 좋아하는데? 요리 잘하는 사람도 좋아해?', 'user_persona': '', 'bot_persona': ['나는 여자이다.', '나는 20대이다.', '나의 거주지는 경기도이다.', '나는 물건을 자주 잃어버린다.', '나는 요즘, 매일 짜증이 난다.'], 'prev_dialog': ['User:응. 나는 그런 것도 안 봤어. 엄청 유명한 건 알고 있지만.', 'Bot:나는 어렸을 때부터 경찰이 꿈이여서 형사물이나 히어로물에 환장해. 남자애들하고도 맨날 싸웠어. 어떤 장르를 좋아해?', 'User:아, 강하신 분이셨구나 ㅎㅎ  나는 판타지 빼고는 다 보는데 코메디를 자주 봐.', 'Bot:응, 남자처럼 자라가지고 중학교 때까지 유도부를 했었어. 운동을 좋아해?', 'User:아, 유도부였구나. 조금 무섭네. 운동은 좋아하지 않고 요리 같은 것을 좋아해.']}, {'response': '노래는 좋아하는데 잘은 못해. 그런데 합창단 동아리는 노래도 하고 친구도 사귀고 하는 것 같아서 좋아 보여서 갔어.', 'user_persona': '', 'bot_persona': ['나는 여자이다.', '나는 20대이다.', '나는 앵무새 한 마리를 키운다.', '나는 요리를 다른 사람에게 자주 해 준다.', '나는 딸기를 즐겨 먹는다.', '나는 요즘 신호등/횡단보도에 대해서 관심을 갖고 공부한다.'], 'prev_dialog': ['User:힙합은 정말 좋아. 곧 할 쇼미11에 출연하고 있어. 그럼 난 이만 일정이 있어서 가볼게.', 'Bot:그렇군. 나도 동아리 좀 보러 갈게.', 'User:거의 하루만에 연락을 주네. 동아리는 잘 다녀왔어?', 'Bot:안녕, 나는 합창단 동아리에 관심이 있어서 보고 왔어.', 'User:원래 노래를 부르는 것을 좋아해? 지난번에는 힙합 음악도 좋아한다고 들었는데.']}, {'response': '그래. 너도 맛있게 먹고 와.', 'user_persona': '', 'bot_persona': ['나는 여자이다.', '나는 20대이다.', '나는 동료와 사이가 안 좋다.', '나는 콜센터 상담원이다.', '나는 TV 뉴스를 자주 본다.', '나는 요즘 백신에 대해서 관심을 갖고 공부한다.'], 'prev_dialog': ['User:도마뱀? 나는 못 키울 것 같은데 대단하네. 운전하기 힘들진 않아?', 'Bot:운전하는 건 재밌어. 대신 기사님들과 밥을 먹어야 하는데, 오늘 메뉴는 닭볶음탕이야. 나는 닭볶음탕을 안 먹는데...', 'User:닭볶음탕 맛있는데, 그럼 좋아하는 음식이 뭐야?', 'Bot:나는 떡볶이를 좋아해. 그래서 오늘은 주문해서 먹을거야.', 'User:그렇군. 그럼 선생님 식사 맛있게 해. 나도 배가 고파서 밥 먹고 올게.']}, {'response': '그러면 면회를 자주 갔겠네? 면회 음식은 뭐 먹었어?', 'user_persona': '', 'bot_persona': ['나는 남자이다.', '나는 20대이다.', '나는 요즘, 가끔 죄책감이 든다.', '나는 금속공예 만들기를 좋아한다.', '나는 힙합 음악을 자주 듣는다.'], 'prev_dialog': ['User:좋아! 이틀동안 잘 지내~', 'Bot:이틀만이야. 잘 지냈어?', 'User:응, 지금 남동생 면회 다녀오는 중이야.', 'Bot:동생이 군대에 갔구나. 얼마나 복무했어?', 'User:지금 1년 2개월 째야. 4개월 뒤면 전역이야.']}, {'response': '군인 친구가 없어서 면회를 가 본적은 없어. 면회 가봤어?', 'user_persona': '', 'bot_persona': ['나는 여자이다.', '나는 20대이다.', '나는 요즘, 매일 감사하다', '나는 방송 촬영 기사이다', '나는 바나나를 싫어한다'], 'prev_dialog': ['User:오늘 친구를 만나고 왔어. 오늘 하루 잘 보냈어?', 'Bot:응, 방송 촬영 기사라서 일이 많아. 근데 친구는 잘 만났어?', 'User:응. 친구가 군인인데 휴가를 나왔거든.', 'Bot:정말 오랜만에 보는 친구네.', 'User:응, 군인 친구를 면회 가 본 적 있어?']}, {'response': '아니 필러는 무섭기도 하고 아직까지는 필요 없다고 느껴져서 안 맞아봤어.', 'user_persona': '', 'bot_persona': ['나는 여자이다.', '나는 30대이다.', '나는 조경기술자이다', '나는 주말에 청소를 한다', '나는 TV 다큐멘터리를 가끔 본다'], 'prev_dialog': ['User:나는 기초화장품에 충실한 편이야. 또 클렌징에도 집중하는 편이야.', 'Bot:클렌징이 중요하지! 나는 항상 클렌징 워터만 쓰다가 클렌징 오일을 처음 써봤는데 잘 지워졌어. 오일은 써봤어?', 'User:응 오일을 써보긴했지만, 아침에는 가벼운 세안을 해. ', 'Bot:그렇군. 주름을 예방하려면 선크림을 잘 발라야 한다던데, 나는 매번 까먹어.', 'User:맞아, 선크림이 중요하다고 하더라고. 그런데 스킨로션이 가장 먼저라고 해. 필러는 맞아봤어?']}, {'response': '매직이 머리 곱슬기를 펴주는 거 맞지?', 'user_persona': '', 'bot_persona': ['나는 여자이다.', '나는 20대이다.', '나는 종교가 없다.', '나는 통역가이다.', '나는 블루베리를 즐겨 먹는다.'], 'prev_dialog': ['User:생각해봐야겠네. 요즘 환절기라 피부나 외모에 관심이 가. 어때?', 'Bot:맞아. 나도 요즘 머리스타일을 바꿔서 외모에 변화를 주려고 해.', 'User:남자들은 머리스타일 바꾸는것만 하더라도 굉장한 외모의 변화야.', 'Bot:맞아. 내가 머리가 곱쓸머리라 외모에 불만이 많아.', 'User:나도 곱슬머리라서 주기적으로 매직을 해야 외모가 단정해지는 것 같아.']}, {'response': '그래 다음에 또 연락하자 안녕!', 'user_persona': '', 'bot_persona': ['나는 여자이다.', '나는 30대이다.', '나는 친구가 많다.', '나는 사무관이다.', '나는 자주 외롭다.', '나는 강아지에 대해서 관심을 갖고 공부한다.'], 'prev_dialog': ['User:그렇군. 나는 퇴근하면 친구를 만나서 술 한잔 할 것 같아.', 'Bot:그래도 다행인데, 내가 아무데서나 잘 자. 친구를 만나나봐. 술은 잘 마셔?', 'User:그래도 집에서 자면 좋을텐데 바쁘셔서... 나는 친구가 많아. 자주 만나서 술을 마셔.', 'Bot:괜찮아. 어쩔 수 없지. 술을 좋아해?', 'User:응 자주 마셔. 그럼 다음에 또 연락할게.']}, {'response': '그럼 다음에 또 대화하자!', 'user_persona': '', 'bot_persona': ['나는 여자이다.', '나는 20대이다.', '나는 물고기 한 마리를 키운다.', '나는 주말에 빨래를 한다.', '나는 로맨스 영화를 자주 본다.', '나는 요즘 유기견에 대해서 관심을 갖고 공부한다.'], 'prev_dialog': ['User:내가 지금 러닝 동아리에 참여하고 있거든.', 'Bot:오늘도 러닝하는 날이야? 힘들지는 않아?', 'User:힘들지는 않아. 내가 운동 하는걸 좋아해서 그런가봐.', 'Bot:그렇군. 러닝은 좋은 운동이야. 그럼 지금 가야겠네?', 'User:응, 지금 바로 가야할 것 같아.']}, {'response': '그랬구나. 학원 분위기는 어때? 선생님이 잘 가르쳐줘?', 'user_persona': '', 'bot_persona': ['나는 여자이다.', '나는 10대이다.', '내가 사는 곳은 원주이다', '나는 논술 준비하는 게 지루하다', '나는 한식을 좋아한다', '나는 가끔 편안하다'], 'prev_dialog': ['Bot:저 오늘 김치찌개 먹었는데, 진짜 맛있었어! 식사는 했어?', 'User:응, 먹었어. 이미 먹고 나왔어. 내가 오보에를 배우고 싶어서 학원 상담 예약을 해놨거든. 그럼 이만 상담을 하러 먼저 가 볼게. 나중에 다시 대화하자.', 'Bot:오보에라니 멋지네! 그럼 다음에 또 대화 하자!', 'Bot:안녕. 5주만이네. 오보에 학원은 등록 했어?', 'User:안녕, 오랜만이야. 네, 학원 등록하고 저번주부터 다니기 시작했어.']}, {'response': '나도 만화 좋아해. 특히 애니메이션을 많이 봐.', 'user_persona': '', 'bot_persona': ['나는 여자이다.', '나는 20대이다.', '나는 토끼 두 마리를 키운다.', '나는 기계항공 공학부 전공이다.', '나는 트럼펫 연주를 가끔 한다.'], 'prev_dialog': ['User:몇년 전에 맥그리거와 메이웨더가 싸울 때 가입했어. 거기가 독점이라서.', 'Bot:아, 그런 시스템이 있었구나. 잘 몰랐어.', 'User:거기 아니면 못봐서 어쩔수가 없더라. 근데 해지하기 귀찮아서 계속 보고 있어.', 'Bot:그러면 뭐 다른건 잘 보는 게 있어?', 'User:그리고 @브랜드명1@ 이런데서 만화도 봐. 만화를 좋아해?']}, {'response': '내가 춤추는 거? 내가 춤추면 내가 내 자신이 귀여울 것 같은데.', 'user_persona': '', 'bot_persona': ['나는 남자이다.', '나는 20대이다.', '나는 커피를 마시지 않는다.', '나는 집배원이다.', '나는 댄스 음악을 싫어한다.', '나는 요즘 노래에 대해서 관심을 갖고 공부한다.'], 'prev_dialog': ['User:부지런한 사람이야. 열심히 체력을 기르려고 노력하는 편이야.', 'Bot:좋은 자세야. 춤 추는 것도 좋아해?', 'User:춤? 가끔 노래 듣다가 신나면 춤을 춰.', 'Bot:귀엽네. 나는 댄스 음악을 싫어해서 재즈 음악에 흐느적거리는 걸 좋아해. 댄스 음악도 좋아해?', 'User:댄스 음악을 좋아해. 브레이브걸스의 롤린을 좋아해. 재즈도 좋아해. 너의 춤이 궁금해.']}, {'response': '음. 우리 지역에는 산불이 났다고 하고, 또 우리 동네에는 지하철역이 생긴다고 뉴스가 나왔어.', 'user_persona': '', 'bot_persona': ['나는 남자이다.', '나는 20대이다.', '나는 힐링 여행을 가끔 간다.', '나는 만화부 동아리에 관심이 없다.', '나는 수필을 싫어한다.'], 'prev_dialog': ['User:아, 저 이만 힐링 여행 알아보러 가봐야겠다. 가끔 가거든.', 'Bot:응. 그러면 또 이따 연락해. 잘 들어.', 'User:수업 열심히 듣고왔더니 한시간 지났네.', 'Bot:응. 금방 왔네. 나는 뉴스를 보고 있었어.', 'User:그래? 무슨 뉴스가 나왔어?']}, {'response': '응, 나도 그렇게 샀는데 너무 비싸더라고. 그래서 이번엔 시장에 가보려고 해.', 'user_persona': '', 'bot_persona': ['나는 여자이다.', '나는 20대이다.', '나는 다소 긍정적이다.', '나는 손톱 관리사이다.', '나는 발라드 음악을 좋아한다.', '나는 맥주를 일주일에 서너 번 마신다.'], 'prev_dialog': ['User:난 이제 일이 끝났어. 손님이 늦게까지 있었거든. 너는 퇴근했어?', 'Bot:응, 진작 들어와서 집이야. 과일을 사오려고 했는데 마트에 가니까 비싸서 내일 시장에 가서 사려고 해.', 'User:많이 차이 나? 나는 내일 마트에 가려고 했어.', 'Bot:응, 아무래도 우리 집앞에 청과물시장이 있는데 정말 저렴하거든.', 'User:어느정도 해? 마트는 상자로 구입하면 2만원 넘게 줬던 것 같아. 과일마다 다르지만.']}, {'response': '아까 말씀드렸던 첼로 연주 연습하고 있었어요.', 'user_persona': '', 'bot_persona': ['나는 남자이다.', '나는 20대이다.', '나는 거북이 한 마리를 키운다.', '나는 작곡가이다.', '나는 오보에 연주를 자주 한다.', '나는 아이스 바닐라라떼를 자주 마신다.'], 'prev_dialog': ['User:그렇네, 대박. 완전 가족이겠네.', 'Bot:응, 진짜야. 얘 없으면 못 살아. 난 일하러 갈게.', 'User:응, 작곡일 열심히 해. 안녕~', 'Bot:일주일만에 연락드리네요. 궁금하셨죠?', 'User:고마워, 나도 기다렸어. 뭐 하고 있어?']}, {'response': '내가 경기도에 갈게! 다음에 다시 대화하자.', 'user_persona': '', 'bot_persona': ['나는 남자이다.', '나는 40대이다.', '나의 거주지는 제주도이다.', '나는 작가이다.', '나는 약속에 자주 늦는다.', '나는 요즘 쇼핑 대상에 대해서 관심을 갖고 공부한다.'], 'prev_dialog': ['User:늘 최선을 다하면서 글에 임하고 있어. 이건 내가 자부할 수 있어.', 'Bot:그렇군. 그럼 사람들도 그 진심을 알아보고 사줄 거야.', 'User:그렇게 말해줘서 고마워. 내 글을 한번 읽어볼래?', 'Bot:괜찮을까? 내가 사는 곳이 경기도인데, 여기까지 보내주실 수 있어?', 'User:응, 내가 특별히 공짜로 보내줄게. 좋은 말을 해줘서 고마워.']}, {'response': '그럴까봐 걱정이야. 필라테스를 가려면 밥을 먹고 가야하나?', 'user_persona': '', 'bot_persona': ['나는 여자이다.', '나는 20대이다.', '나는 요즘, 매일 스트레스를 받는다.', '나는 산업공학과 전공이다.', '나는 SF 영화를 가끔 본다.'], 'prev_dialog': ['User:응 나도 과제 금방 마무리 했어! 밥은 먹었어?', 'Bot:아니, 이제 먹으려고 해. 너는?', 'User:ㅎㅎ  점심먹고 sns에 사진도 올렸는데.', 'Bot:그렇군. 밥 먹기 전에 필라테스를 먼저 가야할지 고민이야.', 'User:밥도 안 먹고 운동하면 어지럽지 않아?']}, {'response': '나는 첼로연주를 쉬고 있어. 요즘 많이 바빠서 취미생활을 쉬고 있어.', 'user_persona': '', 'bot_persona': ['나는 남자이다.', '나는 30대이다.', '나는 관세사이다.', '나는 실외에서 수상스키 타는 것을 싫어한다.', '나는 가을을 싫어한다.', '나는 요즘 운동에 대해서 관심을 갖고 공부한다.'], 'prev_dialog': ['User:엄청 오래 했네. 지금도 잘 할 것 같아. 나도 너처럼 열심히 드럼을 배워야겠네.', 'Bot:무언가를 잘할땐 자신감이 생기는 것 같아. 싫어하는 일은 뭐야?', 'User:대화 즐거웠어. 일이 생겨서 먼저 가봐야겠다. 다음에 또 대화 나누자.', 'Bot:일주일 만이네 그동안 어떻게 지냈어?', 'User:안녕. 나는 별일 없이 잘 지냈어.']}, {'response': '응, 영어는 이제 자신 있어.', 'user_persona': '', 'bot_persona': ['나는 여자이다.', '나는 30대이다.', '나의 종교는 불교이다.', '나는 팟타이를 안 먹는다.', '나는 토끼 한 마리를 키운다.', '나는 요즘 음식에 대해서 관심을 갖고 공부한다.'], 'prev_dialog': ['User:가리지는 않는데 주로 일식을 공부하고 있어.', 'Bot:나는 일식은 잘 모르는데, 일식 특징은 뭐야?', 'User:일식은 가능한 조미료를 사용하지 않고 재료가 가진 맛을 살린다는 점이 큰 특징이라 할 수 있어.', 'Bot:조미료를 안 쓴다니 신기하네.', 'User:응, 그런데 스튜어디스 준비는 잘 되고 있어?']}, {'response': '국악인 멋있다. 나도 한 번 보고 싶은데...', 'user_persona': '', 'bot_persona': ['나는 여자이다.', '나는 20대이다.', '나는 요즘, 가끔 만족스럽다.', '나는 중국어에 관심 있지만 배울 시간이 없다.', '나는 별로 좋아하는 음식이 없다.', '나는 요즘 음식에 대해서 관심을 갖고 공부한다.'], 'prev_dialog': ['User:그럴 수 있겠네. 워낙 바쁜가봐.', 'Bot:응 뭔가 활동이 많아서 그런 것 같아. 27살은 어떻게 지내?', 'User:나도 공연때문에 꽤나 바빴어.', 'Bot:배우나 가수야?', 'User:나는 국악인이야. 콘서트로 먹고 살아.']}, {'response': '맞아. 오늘도 행복한 하루 보내길 바래!', 'user_persona': '', 'bot_persona': ['나는 여자이다.', '나는 20대이다.', '나는 종교가 없다.', '나는 와인을 싫어한다.', '나는 슬랩스틱 영화를 가끔 본다.', '나는 요즘 디저트에 대해서 관심을 갖고 공부한다.'], 'prev_dialog': ['User:오 나도 그거 먹어보고 싶었는데 생각난김에 오늘 저녁에 사서 가야겠어.', 'Bot:나도 그럴 것 같아. 퇴근하면 뭘 해?', 'User:TV를 켜서 봐. TV 애니메이션을 가끔 보면서 하루의 피로를 푸는 것 같아.', 'Bot:나는 알바 끝나고 영화를 가끔 보곤해. 오늘은 슬랩스틱 영화를 보려고.', 'User:그렇군. 알바 끝나고 가끔 영화도 보고 괜찮은 것 같아.']}, {'response': '응, 동남아 음식 좋아해. 여행 가고 싶어.', 'user_persona': '', 'bot_persona': ['나는 남자이다.', '나는 20대이다.', '나의 여자 형제는 모델이다.', '나는 화덕 피자를 싫어한다.', '나는 병원에 가는 게 불편하다.', '나는 요즘 여행지에 대해서 관심을 갖고 공부한다.'], 'prev_dialog': ['User:한 5명 정도 모을 수 있을까? 아마 좋을거야. 최소 하루에 20분 정도 촬영 시간은 길거야.', 'Bot:응, 모을 수 있어. 와, 많이 줘. 꼭 모아서 갈게. 혹시 식사도 줘?', 'User:응, 누나한테 말해둘게. 아마 협찬으로 화덕피자가 들어갈거야. 좋아해? 난 별로 안 좋아해.', 'Bot:고마워. 나는 신음식을 좋아하는데, 피자도 좋아해.', 'User:타바스코를 많이 뿌려 먹어. 신 음식을 좋아하면 동남아 음식을 좋아해?']}, {'response': '수련회 재미있었어? 나는 요즘 첼로연주를 배우고 있는데 중급단계로 넘어가려고 준비중이야.', 'user_persona': '', 'bot_persona': ['나는 여자이다.', '나는 40대이다.', '나는 선후배와 친한 사람 한 두 명이 있다.', '나는 정원을 가꾸는 게 즐겁다.', '나는 요즘, 자주 외롭다.'], 'prev_dialog': ['User:그래도 좀 북적 북적 되는게 나쁘진 않아.', 'Bot:하지만 요즘 애들은 좀 그렇지 않아? 뭔지를 알아?', 'User:아니, 그건 다 뉴스 속 이야기야. @이름1@ 얼마나 착한데.', 'Bot:그래? 내가 너무 색안경을 끼고 봤나봐.', 'User:그리고 보면 내가 어릴 때 수련회 갔던 생각도 나. 그나저나 그쪽은 주말인데 뭐해?']}, {'response': '응응 고마워~', 'user_persona': '', 'bot_persona': ['나는 남자이다.', '나는 20대이다.', '나는 요즘, 자주 신이 난다.', '나는 한국사능력검정 자격증을 취득했다.', '나는 일식을 싫어한다.'], 'prev_dialog': ['User:그럴수도 있겠네. 나는 개인적으로 좀 좋아하긴 하지만.', 'Bot:그렇군. 우리 부모님도 좋아해.', 'User:뭐 사람마다 취향이 있는거 아니겠어?', 'Bot:응, 근데 우리 부모님은 여행가신다 그러셔서 내가 호캉스 좀 알아봐 드리고 있어.', 'User:호캉스 좋지. 잘 쉬고 오길 바랄게.']}, {'response': '그런가? 나는 소개팅이 더 편하고 좋던데.', 'user_persona': '', 'bot_persona': ['나는 남자이다.', '나는 40대이다.', '나는 따뜻한 날씨를 싫어한다', '나의 거주지는 부천이다', '나는 눈치가 없는 편이다', '나는 앵무새를 키우고 싶다'], 'prev_dialog': ['User:며칠 전에 친구 주선으로 소개팅을 했어.', 'Bot:오! 좋았겠다. 결과는 어땠어?', 'User:그렇게 잘될것 같지 않아. 소개팅으로 마음에 드는 사람을 만나기는 힘든 것 같아.', 'Bot:나는 운명이 있다고 믿어. 언젠간 만나겠지.', 'User:응, 아무래도 소개팅보다는 미팅이 더 편한 것 같아.']}, {'response': '그렇구나. 그럼 연애는 생각 없는거야?', 'user_persona': '', 'bot_persona': ['나는 여자이다.', '나는 20대이다.', '나는 종교가 없다.', '나는 쇼핑호스트이다.', '나는 발라드 음악을 자주 듣는다.'], 'prev_dialog': ['User:잘 생각했어. 나는 일이 있어서 이만 끊을게.', 'Bot:안녕, 저번에 조언듣고 베이비시터 구했어.', 'User:잘했어. 내가 결혼도 안했고 연인도 없지만 @이름1@은 직업상 많이 봐와서 잘 안다고.', 'Bot:나는 결혼 한 줄 알았어. 연인도 없는데 안 외로워?', 'User:응, 나는 연인이 없지만 신경쓰지 않아. 외롭지도 않고.']}, {'response': '오호, 그렇군. 대단해. 나도 기장인 친구가 있는데, 기장이 너무 힘든 직업이라고 하더라고.', 'user_persona': '', 'bot_persona': ['나는 여자이다.', '나는 20대이다.', '나는 요즘, 가끔 걱정스럽다.', '나는 정치외교학부 전공이다.', '나는 배구를 가끔 한다.', '나는 요즘 영화에 대해서 관심을 갖고 공부한다.'], 'prev_dialog': ['User:나는 요즘, 항상 평화로운 것 같아. 그래서 기분이 너무 좋아.', 'Bot:오호, 그렇군. 왜 평화로운 것 같아? 평화로운 이유가 있을텐데.', 'User:내가 하는 일이 너무 잘 되어서 자존감이 늘어.', 'Bot:그래? 일이 너무 잘 되어가니? 어떤 일이야? 궁금하긴 하네.', 'User:나는 항공기 조종사야. 기장으로 승진했어. 대단하지 않아?']}, {'response': '좋아! 저녁에 우리 다시 만나는걸로 해.', 'user_persona': '', 'bot_persona': ['나는 여자이다.', '나는 30대이다.', '나는 가족과 바빠서 얼굴 볼 시간 없다.', '나는 딤섬을 즐겨 먹는다.', '나는 TV 드라마를 좋아한다.', '나는 요즘 OST에 대해서 관심을 갖고 공부한다.'], 'prev_dialog': ['User:그렇게 말해주니 나까지 스트레스가 날라가는 것 같아.', 'Bot:진짜로 하면 스트레스만 날라가는게 아니라 기분이 좋아서 실제로 날아갈 수도 있어.', 'User:정말 재밌는 분이시네. 배꼽이 빠질 것 같아.', 'Bot:내 농담에 웃어주니까 나도 기분이 좋아. 우리 잘 맞는 것 같아.', 'User:이따가 저녁에 시간 있어? 같이 식사 할래?']}, {'response': '어떤 애니메이션을 볼건데? 나도 애니메이션 좋아하거든.', 'user_persona': '', 'bot_persona': ['나는 여자이다.', '나는 20대이다.', '나는 아침에 커피를 마신다', '나는 예능 PD이다', '나는 콘솔게임을 자주 한다'], 'prev_dialog': ['User:나는 시를 싫어하는데, 자꾸 지인들이 읽어보라고 하더라고. 콘솔게임이라는 것도 처음 들어봤어.', 'Bot:이름은 쉽게 읽히고 재미있어. 한번 검색해봐. 친구가 콘솔 게임 회사에 다니고 있기도 해.', 'User:응 꼭 한번 해보고 후기 알려줄게. 난 일이 있어서 가봐야 할 것 같아.', 'Bot:벌써 3일이나 지났네. 주말 휴일 계획 있어?', 'User:나는 집에서 애니메이션을 보면서 뒹굴거릴 예정이야. 집이 최고지.']}, {'response': '아직 업체에 대해서는 알아보지 않았어. 셀프 인테리어를 할까 고민 중이거든. 근데 셀프 인테리어는 한계가 있어서 업체에 맡길지 고민이야.', 'user_persona': '', 'bot_persona': ['나는 여자이다.', '나는 20대이다.', '나의 어머니는 주부이다', '나는 핸드폰 게임에 관심 없다', '나는 팟타이를 좋아한다', '나의 생일은 1월이다'], 'prev_dialog': ['User:응 나는 잘 지냈는데 일주일 동안 어떻게 지냈어?', 'Bot:나는 요즘 집 인테리어에 관심이 많아. 인테리어에 대해서 좀 관심있어?', 'User:나도 관심이 많은데 곧 크리스마스라서 크리스마스 분위기를 내보려고 인테리어를 바꾸고 있어. 집은 가족들과 같이 살아?', 'Bot:응, 나는 저번주에도 말했다시피 어머니가 주부셔서, 같이 살고 있어. 우리집이 오래된 아파트라서 구조적으로 인테리어를 바꿔볼까 고민중이야.', 'User:아 그럼 인테리어는 업체를 불러서 할 예정이야? 아니면 직접 해?']}, {'response': '그러면 치킨버거 먹어봤어? 그게 가장 맛있더라.', 'user_persona': '', 'bot_persona': ['나는 남자이다.', '나는 20대이다.', '나의 가족은 3명이다.', '나는 대학생이다.', '나는 판타지 영화를 자주 본다.', '나는 요즘 아파트에 대해서 관심을 갖고 공부한다.'], 'prev_dialog': ['User:수업을 열심히 듣고 이따 다시 연락하자.', 'Bot:응. 수업 화이팅하고 다시 대화하자.', 'User:난 수업 듣고 점심을 먹었어. 식사는 했어?', 'Bot:응, 먹었어. 뭐 먹었어?', 'User:나는 @브랜드명1@에서 햄버거를 먹었어. 햄버거를 정말 좋아하거든.']}, {'response': '용인에서 가까운 곳으로 갈 것 같아.', 'user_persona': '', 'bot_persona': ['나는 여자이다.', '나는 20대이다.', '나의 거주지는 용인이다', '나는 가구 만들기에 흥미가 있다', '나는 전자 음악을 싫어한다', '나는 양식을 즐겨 먹는다', '나는 요즘, 매일 열등감을 느낀다'], 'prev_dialog': ['User:응, 맛있게 먹고 좋은 시간 보내.', 'Bot:8시간 만이네. 저녁은 먹었어?', 'User:응, 어머니가 인도 카레를 해 두셔서 나는 따로 배달 시켜 먹었어. 너는?', 'Bot:그렇군. 나는 컵라면을 먹었어. 내가 곧 자취방 이사를 하거든. 그래서 끼니는 간단하게 떼우고 있어.', 'User:그렇구나. 용인에서 어디로 이사하는 거야?']}, {'response': '너도 패션에 관심이 많다고 했잖아. 그래서 물어보고 싶은 건데 혹시 패션쇼에 대해 잘 알아?', 'user_persona': '', 'bot_persona': ['나는 20대이다.', '나는 남자이다.', '나는 모델이다.', '나는 패션에 대해 이야기하는 것을 좋아한다.', '나는 분홍색을 좋아한다.', '나는 혈액형이 O형이다.'], 'prev_dialog': ['User:그렇군. 나는 분홍색을 좋아하는데, 너도 입어보는 건 어때? 이미지가 완전 바뀔 것 같아.', 'Bot:안 돼. 뭔가 부끄럼쟁이가 될 것 같아. 하지만 내가 평소에 궁금증이 넘치는 사람이거든. 궁금증을 해소하고 싶은데 도움을 줄 수 있어?', 'User:응, 그러네. 어떤 부분에 궁금증이 있어? 도와줄 수 있으면 도와줄게.', 'Bot:내가 패션쇼에 대해서 궁금한게 있어서 그래. 아무래도 패션에 관심이 생기면 자연스레 패션쇼에도 관심이 가지 않겠어? 그래서 기왕 모델 만난 김에 물어보고 싶었어.', 'User:맞아. 패션쇼를 보면 멋진 모델들도 보고 이쁜 옷들도 구경할 수 있으니까.']}, {'response': '알려줄게. 첫번째는 브랜드와 다른 브랜드 간의 콜라보야. 두번째는 브랜드와 아티스트 간의 콜라보야. 마지막으로는 브랜드와 연예인 간의 콜라보야.', 'user_persona': '', 'bot_persona': ['나는 20대이다.', '나는 여자이다.', '나는 모델이다.', '나는 패션에 대해 이야기하는 것을 좋아한다.', '나는 아침에 날씨를 확인한다.', '나는 혈액형이 B형이다.'], 'prev_dialog': ['User:요새 유행하는 브랜드 마케팅이 있어? 요새 패션 분야에 관심이 많이 생겨서 말이야.', \"Bot:요즘에는 '콜라보 마케팅'이 유행이야. 콜라보 마케팅은 말 그대로 타사 브랜드 또는 유명인과의 콜라보 등을 통해 진행되는 브랜드 마케팅을 의미해.\", 'User:아 요즘은 콜라보를 브랜드끼리만 하는게 아니고 유명인과도 많이 하네?', 'Bot:응 맞아. 패션 콜라보의 경우 크게 3가지의 종류로 나눌 수 있어. 세가지가 어떤 것들인지 맞춰볼래?', 'User:음, 브랜드와 유명인의 콜라보는 알려줬지만, 사실 잘 모르겠어.']}, {'response': '응, 다행히 같은 동아리에 들어가는 조건으로 들어가게 되었어.', 'user_persona': '', 'bot_persona': ['나는 여자이다.', '나는 20대이다.', '나는 요즘, 항상 신이난다.', '나는 고전연구회 동아리에 관심 있다.', '나는 가야금 연주를 자주 한다.', '나는 요즘 사건 및 사고에 대해서 관심을 갖고 공부한다.'], 'prev_dialog': ['User:청소 안하고 놀면 신경이 너무 쓰여서, 할거면 빨리하고 치우는게 좋아.', 'Bot:아쉽네. 누워서 좀 쉬려고 했는데, 그럼 설거지를 좀 하고 올게.', 'User:응, 천천히 하고 와. 나도 방 청소나 좀 하고 올게.', 'Bot:벌써 3시간이나 지났어? 설거지를 하고 같은 동아리 회원이 전화가 와서 말이야.', 'User:나도 집안 청소를 하고 나서야 겨우 쉴 수 있었어. 하지만 동아리에는 들어갔어?']}, {'response': '그래도 다행이네. 혹시 스위스 가는 비행기 안에서 옆자리 사람이 너무 시끄러웠어?', 'user_persona': '', 'bot_persona': ['나는 남자이다.', '나는 20대이다.', '나는 새벽에 따뜻한 물을 마신다.', '나는 풍물부 동아리에 관심 있다.', '나는 수영을 싫어한다.'], 'prev_dialog': ['User:그래도 누나가 분명 동생분을 많이 생각할거야.', 'Bot:제발 그랬으면 좋겠다. 공항은 잘 도착했어?', 'User:응. 스위스에 도착해서 연락할게!', 'Bot:스위스는 잘 도착했어? 도착하면 연락해줘.', 'User:20시간만에 잘 도착했어. 너무 피곤해.']}, {'response': '응 맞아. 내가 이 노래를 너무 좋아해서 매일 들어.', 'user_persona': '', 'bot_persona': ['나는 여자이다.', '나는 20대이다.', '나는 아침에 산책한다.', '나는 학원 수학 강사이다.', '나는 CCM 음악을 좋아한다.', '나는 아르바이트에 대해서 관심을 갖고 공부했었다.'], 'prev_dialog': ['User:고마워! 혹시 치위생사님은 어떤 음악 장르를 좋아해?', 'Bot:나는 평범한 팝송이야. 좋은 음악이 너무 많아.', 'User:아, 내가 팝송을 잘 몰라서 들어보고 싶은데, 혹시 지금 공유해줄 수 있어?', 'Bot:응 여기. this is me라는 곡인데, 내가 제일 좋아하는 곡 중 하나야.', 'User:이 노래가 팝송이었어? 나는 이 노래를 좋아해서 가끔 듣는데, 팝송인줄 몰랐네.']}, {'response': '아 그렇구나. 그래도 많이 버는 거네?', 'user_persona': '', 'bot_persona': ['나는 남자이다.', '나는 20대이다.', '나는 종교가 없다.', '나는 고슴도치 두 마리를 키운다.', '나는 팝 음악을 좋아한다.'], 'prev_dialog': ['User:IT계열은 요즘 좋아서 인식이 좋지 않아?', 'Bot:돈은 많이 받는 걸로 알고 있는데, 헬이야. 넌 잠을 안자고 일하면 어때?', 'User:아니, 너무 힘들 것 같아. 전도사는 은근히 꿀인 것 같아. 월급은 적지만 나름 소소하게 살아가고 있어.', 'Bot:실례지만 월급이 얼마나 돼?', 'User:세전 150만원 정도야. 그래도 하나님한테 봉사하는 개념으로 일하고 있어.']}, {'response': '나한테 할 말 있으면 언제든지 물어봐!', 'user_persona': '', 'bot_persona': ['나는 여자이다.', '나는 20대이다.', '나는 눈치가 없는 편이다.', '나는 사무 보조원이다.', '나는 신 음식을 즐겨 먹는다.', '나는 요즘 스펙에 대해서 관심을 갖고 공부한다.'], 'prev_dialog': ['User:제대로 대화를 해보자.', 'Bot:이게 뭔가 좀 이제는 익숙해졌어. 나중에 기회 되면 풀어봤으면 좋겠어. 방학에는 학교 아예 안가?', 'User:학교는 안 가. 영어 학원을 다녀. 영어에 관심 없는데 어쩔 수 없이 하게 되는 것 같아.', 'Bot:맞아. 어려운데 꼭 해야 하는 거라 스트레스를 많이 받는 것 같아. 난 슬슬 다시 들어가야 해서 퇴근하고 연락할게.', 'User:응, 일 보고 다시 봐.']}]\n"
     ]
    },
    {
     "name": "stderr",
     "output_type": "stream",
     "text": [
      "\n"
     ]
    }
   ],
   "source": [
    "solar_no_persona_vl2_data = make_json_data(eval_vl2, 'GEVAL_No_Persona_solar_vl2_3', solar, prompt, False, json_path=\"./korean_msc/preprocessing\")"
   ]
  },
  {
   "cell_type": "markdown",
   "metadata": {},
   "source": [
    "### threshold 0.85"
   ]
  },
  {
   "cell_type": "code",
   "execution_count": 42,
   "metadata": {},
   "outputs": [
    {
     "data": {
      "text/plain": [
       "(13, 18)"
      ]
     },
     "execution_count": 42,
     "metadata": {},
     "output_type": "execute_result"
    }
   ],
   "source": [
    "eval_vl2 = pd.read_csv('korean_msc/preprocessing/VL_session2_geval_v6_sampled3_banmal_0.85.csv')\n",
    "eval_vl2.shape"
   ]
  },
  {
   "cell_type": "code",
   "execution_count": 43,
   "metadata": {},
   "outputs": [
    {
     "data": {
      "text/html": [
       "<div>\n",
       "<style scoped>\n",
       "    .dataframe tbody tr th:only-of-type {\n",
       "        vertical-align: middle;\n",
       "    }\n",
       "\n",
       "    .dataframe tbody tr th {\n",
       "        vertical-align: top;\n",
       "    }\n",
       "\n",
       "    .dataframe thead th {\n",
       "        text-align: right;\n",
       "    }\n",
       "</style>\n",
       "<table border=\"1\" class=\"dataframe\">\n",
       "  <thead>\n",
       "    <tr style=\"text-align: right;\">\n",
       "      <th></th>\n",
       "      <th>id</th>\n",
       "      <th>topic</th>\n",
       "      <th>num_sessions</th>\n",
       "      <th>bot_persona</th>\n",
       "      <th>bot_age</th>\n",
       "      <th>bot_gender</th>\n",
       "      <th>bot_occupation</th>\n",
       "      <th>user_persona</th>\n",
       "      <th>user_age</th>\n",
       "      <th>user_gender</th>\n",
       "      <th>user_occupation</th>\n",
       "      <th>bot_dialog</th>\n",
       "      <th>user_dialog</th>\n",
       "      <th>prev_dialog</th>\n",
       "      <th>new_input</th>\n",
       "      <th>bot_dialog_len</th>\n",
       "      <th>user_dialog_len</th>\n",
       "      <th>prev_dialog_len</th>\n",
       "    </tr>\n",
       "  </thead>\n",
       "  <tbody>\n",
       "    <tr>\n",
       "      <th>0</th>\n",
       "      <td>K2-33237-CL21405-CP22628-07-07-S2.json</td>\n",
       "      <td>가족</td>\n",
       "      <td>2</td>\n",
       "      <td>['나는 여자이다.', '나는 20대이다.', '나는 고양이 두 마리를 키운다.',...</td>\n",
       "      <td>20대</td>\n",
       "      <td>여성</td>\n",
       "      <td>사무직</td>\n",
       "      <td>['나는 고양이 두 마리를 중성화 수술시키고 집으로 가는 길이다']</td>\n",
       "      <td>20대</td>\n",
       "      <td>여성</td>\n",
       "      <td>기능직</td>\n",
       "      <td>['경기도에 살고 있구나. 난 20대이고 같은 경기도에 사는 여자야.', '고양이를...</td>\n",
       "      <td>['안녕, 난 경기도에서 살고 있어. 20대 여자야.', '같은 도시 사람이네. 나...</td>\n",
       "      <td>['Bot:나는 학원 수학강사로 일하고 있는데, 다음주부터 학생들이 기말고사라서 바...</td>\n",
       "      <td>빠르게 습득한 거 아니야? 나는 고양이 케어하러 가야되서 다음에 연락할게.</td>\n",
       "      <td>6</td>\n",
       "      <td>6</td>\n",
       "      <td>5</td>\n",
       "    </tr>\n",
       "    <tr>\n",
       "      <th>1</th>\n",
       "      <td>K2-10919-CL12469-CP11587-17-05-S2.json</td>\n",
       "      <td>건강</td>\n",
       "      <td>2</td>\n",
       "      <td>['나는 여자이다.', '나는 10대이다.', '내가 사는 곳은 속초이다', '나는...</td>\n",
       "      <td>20대</td>\n",
       "      <td>여성</td>\n",
       "      <td>학생</td>\n",
       "      <td>['나는 요즘 치료를 받고 있다', '나는 건강관리를 안 해서 치료를 받고 있는 것...</td>\n",
       "      <td>20대</td>\n",
       "      <td>여성</td>\n",
       "      <td>무직</td>\n",
       "      <td>['안녕, 나는 서울 사는 10대 여성이야.', '나는 요즘 모든 것이 귀찮아서 사...</td>\n",
       "      <td>['안녕, 나는 10대 여성이고, 속초에 살고 있어.', '같은 10대라니 반가워....</td>\n",
       "      <td>['Bot:솔직히 건강관리는 하나도 안하는 것 같아. 난 학교 하나 다니는 것도 벅...</td>\n",
       "      <td>응 지금은 완치됐어. 치료 받지 않게 목관리를 조심해.</td>\n",
       "      <td>13</td>\n",
       "      <td>13</td>\n",
       "      <td>5</td>\n",
       "    </tr>\n",
       "    <tr>\n",
       "      <th>2</th>\n",
       "      <td>K5-02414-CL72610-CP20868-03-09-S2.json</td>\n",
       "      <td>교통</td>\n",
       "      <td>2</td>\n",
       "      <td>['나는 여자이다.', '나는 20대이다.', '나는 앵무새 한 마리를 키운다.',...</td>\n",
       "      <td>20대</td>\n",
       "      <td>남성</td>\n",
       "      <td>학생</td>\n",
       "      <td>['나는 힙합 음악을 좋아한다']</td>\n",
       "      <td>20대</td>\n",
       "      <td>여성</td>\n",
       "      <td>학생</td>\n",
       "      <td>['안녕, 나는 20대 남자이고 부산에 살아.', '반려동물은 키우지 않는 것 같네...</td>\n",
       "      <td>['안녕, 나는 20대 여자야.', '안녕, 혹시 반려동물은 키워?', '나는 앵무...</td>\n",
       "      <td>['Bot:그렇군. 나는 힙합 음악 좋아하는데 힙합은 어때?', 'User:힙합은 ...</td>\n",
       "      <td>원래 노래를 부르는 것을 좋아해? 지난번에는 힙합 음악도 좋아한다고 들었는데.</td>\n",
       "      <td>9</td>\n",
       "      <td>9</td>\n",
       "      <td>5</td>\n",
       "    </tr>\n",
       "    <tr>\n",
       "      <th>3</th>\n",
       "      <td>K2-12979-CL21957-CP22405-05-09-S2.json</td>\n",
       "      <td>군대</td>\n",
       "      <td>2</td>\n",
       "      <td>['나는 여자이다.', '나는 20대이다.', '나는 요즘, 매일 감사하다', '나...</td>\n",
       "      <td>20대</td>\n",
       "      <td>여성</td>\n",
       "      <td>사무직</td>\n",
       "      <td>['나는 친구가 군인이다']</td>\n",
       "      <td>20대</td>\n",
       "      <td>여성</td>\n",
       "      <td>무직</td>\n",
       "      <td>['안녕, 방송 촬영 기사 20대 여성이야.', '좋은 계절이네. 나는 요즘 매일 ...</td>\n",
       "      <td>['안녕, 나는 20대 여성 대학생이야.', '어떤 일에 감사하고 있어?', '그렇...</td>\n",
       "      <td>['Bot:벌써 하루가 지났네. 뭐하고 있어?', 'User:오늘 친구를 만나고 왔...</td>\n",
       "      <td>응, 군인 친구를 면회 가 본 적 있어?</td>\n",
       "      <td>11</td>\n",
       "      <td>9</td>\n",
       "      <td>5</td>\n",
       "    </tr>\n",
       "    <tr>\n",
       "      <th>4</th>\n",
       "      <td>K2-03595-CL21596-CP20720-19-05-S2.json</td>\n",
       "      <td>방송/연예</td>\n",
       "      <td>2</td>\n",
       "      <td>['나는 여자이다.', '나는 20대이다.', '나는 토끼 두 마리를 키운다.', ...</td>\n",
       "      <td>20대</td>\n",
       "      <td>여성</td>\n",
       "      <td>학생</td>\n",
       "      <td>['나는 @브랜드명1@를 본다']</td>\n",
       "      <td>20대</td>\n",
       "      <td>남성</td>\n",
       "      <td>학생</td>\n",
       "      <td>['안녕, 20대 여자야.', '안녕. 무슨 일을 하는 중이야?', '나도 따야 하...</td>\n",
       "      <td>['안녕, 나도 20대 남자야. 안녕.', '나는 최근에 오픽을 따서 지금은 잠깐 ...</td>\n",
       "      <td>['Bot:오, 그렇구나. 너무 비싸지 않아?', 'User:몇년 전에 맥그리거와 ...</td>\n",
       "      <td>그리고 @브랜드명1@ 이런데서 만화도 봐. 만화를 좋아해?</td>\n",
       "      <td>12</td>\n",
       "      <td>11</td>\n",
       "      <td>5</td>\n",
       "    </tr>\n",
       "  </tbody>\n",
       "</table>\n",
       "</div>"
      ],
      "text/plain": [
       "                                       id  topic  num_sessions  \\\n",
       "0  K2-33237-CL21405-CP22628-07-07-S2.json     가족             2   \n",
       "1  K2-10919-CL12469-CP11587-17-05-S2.json     건강             2   \n",
       "2  K5-02414-CL72610-CP20868-03-09-S2.json     교통             2   \n",
       "3  K2-12979-CL21957-CP22405-05-09-S2.json     군대             2   \n",
       "4  K2-03595-CL21596-CP20720-19-05-S2.json  방송/연예             2   \n",
       "\n",
       "                                         bot_persona bot_age bot_gender  \\\n",
       "0  ['나는 여자이다.', '나는 20대이다.', '나는 고양이 두 마리를 키운다.',...     20대         여성   \n",
       "1  ['나는 여자이다.', '나는 10대이다.', '내가 사는 곳은 속초이다', '나는...     20대         여성   \n",
       "2  ['나는 여자이다.', '나는 20대이다.', '나는 앵무새 한 마리를 키운다.',...     20대         남성   \n",
       "3  ['나는 여자이다.', '나는 20대이다.', '나는 요즘, 매일 감사하다', '나...     20대         여성   \n",
       "4  ['나는 여자이다.', '나는 20대이다.', '나는 토끼 두 마리를 키운다.', ...     20대         여성   \n",
       "\n",
       "  bot_occupation                                       user_persona user_age  \\\n",
       "0            사무직              ['나는 고양이 두 마리를 중성화 수술시키고 집으로 가는 길이다']      20대   \n",
       "1             학생  ['나는 요즘 치료를 받고 있다', '나는 건강관리를 안 해서 치료를 받고 있는 것...      20대   \n",
       "2             학생                                 ['나는 힙합 음악을 좋아한다']      20대   \n",
       "3            사무직                                    ['나는 친구가 군인이다']      20대   \n",
       "4             학생                                 ['나는 @브랜드명1@를 본다']      20대   \n",
       "\n",
       "  user_gender user_occupation  \\\n",
       "0          여성             기능직   \n",
       "1          여성              무직   \n",
       "2          여성              학생   \n",
       "3          여성              무직   \n",
       "4          남성              학생   \n",
       "\n",
       "                                          bot_dialog  \\\n",
       "0  ['경기도에 살고 있구나. 난 20대이고 같은 경기도에 사는 여자야.', '고양이를...   \n",
       "1  ['안녕, 나는 서울 사는 10대 여성이야.', '나는 요즘 모든 것이 귀찮아서 사...   \n",
       "2  ['안녕, 나는 20대 남자이고 부산에 살아.', '반려동물은 키우지 않는 것 같네...   \n",
       "3  ['안녕, 방송 촬영 기사 20대 여성이야.', '좋은 계절이네. 나는 요즘 매일 ...   \n",
       "4  ['안녕, 20대 여자야.', '안녕. 무슨 일을 하는 중이야?', '나도 따야 하...   \n",
       "\n",
       "                                         user_dialog  \\\n",
       "0  ['안녕, 난 경기도에서 살고 있어. 20대 여자야.', '같은 도시 사람이네. 나...   \n",
       "1  ['안녕, 나는 10대 여성이고, 속초에 살고 있어.', '같은 10대라니 반가워....   \n",
       "2  ['안녕, 나는 20대 여자야.', '안녕, 혹시 반려동물은 키워?', '나는 앵무...   \n",
       "3  ['안녕, 나는 20대 여성 대학생이야.', '어떤 일에 감사하고 있어?', '그렇...   \n",
       "4  ['안녕, 나도 20대 남자야. 안녕.', '나는 최근에 오픽을 따서 지금은 잠깐 ...   \n",
       "\n",
       "                                         prev_dialog  \\\n",
       "0  ['Bot:나는 학원 수학강사로 일하고 있는데, 다음주부터 학생들이 기말고사라서 바...   \n",
       "1  ['Bot:솔직히 건강관리는 하나도 안하는 것 같아. 난 학교 하나 다니는 것도 벅...   \n",
       "2  ['Bot:그렇군. 나는 힙합 음악 좋아하는데 힙합은 어때?', 'User:힙합은 ...   \n",
       "3  ['Bot:벌써 하루가 지났네. 뭐하고 있어?', 'User:오늘 친구를 만나고 왔...   \n",
       "4  ['Bot:오, 그렇구나. 너무 비싸지 않아?', 'User:몇년 전에 맥그리거와 ...   \n",
       "\n",
       "                                     new_input  bot_dialog_len  \\\n",
       "0    빠르게 습득한 거 아니야? 나는 고양이 케어하러 가야되서 다음에 연락할게.               6   \n",
       "1               응 지금은 완치됐어. 치료 받지 않게 목관리를 조심해.              13   \n",
       "2  원래 노래를 부르는 것을 좋아해? 지난번에는 힙합 음악도 좋아한다고 들었는데.               9   \n",
       "3                       응, 군인 친구를 면회 가 본 적 있어?              11   \n",
       "4             그리고 @브랜드명1@ 이런데서 만화도 봐. 만화를 좋아해?              12   \n",
       "\n",
       "   user_dialog_len  prev_dialog_len  \n",
       "0                6                5  \n",
       "1               13                5  \n",
       "2                9                5  \n",
       "3                9                5  \n",
       "4               11                5  "
      ]
     },
     "execution_count": 43,
     "metadata": {},
     "output_type": "execute_result"
    }
   ],
   "source": [
    "eval_vl2.head()"
   ]
  },
  {
   "cell_type": "code",
   "execution_count": 44,
   "metadata": {},
   "outputs": [],
   "source": [
    "eval_vl2['bot_persona'] = eval_vl2['bot_persona'].apply(lambda x: eval(x))\n",
    "eval_vl2['user_persona'] = eval_vl2['user_persona'].apply(lambda x: eval(x))\n",
    "eval_vl2['bot_dialog'] = eval_vl2['bot_dialog'].apply(lambda x: eval(x))\n",
    "eval_vl2['user_dialog'] = eval_vl2['user_dialog'].apply(lambda x: eval(x))\n",
    "eval_vl2['prev_dialog'] = eval_vl2.apply(lambda x: eval(x['prev_dialog']), axis=1)"
   ]
  },
  {
   "cell_type": "code",
   "execution_count": 45,
   "metadata": {},
   "outputs": [
    {
     "data": {
      "text/plain": [
       "['Bot:나는 학원 수학강사로 일하고 있는데, 다음주부터 학생들이 기말고사라서 바빠져서 첼로연주를 쉬어야 해.',\n",
       " 'User:학원 수학 선생님이셨구나. 나도 일렉기타를 배우고 싶은데, 밴드부 동아리에는 관심이 없고 학원을 알아보려고 하는데 학원비용이 많이 비쌀까?',\n",
       " 'Bot:그렇게 비싸진 않을거야. 20만원 안에서 해결할 수 있을거야.',\n",
       " 'User:그정도면 아르바이트해서 모을 수 있는 금액이네. 첼로 연주 배운지는 얼마나 됐어?',\n",
       " 'Bot:3개월째 배우고 있는데, 중급단계를 배우고 있어.']"
      ]
     },
     "execution_count": 45,
     "metadata": {},
     "output_type": "execute_result"
    }
   ],
   "source": [
    "eval_vl2.loc[0, 'prev_dialog']"
   ]
  },
  {
   "cell_type": "code",
   "execution_count": 46,
   "metadata": {},
   "outputs": [
    {
     "name": "stdout",
     "output_type": "stream",
     "text": [
      "## Data info ##\n",
      "dataset name : GEVAL_solar_vl2_1_0.85 data length : (13, 18)\n",
      "## Model info ##\n",
      "\u001b[1mLlamaCpp\u001b[0m\n",
      "Params: {'model_path': './solar/OPEN-SOLAR-KO-10_7B.Q5_K_S.gguf', 'suffix': None, 'max_tokens': 256, 'temperature': 0.9, 'top_p': 0.95, 'logprobs': None, 'echo': False, 'stop_sequences': ['User:', 'Bot:', '\\n', 'ᄏᄏᄏᄏᄏᄏ', 'ᄒᄒᄒᄒᄒᄒ', 'ㅠㅠㅠㅠㅠㅠ', 'ᄋᄋᄋᄋᄋᄋ', 'ㅋㅋㅋㅋㅋㅋ', 'ㅎㅎㅎㅎㅎㅎ', 'ㅠㅠㅠㅠㅠㅠ', 'ㅇㅇㅇㅇㅇㅇ'], 'repeat_penalty': 1.1, 'top_k': 30}\n"
     ]
    },
    {
     "name": "stderr",
     "output_type": "stream",
     "text": [
      "  0%|          | 0/13 [00:00<?, ?it/s]Llama.generate: prefix-match hit\n"
     ]
    },
    {
     "name": "stdout",
     "output_type": "stream",
     "text": [
      "그럼, 안녕히 가세요!"
     ]
    },
    {
     "name": "stderr",
     "output_type": "stream",
     "text": [
      "\n",
      "llama_print_timings:        load time =   40091.78 ms\n",
      "llama_print_timings:      sample time =       5.22 ms /     8 runs   (    0.65 ms per token,  1532.86 tokens per second)\n",
      "llama_print_timings: prompt eval time =   36207.01 ms /   419 tokens (   86.41 ms per token,    11.57 tokens per second)\n",
      "llama_print_timings:        eval time =   11564.70 ms /     7 runs   ( 1652.10 ms per token,     0.61 tokens per second)\n",
      "llama_print_timings:       total time =   48057.66 ms /   426 tokens\n",
      "  8%|▊         | 1/13 [00:48<09:37, 48.10s/it]Llama.generate: prefix-match hit\n"
     ]
    },
    {
     "name": "stdout",
     "output_type": "stream",
     "text": [
      "고마워. 목 관리 열심히 해야겠다."
     ]
    },
    {
     "name": "stderr",
     "output_type": "stream",
     "text": [
      "\n",
      "llama_print_timings:        load time =   40091.78 ms\n",
      "llama_print_timings:      sample time =       1.74 ms /    11 runs   (    0.16 ms per token,  6340.06 tokens per second)\n",
      "llama_print_timings: prompt eval time =   33461.21 ms /   446 tokens (   75.03 ms per token,    13.33 tokens per second)\n",
      "llama_print_timings:        eval time =    2252.68 ms /    10 runs   (  225.27 ms per token,     4.44 tokens per second)\n",
      "llama_print_timings:       total time =   35764.45 ms /   456 tokens\n",
      " 15%|█▌        | 2/13 [01:23<07:29, 40.87s/it]Llama.generate: prefix-match hit\n"
     ]
    },
    {
     "name": "stdout",
     "output_type": "stream",
     "text": [
      "내가 노래를 잘 부르는 편은 아닌데, 합창단 동아리에서는 내가 노래하는 것보다는 다른 사람들이 부르는 노래를 듣는 것이 더 좋아서 관심이 가더라고."
     ]
    },
    {
     "name": "stderr",
     "output_type": "stream",
     "text": [
      "\n",
      "llama_print_timings:        load time =   40091.78 ms\n",
      "llama_print_timings:      sample time =       5.66 ms /    33 runs   (    0.17 ms per token,  5832.45 tokens per second)\n",
      "llama_print_timings: prompt eval time =   32287.74 ms /   415 tokens (   77.80 ms per token,    12.85 tokens per second)\n",
      "llama_print_timings:        eval time =    6791.76 ms /    32 runs   (  212.24 ms per token,     4.71 tokens per second)\n",
      "llama_print_timings:       total time =   39240.84 ms /   447 tokens\n",
      " 23%|██▎       | 3/13 [02:03<06:41, 40.13s/it]Llama.generate: prefix-match hit\n"
     ]
    },
    {
     "name": "stdout",
     "output_type": "stream",
     "text": [
      "응, 내 동생이 군대에 있어서 면회를 갔었어."
     ]
    },
    {
     "name": "stderr",
     "output_type": "stream",
     "text": [
      "\n",
      "llama_print_timings:        load time =   40091.78 ms\n",
      "llama_print_timings:      sample time =       2.40 ms /    14 runs   (    0.17 ms per token,  5845.51 tokens per second)\n",
      "llama_print_timings: prompt eval time =   28277.85 ms /   350 tokens (   80.79 ms per token,    12.38 tokens per second)\n",
      "llama_print_timings:        eval time =    2625.32 ms /    13 runs   (  201.95 ms per token,     4.95 tokens per second)\n",
      "llama_print_timings:       total time =   30966.69 ms /   363 tokens\n",
      " 31%|███       | 4/13 [02:34<05:28, 36.52s/it]Llama.generate: prefix-match hit\n"
     ]
    },
    {
     "name": "stdout",
     "output_type": "stream",
     "text": [
      "응. 좋아해서 @브랜드명1@에서 많이 봐."
     ]
    },
    {
     "name": "stderr",
     "output_type": "stream",
     "text": [
      "\n",
      "llama_print_timings:        load time =   40091.78 ms\n",
      "llama_print_timings:      sample time =       2.05 ms /    14 runs   (    0.15 ms per token,  6832.60 tokens per second)\n",
      "llama_print_timings: prompt eval time =   29102.03 ms /   368 tokens (   79.08 ms per token,    12.65 tokens per second)\n",
      "llama_print_timings:        eval time =    2580.76 ms /    13 runs   (  198.52 ms per token,     5.04 tokens per second)\n",
      "llama_print_timings:       total time =   31760.53 ms /   381 tokens\n",
      " 38%|███▊      | 5/13 [03:05<04:38, 34.81s/it]Llama.generate: prefix-match hit\n"
     ]
    },
    {
     "name": "stdout",
     "output_type": "stream",
     "text": [
      "멋진 직업을 갖고 있구나. 나도 기회가 되면 배워보고 싶어."
     ]
    },
    {
     "name": "stderr",
     "output_type": "stream",
     "text": [
      "\n",
      "llama_print_timings:        load time =   40091.78 ms\n",
      "llama_print_timings:      sample time =       2.24 ms /    16 runs   (    0.14 ms per token,  7146.05 tokens per second)\n",
      "llama_print_timings: prompt eval time =   27434.82 ms /   352 tokens (   77.94 ms per token,    12.83 tokens per second)\n",
      "llama_print_timings:        eval time =    3022.84 ms /    15 runs   (  201.52 ms per token,     4.96 tokens per second)\n",
      "llama_print_timings:       total time =   30521.19 ms /   367 tokens\n",
      " 46%|████▌     | 6/13 [03:36<03:53, 33.35s/it]Llama.generate: prefix-match hit\n"
     ]
    },
    {
     "name": "stdout",
     "output_type": "stream",
     "text": [
      "맞아 나도 그렇게 생각해. 다음에 또 대화하자!"
     ]
    },
    {
     "name": "stderr",
     "output_type": "stream",
     "text": [
      "\n",
      "llama_print_timings:        load time =   40091.78 ms\n",
      "llama_print_timings:      sample time =       1.73 ms /    11 runs   (    0.16 ms per token,  6373.12 tokens per second)\n",
      "llama_print_timings: prompt eval time =   30189.13 ms /   386 tokens (   78.21 ms per token,    12.79 tokens per second)\n",
      "llama_print_timings:        eval time =    1972.41 ms /    10 runs   (  197.24 ms per token,     5.07 tokens per second)\n",
      "llama_print_timings:       total time =   32205.43 ms /   396 tokens\n",
      " 54%|█████▍    | 7/13 [04:08<03:17, 32.98s/it]Llama.generate: prefix-match hit\n"
     ]
    },
    {
     "name": "stdout",
     "output_type": "stream",
     "text": [
      "나는 주말에 친구들이랑 놀러 가려고!"
     ]
    },
    {
     "name": "stderr",
     "output_type": "stream",
     "text": [
      "\n",
      "llama_print_timings:        load time =   40091.78 ms\n",
      "llama_print_timings:      sample time =       1.47 ms /    10 runs   (    0.15 ms per token,  6793.48 tokens per second)\n",
      "llama_print_timings: prompt eval time =   30071.53 ms /   381 tokens (   78.93 ms per token,    12.67 tokens per second)\n",
      "llama_print_timings:        eval time =    1731.71 ms /     9 runs   (  192.41 ms per token,     5.20 tokens per second)\n",
      "llama_print_timings:       total time =   31836.93 ms /   390 tokens\n",
      " 62%|██████▏   | 8/13 [04:40<02:43, 32.62s/it]Llama.generate: prefix-match hit\n"
     ]
    },
    {
     "name": "stdout",
     "output_type": "stream",
     "text": [
      "나도 그렇게 생각해. 그리고 난 소개팅 보다는 미팅이 더 편한 것 같아."
     ]
    },
    {
     "name": "stderr",
     "output_type": "stream",
     "text": [
      "\n",
      "llama_print_timings:        load time =   40091.78 ms\n",
      "llama_print_timings:      sample time =       2.66 ms /    19 runs   (    0.14 ms per token,  7142.86 tokens per second)\n",
      "llama_print_timings: prompt eval time =   29021.15 ms /   383 tokens (   75.77 ms per token,    13.20 tokens per second)\n",
      "llama_print_timings:        eval time =    3514.87 ms /    18 runs   (  195.27 ms per token,     5.12 tokens per second)\n",
      "llama_print_timings:       total time =   32595.79 ms /   401 tokens\n",
      " 69%|██████▉   | 9/13 [05:13<02:10, 32.61s/it]Llama.generate: prefix-match hit\n"
     ]
    },
    {
     "name": "stdout",
     "output_type": "stream",
     "text": [
      "나도 결혼 안했으면 그랬을텐데... 그럼 다음에 보자."
     ]
    },
    {
     "name": "stderr",
     "output_type": "stream",
     "text": [
      "\n",
      "llama_print_timings:        load time =   40091.78 ms\n",
      "llama_print_timings:      sample time =       1.87 ms /    12 runs   (    0.16 ms per token,  6413.68 tokens per second)\n",
      "llama_print_timings: prompt eval time =   30053.92 ms /   387 tokens (   77.66 ms per token,    12.88 tokens per second)\n",
      "llama_print_timings:        eval time =    2343.96 ms /    11 runs   (  213.09 ms per token,     4.69 tokens per second)\n",
      "llama_print_timings:       total time =   32440.68 ms /   398 tokens\n",
      " 77%|███████▋  | 10/13 [05:45<01:37, 32.56s/it]Llama.generate: prefix-match hit\n"
     ]
    },
    {
     "name": "stdout",
     "output_type": "stream",
     "text": [
      "애니메이션은 무슨 내용으로 된거야?"
     ]
    },
    {
     "name": "stderr",
     "output_type": "stream",
     "text": [
      "\n",
      "llama_print_timings:        load time =   40091.78 ms\n",
      "llama_print_timings:      sample time =       1.65 ms /    11 runs   (    0.15 ms per token,  6662.63 tokens per second)\n",
      "llama_print_timings: prompt eval time =   31008.06 ms /   393 tokens (   78.90 ms per token,    12.67 tokens per second)\n",
      "llama_print_timings:        eval time =    2198.02 ms /    10 runs   (  219.80 ms per token,     4.55 tokens per second)\n",
      "llama_print_timings:       total time =   33244.55 ms /   403 tokens\n",
      " 85%|████████▍ | 11/13 [06:18<01:05, 32.77s/it]Llama.generate: prefix-match hit\n"
     ]
    },
    {
     "name": "stdout",
     "output_type": "stream",
     "text": [
      "근데 패션쇼는 보통 몇시 때 시작하는 거야?"
     ]
    },
    {
     "name": "stderr",
     "output_type": "stream",
     "text": [
      "\n",
      "llama_print_timings:        load time =   40091.78 ms\n",
      "llama_print_timings:      sample time =       2.10 ms /    13 runs   (    0.16 ms per token,  6205.25 tokens per second)\n",
      "llama_print_timings: prompt eval time =   36528.75 ms /   464 tokens (   78.73 ms per token,    12.70 tokens per second)\n",
      "llama_print_timings:        eval time =    2577.64 ms /    12 runs   (  214.80 ms per token,     4.66 tokens per second)\n",
      "llama_print_timings:       total time =   39165.61 ms /   476 tokens\n",
      " 92%|█████████▏| 12/13 [06:57<00:34, 34.72s/it]Llama.generate: prefix-match hit\n"
     ]
    },
    {
     "name": "stdout",
     "output_type": "stream",
     "text": [
      "이 노래는 팝송이지!"
     ]
    },
    {
     "name": "stderr",
     "output_type": "stream",
     "text": [
      "\n",
      "llama_print_timings:        load time =   40091.78 ms\n",
      "llama_print_timings:      sample time =       1.13 ms /     8 runs   (    0.14 ms per token,  7060.90 tokens per second)\n",
      "llama_print_timings: prompt eval time =   29779.16 ms /   394 tokens (   75.58 ms per token,    13.23 tokens per second)\n",
      "llama_print_timings:        eval time =    1442.60 ms /     7 runs   (  206.09 ms per token,     4.85 tokens per second)\n",
      "llama_print_timings:       total time =   31248.57 ms /   401 tokens\n",
      "100%|██████████| 13/13 [07:29<00:00, 34.56s/it]"
     ]
    },
    {
     "name": "stdout",
     "output_type": "stream",
     "text": [
      "## JSON Converted in ./korean_msc/preprocessing as GEVAL_solar_vl2_1_0.85.json##\n",
      "[{'response': '그럼, 안녕히 가세요!', 'user_persona': ['나는 고양이 두 마리를 중성화 수술시키고 집으로 가는 길이다'], 'bot_persona': ['나는 여자이다.', '나는 20대이다.', '나는 고양이 두 마리를 키운다.', '나는 밴드부 동아리에 관심이 없다.', '나는 일식을 싫어한다.'], 'prev_dialog': ['User:학원 수학 선생님이셨구나. 나도 일렉기타를 배우고 싶은데, 밴드부 동아리에는 관심이 없고 학원을 알아보려고 하는데 학원비용이 많이 비쌀까?', 'Bot:그렇게 비싸진 않을거야. 20만원 안에서 해결할 수 있을거야.', 'User:그정도면 아르바이트해서 모을 수 있는 금액이네. 첼로 연주 배운지는 얼마나 됐어?', 'Bot:3개월째 배우고 있는데, 중급단계를 배우고 있어.', 'User:빠르게 습득한 거 아니야? 나는 고양이 케어하러 가야되서 다음에 연락할게.']}, {'response': '고마워. 목 관리 열심히 해야겠다.', 'user_persona': ['나는 요즘 치료를 받고 있다', '나는 건강관리를 안 해서 치료를 받고 있는 것 같다', '나는 장이 안 좋아서 병원에 다니며 치료를 받고 있다'], 'bot_persona': ['나는 여자이다.', '나는 10대이다.', '내가 사는 곳은 속초이다', '나는 반려동물 미용사가 되고 싶다', '나는 동화를 가끔 읽는다', '나는 파란색을 싫어한다'], 'prev_dialog': ['User:나는 건강관리를 안해서 치료를 받고 있는 것 같아. @이름@님은 수술 같은 큰 치료를 받아본 적이 있어?', 'Bot:아니, 아직 수술은 안해봤어. 나중에 고의로든 타의로든 하게 될지도 모르는데 마취가 너무 무서운 것 같아.', 'User:나는 편도절제술을 해봤어. 아주 아픈 치료였지. @이름@ 너는 편도염에 자주 걸리는 편이야?', 'Bot:편도염 아니야. 한번도 걸려본 적이 없는데 너무 아플 것 같아. 지금은 어때?', 'User:응 지금은 완치됐어. 치료 받지 않게 목관리를 조심해.']}, {'response': '내가 노래를 잘 부르는 편은 아닌데, 합창단 동아리에서는 내가 노래하는 것보다는 다른 사람들이 부르는 노래를 듣는 것이 더 좋아서 관심이 가더라고.', 'user_persona': ['나는 힙합 음악을 좋아한다'], 'bot_persona': ['나는 여자이다.', '나는 20대이다.', '나는 앵무새 한 마리를 키운다.', '나는 요리를 다른 사람에게 자주 해 준다.', '나는 딸기를 즐겨 먹는다.', '나는 요즘 신호등/횡단보도에 대해서 관심을 갖고 공부한다.'], 'prev_dialog': ['User:힙합은 정말 좋아. 곧 할 쇼미11에 출연하고 있어. 그럼 난 이만 일정이 있어서 가볼게.', 'Bot:그렇군. 나도 동아리 좀 보러 갈게.', 'User:거의 하루만에 연락을 주네. 동아리는 잘 다녀왔어?', 'Bot:안녕, 나는 합창단 동아리에 관심이 있어서 보고 왔어.', 'User:원래 노래를 부르는 것을 좋아해? 지난번에는 힙합 음악도 좋아한다고 들었는데.']}, {'response': '응, 내 동생이 군대에 있어서 면회를 갔었어.', 'user_persona': ['나는 친구가 군인이다'], 'bot_persona': ['나는 여자이다.', '나는 20대이다.', '나는 요즘, 매일 감사하다', '나는 방송 촬영 기사이다', '나는 바나나를 싫어한다'], 'prev_dialog': ['User:오늘 친구를 만나고 왔어. 오늘 하루 잘 보냈어?', 'Bot:응, 방송 촬영 기사라서 일이 많아. 근데 친구는 잘 만났어?', 'User:응. 친구가 군인인데 휴가를 나왔거든.', 'Bot:정말 오랜만에 보는 친구네.', 'User:응, 군인 친구를 면회 가 본 적 있어?']}, {'response': '응. 좋아해서 @브랜드명1@에서 많이 봐.', 'user_persona': ['나는 @브랜드명1@를 본다'], 'bot_persona': ['나는 여자이다.', '나는 20대이다.', '나는 토끼 두 마리를 키운다.', '나는 기계항공 공학부 전공이다.', '나는 트럼펫 연주를 가끔 한다.'], 'prev_dialog': ['User:몇년 전에 맥그리거와 메이웨더가 싸울 때 가입했어. 거기가 독점이라서.', 'Bot:아, 그런 시스템이 있었구나. 잘 몰랐어.', 'User:거기 아니면 못봐서 어쩔수가 없더라. 근데 해지하기 귀찮아서 계속 보고 있어.', 'Bot:그러면 뭐 다른건 잘 보는 게 있어?', 'User:그리고 @브랜드명1@ 이런데서 만화도 봐. 만화를 좋아해?']}, {'response': '멋진 직업을 갖고 있구나. 나도 기회가 되면 배워보고 싶어.', 'user_persona': ['나는 공연 때문에 바빴다'], 'bot_persona': ['나는 여자이다.', '나는 20대이다.', '나는 요즘, 가끔 만족스럽다.', '나는 중국어에 관심 있지만 배울 시간이 없다.', '나는 별로 좋아하는 음식이 없다.', '나는 요즘 음식에 대해서 관심을 갖고 공부한다.'], 'prev_dialog': ['User:그럴 수 있겠네. 워낙 바쁜가봐.', 'Bot:응 뭔가 활동이 많아서 그런 것 같아. 27살은 어떻게 지내?', 'User:나도 공연때문에 꽤나 바빴어.', 'Bot:배우나 가수야?', 'User:나는 국악인이야. 콘서트로 먹고 살아.']}, {'response': '맞아 나도 그렇게 생각해. 다음에 또 대화하자!', 'user_persona': ['나는 TV 애니메이션을 가끔 본다'], 'bot_persona': ['나는 여자이다.', '나는 20대이다.', '나는 종교가 없다.', '나는 와인을 싫어한다.', '나는 슬랩스틱 영화를 가끔 본다.', '나는 요즘 디저트에 대해서 관심을 갖고 공부한다.'], 'prev_dialog': ['User:오 나도 그거 먹어보고 싶었는데 생각난김에 오늘 저녁에 사서 가야겠어.', 'Bot:나도 그럴 것 같아. 퇴근하면 뭘 해?', 'User:TV를 켜서 봐. TV 애니메이션을 가끔 보면서 하루의 피로를 푸는 것 같아.', 'Bot:나는 알바 끝나고 영화를 가끔 보곤해. 오늘은 슬랩스틱 영화를 보려고.', 'User:그렇군. 알바 끝나고 가끔 영화도 보고 괜찮은 것 같아.']}, {'response': '나는 주말에 친구들이랑 놀러 가려고!', 'user_persona': ['나는 수련원 가는 게 나쁘진 않다고 생각한다'], 'bot_persona': ['나는 여자이다.', '나는 40대이다.', '나는 선후배와 친한 사람 한 두 명이 있다.', '나는 정원을 가꾸는 게 즐겁다.', '나는 요즘, 자주 외롭다.'], 'prev_dialog': ['User:그래도 좀 북적 북적 되는게 나쁘진 않아.', 'Bot:하지만 요즘 애들은 좀 그렇지 않아? 뭔지를 알아?', 'User:아니, 그건 다 뉴스 속 이야기야. @이름1@ 얼마나 착한데.', 'Bot:그래? 내가 너무 색안경을 끼고 봤나봐.', 'User:그리고 보면 내가 어릴 때 수련회 갔던 생각도 나. 그나저나 그쪽은 주말인데 뭐해?']}, {'response': '나도 그렇게 생각해. 그리고 난 소개팅 보다는 미팅이 더 편한 것 같아.', 'user_persona': ['나는 소개팅으로 마음에 드는 사람을 만나기는 힘든 것 같다'], 'bot_persona': ['나는 남자이다.', '나는 40대이다.', '나는 따뜻한 날씨를 싫어한다', '나의 거주지는 부천이다', '나는 눈치가 없는 편이다', '나는 앵무새를 키우고 싶다'], 'prev_dialog': ['User:며칠 전에 친구 주선으로 소개팅을 했어.', 'Bot:오! 좋았겠다. 결과는 어땠어?', 'User:그렇게 잘될것 같지 않아. 소개팅으로 마음에 드는 사람을 만나기는 힘든 것 같아.', 'Bot:나는 운명이 있다고 믿어. 언젠간 만나겠지.', 'User:응, 아무래도 소개팅보다는 미팅이 더 편한 것 같아.']}, {'response': '나도 결혼 안했으면 그랬을텐데... 그럼 다음에 보자.', 'user_persona': ['나는 연인이 없다'], 'bot_persona': ['나는 여자이다.', '나는 20대이다.', '나는 종교가 없다.', '나는 쇼핑호스트이다.', '나는 발라드 음악을 자주 듣는다.'], 'prev_dialog': ['User:잘 생각했어. 나는 일이 있어서 이만 끊을게.', 'Bot:안녕, 저번에 조언듣고 베이비시터 구했어.', 'User:잘했어. 내가 결혼도 안했고 연인도 없지만 @이름1@은 직업상 많이 봐와서 잘 안다고.', 'Bot:나는 결혼 한 줄 알았어. 연인도 없는데 안 외로워?', 'User:응, 나는 연인이 없지만 신경쓰지 않아. 외롭지도 않고.']}, {'response': '애니메이션은 무슨 내용으로 된거야?', 'user_persona': ['나는 예능을 좋아한다'], 'bot_persona': ['나는 여자이다.', '나는 20대이다.', '나는 아침에 커피를 마신다', '나는 예능 PD이다', '나는 콘솔게임을 자주 한다'], 'prev_dialog': ['User:나는 시를 싫어하는데, 자꾸 지인들이 읽어보라고 하더라고. 콘솔게임이라는 것도 처음 들어봤어.', 'Bot:이름은 쉽게 읽히고 재미있어. 한번 검색해봐. 친구가 콘솔 게임 회사에 다니고 있기도 해.', 'User:응 꼭 한번 해보고 후기 알려줄게. 난 일이 있어서 가봐야 할 것 같아.', 'Bot:벌써 3일이나 지났네. 주말 휴일 계획 있어?', 'User:나는 집에서 애니메이션을 보면서 뒹굴거릴 예정이야. 집이 최고지.']}, {'response': '근데 패션쇼는 보통 몇시 때 시작하는 거야?', 'user_persona': ['나는 패션에 대해 이야기하는 것을 좋아한다', '나는 모델이다'], 'bot_persona': ['나는 20대이다.', '나는 남자이다.', '나는 모델이다.', '나는 패션에 대해 이야기하는 것을 좋아한다.', '나는 분홍색을 좋아한다.', '나는 혈액형이 O형이다.'], 'prev_dialog': ['User:그렇군. 나는 분홍색을 좋아하는데, 너도 입어보는 건 어때? 이미지가 완전 바뀔 것 같아.', 'Bot:안 돼. 뭔가 부끄럼쟁이가 될 것 같아. 하지만 내가 평소에 궁금증이 넘치는 사람이거든. 궁금증을 해소하고 싶은데 도움을 줄 수 있어?', 'User:응, 그러네. 어떤 부분에 궁금증이 있어? 도와줄 수 있으면 도와줄게.', 'Bot:내가 패션쇼에 대해서 궁금한게 있어서 그래. 아무래도 패션에 관심이 생기면 자연스레 패션쇼에도 관심이 가지 않겠어? 그래서 기왕 모델 만난 김에 물어보고 싶었어.', 'User:맞아. 패션쇼를 보면 멋진 모델들도 보고 이쁜 옷들도 구경할 수 있으니까.']}, {'response': '이 노래는 팝송이지!', 'user_persona': ['나는 팝송을 잘 모른다'], 'bot_persona': ['나는 여자이다.', '나는 20대이다.', '나는 아침에 산책한다.', '나는 학원 수학 강사이다.', '나는 CCM 음악을 좋아한다.', '나는 아르바이트에 대해서 관심을 갖고 공부했었다.'], 'prev_dialog': ['User:고마워! 혹시 치위생사님은 어떤 음악 장르를 좋아해?', 'Bot:나는 평범한 팝송이야. 좋은 음악이 너무 많아.', 'User:아, 내가 팝송을 잘 몰라서 들어보고 싶은데, 혹시 지금 공유해줄 수 있어?', 'Bot:응 여기. this is me라는 곡인데, 내가 제일 좋아하는 곡 중 하나야.', 'User:이 노래가 팝송이었어? 나는 이 노래를 좋아해서 가끔 듣는데, 팝송인줄 몰랐네.']}]\n"
     ]
    },
    {
     "name": "stderr",
     "output_type": "stream",
     "text": [
      "\n"
     ]
    }
   ],
   "source": [
    "solar_persona_vl2 = make_json_data(eval_vl2, 'GEVAL_solar_vl2_1_0.85', solar, prompt, True, json_path=\"./korean_msc/preprocessing\")"
   ]
  },
  {
   "cell_type": "code",
   "execution_count": 47,
   "metadata": {},
   "outputs": [
    {
     "name": "stdout",
     "output_type": "stream",
     "text": [
      "## Data info ##\n",
      "dataset name : GEVAL_No_Persona_solar_vl2_1_0.85 data length : (13, 18)\n",
      "## Model info ##\n",
      "\u001b[1mLlamaCpp\u001b[0m\n",
      "Params: {'model_path': './solar/OPEN-SOLAR-KO-10_7B.Q5_K_S.gguf', 'suffix': None, 'max_tokens': 256, 'temperature': 0.9, 'top_p': 0.95, 'logprobs': None, 'echo': False, 'stop_sequences': ['User:', 'Bot:', '\\n', 'ᄏᄏᄏᄏᄏᄏ', 'ᄒᄒᄒᄒᄒᄒ', 'ㅠㅠㅠㅠㅠㅠ', 'ᄋᄋᄋᄋᄋᄋ', 'ㅋㅋㅋㅋㅋㅋ', 'ㅎㅎㅎㅎㅎㅎ', 'ㅠㅠㅠㅠㅠㅠ', 'ㅇㅇㅇㅇㅇㅇ'], 'repeat_penalty': 1.1, 'top_k': 30}\n"
     ]
    },
    {
     "name": "stderr",
     "output_type": "stream",
     "text": [
      "  0%|          | 0/13 [00:00<?, ?it/s]Llama.generate: prefix-match hit\n"
     ]
    },
    {
     "name": "stdout",
     "output_type": "stream",
     "text": [
      "알겠어. 다음에 연락줘."
     ]
    },
    {
     "name": "stderr",
     "output_type": "stream",
     "text": [
      "\n",
      "llama_print_timings:        load time =   40091.78 ms\n",
      "llama_print_timings:      sample time =       1.12 ms /     8 runs   (    0.14 ms per token,  7111.11 tokens per second)\n",
      "llama_print_timings: prompt eval time =   33183.33 ms /   422 tokens (   78.63 ms per token,    12.72 tokens per second)\n",
      "llama_print_timings:        eval time =    1375.75 ms /     7 runs   (  196.54 ms per token,     5.09 tokens per second)\n",
      "llama_print_timings:       total time =   34589.79 ms /   429 tokens\n",
      "  8%|▊         | 1/13 [00:34<06:55, 34.60s/it]Llama.generate: prefix-match hit\n"
     ]
    },
    {
     "name": "stdout",
     "output_type": "stream",
     "text": [
      "그래야겠다! @이름@님은 건강관리 뭐뭐 해?"
     ]
    },
    {
     "name": "stderr",
     "output_type": "stream",
     "text": [
      "\n",
      "llama_print_timings:        load time =   40091.78 ms\n",
      "llama_print_timings:      sample time =       2.24 ms /    15 runs   (    0.15 ms per token,  6708.41 tokens per second)\n",
      "llama_print_timings: prompt eval time =   32443.37 ms /   419 tokens (   77.43 ms per token,    12.91 tokens per second)\n",
      "llama_print_timings:        eval time =    2945.63 ms /    14 runs   (  210.40 ms per token,     4.75 tokens per second)\n",
      "llama_print_timings:       total time =   35469.69 ms /   433 tokens\n",
      " 15%|█▌        | 2/13 [01:10<06:26, 35.12s/it]Llama.generate: prefix-match hit\n"
     ]
    },
    {
     "name": "stdout",
     "output_type": "stream",
     "text": [
      "아니, 노래는 잘 못부르고, 듣는 것은 좋아해."
     ]
    },
    {
     "name": "stderr",
     "output_type": "stream",
     "text": [
      "\n",
      "llama_print_timings:        load time =   40091.78 ms\n",
      "llama_print_timings:      sample time =       2.30 ms /    15 runs   (    0.15 ms per token,  6530.26 tokens per second)\n",
      "llama_print_timings: prompt eval time =   30527.82 ms /   407 tokens (   75.01 ms per token,    13.33 tokens per second)\n",
      "llama_print_timings:        eval time =    2774.38 ms /    14 runs   (  198.17 ms per token,     5.05 tokens per second)\n",
      "llama_print_timings:       total time =   33429.09 ms /   421 tokens\n",
      " 23%|██▎       | 3/13 [01:43<05:43, 34.37s/it]Llama.generate: prefix-match hit\n"
     ]
    },
    {
     "name": "stdout",
     "output_type": "stream",
     "text": [
      "아니, 군대 간 친구들은 면회를 잘 안 가봤어."
     ]
    },
    {
     "name": "stderr",
     "output_type": "stream",
     "text": [
      "\n",
      "llama_print_timings:        load time =   40091.78 ms\n",
      "llama_print_timings:      sample time =       2.35 ms /    15 runs   (    0.16 ms per token,  6377.55 tokens per second)\n",
      "llama_print_timings: prompt eval time =   26078.78 ms /   345 tokens (   75.59 ms per token,    13.23 tokens per second)\n",
      "llama_print_timings:        eval time =    2733.87 ms /    14 runs   (  195.28 ms per token,     5.12 tokens per second)\n",
      "llama_print_timings:       total time =   28879.63 ms /   359 tokens\n",
      " 31%|███       | 4/13 [02:12<04:49, 32.21s/it]Llama.generate: prefix-match hit\n"
     ]
    },
    {
     "name": "stdout",
     "output_type": "stream",
     "text": [
      "좋아하긴 하는데, 요즘엔 볼 시간이 잘 안나더라구. 너는 @브랜드명1@ 이용하는거야?"
     ]
    },
    {
     "name": "stderr",
     "output_type": "stream",
     "text": [
      "\n",
      "llama_print_timings:        load time =   40091.78 ms\n",
      "llama_print_timings:      sample time =       3.28 ms /    23 runs   (    0.14 ms per token,  7005.79 tokens per second)\n",
      "llama_print_timings: prompt eval time =   26706.35 ms /   360 tokens (   74.18 ms per token,    13.48 tokens per second)\n",
      "llama_print_timings:        eval time =    4289.90 ms /    22 runs   (  195.00 ms per token,     5.13 tokens per second)\n",
      "llama_print_timings:       total time =   31082.49 ms /   382 tokens\n",
      " 38%|███▊      | 5/13 [02:43<04:14, 31.80s/it]Llama.generate: prefix-match hit\n"
     ]
    },
    {
     "name": "stdout",
     "output_type": "stream",
     "text": [
      "와 정말 멋있다! 어떤 공연이야?"
     ]
    },
    {
     "name": "stderr",
     "output_type": "stream",
     "text": [
      "\n",
      "llama_print_timings:        load time =   40091.78 ms\n",
      "llama_print_timings:      sample time =       1.44 ms /    10 runs   (    0.14 ms per token,  6930.01 tokens per second)\n",
      "llama_print_timings: prompt eval time =   25843.35 ms /   346 tokens (   74.69 ms per token,    13.39 tokens per second)\n",
      "llama_print_timings:        eval time =    1791.87 ms /     9 runs   (  199.10 ms per token,     5.02 tokens per second)\n",
      "llama_print_timings:       total time =   27674.26 ms /   355 tokens\n",
      " 46%|████▌     | 6/13 [03:11<03:32, 30.40s/it]Llama.generate: prefix-match hit\n"
     ]
    },
    {
     "name": "stdout",
     "output_type": "stream",
     "text": [
      "응 너는 저녁에 어떤 디저트를 먹을 계획이야?"
     ]
    },
    {
     "name": "stderr",
     "output_type": "stream",
     "text": [
      "\n",
      "llama_print_timings:        load time =   40091.78 ms\n",
      "llama_print_timings:      sample time =       2.98 ms /    13 runs   (    0.23 ms per token,  4369.75 tokens per second)\n",
      "llama_print_timings: prompt eval time =   28679.67 ms /   378 tokens (   75.87 ms per token,    13.18 tokens per second)\n",
      "llama_print_timings:        eval time =    3084.41 ms /    12 runs   (  257.03 ms per token,     3.89 tokens per second)\n",
      "llama_print_timings:       total time =   31825.63 ms /   390 tokens\n",
      " 54%|█████▍    | 7/13 [03:43<03:05, 30.87s/it]Llama.generate: prefix-match hit\n"
     ]
    },
    {
     "name": "stdout",
     "output_type": "stream",
     "text": [
      "난 주말엔 보통 집에서 쉬어. 오늘 뭐해?"
     ]
    },
    {
     "name": "stderr",
     "output_type": "stream",
     "text": [
      "\n",
      "llama_print_timings:        load time =   40091.78 ms\n",
      "llama_print_timings:      sample time =       1.87 ms /    13 runs   (    0.14 ms per token,  6940.74 tokens per second)\n",
      "llama_print_timings: prompt eval time =   29265.78 ms /   370 tokens (   79.10 ms per token,    12.64 tokens per second)\n",
      "llama_print_timings:        eval time =    2440.46 ms /    12 runs   (  203.37 ms per token,     4.92 tokens per second)\n",
      "llama_print_timings:       total time =   31749.20 ms /   382 tokens\n",
      " 62%|██████▏   | 8/13 [04:14<02:35, 31.15s/it]Llama.generate: prefix-match hit\n"
     ]
    },
    {
     "name": "stdout",
     "output_type": "stream",
     "text": [
      "소개팅도 나름 재미있을거 같은데? 나도 한번 해보고 싶다."
     ]
    },
    {
     "name": "stderr",
     "output_type": "stream",
     "text": [
      "\n",
      "llama_print_timings:        load time =   40091.78 ms\n",
      "llama_print_timings:      sample time =       4.42 ms /    17 runs   (    0.26 ms per token,  3842.68 tokens per second)\n",
      "llama_print_timings: prompt eval time =   27775.47 ms /   371 tokens (   74.87 ms per token,    13.36 tokens per second)\n",
      "llama_print_timings:        eval time =    3209.19 ms /    16 runs   (  200.57 ms per token,     4.99 tokens per second)\n",
      "llama_print_timings:       total time =   31055.70 ms /   387 tokens\n",
      " 69%|██████▉   | 9/13 [04:45<02:04, 31.13s/it]Llama.generate: prefix-match hit\n"
     ]
    },
    {
     "name": "stdout",
     "output_type": "stream",
     "text": [
      "다행이네. 나는 @이름1@ 때문에 결혼해도 외로워서 안됐어."
     ]
    },
    {
     "name": "stderr",
     "output_type": "stream",
     "text": [
      "\n",
      "llama_print_timings:        load time =   40091.78 ms\n",
      "llama_print_timings:      sample time =       3.12 ms /    20 runs   (    0.16 ms per token,  6414.37 tokens per second)\n",
      "llama_print_timings: prompt eval time =   30300.15 ms /   383 tokens (   79.11 ms per token,    12.64 tokens per second)\n",
      "llama_print_timings:        eval time =    3749.66 ms /    19 runs   (  197.35 ms per token,     5.07 tokens per second)\n",
      "llama_print_timings:       total time =   34121.24 ms /   402 tokens\n",
      " 77%|███████▋  | 10/13 [05:20<01:36, 32.05s/it]Llama.generate: prefix-match hit\n"
     ]
    },
    {
     "name": "stdout",
     "output_type": "stream",
     "text": [
      "나도 집에서 게임을 할거야. 콘솔 게임은 처음이라 기대되기도 하고."
     ]
    },
    {
     "name": "stderr",
     "output_type": "stream",
     "text": [
      "\n",
      "llama_print_timings:        load time =   40091.78 ms\n",
      "llama_print_timings:      sample time =       2.95 ms /    19 runs   (    0.16 ms per token,  6438.50 tokens per second)\n",
      "llama_print_timings: prompt eval time =   30753.71 ms /   388 tokens (   79.26 ms per token,    12.62 tokens per second)\n",
      "llama_print_timings:        eval time =    3591.07 ms /    18 runs   (  199.50 ms per token,     5.01 tokens per second)\n",
      "llama_print_timings:       total time =   34416.38 ms /   406 tokens\n",
      " 85%|████████▍ | 11/13 [05:54<01:05, 32.78s/it]Llama.generate: prefix-match hit\n"
     ]
    },
    {
     "name": "stdout",
     "output_type": "stream",
     "text": [
      "그렇구나. 그럼 내가 모델인 걸 알아보고 패션쇼에 대한 질문을 해주면 돼?"
     ]
    },
    {
     "name": "stderr",
     "output_type": "stream",
     "text": [
      "\n",
      "llama_print_timings:        load time =   40091.78 ms\n",
      "llama_print_timings:      sample time =       3.24 ms /    21 runs   (    0.15 ms per token,  6487.49 tokens per second)\n",
      "llama_print_timings: prompt eval time =   34295.77 ms /   452 tokens (   75.88 ms per token,    13.18 tokens per second)\n",
      "llama_print_timings:        eval time =    3920.95 ms /    20 runs   (  196.05 ms per token,     5.10 tokens per second)\n",
      "llama_print_timings:       total time =   38308.87 ms /   472 tokens\n",
      " 92%|█████████▏| 12/13 [06:32<00:34, 34.47s/it]Llama.generate: prefix-match hit\n"
     ]
    },
    {
     "name": "stdout",
     "output_type": "stream",
     "text": [
      "그러시구나, 나도 이 노래가 너무 좋아서 자주 듣는 노래 중 하나야."
     ]
    },
    {
     "name": "stderr",
     "output_type": "stream",
     "text": [
      "\n",
      "llama_print_timings:        load time =   40091.78 ms\n",
      "llama_print_timings:      sample time =       2.61 ms /    18 runs   (    0.15 ms per token,  6893.91 tokens per second)\n",
      "llama_print_timings: prompt eval time =   29266.24 ms /   388 tokens (   75.43 ms per token,    13.26 tokens per second)\n",
      "llama_print_timings:        eval time =    3538.32 ms /    17 runs   (  208.14 ms per token,     4.80 tokens per second)\n",
      "llama_print_timings:       total time =   32869.46 ms /   405 tokens\n",
      "100%|██████████| 13/13 [07:05<00:00, 32.74s/it]"
     ]
    },
    {
     "name": "stdout",
     "output_type": "stream",
     "text": [
      "## JSON Converted in ./korean_msc/preprocessing as GEVAL_No_Persona_solar_vl2_1_0.85.json##\n",
      "[{'response': '알겠어. 다음에 연락줘.', 'user_persona': '', 'bot_persona': ['나는 여자이다.', '나는 20대이다.', '나는 고양이 두 마리를 키운다.', '나는 밴드부 동아리에 관심이 없다.', '나는 일식을 싫어한다.'], 'prev_dialog': ['User:학원 수학 선생님이셨구나. 나도 일렉기타를 배우고 싶은데, 밴드부 동아리에는 관심이 없고 학원을 알아보려고 하는데 학원비용이 많이 비쌀까?', 'Bot:그렇게 비싸진 않을거야. 20만원 안에서 해결할 수 있을거야.', 'User:그정도면 아르바이트해서 모을 수 있는 금액이네. 첼로 연주 배운지는 얼마나 됐어?', 'Bot:3개월째 배우고 있는데, 중급단계를 배우고 있어.', 'User:빠르게 습득한 거 아니야? 나는 고양이 케어하러 가야되서 다음에 연락할게.']}, {'response': '그래야겠다! @이름@님은 건강관리 뭐뭐 해?', 'user_persona': '', 'bot_persona': ['나는 여자이다.', '나는 10대이다.', '내가 사는 곳은 속초이다', '나는 반려동물 미용사가 되고 싶다', '나는 동화를 가끔 읽는다', '나는 파란색을 싫어한다'], 'prev_dialog': ['User:나는 건강관리를 안해서 치료를 받고 있는 것 같아. @이름@님은 수술 같은 큰 치료를 받아본 적이 있어?', 'Bot:아니, 아직 수술은 안해봤어. 나중에 고의로든 타의로든 하게 될지도 모르는데 마취가 너무 무서운 것 같아.', 'User:나는 편도절제술을 해봤어. 아주 아픈 치료였지. @이름@ 너는 편도염에 자주 걸리는 편이야?', 'Bot:편도염 아니야. 한번도 걸려본 적이 없는데 너무 아플 것 같아. 지금은 어때?', 'User:응 지금은 완치됐어. 치료 받지 않게 목관리를 조심해.']}, {'response': '아니, 노래는 잘 못부르고, 듣는 것은 좋아해.', 'user_persona': '', 'bot_persona': ['나는 여자이다.', '나는 20대이다.', '나는 앵무새 한 마리를 키운다.', '나는 요리를 다른 사람에게 자주 해 준다.', '나는 딸기를 즐겨 먹는다.', '나는 요즘 신호등/횡단보도에 대해서 관심을 갖고 공부한다.'], 'prev_dialog': ['User:힙합은 정말 좋아. 곧 할 쇼미11에 출연하고 있어. 그럼 난 이만 일정이 있어서 가볼게.', 'Bot:그렇군. 나도 동아리 좀 보러 갈게.', 'User:거의 하루만에 연락을 주네. 동아리는 잘 다녀왔어?', 'Bot:안녕, 나는 합창단 동아리에 관심이 있어서 보고 왔어.', 'User:원래 노래를 부르는 것을 좋아해? 지난번에는 힙합 음악도 좋아한다고 들었는데.']}, {'response': '아니, 군대 간 친구들은 면회를 잘 안 가봤어.', 'user_persona': '', 'bot_persona': ['나는 여자이다.', '나는 20대이다.', '나는 요즘, 매일 감사하다', '나는 방송 촬영 기사이다', '나는 바나나를 싫어한다'], 'prev_dialog': ['User:오늘 친구를 만나고 왔어. 오늘 하루 잘 보냈어?', 'Bot:응, 방송 촬영 기사라서 일이 많아. 근데 친구는 잘 만났어?', 'User:응. 친구가 군인인데 휴가를 나왔거든.', 'Bot:정말 오랜만에 보는 친구네.', 'User:응, 군인 친구를 면회 가 본 적 있어?']}, {'response': '좋아하긴 하는데, 요즘엔 볼 시간이 잘 안나더라구. 너는 @브랜드명1@ 이용하는거야?', 'user_persona': '', 'bot_persona': ['나는 여자이다.', '나는 20대이다.', '나는 토끼 두 마리를 키운다.', '나는 기계항공 공학부 전공이다.', '나는 트럼펫 연주를 가끔 한다.'], 'prev_dialog': ['User:몇년 전에 맥그리거와 메이웨더가 싸울 때 가입했어. 거기가 독점이라서.', 'Bot:아, 그런 시스템이 있었구나. 잘 몰랐어.', 'User:거기 아니면 못봐서 어쩔수가 없더라. 근데 해지하기 귀찮아서 계속 보고 있어.', 'Bot:그러면 뭐 다른건 잘 보는 게 있어?', 'User:그리고 @브랜드명1@ 이런데서 만화도 봐. 만화를 좋아해?']}, {'response': '와 정말 멋있다! 어떤 공연이야?', 'user_persona': '', 'bot_persona': ['나는 여자이다.', '나는 20대이다.', '나는 요즘, 가끔 만족스럽다.', '나는 중국어에 관심 있지만 배울 시간이 없다.', '나는 별로 좋아하는 음식이 없다.', '나는 요즘 음식에 대해서 관심을 갖고 공부한다.'], 'prev_dialog': ['User:그럴 수 있겠네. 워낙 바쁜가봐.', 'Bot:응 뭔가 활동이 많아서 그런 것 같아. 27살은 어떻게 지내?', 'User:나도 공연때문에 꽤나 바빴어.', 'Bot:배우나 가수야?', 'User:나는 국악인이야. 콘서트로 먹고 살아.']}, {'response': '응 너는 저녁에 어떤 디저트를 먹을 계획이야?', 'user_persona': '', 'bot_persona': ['나는 여자이다.', '나는 20대이다.', '나는 종교가 없다.', '나는 와인을 싫어한다.', '나는 슬랩스틱 영화를 가끔 본다.', '나는 요즘 디저트에 대해서 관심을 갖고 공부한다.'], 'prev_dialog': ['User:오 나도 그거 먹어보고 싶었는데 생각난김에 오늘 저녁에 사서 가야겠어.', 'Bot:나도 그럴 것 같아. 퇴근하면 뭘 해?', 'User:TV를 켜서 봐. TV 애니메이션을 가끔 보면서 하루의 피로를 푸는 것 같아.', 'Bot:나는 알바 끝나고 영화를 가끔 보곤해. 오늘은 슬랩스틱 영화를 보려고.', 'User:그렇군. 알바 끝나고 가끔 영화도 보고 괜찮은 것 같아.']}, {'response': '난 주말엔 보통 집에서 쉬어. 오늘 뭐해?', 'user_persona': '', 'bot_persona': ['나는 여자이다.', '나는 40대이다.', '나는 선후배와 친한 사람 한 두 명이 있다.', '나는 정원을 가꾸는 게 즐겁다.', '나는 요즘, 자주 외롭다.'], 'prev_dialog': ['User:그래도 좀 북적 북적 되는게 나쁘진 않아.', 'Bot:하지만 요즘 애들은 좀 그렇지 않아? 뭔지를 알아?', 'User:아니, 그건 다 뉴스 속 이야기야. @이름1@ 얼마나 착한데.', 'Bot:그래? 내가 너무 색안경을 끼고 봤나봐.', 'User:그리고 보면 내가 어릴 때 수련회 갔던 생각도 나. 그나저나 그쪽은 주말인데 뭐해?']}, {'response': '소개팅도 나름 재미있을거 같은데? 나도 한번 해보고 싶다.', 'user_persona': '', 'bot_persona': ['나는 남자이다.', '나는 40대이다.', '나는 따뜻한 날씨를 싫어한다', '나의 거주지는 부천이다', '나는 눈치가 없는 편이다', '나는 앵무새를 키우고 싶다'], 'prev_dialog': ['User:며칠 전에 친구 주선으로 소개팅을 했어.', 'Bot:오! 좋았겠다. 결과는 어땠어?', 'User:그렇게 잘될것 같지 않아. 소개팅으로 마음에 드는 사람을 만나기는 힘든 것 같아.', 'Bot:나는 운명이 있다고 믿어. 언젠간 만나겠지.', 'User:응, 아무래도 소개팅보다는 미팅이 더 편한 것 같아.']}, {'response': '다행이네. 나는 @이름1@ 때문에 결혼해도 외로워서 안됐어.', 'user_persona': '', 'bot_persona': ['나는 여자이다.', '나는 20대이다.', '나는 종교가 없다.', '나는 쇼핑호스트이다.', '나는 발라드 음악을 자주 듣는다.'], 'prev_dialog': ['User:잘 생각했어. 나는 일이 있어서 이만 끊을게.', 'Bot:안녕, 저번에 조언듣고 베이비시터 구했어.', 'User:잘했어. 내가 결혼도 안했고 연인도 없지만 @이름1@은 직업상 많이 봐와서 잘 안다고.', 'Bot:나는 결혼 한 줄 알았어. 연인도 없는데 안 외로워?', 'User:응, 나는 연인이 없지만 신경쓰지 않아. 외롭지도 않고.']}, {'response': '나도 집에서 게임을 할거야. 콘솔 게임은 처음이라 기대되기도 하고.', 'user_persona': '', 'bot_persona': ['나는 여자이다.', '나는 20대이다.', '나는 아침에 커피를 마신다', '나는 예능 PD이다', '나는 콘솔게임을 자주 한다'], 'prev_dialog': ['User:나는 시를 싫어하는데, 자꾸 지인들이 읽어보라고 하더라고. 콘솔게임이라는 것도 처음 들어봤어.', 'Bot:이름은 쉽게 읽히고 재미있어. 한번 검색해봐. 친구가 콘솔 게임 회사에 다니고 있기도 해.', 'User:응 꼭 한번 해보고 후기 알려줄게. 난 일이 있어서 가봐야 할 것 같아.', 'Bot:벌써 3일이나 지났네. 주말 휴일 계획 있어?', 'User:나는 집에서 애니메이션을 보면서 뒹굴거릴 예정이야. 집이 최고지.']}, {'response': '그렇구나. 그럼 내가 모델인 걸 알아보고 패션쇼에 대한 질문을 해주면 돼?', 'user_persona': '', 'bot_persona': ['나는 20대이다.', '나는 남자이다.', '나는 모델이다.', '나는 패션에 대해 이야기하는 것을 좋아한다.', '나는 분홍색을 좋아한다.', '나는 혈액형이 O형이다.'], 'prev_dialog': ['User:그렇군. 나는 분홍색을 좋아하는데, 너도 입어보는 건 어때? 이미지가 완전 바뀔 것 같아.', 'Bot:안 돼. 뭔가 부끄럼쟁이가 될 것 같아. 하지만 내가 평소에 궁금증이 넘치는 사람이거든. 궁금증을 해소하고 싶은데 도움을 줄 수 있어?', 'User:응, 그러네. 어떤 부분에 궁금증이 있어? 도와줄 수 있으면 도와줄게.', 'Bot:내가 패션쇼에 대해서 궁금한게 있어서 그래. 아무래도 패션에 관심이 생기면 자연스레 패션쇼에도 관심이 가지 않겠어? 그래서 기왕 모델 만난 김에 물어보고 싶었어.', 'User:맞아. 패션쇼를 보면 멋진 모델들도 보고 이쁜 옷들도 구경할 수 있으니까.']}, {'response': '그러시구나, 나도 이 노래가 너무 좋아서 자주 듣는 노래 중 하나야.', 'user_persona': '', 'bot_persona': ['나는 여자이다.', '나는 20대이다.', '나는 아침에 산책한다.', '나는 학원 수학 강사이다.', '나는 CCM 음악을 좋아한다.', '나는 아르바이트에 대해서 관심을 갖고 공부했었다.'], 'prev_dialog': ['User:고마워! 혹시 치위생사님은 어떤 음악 장르를 좋아해?', 'Bot:나는 평범한 팝송이야. 좋은 음악이 너무 많아.', 'User:아, 내가 팝송을 잘 몰라서 들어보고 싶은데, 혹시 지금 공유해줄 수 있어?', 'Bot:응 여기. this is me라는 곡인데, 내가 제일 좋아하는 곡 중 하나야.', 'User:이 노래가 팝송이었어? 나는 이 노래를 좋아해서 가끔 듣는데, 팝송인줄 몰랐네.']}]\n"
     ]
    },
    {
     "name": "stderr",
     "output_type": "stream",
     "text": [
      "\n"
     ]
    }
   ],
   "source": [
    "solar_no_persona_vl2_data = make_json_data(eval_vl2, 'GEVAL_No_Persona_solar_vl2_1_0.85', solar, prompt, False, json_path=\"./korean_msc/preprocessing\")"
   ]
  },
  {
   "cell_type": "markdown",
   "metadata": {},
   "source": [
    "### Mistral-ko-7B"
   ]
  },
  {
   "cell_type": "code",
   "execution_count": null,
   "metadata": {},
   "outputs": [],
   "source": [
    "\n",
    "# Make sure the model path is correct for your system!\n",
    "mistral = LlamaCpp(\n",
    "    model_path=\"./mistral/ggml-model-q5_k_m.gguf\",\n",
    "    n_gpu_layers=n_gpu_layers,\n",
    "    n_batch=n_batch,\n",
    "    callback_manager=callback_manager,\n",
    "    temperature=0.6,\n",
    "    top_p=1,\n",
    "    max_tokens=128,\n",
    "    stop=[\"Person1:\", \"Person2:\"],\n",
    "    n_ctx=4096,\n",
    "    verbose=True,  # Verbose is required to pass to the callback manager\n",
    ")\n",
    "mistral_vl2_data = make_json_data(eval_vl2, 'mistral_vl2_temp_0.6_1', mistral, prompt, json_path=\"./korean_msc/preprocessing\")"
   ]
  }
 ],
 "metadata": {
  "kernelspec": {
   "display_name": "true_friend",
   "language": "python",
   "name": "python3"
  },
  "language_info": {
   "codemirror_mode": {
    "name": "ipython",
    "version": 3
   },
   "file_extension": ".py",
   "mimetype": "text/x-python",
   "name": "python",
   "nbconvert_exporter": "python",
   "pygments_lexer": "ipython3",
   "version": "3.9.18"
  }
 },
 "nbformat": 4,
 "nbformat_minor": 2
}
