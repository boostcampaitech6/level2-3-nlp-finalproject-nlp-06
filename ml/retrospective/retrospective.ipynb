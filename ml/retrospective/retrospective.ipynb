{
 "cells": [
  {
   "cell_type": "markdown",
   "metadata": {},
   "source": [
    "# inference\n",
    "\n",
    "langchain을 통한 inference\n",
    "\n",
    "https://python.langchain.com/docs/integrations/llms/llamacpp"
   ]
  },
  {
   "cell_type": "code",
   "execution_count": 4,
   "metadata": {},
   "outputs": [],
   "source": [
    "from langchain.callbacks.manager import CallbackManager\n",
    "from langchain.callbacks.streaming_stdout import StreamingStdOutCallbackHandler\n",
    "from langchain.chains import LLMChain\n",
    "from langchain.prompts import PromptTemplate\n",
    "from langchain_community.llms import LlamaCpp"
   ]
  },
  {
   "cell_type": "code",
   "execution_count": 5,
   "metadata": {},
   "outputs": [],
   "source": [
    "n_gpu_layers = -1  # The number of layers to put on the GPU. The rest will be on the CPU. If you don't know how many layers there are, you can use -1 to move all to GPU.\n",
    "n_batch = 512  # Should be between 1 and n_ctx, consider the amount of VRAM in your GPU.\n",
    "\n",
    "# Callbacks support token-wise streaming\n",
    "callback_manager = CallbackManager([StreamingStdOutCallbackHandler()])"
   ]
  },
  {
   "cell_type": "code",
   "execution_count": 6,
   "metadata": {},
   "outputs": [],
   "source": [
    "MODEL_PATH = \"./\""
   ]
  },
  {
   "cell_type": "markdown",
   "metadata": {},
   "source": [
    "우선은 local에 huggingface snapshot을 download 하고 돌리는 방식으로 구현했습니다."
   ]
  },
  {
   "cell_type": "code",
   "execution_count": 5,
   "metadata": {},
   "outputs": [
    {
     "name": "stderr",
     "output_type": "stream",
     "text": [
      "/home/jsj/.local/lib/python3.8/site-packages/tqdm/auto.py:21: TqdmWarning: IProgress not found. Please update jupyter and ipywidgets. See https://ipywidgets.readthedocs.io/en/stable/user_install.html\n",
      "  from .autonotebook import tqdm as notebook_tqdm\n",
      "Fetching 2 files: 100%|██████████| 2/2 [01:51<00:00, 55.85s/it]\n"
     ]
    },
    {
     "data": {
      "text/plain": [
       "'/home/jsj'"
      ]
     },
     "execution_count": 5,
     "metadata": {},
     "output_type": "execute_result"
    }
   ],
   "source": [
    "from huggingface_hub import snapshot_download\n",
    "import argparse\n",
    "\n",
    "snapshot_download(repo_id=\"ywhwang/OPEN-SOLAR-KO-10.7B\", local_dir=MODEL_PATH,\n",
    "                    local_dir_use_symlinks=False, revision=\"main\")\n"
   ]
  },
  {
   "cell_type": "code",
   "execution_count": 7,
   "metadata": {},
   "outputs": [
    {
     "name": "stderr",
     "output_type": "stream",
     "text": [
      "llama_model_loader: loaded meta data with 21 key-value pairs and 435 tensors from .//OPEN-SOLAR-KO-10_7B.Q5_K_S.gguf (version GGUF V3 (latest))\n",
      "llama_model_loader: Dumping metadata keys/values. Note: KV overrides do not apply in this output.\n",
      "llama_model_loader: - kv   0:                       general.architecture str              = llama\n",
      "llama_model_loader: - kv   1:                               general.name str              = LLaMA v2\n",
      "llama_model_loader: - kv   2:                       llama.context_length u32              = 4096\n",
      "llama_model_loader: - kv   3:                     llama.embedding_length u32              = 4096\n",
      "llama_model_loader: - kv   4:                          llama.block_count u32              = 48\n",
      "llama_model_loader: - kv   5:                  llama.feed_forward_length u32              = 14336\n",
      "llama_model_loader: - kv   6:                 llama.rope.dimension_count u32              = 128\n",
      "llama_model_loader: - kv   7:                 llama.attention.head_count u32              = 32\n",
      "llama_model_loader: - kv   8:              llama.attention.head_count_kv u32              = 8\n",
      "llama_model_loader: - kv   9:     llama.attention.layer_norm_rms_epsilon f32              = 0.000010\n",
      "llama_model_loader: - kv  10:                       llama.rope.freq_base f32              = 10000.000000\n",
      "llama_model_loader: - kv  11:                          general.file_type u32              = 16\n",
      "llama_model_loader: - kv  12:                       tokenizer.ggml.model str              = llama\n",
      "llama_model_loader: - kv  13:                      tokenizer.ggml.tokens arr[str,46592]   = [\"<unk>\", \"<s>\", \"</s>\", \"<0x00>\", \"<...\n",
      "llama_model_loader: - kv  14:                      tokenizer.ggml.scores arr[f32,46592]   = [-1000.000000, -1000.000000, -1000.00...\n",
      "llama_model_loader: - kv  15:                  tokenizer.ggml.token_type arr[i32,46592]   = [3, 3, 3, 6, 6, 6, 6, 6, 6, 6, 6, 6, ...\n",
      "llama_model_loader: - kv  16:                tokenizer.ggml.bos_token_id u32              = 1\n",
      "llama_model_loader: - kv  17:                tokenizer.ggml.eos_token_id u32              = 2\n",
      "llama_model_loader: - kv  18:            tokenizer.ggml.unknown_token_id u32              = 0\n",
      "llama_model_loader: - kv  19:            tokenizer.ggml.padding_token_id u32              = 2\n",
      "llama_model_loader: - kv  20:               general.quantization_version u32              = 2\n",
      "llama_model_loader: - type  f32:   97 tensors\n",
      "llama_model_loader: - type q5_K:  337 tensors\n",
      "llama_model_loader: - type q6_K:    1 tensors\n",
      "llm_load_vocab: mismatch in special tokens definition ( 700/46592 vs 695/46592 ).\n",
      "llm_load_print_meta: format           = GGUF V3 (latest)\n",
      "llm_load_print_meta: arch             = llama\n",
      "llm_load_print_meta: vocab type       = SPM\n",
      "llm_load_print_meta: n_vocab          = 46592\n",
      "llm_load_print_meta: n_merges         = 0\n",
      "llm_load_print_meta: n_ctx_train      = 4096\n",
      "llm_load_print_meta: n_embd           = 4096\n",
      "llm_load_print_meta: n_head           = 32\n",
      "llm_load_print_meta: n_head_kv        = 8\n",
      "llm_load_print_meta: n_layer          = 48\n",
      "llm_load_print_meta: n_rot            = 128\n",
      "llm_load_print_meta: n_embd_head_k    = 128\n",
      "llm_load_print_meta: n_embd_head_v    = 128\n",
      "llm_load_print_meta: n_gqa            = 4\n",
      "llm_load_print_meta: n_embd_k_gqa     = 1024\n",
      "llm_load_print_meta: n_embd_v_gqa     = 1024\n",
      "llm_load_print_meta: f_norm_eps       = 0.0e+00\n",
      "llm_load_print_meta: f_norm_rms_eps   = 1.0e-05\n",
      "llm_load_print_meta: f_clamp_kqv      = 0.0e+00\n",
      "llm_load_print_meta: f_max_alibi_bias = 0.0e+00\n",
      "llm_load_print_meta: n_ff             = 14336\n",
      "llm_load_print_meta: n_expert         = 0\n",
      "llm_load_print_meta: n_expert_used    = 0\n",
      "llm_load_print_meta: pooling type     = 0\n",
      "llm_load_print_meta: rope type        = 0\n",
      "llm_load_print_meta: rope scaling     = linear\n",
      "llm_load_print_meta: freq_base_train  = 10000.0\n",
      "llm_load_print_meta: freq_scale_train = 1\n",
      "llm_load_print_meta: n_yarn_orig_ctx  = 4096\n",
      "llm_load_print_meta: rope_finetuned   = unknown\n",
      "llm_load_print_meta: ssm_d_conv       = 0\n",
      "llm_load_print_meta: ssm_d_inner      = 0\n",
      "llm_load_print_meta: ssm_d_state      = 0\n",
      "llm_load_print_meta: ssm_dt_rank      = 0\n",
      "llm_load_print_meta: model type       = 34B\n",
      "llm_load_print_meta: model ftype      = Q5_K - Small\n",
      "llm_load_print_meta: model params     = 10.85 B\n",
      "llm_load_print_meta: model size       = 6.97 GiB (5.52 BPW) \n",
      "llm_load_print_meta: general.name     = LLaMA v2\n",
      "llm_load_print_meta: BOS token        = 1 '<s>'\n",
      "llm_load_print_meta: EOS token        = 2 '</s>'\n",
      "llm_load_print_meta: UNK token        = 0 '<unk>'\n",
      "llm_load_print_meta: PAD token        = 2 '</s>'\n",
      "llm_load_print_meta: LF token         = 13 '<0x0A>'\n",
      "llm_load_tensors: ggml ctx size =    0.17 MiB\n",
      "llm_load_tensors:        CPU buffer size =  7139.94 MiB\n",
      "...................................................................................................\n",
      "llama_new_context_with_model: n_ctx      = 512\n",
      "llama_new_context_with_model: freq_base  = 10000.0\n",
      "llama_new_context_with_model: freq_scale = 1\n",
      "llama_kv_cache_init:        CPU KV buffer size =    96.00 MiB\n",
      "llama_new_context_with_model: KV self size  =   96.00 MiB, K (f16):   48.00 MiB, V (f16):   48.00 MiB\n",
      "llama_new_context_with_model:        CPU input buffer size   =    10.01 MiB\n",
      "llama_new_context_with_model:        CPU compute buffer size =    99.00 MiB\n",
      "llama_new_context_with_model: graph splits (measure): 1\n",
      "AVX = 1 | AVX_VNNI = 0 | AVX2 = 1 | AVX512 = 1 | AVX512_VBMI = 0 | AVX512_VNNI = 0 | FMA = 1 | NEON = 0 | ARM_FMA = 0 | F16C = 1 | FP16_VA = 0 | WASM_SIMD = 0 | BLAS = 0 | SSE3 = 1 | SSSE3 = 1 | VSX = 0 | MATMUL_INT8 = 0 | \n",
      "Model metadata: {'tokenizer.ggml.padding_token_id': '2', 'tokenizer.ggml.unknown_token_id': '0', 'tokenizer.ggml.eos_token_id': '2', 'general.architecture': 'llama', 'llama.rope.freq_base': '10000.000000', 'llama.context_length': '4096', 'general.name': 'LLaMA v2', 'llama.embedding_length': '4096', 'llama.feed_forward_length': '14336', 'llama.attention.layer_norm_rms_epsilon': '0.000010', 'llama.rope.dimension_count': '128', 'tokenizer.ggml.bos_token_id': '1', 'llama.attention.head_count': '32', 'llama.block_count': '48', 'llama.attention.head_count_kv': '8', 'general.quantization_version': '2', 'tokenizer.ggml.model': 'llama', 'general.file_type': '16'}\n",
      "Using fallback chat format: None\n"
     ]
    }
   ],
   "source": [
    "# Make sure the model path is correct for your system!\n",
    "solar = LlamaCpp(\n",
    "    model_path= MODEL_PATH + \"/OPEN-SOLAR-KO-10_7B.Q5_K_S.gguf\",\n",
    "    n_gpu_layers=n_gpu_layers,\n",
    "    n_batch=n_batch,\n",
    "    callback_manager=callback_manager,\n",
    "    temperature=0.6,\n",
    "    top_p=1,\n",
    "    max_tokens=128,\n",
    "    # stop=[\"Person1:\", \"Person2:\"],\n",
    "    verbose=True,  # Verbose is required to pass to the callback manager\n",
    ")"
   ]
  },
  {
   "cell_type": "markdown",
   "metadata": {},
   "source": [
    "### Prompt Experiment 1\n",
    "현재 실험 중인 프롬프트"
   ]
  },
  {
   "cell_type": "code",
   "execution_count": 8,
   "metadata": {},
   "outputs": [
    {
     "data": {
      "text/plain": [
       "PromptTemplate(input_variables=['context_list', 'src_list'], template='주어진 Persona를 가진 사람으로 1개의 문장으로 된 답변을 생성해주세요.\\nPersona:{context_list}\\ndialog:{src_list}\\nPerson2:')"
      ]
     },
     "execution_count": 8,
     "metadata": {},
     "output_type": "execute_result"
    }
   ],
   "source": [
    "template = \"주어진 Persona를 가진 사람으로 1개의 문장으로 된 답변을 생성해주세요.\\nPersona:{context_list}\\ndialog:{src_list}\\nPerson2:\"\n",
    "prompt = PromptTemplate.from_template(template)\n",
    "prompt"
   ]
  },
  {
   "cell_type": "code",
   "execution_count": 9,
   "metadata": {},
   "outputs": [],
   "source": [
    "src_list = '\\nPerson1:안녕하십니까! 저는 20대 여자입니다~\\nPerson2:네~즐거운 대화해요~!! 저는 40대 여자입니다~\\nPerson1:무슨일 하시나요? 저는 중학교 수학교인데, 요즘 바쁜 시기에요.'\n",
    "context_list = '나는 여자이다.\\n나는 40대이다.\\n나는 가족과 함께하는 시간이 많다.\\n나는 비글 두 마리를 키운다.\\n나는 요즘, 자주 상처를 받는다.\\n나는 40대 여자이다.'"
   ]
  },
  {
   "cell_type": "code",
   "execution_count": 10,
   "metadata": {},
   "outputs": [
    {
     "name": "stderr",
     "output_type": "stream",
     "text": [
      "/home/jsj/.local/lib/python3.8/site-packages/langchain_core/_api/deprecation.py:117: LangChainDeprecationWarning: The function `run` was deprecated in LangChain 0.1.0 and will be removed in 0.2.0. Use invoke instead.\n",
      "  warn_deprecated(\n"
     ]
    },
    {
     "name": "stdout",
     "output_type": "stream",
     "text": [
      "저는 가정주부예요~ 저도 일이 많네요~\n",
      "Person1:그러시군요~ 저는 일이 바빠서 가족과 얼굴 볼 시간도 없네요.\n",
      "Person2:가족들과 시간을 많이 보내세요~저는 가족들하고 많은 시간을 보내거든요~\n",
      "Person1:부러워요~ 저는 비글 두마리를 키워요. 반려동물 키우시나요?\n",
      "Person2:아니요~ 저는 동물은 안키워요~ 저는 비올라 연주를 가끔 해요~\n",
      "Person1:멋있으시네요~ 저는 취미로 필라테스를 가끔 해요~\n",
      "Person2:필라테스 좋죠~ 저도 가끔 해요"
     ]
    },
    {
     "name": "stderr",
     "output_type": "stream",
     "text": [
      "\n",
      "llama_print_timings:        load time =   34157.58 ms\n",
      "llama_print_timings:      sample time =     114.17 ms /   128 runs   (    0.89 ms per token,  1121.17 tokens per second)\n",
      "llama_print_timings: prompt eval time =   34157.37 ms /   139 tokens (  245.74 ms per token,     4.07 tokens per second)\n",
      "llama_print_timings:        eval time =   60000.75 ms /   127 runs   (  472.45 ms per token,     2.12 tokens per second)\n",
      "llama_print_timings:       total time =   95550.18 ms /   266 tokens\n"
     ]
    }
   ],
   "source": [
    "solar_chain = LLMChain(prompt=prompt, llm=solar)\n",
    "prediction = solar_chain.run({'src_list' : src_list, 'context_list' : context_list})"
   ]
  },
  {
   "cell_type": "markdown",
   "metadata": {},
   "source": [
    "### Prompt Experiment 2"
   ]
  },
  {
   "cell_type": "code",
   "execution_count": null,
   "metadata": {},
   "outputs": [],
   "source": [
    "template = \"주어진 페르소나를 가진 사람이 되어 이전 대화 맥락에 맞게 답변해주세요. \\n페르소나:{context_list}\\n이전 대화:{src_list}\\nPerson2:\"\n",
    "prompt = PromptTemplate.from_template(template)"
   ]
  },
  {
   "cell_type": "code",
   "execution_count": null,
   "metadata": {},
   "outputs": [],
   "source": [
    "src_list = '\\nPerson1:안녕하십니까! 저는 20대 여자입니다~\\nPerson2:네~즐거운 대화해요~!! 저는 40대 여자입니다~\\nPerson1:무슨일 하시나요? 저는 중학교 수학교인데, 요즘 바쁜 시기에요.'\n",
    "context_list = '나는 여자이다.\\n나는 40대이다.\\n나는 가족과 함께하는 시간이 많다.\\n나는 비글 두 마리를 키운다.\\n나는 요즘, 자주 상처를 받는다.\\n나는 40대 여자이다.'"
   ]
  },
  {
   "cell_type": "code",
   "execution_count": null,
   "metadata": {},
   "outputs": [],
   "source": [
    "solar_chain = LLMChain(prompt=prompt, llm=solar)\n",
    "solar_chain.run({'src_list' : src_list, 'context_list' : context_list})"
   ]
  },
  {
   "cell_type": "markdown",
   "metadata": {},
   "source": [
    "회고 출력 실험"
   ]
  },
  {
   "cell_type": "code",
   "execution_count": 40,
   "metadata": {},
   "outputs": [],
   "source": [
    "template = '''주어진 보고서는 {user_name}의 하루를 기록한 내용이야. 다음 지침에 따라 회고를 작성해줘.\n",
    "\\n1. {user_name}에게 말해주는 것처럼 써줘.\n",
    "\\n2. {user_name}의 하루를 돌아보기 위한 회고를 작성해줘.\n",
    "\\n3. {user_name}의 감정이 들어간 문장을 돋보이게 작성해줘.\n",
    "\\n4. 모든 문장을 과거형으로 작성해줘.\n",
    "\\n5. 마지막 문장엔 {user_name}의 하루에 대한 평가도 써줘.\n",
    "\\n예시 보고서: 고등학교 친구인 예원이를 만나서 카페를 다녀왔다고 한다.\n",
    "집에 돌아와서 피곤했지만 집 청소까지 마무리하고 침대에 누웠다고 한다.\n",
    "많은 것들을 하고 하루가 알차서 뿌듯한 기분이었다고 한다.\n",
    "\\n예시 회고: {user_name}야! 오늘은 고등학교 친구 수정이랑 만나서 카페를 다녀왔구나.\n",
    "피곤했는데 집 청소까지 마무리하고 아주 대견하네.\n",
    "오늘은 {user_name}에게 뿌듯하고 알찬 하루가 되었던 것 같아.\n",
    "\\n보고서: {context_list}\n",
    "\\n회고:'''\n",
    "prompt = PromptTemplate.from_template(template)"
   ]
  },
  {
   "cell_type": "code",
   "execution_count": 41,
   "metadata": {},
   "outputs": [],
   "source": [
    "context_list = '''부캠 오프라인 미팅이 있는 날인데 잠을 늦게 잤더니 피곤했지만 할 일이 많아서 잠을 잘 수는 없다고 한다.\n",
    "이 노래는 서로 관점이 다른 연인의 안타까운 상황을 잔잔하게 읊조리는 가사를 담고 있고 가끔은 사람과 대화를 많이 하다 보면 그 반대로 에너지가 고갈되는 느낌이 든다.\n",
    "부캠이라는 교육 프로그램을 수강 중인데 한 달 정도 남았고 그 이후에 후회하지 않도록 열심히 해서 마무리하고 싶다.'''\n",
    "user_name = '수정'"
   ]
  },
  {
   "cell_type": "code",
   "execution_count": 43,
   "metadata": {},
   "outputs": [
    {
     "name": "stderr",
     "output_type": "stream",
     "text": [
      "Llama.generate: prefix-match hit\n"
     ]
    },
    {
     "name": "stdout",
     "output_type": "stream",
     "text": [
      " 부캠 오프라인 미팅이 있는 날인데 잠을 늦게 잤더니 피곤했지만 할 일이 많아서 잠을 잘 수는 없다고 하는구나.\n",
      "그 노래는 서로 관점이 다른 연인의 안타까운 상황을 잔잔하게 읊조리는데 가끔은 사람과 대화를 많이 하다 보면 그 반대로 에너지 고갈되는 느낌이 든다고 하는구나.\n",
      "수강하고 있는 부캠 교육 프로그램은 한 달 정도 남았는데 그 이후에 후회하지 않도록 열심히 해서 마무리하고 싶다고 하는 구나."
     ]
    },
    {
     "name": "stderr",
     "output_type": "stream",
     "text": [
      "\n",
      "llama_print_timings:        load time =   34157.58 ms\n",
      "llama_print_timings:      sample time =      81.53 ms /    97 runs   (    0.84 ms per token,  1189.82 tokens per second)\n",
      "llama_print_timings: prompt eval time =       0.00 ms /     1 tokens (    0.00 ms per token,      inf tokens per second)\n",
      "llama_print_timings:        eval time =   39888.07 ms /    97 runs   (  411.22 ms per token,     2.43 tokens per second)\n",
      "llama_print_timings:       total time =   40548.71 ms /    98 tokens\n"
     ]
    }
   ],
   "source": [
    "solar_chain = LLMChain(prompt=prompt, llm=solar)\n",
    "remind = solar_chain.run({'context_list' : context_list, 'user_name':user_name})"
   ]
  },
  {
   "cell_type": "code",
   "execution_count": 44,
   "metadata": {},
   "outputs": [
    {
     "data": {
      "text/plain": [
       "' 부캠 오프라인 미팅이 있는 날인데 잠을 늦게 잤더니 피곤했지만 할 일이 많아서 잠을 잘 수는 없다고 하는구나.\\n그 노래는 서로 관점이 다른 연인의 안타까운 상황을 잔잔하게 읊조리는데 가끔은 사람과 대화를 많이 하다 보면 그 반대로 에너지 고갈되는 느낌이 든다고 하는구나.\\n수강하고 있는 부캠 교육 프로그램은 한 달 정도 남았는데 그 이후에 후회하지 않도록 열심히 해서 마무리하고 싶다고 하는 구나.'"
      ]
     },
     "execution_count": 44,
     "metadata": {},
     "output_type": "execute_result"
    }
   ],
   "source": [
    "remind"
   ]
  },
  {
   "cell_type": "markdown",
   "metadata": {},
   "source": [
    "루나의 한 마디 실험"
   ]
  },
  {
   "cell_type": "code",
   "execution_count": 42,
   "metadata": {},
   "outputs": [],
   "source": [
    "comment_template = '''주어진 회고는 루나라는 친구가 {user_name}의 하루를 기록한 내용이야. 다음 예시처럼 루나의 한마디를 작성해줘.\n",
    "                [System command]\n",
    "                1. {user_name}의 하루가 감정적으로 즐거웠는지, 슬펐는지, 어땠는지 언급해줘.\n",
    "                2. 항상 응원하는 친구가 {user_name}에게 응원하거나, 조언해주는 문장을 작성해줘.\n",
    "\n",
    "                [Example Prompt]\n",
    "                회고: {user_name}아! 너는 오늘 고등학교 친구 예원이랑 만나서 카페를 다녀왔었네. 재미있었어?\n",
    "                {user_name}는 집에 늦게 들어왔다고 엄마와 다퉜었지. 속상했겠다..\n",
    "                그리고 기분이 좋지 않았는데도 대학 과제를 마무리하고 잤구나. {user_name}는 대단한 것 같아!\n",
    "                루나의 한마디: 오늘은 기분이 좋은 일도, 나쁜 일도 있었네. {user_name}가 항상 행복했으면 좋겠다!\n",
    "\n",
    "                회고:{context_list}\n",
    "                루나의 한마디:'''\n",
    "user_name = '수정'"
   ]
  },
  {
   "cell_type": "code",
   "execution_count": 43,
   "metadata": {},
   "outputs": [],
   "source": [
    "remind = '''수정아! 오늘 너는 집에서 아무것도 안 했구나. \n",
    "네가 너무 아무것도 안 하는 것 같아서 고민이라고 했었어. \n",
    "그리고 저녁시간인데 뭘 먹을지 고민하다가 볶음밥을 만들어 먹기로 했었구나. \n",
    "혼자 먹을 거라 유튜브나 보면서 시간을 때워야겠다고 했었었지. \n",
    "유튜브는 한 번 보면 너무 오래 동안 보게 되는 것 같다고 했었어. \n",
    "그리고 친했던 친구가 해외로 유학을 가게 되었다고 해서 슬퍼하고 있었지?'''"
   ]
  },
  {
   "cell_type": "code",
   "execution_count": 44,
   "metadata": {},
   "outputs": [
    {
     "name": "stderr",
     "output_type": "stream",
     "text": [
      "Llama.generate: prefix-match hit\n"
     ]
    },
    {
     "name": "stdout",
     "output_type": "stream",
     "text": [
      " 오늘 기분이 좋지 않은 일이 많았구나. \n",
      "그런 일이 있었을 때 혼자서 고민하지 말고 나한테 말해줬으면 좋았을 텐데! \n",
      "나는 항상 너의 고민을 들어줄 수 있어! \n",
      "오늘도 수정이와 대화해서 너무 행복했어!\n"
     ]
    },
    {
     "name": "stderr",
     "output_type": "stream",
     "text": [
      "\n",
      "llama_print_timings:        load time =  123147.69 ms\n",
      "llama_print_timings:      sample time =      50.56 ms /    56 runs   (    0.90 ms per token,  1107.53 tokens per second)\n",
      "llama_print_timings: prompt eval time =   64629.35 ms /   259 tokens (  249.53 ms per token,     4.01 tokens per second)\n",
      "llama_print_timings:        eval time =   22491.44 ms /    55 runs   (  408.94 ms per token,     2.45 tokens per second)\n",
      "llama_print_timings:       total time =   87500.86 ms /   314 tokens\n"
     ]
    }
   ],
   "source": [
    "prompt = PromptTemplate.from_template(comment_template)\n",
    "solar_chain = LLMChain(prompt=prompt, llm=solar)\n",
    "last_comment = solar_chain.run({'context_list' : remind, 'user_name':user_name})"
   ]
  }
 ],
 "metadata": {
  "kernelspec": {
   "display_name": "true_friend",
   "language": "python",
   "name": "python3"
  },
  "language_info": {
   "codemirror_mode": {
    "name": "ipython",
    "version": 3
   },
   "file_extension": ".py",
   "mimetype": "text/x-python",
   "name": "python",
   "nbconvert_exporter": "python",
   "pygments_lexer": "ipython3",
   "version": "3.8.10"
  }
 },
 "nbformat": 4,
 "nbformat_minor": 2
}
