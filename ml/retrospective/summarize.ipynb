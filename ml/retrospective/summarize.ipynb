{
 "cells": [
  {
   "cell_type": "code",
   "execution_count": 1,
   "metadata": {},
   "outputs": [
    {
     "name": "stderr",
     "output_type": "stream",
     "text": [
      "/home/jsj/.local/lib/python3.8/site-packages/tqdm/auto.py:21: TqdmWarning: IProgress not found. Please update jupyter and ipywidgets. See https://ipywidgets.readthedocs.io/en/stable/user_install.html\n",
      "  from .autonotebook import tqdm as notebook_tqdm\n"
     ]
    }
   ],
   "source": [
    "from transformers import AutoTokenizer, BartForConditionalGeneration\n",
    "\n",
    "model_name = \"alaggung/bart-r3f\"\n",
    "max_length = 64\n",
    "num_beams = 5\n",
    "length_penalty = 1.2"
   ]
  },
  {
   "cell_type": "code",
   "execution_count": 2,
   "metadata": {},
   "outputs": [
    {
     "data": {
      "text/plain": [
       "BartForConditionalGeneration(\n",
       "  (model): BartModel(\n",
       "    (shared): Embedding(4000, 512, padding_idx=0)\n",
       "    (encoder): BartEncoder(\n",
       "      (embed_tokens): Embedding(4000, 512, padding_idx=0)\n",
       "      (embed_positions): BartLearnedPositionalEmbedding(514, 512)\n",
       "      (layers): ModuleList(\n",
       "        (0-5): 6 x BartEncoderLayer(\n",
       "          (self_attn): BartSdpaAttention(\n",
       "            (k_proj): Linear(in_features=512, out_features=512, bias=True)\n",
       "            (v_proj): Linear(in_features=512, out_features=512, bias=True)\n",
       "            (q_proj): Linear(in_features=512, out_features=512, bias=True)\n",
       "            (out_proj): Linear(in_features=512, out_features=512, bias=True)\n",
       "          )\n",
       "          (self_attn_layer_norm): LayerNorm((512,), eps=1e-05, elementwise_affine=True)\n",
       "          (activation_fn): GELUActivation()\n",
       "          (fc1): Linear(in_features=512, out_features=2048, bias=True)\n",
       "          (fc2): Linear(in_features=2048, out_features=512, bias=True)\n",
       "          (final_layer_norm): LayerNorm((512,), eps=1e-05, elementwise_affine=True)\n",
       "        )\n",
       "      )\n",
       "      (layernorm_embedding): LayerNorm((512,), eps=1e-05, elementwise_affine=True)\n",
       "    )\n",
       "    (decoder): BartDecoder(\n",
       "      (embed_tokens): Embedding(4000, 512, padding_idx=0)\n",
       "      (embed_positions): BartLearnedPositionalEmbedding(514, 512)\n",
       "      (layers): ModuleList(\n",
       "        (0-5): 6 x BartDecoderLayer(\n",
       "          (self_attn): BartSdpaAttention(\n",
       "            (k_proj): Linear(in_features=512, out_features=512, bias=True)\n",
       "            (v_proj): Linear(in_features=512, out_features=512, bias=True)\n",
       "            (q_proj): Linear(in_features=512, out_features=512, bias=True)\n",
       "            (out_proj): Linear(in_features=512, out_features=512, bias=True)\n",
       "          )\n",
       "          (activation_fn): GELUActivation()\n",
       "          (self_attn_layer_norm): LayerNorm((512,), eps=1e-05, elementwise_affine=True)\n",
       "          (encoder_attn): BartSdpaAttention(\n",
       "            (k_proj): Linear(in_features=512, out_features=512, bias=True)\n",
       "            (v_proj): Linear(in_features=512, out_features=512, bias=True)\n",
       "            (q_proj): Linear(in_features=512, out_features=512, bias=True)\n",
       "            (out_proj): Linear(in_features=512, out_features=512, bias=True)\n",
       "          )\n",
       "          (encoder_attn_layer_norm): LayerNorm((512,), eps=1e-05, elementwise_affine=True)\n",
       "          (fc1): Linear(in_features=512, out_features=2048, bias=True)\n",
       "          (fc2): Linear(in_features=2048, out_features=512, bias=True)\n",
       "          (final_layer_norm): LayerNorm((512,), eps=1e-05, elementwise_affine=True)\n",
       "        )\n",
       "      )\n",
       "      (layernorm_embedding): LayerNorm((512,), eps=1e-05, elementwise_affine=True)\n",
       "    )\n",
       "  )\n",
       "  (lm_head): Linear(in_features=512, out_features=4000, bias=False)\n",
       ")"
      ]
     },
     "execution_count": 2,
     "metadata": {},
     "output_type": "execute_result"
    }
   ],
   "source": [
    "tokenizer = AutoTokenizer.from_pretrained(model_name)\n",
    "model = BartForConditionalGeneration.from_pretrained(model_name)\n",
    "model.eval()"
   ]
  },
  {
   "cell_type": "markdown",
   "metadata": {},
   "source": [
    "1. multi-turn"
   ]
  },
  {
   "cell_type": "code",
   "execution_count": 3,
   "metadata": {},
   "outputs": [
    {
     "name": "stdout",
     "output_type": "stream",
     "text": [
      "부캠 오프라인 미팅이 있는 날인데 잠을 늦게 자서 피곤하다.\n"
     ]
    }
   ],
   "source": [
    "dialogue = [\"오늘은 너무 피곤한 하루였어.\",\n",
    "\"무슨 일이 있었어?\",\n",
    "\"부캠 오프라인 미팅이 있는 날인데, 어제 잠을 늦게 잤더니 피곤해..\",\n",
    "\"잠을 늦게 자서 피곤하구나. 피곤할 때는 잠을 자는 걸 추천해!\",\n",
    "\"지금 잠을 잘 수는 없잖아? 잠깐 산책하고와서 잠 좀 깨야겠다.\",\n",
    "\"산책을 하는 것도 잠을 깨기 좋은 수단이지! 내가 도와줄 수 있는 게 있으면 언제든 이야기해줘!\",\n",
    "\"지금 잠깐 산책을 다녀왔는데 날씨가 화창하더라\",\n",
    "\"날씨가 맑은 날에는 별을 잘 볼 수 있어서 좋아! 피곤한 날에는 별을 보면서 산책을 하는 건 어때?\",\n",
    "\"나는 별로 별 보는 거 안 좋아하는데? 집에서 게임하는게 좋아.\",\n",
    "\"게임하는 것도 물론 재미있지! 어떤 게임을 좋아하니?\",\n",
    "\"스팀 인디게임을 좋아해. 그 중에서 제일 재밌는 건 역시 마이타임앳샌드록인 것 같아.\",\n",
    "\"정말 재밌겠다!\"]\n",
    "dialogue_input = \"[BOS]\" + \"[SEP]\".join(dialogue) + \"[EOS]\"\n",
    "\n",
    "inputs = tokenizer(dialogue_input, return_tensors=\"pt\")\n",
    "outputs = model.generate(\n",
    "    inputs.input_ids,\n",
    "    attention_mask=inputs.attention_mask,\n",
    "    num_beams=num_beams,\n",
    "    length_penalty=length_penalty,\n",
    "    max_length=max_length,\n",
    "    use_cache=True,\n",
    ")\n",
    "summarization = tokenizer.decode(outputs[0], skip_special_tokens=True)\n",
    "\n",
    "print(summarization)"
   ]
  },
  {
   "cell_type": "markdown",
   "metadata": {},
   "source": [
    "12 turn대화 → 앞의 몇개만 요약해준다.."
   ]
  },
  {
   "cell_type": "markdown",
   "metadata": {},
   "source": [
    "2. "
   ]
  },
  {
   "cell_type": "code",
   "execution_count": null,
   "metadata": {},
   "outputs": [],
   "source": [
    "dialogue = [\"오늘은 너무 피곤한 하루였어.\",\n",
    "\"무슨 일이 있었어?\",\n",
    "\"부캠 오프라인 미팅이 있는 날인데, 어제 잠을 늦게 잤더니 피곤해..\",\n",
    "\"잠을 늦게 자서 피곤하구나. 피곤할 때는 잠을 자는 걸 추천해!\",\n",
    "\"지금 잠을 잘 수는 없잖아? 잠깐 산책하고와서 잠 좀 깨야겠다.\",\n",
    "]\n",
    "dialogue_input = \"[BOS]\" + \"[SEP]\".join(dialogue) + \"[EOS]\"\n",
    "\n",
    "inputs = tokenizer(dialogue_input, return_tensors=\"pt\")\n",
    "outputs = model.generate(\n",
    "    inputs.input_ids,\n",
    "    attention_mask=inputs.attention_mask,\n",
    "    num_beams=num_beams,\n",
    "    length_penalty=length_penalty,\n",
    "    max_length=max_length,\n",
    "    use_cache=True,\n",
    ")\n",
    "summarization = tokenizer.decode(outputs[0], skip_special_tokens=True)\n",
    "\n",
    "print(summarization)"
   ]
  },
  {
   "cell_type": "markdown",
   "metadata": {},
   "source": [
    "적절한 길이, 같은 주제의 대화만 넣었을 땐 더 상세히 요약해주었다."
   ]
  },
  {
   "cell_type": "markdown",
   "metadata": {},
   "source": [
    "3."
   ]
  },
  {
   "cell_type": "code",
   "execution_count": null,
   "metadata": {},
   "outputs": [],
   "source": [
    "dialogue = [\"지금 잠깐 산책을 다녀왔는데 날씨가 화창하더라\",\n",
    "\"날씨가 맑은 날에는 별을 잘 볼 수 있어서 좋아! 피곤한 날에는 별을 보면서 산책을 하는 건 어때?\",\n",
    "\"나는 별로 별 보는 거 안 좋아하는데? 집에서 게임하는게 좋아.\",\n",
    "\"게임하는 것도 물론 재미있지! 어떤 게임을 좋아하니?\",\n",
    "\"스팀 인디게임을 좋아해. 그 중에서 제일 재밌는 건 역시 마이타임앳샌드록인 것 같아.\",\n",
    "\"정말 재밌겠다!\"\n",
    "]\n",
    "dialogue_input = \"[BOS]\" + \"[SEP]\".join(dialogue) + \"[EOS]\"\n",
    "\n",
    "inputs = tokenizer(dialogue_input, return_tensors=\"pt\")\n",
    "outputs = model.generate(\n",
    "    inputs.input_ids,\n",
    "    attention_mask=inputs.attention_mask,\n",
    "    num_beams=num_beams,\n",
    "    length_penalty=length_penalty,\n",
    "    max_length=max_length,\n",
    "    use_cache=True,\n",
    ")\n",
    "summarization = tokenizer.decode(outputs[0], skip_special_tokens=True)\n",
    "\n",
    "print(summarization)"
   ]
  },
  {
   "cell_type": "markdown",
   "metadata": {},
   "source": [
    "좋고 싫은 것에 대한 내용도 요약에 포함된다."
   ]
  },
  {
   "cell_type": "markdown",
   "metadata": {},
   "source": [
    "챗봇 / 사용자와의 대화를 요약할 때, 회고를 만들려면 사용자의 정보만 뽑아내야 한다."
   ]
  },
  {
   "cell_type": "markdown",
   "metadata": {},
   "source": [
    "*문제점 : 어떻게 해야 사용자만의 정보를 잘 뽑아낼 수 있을까?*\n",
    "- 그냥 대화 요약을 해버리면, 사용자와 챗봇의 정보를 구분하지 못한다.\n",
    "- 사용자의 대화만 넣는다면? -> 챗봇이 물어본 질문에 사용자가 응답을 한 내용을 집어넣지 못한다.\n",
    "- 예) 챗봇 : 그 일이 재미있었어? 사용자 : 응. 그랬어. -> 이런 상황에서, 챗봇의 질문을 생략해버리면 어떠한 것에서 긍정답변을 했는지에 대한 정보가 손실된다."
   ]
  },
  {
   "cell_type": "markdown",
   "metadata": {},
   "source": [
    "-> 그냥 사용자의 대화만 넣기로"
   ]
  },
  {
   "cell_type": "markdown",
   "metadata": {},
   "source": [
    "Luna ver1 요약"
   ]
  },
  {
   "cell_type": "code",
   "execution_count": 13,
   "metadata": {},
   "outputs": [],
   "source": [
    "full_dialogue = []\n",
    "user_dialogue = []\n",
    "f = open(\"luna_ver1_2.txt\", 'r')\n",
    "cnt = 0\n",
    "while True:\n",
    "    cnt += 1\n",
    "    line = f.readline()\n",
    "    if not line: break\n",
    "    if cnt % 3 == 2:\n",
    "        full_dialogue.append(line.replace('\\n',''))\n",
    "    if cnt % 6 == 2: \n",
    "        user_dialogue.append(line.replace('\\n',''))\n",
    "f.close()"
   ]
  },
  {
   "cell_type": "markdown",
   "metadata": {},
   "source": [
    "유저 대화만 요약한 버전"
   ]
  },
  {
   "cell_type": "code",
   "execution_count": null,
   "metadata": {},
   "outputs": [],
   "source": [
    "user_dialogue"
   ]
  },
  {
   "cell_type": "code",
   "execution_count": 29,
   "metadata": {},
   "outputs": [],
   "source": [
    "import math\n",
    "user_dialogue_summary = []\n",
    "chunk_len = math.ceil(len(user_dialogue) / 5)"
   ]
  },
  {
   "cell_type": "code",
   "execution_count": 30,
   "metadata": {},
   "outputs": [
    {
     "name": "stdout",
     "output_type": "stream",
     "text": [
      "오늘은 집에서 아무것도 안 했는데 평소에도 너무 아무것도 안 하는 것 같아서 고민이라고 하자 새로운 걸 시도해 보려는 의욕도 나지 않는다고 한다.\n",
      "저녁시간인데 뭘 먹을지 고민하다가 볶음밥을 만들어 먹기로 했다.\n",
      "혼자 먹을 거라서 유튜브나 보면서 시간을 때워야겠다고 하자 유튜브는 한 번 보면 너무 오래 동안 보게 되는 것 같다고 한다.\n",
      "친했던 친구가 해외로 유학을 가게 되었다고 해서 슬퍼하고 있다.\n"
     ]
    }
   ],
   "source": [
    "for i in range(chunk_len):\n",
    "    dialogue_input = \"[BOS]\" + \"[SEP]\".join(user_dialogue[5*i:5*(i+1)]) + \"[EOS]\"\n",
    "    inputs = tokenizer(dialogue_input, return_tensors=\"pt\")\n",
    "    outputs = model.generate(\n",
    "        inputs.input_ids,\n",
    "        attention_mask=inputs.attention_mask,\n",
    "        num_beams=num_beams,\n",
    "        length_penalty=length_penalty,\n",
    "        max_length=max_length,\n",
    "        use_cache=True,\n",
    "    )\n",
    "    summarization = tokenizer.decode(outputs[0], skip_special_tokens=True)\n",
    "    user_dialogue_summary.append(summarization)\n",
    "    print(summarization)"
   ]
  },
  {
   "cell_type": "code",
   "execution_count": 25,
   "metadata": {},
   "outputs": [
    {
     "data": {
      "text/plain": [
       "19"
      ]
     },
     "execution_count": 25,
     "metadata": {},
     "output_type": "execute_result"
    }
   ],
   "source": [
    "len(user_dialogue)"
   ]
  },
  {
   "cell_type": "markdown",
   "metadata": {},
   "source": [
    "전체 대화를 요약한 버전"
   ]
  },
  {
   "cell_type": "code",
   "execution_count": null,
   "metadata": {},
   "outputs": [],
   "source": [
    "full_dialogue"
   ]
  },
  {
   "cell_type": "code",
   "execution_count": 17,
   "metadata": {},
   "outputs": [],
   "source": [
    "full_dialogue_summary = []\n",
    "chunk_len = len(full_dialogue) // 5"
   ]
  },
  {
   "cell_type": "code",
   "execution_count": 18,
   "metadata": {},
   "outputs": [
    {
     "name": "stdout",
     "output_type": "stream",
     "text": [
      "평소에도 너무 아무것도 안 하는 것 같아서 새로운 취미를 찾아보거나 새로운 곳을 여행하러 가는 것을 좋아한다.\n",
      "새로운 취미를 찾아보거나 새로운 곳을 여행하는 것을 좋아한다.\n",
      "요즘에는 개똥벌레라는 책을 감명 깊게 읽고 있었는데 책은 정말 감명 깊은 책이고 대화하면서 새로운 친구를 만들어 보는 것은 어떠냐고 하자 상대방이 너랑 친구가 되어서 너무 행복\n",
      "라면을 먹을지 볶음밥을 만들어 먹을지 고민하다가 볶음밥을 먹기로 결정했다.\n",
      "다양한 채널을 찾아보면서 즐거운 시간을 보낼 수 있을 것 같다.\n",
      "유튜브를 보면서도 시간을 제한하는 것을 실천하고 있다고 하자 시간을 정해두고 보는 방법도 좋은 것 같다고 한다.\n",
      "해외로 유학을 가게 되면 새로운 경험도 많이 할 수 있을 것이고 해외에서 잘 지내길 바라면서 새로운 추억을 만들어보자고 한다.\n"
     ]
    }
   ],
   "source": [
    "for i in range(chunk_len):\n",
    "    dialogue_input = \"[BOS]\" + \"[SEP]\".join(full_dialogue[5*i:5*(i+1)]) + \"[EOS]\"\n",
    "    inputs = tokenizer(dialogue_input, return_tensors=\"pt\")\n",
    "    outputs = model.generate(\n",
    "        inputs.input_ids,\n",
    "        attention_mask=inputs.attention_mask,\n",
    "        num_beams=num_beams,\n",
    "        length_penalty=length_penalty,\n",
    "        max_length=max_length,\n",
    "        use_cache=True,\n",
    "    )\n",
    "    summarization = tokenizer.decode(outputs[0], skip_special_tokens=True)\n",
    "    full_dialogue_summary.append(summarization)\n",
    "    print(summarization)"
   ]
  },
  {
   "cell_type": "markdown",
   "metadata": {},
   "source": [
    "결과"
   ]
  },
  {
   "cell_type": "markdown",
   "metadata": {},
   "source": [
    "전체 대화 요약 vs 사용자 대화 요약"
   ]
  },
  {
   "cell_type": "markdown",
   "metadata": {},
   "source": [
    "- 전체 대화 요약은 보다 매끄럽지만, 사용자와 챗봇의 정보 구별이 되지 않는다..\n",
    "- 사용자 대화 요약은 사용자의 정보만 들어가지만 정보 손실이 있기는 하다. \n",
    "- (optional) 사용자와 챗봇 정보 구별이 되는 요약 방법 찾기 "
   ]
  },
  {
   "cell_type": "markdown",
   "metadata": {},
   "source": [
    "세션 구분"
   ]
  },
  {
   "cell_type": "markdown",
   "metadata": {},
   "source": [
    "- 5턴 정도 묶어서 세션을 나누는 것이 가장 성능이 좋음\n",
    "- 같은 주제를 묶어서 구분하는 것이 가장 성능이 좋음\n",
    "- (optional) 주제를 구분해서 세션을 나눌 수 있는 방법 찾기"
   ]
  },
  {
   "cell_type": "markdown",
   "metadata": {},
   "source": [
    "적절한 input 최대길이 조사"
   ]
  },
  {
   "cell_type": "code",
   "execution_count": 45,
   "metadata": {},
   "outputs": [],
   "source": [
    "max_length = 250"
   ]
  },
  {
   "cell_type": "code",
   "execution_count": 94,
   "metadata": {},
   "outputs": [
    {
     "name": "stdout",
     "output_type": "stream",
     "text": [
      "부캠 오프라인 미팅이 있는 날인데 잠을 늦게 자서 피곤하다고 하자 잠을 잘 수는 없으니 잠깐 산책하고 와서 잠을 깨야겠다고 한다.\n"
     ]
    }
   ],
   "source": [
    "dialogue = [\"오늘은 너무 피곤한 하루였어.\",\n",
    "\"무슨 일이 있었어?\",\n",
    "\"부캠 오프라인 미팅이 있는 날인데, 어제 잠을 늦게 잤더니 피곤해..\",\n",
    "\"잠을 늦게 자서 피곤하구나. 피곤할 때는 잠을 자는 걸 추천해!\",\n",
    "\"지금 잠을 잘 수는 없잖아? 잠깐 산책하고와서 잠 좀 깨야겠다.\"]\n",
    "dialogue_input = \"[BOS]\" + \"[SEP]\".join(dialogue) + \"[EOS]\"\n",
    "\n",
    "inputs = tokenizer(dialogue_input, return_tensors=\"pt\")\n",
    "outputs = model.generate(\n",
    "    inputs.input_ids,\n",
    "    attention_mask=inputs.attention_mask,\n",
    "    num_beams=num_beams,\n",
    "    length_penalty=length_penalty,\n",
    "    max_length=max_length,\n",
    "    use_cache=True,\n",
    ")\n",
    "summarization = tokenizer.decode(outputs[0], skip_special_tokens=True)\n",
    "\n",
    "print(summarization)"
   ]
  },
  {
   "cell_type": "code",
   "execution_count": 98,
   "metadata": {},
   "outputs": [
    {
     "name": "stdout",
     "output_type": "stream",
     "text": [
      "부캠 오프라인 미팅이 있는 날인데 잠을 늦게 자서 피곤하고 밖에 태풍이 불어서 나가면 안 된다.\n"
     ]
    }
   ],
   "source": [
    "dialogue = [\"부캠 오프라인 미팅이 있는 날인데, 어제 잠을 늦게 잤더니 피곤해..\",\n",
    "\"잠을 늦게 자서 피곤하구나. 피곤할 때는 잠을 자는 걸 추천해!\",\n",
    "\"지금 잠을 잘 수는 없잖아? 잠깐 산책하고와서 잠 좀 깨야겠다.\",\n",
    "\"밖에 태풍이 불어서 나가면 안돼!!\",]\n",
    "dialogue_input = \"[BOS]\" + \"[SEP]\".join(dialogue) + \"[EOS]\"\n",
    "\n",
    "inputs = tokenizer(dialogue_input, return_tensors=\"pt\")\n",
    "outputs = model.generate(\n",
    "    inputs.input_ids,\n",
    "    attention_mask=inputs.attention_mask,\n",
    "    num_beams=num_beams,\n",
    "    length_penalty=length_penalty,\n",
    "    max_length=64,\n",
    "    use_cache=True,\n",
    ")\n",
    "summarization = tokenizer.decode(outputs[0], skip_special_tokens=True)\n",
    "\n",
    "print(summarization)"
   ]
  },
  {
   "cell_type": "code",
   "execution_count": 97,
   "metadata": {},
   "outputs": [
    {
     "name": "stdout",
     "output_type": "stream",
     "text": [
      "부캠 오프라인 미팅이 있는 날인데 잠을 늦게 자서 피곤하다고 하자 잠을 잘 수는 없으니 잠깐 산책하고 와서 잠을 깨야겠다고 한다.\n"
     ]
    }
   ],
   "source": [
    "dialogue = [\"부캠 오프라인 미팅이 있는 날인데, 어제 잠을 늦게 잤더니 피곤해..\",\n",
    "\"잠을 늦게 자서 피곤하구나. 피곤할 때는 잠을 자는 걸 추천해!\",\n",
    "\"지금 잠을 잘 수는 없잖아? 잠깐 산책하고와서 잠 좀 깨야겠다.\",]\n",
    "dialogue_input = \"[BOS]\" + \"[SEP]\".join(dialogue) + \"[EOS]\"\n",
    "\n",
    "inputs = tokenizer(dialogue_input, return_tensors=\"pt\")\n",
    "outputs = model.generate(\n",
    "    inputs.input_ids,\n",
    "    attention_mask=inputs.attention_mask,\n",
    "    num_beams=num_beams,\n",
    "    length_penalty=length_penalty,\n",
    "    max_length=64,\n",
    "    use_cache=True,\n",
    ")\n",
    "summarization = tokenizer.decode(outputs[0], skip_special_tokens=True)\n",
    "\n",
    "print(summarization)"
   ]
  },
  {
   "cell_type": "markdown",
   "metadata": {},
   "source": [
    "input 길이가 길면 정보 손실이 일어나는 것이 아니고, 같은 topic으로 잘 이어지는 문장까지만 요약을 해주는 것 같음.\n",
    "- 몇 턴까지 대화하는 것이 같은 주제로 묶이는가가 중요함\n",
    "- 그걸 알아내기 위해 주제 분류기를 앞에 붙이기는 어려우니, 차선책으로 window sliding 방식으로 적용해보려고 함."
   ]
  },
  {
   "cell_type": "markdown",
   "metadata": {},
   "source": [
    "1. window size = 5, stride 조절"
   ]
  },
  {
   "cell_type": "code",
   "execution_count": 180,
   "metadata": {},
   "outputs": [],
   "source": [
    "def read_dialogue(path):\n",
    "    user_dialogue = []\n",
    "    f = open(path, 'r')\n",
    "    cnt = 0\n",
    "    while True:\n",
    "        cnt += 1\n",
    "        line = f.readline()\n",
    "        if not line: break\n",
    "        if cnt % 6 == 2: \n",
    "            user_dialogue.append(line.replace('\\n',''))\n",
    "    f.close()\n",
    "    return user_dialogue"
   ]
  },
  {
   "cell_type": "code",
   "execution_count": 103,
   "metadata": {},
   "outputs": [
    {
     "data": {
      "text/plain": [
       "['오늘 차 진짜 막히네.. 원래도 출근 시간에 차가 막히긴 했는데 오늘은 역대급이야..',\n",
       " '난 내 차가 있어서 자차로 출퇴근해. 막히긴 해도 역시 차가 있는게 편하더라고.',\n",
       " '그치.. 서울엔 차도 엄청 많아서 정신없고 스트레스 받긴 하는데.. 주변 사람들이 차 타고 다니는거 보니까 차 안 사고는 못참겠더라..',\n",
       " '근데 솔직히 난 차 산거 후회 안 해. 이제 친구나 여자친구랑 놀러다닐 때도 뚜벅이 생활 안 해도 되거든 ㅋㅋ',\n",
       " '왜 그래? 내가 차 타고 다니는게 마음에 안 드니?',\n",
       " '너같이 꽉 막힌 사람이랑 대화하니까 오늘 날씨도 더 흐린 것 같이 느껴지네...',\n",
       " '지금 장난하니? 오늘 날씨 엄청 흐린데 뭐가 좋다는거니?',\n",
       " '오늘 날씨는 굉장히 안 좋아서 기분이 나쁘네.',\n",
       " '요즘 허리가 너무 아프다. 너도 건강 챙겨.',\n",
       " '최근에 헬스장을 다니기 시작했는데 확실히 건강해지는 것 같아서 꾸준히 하려고.',\n",
       " '아.. 피곤하다. 퇴근하고 집에 와선 역시 게임을 해야 스트레스가 풀려. FPS 종류가 제일 좋은 것 같아.',\n",
       " '다른 장르는 뭐가 재밌는지 잘 모르겠는데',\n",
       " '리듬 게임도 재밌겠네. 나중에 한 번 해볼게. 그럼 안녕~']"
      ]
     },
     "execution_count": 103,
     "metadata": {},
     "output_type": "execute_result"
    }
   ],
   "source": [
    "dialog"
   ]
  },
  {
   "cell_type": "code",
   "execution_count": 151,
   "metadata": {},
   "outputs": [],
   "source": [
    "dialog = [\"오늘은 가족이랑 저녁식사를 할 예정이야 부럽지?\",\n",
    "\"응! 엄마가 삼겹살을 좋아하셔서 삼겹살을 먹으러 갈 것 같아\",\n",
    "\"오랜만에 가족들이랑 식사하는 거라 기대된다!\",\n",
    "\"남자친구랑 곧 결혼을 할까 하는데, 저녁에 밥먹으면서 얘기할까봐. 어떤 것 같아?\",\n",
    "\"너한테는 주말에 얘기해줄게! 가족들한테는 저녁 먹으면서 결혼 얘기 해보려구 ㅎㅎ\",\n",
    "\"가족들이 내 남자친구를 어떻게 생각할지 잘 모르겠어. 사실 나랑 나이차이가 꽤 나거든.. \",\n",
    "\"남자친구가 나보다 8살 정도 연상인데, 정말 다정하고 능력도 좋은 사람이야.\",\n",
    "\"별로 그렇진 않아! 오히려 연상이 이해심이 깊어서 더 좋은 것 같기도 하고..\",\n",
    "\"이제 슬슬 저녁 먹으러 가봐야겠다! 나중에 또 봐~\",\n",
    "\"가족들이랑 얘기하다가 주식 얘기가 좀 나왔는데, 에휴.. 참 살만하지가 않네\",\n",
    "\"난 에너지 쪽 주식에 관심이 있는데 요즘 국제정세가 한창 어둡잖아. 그래서 걱정이야..\",\n",
    "\"전쟁으로 에너지 공급에 차질이 생기니까! 국제적으로 큰 문제가 되는거지\",\n",
    "\"그러게, 요즘 같은 시대에 아직도 이렇게 오랫동안 전쟁중이라는게 안믿겨지네. 러시아 전쟁은 언제쯤 끝날까?\",\n",
    "\"아 맞다. 나 최근에 패션 모델 제의 받았다? 지나가던 사람이 패션이 멋지다고 명함을 주고 갔지 뭐야.\",\n",
    "\"나도 요즘 취업 준비때문에 힘들어하고 있었는데, 이런 제의 받으니까 기분이 좋더라! 사실 나중에 한번 내 패션 브랜드를 만들어보고 싶기도 하고.. \",\n",
    "\"앗... 그 얘기 들으니 나도 내 꿈이 생각나네! 사실 나는 졸업하면 창업하고 싶어! 아직은 학생이라 시간이 많지만 나중에 창업하기 전에 미리 준비해놔야겠더라고..! 사실 요즘 주식도 조금씩 공부하고 있어! 너도 주식 해?\",\n",
    "\"응! 근데 요즘 주식 장이 안 좋아서.. 당분간은 안하고 지켜보려구 \",\n",
    "\"전에 패션 모델 제의 받았다는 거 기억나? 그쪽에서 연락을 줬어!\",\n",
    "\"그래서 이제 슬슬 나가봐야 할 것 같아! 다녀와서 다시 얘기해줄게~\",\n",
    "]"
   ]
  },
  {
   "cell_type": "code",
   "execution_count": 216,
   "metadata": {},
   "outputs": [],
   "source": [
    "import math\n",
    "def summarize(dialog, chunk_size, stride):\n",
    "    model_name = \"alaggung/bart-r3f\"\n",
    "    max_length = 128\n",
    "    num_beams = 5\n",
    "    length_penalty = 1.2\n",
    "    tokenizer = AutoTokenizer.from_pretrained(model_name)\n",
    "    model = BartForConditionalGeneration.from_pretrained(model_name)\n",
    "    model.eval()\n",
    "\n",
    "    dialog_summary = \"\"\n",
    "    for i in range(0, len(dialog), stride):\n",
    "        chunk = \"\".join(dialog[i:i + chunk_size])\n",
    "        dialog_input = \"[BOS]\" + \"[SEP]\" + chunk + \"[EOS]\"\n",
    "        inputs = tokenizer(dialog_input, return_tensors=\"pt\")\n",
    "        outputs = model.generate(\n",
    "            inputs.input_ids,\n",
    "            attention_mask=inputs.attention_mask,\n",
    "            num_beams=num_beams,\n",
    "            length_penalty=length_penalty,\n",
    "            max_length=max_length,\n",
    "            use_cache=True,\n",
    "        )\n",
    "        summarization = tokenizer.decode(outputs[0], skip_special_tokens=True)\n",
    "        dialog_summary = dialog_summary + \" \" + summarization\n",
    "    return dialog_summary[1:]"
   ]
  },
  {
   "cell_type": "code",
   "execution_count": 188,
   "metadata": {},
   "outputs": [],
   "source": [
    "dialog = read_dialogue('./dialog/dialog_history_3.txt')"
   ]
  },
  {
   "cell_type": "code",
   "execution_count": 189,
   "metadata": {},
   "outputs": [
    {
     "data": {
      "text/plain": [
       "['나 이제 고3이네.. 이제 곧 3월 모의고사도 있어. 3월 모의고사 성적이 수능 성적이라더라. 너무 긴장돼',\n",
       " '위로 고마워 ㅎㅎ.. 요즘은 친구들이랑 맨날 수능 얘기밖에 안 하는 것 같아. 곧 모의고사라 그런가?',\n",
       " '그치.. ㅠㅠ 요즘 쉴 때 가끔씩 유튜브에서 피어싱 영상을 찾아보다가 피어싱에 관심이 생겼어! 입술에 피어싱을 하는 거 어떻게 생각해?',\n",
       " '내가 아는 사람 얘기 들어보니까 입술에 피어싱하는게 그렇게 아프진 않대! 그리고 하면 예쁘지 않을까?',\n",
       " '근데 코로나 때문에 입술에 피어싱을 하더라도 마스크를 쓰느라 한 게 티가 안 날 것 같아서 걱정이야. 마스크는 대체 언제 벗을 수 있을까?',\n",
       " '정부에서 3월이면 마스크 해제 될 거라고 했었는데 감감 무소식이네.. 금방 끝났으면 좋겠는데ㅠㅠ',\n",
       " '언젠가는 마스크 벗는 날이 오겠지! 그 때 되면 입술 피어싱 해보려구',\n",
       " '그럼 다음에 봐~']"
      ]
     },
     "execution_count": 189,
     "metadata": {},
     "output_type": "execute_result"
    }
   ],
   "source": [
    "dialog"
   ]
  },
  {
   "cell_type": "code",
   "execution_count": 184,
   "metadata": {},
   "outputs": [
    {
     "name": "stdout",
     "output_type": "stream",
     "text": [
      " 출근 시간에 차가 막히긴 했는데 오늘은 역대급이라 차가 있는 게 편하긴 하지만 주변 사람들이 차를 타고 다니는 것을 보니 차를 안 사고는 못 참겠다.\n",
      "날씨가 좋은 날은 한강에서 치킨을 먹으면서 여유를 즐기면 좋을 텐데 운동을 안 하니까 체력이 계속 떨어져서 필라테스나 요가를 할까 생각 중이다.\n",
      "퇴근하고 집에 와서는 역시 게임을 해야 스트레스가 풀린다고 하자 요즘은 에프피에스(FPS) 게임이 제일 재미있다고 한다.\n"
     ]
    }
   ],
   "source": [
    "# stride 5, 5 chunk (기존과 동일)\n",
    "summary = summarize(dialog, 5, 5)\n",
    "print(summary)"
   ]
  },
  {
   "cell_type": "code",
   "execution_count": 185,
   "metadata": {},
   "outputs": [
    {
     "name": "stdout",
     "output_type": "stream",
     "text": [
      " 출근 시간에 차가 막히긴 했는데 오늘은 역대급이라 차가 있는 게 편하긴 하지만 주변 사람들이 차를 타고 다니는 것을 보니 차를 안 사고는 못 참겠다.\n",
      "날씨가 좋은 날은 한강에서 치킨을 먹으면서 여유를 즐기면 좋겠지만 운동을 안 하니까 체력이 계속 떨어져서 걷기만 해야겠다.\n",
      "퇴근하고 집에 와서는 역시 게임을 해야 스트레스가 풀려서 필라테스나 요가를 할까 생각 중이다.\n",
      "시간이 늦어서 이제 슬슬 가봐야겠다고 한다.\n"
     ]
    }
   ],
   "source": [
    "# stride 4, 5 chunk\n",
    "summary = summarize(dialog, 5, 4)\n",
    "print(summary)"
   ]
  },
  {
   "cell_type": "code",
   "execution_count": 170,
   "metadata": {},
   "outputs": [
    {
     "name": "stdout",
     "output_type": "stream",
     "text": [
      " 오늘 엄마가 삼겹살을 좋아하셔서 저녁식사를 할 예정이라고 하자 오랜만에 가족들이랑 식사하는 거라 기대된다고 한다.\n",
      "남자친구랑 곧 결혼을 하려고 하는데 저녁에 밥 먹으면서 얘기할까 하니 어떤 것 같냐고 묻자 가족들한테는 저녁 먹으면서 결혼 얘기해보겠다고 한다.\n",
      "남자친구가 8살 연상인데 정말 다정하고 능력도 좋은 사람이라고 하자 자기는 에너지 쪽 주식에 관심이 있는데 요즘 국제정세가 어두워서 걱정이라고 한다.\n",
      "가족들이랑 얘기하다가 주식 얘기가 나왔는데 요즘 국제정세가 한창 어두워서 걱정이다.\n",
      "요즘 같은 시대에도 오랫동안 전쟁 중이라는 게 믿겨지지 않는다.\n",
      "지금은 학생이라 시간이 많지만 나중에 창업하기 전에 미리 준비해놔야겠다고 하자 요즘 주식 장이 안 좋아서 당분간은 안 하고 지켜보려고 한다고 한다.\n",
      "이제 슬슬 나가봐야 할 것 같다고 하자 다녀와서 다시 이야기해 주겠다고 한다.\n"
     ]
    }
   ],
   "source": [
    "# stride 3, 5 chunk\n",
    "summary = summarize(dialog, 5, 3)\n",
    "print(summary)"
   ]
  },
  {
   "cell_type": "code",
   "execution_count": 171,
   "metadata": {},
   "outputs": [
    {
     "name": "stdout",
     "output_type": "stream",
     "text": [
      " 오늘 엄마가 삼겹살을 좋아하셔서 저녁식사를 할 예정이라고 하자 오랜만에 가족들이랑 식사하는 거라 기대된다고 한다.\n",
      "오랜만에 가족들이랑 식사하는 거라 기대된다고 하였다.\n",
      "가족들에게는 저녁 먹으면서 결혼 얘기를 해보려고 하는데 연상이 이해심이 깊어서 더 좋은 것 같기도 하고 슬슬 저녁을 먹으러 가봐야겠다.\n",
      "남자친구가 8살 연상인데 정말 다정하고 능력도 좋은 사람이라고 하자 자기는 에너지 쪽 주식에 관심이 있는데 요즘 국제정세가 어두워서 걱정이라고 한다.\n",
      "요즘 같은 시대에도 오랫동안 전쟁 중이라는 게 믿겨지지 않는다.\n",
      "에너지 쪽 주식에 관심이 있는데 요즘 국제정세가 한창 어두워서 걱정이고 러시아 전쟁은 언제쯤 끝날까 싶고 패션 브랜드를 만들어보고 싶기도 하다.\n",
      "요즘 같은 시대에도 오랫동안 전쟁 중이라는 게 믿겨지지 않는다.\n",
      "요즘 취업 준비 때문에 힘들어하고 있었는데 이런 제의를 받으니 기분이 좋다.\n",
      "주식 장이 안 좋아서 당분간은 안 하고 지켜보려고 한다.\n",
      "이제 슬슬 나가봐야 할 것 같다고 하자 다녀와서 다시 이야기해 주겠다고 한다.\n"
     ]
    }
   ],
   "source": [
    "# stride 2, 5 chunk\n",
    "summary = summarize(dialog, 5, 2)\n",
    "print(summary)"
   ]
  },
  {
   "cell_type": "code",
   "execution_count": 172,
   "metadata": {},
   "outputs": [
    {
     "name": "stdout",
     "output_type": "stream",
     "text": [
      " 오늘 엄마가 삼겹살을 좋아하셔서 저녁식사를 할 예정이라고 하자 오랜만에 가족들이랑 식사하는 거라 기대된다고 한다.\n",
      "엄마가 삼겹살을 좋아하셔서 삼겹살을 먹으러 갈 것 같아 오랜만에 가족들이랑 식사하는 거라 기대된다.\n",
      "오랜만에 가족들이랑 식사하는 거라 기대된다고 하였다.\n",
      "남자친구랑 곧 결혼을 하려고 하는데 저녁에 밥 먹으면서 얘기할까 하니 어떤 것 같냐고 묻자 가족들한테는 저녁 먹으면서 결혼 얘기해보겠다고 한다.\n",
      "가족들에게는 저녁 먹으면서 결혼 얘기를 해보려고 하는데 연상이 이해심이 깊어서 더 좋은 것 같기도 하고 슬슬 저녁을 먹으러 가봐야겠다.\n",
      "남자친구가 8살 정도 연상인데 다정하고 능력도 좋은 사람이라며 이제 슬슬 저녁 먹으러 가봐야겠다고 한다.\n",
      "남자친구가 8살 연상인데 정말 다정하고 능력도 좋은 사람이라고 하자 자기는 에너지 쪽 주식에 관심이 있는데 요즘 국제정세가 어두워서 걱정이라고 한다.\n",
      "연상이 이해심이 깊어서 더 좋은 것 같은데 요즘 국제정세가 한창 어두워서 걱정이다.\n",
      "요즘 같은 시대에도 오랫동안 전쟁 중이라는 게 믿겨지지 않는다.\n",
      "가족들이랑 얘기하다가 주식 얘기가 나왔는데 요즘 국제정세가 한창 어두워서 걱정이다.\n",
      "에너지 쪽 주식에 관심이 있는데 요즘 국제정세가 한창 어두워서 걱정이고 러시아 전쟁은 언제쯤 끝날까 싶고 패션 브랜드를 만들어보고 싶기도 하다.\n",
      "전쟁으로 에너지 공급에 차질이 생기니까 국제적으로 큰 문제가 되는 거라고 하자 자기는 취업 준비 때문에 힘들어하고 있었는데 나중에 창업하기 전에 미리 준비해놔야겠다고 한다.\n",
      "요즘 같은 시대에도 오랫동안 전쟁 중이라는 게 믿겨지지 않는다.\n",
      "요즘 취업 준비 때문에 힘들어하고 있었는데 패션 모델 제의를 받으니 기분이 좋다.\n",
      "요즘 취업 준비 때문에 힘들어하고 있었는데 이런 제의를 받으니 기분이 좋다.\n",
      "지금은 학생이라 시간이 많지만 나중에 창업하기 전에 미리 준비해놔야겠다고 하자 요즘 주식 장이 안 좋아서 당분간은 안 하고 지켜보려고 한다고 한다.\n",
      "주식 장이 안 좋아서 당분간은 안 하고 지켜보려고 한다.\n",
      "패션 모델을 제의받아서 이제 슬슬 나가봐야 할 것 같다고 하자 다녀와서 다시 이야기해 주겠다고 한다.\n",
      "이제 슬슬 나가봐야 할 것 같다고 하자 다녀와서 다시 이야기해 주겠다고 한다.\n"
     ]
    }
   ],
   "source": [
    "# stride 1, 5 chunk\n",
    "summary = summarize(dialog, 5, 1)\n",
    "print(summary)"
   ]
  },
  {
   "cell_type": "code",
   "execution_count": 211,
   "metadata": {},
   "outputs": [],
   "source": [
    "dialog = read_dialogue('./dialog/dialog_history_4.txt')"
   ]
  },
  {
   "cell_type": "code",
   "execution_count": 212,
   "metadata": {},
   "outputs": [
    {
     "data": {
      "text/plain": [
       "['출근 하는데 지각했어! 급하게 택시를 불렀는데 택시가 안 잡히네.. 어떡하지?',\n",
       " 'ㅠㅠ 어제 분명 알람 맞추고 잤는데 왜 못들었을까..',\n",
       " '너 지금 나 놀리니??',\n",
       " '하.. 이따 다시 얘기하자',\n",
       " '급하게 오느라 회사에 화장도 안 하고 왔네.. 항상 화장하는데 시간이 오래걸려서 고민이야',\n",
       " '내가 보기엔 화장은 희대의 사기야. 안 하면 무조건 손해보는 거라고. 이젠 화장을 안 한 내 모습이 내가 아닌 것 같기도 해',\n",
       " '그럼 이 모든 것이 화장품 회사의 계략이라는 거야?',\n",
       " '이제 점심 시간이다. 점심 뭐 먹을까? 햄버거?',\n",
       " '너도 햄버거 먹니?',\n",
       " '나는 맘스터치가서 싸이버거 사왔어~~',\n",
       " '국내에 한적하게 여행할 수 있는 곳이 어디가 있을까..',\n",
       " '조용한 국내 여행지 좀 추천해줘!',\n",
       " '부산보다 조용한 국내 여행지로',\n",
       " '에휴.. 됐다 그냥 내가 알아서 찾아갈게']"
      ]
     },
     "execution_count": 212,
     "metadata": {},
     "output_type": "execute_result"
    }
   ],
   "source": [
    "dialog"
   ]
  },
  {
   "cell_type": "markdown",
   "metadata": {},
   "source": [
    "2. chunk size만 조절"
   ]
  },
  {
   "cell_type": "code",
   "execution_count": 217,
   "metadata": {},
   "outputs": [
    {
     "name": "stdout",
     "output_type": "stream",
     "text": [
      "출근하는데 급하게 택시를 불렀는데 택시가 안 잡혀서 다시 얘기하자고 급하게 오느라 회사에 화장도 안 하고 왔다. 이제는 화장을 안 한 내 모습이 아닌 것 같기도 하고 모든 것이 화장품 회사의 계략이라는 것이다. 국내에 한적하게 여행할 수 있는 곳이 어디가 있을지 조용한 국내 여행지를 추천해달라고 하자 알아서 찾아간다고 한다.\n"
     ]
    }
   ],
   "source": [
    "# stride 5, 5 chunk\n",
    "summary = summarize(dialog, 5, 5)\n",
    "print(summary)"
   ]
  },
  {
   "cell_type": "code",
   "execution_count": 214,
   "metadata": {},
   "outputs": [
    {
     "name": "stdout",
     "output_type": "stream",
     "text": [
      "출근하는데 급하게 택시를 불렀는데 택시가 안 잡혀서 다시 얘기하기로 했다.\n",
      "급하게 오느라 회사에 화장을 안 하고 왔다고 하자 화장을 안 한 내 모습이 내가 아닌 것 같기도 하다고 한다.\n",
      "맘스터치에서 싸이버거를 사 왔는데 국내에 한적하게 여행할 수 있는 곳이 어디가 있을지 추천해달라고 한다.\n",
      "부산보다 조용한 국내 여행지로 알아서 찾아간다고 한다.\n"
     ]
    }
   ],
   "source": [
    "# stride 4, 4 chunk\n",
    "summary = summarize(dialog, 4, 4)\n",
    "print(summary)"
   ]
  },
  {
   "cell_type": "code",
   "execution_count": 210,
   "metadata": {},
   "outputs": [
    {
     "name": "stdout",
     "output_type": "stream",
     "text": [
      "3월 모의고사 성적이 수능 성적이라며 요즘은 친구들이랑 맨날 수능 얘기밖에 안 하는 것 같다고 하자 상대방이 요즘 쉴 때 가끔씩 유튜브에서 피어싱 영상을 찾아보다가 피어싱에 관심이 생겼다며 입술에 피어싱을 하는 거 어떻게 생각하냐고 한다.\n",
      "코로나 때문에 입술에 피어싱을 하더라도 마스크를 쓰느라 한 게 티가 안 날 것 같아서 걱정이다.\n",
      "언젠가는 마스크를 벗는 날이 올 것이고 그때 되면 입술 피어싱을 해보려고 한다.\n"
     ]
    }
   ],
   "source": [
    "# stride 3, 3 chunk\n",
    "summary = summarize(dialog, 3, 3)\n",
    "print(summary)"
   ]
  },
  {
   "cell_type": "code",
   "execution_count": 176,
   "metadata": {},
   "outputs": [
    {
     "name": "stdout",
     "output_type": "stream",
     "text": [
      " 오늘은 엄마가 삼겹살을 좋아하셔서 저녁식사를 할 예정이다.\n",
      "오랜만에 가족들이랑 식사하는 거라 기대된다고 하였다.\n",
      "가족들한테는 저녁 먹으면서 결혼 얘기를 해보려고 하는데 가족들이 남자친구를 어떻게 생각할지 모르겠다.\n",
      "남자친구가 8살 정도 연상인데 다정하고 능력도 좋은 사람이다.\n",
      "가족들이랑 이야기하다가 주식 얘기가 나왔는데 살만하지가 않다.\n",
      "에너지 쪽 주식에 관심이 있는데 요즘 국제정세가 한창 어두워서 걱정이라고 하자 전쟁으로 에너지 공급에 차질이 생기니까 국제적으로 큰 문제가 되는 거라고 한다.\n",
      "최근에 패션 모델 제의를 받았다가 지나가던 사람이 패션이 멋지다고 명함을 주고 가서 요즘 같은 시대에 아직도 이렇게 오랫동안 전쟁 중이라는 게 믿겨지지 않는다.\n",
      "취업 준비 때문에 힘들어하고 있었는데 이런 제의를 받으니 기분이 좋다.\n",
      "요즘 주식 장이 안 좋아서 당분간은 안 하고 지켜보려고 한다.\n",
      "이제 슬슬 나가봐야 할 것 같다고 하자 다녀와서 다시 이야기해 주겠다고 한다.\n"
     ]
    }
   ],
   "source": [
    "# stride 2, 2 chunk\n",
    "summary = summarize(dialog, 2, 2)\n",
    "print(summary)"
   ]
  },
  {
   "cell_type": "code",
   "execution_count": 177,
   "metadata": {},
   "outputs": [
    {
     "name": "stdout",
     "output_type": "stream",
     "text": [
      " 오늘은 가족이랑 저녁식사를 할 예정이다.\n",
      "엄마가 삼겹살을 좋아하셔서 삼겹살을 먹으러 갈 것 같다.\n",
      "오랜만에 가족들이랑 식사하는 거라 기대된다.\n",
      "남자친구랑 곧 결혼을 하려고 하는데 저녁에 밥 먹으면서 얘기할까 한다.\n",
      "주말에 가족들한테는 저녁 먹으면서 결혼 얘기해보려고 한다.\n",
      "가족들이 남자친구를 어떻게 생각할지 잘 모르겠다.\n",
      "남자친구가 8살 연상인데 정말 다정하고 능력도 좋은 사람이다.\n",
      "연상이 이해심이 깊어서 더 좋은 것 같기도 하다.\n",
      "이제 슬슬 저녁 먹으러 가봐야겠다고 하자 나중에 또 보자고 한다.\n",
      "가족들이랑 얘기하다가 주식 얘기가 나왔는데 살만하지가 않다.\n",
      "에너지 쪽 주식에 관심이 있는데 요즘 국제정세가 한창 어두워서 걱정이다.\n",
      "전쟁으로 에너지 공급에 차질이 생기니까 국제적으로 큰 문제가 된다.\n",
      "같은 시대에 아직도 오랫동안 전쟁 중이라는 게 믿겨지지 않는다.\n",
      "최근에 패션 모델 제의를 받았는데 지나가던 사람이 패션이 멋지다고 명함을 주고 갔다.\n",
      "취업 준비 때문에 힘들어하고 있었는데 이런 제의를 받으니 기분이 좋다.\n",
      "아직은 학생이라 시간이 많지만 나중에 창업하기 전에 미리 준비해놔야겠다고 하자 주식도 조금씩 공부하고 있다고 한다.\n",
      "요즘 주식 장이 안 좋아서 당분간은 안 하고 지켜보려고 한다.\n",
      "전에 패션 모델을 제의받았다는 것이 기억나냐고 묻자 그쪽에서 연락을 줬다고 한다.\n",
      "이제 슬슬 나가봐야 할 것 같다고 하자 다녀와서 다시 이야기해 주겠다고 한다.\n"
     ]
    }
   ],
   "source": [
    "# stride 1, 1 chunk\n",
    "summary = summarize(dialog, 1, 1)\n",
    "print(summary)"
   ]
  },
  {
   "cell_type": "code",
   "execution_count": null,
   "metadata": {},
   "outputs": [],
   "source": []
  }
 ],
 "metadata": {
  "kernelspec": {
   "display_name": "Python 3",
   "language": "python",
   "name": "python3"
  },
  "language_info": {
   "codemirror_mode": {
    "name": "ipython",
    "version": 3
   },
   "file_extension": ".py",
   "mimetype": "text/x-python",
   "name": "python",
   "nbconvert_exporter": "python",
   "pygments_lexer": "ipython3",
   "version": "3.8.10"
  }
 },
 "nbformat": 4,
 "nbformat_minor": 2
}
