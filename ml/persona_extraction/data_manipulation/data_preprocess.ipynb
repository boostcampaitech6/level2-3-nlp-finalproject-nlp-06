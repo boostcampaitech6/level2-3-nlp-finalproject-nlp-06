{
 "cells": [
  {
   "cell_type": "markdown",
   "metadata": {},
   "source": [
    "# 데이터 전처리"
   ]
  },
  {
   "cell_type": "markdown",
   "metadata": {},
   "source": [
    "**목차**\n",
    "- 데이터 불러오기 및, null 데이터 제거, 20대만 추출\n",
    "   - 학습 데이터셋 만들고 저장 \n",
    "- session별 dialog 개수 시각화\n",
    "- session 별 모든 dialog를 하나로 이었을 때의 string 길이 시각화\n",
    "- session 별 모든 dialog를 하나로 이은 후, et5-base의 tokenizer를 이용해 토큰화 했을 때의 token 개수 시각화\n",
    "    - 세션 별 페르소나 token 길이 분포\n",
    "\n",
    "- session1와 session2를 합치고, [gogamza/kobart-base-v2](https://huggingface.co/gogamza/kobart-base-v2)의 tokenizer를 이용해 토큰화 했을 때의 token 개수 확인\n",
    "    - dialoge를 모두 concat한 입력을 tokenizing하였을 경우에 대한 token 개수\n",
    "    - persona를 모두 concat한 입력을 tokenizing하였을 경우에 대한 token 개수"
   ]
  },
  {
   "cell_type": "markdown",
   "metadata": {},
   "source": [
    "## 데이터 불러오기 및, null 데이터 제거, 20대만 추출"
   ]
  },
  {
   "cell_type": "code",
   "execution_count": 1,
   "metadata": {},
   "outputs": [
    {
     "data": {
      "text/html": [
       "<div>\n",
       "<style scoped>\n",
       "    .dataframe tbody tr th:only-of-type {\n",
       "        vertical-align: middle;\n",
       "    }\n",
       "\n",
       "    .dataframe tbody tr th {\n",
       "        vertical-align: top;\n",
       "    }\n",
       "\n",
       "    .dataframe thead th {\n",
       "        text-align: right;\n",
       "    }\n",
       "</style>\n",
       "<table border=\"1\" class=\"dataframe\">\n",
       "  <thead>\n",
       "    <tr style=\"text-align: right;\">\n",
       "      <th></th>\n",
       "      <th>id</th>\n",
       "      <th>topic</th>\n",
       "      <th>gender</th>\n",
       "      <th>age</th>\n",
       "      <th>occupation</th>\n",
       "      <th>num_session</th>\n",
       "      <th>init_persona</th>\n",
       "      <th>final_persona</th>\n",
       "      <th>session_1_dialog</th>\n",
       "      <th>session_1_persona</th>\n",
       "      <th>session_2_dialog</th>\n",
       "      <th>session_2_persona</th>\n",
       "    </tr>\n",
       "  </thead>\n",
       "  <tbody>\n",
       "    <tr>\n",
       "      <th>0</th>\n",
       "      <td>K5-03991-CL74320-CP03664-02-08-S2.json</td>\n",
       "      <td>주거와 생활</td>\n",
       "      <td>남성</td>\n",
       "      <td>30대</td>\n",
       "      <td>기능직</td>\n",
       "      <td>2</td>\n",
       "      <td>['나는 남자이다.', '나는 40대이다.', '나의 가족은 3명이다.', '나는 ...</td>\n",
       "      <td>['나는 남자이다. 나는 40대이다.', '나는 추운 날씨를 좋아한다. 나는 겨울을...</td>\n",
       "      <td>['안녕하세요? 저는 40대 남자입니다.', '그렇군요. 지금 뭐하고 계세요? 오늘...</td>\n",
       "      <td>['나는 남자이다. 나는 40대이다.', '나는 추운 날씨를 좋아한다. 나는 겨울을...</td>\n",
       "      <td>['안녕하세요? 제가 어제 다시 연락 드린다는게 늦었네요.', '죄송해요. 제가 연...</td>\n",
       "      <td>['나는 연락하는 것을 까먹었다.', '나는 곧 이사를 가야한다.', '현재 내가 ...</td>\n",
       "    </tr>\n",
       "    <tr>\n",
       "      <th>1</th>\n",
       "      <td>K5-03991-CL74320-CP03664-02-08-S2.json</td>\n",
       "      <td>주거와 생활</td>\n",
       "      <td>남성</td>\n",
       "      <td>30대</td>\n",
       "      <td>사무직</td>\n",
       "      <td>2</td>\n",
       "      <td>['나는 남자이다.', '나는 40대이다.', '나의 종교는 불교이다.', '나는 ...</td>\n",
       "      <td>['나는 남자이다. 나는 40대이다. 나의 종교는 불교이다.', '나는 짠 음식을 ...</td>\n",
       "      <td>['안녕하세요? 저는 40대 남자입니다. 제 종교는 불교에요.', '저랑 비슷하시네...</td>\n",
       "      <td>['나는 남자이다. 나는 40대이다. 나의 종교는 불교이다.', '나는 짠 음식을 ...</td>\n",
       "      <td>['어제 다시 연락주실 줄 알았는데 연락이 안오더라고요.', '아니에요. 그럴 수 ...</td>\n",
       "      <td>[]</td>\n",
       "    </tr>\n",
       "    <tr>\n",
       "      <th>2</th>\n",
       "      <td>K5-03984-CL74442-CP22286-13-04-S2.json</td>\n",
       "      <td>기후&gt;계절/날씨</td>\n",
       "      <td>여성</td>\n",
       "      <td>20대</td>\n",
       "      <td>무직</td>\n",
       "      <td>2</td>\n",
       "      <td>['나는 여자이다.', '나는 20대이다.', '나는 아메리카노를 자주 마신다.',...</td>\n",
       "      <td>['나는 20대 여자이다. 나는 아메리카노를 자주 마신다.', '나는 뉴질랜드로 어...</td>\n",
       "      <td>['반가워요~~ 저는 20대 여자입니다. 저는 아메리카노를 자주 마셔요.', '오 ...</td>\n",
       "      <td>['나는 20대 여자이다. 나는 아메리카노를 자주 마신다.', '나는 뉴질랜드로 어...</td>\n",
       "      <td>['안녕하세요. 며칠간 일은 잘 하고 계셨죠?', '좋네요. 저는 일렉기타 연주 가...</td>\n",
       "      <td>['나는 일렉기타 연주를 가끔 한다.', '나는 요즘 단풍에 대해서 관심을 갖고 공...</td>\n",
       "    </tr>\n",
       "    <tr>\n",
       "      <th>3</th>\n",
       "      <td>K5-03984-CL74442-CP22286-13-04-S2.json</td>\n",
       "      <td>기후&gt;계절/날씨</td>\n",
       "      <td>여성</td>\n",
       "      <td>20대</td>\n",
       "      <td>학생</td>\n",
       "      <td>2</td>\n",
       "      <td>['나는 여자이다.', '나는 20대이다.', '나는 매우 조용하다.', '나는 도...</td>\n",
       "      <td>['나는 20대 여자이다. 나는 도서관 사서이다.']</td>\n",
       "      <td>['아 반갑습니다. 저는 20대 여자이고요. 도서관 사서로 일하고 있어요.', '아...</td>\n",
       "      <td>['나는 20대 여자이다. 나는 도서관 사서이다.']</td>\n",
       "      <td>['아 네 안녕하세요. 잘 지냈습니다.', '아 일렉 기타 하시는 구나 저도 악기를...</td>\n",
       "      <td>['나는 트럼펫 연주를 배운다.', '나는 상대 덕분에 새로운 사실을 알았다.']</td>\n",
       "    </tr>\n",
       "    <tr>\n",
       "      <th>4</th>\n",
       "      <td>K5-03995-CL74539-CP32098-15-04-S2.json</td>\n",
       "      <td>시사/사회&gt;타국가이슈(해외)</td>\n",
       "      <td>남성</td>\n",
       "      <td>30대</td>\n",
       "      <td>사무직</td>\n",
       "      <td>2</td>\n",
       "      <td>['나는 남자이다.', '나는 30대이다.', '나는 건축학과를 전공했다.', '나...</td>\n",
       "      <td>['나는 30대 남자이다.', '나는 건축학과를 전공해서 건설회사에 근무 중이다.'...</td>\n",
       "      <td>['안녕하세요. 반갑습니다. 저는 30대 남자예요.', '저는 건축학과를 전공해서 ...</td>\n",
       "      <td>['나는 30대 남자이다.', '나는 건축학과를 전공해서 건설회사에 근무 중이다.'...</td>\n",
       "      <td>['안녕하세요. 6일 만에 연락드리네요. 저는 이번에 벼르다 벼르다 코로나백신 4차...</td>\n",
       "      <td>['나는 요즘 백신에 대해서 관심을 갖고 공부한다.', '우리나라도 실외에서 마스크...</td>\n",
       "    </tr>\n",
       "  </tbody>\n",
       "</table>\n",
       "</div>"
      ],
      "text/plain": [
       "                                       id            topic gender  age  \\\n",
       "0  K5-03991-CL74320-CP03664-02-08-S2.json           주거와 생활     남성  30대   \n",
       "1  K5-03991-CL74320-CP03664-02-08-S2.json           주거와 생활     남성  30대   \n",
       "2  K5-03984-CL74442-CP22286-13-04-S2.json         기후>계절/날씨     여성  20대   \n",
       "3  K5-03984-CL74442-CP22286-13-04-S2.json         기후>계절/날씨     여성  20대   \n",
       "4  K5-03995-CL74539-CP32098-15-04-S2.json  시사/사회>타국가이슈(해외)     남성  30대   \n",
       "\n",
       "  occupation  num_session                                       init_persona  \\\n",
       "0        기능직            2  ['나는 남자이다.', '나는 40대이다.', '나의 가족은 3명이다.', '나는 ...   \n",
       "1        사무직            2  ['나는 남자이다.', '나는 40대이다.', '나의 종교는 불교이다.', '나는 ...   \n",
       "2         무직            2  ['나는 여자이다.', '나는 20대이다.', '나는 아메리카노를 자주 마신다.',...   \n",
       "3         학생            2  ['나는 여자이다.', '나는 20대이다.', '나는 매우 조용하다.', '나는 도...   \n",
       "4        사무직            2  ['나는 남자이다.', '나는 30대이다.', '나는 건축학과를 전공했다.', '나...   \n",
       "\n",
       "                                       final_persona  \\\n",
       "0  ['나는 남자이다. 나는 40대이다.', '나는 추운 날씨를 좋아한다. 나는 겨울을...   \n",
       "1  ['나는 남자이다. 나는 40대이다. 나의 종교는 불교이다.', '나는 짠 음식을 ...   \n",
       "2  ['나는 20대 여자이다. 나는 아메리카노를 자주 마신다.', '나는 뉴질랜드로 어...   \n",
       "3                      ['나는 20대 여자이다. 나는 도서관 사서이다.']   \n",
       "4  ['나는 30대 남자이다.', '나는 건축학과를 전공해서 건설회사에 근무 중이다.'...   \n",
       "\n",
       "                                    session_1_dialog  \\\n",
       "0  ['안녕하세요? 저는 40대 남자입니다.', '그렇군요. 지금 뭐하고 계세요? 오늘...   \n",
       "1  ['안녕하세요? 저는 40대 남자입니다. 제 종교는 불교에요.', '저랑 비슷하시네...   \n",
       "2  ['반가워요~~ 저는 20대 여자입니다. 저는 아메리카노를 자주 마셔요.', '오 ...   \n",
       "3  ['아 반갑습니다. 저는 20대 여자이고요. 도서관 사서로 일하고 있어요.', '아...   \n",
       "4  ['안녕하세요. 반갑습니다. 저는 30대 남자예요.', '저는 건축학과를 전공해서 ...   \n",
       "\n",
       "                                   session_1_persona  \\\n",
       "0  ['나는 남자이다. 나는 40대이다.', '나는 추운 날씨를 좋아한다. 나는 겨울을...   \n",
       "1  ['나는 남자이다. 나는 40대이다. 나의 종교는 불교이다.', '나는 짠 음식을 ...   \n",
       "2  ['나는 20대 여자이다. 나는 아메리카노를 자주 마신다.', '나는 뉴질랜드로 어...   \n",
       "3                      ['나는 20대 여자이다. 나는 도서관 사서이다.']   \n",
       "4  ['나는 30대 남자이다.', '나는 건축학과를 전공해서 건설회사에 근무 중이다.'...   \n",
       "\n",
       "                                    session_2_dialog  \\\n",
       "0  ['안녕하세요? 제가 어제 다시 연락 드린다는게 늦었네요.', '죄송해요. 제가 연...   \n",
       "1  ['어제 다시 연락주실 줄 알았는데 연락이 안오더라고요.', '아니에요. 그럴 수 ...   \n",
       "2  ['안녕하세요. 며칠간 일은 잘 하고 계셨죠?', '좋네요. 저는 일렉기타 연주 가...   \n",
       "3  ['아 네 안녕하세요. 잘 지냈습니다.', '아 일렉 기타 하시는 구나 저도 악기를...   \n",
       "4  ['안녕하세요. 6일 만에 연락드리네요. 저는 이번에 벼르다 벼르다 코로나백신 4차...   \n",
       "\n",
       "                                   session_2_persona  \n",
       "0  ['나는 연락하는 것을 까먹었다.', '나는 곧 이사를 가야한다.', '현재 내가 ...  \n",
       "1                                                 []  \n",
       "2  ['나는 일렉기타 연주를 가끔 한다.', '나는 요즘 단풍에 대해서 관심을 갖고 공...  \n",
       "3      ['나는 트럼펫 연주를 배운다.', '나는 상대 덕분에 새로운 사실을 알았다.']  \n",
       "4  ['나는 요즘 백신에 대해서 관심을 갖고 공부한다.', '우리나라도 실외에서 마스크...  "
      ]
     },
     "execution_count": 1,
     "metadata": {},
     "output_type": "execute_result"
    }
   ],
   "source": [
    "# 데이터 불러오기\n",
    "import pandas as pd\n",
    "import numpy as np\n",
    "\n",
    "tl_session2 = pd.read_csv('./data/train/tl_session2.csv')\n",
    "tl_session2.head()"
   ]
  },
  {
   "cell_type": "code",
   "execution_count": 2,
   "metadata": {},
   "outputs": [
    {
     "name": "stdout",
     "output_type": "stream",
     "text": [
      "72000\n",
      "72000\n",
      "71981\n",
      "71981\n"
     ]
    }
   ],
   "source": [
    "# session_1_dialog, session_1_persona, session_2_dialog, session_2_dialog에서 리스트의 길이가 0인 경우를 제외하고 데이터를 추출\n",
    "print(len(tl_session2))\n",
    "tl_session2_ = tl_session2[tl_session2['session_1_dialog'].apply(lambda x: len(eval(x)) > 0)]\n",
    "print(len(tl_session2_))\n",
    "tl_session2_ = tl_session2_[tl_session2_['session_1_persona'].apply(lambda x: len(eval(x)) > 0)]\n",
    "print(len(tl_session2_))\n",
    "tl_session2_ = tl_session2_[tl_session2_['session_2_dialog'].apply(lambda x: len(eval(x)) > 0)]\n",
    "print(len(tl_session2_))\n",
    "tl_session2_ = tl_session2_[tl_session2_['session_2_persona'].apply(lambda x: len(eval(x)) > 0)]"
   ]
  },
  {
   "cell_type": "code",
   "execution_count": 3,
   "metadata": {},
   "outputs": [
    {
     "data": {
      "text/plain": [
       "age\n",
       "10대         811\n",
       "20대       20658\n",
       "30대       31757\n",
       "40대        8200\n",
       "50대        6112\n",
       "60대 이상     1188\n",
       "60대이상         2\n",
       "Name: id, dtype: int64"
      ]
     },
     "execution_count": 3,
     "metadata": {},
     "output_type": "execute_result"
    }
   ],
   "source": [
    "# 나이대별 분포\n",
    "tl_session2_.groupby('age')['id'].count()"
   ]
  },
  {
   "cell_type": "code",
   "execution_count": 4,
   "metadata": {},
   "outputs": [
    {
     "name": "stdout",
     "output_type": "stream",
     "text": [
      "20658\n"
     ]
    }
   ],
   "source": [
    "# 20대만 추출\n",
    "tl_session2_age20 = tl_session2_[tl_session2_['age'] == '20대']\n",
    "print(len(tl_session2_age20))"
   ]
  },
  {
   "cell_type": "code",
   "execution_count": 6,
   "metadata": {},
   "outputs": [],
   "source": [
    "from copy import deepcopy\n",
    "\n",
    "tl_session2_age20 = deepcopy(tl_session2_age20)"
   ]
  },
  {
   "cell_type": "markdown",
   "metadata": {},
   "source": [
    "### 학습 데이터셋 만들기"
   ]
  },
  {
   "cell_type": "code",
   "execution_count": 5,
   "metadata": {},
   "outputs": [
    {
     "data": {
      "text/html": [
       "<div>\n",
       "<style scoped>\n",
       "    .dataframe tbody tr th:only-of-type {\n",
       "        vertical-align: middle;\n",
       "    }\n",
       "\n",
       "    .dataframe tbody tr th {\n",
       "        vertical-align: top;\n",
       "    }\n",
       "\n",
       "    .dataframe thead th {\n",
       "        text-align: right;\n",
       "    }\n",
       "</style>\n",
       "<table border=\"1\" class=\"dataframe\">\n",
       "  <thead>\n",
       "    <tr style=\"text-align: right;\">\n",
       "      <th></th>\n",
       "      <th>id</th>\n",
       "      <th>topic</th>\n",
       "      <th>gender</th>\n",
       "      <th>age</th>\n",
       "      <th>occupation</th>\n",
       "      <th>num_session</th>\n",
       "      <th>init_persona</th>\n",
       "      <th>final_persona</th>\n",
       "      <th>session_1_dialog</th>\n",
       "      <th>session_1_persona</th>\n",
       "      <th>session_2_dialog</th>\n",
       "      <th>session_2_persona</th>\n",
       "    </tr>\n",
       "  </thead>\n",
       "  <tbody>\n",
       "    <tr>\n",
       "      <th>2</th>\n",
       "      <td>K5-03984-CL74442-CP22286-13-04-S2.json</td>\n",
       "      <td>기후&gt;계절/날씨</td>\n",
       "      <td>여성</td>\n",
       "      <td>20대</td>\n",
       "      <td>무직</td>\n",
       "      <td>2</td>\n",
       "      <td>['나는 여자이다.', '나는 20대이다.', '나는 아메리카노를 자주 마신다.',...</td>\n",
       "      <td>['나는 20대 여자이다. 나는 아메리카노를 자주 마신다.', '나는 뉴질랜드로 어...</td>\n",
       "      <td>['반가워요~~ 저는 20대 여자입니다. 저는 아메리카노를 자주 마셔요.', '오 ...</td>\n",
       "      <td>['나는 20대 여자이다. 나는 아메리카노를 자주 마신다.', '나는 뉴질랜드로 어...</td>\n",
       "      <td>['안녕하세요. 며칠간 일은 잘 하고 계셨죠?', '좋네요. 저는 일렉기타 연주 가...</td>\n",
       "      <td>['나는 일렉기타 연주를 가끔 한다.', '나는 요즘 단풍에 대해서 관심을 갖고 공...</td>\n",
       "    </tr>\n",
       "    <tr>\n",
       "      <th>3</th>\n",
       "      <td>K5-03984-CL74442-CP22286-13-04-S2.json</td>\n",
       "      <td>기후&gt;계절/날씨</td>\n",
       "      <td>여성</td>\n",
       "      <td>20대</td>\n",
       "      <td>학생</td>\n",
       "      <td>2</td>\n",
       "      <td>['나는 여자이다.', '나는 20대이다.', '나는 매우 조용하다.', '나는 도...</td>\n",
       "      <td>['나는 20대 여자이다. 나는 도서관 사서이다.']</td>\n",
       "      <td>['아 반갑습니다. 저는 20대 여자이고요. 도서관 사서로 일하고 있어요.', '아...</td>\n",
       "      <td>['나는 20대 여자이다. 나는 도서관 사서이다.']</td>\n",
       "      <td>['아 네 안녕하세요. 잘 지냈습니다.', '아 일렉 기타 하시는 구나 저도 악기를...</td>\n",
       "      <td>['나는 트럼펫 연주를 배운다.', '나는 상대 덕분에 새로운 사실을 알았다.']</td>\n",
       "    </tr>\n",
       "    <tr>\n",
       "      <th>8</th>\n",
       "      <td>K5-03994-CL74403-CP11608-13-05-S2.json</td>\n",
       "      <td>기후&gt;계절/날씨</td>\n",
       "      <td>여성</td>\n",
       "      <td>20대</td>\n",
       "      <td>서비스직</td>\n",
       "      <td>2</td>\n",
       "      <td>['나는 여자이다.', '나는 10대이다.', '내가 사는 곳은 부천이다.', '나...</td>\n",
       "      <td>['나는 10대 여성이다. 내가 사는 곳은 부천이다.', '나는 요즘 즐겁다. 나는...</td>\n",
       "      <td>['안녕하세요! 저는 부천에 사는 10대 여자입니다!', '만나서 반가워요 ㅎㅎ 같...</td>\n",
       "      <td>['나는 10대 여성이다. 내가 사는 곳은 부천이다.', '나는 요즘 즐겁다. 나는...</td>\n",
       "      <td>['2주만에 연락 드리네요~! 그동안 잘 지내셨어요?', '저는 그동안 피아노 학원...</td>\n",
       "      <td>['나는 그간 피아노 학원을 다녔다.', '나는 오늘 피크닉을 갈 것이다.', '나...</td>\n",
       "    </tr>\n",
       "    <tr>\n",
       "      <th>9</th>\n",
       "      <td>K5-03994-CL74403-CP11608-13-05-S2.json</td>\n",
       "      <td>기후&gt;계절/날씨</td>\n",
       "      <td>여성</td>\n",
       "      <td>20대</td>\n",
       "      <td>서비스직</td>\n",
       "      <td>2</td>\n",
       "      <td>['나는 여자이다.', '나는 10대이다.', '나는 아버지와 진학 문제로 갈등이 ...</td>\n",
       "      <td>['나는 10대 여자이다.', '나는 진학문제 때문에 고민이다. 나는 진학문제로 아...</td>\n",
       "      <td>['반가워요! ㅎㅎ 저도 10대 여성이에요!', '저는 요즘 진학 문제때문에 너무 ...</td>\n",
       "      <td>['나는 10대 여자이다.', '나는 진학문제 때문에 고민이다. 나는 진학문제로 아...</td>\n",
       "      <td>['네! ㅎㅎ 저는 잘 지내고 있어요! 님은 2주 동안 뭐하셨어요?', '저는 아버...</td>\n",
       "      <td>['나는 잘 지냈다.', '나는 아버지와 갈등을 해소했다. 나는 가족피크닉을 다녀왔...</td>\n",
       "    </tr>\n",
       "    <tr>\n",
       "      <th>24</th>\n",
       "      <td>K5-03997-CL74070-CP11701-04-01-S2.json</td>\n",
       "      <td>일과 직업&gt;회사/아르바이트</td>\n",
       "      <td>남성</td>\n",
       "      <td>20대</td>\n",
       "      <td>무직</td>\n",
       "      <td>2</td>\n",
       "      <td>['나는 남자이다.', '나는 20대이다.', '나는 자기 주장이 강하다.', '나...</td>\n",
       "      <td>['나는 20대 남자이다.', '나는 자기주장이 강하다. 나는 전기정보공학부 부전공...</td>\n",
       "      <td>['반가워요 ㅋㅋ 저는20대 남성인데 그쪽은요??', 'ㅋㅋ 저는 지금 자기주장이 ...</td>\n",
       "      <td>['나는 20대 남자이다.', '나는 자기주장이 강하다. 나는 전기정보공학부 부전공...</td>\n",
       "      <td>['반갑습니다! ㅋㅋ 9일만에 다시 만나게 되었네요~ㅎㅎ.', 'ㅜㅜ저는 요즘 회사...</td>\n",
       "      <td>['나는 요즘 회사에서 짜증나는 일이 있다.', '나는 성격 때문에 상사랑 다퉜다....</td>\n",
       "    </tr>\n",
       "    <tr>\n",
       "      <th>...</th>\n",
       "      <td>...</td>\n",
       "      <td>...</td>\n",
       "      <td>...</td>\n",
       "      <td>...</td>\n",
       "      <td>...</td>\n",
       "      <td>...</td>\n",
       "      <td>...</td>\n",
       "      <td>...</td>\n",
       "      <td>...</td>\n",
       "      <td>...</td>\n",
       "      <td>...</td>\n",
       "      <td>...</td>\n",
       "    </tr>\n",
       "    <tr>\n",
       "      <th>71995</th>\n",
       "      <td>K2-00002-CL21649-CP31111-08-09-S2.json</td>\n",
       "      <td>개인 및 관계&gt;연애/결혼</td>\n",
       "      <td>남성</td>\n",
       "      <td>20대</td>\n",
       "      <td>학생</td>\n",
       "      <td>2</td>\n",
       "      <td>['나는 남자이다.', '나는 30대이다.', '나는 중학교 영어 교사이다', '나...</td>\n",
       "      <td>['나는 30대 남성이다.', '나는 축구를 좋아해서 주말마다 축구동호회를 참석한다...</td>\n",
       "      <td>['안녕하세요 저는 30대 남성입니다.', '가을이 오긴 왔나보네요ㅎㅎ 아마 좋은 ...</td>\n",
       "      <td>['나는 30대 남성이다.', '나는 축구를 좋아해서 주말마다 축구동호회를 참석한다...</td>\n",
       "      <td>['네네 거의 한달만에 연락드리네요 저는 학생들이랑 수업하고 요즘 수행평가기간이라 ...</td>\n",
       "      <td>['나는 학생들 이과 수업하고 요즘 수행평가기간이라 아이들 수행평가를 지도해주면서 ...</td>\n",
       "    </tr>\n",
       "    <tr>\n",
       "      <th>71996</th>\n",
       "      <td>K2-00014-CL20283-CP21216-03-06-S2.json</td>\n",
       "      <td>교통</td>\n",
       "      <td>남성</td>\n",
       "      <td>20대</td>\n",
       "      <td>사무직</td>\n",
       "      <td>2</td>\n",
       "      <td>['나는 남자이다.', '나는 20대이다.', '나의 거주지는 부산이다.', '나는...</td>\n",
       "      <td>['나는 20대 남자이다.', '나의 거주지는 부산이다.', '나는 모든 음식을 좋...</td>\n",
       "      <td>['안녕하세요. 제 소개를 하자면 저는 20대이구요, 남자에요!', '안녕하세요. ...</td>\n",
       "      <td>['나는 20대 남자이다.', '나의 거주지는 부산이다.', '나는 모든 음식을 좋...</td>\n",
       "      <td>['아니 하루뒤에나 연락드렸네요... 일이 좀 있었어요.', '아니 어제 장을 보러...</td>\n",
       "      <td>['나는 볼 일이 있었다.', '나는 차 사고가 났다.', '나는 난기류를 만났을 ...</td>\n",
       "    </tr>\n",
       "    <tr>\n",
       "      <th>71997</th>\n",
       "      <td>K2-00014-CL20283-CP21216-03-06-S2.json</td>\n",
       "      <td>교통</td>\n",
       "      <td>남성</td>\n",
       "      <td>20대</td>\n",
       "      <td>교직</td>\n",
       "      <td>2</td>\n",
       "      <td>['나는 남자이다.', '나는 20대이다.', '나는 종교가 없다.', '나는 비행...</td>\n",
       "      <td>['나는 20대 남자이다. 나는 종교가 없다.', '나는 인천에 산다.', '나는 ...</td>\n",
       "      <td>['반갑습니다. 종교 없고 아무것도 없는 깔끔한 20대 남성입니다.', '저는 인천...</td>\n",
       "      <td>['나는 20대 남자이다. 나는 종교가 없다.', '나는 인천에 산다.', '나는 ...</td>\n",
       "      <td>['무슨 일이신데요?', '네??? 그게 무슨 말씀인가요? 병원 가야하나요?', '...</td>\n",
       "      <td>['나는 비행기 트라우마가 있다. 나는 성인이 되고 나서 안 타봤다.', '나는 난...</td>\n",
       "    </tr>\n",
       "    <tr>\n",
       "      <th>71998</th>\n",
       "      <td>K2-00020-CL13719-CP12624-03-09-S2.json</td>\n",
       "      <td>교통</td>\n",
       "      <td>여성</td>\n",
       "      <td>20대</td>\n",
       "      <td>학생</td>\n",
       "      <td>2</td>\n",
       "      <td>['나는 여자이다.', '나는 10대이다.', '나는 동생과 게임하는 게 재미있다'...</td>\n",
       "      <td>['나는 10대 여성이다', '나는 외향적이고 혼자 있는 것을 좋아한다. 나는 방송...</td>\n",
       "      <td>['안녕하세요! 저는 10대 여성입니다!!', '와 저도요~ 성격은 외향적인 편이신...</td>\n",
       "      <td>['나는 10대 여성이다', '나는 외향적이고 혼자 있는 것을 좋아한다. 나는 방송...</td>\n",
       "      <td>['안녕하세요~ 2주만이네요~ 요즘도 요리 관련 동아리 활동 잘 하고 계신가요?',...</td>\n",
       "      <td>['나는 운전면허를 따고 싶다', '나는 대중교통에서 탈출하고 자가용을 이용하고 싶...</td>\n",
       "    </tr>\n",
       "    <tr>\n",
       "      <th>71999</th>\n",
       "      <td>K2-00020-CL13719-CP12624-03-09-S2.json</td>\n",
       "      <td>교통</td>\n",
       "      <td>여성</td>\n",
       "      <td>20대</td>\n",
       "      <td>전문직</td>\n",
       "      <td>2</td>\n",
       "      <td>['나는 여자이다.', '나는 10대이다.', '나는 종교가 없다', '나는 동아리...</td>\n",
       "      <td>['나는 10대 여성이다. 나는 성격이 급하다.', '나는 동아리를 즐긴다. 나는 ...</td>\n",
       "      <td>['안녕하세요 저도 10대 여성이고 성격이 매우 급해요!', '네 그래서 동아리 활...</td>\n",
       "      <td>['나는 10대 여성이다. 나는 성격이 급하다.', '나는 동아리를 즐긴다. 나는 ...</td>\n",
       "      <td>['네, 좋아하는 스파게티도 만들어 먹고 역시 동아리 활동이 즐거워요.  추운데 건...</td>\n",
       "      <td>['나는 좋아하는 스파게티도 만들어 먹고 동아리 활동이 즐겁다.', '나는 운전면허...</td>\n",
       "    </tr>\n",
       "  </tbody>\n",
       "</table>\n",
       "<p>20658 rows × 12 columns</p>\n",
       "</div>"
      ],
      "text/plain": [
       "                                           id           topic gender  age  \\\n",
       "2      K5-03984-CL74442-CP22286-13-04-S2.json        기후>계절/날씨     여성  20대   \n",
       "3      K5-03984-CL74442-CP22286-13-04-S2.json        기후>계절/날씨     여성  20대   \n",
       "8      K5-03994-CL74403-CP11608-13-05-S2.json        기후>계절/날씨     여성  20대   \n",
       "9      K5-03994-CL74403-CP11608-13-05-S2.json        기후>계절/날씨     여성  20대   \n",
       "24     K5-03997-CL74070-CP11701-04-01-S2.json  일과 직업>회사/아르바이트     남성  20대   \n",
       "...                                       ...             ...    ...  ...   \n",
       "71995  K2-00002-CL21649-CP31111-08-09-S2.json   개인 및 관계>연애/결혼     남성  20대   \n",
       "71996  K2-00014-CL20283-CP21216-03-06-S2.json              교통     남성  20대   \n",
       "71997  K2-00014-CL20283-CP21216-03-06-S2.json              교통     남성  20대   \n",
       "71998  K2-00020-CL13719-CP12624-03-09-S2.json              교통     여성  20대   \n",
       "71999  K2-00020-CL13719-CP12624-03-09-S2.json              교통     여성  20대   \n",
       "\n",
       "      occupation  num_session  \\\n",
       "2             무직            2   \n",
       "3             학생            2   \n",
       "8           서비스직            2   \n",
       "9           서비스직            2   \n",
       "24            무직            2   \n",
       "...          ...          ...   \n",
       "71995         학생            2   \n",
       "71996        사무직            2   \n",
       "71997         교직            2   \n",
       "71998         학생            2   \n",
       "71999        전문직            2   \n",
       "\n",
       "                                            init_persona  \\\n",
       "2      ['나는 여자이다.', '나는 20대이다.', '나는 아메리카노를 자주 마신다.',...   \n",
       "3      ['나는 여자이다.', '나는 20대이다.', '나는 매우 조용하다.', '나는 도...   \n",
       "8      ['나는 여자이다.', '나는 10대이다.', '내가 사는 곳은 부천이다.', '나...   \n",
       "9      ['나는 여자이다.', '나는 10대이다.', '나는 아버지와 진학 문제로 갈등이 ...   \n",
       "24     ['나는 남자이다.', '나는 20대이다.', '나는 자기 주장이 강하다.', '나...   \n",
       "...                                                  ...   \n",
       "71995  ['나는 남자이다.', '나는 30대이다.', '나는 중학교 영어 교사이다', '나...   \n",
       "71996  ['나는 남자이다.', '나는 20대이다.', '나의 거주지는 부산이다.', '나는...   \n",
       "71997  ['나는 남자이다.', '나는 20대이다.', '나는 종교가 없다.', '나는 비행...   \n",
       "71998  ['나는 여자이다.', '나는 10대이다.', '나는 동생과 게임하는 게 재미있다'...   \n",
       "71999  ['나는 여자이다.', '나는 10대이다.', '나는 종교가 없다', '나는 동아리...   \n",
       "\n",
       "                                           final_persona  \\\n",
       "2      ['나는 20대 여자이다. 나는 아메리카노를 자주 마신다.', '나는 뉴질랜드로 어...   \n",
       "3                          ['나는 20대 여자이다. 나는 도서관 사서이다.']   \n",
       "8      ['나는 10대 여성이다. 내가 사는 곳은 부천이다.', '나는 요즘 즐겁다. 나는...   \n",
       "9      ['나는 10대 여자이다.', '나는 진학문제 때문에 고민이다. 나는 진학문제로 아...   \n",
       "24     ['나는 20대 남자이다.', '나는 자기주장이 강하다. 나는 전기정보공학부 부전공...   \n",
       "...                                                  ...   \n",
       "71995  ['나는 30대 남성이다.', '나는 축구를 좋아해서 주말마다 축구동호회를 참석한다...   \n",
       "71996  ['나는 20대 남자이다.', '나의 거주지는 부산이다.', '나는 모든 음식을 좋...   \n",
       "71997  ['나는 20대 남자이다. 나는 종교가 없다.', '나는 인천에 산다.', '나는 ...   \n",
       "71998  ['나는 10대 여성이다', '나는 외향적이고 혼자 있는 것을 좋아한다. 나는 방송...   \n",
       "71999  ['나는 10대 여성이다. 나는 성격이 급하다.', '나는 동아리를 즐긴다. 나는 ...   \n",
       "\n",
       "                                        session_1_dialog  \\\n",
       "2      ['반가워요~~ 저는 20대 여자입니다. 저는 아메리카노를 자주 마셔요.', '오 ...   \n",
       "3      ['아 반갑습니다. 저는 20대 여자이고요. 도서관 사서로 일하고 있어요.', '아...   \n",
       "8      ['안녕하세요! 저는 부천에 사는 10대 여자입니다!', '만나서 반가워요 ㅎㅎ 같...   \n",
       "9      ['반가워요! ㅎㅎ 저도 10대 여성이에요!', '저는 요즘 진학 문제때문에 너무 ...   \n",
       "24     ['반가워요 ㅋㅋ 저는20대 남성인데 그쪽은요??', 'ㅋㅋ 저는 지금 자기주장이 ...   \n",
       "...                                                  ...   \n",
       "71995  ['안녕하세요 저는 30대 남성입니다.', '가을이 오긴 왔나보네요ㅎㅎ 아마 좋은 ...   \n",
       "71996  ['안녕하세요. 제 소개를 하자면 저는 20대이구요, 남자에요!', '안녕하세요. ...   \n",
       "71997  ['반갑습니다. 종교 없고 아무것도 없는 깔끔한 20대 남성입니다.', '저는 인천...   \n",
       "71998  ['안녕하세요! 저는 10대 여성입니다!!', '와 저도요~ 성격은 외향적인 편이신...   \n",
       "71999  ['안녕하세요 저도 10대 여성이고 성격이 매우 급해요!', '네 그래서 동아리 활...   \n",
       "\n",
       "                                       session_1_persona  \\\n",
       "2      ['나는 20대 여자이다. 나는 아메리카노를 자주 마신다.', '나는 뉴질랜드로 어...   \n",
       "3                          ['나는 20대 여자이다. 나는 도서관 사서이다.']   \n",
       "8      ['나는 10대 여성이다. 내가 사는 곳은 부천이다.', '나는 요즘 즐겁다. 나는...   \n",
       "9      ['나는 10대 여자이다.', '나는 진학문제 때문에 고민이다. 나는 진학문제로 아...   \n",
       "24     ['나는 20대 남자이다.', '나는 자기주장이 강하다. 나는 전기정보공학부 부전공...   \n",
       "...                                                  ...   \n",
       "71995  ['나는 30대 남성이다.', '나는 축구를 좋아해서 주말마다 축구동호회를 참석한다...   \n",
       "71996  ['나는 20대 남자이다.', '나의 거주지는 부산이다.', '나는 모든 음식을 좋...   \n",
       "71997  ['나는 20대 남자이다. 나는 종교가 없다.', '나는 인천에 산다.', '나는 ...   \n",
       "71998  ['나는 10대 여성이다', '나는 외향적이고 혼자 있는 것을 좋아한다. 나는 방송...   \n",
       "71999  ['나는 10대 여성이다. 나는 성격이 급하다.', '나는 동아리를 즐긴다. 나는 ...   \n",
       "\n",
       "                                        session_2_dialog  \\\n",
       "2      ['안녕하세요. 며칠간 일은 잘 하고 계셨죠?', '좋네요. 저는 일렉기타 연주 가...   \n",
       "3      ['아 네 안녕하세요. 잘 지냈습니다.', '아 일렉 기타 하시는 구나 저도 악기를...   \n",
       "8      ['2주만에 연락 드리네요~! 그동안 잘 지내셨어요?', '저는 그동안 피아노 학원...   \n",
       "9      ['네! ㅎㅎ 저는 잘 지내고 있어요! 님은 2주 동안 뭐하셨어요?', '저는 아버...   \n",
       "24     ['반갑습니다! ㅋㅋ 9일만에 다시 만나게 되었네요~ㅎㅎ.', 'ㅜㅜ저는 요즘 회사...   \n",
       "...                                                  ...   \n",
       "71995  ['네네 거의 한달만에 연락드리네요 저는 학생들이랑 수업하고 요즘 수행평가기간이라 ...   \n",
       "71996  ['아니 하루뒤에나 연락드렸네요... 일이 좀 있었어요.', '아니 어제 장을 보러...   \n",
       "71997  ['무슨 일이신데요?', '네??? 그게 무슨 말씀인가요? 병원 가야하나요?', '...   \n",
       "71998  ['안녕하세요~ 2주만이네요~ 요즘도 요리 관련 동아리 활동 잘 하고 계신가요?',...   \n",
       "71999  ['네, 좋아하는 스파게티도 만들어 먹고 역시 동아리 활동이 즐거워요.  추운데 건...   \n",
       "\n",
       "                                       session_2_persona  \n",
       "2      ['나는 일렉기타 연주를 가끔 한다.', '나는 요즘 단풍에 대해서 관심을 갖고 공...  \n",
       "3          ['나는 트럼펫 연주를 배운다.', '나는 상대 덕분에 새로운 사실을 알았다.']  \n",
       "8      ['나는 그간 피아노 학원을 다녔다.', '나는 오늘 피크닉을 갈 것이다.', '나...  \n",
       "9      ['나는 잘 지냈다.', '나는 아버지와 갈등을 해소했다. 나는 가족피크닉을 다녀왔...  \n",
       "24     ['나는 요즘 회사에서 짜증나는 일이 있다.', '나는 성격 때문에 상사랑 다퉜다....  \n",
       "...                                                  ...  \n",
       "71995  ['나는 학생들 이과 수업하고 요즘 수행평가기간이라 아이들 수행평가를 지도해주면서 ...  \n",
       "71996  ['나는 볼 일이 있었다.', '나는 차 사고가 났다.', '나는 난기류를 만났을 ...  \n",
       "71997  ['나는 비행기 트라우마가 있다. 나는 성인이 되고 나서 안 타봤다.', '나는 난...  \n",
       "71998  ['나는 운전면허를 따고 싶다', '나는 대중교통에서 탈출하고 자가용을 이용하고 싶...  \n",
       "71999  ['나는 좋아하는 스파게티도 만들어 먹고 동아리 활동이 즐겁다.', '나는 운전면허...  \n",
       "\n",
       "[20658 rows x 12 columns]"
      ]
     },
     "execution_count": 5,
     "metadata": {},
     "output_type": "execute_result"
    }
   ],
   "source": [
    "tl_session2_age20"
   ]
  },
  {
   "cell_type": "code",
   "execution_count": 28,
   "metadata": {},
   "outputs": [
    {
     "data": {
      "text/html": [
       "<div>\n",
       "<style scoped>\n",
       "    .dataframe tbody tr th:only-of-type {\n",
       "        vertical-align: middle;\n",
       "    }\n",
       "\n",
       "    .dataframe tbody tr th {\n",
       "        vertical-align: top;\n",
       "    }\n",
       "\n",
       "    .dataframe thead th {\n",
       "        text-align: right;\n",
       "    }\n",
       "</style>\n",
       "<table border=\"1\" class=\"dataframe\">\n",
       "  <thead>\n",
       "    <tr style=\"text-align: right;\">\n",
       "      <th></th>\n",
       "      <th>id</th>\n",
       "      <th>session_dialog</th>\n",
       "      <th>session_persona</th>\n",
       "    </tr>\n",
       "  </thead>\n",
       "  <tbody>\n",
       "    <tr>\n",
       "      <th>2</th>\n",
       "      <td>K5-03984-CL74442-CP22286-13-04-S2.json</td>\n",
       "      <td>['반가워요~~ 저는 20대 여자입니다. 저는 아메리카노를 자주 마셔요.', '오 ...</td>\n",
       "      <td>['나는 20대 여자이다. 나는 아메리카노를 자주 마신다.', '나는 뉴질랜드로 어...</td>\n",
       "    </tr>\n",
       "    <tr>\n",
       "      <th>3</th>\n",
       "      <td>K5-03984-CL74442-CP22286-13-04-S2.json</td>\n",
       "      <td>['아 반갑습니다. 저는 20대 여자이고요. 도서관 사서로 일하고 있어요.', '아...</td>\n",
       "      <td>['나는 20대 여자이다. 나는 도서관 사서이다.']</td>\n",
       "    </tr>\n",
       "    <tr>\n",
       "      <th>8</th>\n",
       "      <td>K5-03994-CL74403-CP11608-13-05-S2.json</td>\n",
       "      <td>['안녕하세요! 저는 부천에 사는 10대 여자입니다!', '만나서 반가워요 ㅎㅎ 같...</td>\n",
       "      <td>['나는 10대 여성이다. 내가 사는 곳은 부천이다.', '나는 요즘 즐겁다. 나는...</td>\n",
       "    </tr>\n",
       "    <tr>\n",
       "      <th>9</th>\n",
       "      <td>K5-03994-CL74403-CP11608-13-05-S2.json</td>\n",
       "      <td>['반가워요! ㅎㅎ 저도 10대 여성이에요!', '저는 요즘 진학 문제때문에 너무 ...</td>\n",
       "      <td>['나는 10대 여자이다.', '나는 진학문제 때문에 고민이다. 나는 진학문제로 아...</td>\n",
       "    </tr>\n",
       "    <tr>\n",
       "      <th>24</th>\n",
       "      <td>K5-03997-CL74070-CP11701-04-01-S2.json</td>\n",
       "      <td>['반가워요 ㅋㅋ 저는20대 남성인데 그쪽은요??', 'ㅋㅋ 저는 지금 자기주장이 ...</td>\n",
       "      <td>['나는 20대 남자이다.', '나는 자기주장이 강하다. 나는 전기정보공학부 부전공...</td>\n",
       "    </tr>\n",
       "    <tr>\n",
       "      <th>...</th>\n",
       "      <td>...</td>\n",
       "      <td>...</td>\n",
       "      <td>...</td>\n",
       "    </tr>\n",
       "    <tr>\n",
       "      <th>71995</th>\n",
       "      <td>K2-00002-CL21649-CP31111-08-09-S2.json</td>\n",
       "      <td>['네네 거의 한달만에 연락드리네요 저는 학생들이랑 수업하고 요즘 수행평가기간이라 ...</td>\n",
       "      <td>['나는 학생들 이과 수업하고 요즘 수행평가기간이라 아이들 수행평가를 지도해주면서 ...</td>\n",
       "    </tr>\n",
       "    <tr>\n",
       "      <th>71996</th>\n",
       "      <td>K2-00014-CL20283-CP21216-03-06-S2.json</td>\n",
       "      <td>['아니 하루뒤에나 연락드렸네요... 일이 좀 있었어요.', '아니 어제 장을 보러...</td>\n",
       "      <td>['나는 볼 일이 있었다.', '나는 차 사고가 났다.', '나는 난기류를 만났을 ...</td>\n",
       "    </tr>\n",
       "    <tr>\n",
       "      <th>71997</th>\n",
       "      <td>K2-00014-CL20283-CP21216-03-06-S2.json</td>\n",
       "      <td>['무슨 일이신데요?', '네??? 그게 무슨 말씀인가요? 병원 가야하나요?', '...</td>\n",
       "      <td>['나는 비행기 트라우마가 있다. 나는 성인이 되고 나서 안 타봤다.', '나는 난...</td>\n",
       "    </tr>\n",
       "    <tr>\n",
       "      <th>71998</th>\n",
       "      <td>K2-00020-CL13719-CP12624-03-09-S2.json</td>\n",
       "      <td>['안녕하세요~ 2주만이네요~ 요즘도 요리 관련 동아리 활동 잘 하고 계신가요?',...</td>\n",
       "      <td>['나는 운전면허를 따고 싶다', '나는 대중교통에서 탈출하고 자가용을 이용하고 싶...</td>\n",
       "    </tr>\n",
       "    <tr>\n",
       "      <th>71999</th>\n",
       "      <td>K2-00020-CL13719-CP12624-03-09-S2.json</td>\n",
       "      <td>['네, 좋아하는 스파게티도 만들어 먹고 역시 동아리 활동이 즐거워요.  추운데 건...</td>\n",
       "      <td>['나는 좋아하는 스파게티도 만들어 먹고 동아리 활동이 즐겁다.', '나는 운전면허...</td>\n",
       "    </tr>\n",
       "  </tbody>\n",
       "</table>\n",
       "<p>41316 rows × 3 columns</p>\n",
       "</div>"
      ],
      "text/plain": [
       "                                           id  \\\n",
       "2      K5-03984-CL74442-CP22286-13-04-S2.json   \n",
       "3      K5-03984-CL74442-CP22286-13-04-S2.json   \n",
       "8      K5-03994-CL74403-CP11608-13-05-S2.json   \n",
       "9      K5-03994-CL74403-CP11608-13-05-S2.json   \n",
       "24     K5-03997-CL74070-CP11701-04-01-S2.json   \n",
       "...                                       ...   \n",
       "71995  K2-00002-CL21649-CP31111-08-09-S2.json   \n",
       "71996  K2-00014-CL20283-CP21216-03-06-S2.json   \n",
       "71997  K2-00014-CL20283-CP21216-03-06-S2.json   \n",
       "71998  K2-00020-CL13719-CP12624-03-09-S2.json   \n",
       "71999  K2-00020-CL13719-CP12624-03-09-S2.json   \n",
       "\n",
       "                                          session_dialog  \\\n",
       "2      ['반가워요~~ 저는 20대 여자입니다. 저는 아메리카노를 자주 마셔요.', '오 ...   \n",
       "3      ['아 반갑습니다. 저는 20대 여자이고요. 도서관 사서로 일하고 있어요.', '아...   \n",
       "8      ['안녕하세요! 저는 부천에 사는 10대 여자입니다!', '만나서 반가워요 ㅎㅎ 같...   \n",
       "9      ['반가워요! ㅎㅎ 저도 10대 여성이에요!', '저는 요즘 진학 문제때문에 너무 ...   \n",
       "24     ['반가워요 ㅋㅋ 저는20대 남성인데 그쪽은요??', 'ㅋㅋ 저는 지금 자기주장이 ...   \n",
       "...                                                  ...   \n",
       "71995  ['네네 거의 한달만에 연락드리네요 저는 학생들이랑 수업하고 요즘 수행평가기간이라 ...   \n",
       "71996  ['아니 하루뒤에나 연락드렸네요... 일이 좀 있었어요.', '아니 어제 장을 보러...   \n",
       "71997  ['무슨 일이신데요?', '네??? 그게 무슨 말씀인가요? 병원 가야하나요?', '...   \n",
       "71998  ['안녕하세요~ 2주만이네요~ 요즘도 요리 관련 동아리 활동 잘 하고 계신가요?',...   \n",
       "71999  ['네, 좋아하는 스파게티도 만들어 먹고 역시 동아리 활동이 즐거워요.  추운데 건...   \n",
       "\n",
       "                                         session_persona  \n",
       "2      ['나는 20대 여자이다. 나는 아메리카노를 자주 마신다.', '나는 뉴질랜드로 어...  \n",
       "3                          ['나는 20대 여자이다. 나는 도서관 사서이다.']  \n",
       "8      ['나는 10대 여성이다. 내가 사는 곳은 부천이다.', '나는 요즘 즐겁다. 나는...  \n",
       "9      ['나는 10대 여자이다.', '나는 진학문제 때문에 고민이다. 나는 진학문제로 아...  \n",
       "24     ['나는 20대 남자이다.', '나는 자기주장이 강하다. 나는 전기정보공학부 부전공...  \n",
       "...                                                  ...  \n",
       "71995  ['나는 학생들 이과 수업하고 요즘 수행평가기간이라 아이들 수행평가를 지도해주면서 ...  \n",
       "71996  ['나는 볼 일이 있었다.', '나는 차 사고가 났다.', '나는 난기류를 만났을 ...  \n",
       "71997  ['나는 비행기 트라우마가 있다. 나는 성인이 되고 나서 안 타봤다.', '나는 난...  \n",
       "71998  ['나는 운전면허를 따고 싶다', '나는 대중교통에서 탈출하고 자가용을 이용하고 싶...  \n",
       "71999  ['나는 좋아하는 스파게티도 만들어 먹고 동아리 활동이 즐겁다.', '나는 운전면허...  \n",
       "\n",
       "[41316 rows x 3 columns]"
      ]
     },
     "execution_count": 28,
     "metadata": {},
     "output_type": "execute_result"
    }
   ],
   "source": [
    "# id, session_dialog, session_persona를 column으로 가지는 dataframe으로 변환\n",
    "session_2_age_20 = pd.DataFrame(columns=['id', 'session_dialog', 'session_persona'])\n",
    "\n",
    "# session_1_dialog, session_1_persona를 sesion_dialog, session_persona 위치에 concat\n",
    "session_2_age_20 = pd.concat([session_2_age_20, tl_session2_age20[['id', 'session_1_dialog', 'session_1_persona']].rename(columns={'session_1_dialog': 'session_dialog', 'session_1_persona': 'session_persona'})])\n",
    "session_2_age_20 = pd.concat([session_2_age_20, tl_session2_age20[['id', 'session_2_dialog', 'session_2_persona']].rename(columns={'session_2_dialog': 'session_dialog', 'session_2_persona': 'session_persona'})])\n",
    "\n",
    "session_2_age_20"
   ]
  },
  {
   "cell_type": "code",
   "execution_count": 30,
   "metadata": {},
   "outputs": [],
   "source": [
    "# 저장\n",
    "# session_2_age_20.to_csv('./data/train/session_2_age_20.csv', index=False)"
   ]
  },
  {
   "cell_type": "code",
   "execution_count": 34,
   "metadata": {},
   "outputs": [],
   "source": [
    "# session_2_age_20을 8대 2로 나누어 train, validation으로 사용\n",
    "# from sklearn.model_selection import train_test_split\n",
    "\n",
    "# train, validation = train_test_split(session_2_age_20, test_size=0.2, random_state=42)"
   ]
  },
  {
   "cell_type": "code",
   "execution_count": 35,
   "metadata": {},
   "outputs": [],
   "source": [
    "# 저장\n",
    "# train.to_csv('./data/train/train.csv', index=False)\n",
    "# validation.to_csv('./data/train/validation.csv', index=False)"
   ]
  },
  {
   "cell_type": "markdown",
   "metadata": {},
   "source": [
    "## session별 dialog 개수 시각화"
   ]
  },
  {
   "cell_type": "markdown",
   "metadata": {},
   "source": [
    "- **결과** : session별로 7-10개가 많이 존재 "
   ]
  },
  {
   "cell_type": "code",
   "execution_count": 1,
   "metadata": {},
   "outputs": [],
   "source": [
    "# import pandas as pd\n",
    "# import numpy as np\n",
    "\n",
    "# tl_session2_age20 = pd.read_csv('./data/train/session_2_age_20.csv')"
   ]
  },
  {
   "cell_type": "code",
   "execution_count": 17,
   "metadata": {},
   "outputs": [
    {
     "name": "stdout",
     "output_type": "stream",
     "text": [
      "session_1_dialog\n",
      "count    20658.000000\n",
      "mean         7.614532\n",
      "std          0.757449\n",
      "min          4.000000\n",
      "25%          7.000000\n",
      "50%          7.000000\n",
      "75%          8.000000\n",
      "max         17.000000\n",
      "Name: session_1_dialog, dtype: float64\n",
      "\n",
      "session_2_dialog\n",
      "count    20658.000000\n",
      "mean         7.734292\n",
      "std          0.978802\n",
      "min          5.000000\n",
      "25%          7.000000\n",
      "50%          7.000000\n",
      "75%          8.000000\n",
      "max         16.000000\n",
      "Name: session_2_dialog, dtype: float64\n"
     ]
    }
   ],
   "source": [
    "## 통계값\n",
    "print('session_1_dialog')\n",
    "print(tl_session2_age20['session_1_dialog'].apply(lambda x: len(eval(x))).describe())\n",
    "print('\\nsession_2_dialog')\n",
    "print(tl_session2_age20['session_2_dialog'].apply(lambda x: len(eval(x))).describe())"
   ]
  },
  {
   "cell_type": "code",
   "execution_count": 7,
   "metadata": {},
   "outputs": [
    {
     "data": {
      "image/png": "[encoded data removed]",
      "text/plain": [
       "<Figure size 1500x500 with 2 Axes>"
      ]
     },
     "metadata": {},
     "output_type": "display_data"
    }
   ],
   "source": [
    "# session별 dialog 길이 시각화\n",
    "import matplotlib.pyplot as plt\n",
    "import seaborn\n",
    "\n",
    "fig, ax = plt.subplots(1, 2, figsize=(15, 5))\n",
    "\n",
    "seaborn.barplot(x=tl_session2_age20['session_1_dialog'].apply(lambda x: len(eval(x))).value_counts().index,\n",
    "                y=tl_session2_age20['session_1_dialog'].apply(lambda x: len(eval(x))).value_counts().values,\n",
    "                ax=ax[0])\n",
    "ax[0].set_xlabel('The number of utterance')\n",
    "ax[0].set_title('session_1_dialog')\n",
    "ax[0].set_ylabel('count')\n",
    "ax[0].spines['top'].set_visible(False)\n",
    "ax[0].spines['right'].set_visible(False)\n",
    "\n",
    "seaborn.barplot(x=tl_session2_age20['session_2_dialog'].apply(lambda x: len(eval(x))).value_counts().index,\n",
    "                y=tl_session2_age20['session_2_dialog'].apply(lambda x: len(eval(x))).value_counts().values,\n",
    "                ax=ax[1])\n",
    "ax[1].set_xlabel('The number of utterance')\n",
    "ax[1].set_title('session_2_dialog')\n",
    "ax[1].set_ylabel('count')\n",
    "ax[1].spines['top'].set_visible(False)\n",
    "ax[1].spines['right'].set_visible(False)"
   ]
  },
  {
   "cell_type": "markdown",
   "metadata": {},
   "source": [
    "## session 별 모든 dialog를 하나로 이었을 때의 string 길이 시각화"
   ]
  },
  {
   "cell_type": "code",
   "execution_count": 20,
   "metadata": {},
   "outputs": [
    {
     "name": "stdout",
     "output_type": "stream",
     "text": [
      "session_1_dialog\n",
      "count    20658.000000\n",
      "mean       277.296011\n",
      "std         68.971613\n",
      "min        115.000000\n",
      "25%        229.000000\n",
      "50%        266.000000\n",
      "75%        312.000000\n",
      "max        926.000000\n",
      "Name: session_1_dialog, dtype: float64\n",
      "\n",
      "session_2_dialog\n",
      "count    20658.000000\n",
      "mean       296.345338\n",
      "std         85.981149\n",
      "min        138.000000\n",
      "25%        239.000000\n",
      "50%        282.000000\n",
      "75%        335.000000\n",
      "max       1889.000000\n",
      "Name: session_2_dialog, dtype: float64\n"
     ]
    }
   ],
   "source": [
    "## 통계값\n",
    "print('session_1_dialog')\n",
    "print(tl_session2_age20['session_1_dialog'].apply(lambda x: len(' '.join(eval(x)))).describe())\n",
    "print('\\nsession_2_dialog')\n",
    "print(tl_session2_age20['session_2_dialog'].apply(lambda x: len(' '.join(eval(x)))).describe())"
   ]
  },
  {
   "cell_type": "code",
   "execution_count": 22,
   "metadata": {},
   "outputs": [
    {
     "name": "stderr",
     "output_type": "stream",
     "text": [
      "/home/donghae/anaconda3/envs/persona_extraction/lib/python3.10/site-packages/seaborn/_oldcore.py:1119: FutureWarning: use_inf_as_na option is deprecated and will be removed in a future version. Convert inf values to NaN before operating instead.\n",
      "  with pd.option_context('mode.use_inf_as_na', True):\n",
      "/home/donghae/anaconda3/envs/persona_extraction/lib/python3.10/site-packages/seaborn/_oldcore.py:1119: FutureWarning: use_inf_as_na option is deprecated and will be removed in a future version. Convert inf values to NaN before operating instead.\n",
      "  with pd.option_context('mode.use_inf_as_na', True):\n"
     ]
    },
    {
     "data": {
      "image/png": "[encoded data removed]",
      "text/plain": [
       "<Figure size 1500x500 with 2 Axes>"
      ]
     },
     "metadata": {},
     "output_type": "display_data"
    }
   ],
   "source": [
    "# session 별 모든 dialog를 하나로 이었을 때의 string 길이 시각화\n",
    "fig, ax = plt.subplots(1, 2, figsize=(15, 5))\n",
    "\n",
    "seaborn.histplot(tl_session2_age20['session_1_dialog'].apply(lambda x: len(' '.join(eval(x)))), ax=ax[0])\n",
    "ax[0].set_xlabel('The length of total concated dialog')\n",
    "ax[0].set_title('session_1_dialog')\n",
    "ax[0].set_ylabel('count')\n",
    "ax[0].set_xlim(0, 1000)\n",
    "ax[0].spines['top'].set_visible(False)\n",
    "ax[0].spines['right'].set_visible(False)\n",
    "\n",
    "seaborn.histplot(tl_session2_age20['session_2_dialog'].apply(lambda x: len(' '.join(eval(x)))), ax=ax[1])\n",
    "ax[1].set_xlabel('The length of total concated dialog')\n",
    "ax[1].set_title('session_2_dialog')\n",
    "ax[1].set_ylabel('count')\n",
    "ax[1].set_xlim(0, 1000)\n",
    "ax[1].spines['top'].set_visible(False)\n",
    "ax[1].spines['right'].set_visible(False)"
   ]
  },
  {
   "cell_type": "markdown",
   "metadata": {},
   "source": [
    "## session 별 모든 dialog를 하나로 이은 후, et5-base의 tokenizer를 이용해 토큰화 했을 때의 token 개수 시각화"
   ]
  },
  {
   "cell_type": "code",
   "execution_count": 9,
   "metadata": {},
   "outputs": [
    {
     "name": "stderr",
     "output_type": "stream",
     "text": [
      "/home/donghae/anaconda3/envs/persona_extraction/lib/python3.10/site-packages/tqdm/auto.py:21: TqdmWarning: IProgress not found. Please update jupyter and ipywidgets. See https://ipywidgets.readthedocs.io/en/stable/user_install.html\n",
      "  from .autonotebook import tqdm as notebook_tqdm\n",
      "You are using the default legacy behaviour of the <class 'transformers.models.t5.tokenization_t5.T5Tokenizer'>. This is expected, and simply means that the `legacy` (previous) behavior will be used so nothing changes for you. If you want to use the new behaviour, set `legacy=False`. This should only be set if you understand what it means, and thoroughly read the reason why this was added as explained in https://github.com/huggingface/transformers/pull/24565\n"
     ]
    }
   ],
   "source": [
    "from transformers import T5Tokenizer\n",
    "\n",
    "tokenizer = T5Tokenizer.from_pretrained('et5-base')"
   ]
  },
  {
   "cell_type": "code",
   "execution_count": 25,
   "metadata": {},
   "outputs": [
    {
     "name": "stdout",
     "output_type": "stream",
     "text": [
      "session_1_dialog\n",
      "count    20658.000000\n",
      "mean       118.712121\n",
      "std         29.065746\n",
      "min         43.000000\n",
      "25%         99.000000\n",
      "50%        115.000000\n",
      "75%        133.000000\n",
      "max        365.000000\n",
      "Name: session_1_dialog, dtype: float64\n",
      "\n",
      "session_2_dialog\n",
      "count    20658.000000\n",
      "mean       127.818085\n",
      "std         36.241429\n",
      "min         54.000000\n",
      "25%        104.000000\n",
      "50%        122.000000\n",
      "75%        144.000000\n",
      "max        826.000000\n",
      "Name: session_2_dialog, dtype: float64\n"
     ]
    }
   ],
   "source": [
    "## 통계값\n",
    "print('session_1_dialog')\n",
    "print(tl_session2_age20['session_1_dialog'].apply(lambda x: len(tokenizer.encode(' '.join(eval(x))))).describe())\n",
    "print('\\nsession_2_dialog')\n",
    "print(tl_session2_age20['session_2_dialog'].apply(lambda x: len(tokenizer.encode(' '.join(eval(x))))).describe())"
   ]
  },
  {
   "cell_type": "code",
   "execution_count": 27,
   "metadata": {},
   "outputs": [
    {
     "name": "stderr",
     "output_type": "stream",
     "text": [
      "/home/donghae/anaconda3/envs/persona_extraction/lib/python3.10/site-packages/seaborn/_oldcore.py:1119: FutureWarning: use_inf_as_na option is deprecated and will be removed in a future version. Convert inf values to NaN before operating instead.\n",
      "  with pd.option_context('mode.use_inf_as_na', True):\n",
      "/home/donghae/anaconda3/envs/persona_extraction/lib/python3.10/site-packages/seaborn/_oldcore.py:1119: FutureWarning: use_inf_as_na option is deprecated and will be removed in a future version. Convert inf values to NaN before operating instead.\n",
      "  with pd.option_context('mode.use_inf_as_na', True):\n"
     ]
    },
    {
     "data": {
      "image/png": "[encoded data removed]",
      "text/plain": [
       "<Figure size 1500x500 with 2 Axes>"
      ]
     },
     "metadata": {},
     "output_type": "display_data"
    }
   ],
   "source": [
    "# session 별 모든 dialog를 하나로 이은 후, et5-base의 tokenizer를 이용해 토큰화 했을 때의 token 개수 시각화\n",
    "fig, ax = plt.subplots(1, 2, figsize=(15, 5))\n",
    "\n",
    "seaborn.histplot(tl_session2_age20['session_1_dialog'].apply(lambda x: len(tokenizer.encode(' '.join(eval(x))))), ax=ax[0])\n",
    "ax[0].set_xlabel('The number of tokens')\n",
    "ax[0].set_title('session_1_dialog')\n",
    "ax[0].set_ylabel('count')\n",
    "ax[0].set_xlim(0, 500)\n",
    "ax[0].spines['top'].set_visible(False)\n",
    "ax[0].spines['right'].set_visible(False)\n",
    "\n",
    "seaborn.histplot(tl_session2_age20['session_2_dialog'].apply(lambda x: len(tokenizer.encode(' '.join(eval(x))))), ax=ax[1])\n",
    "ax[1].set_xlabel('The number of tokens')\n",
    "ax[1].set_title('session_2_dialog')\n",
    "ax[1].set_ylabel('count')\n",
    "ax[1].set_xlim(0, 500)\n",
    "ax[1].spines['top'].set_visible(False)\n",
    "ax[1].spines['right'].set_visible(False)"
   ]
  },
  {
   "cell_type": "markdown",
   "metadata": {},
   "source": [
    "### 세션 별 페르소나 token 길이 분포"
   ]
  },
  {
   "cell_type": "code",
   "execution_count": 23,
   "metadata": {},
   "outputs": [
    {
     "name": "stdout",
     "output_type": "stream",
     "text": [
      "session_1_persona\n",
      "count    20658.000000\n",
      "mean        49.386533\n",
      "std         20.716477\n",
      "min          6.000000\n",
      "25%         35.000000\n",
      "50%         47.000000\n",
      "75%         61.000000\n",
      "max        171.000000\n",
      "Name: session_1_persona, dtype: float64\n",
      "\n",
      "session_2_persona\n",
      "count    20658.000000\n",
      "mean        38.817891\n",
      "std         24.832033\n",
      "min          2.000000\n",
      "25%         20.000000\n",
      "50%         34.000000\n",
      "75%         52.000000\n",
      "max        206.000000\n",
      "Name: session_2_persona, dtype: float64\n"
     ]
    }
   ],
   "source": [
    "## 통계값\n",
    "print('session_1_persona')\n",
    "print(tl_session2_age20['session_1_persona'].apply(lambda x: len(tokenizer.encode(' '.join(eval(x))))).describe())\n",
    "print('\\nsession_2_persona')\n",
    "print(tl_session2_age20['session_2_persona'].apply(lambda x: len(tokenizer.encode(' '.join(eval(x))))).describe())"
   ]
  },
  {
   "cell_type": "markdown",
   "metadata": {},
   "source": [
    "## session1와 session2를 합치고, 모든 dialog를 하나로 이은 후, [gogamza/kobart-base-v2](https://huggingface.co/gogamza/kobart-base-v2)의 tokenizer를 이용해 토큰화 했을 때의 token 개수 확인"
   ]
  },
  {
   "cell_type": "code",
   "execution_count": 11,
   "metadata": {},
   "outputs": [],
   "source": [
    "import pandas as pd\n",
    "from tqdm import tqdm\n",
    "import numpy as np\n",
    "\n",
    "tl_session2_age20 = pd.read_csv('./data/train/session_2_age_20.csv')"
   ]
  },
  {
   "cell_type": "code",
   "execution_count": 9,
   "metadata": {},
   "outputs": [
    {
     "data": {
      "text/html": [
       "<div>\n",
       "<style scoped>\n",
       "    .dataframe tbody tr th:only-of-type {\n",
       "        vertical-align: middle;\n",
       "    }\n",
       "\n",
       "    .dataframe tbody tr th {\n",
       "        vertical-align: top;\n",
       "    }\n",
       "\n",
       "    .dataframe thead th {\n",
       "        text-align: right;\n",
       "    }\n",
       "</style>\n",
       "<table border=\"1\" class=\"dataframe\">\n",
       "  <thead>\n",
       "    <tr style=\"text-align: right;\">\n",
       "      <th></th>\n",
       "      <th>id</th>\n",
       "      <th>session_dialog</th>\n",
       "      <th>session_persona</th>\n",
       "    </tr>\n",
       "  </thead>\n",
       "  <tbody>\n",
       "    <tr>\n",
       "      <th>0</th>\n",
       "      <td>K5-03984-CL74442-CP22286-13-04-S2.json</td>\n",
       "      <td>['반가워요~~ 저는 20대 여자입니다. 저는 아메리카노를 자주 마셔요.', '오 ...</td>\n",
       "      <td>['나는 20대 여자이다. 나는 아메리카노를 자주 마신다.', '나는 뉴질랜드로 어...</td>\n",
       "    </tr>\n",
       "    <tr>\n",
       "      <th>1</th>\n",
       "      <td>K5-03984-CL74442-CP22286-13-04-S2.json</td>\n",
       "      <td>['아 반갑습니다. 저는 20대 여자이고요. 도서관 사서로 일하고 있어요.', '아...</td>\n",
       "      <td>['나는 20대 여자이다. 나는 도서관 사서이다.']</td>\n",
       "    </tr>\n",
       "    <tr>\n",
       "      <th>2</th>\n",
       "      <td>K5-03994-CL74403-CP11608-13-05-S2.json</td>\n",
       "      <td>['안녕하세요! 저는 부천에 사는 10대 여자입니다!', '만나서 반가워요 ㅎㅎ 같...</td>\n",
       "      <td>['나는 10대 여성이다. 내가 사는 곳은 부천이다.', '나는 요즘 즐겁다. 나는...</td>\n",
       "    </tr>\n",
       "    <tr>\n",
       "      <th>3</th>\n",
       "      <td>K5-03994-CL74403-CP11608-13-05-S2.json</td>\n",
       "      <td>['반가워요! ㅎㅎ 저도 10대 여성이에요!', '저는 요즘 진학 문제때문에 너무 ...</td>\n",
       "      <td>['나는 10대 여자이다.', '나는 진학문제 때문에 고민이다. 나는 진학문제로 아...</td>\n",
       "    </tr>\n",
       "    <tr>\n",
       "      <th>4</th>\n",
       "      <td>K5-03997-CL74070-CP11701-04-01-S2.json</td>\n",
       "      <td>['반가워요 ㅋㅋ 저는20대 남성인데 그쪽은요??', 'ㅋㅋ 저는 지금 자기주장이 ...</td>\n",
       "      <td>['나는 20대 남자이다.', '나는 자기주장이 강하다. 나는 전기정보공학부 부전공...</td>\n",
       "    </tr>\n",
       "    <tr>\n",
       "      <th>...</th>\n",
       "      <td>...</td>\n",
       "      <td>...</td>\n",
       "      <td>...</td>\n",
       "    </tr>\n",
       "    <tr>\n",
       "      <th>41311</th>\n",
       "      <td>K2-00002-CL21649-CP31111-08-09-S2.json</td>\n",
       "      <td>['네네 거의 한달만에 연락드리네요 저는 학생들이랑 수업하고 요즘 수행평가기간이라 ...</td>\n",
       "      <td>['나는 학생들 이과 수업하고 요즘 수행평가기간이라 아이들 수행평가를 지도해주면서 ...</td>\n",
       "    </tr>\n",
       "    <tr>\n",
       "      <th>41312</th>\n",
       "      <td>K2-00014-CL20283-CP21216-03-06-S2.json</td>\n",
       "      <td>['아니 하루뒤에나 연락드렸네요... 일이 좀 있었어요.', '아니 어제 장을 보러...</td>\n",
       "      <td>['나는 볼 일이 있었다.', '나는 차 사고가 났다.', '나는 난기류를 만났을 ...</td>\n",
       "    </tr>\n",
       "    <tr>\n",
       "      <th>41313</th>\n",
       "      <td>K2-00014-CL20283-CP21216-03-06-S2.json</td>\n",
       "      <td>['무슨 일이신데요?', '네??? 그게 무슨 말씀인가요? 병원 가야하나요?', '...</td>\n",
       "      <td>['나는 비행기 트라우마가 있다. 나는 성인이 되고 나서 안 타봤다.', '나는 난...</td>\n",
       "    </tr>\n",
       "    <tr>\n",
       "      <th>41314</th>\n",
       "      <td>K2-00020-CL13719-CP12624-03-09-S2.json</td>\n",
       "      <td>['안녕하세요~ 2주만이네요~ 요즘도 요리 관련 동아리 활동 잘 하고 계신가요?',...</td>\n",
       "      <td>['나는 운전면허를 따고 싶다', '나는 대중교통에서 탈출하고 자가용을 이용하고 싶...</td>\n",
       "    </tr>\n",
       "    <tr>\n",
       "      <th>41315</th>\n",
       "      <td>K2-00020-CL13719-CP12624-03-09-S2.json</td>\n",
       "      <td>['네, 좋아하는 스파게티도 만들어 먹고 역시 동아리 활동이 즐거워요.  추운데 건...</td>\n",
       "      <td>['나는 좋아하는 스파게티도 만들어 먹고 동아리 활동이 즐겁다.', '나는 운전면허...</td>\n",
       "    </tr>\n",
       "  </tbody>\n",
       "</table>\n",
       "<p>41316 rows × 3 columns</p>\n",
       "</div>"
      ],
      "text/plain": [
       "                                           id  \\\n",
       "0      K5-03984-CL74442-CP22286-13-04-S2.json   \n",
       "1      K5-03984-CL74442-CP22286-13-04-S2.json   \n",
       "2      K5-03994-CL74403-CP11608-13-05-S2.json   \n",
       "3      K5-03994-CL74403-CP11608-13-05-S2.json   \n",
       "4      K5-03997-CL74070-CP11701-04-01-S2.json   \n",
       "...                                       ...   \n",
       "41311  K2-00002-CL21649-CP31111-08-09-S2.json   \n",
       "41312  K2-00014-CL20283-CP21216-03-06-S2.json   \n",
       "41313  K2-00014-CL20283-CP21216-03-06-S2.json   \n",
       "41314  K2-00020-CL13719-CP12624-03-09-S2.json   \n",
       "41315  K2-00020-CL13719-CP12624-03-09-S2.json   \n",
       "\n",
       "                                          session_dialog  \\\n",
       "0      ['반가워요~~ 저는 20대 여자입니다. 저는 아메리카노를 자주 마셔요.', '오 ...   \n",
       "1      ['아 반갑습니다. 저는 20대 여자이고요. 도서관 사서로 일하고 있어요.', '아...   \n",
       "2      ['안녕하세요! 저는 부천에 사는 10대 여자입니다!', '만나서 반가워요 ㅎㅎ 같...   \n",
       "3      ['반가워요! ㅎㅎ 저도 10대 여성이에요!', '저는 요즘 진학 문제때문에 너무 ...   \n",
       "4      ['반가워요 ㅋㅋ 저는20대 남성인데 그쪽은요??', 'ㅋㅋ 저는 지금 자기주장이 ...   \n",
       "...                                                  ...   \n",
       "41311  ['네네 거의 한달만에 연락드리네요 저는 학생들이랑 수업하고 요즘 수행평가기간이라 ...   \n",
       "41312  ['아니 하루뒤에나 연락드렸네요... 일이 좀 있었어요.', '아니 어제 장을 보러...   \n",
       "41313  ['무슨 일이신데요?', '네??? 그게 무슨 말씀인가요? 병원 가야하나요?', '...   \n",
       "41314  ['안녕하세요~ 2주만이네요~ 요즘도 요리 관련 동아리 활동 잘 하고 계신가요?',...   \n",
       "41315  ['네, 좋아하는 스파게티도 만들어 먹고 역시 동아리 활동이 즐거워요.  추운데 건...   \n",
       "\n",
       "                                         session_persona  \n",
       "0      ['나는 20대 여자이다. 나는 아메리카노를 자주 마신다.', '나는 뉴질랜드로 어...  \n",
       "1                          ['나는 20대 여자이다. 나는 도서관 사서이다.']  \n",
       "2      ['나는 10대 여성이다. 내가 사는 곳은 부천이다.', '나는 요즘 즐겁다. 나는...  \n",
       "3      ['나는 10대 여자이다.', '나는 진학문제 때문에 고민이다. 나는 진학문제로 아...  \n",
       "4      ['나는 20대 남자이다.', '나는 자기주장이 강하다. 나는 전기정보공학부 부전공...  \n",
       "...                                                  ...  \n",
       "41311  ['나는 학생들 이과 수업하고 요즘 수행평가기간이라 아이들 수행평가를 지도해주면서 ...  \n",
       "41312  ['나는 볼 일이 있었다.', '나는 차 사고가 났다.', '나는 난기류를 만났을 ...  \n",
       "41313  ['나는 비행기 트라우마가 있다. 나는 성인이 되고 나서 안 타봤다.', '나는 난...  \n",
       "41314  ['나는 운전면허를 따고 싶다', '나는 대중교통에서 탈출하고 자가용을 이용하고 싶...  \n",
       "41315  ['나는 좋아하는 스파게티도 만들어 먹고 동아리 활동이 즐겁다.', '나는 운전면허...  \n",
       "\n",
       "[41316 rows x 3 columns]"
      ]
     },
     "execution_count": 9,
     "metadata": {},
     "output_type": "execute_result"
    }
   ],
   "source": [
    "tl_session2_age20"
   ]
  },
  {
   "cell_type": "code",
   "execution_count": 2,
   "metadata": {},
   "outputs": [
    {
     "name": "stderr",
     "output_type": "stream",
     "text": [
      "You passed along `num_labels=3` with an incompatible id to label map: {'0': 'NEGATIVE', '1': 'POSITIVE'}. The number of labels wil be overwritten to 2.\n",
      "You passed along `num_labels=3` with an incompatible id to label map: {'0': 'NEGATIVE', '1': 'POSITIVE'}. The number of labels wil be overwritten to 2.\n"
     ]
    }
   ],
   "source": [
    "from transformers import AutoTokenizer\n",
    "\n",
    "tokenizer = AutoTokenizer.from_pretrained('gogamza/kobart-base-v2')"
   ]
  },
  {
   "cell_type": "code",
   "execution_count": 4,
   "metadata": {},
   "outputs": [
    {
     "data": {
      "text/plain": [
       "{'bos_token': '</s>',\n",
       " 'eos_token': '</s>',\n",
       " 'unk_token': '<unk>',\n",
       " 'pad_token': '<pad>',\n",
       " 'mask_token': '<mask>'}"
      ]
     },
     "execution_count": 4,
     "metadata": {},
     "output_type": "execute_result"
    }
   ],
   "source": [
    "tokenizer.special_tokens_map"
   ]
  },
  {
   "cell_type": "code",
   "execution_count": 12,
   "metadata": {},
   "outputs": [
    {
     "name": "stdout",
     "output_type": "stream",
     "text": [
      "session_dialog\n"
     ]
    },
    {
     "name": "stderr",
     "output_type": "stream",
     "text": [
      "100%|██████████| 41316/41316 [00:20<00:00, 2033.56it/s]\n"
     ]
    },
    {
     "name": "stdout",
     "output_type": "stream",
     "text": [
      "count    41316.000000\n",
      "mean       138.371285\n",
      "std         38.842741\n",
      "min         53.000000\n",
      "25%        112.000000\n",
      "50%        132.000000\n",
      "75%        157.000000\n",
      "max        950.000000\n",
      "Name: session_dialog, dtype: float64\n"
     ]
    },
    {
     "name": "stderr",
     "output_type": "stream",
     "text": [
      "100%|██████████| 41316/41316 [00:22<00:00, 1831.17it/s]\n"
     ]
    },
    {
     "name": "stdout",
     "output_type": "stream",
     "text": [
      "session_dialog, 상위 95% percentile: 207.0\n",
      "\n",
      "session_persona\n"
     ]
    },
    {
     "name": "stderr",
     "output_type": "stream",
     "text": [
      "100%|██████████| 41316/41316 [00:09<00:00, 4560.97it/s]\n"
     ]
    },
    {
     "name": "stdout",
     "output_type": "stream",
     "text": [
      "count    41316.000000\n",
      "mean        37.095242\n",
      "std         21.786086\n",
      "min          1.000000\n",
      "25%         22.000000\n",
      "50%         33.000000\n",
      "75%         49.000000\n",
      "max        202.000000\n",
      "Name: session_persona, dtype: float64\n"
     ]
    },
    {
     "name": "stderr",
     "output_type": "stream",
     "text": [
      "100%|██████████| 41316/41316 [00:10<00:00, 4047.92it/s]"
     ]
    },
    {
     "name": "stdout",
     "output_type": "stream",
     "text": [
      "session_persona, 상위 95% percentile: 77.0\n"
     ]
    },
    {
     "name": "stderr",
     "output_type": "stream",
     "text": [
      "\n"
     ]
    }
   ],
   "source": [
    "## 통계갑\n",
    "tqdm.pandas()\n",
    "\n",
    "print('session_dialog')\n",
    "print(tl_session2_age20['session_dialog'].progress_apply(lambda x: len(tokenizer.encode(' '.join(eval(x))))).describe())\n",
    "print('session_dialog, 상위 95% percentile:', tl_session2_age20['session_dialog'].progress_apply(lambda x: len(tokenizer.encode(' '.join(eval(x))))).quantile(0.95))\n",
    "print('\\nsession_persona')\n",
    "print(tl_session2_age20['session_persona'].progress_apply(lambda x: len(tokenizer.encode(' '.join(eval(x))))).describe())\n",
    "print('session_persona, 상위 95% percentile:', tl_session2_age20['session_persona'].progress_apply(lambda x: len(tokenizer.encode(' '.join(eval(x))))).quantile(0.95))"
   ]
  }
 ],
 "metadata": {
  "kernelspec": {
   "display_name": "persona_extraction",
   "language": "python",
   "name": "python3"
  },
  "language_info": {
   "codemirror_mode": {
    "name": "ipython",
    "version": 3
   },
   "file_extension": ".py",
   "mimetype": "text/x-python",
   "name": "python",
   "nbconvert_exporter": "python",
   "pygments_lexer": "ipython3",
   "version": "3.10.13"
  }
 },
 "nbformat": 4,
 "nbformat_minor": 2
}
