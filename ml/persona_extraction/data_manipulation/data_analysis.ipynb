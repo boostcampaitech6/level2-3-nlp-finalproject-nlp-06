{
 "cells": [
  {
   "cell_type": "markdown",
   "metadata": {},
   "source": [
    "## 데이터 분석"
   ]
  },
  {
   "cell_type": "code",
   "execution_count": 19,
   "metadata": {},
   "outputs": [
    {
     "data": {
      "text/html": [
       "<div>\n",
       "<style scoped>\n",
       "    .dataframe tbody tr th:only-of-type {\n",
       "        vertical-align: middle;\n",
       "    }\n",
       "\n",
       "    .dataframe tbody tr th {\n",
       "        vertical-align: top;\n",
       "    }\n",
       "\n",
       "    .dataframe thead th {\n",
       "        text-align: right;\n",
       "    }\n",
       "</style>\n",
       "<table border=\"1\" class=\"dataframe\">\n",
       "  <thead>\n",
       "    <tr style=\"text-align: right;\">\n",
       "      <th></th>\n",
       "      <th>id</th>\n",
       "      <th>topic</th>\n",
       "      <th>gender</th>\n",
       "      <th>age</th>\n",
       "      <th>occupation</th>\n",
       "      <th>num_session</th>\n",
       "      <th>init_persona</th>\n",
       "      <th>final_persona</th>\n",
       "      <th>session_1_dialog</th>\n",
       "      <th>session_1_persona</th>\n",
       "      <th>session_2_dialog</th>\n",
       "      <th>session_2_persona</th>\n",
       "    </tr>\n",
       "  </thead>\n",
       "  <tbody>\n",
       "    <tr>\n",
       "      <th>0</th>\n",
       "      <td>K5-03991-CL74320-CP03664-02-08-S2.json</td>\n",
       "      <td>주거와 생활</td>\n",
       "      <td>남성</td>\n",
       "      <td>30대</td>\n",
       "      <td>기능직</td>\n",
       "      <td>2</td>\n",
       "      <td>['나는 남자이다.', '나는 40대이다.', '나의 가족은 3명이다.', '나는 ...</td>\n",
       "      <td>['나는 남자이다. 나는 40대이다.', '나는 추운 날씨를 좋아한다. 나는 겨울을...</td>\n",
       "      <td>['안녕하세요? 저는 40대 남자입니다.', '그렇군요. 지금 뭐하고 계세요? 오늘...</td>\n",
       "      <td>['나는 남자이다. 나는 40대이다.', '나는 추운 날씨를 좋아한다. 나는 겨울을...</td>\n",
       "      <td>['안녕하세요? 제가 어제 다시 연락 드린다는게 늦었네요.', '죄송해요. 제가 연...</td>\n",
       "      <td>['나는 연락하는 것을 까먹었다.', '나는 곧 이사를 가야한다.', '현재 내가 ...</td>\n",
       "    </tr>\n",
       "    <tr>\n",
       "      <th>1</th>\n",
       "      <td>K5-03991-CL74320-CP03664-02-08-S2.json</td>\n",
       "      <td>주거와 생활</td>\n",
       "      <td>남성</td>\n",
       "      <td>30대</td>\n",
       "      <td>사무직</td>\n",
       "      <td>2</td>\n",
       "      <td>['나는 남자이다.', '나는 40대이다.', '나의 종교는 불교이다.', '나는 ...</td>\n",
       "      <td>['나는 남자이다. 나는 40대이다. 나의 종교는 불교이다.', '나는 짠 음식을 ...</td>\n",
       "      <td>['안녕하세요? 저는 40대 남자입니다. 제 종교는 불교에요.', '저랑 비슷하시네...</td>\n",
       "      <td>['나는 남자이다. 나는 40대이다. 나의 종교는 불교이다.', '나는 짠 음식을 ...</td>\n",
       "      <td>['어제 다시 연락주실 줄 알았는데 연락이 안오더라고요.', '아니에요. 그럴 수 ...</td>\n",
       "      <td>[]</td>\n",
       "    </tr>\n",
       "    <tr>\n",
       "      <th>2</th>\n",
       "      <td>K5-03984-CL74442-CP22286-13-04-S2.json</td>\n",
       "      <td>기후&gt;계절/날씨</td>\n",
       "      <td>여성</td>\n",
       "      <td>20대</td>\n",
       "      <td>무직</td>\n",
       "      <td>2</td>\n",
       "      <td>['나는 여자이다.', '나는 20대이다.', '나는 아메리카노를 자주 마신다.',...</td>\n",
       "      <td>['나는 20대 여자이다. 나는 아메리카노를 자주 마신다.', '나는 뉴질랜드로 어...</td>\n",
       "      <td>['반가워요~~ 저는 20대 여자입니다. 저는 아메리카노를 자주 마셔요.', '오 ...</td>\n",
       "      <td>['나는 20대 여자이다. 나는 아메리카노를 자주 마신다.', '나는 뉴질랜드로 어...</td>\n",
       "      <td>['안녕하세요. 며칠간 일은 잘 하고 계셨죠?', '좋네요. 저는 일렉기타 연주 가...</td>\n",
       "      <td>['나는 일렉기타 연주를 가끔 한다.', '나는 요즘 단풍에 대해서 관심을 갖고 공...</td>\n",
       "    </tr>\n",
       "    <tr>\n",
       "      <th>3</th>\n",
       "      <td>K5-03984-CL74442-CP22286-13-04-S2.json</td>\n",
       "      <td>기후&gt;계절/날씨</td>\n",
       "      <td>여성</td>\n",
       "      <td>20대</td>\n",
       "      <td>학생</td>\n",
       "      <td>2</td>\n",
       "      <td>['나는 여자이다.', '나는 20대이다.', '나는 매우 조용하다.', '나는 도...</td>\n",
       "      <td>['나는 20대 여자이다. 나는 도서관 사서이다.']</td>\n",
       "      <td>['아 반갑습니다. 저는 20대 여자이고요. 도서관 사서로 일하고 있어요.', '아...</td>\n",
       "      <td>['나는 20대 여자이다. 나는 도서관 사서이다.']</td>\n",
       "      <td>['아 네 안녕하세요. 잘 지냈습니다.', '아 일렉 기타 하시는 구나 저도 악기를...</td>\n",
       "      <td>['나는 트럼펫 연주를 배운다.', '나는 상대 덕분에 새로운 사실을 알았다.']</td>\n",
       "    </tr>\n",
       "    <tr>\n",
       "      <th>4</th>\n",
       "      <td>K5-03995-CL74539-CP32098-15-04-S2.json</td>\n",
       "      <td>시사/사회&gt;타국가이슈(해외)</td>\n",
       "      <td>남성</td>\n",
       "      <td>30대</td>\n",
       "      <td>사무직</td>\n",
       "      <td>2</td>\n",
       "      <td>['나는 남자이다.', '나는 30대이다.', '나는 건축학과를 전공했다.', '나...</td>\n",
       "      <td>['나는 30대 남자이다.', '나는 건축학과를 전공해서 건설회사에 근무 중이다.'...</td>\n",
       "      <td>['안녕하세요. 반갑습니다. 저는 30대 남자예요.', '저는 건축학과를 전공해서 ...</td>\n",
       "      <td>['나는 30대 남자이다.', '나는 건축학과를 전공해서 건설회사에 근무 중이다.'...</td>\n",
       "      <td>['안녕하세요. 6일 만에 연락드리네요. 저는 이번에 벼르다 벼르다 코로나백신 4차...</td>\n",
       "      <td>['나는 요즘 백신에 대해서 관심을 갖고 공부한다.', '우리나라도 실외에서 마스크...</td>\n",
       "    </tr>\n",
       "  </tbody>\n",
       "</table>\n",
       "</div>"
      ],
      "text/plain": [
       "                                       id            topic gender  age  \\\n",
       "0  K5-03991-CL74320-CP03664-02-08-S2.json           주거와 생활     남성  30대   \n",
       "1  K5-03991-CL74320-CP03664-02-08-S2.json           주거와 생활     남성  30대   \n",
       "2  K5-03984-CL74442-CP22286-13-04-S2.json         기후>계절/날씨     여성  20대   \n",
       "3  K5-03984-CL74442-CP22286-13-04-S2.json         기후>계절/날씨     여성  20대   \n",
       "4  K5-03995-CL74539-CP32098-15-04-S2.json  시사/사회>타국가이슈(해외)     남성  30대   \n",
       "\n",
       "  occupation  num_session                                       init_persona  \\\n",
       "0        기능직            2  ['나는 남자이다.', '나는 40대이다.', '나의 가족은 3명이다.', '나는 ...   \n",
       "1        사무직            2  ['나는 남자이다.', '나는 40대이다.', '나의 종교는 불교이다.', '나는 ...   \n",
       "2         무직            2  ['나는 여자이다.', '나는 20대이다.', '나는 아메리카노를 자주 마신다.',...   \n",
       "3         학생            2  ['나는 여자이다.', '나는 20대이다.', '나는 매우 조용하다.', '나는 도...   \n",
       "4        사무직            2  ['나는 남자이다.', '나는 30대이다.', '나는 건축학과를 전공했다.', '나...   \n",
       "\n",
       "                                       final_persona  \\\n",
       "0  ['나는 남자이다. 나는 40대이다.', '나는 추운 날씨를 좋아한다. 나는 겨울을...   \n",
       "1  ['나는 남자이다. 나는 40대이다. 나의 종교는 불교이다.', '나는 짠 음식을 ...   \n",
       "2  ['나는 20대 여자이다. 나는 아메리카노를 자주 마신다.', '나는 뉴질랜드로 어...   \n",
       "3                      ['나는 20대 여자이다. 나는 도서관 사서이다.']   \n",
       "4  ['나는 30대 남자이다.', '나는 건축학과를 전공해서 건설회사에 근무 중이다.'...   \n",
       "\n",
       "                                    session_1_dialog  \\\n",
       "0  ['안녕하세요? 저는 40대 남자입니다.', '그렇군요. 지금 뭐하고 계세요? 오늘...   \n",
       "1  ['안녕하세요? 저는 40대 남자입니다. 제 종교는 불교에요.', '저랑 비슷하시네...   \n",
       "2  ['반가워요~~ 저는 20대 여자입니다. 저는 아메리카노를 자주 마셔요.', '오 ...   \n",
       "3  ['아 반갑습니다. 저는 20대 여자이고요. 도서관 사서로 일하고 있어요.', '아...   \n",
       "4  ['안녕하세요. 반갑습니다. 저는 30대 남자예요.', '저는 건축학과를 전공해서 ...   \n",
       "\n",
       "                                   session_1_persona  \\\n",
       "0  ['나는 남자이다. 나는 40대이다.', '나는 추운 날씨를 좋아한다. 나는 겨울을...   \n",
       "1  ['나는 남자이다. 나는 40대이다. 나의 종교는 불교이다.', '나는 짠 음식을 ...   \n",
       "2  ['나는 20대 여자이다. 나는 아메리카노를 자주 마신다.', '나는 뉴질랜드로 어...   \n",
       "3                      ['나는 20대 여자이다. 나는 도서관 사서이다.']   \n",
       "4  ['나는 30대 남자이다.', '나는 건축학과를 전공해서 건설회사에 근무 중이다.'...   \n",
       "\n",
       "                                    session_2_dialog  \\\n",
       "0  ['안녕하세요? 제가 어제 다시 연락 드린다는게 늦었네요.', '죄송해요. 제가 연...   \n",
       "1  ['어제 다시 연락주실 줄 알았는데 연락이 안오더라고요.', '아니에요. 그럴 수 ...   \n",
       "2  ['안녕하세요. 며칠간 일은 잘 하고 계셨죠?', '좋네요. 저는 일렉기타 연주 가...   \n",
       "3  ['아 네 안녕하세요. 잘 지냈습니다.', '아 일렉 기타 하시는 구나 저도 악기를...   \n",
       "4  ['안녕하세요. 6일 만에 연락드리네요. 저는 이번에 벼르다 벼르다 코로나백신 4차...   \n",
       "\n",
       "                                   session_2_persona  \n",
       "0  ['나는 연락하는 것을 까먹었다.', '나는 곧 이사를 가야한다.', '현재 내가 ...  \n",
       "1                                                 []  \n",
       "2  ['나는 일렉기타 연주를 가끔 한다.', '나는 요즘 단풍에 대해서 관심을 갖고 공...  \n",
       "3      ['나는 트럼펫 연주를 배운다.', '나는 상대 덕분에 새로운 사실을 알았다.']  \n",
       "4  ['나는 요즘 백신에 대해서 관심을 갖고 공부한다.', '우리나라도 실외에서 마스크...  "
      ]
     },
     "execution_count": 19,
     "metadata": {},
     "output_type": "execute_result"
    }
   ],
   "source": [
    "# 데이터 불러오기\n",
    "import pandas as pd\n",
    "import numpy as np\n",
    "\n",
    "tl_session2 = pd.read_csv('./data/train/tl_session2.csv')\n",
    "tl_session2.head()"
   ]
  },
  {
   "cell_type": "code",
   "execution_count": 18,
   "metadata": {},
   "outputs": [
    {
     "data": {
      "text/plain": [
       "id                    0\n",
       "topic                 0\n",
       "gender                0\n",
       "age                   0\n",
       "occupation           26\n",
       "num_session           0\n",
       "init_persona          0\n",
       "final_persona         0\n",
       "session_1_dialog      0\n",
       "session_1_persona     0\n",
       "session_2_dialog      0\n",
       "session_2_persona     0\n",
       "dtype: int64"
      ]
     },
     "execution_count": 18,
     "metadata": {},
     "output_type": "execute_result"
    }
   ],
   "source": [
    "# null값 확인\n",
    "tl_session2.isnull().sum()"
   ]
  },
  {
   "cell_type": "code",
   "execution_count": 6,
   "metadata": {},
   "outputs": [
    {
     "data": {
      "text/plain": [
       "age\n",
       "10대         820\n",
       "20대       21722\n",
       "30대       33226\n",
       "40대        8494\n",
       "50대        6511\n",
       "60대 이상     1225\n",
       "60대이상         2\n",
       "Name: id, dtype: int64"
      ]
     },
     "execution_count": 6,
     "metadata": {},
     "output_type": "execute_result"
    }
   ],
   "source": [
    "# 나이대별 분포\n",
    "tl_session2.groupby('age')['id'].count()"
   ]
  },
  {
   "cell_type": "code",
   "execution_count": 4,
   "metadata": {},
   "outputs": [
    {
     "data": {
      "text/plain": [
       "gender\n",
       "여성    43907\n",
       "남성    28093\n",
       "Name: count, dtype: int64"
      ]
     },
     "execution_count": 4,
     "metadata": {},
     "output_type": "execute_result"
    }
   ],
   "source": [
    "# 남성, 여성의 비율\n",
    "tl_session2['gender'].value_counts()"
   ]
  },
  {
   "cell_type": "code",
   "execution_count": 213,
   "metadata": {},
   "outputs": [
    {
     "data": {
      "image/png": "[encoded data removed]",
      "text/plain": [
       "<Figure size 1500x500 with 2 Axes>"
      ]
     },
     "metadata": {},
     "output_type": "display_data"
    }
   ],
   "source": [
    "# init_persona와 final_persona의 문장 길이 통계 시각화\n",
    "import matplotlib.pyplot as plt\n",
    "import seaborn as sns\n",
    "\n",
    "fig, ax = plt.subplots(1, 2, figsize=(15, 5))\n",
    "sns.barplot(x=tl_session2['init_persona'].apply(lambda x: len(eval(x))).value_counts().index,\n",
    "             y=tl_session2['init_persona'].apply(lambda x: len(eval(x))).value_counts().values,\n",
    "             ax=ax[0])\n",
    "ax[0].set_title('init_persona_num')\n",
    "sns.barplot(x=tl_session2['final_persona'].apply(lambda x: len(eval(x))).value_counts().index,\n",
    "             y=tl_session2['final_persona'].apply(lambda x: len(eval(x))).value_counts().values,\n",
    "             ax=ax[1])\n",
    "ax[1].set_title('final_persona_num')\n",
    "plt.show()"
   ]
  },
  {
   "cell_type": "code",
   "execution_count": 287,
   "metadata": {},
   "outputs": [
    {
     "data": {
      "text/plain": [
       "Text(0.5, 1.0, 'session_2_persona_num')"
      ]
     },
     "execution_count": 287,
     "metadata": {},
     "output_type": "execute_result"
    },
    {
     "data": {
      "image/png": "[encoded data removed]",
      "text/plain": [
       "<Figure size 1500x500 with 2 Axes>"
      ]
     },
     "metadata": {},
     "output_type": "display_data"
    }
   ],
   "source": [
    "## session별 persona의 개수\n",
    "\n",
    "fig, ax = plt.subplots(1, 2, figsize=(15, 5))\n",
    "sns.barplot(x=tl_session2['session_1_persona'].apply(lambda x: len(eval(x))).value_counts().index,\n",
    "            y=tl_session2['session_1_persona'].apply(lambda x: len(eval(x))).value_counts().values,\n",
    "            ax=ax[0])\n",
    "ax[0].set_title('session_1_persona_num')\n",
    "\n",
    "sns.barplot(x=tl_session2['session_2_persona'].apply(lambda x: len(eval(x))).value_counts().index,\n",
    "            y=tl_session2['session_2_persona'].apply(lambda x: len(eval(x))).value_counts().values,\n",
    "            ax=ax[1])\n",
    "ax[1].set_title('session_2_persona_num')"
   ]
  },
  {
   "cell_type": "code",
   "execution_count": 212,
   "metadata": {},
   "outputs": [
    {
     "data": {
      "text/plain": [
       "Text(0.5, 1.0, 'session_2_dialog_num')"
      ]
     },
     "execution_count": 212,
     "metadata": {},
     "output_type": "execute_result"
    },
    {
     "data": {
      "image/png": "[encoded data removed]",
      "text/plain": [
       "<Figure size 1500x1000 with 2 Axes>"
      ]
     },
     "metadata": {},
     "output_type": "display_data"
    }
   ],
   "source": [
    "## session별 dialog의 개수\n",
    "\n",
    "fig, ax = plt.subplots(1, 2, figsize=(15, 10))\n",
    "\n",
    "sns.barplot(x=tl_session2['session_1_dialog'].apply(lambda x: len(eval(x))).value_counts().index, \n",
    "            y=tl_session2['session_1_dialog'].apply(lambda x: len(eval(x))).value_counts().values, \n",
    "            ax=ax[0])\n",
    "ax[0].set_title('session_1_dialog_num')\n",
    "\n",
    "sns.barplot(x=tl_session2['session_2_dialog'].apply(lambda x: len(eval(x))).value_counts().index, \n",
    "            y=tl_session2['session_2_dialog'].apply(lambda x: len(eval(x))).value_counts().values, \n",
    "            ax=ax[1])\n",
    "ax[1].set_title('session_2_dialog_num')\n"
   ]
  },
  {
   "cell_type": "markdown",
   "metadata": {},
   "source": [
    "## 문장 요약 테스트"
   ]
  },
  {
   "cell_type": "markdown",
   "metadata": {},
   "source": [
    "- 'digit82/kobart-summarization'"
   ]
  },
  {
   "cell_type": "code",
   "execution_count": 24,
   "metadata": {},
   "outputs": [],
   "source": [
    "import torch"
   ]
  },
  {
   "cell_type": "code",
   "execution_count": 11,
   "metadata": {},
   "outputs": [
    {
     "name": "stderr",
     "output_type": "stream",
     "text": [
      "/home/donghae/anaconda3/envs/persona_extraction/lib/python3.10/site-packages/tqdm/auto.py:21: TqdmWarning: IProgress not found. Please update jupyter and ipywidgets. See https://ipywidgets.readthedocs.io/en/stable/user_install.html\n",
      "  from .autonotebook import tqdm as notebook_tqdm\n",
      "tokenizer_config.json: 100%|██████████| 295/295 [00:00<00:00, 1.11MB/s]\n",
      "tokenizer.json: 100%|██████████| 682k/682k [00:00<00:00, 916kB/s]\n",
      "special_tokens_map.json: 100%|██████████| 109/109 [00:00<00:00, 531kB/s]\n",
      "config.json: 100%|██████████| 1.20k/1.20k [00:00<00:00, 4.91MB/s]\n",
      "You passed along `num_labels=3` with an incompatible id to label map: {'0': 'NEGATIVE', '1': 'POSITIVE'}. The number of labels wil be overwritten to 2.\n",
      "pytorch_model.bin: 100%|██████████| 496M/496M [00:08<00:00, 56.9MB/s] \n"
     ]
    }
   ],
   "source": [
    "from transformers import PreTrainedTokenizerFast\n",
    "from transformers import BartForConditionalGeneration\n",
    "\n",
    "bart_tokenizer = PreTrainedTokenizerFast.from_pretrained('digit82/kobart-summarization')\n",
    "bart_summarization_model = BartForConditionalGeneration.from_pretrained('digit82/kobart-summarization', cache_dir='./cache')"
   ]
  },
  {
   "cell_type": "code",
   "execution_count": 13,
   "metadata": {},
   "outputs": [
    {
     "data": {
      "text/plain": [
       "\"['나는 남자이다.', '나는 40대이다.', '나의 가족은 3명이다.', '나는 추운 날씨를 좋아한다.', '나는 클래식 음악을 가끔 듣는다.', '나는 요즘 역세권에 대해서 관심을 갖고 공부한다.']\""
      ]
     },
     "execution_count": 13,
     "metadata": {},
     "output_type": "execute_result"
    }
   ],
   "source": [
    "tl_session2['init_persona'][0]"
   ]
  },
  {
   "cell_type": "code",
   "execution_count": 14,
   "metadata": {},
   "outputs": [
    {
     "data": {
      "text/plain": [
       "\"['나는 남자이다. 나는 40대이다.', '나는 추운 날씨를 좋아한다. 나는 겨울을 좋아한다.', '나는 클래식 음악을 가끔 듣는다.', '나의 가족은 3명이다.', '나는 급한 일이 있다.']\""
      ]
     },
     "execution_count": 14,
     "metadata": {},
     "output_type": "execute_result"
    }
   ],
   "source": [
    "tl_session2['final_persona'][0]"
   ]
  },
  {
   "cell_type": "code",
   "execution_count": 192,
   "metadata": {},
   "outputs": [],
   "source": [
    "# text = eval(tl_session2['final_persona'][0]) # + eval(tl_session2['final_persona'][0])\n",
    "\n",
    "def get_persona(text, beams=3):\n",
    "    raw_input_ids = bart_tokenizer.encode(' '.join(text))\n",
    "    input_ids = [bart_tokenizer.bos_token_id] + raw_input_ids + [bart_tokenizer.eos_token_id]\n",
    "    \n",
    "    bart_summarization_model.eval()\n",
    "    with torch.no_grad():\n",
    "        summary_ids = [bart_summarization_model.generate(torch.tensor([input_ids]),  num_beams=num_beam,  max_length=512,  eos_token_id=1) for num_beam in range(1, beams+1)]\n",
    "    \n",
    "    outputs = [f'beam_size: {i} :' + bart_tokenizer.decode(summary_id.squeeze().tolist(), skip_special_tokens=True) for i, summary_id in enumerate(summary_ids, start=1)]\n",
    "\n",
    "    return outputs"
   ]
  },
  {
   "cell_type": "code",
   "execution_count": 193,
   "metadata": {},
   "outputs": [
    {
     "name": "stdout",
     "output_type": "stream",
     "text": [
      "['나는 남자이다. 나는 40대이다.', '나는 추운 날씨를 좋아한다. 나는 겨울을 좋아한다.', '나는 클래식 음악을 가끔 듣는다.', '나의 가족은 3명이다.', '나는 급한 일이 있다.']\n"
     ]
    },
    {
     "data": {
      "text/plain": [
       "['beam_size: 1 :나는 40대 남자이고 40대이다.',\n",
       " 'beam_size: 2 :나는 40대한 일이 있고 급한 일이 있으며 나는 40대이다.',\n",
       " 'beam_size: 3 :나는 40대한 일이 있고 급한 일이 있고 급한 일이 있으며 나는 남자이다. 나는 40대이다. 나는 40대이다. 나는 40대이다. 나는 40대이다. 나는 추운 날씨를 좋아하고 추운 날씨를 좋아하며 겨울을 좋아한다.']"
      ]
     },
     "execution_count": 193,
     "metadata": {},
     "output_type": "execute_result"
    }
   ],
   "source": [
    "## final_persona만 사용 \n",
    "\n",
    "text = eval(tl_session2['final_persona'][0])# + eval(tl_session2['init_persona'][0])\n",
    "print(text)\n",
    "get_persona(text)"
   ]
  },
  {
   "cell_type": "code",
   "execution_count": 214,
   "metadata": {},
   "outputs": [
    {
     "name": "stdout",
     "output_type": "stream",
     "text": [
      "['나는 남자이다.', '나는 40대이다.', '나의 가족은 3명이다.', '나는 추운 날씨를 좋아한다.', '나는 클래식 음악을 가끔 듣는다.', '나는 요즘 역세권에 대해서 관심을 갖고 공부한다.']\n"
     ]
    },
    {
     "data": {
      "text/plain": [
       "['beam_size: 1 :나는 40대 40대이고 가족은 3명이며 추운 날씨를 좋아한다.',\n",
       " 'beam_size: 2 :추운 날씨를 좋아하고 클래식 음악을 가끔 듣는다는 나는 요즘 역세권에 대해서 관심을 갖고 공부한다.',\n",
       " 'beam_size: 3 :추운 날씨를 좋아하고 클래식 음악을 가끔 듣는다는 나는 요즘 역세권에 대해서 관심을 갖고 공부한다.']"
      ]
     },
     "execution_count": 214,
     "metadata": {},
     "output_type": "execute_result"
    }
   ],
   "source": [
    "## init_persona만 사용\n",
    "\n",
    "text = eval(tl_session2['init_persona'][0])# + eval(tl_session2['init_persona'][0])\n",
    "print(text)\n",
    "get_persona(text)"
   ]
  },
  {
   "cell_type": "code",
   "execution_count": 194,
   "metadata": {},
   "outputs": [
    {
     "name": "stdout",
     "output_type": "stream",
     "text": [
      "['남자이다. 나는 40대이다.', '추운 날씨를 좋아한다. 나는 겨울을 좋아한다.', '클래식 음악을 가끔 듣는다.', '가족은 3명이다.', '급한 일이 있다.']\n"
     ]
    },
    {
     "data": {
      "text/plain": [
       "['beam_size: 1 :나는 40대 40대이고 클래식 음악을 가끔 듣는다.',\n",
       " 'beam_size: 2 :추운 날씨를 좋아하고 클래식 음악을 가끔 듣는다.',\n",
       " 'beam_size: 3 :추운 날씨를 좋아하고 클래식 음악을 가끔 듣는다.']"
      ]
     },
     "execution_count": 194,
     "metadata": {},
     "output_type": "execute_result"
    }
   ],
   "source": [
    "## final_persona의 맨 앞의 '나는'을 없에기\n",
    "\n",
    "text = eval(tl_session2['final_persona'][0])# + eval(tl_session2['init_persona'][0])\n",
    "text = [t[3:] for t in text]\n",
    "print(text)\n",
    "get_persona(text)"
   ]
  },
  {
   "cell_type": "markdown",
   "metadata": {},
   "source": [
    "- gpt-3.5 turbo"
   ]
  },
  {
   "cell_type": "code",
   "execution_count": null,
   "metadata": {},
   "outputs": [],
   "source": [
    "## chatGPT\n",
    "'''\n",
    "prompt : 다음에 주어지는 파이썬 리스트는 사람의 페르소나와 관련된 정보이다. \n",
    "['나는 남자이다.', '나는 40대이다.', '나의 가족은 3명이다.', '나는 추운 날씨를 좋아한다.', '나는 클래식 음악을 가끔 듣는다.', '나는 요즘 역세권에 대해서 관심을 갖고 공부한다.', '나는 남자이다. 나는 40대이다.', '나는 추운 날씨를 좋아한다. 나는 겨울을 좋아한다.', '나는 클래식 음악을 가끔 듣는다.', '나의 가족은 3명이다.', '나는 급한 일이 있다.'] \n",
    "이 리스트 속 페르소나를 한 문장으로 요약해서 파이썬 string 형태로 반환\n",
    "'''\n",
    "\n",
    "'''\n",
    "answer : \"나는 남자이고 40대이며 가족은 3명이며 추운 날씨와 겨울을 좋아하며 클래식 음악을 가끔 듣고 역세권에 대해서 관심을 갖고 있으며 급한 일이 있다.\"\n",
    "'''"
   ]
  },
  {
   "cell_type": "markdown",
   "metadata": {},
   "source": [
    "## 일상 대화 요약 모델 테스트"
   ]
  },
  {
   "cell_type": "markdown",
   "metadata": {},
   "source": [
    "- 사용 모델 : [alaggung/bart-r3f](https://huggingface.co/alaggung/bart-r3f)"
   ]
  },
  {
   "cell_type": "code",
   "execution_count": 169,
   "metadata": {},
   "outputs": [
    {
     "name": "stderr",
     "output_type": "stream",
     "text": [
      "config.json: 100%|██████████| 1.02k/1.02k [00:00<00:00, 3.98MB/s]\n",
      "pytorch_model.bin: 100%|██████████| 187M/187M [00:02<00:00, 67.1MB/s] \n"
     ]
    }
   ],
   "source": [
    "from transformers import AutoTokenizer, BartForConditionalGeneration\n",
    "\n",
    "dialog_tokenizer = AutoTokenizer.from_pretrained('alaggung/bart-r3f')\n",
    "dialog_model = BartForConditionalGeneration.from_pretrained('alaggung/bart-r3f', cache_dir='./cache')"
   ]
  },
  {
   "cell_type": "markdown",
   "metadata": {},
   "source": [
    "### 일상 대화 요약모델로 페르소나를 요약"
   ]
  },
  {
   "cell_type": "code",
   "execution_count": 283,
   "metadata": {},
   "outputs": [
    {
     "data": {
      "text/plain": [
       "['나는 남자이다.',\n",
       " '나는 40대이다.',\n",
       " '나의 가족은 3명이다.',\n",
       " '나는 추운 날씨를 좋아한다.',\n",
       " '나는 클래식 음악을 가끔 듣는다.',\n",
       " '나는 요즘 역세권에 대해서 관심을 갖고 공부한다.']"
      ]
     },
     "execution_count": 283,
     "metadata": {},
     "output_type": "execute_result"
    }
   ],
   "source": [
    "eval(tl_session2['init_persona'][0])"
   ]
  },
  {
   "cell_type": "code",
   "execution_count": 269,
   "metadata": {},
   "outputs": [
    {
     "data": {
      "text/plain": [
       "['나는 추운 날씨를 좋아한다.', '나는 클래식 음악을 가끔 듣는다.', '나는 요즘 역세권에 대해서 관심을 갖고 공부한다.']"
      ]
     },
     "execution_count": 269,
     "metadata": {},
     "output_type": "execute_result"
    }
   ],
   "source": [
    "text = eval(tl_session2['init_persona'][0])\n",
    "text = text[3:]\n",
    "text"
   ]
  },
  {
   "cell_type": "code",
   "execution_count": 270,
   "metadata": {},
   "outputs": [],
   "source": [
    "input_ids = dialog_tokenizer.encode('[BOS]'+'[SEP]'.join(text)+'[EOS]')"
   ]
  },
  {
   "cell_type": "code",
   "execution_count": 271,
   "metadata": {},
   "outputs": [
    {
     "data": {
      "text/plain": [
       "tensor([[   2,  762,  310,  880, 1188,   80,  133, 1094, 1259,  264,  350,  122,\n",
       "         1043,  851, 1666,  678,  474,  110, 2101,    3,    3,    3,    3,    3,\n",
       "            3,    3,    3,    3,    3,    3,    3,    3,    3,    3,    3,    3,\n",
       "            3,    3,    3,    3,    3,    3,    3,    3,    3,    3,    3,    3,\n",
       "            3,    3,    3,    3,    3,    3,    3,    3,    3,    3,    3,    3,\n",
       "            3,    3,    3,    3,    3,    3,    3,    3,    3,    3,    3,    3,\n",
       "            3,    3,    3,    3,    3,    3,    3,    3,    3,    3,    3,    3,\n",
       "            3,    3,    3,    3,    3,    3,    3,    3,    3,    3,    3,    3,\n",
       "            3,    3,    3,    3]])"
      ]
     },
     "execution_count": 271,
     "metadata": {},
     "output_type": "execute_result"
    }
   ],
   "source": [
    "output = dialog_model.generate(torch.tensor([input_ids]),  num_beams=3,  max_length=100,  eos_token_id=1)\n",
    "output"
   ]
  },
  {
   "cell_type": "code",
   "execution_count": 272,
   "metadata": {},
   "outputs": [
    {
     "data": {
      "text/plain": [
       "'추운 날씨를 좋아해서 클래식 음악을 가끔 듣는다.'"
      ]
     },
     "execution_count": 272,
     "metadata": {},
     "output_type": "execute_result"
    }
   ],
   "source": [
    "dialog_tokenizer.decode(output.squeeze().tolist(), skip_special_tokens=True) # text[3:]"
   ]
  },
  {
   "cell_type": "code",
   "execution_count": 267,
   "metadata": {},
   "outputs": [
    {
     "data": {
      "text/plain": [
       "'나는 40대이고 나의 가족은 3명이다.'"
      ]
     },
     "execution_count": 267,
     "metadata": {},
     "output_type": "execute_result"
    }
   ],
   "source": [
    "dialog_tokenizer.decode(output.squeeze().tolist(), skip_special_tokens=True) # text[:3]"
   ]
  },
  {
   "cell_type": "code",
   "execution_count": 268,
   "metadata": {},
   "outputs": [
    {
     "data": {
      "text/plain": [
       "'추운 날씨를 좋아해서 클래식 음악을 가끔 듣는다.을 하고 있다.'"
      ]
     },
     "execution_count": 268,
     "metadata": {},
     "output_type": "execute_result"
    }
   ],
   "source": [
    "after_text = ['추운 날씨를 좋아해서 클래식 음악을 가끔 듣는다.','나는 40대이고 나의 가족은 3명이다.']\n",
    "input_ids = dialog_tokenizer.encode('[BOS]'+'[SEP]'.join(after_text)+'[EOS]')\n",
    "dialog_model.eval()\n",
    "with torch.no_grad():\n",
    "    output = dialog_model.generate(torch.tensor([input_ids]),  num_beams=3,  max_length=100,  eos_token_id=1)\n",
    "dialog_tokenizer.decode(output.squeeze().tolist(), skip_special_tokens=True)"
   ]
  },
  {
   "cell_type": "markdown",
   "metadata": {},
   "source": [
    "- 일상 대화의 경우 하나의 문장 안에 그리 많은 정보가 들어있지 않을 수 있다.\n",
    "- 3개씩 나눠서 저장하고 사용하는게 좋아보인다"
   ]
  },
  {
   "cell_type": "markdown",
   "metadata": {},
   "source": [
    "### 일상 대화 요약 모델의 일상 대화 성능"
   ]
  },
  {
   "cell_type": "code",
   "execution_count": 274,
   "metadata": {},
   "outputs": [
    {
     "data": {
      "text/html": [
       "<div>\n",
       "<style scoped>\n",
       "    .dataframe tbody tr th:only-of-type {\n",
       "        vertical-align: middle;\n",
       "    }\n",
       "\n",
       "    .dataframe tbody tr th {\n",
       "        vertical-align: top;\n",
       "    }\n",
       "\n",
       "    .dataframe thead th {\n",
       "        text-align: right;\n",
       "    }\n",
       "</style>\n",
       "<table border=\"1\" class=\"dataframe\">\n",
       "  <thead>\n",
       "    <tr style=\"text-align: right;\">\n",
       "      <th></th>\n",
       "      <th>id</th>\n",
       "      <th>topic</th>\n",
       "      <th>gender</th>\n",
       "      <th>age</th>\n",
       "      <th>occupation</th>\n",
       "      <th>num_session</th>\n",
       "      <th>init_persona</th>\n",
       "      <th>final_persona</th>\n",
       "      <th>session_1_dialog</th>\n",
       "      <th>session_1_persona</th>\n",
       "      <th>session_2_dialog</th>\n",
       "      <th>session_2_persona</th>\n",
       "    </tr>\n",
       "  </thead>\n",
       "  <tbody>\n",
       "    <tr>\n",
       "      <th>0</th>\n",
       "      <td>K5-03991-CL74320-CP03664-02-08-S2.json</td>\n",
       "      <td>주거와 생활</td>\n",
       "      <td>남성</td>\n",
       "      <td>30대</td>\n",
       "      <td>기능직</td>\n",
       "      <td>2</td>\n",
       "      <td>['나는 남자이다.', '나는 40대이다.', '나의 가족은 3명이다.', '나는 ...</td>\n",
       "      <td>['나는 남자이다. 나는 40대이다.', '나는 추운 날씨를 좋아한다. 나는 겨울을...</td>\n",
       "      <td>['안녕하세요? 저는 40대 남자입니다.', '그렇군요. 지금 뭐하고 계세요? 오늘...</td>\n",
       "      <td>['나는 남자이다. 나는 40대이다.', '나는 추운 날씨를 좋아한다. 나는 겨울을...</td>\n",
       "      <td>['안녕하세요? 제가 어제 다시 연락 드린다는게 늦었네요.', '죄송해요. 제가 연...</td>\n",
       "      <td>['나는 연락하는 것을 까먹었다.', '나는 곧 이사를 가야한다.', '현재 내가 ...</td>\n",
       "    </tr>\n",
       "    <tr>\n",
       "      <th>1</th>\n",
       "      <td>K5-03991-CL74320-CP03664-02-08-S2.json</td>\n",
       "      <td>주거와 생활</td>\n",
       "      <td>남성</td>\n",
       "      <td>30대</td>\n",
       "      <td>사무직</td>\n",
       "      <td>2</td>\n",
       "      <td>['나는 남자이다.', '나는 40대이다.', '나의 종교는 불교이다.', '나는 ...</td>\n",
       "      <td>['나는 남자이다. 나는 40대이다. 나의 종교는 불교이다.', '나는 짠 음식을 ...</td>\n",
       "      <td>['안녕하세요? 저는 40대 남자입니다. 제 종교는 불교에요.', '저랑 비슷하시네...</td>\n",
       "      <td>['나는 남자이다. 나는 40대이다. 나의 종교는 불교이다.', '나는 짠 음식을 ...</td>\n",
       "      <td>['어제 다시 연락주실 줄 알았는데 연락이 안오더라고요.', '아니에요. 그럴 수 ...</td>\n",
       "      <td>[]</td>\n",
       "    </tr>\n",
       "    <tr>\n",
       "      <th>2</th>\n",
       "      <td>K5-03984-CL74442-CP22286-13-04-S2.json</td>\n",
       "      <td>기후&gt;계절/날씨</td>\n",
       "      <td>여성</td>\n",
       "      <td>20대</td>\n",
       "      <td>무직</td>\n",
       "      <td>2</td>\n",
       "      <td>['나는 여자이다.', '나는 20대이다.', '나는 아메리카노를 자주 마신다.',...</td>\n",
       "      <td>['나는 20대 여자이다. 나는 아메리카노를 자주 마신다.', '나는 뉴질랜드로 어...</td>\n",
       "      <td>['반가워요~~ 저는 20대 여자입니다. 저는 아메리카노를 자주 마셔요.', '오 ...</td>\n",
       "      <td>['나는 20대 여자이다. 나는 아메리카노를 자주 마신다.', '나는 뉴질랜드로 어...</td>\n",
       "      <td>['안녕하세요. 며칠간 일은 잘 하고 계셨죠?', '좋네요. 저는 일렉기타 연주 가...</td>\n",
       "      <td>['나는 일렉기타 연주를 가끔 한다.', '나는 요즘 단풍에 대해서 관심을 갖고 공...</td>\n",
       "    </tr>\n",
       "    <tr>\n",
       "      <th>3</th>\n",
       "      <td>K5-03984-CL74442-CP22286-13-04-S2.json</td>\n",
       "      <td>기후&gt;계절/날씨</td>\n",
       "      <td>여성</td>\n",
       "      <td>20대</td>\n",
       "      <td>학생</td>\n",
       "      <td>2</td>\n",
       "      <td>['나는 여자이다.', '나는 20대이다.', '나는 매우 조용하다.', '나는 도...</td>\n",
       "      <td>['나는 20대 여자이다. 나는 도서관 사서이다.']</td>\n",
       "      <td>['아 반갑습니다. 저는 20대 여자이고요. 도서관 사서로 일하고 있어요.', '아...</td>\n",
       "      <td>['나는 20대 여자이다. 나는 도서관 사서이다.']</td>\n",
       "      <td>['아 네 안녕하세요. 잘 지냈습니다.', '아 일렉 기타 하시는 구나 저도 악기를...</td>\n",
       "      <td>['나는 트럼펫 연주를 배운다.', '나는 상대 덕분에 새로운 사실을 알았다.']</td>\n",
       "    </tr>\n",
       "    <tr>\n",
       "      <th>4</th>\n",
       "      <td>K5-03995-CL74539-CP32098-15-04-S2.json</td>\n",
       "      <td>시사/사회&gt;타국가이슈(해외)</td>\n",
       "      <td>남성</td>\n",
       "      <td>30대</td>\n",
       "      <td>사무직</td>\n",
       "      <td>2</td>\n",
       "      <td>['나는 남자이다.', '나는 30대이다.', '나는 건축학과를 전공했다.', '나...</td>\n",
       "      <td>['나는 30대 남자이다.', '나는 건축학과를 전공해서 건설회사에 근무 중이다.'...</td>\n",
       "      <td>['안녕하세요. 반갑습니다. 저는 30대 남자예요.', '저는 건축학과를 전공해서 ...</td>\n",
       "      <td>['나는 30대 남자이다.', '나는 건축학과를 전공해서 건설회사에 근무 중이다.'...</td>\n",
       "      <td>['안녕하세요. 6일 만에 연락드리네요. 저는 이번에 벼르다 벼르다 코로나백신 4차...</td>\n",
       "      <td>['나는 요즘 백신에 대해서 관심을 갖고 공부한다.', '우리나라도 실외에서 마스크...</td>\n",
       "    </tr>\n",
       "  </tbody>\n",
       "</table>\n",
       "</div>"
      ],
      "text/plain": [
       "                                       id            topic gender  age  \\\n",
       "0  K5-03991-CL74320-CP03664-02-08-S2.json           주거와 생활     남성  30대   \n",
       "1  K5-03991-CL74320-CP03664-02-08-S2.json           주거와 생활     남성  30대   \n",
       "2  K5-03984-CL74442-CP22286-13-04-S2.json         기후>계절/날씨     여성  20대   \n",
       "3  K5-03984-CL74442-CP22286-13-04-S2.json         기후>계절/날씨     여성  20대   \n",
       "4  K5-03995-CL74539-CP32098-15-04-S2.json  시사/사회>타국가이슈(해외)     남성  30대   \n",
       "\n",
       "  occupation  num_session                                       init_persona  \\\n",
       "0        기능직            2  ['나는 남자이다.', '나는 40대이다.', '나의 가족은 3명이다.', '나는 ...   \n",
       "1        사무직            2  ['나는 남자이다.', '나는 40대이다.', '나의 종교는 불교이다.', '나는 ...   \n",
       "2         무직            2  ['나는 여자이다.', '나는 20대이다.', '나는 아메리카노를 자주 마신다.',...   \n",
       "3         학생            2  ['나는 여자이다.', '나는 20대이다.', '나는 매우 조용하다.', '나는 도...   \n",
       "4        사무직            2  ['나는 남자이다.', '나는 30대이다.', '나는 건축학과를 전공했다.', '나...   \n",
       "\n",
       "                                       final_persona  \\\n",
       "0  ['나는 남자이다. 나는 40대이다.', '나는 추운 날씨를 좋아한다. 나는 겨울을...   \n",
       "1  ['나는 남자이다. 나는 40대이다. 나의 종교는 불교이다.', '나는 짠 음식을 ...   \n",
       "2  ['나는 20대 여자이다. 나는 아메리카노를 자주 마신다.', '나는 뉴질랜드로 어...   \n",
       "3                      ['나는 20대 여자이다. 나는 도서관 사서이다.']   \n",
       "4  ['나는 30대 남자이다.', '나는 건축학과를 전공해서 건설회사에 근무 중이다.'...   \n",
       "\n",
       "                                    session_1_dialog  \\\n",
       "0  ['안녕하세요? 저는 40대 남자입니다.', '그렇군요. 지금 뭐하고 계세요? 오늘...   \n",
       "1  ['안녕하세요? 저는 40대 남자입니다. 제 종교는 불교에요.', '저랑 비슷하시네...   \n",
       "2  ['반가워요~~ 저는 20대 여자입니다. 저는 아메리카노를 자주 마셔요.', '오 ...   \n",
       "3  ['아 반갑습니다. 저는 20대 여자이고요. 도서관 사서로 일하고 있어요.', '아...   \n",
       "4  ['안녕하세요. 반갑습니다. 저는 30대 남자예요.', '저는 건축학과를 전공해서 ...   \n",
       "\n",
       "                                   session_1_persona  \\\n",
       "0  ['나는 남자이다. 나는 40대이다.', '나는 추운 날씨를 좋아한다. 나는 겨울을...   \n",
       "1  ['나는 남자이다. 나는 40대이다. 나의 종교는 불교이다.', '나는 짠 음식을 ...   \n",
       "2  ['나는 20대 여자이다. 나는 아메리카노를 자주 마신다.', '나는 뉴질랜드로 어...   \n",
       "3                      ['나는 20대 여자이다. 나는 도서관 사서이다.']   \n",
       "4  ['나는 30대 남자이다.', '나는 건축학과를 전공해서 건설회사에 근무 중이다.'...   \n",
       "\n",
       "                                    session_2_dialog  \\\n",
       "0  ['안녕하세요? 제가 어제 다시 연락 드린다는게 늦었네요.', '죄송해요. 제가 연...   \n",
       "1  ['어제 다시 연락주실 줄 알았는데 연락이 안오더라고요.', '아니에요. 그럴 수 ...   \n",
       "2  ['안녕하세요. 며칠간 일은 잘 하고 계셨죠?', '좋네요. 저는 일렉기타 연주 가...   \n",
       "3  ['아 네 안녕하세요. 잘 지냈습니다.', '아 일렉 기타 하시는 구나 저도 악기를...   \n",
       "4  ['안녕하세요. 6일 만에 연락드리네요. 저는 이번에 벼르다 벼르다 코로나백신 4차...   \n",
       "\n",
       "                                   session_2_persona  \n",
       "0  ['나는 연락하는 것을 까먹었다.', '나는 곧 이사를 가야한다.', '현재 내가 ...  \n",
       "1                                                 []  \n",
       "2  ['나는 일렉기타 연주를 가끔 한다.', '나는 요즘 단풍에 대해서 관심을 갖고 공...  \n",
       "3      ['나는 트럼펫 연주를 배운다.', '나는 상대 덕분에 새로운 사실을 알았다.']  \n",
       "4  ['나는 요즘 백신에 대해서 관심을 갖고 공부한다.', '우리나라도 실외에서 마스크...  "
      ]
     },
     "execution_count": 274,
     "metadata": {},
     "output_type": "execute_result"
    }
   ],
   "source": [
    "# 데이터 불러오기\n",
    "import pandas as pd\n",
    "import numpy as np\n",
    "\n",
    "tl_session2 = pd.read_csv('./data/train/tl_session2.csv')\n",
    "tl_session2.head()"
   ]
  },
  {
   "cell_type": "code",
   "execution_count": 275,
   "metadata": {},
   "outputs": [
    {
     "data": {
      "text/plain": [
       "\"['안녕하세요? 저는 40대 남자입니다.', '그렇군요. 지금 뭐하고 계세요? 오늘 날씨가 많이 춥네요. 저는 추운 날씨가 좋더라고요.', '저는 클래식 음악을 듣고 있어요. 들으면 마음이 차분해져서 가끔 들어요.', '이따가 저녁에 가족이랑 밥 먹으려고요.', '저희 가족은 어머니, 아버지, 형 그리고 저에요. 저 빼고 3명이에요.', '그렇군요. 나중에 시간되면 저랑 같이 밥 먹어요.', '갑자기 급한 일이 생겨서 가봐야겠네요.', '죄송해요. 제가 다음에 다시 연락드릴게요.']\""
      ]
     },
     "execution_count": 275,
     "metadata": {},
     "output_type": "execute_result"
    }
   ],
   "source": [
    "tl_session2['session_1_dialog'][0]"
   ]
  },
  {
   "cell_type": "code",
   "execution_count": 276,
   "metadata": {},
   "outputs": [
    {
     "data": {
      "text/plain": [
       "\"['안녕하세요? 제가 어제 다시 연락 드린다는게 늦었네요.', '죄송해요. 제가 연락드리는 걸 까먹었네요.', '이해해 주셔서 정말 감사합니다.', '제가 곧 이사를 가야해서 역세권인 새로운 집을 찾고 있었어요.', '이번달로 전세계약이 끝나거든요. 전세가격이 인상되서 다른 곳으로 가려고요.', '아직까지 제 마음에 쏙 드는 집은 없는 것 같아요.', '네. 상당한 공인중개사 분도 그러다가 남한테 뺏긴다고 적당히 마음에 들면 계약해야된다고 하셨어요.', '그러셨군요. 아 저는 요즘 역세권에 대해서 관심을 갖고 공부하고 있어요.', '역세권은 일반적으로 전철역에서 5~10분 거리에 있는 지역을 일컫는데요. 이 거리는 반경이 아니구요. 실제 걷는 거리로 10분 이내여야해요~', '저도 역세권으로 잘 찾고 싶네요. 저는 부동산 연락와서 집 보러 갈게요!']\""
      ]
     },
     "execution_count": 276,
     "metadata": {},
     "output_type": "execute_result"
    }
   ],
   "source": [
    "tl_session2['session_2_dialog'][0]"
   ]
  },
  {
   "cell_type": "code",
   "execution_count": 279,
   "metadata": {},
   "outputs": [],
   "source": [
    "def get_dialog_summary(text):\n",
    "    input_ids = dialog_tokenizer.encode('[BOS]'+'[SEP]'.join(text)+'[EOS]')\n",
    "    dialog_model.eval()\n",
    "    with torch.no_grad():\n",
    "        output = dialog_model.generate(torch.tensor([input_ids]),  num_beams=3,  max_length=100,  eos_token_id=1)\n",
    "    output = dialog_tokenizer.decode(output.squeeze().tolist(), skip_special_tokens=True)\n",
    "\n",
    "    return output"
   ]
  },
  {
   "cell_type": "code",
   "execution_count": 280,
   "metadata": {},
   "outputs": [
    {
     "data": {
      "text/plain": [
       "'오늘 날씨가 많이 춥고 추운 날씨가 좋아서 클래식 음악을 듣고 있다.'"
      ]
     },
     "execution_count": 280,
     "metadata": {},
     "output_type": "execute_result"
    }
   ],
   "source": [
    "get_dialog_summary(eval(tl_session2['session_1_dialog'][0]))"
   ]
  },
  {
   "cell_type": "code",
   "execution_count": 281,
   "metadata": {},
   "outputs": [
    {
     "data": {
      "text/plain": [
       "'이사를 가야 해서 역세권인 새로운 집을 찾고 있었는데 아직까지 마음에 드는 집은 없는 것 같다.'"
      ]
     },
     "execution_count": 281,
     "metadata": {},
     "output_type": "execute_result"
    }
   ],
   "source": [
    "get_dialog_summary(eval(tl_session2['session_2_dialog'][0]))"
   ]
  },
  {
   "cell_type": "markdown",
   "metadata": {},
   "source": [
    "- 요약 시, 손실되는 정보가 너무 많다\n",
    "- 라벨 페르소나에 담긴 정보를 예측할 수 있도록 요약된 대화 내에 관련 내용이 있어야 하지만, 손실되는 경우가 많아 학습이 제대로 이뤄지지 않을 듯\n",
    "- 그렇다면 모든 문장을 다 집어넣고 session마다 페르소나를 뽑아내도록 해야할 듯"
   ]
  }
 ],
 "metadata": {
  "kernelspec": {
   "display_name": "persona_extraction",
   "language": "python",
   "name": "python3"
  },
  "language_info": {
   "codemirror_mode": {
    "name": "ipython",
    "version": 3
   },
   "file_extension": ".py",
   "mimetype": "text/x-python",
   "name": "python",
   "nbconvert_exporter": "python",
   "pygments_lexer": "ipython3",
   "version": "3.10.13"
  }
 },
 "nbformat": 4,
 "nbformat_minor": 2
}
