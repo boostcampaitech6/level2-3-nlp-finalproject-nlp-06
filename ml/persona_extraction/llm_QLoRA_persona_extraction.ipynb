{
 "cells": [
  {
   "cell_type": "code",
   "execution_count": 1,
   "metadata": {},
   "outputs": [
    {
     "name": "stdout",
     "output_type": "stream",
     "text": [
      "Tue Mar 26 17:33:24 2024       \n",
      "+-----------------------------------------------------------------------------+\n",
      "| NVIDIA-SMI 525.60.13    Driver Version: 525.60.13    CUDA Version: 12.0     |\n",
      "|-------------------------------+----------------------+----------------------+\n",
      "| GPU  Name        Persistence-M| Bus-Id        Disp.A | Volatile Uncorr. ECC |\n",
      "| Fan  Temp  Perf  Pwr:Usage/Cap|         Memory-Usage | GPU-Util  Compute M. |\n",
      "|                               |                      |               MIG M. |\n",
      "|===============================+======================+======================|\n",
      "|   0  Tesla V100-SXM2...  Off  | 00000000:00:05.0 Off |                  Off |\n",
      "| N/A   36C    P0    51W / 300W |  10576MiB / 32768MiB |      0%      Default |\n",
      "|                               |                      |                  N/A |\n",
      "+-------------------------------+----------------------+----------------------+\n",
      "                                                                               \n",
      "+-----------------------------------------------------------------------------+\n",
      "| Processes:                                                                  |\n",
      "|  GPU   GI   CI        PID   Type   Process name                  GPU Memory |\n",
      "|        ID   ID                                                   Usage      |\n",
      "|=============================================================================|\n",
      "|    0   N/A  N/A     31788      C   ...onda3/envs/llm/bin/python     2452MiB |\n",
      "|    0   N/A  N/A    414733      C   ...nda3/envs/test/bin/python     8122MiB |\n",
      "+-----------------------------------------------------------------------------+\n"
     ]
    }
   ],
   "source": [
    "!nvidia-smi"
   ]
  },
  {
   "cell_type": "code",
   "execution_count": 1,
   "metadata": {},
   "outputs": [],
   "source": [
    "!pip install -q -U bitsandbytes\n",
    "!pip install -q -U git+https://github.com/huggingface/transformers.git\n",
    "!pip install -q -U git+https://github.com/huggingface/peft.git\n",
    "!pip install -q -U git+https://github.com/huggingface/accelerate.git"
   ]
  },
  {
   "cell_type": "code",
   "execution_count": 2,
   "metadata": {},
   "outputs": [
    {
     "data": {
      "text/plain": [
       "True"
      ]
     },
     "execution_count": 2,
     "metadata": {},
     "output_type": "execute_result"
    }
   ],
   "source": [
    "import torch\n",
    "torch.cuda.is_available()"
   ]
  },
  {
   "cell_type": "markdown",
   "metadata": {},
   "source": [
    "## 모델 불러오기"
   ]
  },
  {
   "cell_type": "markdown",
   "metadata": {},
   "source": [
    "### 4bit Quantization"
   ]
  },
  {
   "cell_type": "code",
   "execution_count": 86,
   "metadata": {},
   "outputs": [
    {
     "name": "stderr",
     "output_type": "stream",
     "text": [
      "Special tokens have been added in the vocabulary, make sure the associated word embeddings are fine-tuned or trained.\n",
      "Loading checkpoint shards: 100%|██████████| 3/3 [00:01<00:00,  1.73it/s]\n"
     ]
    }
   ],
   "source": [
    "import torch\n",
    "import transformers\n",
    "from transformers import AutoTokenizer, AutoModelForCausalLM, BitsAndBytesConfig\n",
    "from peft import PeftModel\n",
    "\n",
    "\n",
    "model_id = \"EleutherAI/polyglot-ko-1.3b\" # 'beomi/OPEN-SOLAR-KO-10.7B' \n",
    "bnb_config = BitsAndBytesConfig(\n",
    "    load_in_4bit=True,\n",
    "    bnb_4bit_use_double_quant=True,\n",
    "    bnb_4bit_quant_type=\"nf4\",\n",
    "    bnb_4bit_compute_dtype=torch.bfloat16\n",
    ")\n",
    "\n",
    "tokenizer = AutoTokenizer.from_pretrained(model_id)\n",
    "model = AutoModelForCausalLM.from_pretrained(model_id, quantization_config=bnb_config, device_map={\"\":0}, cache_dir='./cache')"
   ]
  },
  {
   "cell_type": "markdown",
   "metadata": {},
   "source": [
    "### QLoRA setting"
   ]
  },
  {
   "cell_type": "code",
   "execution_count": 80,
   "metadata": {},
   "outputs": [],
   "source": [
    "def print_trainable_parameters(model):\n",
    "    \"\"\"\n",
    "    Prints the number of trainable parameters in the model.\n",
    "    \"\"\"\n",
    "    trainable_params = 0\n",
    "    all_param = 0\n",
    "    for _, param in model.named_parameters():\n",
    "        all_param += param.numel()\n",
    "        if param.requires_grad:\n",
    "            trainable_params += param.numel()\n",
    "    print(\n",
    "        f\"trainable params: {trainable_params} || all params: {all_param} || trainable%: {100 * trainable_params / all_param}\"\n",
    "    )"
   ]
  },
  {
   "cell_type": "code",
   "execution_count": 66,
   "metadata": {},
   "outputs": [
    {
     "name": "stdout",
     "output_type": "stream",
     "text": [
      "trainable params: 1572864 || all params: 729403392 || trainable%: 0.21563705588032142\n"
     ]
    }
   ],
   "source": [
    "from peft import prepare_model_for_kbit_training, LoraConfig, get_peft_model\n",
    "\n",
    "# kbit training\n",
    "model.gradient_checkpointing_enable()\n",
    "model = prepare_model_for_kbit_training(model)\n",
    "\n",
    "# lora config\n",
    "config = LoraConfig(\n",
    "    r=8,\n",
    "    lora_alpha=32,\n",
    "    target_modules=[\"query_key_value\"], #[\"q_proj\",\"up_proj\",\"o_proj\",\"k_proj\",\"down_proj\",\"gate_proj\",\"v_proj\"], \n",
    "    lora_dropout=0.05,\n",
    "    bias=\"none\",\n",
    "    task_type=\"CAUSAL_LM\"\n",
    ")\n",
    "\n",
    "# peft model\n",
    "model = get_peft_model(model, config)\n",
    "print_trainable_parameters(model)"
   ]
  },
  {
   "cell_type": "markdown",
   "metadata": {},
   "source": [
    "## 데이터 마련"
   ]
  },
  {
   "cell_type": "code",
   "execution_count": 67,
   "metadata": {},
   "outputs": [
    {
     "data": {
      "text/html": [
       "<div>\n",
       "<style scoped>\n",
       "    .dataframe tbody tr th:only-of-type {\n",
       "        vertical-align: middle;\n",
       "    }\n",
       "\n",
       "    .dataframe tbody tr th {\n",
       "        vertical-align: top;\n",
       "    }\n",
       "\n",
       "    .dataframe thead th {\n",
       "        text-align: right;\n",
       "    }\n",
       "</style>\n",
       "<table border=\"1\" class=\"dataframe\">\n",
       "  <thead>\n",
       "    <tr style=\"text-align: right;\">\n",
       "      <th></th>\n",
       "      <th>id</th>\n",
       "      <th>session_dialog</th>\n",
       "      <th>session_persona</th>\n",
       "    </tr>\n",
       "  </thead>\n",
       "  <tbody>\n",
       "    <tr>\n",
       "      <th>0</th>\n",
       "      <td>K2-10540-CL12939-CP35150-09-05-S2.json</td>\n",
       "      <td>['안녕, 잘 지냈어? 2일만이네.', '응, 혹시 반려동물을 키워? 요즘 유기견이...</td>\n",
       "      <td>['나는 가끔 외로워서 반려동물을 키워보고 싶다. 나는 유기견 입양에 대해 고민하고...</td>\n",
       "    </tr>\n",
       "    <tr>\n",
       "      <th>1</th>\n",
       "      <td>K2-34114-CL01643-CP00208-06-18-S2.json</td>\n",
       "      <td>['안녕. 20대 여자야. 반가워.', '아니, 나는 무교야. 너는?', '어떤 일...</td>\n",
       "      <td>['나는 종교가 없다.', '나는 펀드매니저이다.', '나는 좋아하는 음식으로 기분...</td>\n",
       "    </tr>\n",
       "    <tr>\n",
       "      <th>2</th>\n",
       "      <td>K2-33618-CL20065-CP22132-16-13-S2.json</td>\n",
       "      <td>['며칠이 지났는지 날짜도 모르겠네. 일주일이 지났어?', '시간이 너무 빨리 가....</td>\n",
       "      <td>['나는 선후배와 잘 어울리지 않는다.']</td>\n",
       "    </tr>\n",
       "    <tr>\n",
       "      <th>3</th>\n",
       "      <td>K2-19873-CL20525-CP22570-06-09-S2.json</td>\n",
       "      <td>['응, 선생님은 준비 잘 하고 있어?', '선생님은 왜 가게 되셨는지 여쭤봐도 될...</td>\n",
       "      <td>['나는 영문학과이다.', '나는 음식을 배우기 위해 미국으로 간다.']</td>\n",
       "    </tr>\n",
       "    <tr>\n",
       "      <th>4</th>\n",
       "      <td>K2-05407-CL01467-CP01154-14-03-S2.json</td>\n",
       "      <td>['응, 하긴 했어. 청소하는 게 짜증나. 너는 무슨 영화를 봤어?', '아니, 나...</td>\n",
       "      <td>['나는 청소하는 게 짜증 난다.', '나는 영화를 안 좋아한다.', '나는 위인전...</td>\n",
       "    </tr>\n",
       "    <tr>\n",
       "      <th>...</th>\n",
       "      <td>...</td>\n",
       "      <td>...</td>\n",
       "      <td>...</td>\n",
       "    </tr>\n",
       "    <tr>\n",
       "      <th>2325</th>\n",
       "      <td>K2-26129-CL23839-CP24690-03-05-S2.json</td>\n",
       "      <td>['안녕, 나는 20대 여자야. 반가워.', '뭐하고 있었어? 난 SF 영화를 가끔...</td>\n",
       "      <td>['나는 SF 영화를 가끔 본다. 나는 오늘 영화 그래비티를 재미있게 봤다.', '...</td>\n",
       "    </tr>\n",
       "    <tr>\n",
       "      <th>2326</th>\n",
       "      <td>K2-34387-CL21846-CP22413-03-04-S2.json</td>\n",
       "      <td>['안녕, 어제는 잘 잤어? 이제 곧 5시네.', '나도 지금 준비중이긴 한데, 지...</td>\n",
       "      <td>['나는 요즘 전기차가 많이 늘어났다고 생각한다.']</td>\n",
       "    </tr>\n",
       "    <tr>\n",
       "      <th>2327</th>\n",
       "      <td>K2-06850-CL00979-CP04444-19-04-S2.json</td>\n",
       "      <td>['안녕, 나는 20대 남자야.', '오, 나이가 좀 있으신 분이시네. 어디 사세요...</td>\n",
       "      <td>['나의 고향은 전라도이다. 나는 현재 서울에 거주하고 있다.', '나는 연예인 지...</td>\n",
       "    </tr>\n",
       "    <tr>\n",
       "      <th>2328</th>\n",
       "      <td>K2-07302-CL20306-CP22594-16-01-S2.json</td>\n",
       "      <td>['5시간이나 지났어? 시간 가는줄도 몰랐네, 다녀왔어.', '아니, 사실 내 입맛...</td>\n",
       "      <td>['나는 커피가 나의 입맛에 맞지 않았다.', '나는 피부가 별로이다.', '나의 ...</td>\n",
       "    </tr>\n",
       "    <tr>\n",
       "      <th>2329</th>\n",
       "      <td>K5-03937-CL74462-CP20739-19-01-S2.json</td>\n",
       "      <td>['안녕, 20대 남자야. 또래네.', '나는 체험 여행을 가끔 가는 편이라 어딜 ...</td>\n",
       "      <td>['나는 체험 여행을 가끔 간다.', '나는 단양 패러 글라이딩 체험에 흥미가 있다...</td>\n",
       "    </tr>\n",
       "  </tbody>\n",
       "</table>\n",
       "<p>2330 rows × 3 columns</p>\n",
       "</div>"
      ],
      "text/plain": [
       "                                          id  \\\n",
       "0     K2-10540-CL12939-CP35150-09-05-S2.json   \n",
       "1     K2-34114-CL01643-CP00208-06-18-S2.json   \n",
       "2     K2-33618-CL20065-CP22132-16-13-S2.json   \n",
       "3     K2-19873-CL20525-CP22570-06-09-S2.json   \n",
       "4     K2-05407-CL01467-CP01154-14-03-S2.json   \n",
       "...                                      ...   \n",
       "2325  K2-26129-CL23839-CP24690-03-05-S2.json   \n",
       "2326  K2-34387-CL21846-CP22413-03-04-S2.json   \n",
       "2327  K2-06850-CL00979-CP04444-19-04-S2.json   \n",
       "2328  K2-07302-CL20306-CP22594-16-01-S2.json   \n",
       "2329  K5-03937-CL74462-CP20739-19-01-S2.json   \n",
       "\n",
       "                                         session_dialog  \\\n",
       "0     ['안녕, 잘 지냈어? 2일만이네.', '응, 혹시 반려동물을 키워? 요즘 유기견이...   \n",
       "1     ['안녕. 20대 여자야. 반가워.', '아니, 나는 무교야. 너는?', '어떤 일...   \n",
       "2     ['며칠이 지났는지 날짜도 모르겠네. 일주일이 지났어?', '시간이 너무 빨리 가....   \n",
       "3     ['응, 선생님은 준비 잘 하고 있어?', '선생님은 왜 가게 되셨는지 여쭤봐도 될...   \n",
       "4     ['응, 하긴 했어. 청소하는 게 짜증나. 너는 무슨 영화를 봤어?', '아니, 나...   \n",
       "...                                                 ...   \n",
       "2325  ['안녕, 나는 20대 여자야. 반가워.', '뭐하고 있었어? 난 SF 영화를 가끔...   \n",
       "2326  ['안녕, 어제는 잘 잤어? 이제 곧 5시네.', '나도 지금 준비중이긴 한데, 지...   \n",
       "2327  ['안녕, 나는 20대 남자야.', '오, 나이가 좀 있으신 분이시네. 어디 사세요...   \n",
       "2328  ['5시간이나 지났어? 시간 가는줄도 몰랐네, 다녀왔어.', '아니, 사실 내 입맛...   \n",
       "2329  ['안녕, 20대 남자야. 또래네.', '나는 체험 여행을 가끔 가는 편이라 어딜 ...   \n",
       "\n",
       "                                        session_persona  \n",
       "0     ['나는 가끔 외로워서 반려동물을 키워보고 싶다. 나는 유기견 입양에 대해 고민하고...  \n",
       "1     ['나는 종교가 없다.', '나는 펀드매니저이다.', '나는 좋아하는 음식으로 기분...  \n",
       "2                               ['나는 선후배와 잘 어울리지 않는다.']  \n",
       "3              ['나는 영문학과이다.', '나는 음식을 배우기 위해 미국으로 간다.']  \n",
       "4     ['나는 청소하는 게 짜증 난다.', '나는 영화를 안 좋아한다.', '나는 위인전...  \n",
       "...                                                 ...  \n",
       "2325  ['나는 SF 영화를 가끔 본다. 나는 오늘 영화 그래비티를 재미있게 봤다.', '...  \n",
       "2326                      ['나는 요즘 전기차가 많이 늘어났다고 생각한다.']  \n",
       "2327  ['나의 고향은 전라도이다. 나는 현재 서울에 거주하고 있다.', '나는 연예인 지...  \n",
       "2328  ['나는 커피가 나의 입맛에 맞지 않았다.', '나는 피부가 별로이다.', '나의 ...  \n",
       "2329  ['나는 체험 여행을 가끔 간다.', '나는 단양 패러 글라이딩 체험에 흥미가 있다...  \n",
       "\n",
       "[2330 rows x 3 columns]"
      ]
     },
     "execution_count": 67,
     "metadata": {},
     "output_type": "execute_result"
    }
   ],
   "source": [
    "import pandas as pd\n",
    "\n",
    "total_df = pd.read_csv('filtered_total.csv')\n",
    "total_df"
   ]
  },
  {
   "cell_type": "markdown",
   "metadata": {},
   "source": [
    "### [no persona] special token 추가"
   ]
  },
  {
   "cell_type": "code",
   "execution_count": 87,
   "metadata": {},
   "outputs": [
    {
     "name": "stdout",
     "output_type": "stream",
     "text": [
      "[no_persona] 개수 :  125\n",
      "------------------------------------------------------------------------------------------------\n",
      "default tokenizer vocab_size : 30003\n",
      "default tokenizer의 [no_persona] tokenizing : [62, 81, 82, 66, 83, 13151, 2600, 68, 64]\n",
      "------------------------------------------------------------------------------------------------\n",
      "added tokenizer vocab_size : 30004\n",
      "added tokenizer의 [no_persona] tokenizing : [30003]\n",
      "------------------------------------------------------------------------------------------------\n",
      "added tokenizer의 special_tokens : {'eos_token': '<|endoftext|>', 'pad_token': '<|endoftext|>', 'additional_special_tokens': ['[no_persona]']}\n"
     ]
    },
    {
     "data": {
      "text/plain": [
       "Embedding(30004, 2048)"
      ]
     },
     "execution_count": 87,
     "metadata": {},
     "output_type": "execute_result"
    }
   ],
   "source": [
    "print(\"[no_persona] 개수 : \", len(total_df[total_df['session_persona']==\"['[no_persona]']\"]))\n",
    "print('------------------------------------------------------------------------------------------------')\n",
    "print('default tokenizer vocab_size :', len(tokenizer))\n",
    "print(\"default tokenizer의 [no_persona] tokenizing :\", tokenizer.encode(\"[no_persona]\"))\n",
    "\n",
    "# tokenizer에 [no_persona] 추가\n",
    "tokenizer.add_special_tokens({'additional_special_tokens': [\"[no_persona]\"]})\n",
    "\n",
    "print('------------------------------------------------------------------------------------------------')\n",
    "print('added tokenizer vocab_size :', len(tokenizer))\n",
    "print(\"added tokenizer의 [no_persona] tokenizing :\", tokenizer.encode(\"[no_persona]\"))\n",
    "\n",
    "print('------------------------------------------------------------------------------------------------')\n",
    "print('added tokenizer의 special_tokens :', tokenizer.special_tokens_map)\n",
    "\n",
    "# model resize\n",
    "model.resize_token_embeddings(len(tokenizer))\n"
   ]
  },
  {
   "cell_type": "markdown",
   "metadata": {},
   "source": [
    "### 데이터셋 만들기"
   ]
  },
  {
   "cell_type": "code",
   "execution_count": 88,
   "metadata": {},
   "outputs": [],
   "source": [
    "def makedata(ses_dialog, ses_persona):\n",
    "        return f\"### 사용자 채팅: {ses_dialog}</끝>\\n### 사용자 페르소나: {ses_persona}</끝>\""
   ]
  },
  {
   "cell_type": "code",
   "execution_count": 89,
   "metadata": {},
   "outputs": [
    {
     "name": "stderr",
     "output_type": "stream",
     "text": [
      "2330it [00:00, 4659.48it/s]\n"
     ]
    }
   ],
   "source": [
    "from tqdm import tqdm\n",
    "\n",
    "total_df['text']=None\n",
    "\n",
    "for i,row in tqdm(total_df.iterrows()):\n",
    "    total_df.loc[i,'text']=(makedata(row['session_dialog'], row['session_persona']))"
   ]
  },
  {
   "cell_type": "code",
   "execution_count": 91,
   "metadata": {},
   "outputs": [
    {
     "data": {
      "text/html": [
       "<div>\n",
       "<style scoped>\n",
       "    .dataframe tbody tr th:only-of-type {\n",
       "        vertical-align: middle;\n",
       "    }\n",
       "\n",
       "    .dataframe tbody tr th {\n",
       "        vertical-align: top;\n",
       "    }\n",
       "\n",
       "    .dataframe thead th {\n",
       "        text-align: right;\n",
       "    }\n",
       "</style>\n",
       "<table border=\"1\" class=\"dataframe\">\n",
       "  <thead>\n",
       "    <tr style=\"text-align: right;\">\n",
       "      <th></th>\n",
       "      <th>id</th>\n",
       "      <th>session_dialog</th>\n",
       "      <th>session_persona</th>\n",
       "      <th>text</th>\n",
       "    </tr>\n",
       "  </thead>\n",
       "  <tbody>\n",
       "    <tr>\n",
       "      <th>0</th>\n",
       "      <td>K2-10540-CL12939-CP35150-09-05-S2.json</td>\n",
       "      <td>['안녕, 잘 지냈어? 2일만이네.', '응, 혹시 반려동물을 키워? 요즘 유기견이...</td>\n",
       "      <td>['나는 가끔 외로워서 반려동물을 키워보고 싶다. 나는 유기견 입양에 대해 고민하고...</td>\n",
       "      <td>### 사용자 채팅: ['안녕, 잘 지냈어? 2일만이네.', '응, 혹시 반려동물을...</td>\n",
       "    </tr>\n",
       "    <tr>\n",
       "      <th>1</th>\n",
       "      <td>K2-34114-CL01643-CP00208-06-18-S2.json</td>\n",
       "      <td>['안녕. 20대 여자야. 반가워.', '아니, 나는 무교야. 너는?', '어떤 일...</td>\n",
       "      <td>['나는 종교가 없다.', '나는 펀드매니저이다.', '나는 좋아하는 음식으로 기분...</td>\n",
       "      <td>### 사용자 채팅: ['안녕. 20대 여자야. 반가워.', '아니, 나는 무교야....</td>\n",
       "    </tr>\n",
       "    <tr>\n",
       "      <th>2</th>\n",
       "      <td>K2-33618-CL20065-CP22132-16-13-S2.json</td>\n",
       "      <td>['며칠이 지났는지 날짜도 모르겠네. 일주일이 지났어?', '시간이 너무 빨리 가....</td>\n",
       "      <td>['나는 선후배와 잘 어울리지 않는다.']</td>\n",
       "      <td>### 사용자 채팅: ['며칠이 지났는지 날짜도 모르겠네. 일주일이 지났어?', '...</td>\n",
       "    </tr>\n",
       "    <tr>\n",
       "      <th>3</th>\n",
       "      <td>K2-19873-CL20525-CP22570-06-09-S2.json</td>\n",
       "      <td>['응, 선생님은 준비 잘 하고 있어?', '선생님은 왜 가게 되셨는지 여쭤봐도 될...</td>\n",
       "      <td>['나는 영문학과이다.', '나는 음식을 배우기 위해 미국으로 간다.']</td>\n",
       "      <td>### 사용자 채팅: ['응, 선생님은 준비 잘 하고 있어?', '선생님은 왜 가게...</td>\n",
       "    </tr>\n",
       "    <tr>\n",
       "      <th>4</th>\n",
       "      <td>K2-05407-CL01467-CP01154-14-03-S2.json</td>\n",
       "      <td>['응, 하긴 했어. 청소하는 게 짜증나. 너는 무슨 영화를 봤어?', '아니, 나...</td>\n",
       "      <td>['나는 청소하는 게 짜증 난다.', '나는 영화를 안 좋아한다.', '나는 위인전...</td>\n",
       "      <td>### 사용자 채팅: ['응, 하긴 했어. 청소하는 게 짜증나. 너는 무슨 영화를 ...</td>\n",
       "    </tr>\n",
       "    <tr>\n",
       "      <th>...</th>\n",
       "      <td>...</td>\n",
       "      <td>...</td>\n",
       "      <td>...</td>\n",
       "      <td>...</td>\n",
       "    </tr>\n",
       "    <tr>\n",
       "      <th>2325</th>\n",
       "      <td>K2-26129-CL23839-CP24690-03-05-S2.json</td>\n",
       "      <td>['안녕, 나는 20대 여자야. 반가워.', '뭐하고 있었어? 난 SF 영화를 가끔...</td>\n",
       "      <td>['나는 SF 영화를 가끔 본다. 나는 오늘 영화 그래비티를 재미있게 봤다.', '...</td>\n",
       "      <td>### 사용자 채팅: ['안녕, 나는 20대 여자야. 반가워.', '뭐하고 있었어?...</td>\n",
       "    </tr>\n",
       "    <tr>\n",
       "      <th>2326</th>\n",
       "      <td>K2-34387-CL21846-CP22413-03-04-S2.json</td>\n",
       "      <td>['안녕, 어제는 잘 잤어? 이제 곧 5시네.', '나도 지금 준비중이긴 한데, 지...</td>\n",
       "      <td>['나는 요즘 전기차가 많이 늘어났다고 생각한다.']</td>\n",
       "      <td>### 사용자 채팅: ['안녕, 어제는 잘 잤어? 이제 곧 5시네.', '나도 지금...</td>\n",
       "    </tr>\n",
       "    <tr>\n",
       "      <th>2327</th>\n",
       "      <td>K2-06850-CL00979-CP04444-19-04-S2.json</td>\n",
       "      <td>['안녕, 나는 20대 남자야.', '오, 나이가 좀 있으신 분이시네. 어디 사세요...</td>\n",
       "      <td>['나의 고향은 전라도이다. 나는 현재 서울에 거주하고 있다.', '나는 연예인 지...</td>\n",
       "      <td>### 사용자 채팅: ['안녕, 나는 20대 남자야.', '오, 나이가 좀 있으신 ...</td>\n",
       "    </tr>\n",
       "    <tr>\n",
       "      <th>2328</th>\n",
       "      <td>K2-07302-CL20306-CP22594-16-01-S2.json</td>\n",
       "      <td>['5시간이나 지났어? 시간 가는줄도 몰랐네, 다녀왔어.', '아니, 사실 내 입맛...</td>\n",
       "      <td>['나는 커피가 나의 입맛에 맞지 않았다.', '나는 피부가 별로이다.', '나의 ...</td>\n",
       "      <td>### 사용자 채팅: ['5시간이나 지났어? 시간 가는줄도 몰랐네, 다녀왔어.', ...</td>\n",
       "    </tr>\n",
       "    <tr>\n",
       "      <th>2329</th>\n",
       "      <td>K5-03937-CL74462-CP20739-19-01-S2.json</td>\n",
       "      <td>['안녕, 20대 남자야. 또래네.', '나는 체험 여행을 가끔 가는 편이라 어딜 ...</td>\n",
       "      <td>['나는 체험 여행을 가끔 간다.', '나는 단양 패러 글라이딩 체험에 흥미가 있다...</td>\n",
       "      <td>### 사용자 채팅: ['안녕, 20대 남자야. 또래네.', '나는 체험 여행을 가...</td>\n",
       "    </tr>\n",
       "  </tbody>\n",
       "</table>\n",
       "<p>2330 rows × 4 columns</p>\n",
       "</div>"
      ],
      "text/plain": [
       "                                          id  \\\n",
       "0     K2-10540-CL12939-CP35150-09-05-S2.json   \n",
       "1     K2-34114-CL01643-CP00208-06-18-S2.json   \n",
       "2     K2-33618-CL20065-CP22132-16-13-S2.json   \n",
       "3     K2-19873-CL20525-CP22570-06-09-S2.json   \n",
       "4     K2-05407-CL01467-CP01154-14-03-S2.json   \n",
       "...                                      ...   \n",
       "2325  K2-26129-CL23839-CP24690-03-05-S2.json   \n",
       "2326  K2-34387-CL21846-CP22413-03-04-S2.json   \n",
       "2327  K2-06850-CL00979-CP04444-19-04-S2.json   \n",
       "2328  K2-07302-CL20306-CP22594-16-01-S2.json   \n",
       "2329  K5-03937-CL74462-CP20739-19-01-S2.json   \n",
       "\n",
       "                                         session_dialog  \\\n",
       "0     ['안녕, 잘 지냈어? 2일만이네.', '응, 혹시 반려동물을 키워? 요즘 유기견이...   \n",
       "1     ['안녕. 20대 여자야. 반가워.', '아니, 나는 무교야. 너는?', '어떤 일...   \n",
       "2     ['며칠이 지났는지 날짜도 모르겠네. 일주일이 지났어?', '시간이 너무 빨리 가....   \n",
       "3     ['응, 선생님은 준비 잘 하고 있어?', '선생님은 왜 가게 되셨는지 여쭤봐도 될...   \n",
       "4     ['응, 하긴 했어. 청소하는 게 짜증나. 너는 무슨 영화를 봤어?', '아니, 나...   \n",
       "...                                                 ...   \n",
       "2325  ['안녕, 나는 20대 여자야. 반가워.', '뭐하고 있었어? 난 SF 영화를 가끔...   \n",
       "2326  ['안녕, 어제는 잘 잤어? 이제 곧 5시네.', '나도 지금 준비중이긴 한데, 지...   \n",
       "2327  ['안녕, 나는 20대 남자야.', '오, 나이가 좀 있으신 분이시네. 어디 사세요...   \n",
       "2328  ['5시간이나 지났어? 시간 가는줄도 몰랐네, 다녀왔어.', '아니, 사실 내 입맛...   \n",
       "2329  ['안녕, 20대 남자야. 또래네.', '나는 체험 여행을 가끔 가는 편이라 어딜 ...   \n",
       "\n",
       "                                        session_persona  \\\n",
       "0     ['나는 가끔 외로워서 반려동물을 키워보고 싶다. 나는 유기견 입양에 대해 고민하고...   \n",
       "1     ['나는 종교가 없다.', '나는 펀드매니저이다.', '나는 좋아하는 음식으로 기분...   \n",
       "2                               ['나는 선후배와 잘 어울리지 않는다.']   \n",
       "3              ['나는 영문학과이다.', '나는 음식을 배우기 위해 미국으로 간다.']   \n",
       "4     ['나는 청소하는 게 짜증 난다.', '나는 영화를 안 좋아한다.', '나는 위인전...   \n",
       "...                                                 ...   \n",
       "2325  ['나는 SF 영화를 가끔 본다. 나는 오늘 영화 그래비티를 재미있게 봤다.', '...   \n",
       "2326                      ['나는 요즘 전기차가 많이 늘어났다고 생각한다.']   \n",
       "2327  ['나의 고향은 전라도이다. 나는 현재 서울에 거주하고 있다.', '나는 연예인 지...   \n",
       "2328  ['나는 커피가 나의 입맛에 맞지 않았다.', '나는 피부가 별로이다.', '나의 ...   \n",
       "2329  ['나는 체험 여행을 가끔 간다.', '나는 단양 패러 글라이딩 체험에 흥미가 있다...   \n",
       "\n",
       "                                                   text  \n",
       "0     ### 사용자 채팅: ['안녕, 잘 지냈어? 2일만이네.', '응, 혹시 반려동물을...  \n",
       "1     ### 사용자 채팅: ['안녕. 20대 여자야. 반가워.', '아니, 나는 무교야....  \n",
       "2     ### 사용자 채팅: ['며칠이 지났는지 날짜도 모르겠네. 일주일이 지났어?', '...  \n",
       "3     ### 사용자 채팅: ['응, 선생님은 준비 잘 하고 있어?', '선생님은 왜 가게...  \n",
       "4     ### 사용자 채팅: ['응, 하긴 했어. 청소하는 게 짜증나. 너는 무슨 영화를 ...  \n",
       "...                                                 ...  \n",
       "2325  ### 사용자 채팅: ['안녕, 나는 20대 여자야. 반가워.', '뭐하고 있었어?...  \n",
       "2326  ### 사용자 채팅: ['안녕, 어제는 잘 잤어? 이제 곧 5시네.', '나도 지금...  \n",
       "2327  ### 사용자 채팅: ['안녕, 나는 20대 남자야.', '오, 나이가 좀 있으신 ...  \n",
       "2328  ### 사용자 채팅: ['5시간이나 지났어? 시간 가는줄도 몰랐네, 다녀왔어.', ...  \n",
       "2329  ### 사용자 채팅: ['안녕, 20대 남자야. 또래네.', '나는 체험 여행을 가...  \n",
       "\n",
       "[2330 rows x 4 columns]"
      ]
     },
     "execution_count": 91,
     "metadata": {},
     "output_type": "execute_result"
    }
   ],
   "source": [
    "total_df"
   ]
  },
  {
   "cell_type": "code",
   "execution_count": 90,
   "metadata": {},
   "outputs": [
    {
     "data": {
      "text/plain": [
       "\"### 사용자 채팅: ['안녕, 잘 지냈어? 2일만이네.', '응, 혹시 반려동물을 키워? 요즘 유기견이 많더라.', '대단하네. 나도 가끔 외로워서 반려동물을 키워보고 싶은데, 유기견을 입양해볼까 고민이 많아.', '맞아. 유기견 봉사활동 같은 것도 많은 것 같아. 나중에 기회가 되면 한번 가봐야겠어.', '요즘 밴드나 알아볼 수 있는 방법들이 많다고 들었어.  찾아보면 될 것 같아.', '맞아, 혼자 가서 할 수 있는 일도 아니야. 한번 알아봐.', '아니, 나도 관심은 있는데, 키우기는 조금 부담이 돼.']</끝>\\n### 사용자 페르소나: ['나는 가끔 외로워서 반려동물을 키워보고 싶다. 나는 유기견 입양에 대해 고민하고 있다.', '나는 반려동물에 관심이 있다. 나는 반려동물을 키우기에 부담이 된다.']</끝>\""
      ]
     },
     "execution_count": 90,
     "metadata": {},
     "output_type": "execute_result"
    }
   ],
   "source": [
    "total_df['text'][0]"
   ]
  },
  {
   "cell_type": "markdown",
   "metadata": {},
   "source": [
    "### Tokenizing"
   ]
  },
  {
   "cell_type": "code",
   "execution_count": 92,
   "metadata": {},
   "outputs": [
    {
     "data": {
      "text/plain": [
       "count    2330.000000\n",
       "mean      221.142918\n",
       "std        51.802716\n",
       "min       114.000000\n",
       "25%       185.000000\n",
       "50%       214.000000\n",
       "75%       248.000000\n",
       "max       569.000000\n",
       "Name: text, dtype: float64"
      ]
     },
     "execution_count": 92,
     "metadata": {},
     "output_type": "execute_result"
    }
   ],
   "source": [
    "# 토큰 길이 통계\n",
    "total_df['text'].apply(lambda x: len(tokenizer.encode(x))).describe()"
   ]
  },
  {
   "cell_type": "code",
   "execution_count": 93,
   "metadata": {},
   "outputs": [
    {
     "name": "stderr",
     "output_type": "stream",
     "text": [
      "100%|██████████| 2330/2330 [00:01<00:00, 1389.58it/s]\n"
     ]
    }
   ],
   "source": [
    "# Tokenizing 후, Dataset 형태로 준비\n",
    "\n",
    "class Dataset(torch.utils.data.Dataset):\n",
    "    def __init__(self, encodings):\n",
    "        self.encodings = encodings\n",
    "\n",
    "    def __getitem__(self, idx):\n",
    "        item = self.encodings[idx]\n",
    "        return item\n",
    "\n",
    "    def __len__(self):\n",
    "        return len(self.encodings)\n",
    "    \n",
    "\n",
    "tokenized = []\n",
    "for text in tqdm(total_df['text']):\n",
    "    encoded = tokenizer.encode(text,return_tensors='pt',\n",
    "                               return_token_type_ids=False, \n",
    "                               padding='max_length', \n",
    "                               max_length=600, # max_length 고려\n",
    "                               truncation=True, \n",
    "                               return_attention_mask=False)\n",
    "    tokenized.append(encoded)\n",
    "    \n",
    "dataset = Dataset(torch.cat(tokenized,dim=0))"
   ]
  },
  {
   "cell_type": "code",
   "execution_count": 94,
   "metadata": {},
   "outputs": [
    {
     "data": {
      "text/plain": [
       "tensor([    6,     6,     6, 12238, 16262,    29,  5485,    10, 13417,    15,\n",
       "         1010,  7499,   348,    34,   401,   393,   380,   270,   978,    17,\n",
       "         3042,   514,  1193,    15,  4851,  7030,  5447,   276,  4340,    34,\n",
       "         3090,  5167,  1055,   270,   750,  4325,    17,  3042,   514,   360,\n",
       "          539,   284,   978,    17,   462,   309,  6609,   882,   286,  6878,\n",
       "         7030,  5447,   276,  4340,  6571,  1219,  3200,    15,  5167,  1055,\n",
       "          276, 12025,   310, 15259,  2387,   270,   750,   399,    17,  3042,\n",
       "          514,  3108,   399,    17,  5167,  1055,  3715,  2032,   734,   296,\n",
       "          388,   309,   750,   296,   388,   734,   399,    17,  4788,   274,\n",
       "         1903,   293,   740,   378,  5876,   409,  4581,   685,   348,    17,\n",
       "         3042,   514, 10162,  7708,   392, 17715,   365,   327,   272,  1891,\n",
       "         6214,   750,   682,   705,   450,   348,    17,   224,  8454,   378,\n",
       "         1180,   388,   734,   399,    17,  3042,   514,  3108,   399,    15,\n",
       "         3193,   409,   306,   823,   365,   327,   272,   477,   309, 23633,\n",
       "           17,  5876,  3494,  2677,    17,  3042,   514,  4765,    15,   462,\n",
       "          309,  1479,   296,   327,   829,    15,  4009,   316,   272,  1922,\n",
       "         1863,   270,  1627,    17,    10,    64,    31,    18,  5568,    33,\n",
       "          202,     6,     6,     6, 12238, 13001,   483,   392,    29,  5485,\n",
       "           10,   392,   272,  6609,   882,   286,  6878,  7030,  5447,   276,\n",
       "         4340,  6571,  1219,   267,    17,   462,   272,  5167,  1055, 12025,\n",
       "          274,   879,  2387,  4296,   327,   267,    17,  3042,   514,   392,\n",
       "          272,  7030,  5447,   274,  1479,   270,   327,   267,    17,   462,\n",
       "          272,  7030,  5447,   276,  4009,  4287,  1863,   270,  1265,    17,\n",
       "           10,    64,    31,    18,  5568,    33,     2,     2,     2,     2,\n",
       "            2,     2,     2,     2,     2,     2,     2,     2,     2,     2,\n",
       "            2,     2,     2,     2,     2,     2,     2,     2,     2,     2,\n",
       "            2,     2,     2,     2,     2,     2,     2,     2,     2,     2,\n",
       "            2,     2,     2,     2,     2,     2,     2,     2,     2,     2,\n",
       "            2,     2,     2,     2,     2,     2,     2,     2,     2,     2,\n",
       "            2,     2,     2,     2,     2,     2,     2,     2,     2,     2,\n",
       "            2,     2,     2,     2,     2,     2,     2,     2,     2,     2,\n",
       "            2,     2,     2,     2,     2,     2,     2,     2,     2,     2,\n",
       "            2,     2,     2,     2,     2,     2,     2,     2,     2,     2,\n",
       "            2,     2,     2,     2,     2,     2,     2,     2,     2,     2,\n",
       "            2,     2,     2,     2,     2,     2,     2,     2,     2,     2,\n",
       "            2,     2,     2,     2,     2,     2,     2,     2,     2,     2,\n",
       "            2,     2,     2,     2,     2,     2,     2,     2,     2,     2,\n",
       "            2,     2,     2,     2,     2,     2,     2,     2,     2,     2,\n",
       "            2,     2,     2,     2,     2,     2,     2,     2,     2,     2,\n",
       "            2,     2,     2,     2,     2,     2,     2,     2,     2,     2,\n",
       "            2,     2,     2,     2,     2,     2,     2,     2,     2,     2,\n",
       "            2,     2,     2,     2,     2,     2,     2,     2,     2,     2,\n",
       "            2,     2,     2,     2,     2,     2,     2,     2,     2,     2,\n",
       "            2,     2,     2,     2,     2,     2,     2,     2,     2,     2,\n",
       "            2,     2,     2,     2,     2,     2,     2,     2,     2,     2,\n",
       "            2,     2,     2,     2,     2,     2,     2,     2,     2,     2,\n",
       "            2,     2,     2,     2,     2,     2,     2,     2,     2,     2,\n",
       "            2,     2,     2,     2,     2,     2,     2,     2,     2,     2,\n",
       "            2,     2,     2,     2,     2,     2,     2,     2,     2,     2,\n",
       "            2,     2,     2,     2,     2,     2,     2,     2,     2,     2,\n",
       "            2,     2,     2,     2,     2,     2,     2,     2,     2,     2,\n",
       "            2,     2,     2,     2,     2,     2,     2,     2,     2,     2,\n",
       "            2,     2,     2,     2,     2,     2,     2,     2,     2,     2,\n",
       "            2,     2,     2,     2,     2,     2,     2,     2,     2,     2,\n",
       "            2,     2,     2,     2,     2,     2,     2,     2,     2,     2,\n",
       "            2,     2,     2,     2,     2,     2,     2,     2,     2,     2,\n",
       "            2,     2,     2,     2,     2,     2,     2,     2,     2,     2,\n",
       "            2,     2,     2,     2,     2,     2,     2,     2,     2,     2,\n",
       "            2,     2,     2,     2,     2,     2,     2,     2,     2,     2,\n",
       "            2,     2,     2,     2,     2,     2,     2,     2,     2,     2])"
      ]
     },
     "execution_count": 94,
     "metadata": {},
     "output_type": "execute_result"
    }
   ],
   "source": [
    "dataset[0]"
   ]
  },
  {
   "cell_type": "markdown",
   "metadata": {},
   "source": [
    "### Trian Valid split"
   ]
  },
  {
   "cell_type": "code",
   "execution_count": 95,
   "metadata": {},
   "outputs": [],
   "source": [
    "# 9대 1로 train,dev 분할\n",
    "\n",
    "from sklearn.model_selection import train_test_split\n",
    "\n",
    "train_dataset, dev_dataset = train_test_split(dataset, test_size=0.1, random_state=42)"
   ]
  },
  {
   "cell_type": "code",
   "execution_count": 96,
   "metadata": {},
   "outputs": [
    {
     "data": {
      "text/plain": [
       "(2097, 233)"
      ]
     },
     "execution_count": 96,
     "metadata": {},
     "output_type": "execute_result"
    }
   ],
   "source": [
    "len(train_dataset), len(dev_dataset)"
   ]
  },
  {
   "cell_type": "markdown",
   "metadata": {},
   "source": [
    "## Trainer"
   ]
  },
  {
   "cell_type": "code",
   "execution_count": 46,
   "metadata": {},
   "outputs": [
    {
     "name": "stderr",
     "output_type": "stream",
     "text": [
      "Detected kernel version 5.4.0, which is below the recommended minimum of 5.5.0; this can cause the process to hang. It is recommended to upgrade the kernel to the minimum version or higher.\n",
      "huggingface/tokenizers: The current process just got forked, after parallelism has already been used. Disabling parallelism to avoid deadlocks...\n",
      "To disable this warning, you can either:\n",
      "\t- Avoid using `tokenizers` before the fork if possible\n",
      "\t- Explicitly set the environment variable TOKENIZERS_PARALLELISM=(true | false)\n",
      "huggingface/tokenizers: The current process just got forked, after parallelism has already been used. Disabling parallelism to avoid deadlocks...\n",
      "To disable this warning, you can either:\n",
      "\t- Avoid using `tokenizers` before the fork if possible\n",
      "\t- Explicitly set the environment variable TOKENIZERS_PARALLELISM=(true | false)\n",
      "huggingface/tokenizers: The current process just got forked, after parallelism has already been used. Disabling parallelism to avoid deadlocks...\n",
      "To disable this warning, you can either:\n",
      "\t- Avoid using `tokenizers` before the fork if possible\n",
      "\t- Explicitly set the environment variable TOKENIZERS_PARALLELISM=(true | false)\n"
     ]
    }
   ],
   "source": [
    "## Trainer\n",
    "\n",
    "early_callback=transformers.EarlyStoppingCallback(early_stopping_patience=3, early_stopping_threshold=0.001)\n",
    "tokenizer.pad_token = tokenizer.eos_token\n",
    "\n",
    "trainer = transformers.Trainer(\n",
    "    model=model,\n",
    "    train_dataset=dataset,\n",
    "    # eval_dataset=dev_dataset,\n",
    "    args=transformers.TrainingArguments(\n",
    "        output_dir=\"./outputs\",\n",
    "        overwrite_output_dir=True,\n",
    "        per_device_train_batch_size=8,\n",
    "        gradient_accumulation_steps=1,\n",
    "        fp16=True,\n",
    "        save_total_limit=2,\n",
    "        logging_steps=30,\n",
    "        # report_to=[\"tensorboard\"],\n",
    "        num_train_epochs = 1,\n",
    "        learning_rate=1e-4,\n",
    "        # resume_from_checkpoint=True,\n",
    "        lr_scheduler_type= \"cosine\", # \"constant\"\n",
    "        # load_best_model_at_end = True,\n",
    "        # evaluation_strategy='epoch',\n",
    "        save_strategy='steps',\n",
    "        #optim=\"paged_adamw_8bit\"\n",
    "        # vload_best_model_at_end=True\n",
    "    ),\n",
    "    data_collator=transformers.DataCollatorForLanguageModeling(tokenizer, mlm=False),\n",
    "    # callbacks=[early_callback],\n",
    "\n",
    ")\n"
   ]
  },
  {
   "cell_type": "code",
   "execution_count": 82,
   "metadata": {},
   "outputs": [
    {
     "name": "stderr",
     "output_type": "stream",
     "text": [
      "/home/donghae/anaconda3/envs/llm/lib/python3.9/site-packages/trl/trainer/sft_trainer.py:245: UserWarning: You didn't pass a `max_seq_length` argument to the SFTTrainer, this will default to 1024\n",
      "  warnings.warn(\n",
      "/home/donghae/anaconda3/envs/llm/lib/python3.9/site-packages/trl/trainer/sft_trainer.py:317: UserWarning: You passed a tokenizer with `padding_side` not equal to `right` to the SFTTrainer. This might lead to some unexpected behaviour due to overflow issues when training a model in half-precision. You might consider adding `tokenizer.padding_side = 'right'` to your code.\n",
      "  warnings.warn(\n",
      "Detected kernel version 5.4.0, which is below the recommended minimum of 5.5.0; this can cause the process to hang. It is recommended to upgrade the kernel to the minimum version or higher.\n"
     ]
    }
   ],
   "source": [
    "## SFTTrainer\n",
    "\n",
    "from trl import SFTTrainer\n",
    "# SFTTrainer 사용할 경우\n",
    "trainer = SFTTrainer(\n",
    "    model=model,\n",
    "    train_dataset=dataset,\n",
    "    peft_config=config,\n",
    "    dataset_text_field=\"text\",\n",
    "    max_seq_length=None,\n",
    "    tokenizer=tokenizer,\n",
    "    args=transformers.TrainingArguments(\n",
    "        output_dir=\"./outputs\",\n",
    "        overwrite_output_dir=True,\n",
    "        per_device_train_batch_size=8,\n",
    "        gradient_accumulation_steps=1,\n",
    "        fp16=True,\n",
    "        save_total_limit=2,\n",
    "        logging_steps=30,\n",
    "        # report_to=[\"tensorboard\"],\n",
    "        num_train_epochs = 1,\n",
    "        learning_rate=1e-4,\n",
    "        # resume_from_checkpoint=True,\n",
    "        lr_scheduler_type= \"cosine\", # \"constant\"\n",
    "        # load_best_model_at_end = True,\n",
    "        # evaluation_strategy='epoch',\n",
    "        # save_strategy='steps',\n",
    "        # optim=\"paged_adamw_8bit\"\n",
    "        # load_best_model_at_end=True\n",
    "    ),\n",
    "    packing=False,\n",
    ")"
   ]
  },
  {
   "cell_type": "code",
   "execution_count": 83,
   "metadata": {},
   "outputs": [
    {
     "name": "stderr",
     "output_type": "stream",
     "text": [
      "/home/donghae/anaconda3/envs/llm/lib/python3.9/site-packages/torch/utils/checkpoint.py:460: UserWarning: torch.utils.checkpoint: please pass in use_reentrant=True or use_reentrant=False explicitly. The default value of use_reentrant will be updated to be False in the future. To maintain current behavior, pass use_reentrant=True. It is recommended that you use use_reentrant=False. Refer to docs for more details on the differences between the two variants.\n",
      "  warnings.warn(\n"
     ]
    },
    {
     "data": {
      "text/html": [
       "\n",
       "    <div>\n",
       "      \n",
       "      <progress value='292' max='292' style='width:300px; height:20px; vertical-align: middle;'></progress>\n",
       "      [292/292 36:09, Epoch 1/1]\n",
       "    </div>\n",
       "    <table border=\"1\" class=\"dataframe\">\n",
       "  <thead>\n",
       " <tr style=\"text-align: left;\">\n",
       "      <th>Step</th>\n",
       "      <th>Training Loss</th>\n",
       "    </tr>\n",
       "  </thead>\n",
       "  <tbody>\n",
       "    <tr>\n",
       "      <td>30</td>\n",
       "      <td>6.683800</td>\n",
       "    </tr>\n",
       "    <tr>\n",
       "      <td>60</td>\n",
       "      <td>6.703600</td>\n",
       "    </tr>\n",
       "    <tr>\n",
       "      <td>90</td>\n",
       "      <td>6.746200</td>\n",
       "    </tr>\n",
       "    <tr>\n",
       "      <td>120</td>\n",
       "      <td>6.706200</td>\n",
       "    </tr>\n",
       "    <tr>\n",
       "      <td>150</td>\n",
       "      <td>6.737500</td>\n",
       "    </tr>\n",
       "    <tr>\n",
       "      <td>180</td>\n",
       "      <td>6.699800</td>\n",
       "    </tr>\n",
       "    <tr>\n",
       "      <td>210</td>\n",
       "      <td>6.706800</td>\n",
       "    </tr>\n",
       "    <tr>\n",
       "      <td>240</td>\n",
       "      <td>6.716900</td>\n",
       "    </tr>\n",
       "    <tr>\n",
       "      <td>270</td>\n",
       "      <td>6.696900</td>\n",
       "    </tr>\n",
       "  </tbody>\n",
       "</table><p>"
      ],
      "text/plain": [
       "<IPython.core.display.HTML object>"
      ]
     },
     "metadata": {},
     "output_type": "display_data"
    },
    {
     "data": {
      "text/plain": [
       "TrainOutput(global_step=292, training_loss=6.714487101933727, metrics={'train_runtime': 2176.832, 'train_samples_per_second': 1.07, 'train_steps_per_second': 0.134, 'total_flos': 8.9681796808704e+16, 'train_loss': 6.714487101933727, 'epoch': 1.0})"
      ]
     },
     "execution_count": 83,
     "metadata": {},
     "output_type": "execute_result"
    }
   ],
   "source": [
    "model.config.use_cache = False\n",
    "\n",
    "trainer.train()"
   ]
  },
  {
   "cell_type": "code",
   "execution_count": 85,
   "metadata": {},
   "outputs": [],
   "source": [
    "model.save_pretrained(\"./saved/beomi-OPEN-SOLAR-KO-10.7B-1ep\")"
   ]
  },
  {
   "cell_type": "code",
   "execution_count": 48,
   "metadata": {},
   "outputs": [],
   "source": [
    "model.eval()\n",
    "model.config.use_cache = True  "
   ]
  },
  {
   "cell_type": "code",
   "execution_count": 49,
   "metadata": {},
   "outputs": [],
   "source": [
    "from transformers import StoppingCriteria, StoppingCriteriaList\n",
    "\n",
    "class StoppingCriteriaSub(StoppingCriteria):\n",
    "\n",
    "    def __init__(self, stops = [], encounters=1):\n",
    "        super().__init__()\n",
    "        self.stops = [stop for stop in stops]\n",
    "\n",
    "    def __call__(self, input_ids: torch.LongTensor, scores: torch.FloatTensor):\n",
    "        for stop in self.stops:\n",
    "            if torch.all((stop == input_ids[0][-len(stop):])).item():\n",
    "                return True\n",
    "\n",
    "        return False\n",
    "\n",
    "stop_words = [\"</끝>\"]\n",
    "stop_words_ids = [tokenizer(stop_word, return_tensors='pt')['input_ids'].squeeze().to('cuda') for stop_word in stop_words]\n",
    "stopping_criteria = StoppingCriteriaList([StoppingCriteriaSub(stops=stop_words_ids)])"
   ]
  },
  {
   "cell_type": "code",
   "execution_count": 50,
   "metadata": {},
   "outputs": [],
   "source": [
    "def gen(chat=\"\"):\n",
    "    prompt = f\"### 사용자 채팅: {chat}</끝>\\n### 사용자 페르소나: \"\n",
    "\n",
    "    tokenized = tokenizer(\n",
    "            prompt,\n",
    "            return_tensors='pt',\n",
    "            return_token_type_ids=False,\n",
    "        )\n",
    "    tokenized = {k: v.to('cuda') for k, v in tokenized.items()}\n",
    "    gened = model.generate(\n",
    "        **tokenized,\n",
    "        max_new_tokens=100,\n",
    "        temperature=0.6,\n",
    "        num_beams=3,\n",
    "        stopping_criteria=stopping_criteria\n",
    "    )\n",
    "    return tokenizer.decode(gened[0]).replace(prompt+\" \", \"\")"
   ]
  },
  {
   "cell_type": "code",
   "execution_count": 89,
   "metadata": {},
   "outputs": [],
   "source": [
    "def gen(chat=\"\"):\n",
    "    prompt = f\"### 사용자 채팅: {chat}</끝>\\n### 사용자 페르소나: \"\n",
    "    gened = model.generate(\n",
    "        **tokenizer(\n",
    "            prompt,\n",
    "            return_tensors='pt',\n",
    "            return_token_type_ids=False,\n",
    "        ),\n",
    "        max_new_tokens=100,\n",
    "        temperature=0.6,\n",
    "        num_beams=3,\n",
    "        # stopping_criteria=stopping_criteria\n",
    "    )\n",
    "    return tokenizer.decode(gened[0]).replace(prompt+\" \", \"\")"
   ]
  },
  {
   "cell_type": "code",
   "execution_count": 51,
   "metadata": {},
   "outputs": [],
   "source": [
    "chat = ['안녕, 잘 지냈어? 2일만이네.', \n",
    "        '응, 혹시 반려동물을 키워? 요즘 유기견이 많더라.', \n",
    "        '대단하네. 나도 가끔 외로워서 반려동물을 키워보고 싶은데, 유기견을 입양해볼까 고민이 많아.', \n",
    "        '맞아. 유기견 봉사활동 같은 것도 많은 것 같아. 나중에 기회가 되면 한번 가봐야겠어.', \n",
    "        '요즘 밴드나 알아볼 수 있는 방법들이 많다고 들었어.  찾아보면 될 것 같아.', \n",
    "        '맞아, 혼자 가서 할 수 있는 일도 아니야. 한번 알아봐.', \n",
    "        '아니, 나도 관심은 있는데, 키우기는 조금 부담이 돼.']\n",
    "\n",
    "target = ['나는 가끔 외로워서 반려동물을 키워보고 싶다. 나는 유기견 입양에 대해 고민하고 있다.', \n",
    "          '나는 반려동물에 관심이 있다. 나는 반려동물을 키우기에 부담이 된다.']"
   ]
  },
  {
   "cell_type": "code",
   "execution_count": 52,
   "metadata": {},
   "outputs": [
    {
     "name": "stderr",
     "output_type": "stream",
     "text": [
      "/home/donghae/anaconda3/envs/llm/lib/python3.9/site-packages/transformers/generation/configuration_utils.py:492: UserWarning: `do_sample` is set to `False`. However, `temperature` is set to `0.6` -- this flag is only used in sample-based generation modes. You should set `do_sample=True` or unset `temperature`.\n",
      "  warnings.warn(\n",
      "Setting `pad_token_id` to `eos_token_id`:2 for open-end generation.\n"
     ]
    },
    {
     "data": {
      "text/plain": [
       "\"### 사용자 채팅: ['안녕, 잘 지냈어? 2일만이네.', '응, 혹시 반려동물을 키워? 요즘 유기견이 많더라.', '대단하네. 나도 가끔 외로워서 반려동물을 키워보고 싶은데, 유기견을 입양해볼까 고민이 많아.', '맞아. 유기견 봉사활동 같은 것도 많은 것 같아. 나중에 기회가 되면 한번 가봐야겠어.', '요즘 밴드나 알아볼 수 있는 방법들이 많다고 들었어.  찾아보면 될 것 같아.', '맞아, 혼자 가서 할 수 있는 일도 아니야. 한번 알아봐.', '아니, 나도 관심은 있는데, 키우기는 조금 부담이 돼.']</끝>\\n### 사용자 페르소나: https://www.youtube.com/channel/UCZf0zflAxflAxflAxflAxw?view_as=subscriber#############################################\""
      ]
     },
     "execution_count": 52,
     "metadata": {},
     "output_type": "execute_result"
    }
   ],
   "source": [
    "gen(chat=chat) # epoch 0"
   ]
  },
  {
   "cell_type": "code",
   "execution_count": 44,
   "metadata": {},
   "outputs": [
    {
     "name": "stderr",
     "output_type": "stream",
     "text": [
      "/home/donghae/anaconda3/envs/llm/lib/python3.9/site-packages/transformers/generation/configuration_utils.py:492: UserWarning: `do_sample` is set to `False`. However, `temperature` is set to `0.3` -- this flag is only used in sample-based generation modes. You should set `do_sample=True` or unset `temperature`.\n",
      "  warnings.warn(\n",
      "Setting `pad_token_id` to `eos_token_id`:2 for open-end generation.\n",
      "/home/donghae/anaconda3/envs/llm/lib/python3.9/site-packages/transformers/generation/utils.py:1460: UserWarning: You are calling .generate() with the `input_ids` being on a device type different than your model's device. `input_ids` is on cpu, whereas the model is on cuda. You may experience unexpected behaviors or slower generation. Please make sure that you have put `input_ids` to the correct device by calling for example input_ids = input_ids.to('cuda') before running `.generate()`.\n",
      "  warnings.warn(\n"
     ]
    },
    {
     "data": {
      "text/plain": [
       "\"사용자 페르소나: ['나는 반려동물을 키워보고 싶다.', '나는 유기견을 입양해보고 싶다.']</끝></끝><|endoftext|>\""
      ]
     },
     "execution_count": 44,
     "metadata": {},
     "output_type": "execute_result"
    }
   ],
   "source": [
    "gen(chat=chat) # epoch 1"
   ]
  },
  {
   "cell_type": "code",
   "execution_count": 64,
   "metadata": {},
   "outputs": [
    {
     "name": "stderr",
     "output_type": "stream",
     "text": [
      "Setting `pad_token_id` to `eos_token_id`:2 for open-end generation.\n"
     ]
    },
    {
     "data": {
      "text/plain": [
       "\"### 사용자 채팅: ['안녕, 잘 지냈어? 2일만이네.', '응, 혹시 반려동물을 키워? 요즘 유기견이 많더라.', '대단하네. 나도 가끔 외로워서 반려동물을 키워보고 싶은데, 유기견을 입양해볼까 고민이 많아.', '맞아. 유기견 봉사활동 같은 것도 많은 것 같아. 나중에 기회가 되면 한번 가봐야겠어.', '요즘 밴드나 알아볼 수 있는 방법들이 많다고 들었어.  찾아보면 될 것 같아.', '맞아, 혼자 가서 할 수 있는 일도 아니야. 한번 알아봐.', '아니, 나도 관심은 있는데, 키우기는 조금 부담이 돼.']</끝>\\n### 사용자 페르소나: @'나는 반려동물을 키워보고 싶다.', @'나는 유기견을 입양해보고 싶다.', @'나는 혼자 가서 할 수 있는 일이 아니다.']</끝><|endoftext|>\""
      ]
     },
     "execution_count": 64,
     "metadata": {},
     "output_type": "execute_result"
    }
   ],
   "source": [
    "# TrainOutput(global_step=292, training_loss=1.7602002000155514, metrics={'train_runtime': 319.9491, 'train_samples_per_second': 7.282, 'train_steps_per_second': 0.913, 'total_flos': 1.0667685003264e+16, 'train_loss': 1.7602002000155514\n",
    "gen(chat=chat) # epoch 2"
   ]
  },
  {
   "cell_type": "code",
   "execution_count": 128,
   "metadata": {},
   "outputs": [
    {
     "name": "stderr",
     "output_type": "stream",
     "text": [
      "Setting `pad_token_id` to `eos_token_id`:2 for open-end generation.\n"
     ]
    },
    {
     "data": {
      "text/plain": [
       "\"### 사용자 채팅: ['안녕, 잘 지냈어? 2일만이네.', '응, 혹시 반려동물을 키워? 요즘 유기견이 많더라.', '대단하네. 나도 가끔 외로워서 반려동물을 키워보고 싶은데, 유기견을 입양해볼까 고민이 많아.', '맞아. 유기견 봉사활동 같은 것도 많은 것 같아. 나중에 기회가 되면 한번 가봐야겠어.', '요즘 밴드나 알아볼 수 있는 방법들이 많다고 들었어.  찾아보면 될 것 같아.', '맞아, 혼자 가서 할 수 있는 일도 아니야. 한번 알아봐.', '아니, 나도 관심은 있는데, 키우기는 조금 부담이 돼.']</끝>\\n### 사용자 페르소나: @이름/@@이다.></끝><|endoftext|>\""
      ]
     },
     "execution_count": 128,
     "metadata": {},
     "output_type": "execute_result"
    }
   ],
   "source": [
    "gen(chat=chat) # epoch 3"
   ]
  },
  {
   "attachments": {
    "image.png": {
     "image/png": "[encoded data removed]"
    }
   },
   "cell_type": "markdown",
   "metadata": {},
   "source": [
    "![image.png](attachment:image.png) - solar"
   ]
  },
  {
   "cell_type": "code",
   "execution_count": 89,
   "metadata": {},
   "outputs": [
    {
     "name": "stderr",
     "output_type": "stream",
     "text": [
      "/home/donghae/anaconda3/envs/llm/lib/python3.9/site-packages/transformers/generation/configuration_utils.py:492: UserWarning: `do_sample` is set to `False`. However, `temperature` is set to `0.6` -- this flag is only used in sample-based generation modes. You should set `do_sample=True` or unset `temperature`.\n",
      "  warnings.warn(\n",
      "/home/donghae/anaconda3/envs/llm/lib/python3.9/site-packages/transformers/generation/utils.py:1460: UserWarning: You are calling .generate() with the `input_ids` being on a device type different than your model's device. `input_ids` is on cpu, whereas the model is on cuda. You may experience unexpected behaviors or slower generation. Please make sure that you have put `input_ids` to the correct device by calling for example input_ids = input_ids.to('cuda') before running `.generate()`.\n",
      "  warnings.warn(\n"
     ]
    },
    {
     "data": {
      "text/plain": [
       "\"<s> ### 사용자 채팅: ['안녕, 잘 지냈어? 2일만이네.', '응, 혹시 반려동물을 키워? 요즘 유기견이 많더라.', '대단하네. 나도 가끔 외로워서 반려동물을 키워보고 싶은데, 유기견을 입양해볼까 고민이 많아.', '맞아. 유기견 봉사활동 같은 것도 많은 것 같아. 나중에 기회가 되면 한번 가봐야겠어.', '요즘 밴드나 알아볼 수 있는 방법들이 많다고 들었어.  찾아보면 될 것 같아.', '맞아, 혼자 가서 할 수 있는 일도 아니야. 한번 알아봐.', '아니, 나도 관심은 있는데, 키우기는 조금 부담이 돼.']</끝>\\n### 사용자 페르소나: 20대, 여성, 반려동물, 유기견, 봉사활동, 밴드</끝>\\n상기 표 1을 참조하면, 사용자 채팅은 사용자가 입력한 채팅 내용이고, 사용자 페르소나는 상기 사용자 채팅으로부터 추출된 키워드이다.\\n도 2는 본 발명의 일 실시예에 따른 사용자 페르소나를 추출하는 방법을 설명하기 위한 도면이다.\\n도 2를 참조하면\""
      ]
     },
     "execution_count": 89,
     "metadata": {},
     "output_type": "execute_result"
    }
   ],
   "source": [
    "gen(chat=chat) # solar 10.7B epoch 1"
   ]
  },
  {
   "cell_type": "markdown",
   "metadata": {},
   "source": [
    "### Merge"
   ]
  },
  {
   "cell_type": "code",
   "execution_count": 47,
   "metadata": {},
   "outputs": [
    {
     "name": "stderr",
     "output_type": "stream",
     "text": [
      "Loading checkpoint shards: 100%|██████████| 3/3 [00:01<00:00,  2.15it/s]\n"
     ]
    }
   ],
   "source": [
    "base_model = AutoModelForCausalLM.from_pretrained(\n",
    "    'EleutherAI/polyglot-ko-1.3b',\n",
    "    low_cpu_mem_usage=True,\n",
    "    return_dict=True,\n",
    "    torch_dtype=torch.float16,\n",
    "    device_map={\"\": 0},\n",
    "    cache_dir='./cache'\n",
    ")\n",
    "model = PeftModel.from_pretrained(base_model, './saved/polyglot-ko-1.3b-1ep')\n",
    "model = model.merge_and_unload()"
   ]
  }
 ],
 "metadata": {
  "kernelspec": {
   "display_name": "llm",
   "language": "python",
   "name": "python3"
  },
  "language_info": {
   "codemirror_mode": {
    "name": "ipython",
    "version": 3
   },
   "file_extension": ".py",
   "mimetype": "text/x-python",
   "name": "python",
   "nbconvert_exporter": "python",
   "pygments_lexer": "ipython3",
   "version": "3.9.0"
  }
 },
 "nbformat": 4,
 "nbformat_minor": 2
}
