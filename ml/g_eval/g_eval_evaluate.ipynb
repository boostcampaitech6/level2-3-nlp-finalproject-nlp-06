{
 "cells": [
  {
   "cell_type": "markdown",
   "metadata": {},
   "source": [
    "# G-Eval\n",
    "\n",
    "* Naturalness(1-5) : 응답이 사람의 자연스러운 발화와 같은지 판단\n",
    "* coherence (1-5) : 이전 대화와 이어지는지 (연속적인지) 판단\n",
    "* Engagingness (1-3) : 응답이 흥미로운지 지루한지 판단\n",
    "* Groundedness (1-3) : 응답이 사실을 포함하는지\n",
    "\n",
    "----\n",
    "\n",
    "논문 원문에서는 Engagingness 지표에 대한 scale & definition만 나와있으므로 나머지는 직접 설계해야 함\n"
   ]
  },
  {
   "cell_type": "markdown",
   "metadata": {},
   "source": [
    "## GPT api call\n"
   ]
  },
  {
   "cell_type": "code",
   "execution_count": 1,
   "metadata": {},
   "outputs": [],
   "source": [
    "from openai import OpenAI\n",
    "import os\n",
    "import dotenv\n",
    "\n",
    "dotenv_file = dotenv.find_dotenv()\n",
    "dotenv.load_dotenv(dotenv_file)\n",
    "\n",
    "client = OpenAI(\n",
    "    # This is the default and can be omitted\n",
    "    api_key=os.environ[\"OPENAI_API_KEY\"],\n",
    ")"
   ]
  },
  {
   "cell_type": "markdown",
   "metadata": {},
   "source": [
    "## 생성된 CoT 불러오기"
   ]
  },
  {
   "cell_type": "code",
   "execution_count": 2,
   "metadata": {},
   "outputs": [],
   "source": [
    "coherence_prompt = open('cot/coherence_KOR3.txt').read()\n",
    "engagingness_prompt = open('cot/engagingness_KOR3.txt').read()\n",
    "naturalness_prompt = open('cot/naturalness_KOR3.txt').read()\n",
    "groundedness_prompt = open('cot/groundedness_KOR3.txt').read()"
   ]
  },
  {
   "cell_type": "code",
   "execution_count": 3,
   "metadata": {},
   "outputs": [],
   "source": [
    "eval_metric = {'coherence' : coherence_prompt, 'engagingness' : engagingness_prompt, 'naturalness' : naturalness_prompt, 'groundedness' : groundedness_prompt}"
   ]
  },
  {
   "cell_type": "markdown",
   "metadata": {},
   "source": [
    "## 평가 함수 정의 (GPT-4)"
   ]
  },
  {
   "cell_type": "code",
   "execution_count": 4,
   "metadata": {},
   "outputs": [],
   "source": [
    "# 저장 경로 설정\n",
    "RESULT_PATH = './results'\n",
    "\n",
    "# 모델이 생성하지 못한 응답 예외 처리\n",
    "skip_str_list = ['', '\\n']"
   ]
  },
  {
   "cell_type": "code",
   "execution_count": 6,
   "metadata": {},
   "outputs": [],
   "source": [
    "from tqdm import tqdm\n",
    "import time\n",
    "from collections import Counter\n",
    "import json\n",
    "\n",
    "def evaluate(data, info):\n",
    "    '''\n",
    "    data : 평가할 데이터\n",
    "    info : 어떤 모델을 평가하는지 (json file name에 쓰임)\n",
    "    '''\n",
    "    new_json = []\n",
    "    ignore = 0\n",
    "\n",
    "    for instance in tqdm(data):\n",
    "        user_persona = '. '.join(instance['user_persona'])\n",
    "        bot_persona = ''.join(instance['bot_persona'])\n",
    "        prev_dialog = '\\n'.join(instance['prev_dialog'])\n",
    "        bot_response = instance['response']\n",
    "\n",
    "        # 불용어 처리 \n",
    "        if bot_response in skip_str_list or len(bot_response) < 2:\n",
    "            ignore += 1\n",
    "            print(f'## {bot_response} has been ignored.\\n## total ignored : {ignore}')\n",
    "            continue\n",
    "\n",
    "        # unieval 참조 - 4개의 프롬프트에 대해 실험 진행\n",
    "        for prompt_info, prompt in eval_metric.items():\n",
    "            prompt_cur = prompt.replace('{{user_persona}}', user_persona).replace('{{bot_persona}}', bot_persona).replace('{{prev_dialog}}', prev_dialog).replace('{{response}}', bot_response)\n",
    "\n",
    "            while True:\n",
    "                try:\n",
    "                    response = client.chat.completions.create(\n",
    "                                    model=\"gpt-4\",\n",
    "                                    messages=[{\"role\": \"system\", \"content\": prompt_cur}],\n",
    "                                    temperature=1,\n",
    "                                    max_tokens=1, # 정수 형태 추출\n",
    "                                    frequency_penalty=0,\n",
    "                                    presence_penalty=0,\n",
    "                                    stop=None,\n",
    "                                    n=10 # 10번 추출\n",
    "                    )\n",
    "\n",
    "                    time.sleep(0.5)\n",
    "\n",
    "                    \n",
    "                    all_responses = [response.choices[i].message.content for i in\n",
    "                                    range(len(response.choices))]\n",
    "                    \n",
    "                    # 가중합 내주기\n",
    "                    # 전부 숫자 형태로 변환\n",
    "                    all_responses = [int(r) for r in all_responses]\n",
    "                    # print('## all_reponses : ', all_responses)\n",
    "\n",
    "                    # 몇 번 나왔는지 체크\n",
    "                    counter = Counter(all_responses)\n",
    "                    # (1*5 + 2*4 + 5*1) / 10\n",
    "                    score = sum([key * value for key, value in counter.items()]) / len(all_responses)\n",
    "                    print('## all_responses : ', all_responses)\n",
    "                    print(f'## {prompt_info} score : ', score)\n",
    "                    \n",
    "                    # 평가 체크\n",
    "                    instance[prompt_info] = score\n",
    "                    break\n",
    "\n",
    "                except Exception as e:\n",
    "                    print(e)\n",
    "                    if (\"limit\" in str(e)):\n",
    "                        time.sleep(2)\n",
    "                    else:\n",
    "                        ignore += 1\n",
    "                        print('ignored', ignore)\n",
    "                        break\n",
    "\n",
    "        new_json.append(instance)\n",
    "            \n",
    "\n",
    "    print(f'## Evaluated {len(data)-ignore}/{len(data)} row! : ', )\n",
    "    with open(f\"{RESULT_PATH}/{info}.json\", 'w', encoding=\"UTF-8\") as f:\n",
    "        json.dump(new_json, f, indent=4, ensure_ascii=False)\n"
   ]
  },
  {
   "cell_type": "markdown",
   "metadata": {},
   "source": [
    "## 모델이 발화 예측 완료한 파일 불러오기"
   ]
  },
  {
   "cell_type": "code",
   "execution_count": 7,
   "metadata": {},
   "outputs": [],
   "source": [
    "import json\n",
    "# G-EVAL\n",
    "solar_vl2_1 = json.load(open(\"./korean_msc/preprocessing/GEVAL_solar_vl2_persona_1.json\"))\n",
    "solar_vl2_no_persona_1 = json.load(open(\"./korean_msc/preprocessing/GEVAL_No_Persona_solar_vl2_1.json\"))\n",
    "\n",
    "solar_vl2_2 = json.load(open(\"./korean_msc/preprocessing/GEVAL_solar_vl2_persona_2.json\"))\n",
    "solar_vl2_no_persona_2 = json.load(open(\"./korean_msc/preprocessing/GEVAL_No_Persona_solar_vl2_2.json\"))\n",
    "\n",
    "solar_vl2_3 = json.load(open(\"./korean_msc/preprocessing/GEVAL_solar_vl2_persona_1.json\"))\n",
    "solar_vl2_no_persona_3 = json.load(open(\"./korean_msc/preprocessing/GEVAL_No_Persona_solar_vl2_3.json\"))"
   ]
  },
  {
   "cell_type": "code",
   "execution_count": 8,
   "metadata": {},
   "outputs": [
    {
     "name": "stdout",
     "output_type": "stream",
     "text": [
      "## total skipped in SOLAR:  0\n"
     ]
    }
   ],
   "source": [
    "skipped = 0\n",
    "skip_str_list = ['', '\\n']\n",
    "\n",
    "for i in solar_vl2_2:\n",
    "    if i['response'] in skip_str_list or len(i['response']) < 2:\n",
    "        skipped += 1\n",
    "\n",
    "print('## total skipped in SOLAR: ', skipped)"
   ]
  },
  {
   "cell_type": "code",
   "execution_count": 9,
   "metadata": {},
   "outputs": [
    {
     "name": "stdout",
     "output_type": "stream",
     "text": [
      "## total skipped in SOLAR - No persona:  0\n"
     ]
    }
   ],
   "source": [
    "skipped = 0\n",
    "skip_str_list = ['', '\\n']\n",
    "\n",
    "for i in solar_vl2_no_persona_2:\n",
    "    if i['response'] in skip_str_list or len(i['response']) < 2:\n",
    "        print(i['response'])\n",
    "        skipped += 1\n",
    "\n",
    "print('## total skipped in SOLAR - No persona: ', skipped)"
   ]
  },
  {
   "cell_type": "code",
   "execution_count": 10,
   "metadata": {},
   "outputs": [
    {
     "name": "stderr",
     "output_type": "stream",
     "text": [
      "  0%|          | 0/54 [00:00<?, ?it/s]"
     ]
    },
    {
     "name": "stdout",
     "output_type": "stream",
     "text": [
      "## all_reponses :  [5, 4, 4, 5, 5, 3, 4, 5, 5, 5]\n",
      "## coherence score :  [5, 4, 4, 5, 5, 3, 4, 5, 5, 5]\n",
      "## all_reponses :  [4, 3, 3, 3, 3, 3, 3, 3, 3, 3]\n",
      "## engagingness score :  [4, 3, 3, 3, 3, 3, 3, 3, 3, 3]\n",
      "## all_reponses :  [5, 4, 4, 5, 4, 4, 4, 5, 4, 4]\n",
      "## naturalness score :  [5, 4, 4, 5, 4, 4, 4, 5, 4, 4]\n"
     ]
    },
    {
     "name": "stderr",
     "output_type": "stream",
     "text": [
      "  2%|▏         | 1/54 [00:05<04:47,  5.43s/it]"
     ]
    },
    {
     "name": "stdout",
     "output_type": "stream",
     "text": [
      "## all_reponses :  [4, 5, 3, 4, 4, 3, 5, 4, 3, 3]\n",
      "## groundedness score :  [4, 5, 3, 4, 4, 3, 5, 4, 3, 3]\n",
      "## all_reponses :  [5, 5, 5, 5, 5, 5, 5, 5, 4, 4]\n",
      "## coherence score :  [5, 5, 5, 5, 5, 5, 5, 5, 4, 4]\n",
      "## all_reponses :  [3, 5, 3, 5, 3, 5, 4, 5, 4, 3]\n",
      "## engagingness score :  [3, 5, 3, 5, 3, 5, 4, 5, 4, 3]\n",
      "## all_reponses :  [3, 5, 4, 4, 4, 4, 5, 4, 5, 4]\n",
      "## naturalness score :  [3, 5, 4, 4, 4, 4, 5, 4, 5, 4]\n"
     ]
    },
    {
     "name": "stderr",
     "output_type": "stream",
     "text": [
      "  4%|▎         | 2/54 [00:10<04:41,  5.41s/it]"
     ]
    },
    {
     "name": "stdout",
     "output_type": "stream",
     "text": [
      "## all_reponses :  [3, 4, 4, 4, 3, 4, 5, 4, 3, 4]\n",
      "## groundedness score :  [3, 4, 4, 4, 3, 4, 5, 4, 3, 4]\n",
      "## all_reponses :  [5, 5, 5, 5, 5, 5, 5, 5, 5, 5]\n",
      "## coherence score :  [5, 5, 5, 5, 5, 5, 5, 5, 5, 5]\n",
      "## all_reponses :  [3, 3, 2, 3, 3, 3, 2, 2, 3, 4]\n",
      "## engagingness score :  [3, 3, 2, 3, 3, 3, 2, 2, 3, 4]\n",
      "## all_reponses :  [5, 5, 5, 5, 5, 5, 5, 5, 5, 5]\n",
      "## naturalness score :  [5, 5, 5, 5, 5, 5, 5, 5, 5, 5]\n"
     ]
    },
    {
     "name": "stderr",
     "output_type": "stream",
     "text": [
      "  6%|▌         | 3/54 [00:16<04:39,  5.48s/it]"
     ]
    },
    {
     "name": "stdout",
     "output_type": "stream",
     "text": [
      "## all_reponses :  [4, 3, 3, 3, 3, 3, 4, 4, 3, 3]\n",
      "## groundedness score :  [4, 3, 3, 3, 3, 3, 4, 4, 3, 3]\n",
      "## all_reponses :  [2, 1, 1, 1, 2, 1, 2, 1, 1, 1]\n",
      "## coherence score :  [2, 1, 1, 1, 2, 1, 2, 1, 1, 1]\n",
      "## all_reponses :  [1, 1, 3, 1, 2, 1, 1, 2, 2, 2]\n",
      "## engagingness score :  [1, 1, 3, 1, 2, 1, 1, 2, 2, 2]\n",
      "## all_reponses :  [2, 3, 2, 3, 2, 3, 2, 3, 2, 2]\n",
      "## naturalness score :  [2, 3, 2, 3, 2, 3, 2, 3, 2, 2]\n"
     ]
    },
    {
     "name": "stderr",
     "output_type": "stream",
     "text": [
      "  7%|▋         | 4/54 [00:23<04:59,  6.00s/it]"
     ]
    },
    {
     "name": "stdout",
     "output_type": "stream",
     "text": [
      "## all_reponses :  [2, 1, 1, 2, 1, 2, 1, 1, 2, 2]\n",
      "## groundedness score :  [2, 1, 1, 2, 1, 2, 1, 1, 2, 2]\n",
      "## all_reponses :  [5, 3, 5, 4, 5, 5, 5, 5, 5, 5]\n",
      "## coherence score :  [5, 3, 5, 4, 5, 5, 5, 5, 5, 5]\n",
      "## all_reponses :  [4, 3, 2, 4, 2, 3, 3, 2, 4, 4]\n",
      "## engagingness score :  [4, 3, 2, 4, 2, 3, 3, 2, 4, 4]\n",
      "## all_reponses :  [4, 4, 4, 4, 5, 4, 3, 5, 4, 4]\n",
      "## naturalness score :  [4, 4, 4, 4, 5, 4, 3, 5, 4, 4]\n"
     ]
    },
    {
     "name": "stderr",
     "output_type": "stream",
     "text": [
      "  9%|▉         | 5/54 [00:37<07:19,  8.96s/it]"
     ]
    },
    {
     "name": "stdout",
     "output_type": "stream",
     "text": [
      "## all_reponses :  [3, 5, 4, 3, 3, 4, 3, 3, 3, 3]\n",
      "## groundedness score :  [3, 5, 4, 3, 3, 4, 3, 3, 3, 3]\n",
      "## all_reponses :  [5, 5, 5, 5, 5, 5, 5, 5, 5, 5]\n",
      "## coherence score :  [5, 5, 5, 5, 5, 5, 5, 5, 5, 5]\n",
      "## all_reponses :  [5, 5, 5, 4, 4, 5, 5, 5, 4, 5]\n",
      "## engagingness score :  [5, 5, 5, 4, 4, 5, 5, 5, 4, 5]\n",
      "## all_reponses :  [5, 5, 5, 5, 5, 5, 5, 5, 5, 5]\n",
      "## naturalness score :  [5, 5, 5, 5, 5, 5, 5, 5, 5, 5]\n"
     ]
    },
    {
     "name": "stderr",
     "output_type": "stream",
     "text": [
      " 11%|█         | 6/54 [00:49<08:06, 10.14s/it]"
     ]
    },
    {
     "name": "stdout",
     "output_type": "stream",
     "text": [
      "## all_reponses :  [3, 3, 4, 3, 3, 4, 3, 4, 4, 5]\n",
      "## groundedness score :  [3, 3, 4, 3, 3, 4, 3, 4, 4, 5]\n",
      "## all_reponses :  [5, 5, 4, 5, 5, 5, 4, 5, 3, 5]\n",
      "## coherence score :  [5, 5, 4, 5, 5, 5, 4, 5, 3, 5]\n",
      "## all_reponses :  [3, 2, 3, 2, 2, 3, 3, 2, 3, 3]\n",
      "## engagingness score :  [3, 2, 3, 2, 2, 3, 3, 2, 3, 3]\n",
      "## all_reponses :  [4, 4, 5, 5, 4, 5, 4, 5, 4, 4]\n",
      "## naturalness score :  [4, 4, 5, 5, 4, 5, 4, 5, 4, 4]\n"
     ]
    },
    {
     "name": "stderr",
     "output_type": "stream",
     "text": [
      " 13%|█▎        | 7/54 [01:00<08:08, 10.40s/it]"
     ]
    },
    {
     "name": "stdout",
     "output_type": "stream",
     "text": [
      "## all_reponses :  [5, 3, 1, 4, 4, 5, 4, 4, 4, 4]\n",
      "## groundedness score :  [5, 3, 1, 4, 4, 5, 4, 4, 4, 4]\n",
      "## all_reponses :  [4, 5, 4, 5, 5, 4, 5, 5, 5, 5]\n",
      "## coherence score :  [4, 5, 4, 5, 5, 4, 5, 5, 5, 5]\n",
      "## all_reponses :  [3, 3, 3, 1, 4, 3, 3, 3, 3, 3]\n",
      "## engagingness score :  [3, 3, 3, 1, 4, 3, 3, 3, 3, 3]\n",
      "## all_reponses :  [4, 4, 4, 4, 4, 5, 4, 4, 4, 4]\n",
      "## naturalness score :  [4, 4, 4, 4, 4, 5, 4, 4, 4, 4]\n"
     ]
    },
    {
     "name": "stderr",
     "output_type": "stream",
     "text": [
      " 15%|█▍        | 8/54 [01:06<06:46,  8.84s/it]"
     ]
    },
    {
     "name": "stdout",
     "output_type": "stream",
     "text": [
      "## all_reponses :  [3, 2, 1, 2, 2, 1, 4, 4, 2, 2]\n",
      "## groundedness score :  [3, 2, 1, 2, 2, 1, 4, 4, 2, 2]\n",
      "## all_reponses :  [2, 2, 4, 4, 5, 3, 2, 3, 3, 3]\n",
      "## coherence score :  [2, 2, 4, 4, 5, 3, 2, 3, 3, 3]\n",
      "## all_reponses :  [2, 2, 1, 1, 2, 2, 1, 2, 1, 2]\n",
      "## engagingness score :  [2, 2, 1, 1, 2, 2, 1, 2, 1, 2]\n",
      "## all_reponses :  [2, 3, 2, 2, 3, 2, 3, 3, 2, 3]\n",
      "## naturalness score :  [2, 3, 2, 2, 3, 2, 3, 3, 2, 3]\n"
     ]
    },
    {
     "name": "stderr",
     "output_type": "stream",
     "text": [
      " 17%|█▋        | 9/54 [01:11<05:52,  7.84s/it]"
     ]
    },
    {
     "name": "stdout",
     "output_type": "stream",
     "text": [
      "## all_reponses :  [4, 5, 4, 3, 3, 4, 3, 4, 4, 4]\n",
      "## groundedness score :  [4, 5, 4, 3, 3, 4, 3, 4, 4, 4]\n",
      "## all_reponses :  [5, 5, 5, 5, 5, 5, 5, 5, 5, 5]\n",
      "## coherence score :  [5, 5, 5, 5, 5, 5, 5, 5, 5, 5]\n",
      "## all_reponses :  [3, 3, 3, 3, 3, 3, 3, 3, 3, 3]\n",
      "## engagingness score :  [3, 3, 3, 3, 3, 3, 3, 3, 3, 3]\n",
      "## all_reponses :  [5, 5, 5, 5, 5, 5, 5, 5, 5, 5]\n",
      "## naturalness score :  [5, 5, 5, 5, 5, 5, 5, 5, 5, 5]\n"
     ]
    },
    {
     "name": "stderr",
     "output_type": "stream",
     "text": [
      " 19%|█▊        | 10/54 [01:17<05:16,  7.20s/it]"
     ]
    },
    {
     "name": "stdout",
     "output_type": "stream",
     "text": [
      "## all_reponses :  [5, 5, 5, 5, 5, 5, 5, 5, 5, 5]\n",
      "## groundedness score :  [5, 5, 5, 5, 5, 5, 5, 5, 5, 5]\n",
      "## all_reponses :  [5, 5, 5, 4, 5, 5, 5, 5, 5, 5]\n",
      "## coherence score :  [5, 5, 5, 4, 5, 5, 5, 5, 5, 5]\n",
      "## all_reponses :  [4, 3, 4, 3, 3, 3, 3, 4, 4, 3]\n",
      "## engagingness score :  [4, 3, 4, 3, 3, 3, 3, 4, 4, 3]\n",
      "## all_reponses :  [5, 5, 4, 4, 4, 4, 4, 4, 5, 4]\n",
      "## naturalness score :  [5, 5, 4, 4, 4, 4, 4, 4, 5, 4]\n"
     ]
    },
    {
     "name": "stderr",
     "output_type": "stream",
     "text": [
      " 20%|██        | 11/54 [01:22<04:45,  6.63s/it]"
     ]
    },
    {
     "name": "stdout",
     "output_type": "stream",
     "text": [
      "## all_reponses :  [5, 3, 5, 5, 4, 5, 5, 5, 5, 4]\n",
      "## groundedness score :  [5, 3, 5, 5, 4, 5, 5, 5, 5, 4]\n",
      "## all_reponses :  [5, 5, 5, 5, 5, 5, 5, 5, 5, 5]\n",
      "## coherence score :  [5, 5, 5, 5, 5, 5, 5, 5, 5, 5]\n",
      "## all_reponses :  [3, 1, 3, 2, 1, 2, 4, 1, 2, 1]\n",
      "## engagingness score :  [3, 1, 3, 2, 1, 2, 4, 1, 2, 1]\n",
      "## all_reponses :  [5, 5, 5, 5, 5, 5, 5, 5, 5, 5]\n",
      "## naturalness score :  [5, 5, 5, 5, 5, 5, 5, 5, 5, 5]\n"
     ]
    },
    {
     "name": "stderr",
     "output_type": "stream",
     "text": [
      " 22%|██▏       | 12/54 [01:28<04:26,  6.34s/it]"
     ]
    },
    {
     "name": "stdout",
     "output_type": "stream",
     "text": [
      "## all_reponses :  [4, 5, 5, 5, 5, 5, 5, 4, 5, 5]\n",
      "## groundedness score :  [4, 5, 5, 5, 5, 5, 5, 4, 5, 5]\n",
      "## all_reponses :  [4, 5, 5, 5, 5, 5, 5, 5, 5, 5]\n",
      "## coherence score :  [4, 5, 5, 5, 5, 5, 5, 5, 5, 5]\n",
      "## all_reponses :  [3, 4, 3, 4, 4, 3, 3, 4, 4, 3]\n",
      "## engagingness score :  [3, 4, 3, 4, 4, 3, 3, 4, 4, 3]\n",
      "## all_reponses :  [5, 5, 5, 4, 5, 5, 5, 5, 5, 5]\n",
      "## naturalness score :  [5, 5, 5, 4, 5, 5, 5, 5, 5, 5]\n"
     ]
    },
    {
     "name": "stderr",
     "output_type": "stream",
     "text": [
      " 24%|██▍       | 13/54 [01:33<04:06,  6.02s/it]"
     ]
    },
    {
     "name": "stdout",
     "output_type": "stream",
     "text": [
      "## all_reponses :  [3, 3, 3, 4, 4, 4, 3, 4, 3, 3]\n",
      "## groundedness score :  [3, 3, 3, 4, 4, 4, 3, 4, 3, 3]\n",
      "## all_reponses :  [4, 5, 4, 3, 2, 4, 5, 5, 3, 4]\n",
      "## coherence score :  [4, 5, 4, 3, 2, 4, 5, 5, 3, 4]\n",
      "## all_reponses :  [2, 2, 2, 2, 3, 3, 2, 2, 2, 2]\n",
      "## engagingness score :  [2, 2, 2, 2, 3, 3, 2, 2, 2, 2]\n",
      "## all_reponses :  [3, 2, 3, 4, 3, 4, 2, 2, 3, 4]\n",
      "## naturalness score :  [3, 2, 3, 4, 3, 4, 2, 2, 3, 4]\n"
     ]
    },
    {
     "name": "stderr",
     "output_type": "stream",
     "text": [
      " 26%|██▌       | 14/54 [01:38<03:48,  5.71s/it]"
     ]
    },
    {
     "name": "stdout",
     "output_type": "stream",
     "text": [
      "## all_reponses :  [2, 4, 3, 2, 3, 3, 3, 2, 3, 2]\n",
      "## groundedness score :  [2, 4, 3, 2, 3, 3, 3, 2, 3, 2]\n",
      "## all_reponses :  [5, 5, 5, 5, 5, 5, 5, 5, 5, 5]\n",
      "## coherence score :  [5, 5, 5, 5, 5, 5, 5, 5, 5, 5]\n",
      "## all_reponses :  [3, 3, 5, 3, 3, 3, 4, 3, 4, 3]\n",
      "## engagingness score :  [3, 3, 5, 3, 3, 3, 4, 3, 4, 3]\n",
      "## all_reponses :  [5, 5, 5, 5, 5, 5, 4, 5, 4, 5]\n",
      "## naturalness score :  [5, 5, 5, 5, 5, 5, 4, 5, 4, 5]\n"
     ]
    },
    {
     "name": "stderr",
     "output_type": "stream",
     "text": [
      " 28%|██▊       | 15/54 [01:44<03:37,  5.57s/it]"
     ]
    },
    {
     "name": "stdout",
     "output_type": "stream",
     "text": [
      "## all_reponses :  [4, 3, 4, 5, 4, 4, 5, 4, 3, 4]\n",
      "## groundedness score :  [4, 3, 4, 5, 4, 4, 5, 4, 3, 4]\n",
      "## all_reponses :  [5, 5, 5, 5, 5, 5, 5, 5, 5, 5]\n",
      "## coherence score :  [5, 5, 5, 5, 5, 5, 5, 5, 5, 5]\n",
      "## all_reponses :  [4, 4, 5, 4, 4, 4, 5, 4, 4, 3]\n",
      "## engagingness score :  [4, 4, 5, 4, 4, 4, 5, 4, 4, 3]\n",
      "## all_reponses :  [5, 5, 5, 5, 5, 5, 5, 5, 4, 5]\n",
      "## naturalness score :  [5, 5, 5, 5, 5, 5, 5, 5, 4, 5]\n"
     ]
    },
    {
     "name": "stderr",
     "output_type": "stream",
     "text": [
      " 30%|██▉       | 16/54 [01:49<03:30,  5.54s/it]"
     ]
    },
    {
     "name": "stdout",
     "output_type": "stream",
     "text": [
      "## all_reponses :  [4, 2, 3, 4, 4, 3, 4, 4, 4, 4]\n",
      "## groundedness score :  [4, 2, 3, 4, 4, 3, 4, 4, 4, 4]\n",
      "## all_reponses :  [5, 5, 5, 5, 5, 5, 5, 5, 5, 5]\n",
      "## coherence score :  [5, 5, 5, 5, 5, 5, 5, 5, 5, 5]\n",
      "## all_reponses :  [3, 3, 3, 3, 3, 3, 3, 3, 3, 3]\n",
      "## engagingness score :  [3, 3, 3, 3, 3, 3, 3, 3, 3, 3]\n",
      "## all_reponses :  [5, 5, 5, 5, 5, 5, 5, 5, 5, 5]\n",
      "## naturalness score :  [5, 5, 5, 5, 5, 5, 5, 5, 5, 5]\n"
     ]
    },
    {
     "name": "stderr",
     "output_type": "stream",
     "text": [
      " 31%|███▏      | 17/54 [01:55<03:24,  5.53s/it]"
     ]
    },
    {
     "name": "stdout",
     "output_type": "stream",
     "text": [
      "## all_reponses :  [3, 1, 1, 2, 2, 3, 1, 1, 2, 2]\n",
      "## groundedness score :  [3, 1, 1, 2, 2, 3, 1, 1, 2, 2]\n",
      "## all_reponses :  [5, 5, 4, 5, 5, 5, 5, 5, 5, 5]\n",
      "## coherence score :  [5, 5, 4, 5, 5, 5, 5, 5, 5, 5]\n",
      "## all_reponses :  [3, 3, 2, 3, 2, 2, 3, 2, 2, 3]\n",
      "## engagingness score :  [3, 3, 2, 3, 2, 2, 3, 2, 2, 3]\n",
      "## all_reponses :  [5, 5, 5, 5, 5, 5, 5, 5, 5, 5]\n",
      "## naturalness score :  [5, 5, 5, 5, 5, 5, 5, 5, 5, 5]\n"
     ]
    },
    {
     "name": "stderr",
     "output_type": "stream",
     "text": [
      " 33%|███▎      | 18/54 [02:00<03:16,  5.44s/it]"
     ]
    },
    {
     "name": "stdout",
     "output_type": "stream",
     "text": [
      "## all_reponses :  [5, 5, 5, 5, 4, 5, 5, 5, 4, 5]\n",
      "## groundedness score :  [5, 5, 5, 5, 4, 5, 5, 5, 4, 5]\n",
      "## all_reponses :  [5, 5, 5, 5, 5, 5, 5, 5, 5, 5]\n",
      "## coherence score :  [5, 5, 5, 5, 5, 5, 5, 5, 5, 5]\n",
      "## all_reponses :  [4, 4, 4, 4, 5, 4, 4, 4, 5, 4]\n",
      "## engagingness score :  [4, 4, 4, 4, 5, 4, 4, 4, 5, 4]\n",
      "## all_reponses :  [5, 5, 5, 5, 5, 5, 5, 5, 5, 5]\n",
      "## naturalness score :  [5, 5, 5, 5, 5, 5, 5, 5, 5, 5]\n"
     ]
    },
    {
     "name": "stderr",
     "output_type": "stream",
     "text": [
      " 35%|███▌      | 19/54 [02:05<03:08,  5.39s/it]"
     ]
    },
    {
     "name": "stdout",
     "output_type": "stream",
     "text": [
      "## all_reponses :  [5, 5, 5, 5, 5, 5, 5, 5, 5, 5]\n",
      "## groundedness score :  [5, 5, 5, 5, 5, 5, 5, 5, 5, 5]\n",
      "## all_reponses :  [5, 3, 5, 3, 4, 5, 4, 4, 5, 5]\n",
      "## coherence score :  [5, 3, 5, 3, 4, 5, 4, 4, 5, 5]\n",
      "## all_reponses :  [4, 4, 4, 4, 4, 5, 4, 3, 4, 5]\n",
      "## engagingness score :  [4, 4, 4, 4, 4, 5, 4, 3, 4, 5]\n",
      "## all_reponses :  [4, 4, 5, 5, 5, 5, 4, 5, 5, 4]\n",
      "## naturalness score :  [4, 4, 5, 5, 5, 5, 4, 5, 5, 4]\n"
     ]
    },
    {
     "name": "stderr",
     "output_type": "stream",
     "text": [
      " 37%|███▋      | 20/54 [02:11<03:03,  5.41s/it]"
     ]
    },
    {
     "name": "stdout",
     "output_type": "stream",
     "text": [
      "## all_reponses :  [1, 1, 3, 2, 2, 1, 2, 3, 3, 1]\n",
      "## groundedness score :  [1, 1, 3, 2, 2, 1, 2, 3, 3, 1]\n",
      "## all_reponses :  [5, 5, 5, 5, 5, 5, 5, 5, 5, 5]\n",
      "## coherence score :  [5, 5, 5, 5, 5, 5, 5, 5, 5, 5]\n",
      "## all_reponses :  [4, 4, 4, 4, 4, 4, 3, 4, 4, 4]\n",
      "## engagingness score :  [4, 4, 4, 4, 4, 4, 3, 4, 4, 4]\n",
      "## all_reponses :  [5, 5, 5, 5, 5, 5, 5, 5, 5, 5]\n",
      "## naturalness score :  [5, 5, 5, 5, 5, 5, 5, 5, 5, 5]\n"
     ]
    },
    {
     "name": "stderr",
     "output_type": "stream",
     "text": [
      " 39%|███▉      | 21/54 [02:16<03:00,  5.48s/it]"
     ]
    },
    {
     "name": "stdout",
     "output_type": "stream",
     "text": [
      "## all_reponses :  [5, 5, 5, 5, 4, 5, 5, 4, 4, 3]\n",
      "## groundedness score :  [5, 5, 5, 5, 4, 5, 5, 4, 4, 3]\n",
      "## all_reponses :  [5, 5, 5, 5, 5, 5, 5, 5, 5, 5]\n",
      "## coherence score :  [5, 5, 5, 5, 5, 5, 5, 5, 5, 5]\n",
      "## all_reponses :  [3, 3, 4, 3, 4, 3, 3, 3, 4, 3]\n",
      "## engagingness score :  [3, 3, 4, 3, 4, 3, 3, 3, 4, 3]\n",
      "## all_reponses :  [5, 5, 5, 5, 5, 5, 5, 5, 4, 4]\n",
      "## naturalness score :  [5, 5, 5, 5, 5, 5, 5, 5, 4, 4]\n"
     ]
    },
    {
     "name": "stderr",
     "output_type": "stream",
     "text": [
      " 41%|████      | 22/54 [02:22<02:54,  5.44s/it]"
     ]
    },
    {
     "name": "stdout",
     "output_type": "stream",
     "text": [
      "## all_reponses :  [5, 5, 5, 5, 5, 5, 5, 4, 5, 5]\n",
      "## groundedness score :  [5, 5, 5, 5, 5, 5, 5, 4, 5, 5]\n",
      "## all_reponses :  [5, 5, 5, 5, 5, 5, 5, 5, 5, 5]\n",
      "## coherence score :  [5, 5, 5, 5, 5, 5, 5, 5, 5, 5]\n",
      "## all_reponses :  [2, 3, 3, 3, 3, 2, 3, 3, 2, 3]\n",
      "## engagingness score :  [2, 3, 3, 3, 3, 2, 3, 3, 2, 3]\n",
      "## all_reponses :  [5, 5, 5, 4, 5, 4, 5, 5, 4, 5]\n",
      "## naturalness score :  [5, 5, 5, 4, 5, 4, 5, 5, 4, 5]\n"
     ]
    },
    {
     "name": "stderr",
     "output_type": "stream",
     "text": [
      " 43%|████▎     | 23/54 [02:27<02:48,  5.44s/it]"
     ]
    },
    {
     "name": "stdout",
     "output_type": "stream",
     "text": [
      "## all_reponses :  [4, 4, 5, 4, 4, 5, 4, 5, 5, 4]\n",
      "## groundedness score :  [4, 4, 5, 4, 4, 5, 4, 5, 5, 4]\n",
      "## all_reponses :  [5, 5, 5, 5, 5, 5, 5, 5, 5, 4]\n",
      "## coherence score :  [5, 5, 5, 5, 5, 5, 5, 5, 5, 4]\n",
      "## all_reponses :  [2, 3, 4, 3, 3, 3, 3, 3, 3, 3]\n",
      "## engagingness score :  [2, 3, 4, 3, 3, 3, 3, 3, 3, 3]\n",
      "## all_reponses :  [5, 5, 5, 5, 5, 5, 5, 5, 5, 5]\n",
      "## naturalness score :  [5, 5, 5, 5, 5, 5, 5, 5, 5, 5]\n"
     ]
    },
    {
     "name": "stderr",
     "output_type": "stream",
     "text": [
      " 44%|████▍     | 24/54 [02:32<02:39,  5.31s/it]"
     ]
    },
    {
     "name": "stdout",
     "output_type": "stream",
     "text": [
      "## all_reponses :  [5, 4, 3, 4, 3, 3, 4, 4, 3, 3]\n",
      "## groundedness score :  [5, 4, 3, 4, 3, 3, 4, 4, 3, 3]\n",
      "## all_reponses :  [5, 5, 5, 5, 5, 5, 5, 5, 5, 5]\n",
      "## coherence score :  [5, 5, 5, 5, 5, 5, 5, 5, 5, 5]\n",
      "## all_reponses :  [4, 4, 4, 5, 4, 4, 4, 4, 4, 4]\n",
      "## engagingness score :  [4, 4, 4, 5, 4, 4, 4, 4, 4, 4]\n",
      "## all_reponses :  [5, 5, 5, 5, 5, 5, 5, 5, 5, 5]\n",
      "## naturalness score :  [5, 5, 5, 5, 5, 5, 5, 5, 5, 5]\n"
     ]
    },
    {
     "name": "stderr",
     "output_type": "stream",
     "text": [
      " 46%|████▋     | 25/54 [02:38<02:36,  5.38s/it]"
     ]
    },
    {
     "name": "stdout",
     "output_type": "stream",
     "text": [
      "## all_reponses :  [4, 5, 5, 4, 5, 5, 4, 4, 5, 5]\n",
      "## groundedness score :  [4, 5, 5, 4, 5, 5, 4, 4, 5, 5]\n",
      "## all_reponses :  [5, 4, 5, 5, 5, 5, 5, 5, 5, 5]\n",
      "## coherence score :  [5, 4, 5, 5, 5, 5, 5, 5, 5, 5]\n",
      "## all_reponses :  [4, 4, 3, 4, 4, 4, 3, 4, 4, 3]\n",
      "## engagingness score :  [4, 4, 3, 4, 4, 4, 3, 4, 4, 3]\n",
      "## all_reponses :  [5, 4, 5, 5, 5, 5, 5, 4, 5, 4]\n",
      "## naturalness score :  [5, 4, 5, 5, 5, 5, 5, 4, 5, 4]\n"
     ]
    },
    {
     "name": "stderr",
     "output_type": "stream",
     "text": [
      " 48%|████▊     | 26/54 [02:43<02:27,  5.26s/it]"
     ]
    },
    {
     "name": "stdout",
     "output_type": "stream",
     "text": [
      "## all_reponses :  [5, 3, 4, 3, 4, 3, 3, 3, 3, 5]\n",
      "## groundedness score :  [5, 3, 4, 3, 4, 3, 3, 3, 3, 5]\n",
      "## all_reponses :  [5, 4, 5, 5, 5, 4, 5, 5, 5, 5]\n",
      "## coherence score :  [5, 4, 5, 5, 5, 4, 5, 5, 5, 5]\n",
      "## all_reponses :  [3, 4, 3, 4, 4, 5, 4, 4, 4, 4]\n",
      "## engagingness score :  [3, 4, 3, 4, 4, 5, 4, 4, 4, 4]\n",
      "## all_reponses :  [5, 4, 3, 4, 5, 5, 5, 4, 5, 5]\n",
      "## naturalness score :  [5, 4, 3, 4, 5, 5, 5, 4, 5, 5]\n"
     ]
    },
    {
     "name": "stderr",
     "output_type": "stream",
     "text": [
      " 50%|█████     | 27/54 [02:48<02:21,  5.22s/it]"
     ]
    },
    {
     "name": "stdout",
     "output_type": "stream",
     "text": [
      "## all_reponses :  [4, 3, 4, 5, 4, 5, 5, 4, 3, 4]\n",
      "## groundedness score :  [4, 3, 4, 5, 4, 5, 5, 4, 3, 4]\n",
      "## all_reponses :  [3, 2, 1, 3, 1, 1, 1, 1, 4, 1]\n",
      "## coherence score :  [3, 2, 1, 3, 1, 1, 1, 1, 4, 1]\n",
      "## all_reponses :  [1, 2, 1, 1, 1, 2, 1, 1, 1, 2]\n",
      "## engagingness score :  [1, 2, 1, 1, 1, 2, 1, 1, 1, 2]\n",
      "## all_reponses :  [1, 2, 2, 1, 2, 1, 1, 2, 1, 2]\n",
      "## naturalness score :  [1, 2, 2, 1, 2, 1, 1, 2, 1, 2]\n"
     ]
    },
    {
     "name": "stderr",
     "output_type": "stream",
     "text": [
      " 52%|█████▏    | 28/54 [02:53<02:16,  5.24s/it]"
     ]
    },
    {
     "name": "stdout",
     "output_type": "stream",
     "text": [
      "## all_reponses :  [1, 1, 1, 1, 1, 1, 1, 1, 2, 2]\n",
      "## groundedness score :  [1, 1, 1, 1, 1, 1, 1, 1, 2, 2]\n",
      "## all_reponses :  [5, 5, 5, 5, 5, 5, 5, 5, 5, 5]\n",
      "## coherence score :  [5, 5, 5, 5, 5, 5, 5, 5, 5, 5]\n",
      "## all_reponses :  [3, 4, 3, 4, 4, 4, 4, 4, 4, 4]\n",
      "## engagingness score :  [3, 4, 3, 4, 4, 4, 4, 4, 4, 4]\n",
      "## all_reponses :  [5, 5, 5, 5, 5, 4, 5, 5, 4, 5]\n",
      "## naturalness score :  [5, 5, 5, 5, 5, 4, 5, 5, 4, 5]\n"
     ]
    },
    {
     "name": "stderr",
     "output_type": "stream",
     "text": [
      " 54%|█████▎    | 29/54 [02:59<02:15,  5.40s/it]"
     ]
    },
    {
     "name": "stdout",
     "output_type": "stream",
     "text": [
      "## all_reponses :  [4, 3, 5, 5, 4, 5, 5, 4, 5, 5]\n",
      "## groundedness score :  [4, 3, 5, 5, 4, 5, 5, 4, 5, 5]\n",
      "## all_reponses :  [3, 4, 2, 5, 4, 4, 4, 4, 3, 4]\n",
      "## coherence score :  [3, 4, 2, 5, 4, 4, 4, 4, 3, 4]\n",
      "## all_reponses :  [5, 5, 3, 4, 4, 4, 4, 3, 5, 4]\n",
      "## engagingness score :  [5, 5, 3, 4, 4, 4, 4, 3, 5, 4]\n",
      "## all_reponses :  [4, 4, 4, 3, 4, 4, 4, 5, 4, 4]\n",
      "## naturalness score :  [4, 4, 4, 3, 4, 4, 4, 5, 4, 4]\n"
     ]
    },
    {
     "name": "stderr",
     "output_type": "stream",
     "text": [
      " 56%|█████▌    | 30/54 [03:04<02:06,  5.29s/it]"
     ]
    },
    {
     "name": "stdout",
     "output_type": "stream",
     "text": [
      "## all_reponses :  [2, 3, 4, 2, 2, 2, 2, 3, 2, 2]\n",
      "## groundedness score :  [2, 3, 4, 2, 2, 2, 2, 3, 2, 2]\n",
      "## all_reponses :  [1, 1, 1, 1, 1, 1, 1, 1, 2, 1]\n",
      "## coherence score :  [1, 1, 1, 1, 1, 1, 1, 1, 2, 1]\n",
      "## all_reponses :  [2, 1, 2, 1, 3, 3, 2, 1, 2, 1]\n",
      "## engagingness score :  [2, 1, 2, 1, 3, 3, 2, 1, 2, 1]\n",
      "## all_reponses :  [2, 3, 2, 3, 2, 2, 1, 2, 1, 2]\n",
      "## naturalness score :  [2, 3, 2, 3, 2, 2, 1, 2, 1, 2]\n"
     ]
    },
    {
     "name": "stderr",
     "output_type": "stream",
     "text": [
      " 57%|█████▋    | 31/54 [03:09<02:00,  5.24s/it]"
     ]
    },
    {
     "name": "stdout",
     "output_type": "stream",
     "text": [
      "## all_reponses :  [2, 1, 1, 1, 1, 1, 1, 1, 1, 1]\n",
      "## groundedness score :  [2, 1, 1, 1, 1, 1, 1, 1, 1, 1]\n",
      "## all_reponses :  [5, 5, 5, 5, 5, 5, 5, 5, 5, 5]\n",
      "## coherence score :  [5, 5, 5, 5, 5, 5, 5, 5, 5, 5]\n",
      "## all_reponses :  [3, 4, 3, 3, 4, 4, 4, 3, 4, 4]\n",
      "## engagingness score :  [3, 4, 3, 3, 4, 4, 4, 3, 4, 4]\n",
      "## all_reponses :  [5, 4, 5, 4, 4, 5, 5, 4, 5, 4]\n",
      "## naturalness score :  [5, 4, 5, 4, 4, 5, 5, 4, 5, 4]\n"
     ]
    },
    {
     "name": "stderr",
     "output_type": "stream",
     "text": [
      " 59%|█████▉    | 32/54 [03:15<01:58,  5.37s/it]"
     ]
    },
    {
     "name": "stdout",
     "output_type": "stream",
     "text": [
      "## all_reponses :  [4, 4, 4, 3, 4, 3, 4, 3, 4, 5]\n",
      "## groundedness score :  [4, 4, 4, 3, 4, 3, 4, 3, 4, 5]\n",
      "## all_reponses :  [2, 2, 1, 1, 1, 1, 1, 2, 1, 1]\n",
      "## coherence score :  [2, 2, 1, 1, 1, 1, 1, 2, 1, 1]\n",
      "## all_reponses :  [1, 1, 3, 1, 2, 2, 1, 3, 2, 3]\n",
      "## engagingness score :  [1, 1, 3, 1, 2, 2, 1, 3, 2, 3]\n",
      "## all_reponses :  [2, 3, 1, 2, 1, 3, 2, 2, 2, 2]\n",
      "## naturalness score :  [2, 3, 1, 2, 1, 3, 2, 2, 2, 2]\n"
     ]
    },
    {
     "name": "stderr",
     "output_type": "stream",
     "text": [
      " 61%|██████    | 33/54 [03:20<01:52,  5.36s/it]"
     ]
    },
    {
     "name": "stdout",
     "output_type": "stream",
     "text": [
      "## all_reponses :  [1, 1, 1, 1, 1, 1, 1, 1, 1, 1]\n",
      "## groundedness score :  [1, 1, 1, 1, 1, 1, 1, 1, 1, 1]\n",
      "## all_reponses :  [2, 1, 1, 1, 1, 1, 1, 1, 2, 1]\n",
      "## coherence score :  [2, 1, 1, 1, 1, 1, 1, 1, 2, 1]\n",
      "## all_reponses :  [1, 1, 2, 1, 2, 2, 1, 2, 2, 2]\n",
      "## engagingness score :  [1, 1, 2, 1, 2, 2, 1, 2, 2, 2]\n",
      "## all_reponses :  [1, 2, 1, 1, 3, 1, 1, 1, 1, 1]\n",
      "## naturalness score :  [1, 2, 1, 1, 3, 1, 1, 1, 1, 1]\n"
     ]
    },
    {
     "name": "stderr",
     "output_type": "stream",
     "text": [
      " 63%|██████▎   | 34/54 [03:25<01:43,  5.19s/it]"
     ]
    },
    {
     "name": "stdout",
     "output_type": "stream",
     "text": [
      "## all_reponses :  [1, 1, 1, 1, 1, 1, 1, 1, 1, 1]\n",
      "## groundedness score :  [1, 1, 1, 1, 1, 1, 1, 1, 1, 1]\n",
      "## all_reponses :  [5, 5, 5, 5, 5, 5, 5, 5, 5, 4]\n",
      "## coherence score :  [5, 5, 5, 5, 5, 5, 5, 5, 5, 4]\n",
      "## all_reponses :  [5, 3, 4, 4, 4, 4, 4, 4, 5, 4]\n",
      "## engagingness score :  [5, 3, 4, 4, 4, 4, 4, 4, 5, 4]\n",
      "## all_reponses :  [5, 5, 5, 5, 5, 5, 5, 5, 5, 5]\n",
      "## naturalness score :  [5, 5, 5, 5, 5, 5, 5, 5, 5, 5]\n"
     ]
    },
    {
     "name": "stderr",
     "output_type": "stream",
     "text": [
      " 65%|██████▍   | 35/54 [03:30<01:38,  5.20s/it]"
     ]
    },
    {
     "name": "stdout",
     "output_type": "stream",
     "text": [
      "## all_reponses :  [5, 5, 5, 5, 4, 5, 5, 5, 5, 4]\n",
      "## groundedness score :  [5, 5, 5, 5, 4, 5, 5, 5, 5, 4]\n",
      "## all_reponses :  [5, 5, 5, 5, 5, 5, 5, 5, 5, 4]\n",
      "## coherence score :  [5, 5, 5, 5, 5, 5, 5, 5, 5, 4]\n",
      "## all_reponses :  [4, 3, 4, 4, 3, 4, 3, 3, 4, 3]\n",
      "## engagingness score :  [4, 3, 4, 4, 3, 4, 3, 3, 4, 3]\n",
      "## all_reponses :  [5, 5, 5, 5, 5, 5, 5, 5, 4, 5]\n",
      "## naturalness score :  [5, 5, 5, 5, 5, 5, 5, 5, 4, 5]\n"
     ]
    },
    {
     "name": "stderr",
     "output_type": "stream",
     "text": [
      " 67%|██████▋   | 36/54 [03:35<01:33,  5.18s/it]"
     ]
    },
    {
     "name": "stdout",
     "output_type": "stream",
     "text": [
      "## all_reponses :  [4, 5, 3, 4, 5, 5, 4, 5, 5, 4]\n",
      "## groundedness score :  [4, 5, 3, 4, 5, 5, 4, 5, 5, 4]\n",
      "## all_reponses :  [4, 4, 5, 4, 5, 5, 5, 5, 4, 5]\n",
      "## coherence score :  [4, 4, 5, 4, 5, 5, 5, 5, 4, 5]\n",
      "## all_reponses :  [4, 5, 4, 4, 4, 4, 4, 4, 4, 4]\n",
      "## engagingness score :  [4, 5, 4, 4, 4, 4, 4, 4, 4, 4]\n",
      "## all_reponses :  [5, 5, 4, 5, 5, 5, 5, 4, 4, 5]\n",
      "## naturalness score :  [5, 5, 4, 5, 5, 5, 5, 4, 4, 5]\n"
     ]
    },
    {
     "name": "stderr",
     "output_type": "stream",
     "text": [
      " 69%|██████▊   | 37/54 [03:41<01:29,  5.28s/it]"
     ]
    },
    {
     "name": "stdout",
     "output_type": "stream",
     "text": [
      "## all_reponses :  [5, 3, 4, 4, 3, 5, 3, 4, 4, 3]\n",
      "## groundedness score :  [5, 3, 4, 4, 3, 5, 3, 4, 4, 3]\n",
      "## all_reponses :  [5, 5, 4, 5, 5, 5, 5, 5, 5, 5]\n",
      "## coherence score :  [5, 5, 4, 5, 5, 5, 5, 5, 5, 5]\n",
      "## all_reponses :  [4, 4, 4, 4, 4, 4, 4, 4, 4, 4]\n",
      "## engagingness score :  [4, 4, 4, 4, 4, 4, 4, 4, 4, 4]\n",
      "## all_reponses :  [4, 5, 5, 4, 5, 5, 5, 5, 4, 4]\n",
      "## naturalness score :  [4, 5, 5, 4, 5, 5, 5, 5, 4, 4]\n"
     ]
    },
    {
     "name": "stderr",
     "output_type": "stream",
     "text": [
      " 70%|███████   | 38/54 [03:46<01:27,  5.45s/it]"
     ]
    },
    {
     "name": "stdout",
     "output_type": "stream",
     "text": [
      "## all_reponses :  [2, 4, 3, 3, 3, 3, 4, 4, 4, 3]\n",
      "## groundedness score :  [2, 4, 3, 3, 3, 3, 4, 4, 4, 3]\n",
      "## all_reponses :  [5, 5, 5, 5, 5, 5, 5, 5, 5, 5]\n",
      "## coherence score :  [5, 5, 5, 5, 5, 5, 5, 5, 5, 5]\n",
      "## all_reponses :  [3, 4, 2, 3, 3, 3, 3, 3, 3, 4]\n",
      "## engagingness score :  [3, 4, 2, 3, 3, 3, 3, 3, 3, 4]\n",
      "## all_reponses :  [5, 5, 4, 5, 4, 5, 4, 5, 5, 4]\n",
      "## naturalness score :  [5, 5, 4, 5, 4, 5, 4, 5, 5, 4]\n"
     ]
    },
    {
     "name": "stderr",
     "output_type": "stream",
     "text": [
      " 72%|███████▏  | 39/54 [03:53<01:24,  5.64s/it]"
     ]
    },
    {
     "name": "stdout",
     "output_type": "stream",
     "text": [
      "## all_reponses :  [3, 4, 4, 3, 3, 4, 3, 4, 4, 4]\n",
      "## groundedness score :  [3, 4, 4, 3, 3, 4, 3, 4, 4, 4]\n",
      "## all_reponses :  [2, 2, 4, 3, 3, 4, 3, 3, 2, 4]\n",
      "## coherence score :  [2, 2, 4, 3, 3, 4, 3, 3, 2, 4]\n",
      "## all_reponses :  [5, 3, 3, 4, 3, 4, 3, 3, 4, 2]\n",
      "## engagingness score :  [5, 3, 3, 4, 3, 4, 3, 3, 4, 2]\n",
      "## all_reponses :  [3, 3, 4, 4, 2, 3, 2, 4, 4, 4]\n",
      "## naturalness score :  [3, 3, 4, 4, 2, 3, 2, 4, 4, 4]\n"
     ]
    },
    {
     "name": "stderr",
     "output_type": "stream",
     "text": [
      " 74%|███████▍  | 40/54 [03:58<01:17,  5.56s/it]"
     ]
    },
    {
     "name": "stdout",
     "output_type": "stream",
     "text": [
      "## all_reponses :  [2, 3, 3, 3, 3, 1, 4, 3, 3, 2]\n",
      "## groundedness score :  [2, 3, 3, 3, 3, 1, 4, 3, 3, 2]\n",
      "## all_reponses :  [5, 5, 5, 5, 5, 5, 5, 5, 5, 5]\n",
      "## coherence score :  [5, 5, 5, 5, 5, 5, 5, 5, 5, 5]\n",
      "## all_reponses :  [3, 3, 3, 3, 4, 3, 4, 3, 4, 3]\n",
      "## engagingness score :  [3, 3, 3, 3, 4, 3, 4, 3, 4, 3]\n",
      "## all_reponses :  [4, 4, 5, 4, 4, 4, 4, 4, 4, 5]\n",
      "## naturalness score :  [4, 4, 5, 4, 4, 4, 4, 4, 4, 5]\n"
     ]
    },
    {
     "name": "stderr",
     "output_type": "stream",
     "text": [
      " 76%|███████▌  | 41/54 [04:03<01:11,  5.47s/it]"
     ]
    },
    {
     "name": "stdout",
     "output_type": "stream",
     "text": [
      "## all_reponses :  [4, 5, 5, 4, 5, 5, 5, 5, 5, 4]\n",
      "## groundedness score :  [4, 5, 5, 4, 5, 5, 5, 5, 5, 4]\n",
      "## all_reponses :  [5, 5, 5, 5, 5, 5, 5, 5, 5, 5]\n",
      "## coherence score :  [5, 5, 5, 5, 5, 5, 5, 5, 5, 5]\n",
      "## all_reponses :  [5, 3, 5, 4, 5, 5, 5, 5, 4, 5]\n",
      "## engagingness score :  [5, 3, 5, 4, 5, 5, 5, 5, 4, 5]\n",
      "## all_reponses :  [5, 5, 5, 5, 5, 5, 5, 5, 5, 5]\n",
      "## naturalness score :  [5, 5, 5, 5, 5, 5, 5, 5, 5, 5]\n"
     ]
    },
    {
     "name": "stderr",
     "output_type": "stream",
     "text": [
      " 78%|███████▊  | 42/54 [04:08<01:04,  5.37s/it]"
     ]
    },
    {
     "name": "stdout",
     "output_type": "stream",
     "text": [
      "## all_reponses :  [5, 4, 4, 5, 4, 5, 5, 5, 5, 5]\n",
      "## groundedness score :  [5, 4, 4, 5, 4, 5, 5, 5, 5, 5]\n",
      "## all_reponses :  [5, 5, 5, 5, 5, 5, 5, 5, 5, 5]\n",
      "## coherence score :  [5, 5, 5, 5, 5, 5, 5, 5, 5, 5]\n",
      "## all_reponses :  [5, 5, 4, 5, 5, 4, 4, 4, 5, 4]\n",
      "## engagingness score :  [5, 5, 4, 5, 5, 4, 4, 4, 5, 4]\n",
      "## all_reponses :  [5, 5, 5, 4, 5, 5, 5, 5, 5, 5]\n",
      "## naturalness score :  [5, 5, 5, 4, 5, 5, 5, 5, 5, 5]\n"
     ]
    },
    {
     "name": "stderr",
     "output_type": "stream",
     "text": [
      " 80%|███████▉  | 43/54 [04:14<00:58,  5.34s/it]"
     ]
    },
    {
     "name": "stdout",
     "output_type": "stream",
     "text": [
      "## all_reponses :  [5, 5, 4, 5, 5, 5, 5, 4, 5, 5]\n",
      "## groundedness score :  [5, 5, 4, 5, 5, 5, 5, 4, 5, 5]\n",
      "## all_reponses :  [4, 4, 5, 5, 4, 5, 4, 4, 4, 5]\n",
      "## coherence score :  [4, 4, 5, 5, 4, 5, 4, 4, 4, 5]\n",
      "## all_reponses :  [3, 5, 3, 4, 3, 4, 4, 4, 4, 4]\n",
      "## engagingness score :  [3, 5, 3, 4, 3, 4, 4, 4, 4, 4]\n",
      "## all_reponses :  [4, 4, 5, 4, 4, 4, 4, 4, 5, 4]\n",
      "## naturalness score :  [4, 4, 5, 4, 4, 4, 4, 4, 5, 4]\n"
     ]
    },
    {
     "name": "stderr",
     "output_type": "stream",
     "text": [
      " 81%|████████▏ | 44/54 [04:19<00:53,  5.30s/it]"
     ]
    },
    {
     "name": "stdout",
     "output_type": "stream",
     "text": [
      "## all_reponses :  [4, 5, 5, 5, 5, 4, 4, 4, 5, 5]\n",
      "## groundedness score :  [4, 5, 5, 5, 5, 4, 4, 4, 5, 5]\n",
      "## all_reponses :  [5, 5, 5, 5, 5, 5, 5, 5, 5, 5]\n",
      "## coherence score :  [5, 5, 5, 5, 5, 5, 5, 5, 5, 5]\n",
      "## all_reponses :  [4, 4, 5, 4, 4, 4, 4, 4, 4, 4]\n",
      "## engagingness score :  [4, 4, 5, 4, 4, 4, 4, 4, 4, 4]\n",
      "## all_reponses :  [5, 5, 5, 5, 5, 5, 5, 5, 5, 5]\n",
      "## naturalness score :  [5, 5, 5, 5, 5, 5, 5, 5, 5, 5]\n"
     ]
    },
    {
     "name": "stderr",
     "output_type": "stream",
     "text": [
      " 83%|████████▎ | 45/54 [04:24<00:48,  5.35s/it]"
     ]
    },
    {
     "name": "stdout",
     "output_type": "stream",
     "text": [
      "## all_reponses :  [4, 5, 4, 5, 5, 5, 4, 5, 5, 5]\n",
      "## groundedness score :  [4, 5, 4, 5, 5, 5, 4, 5, 5, 5]\n",
      "## all_reponses :  [5, 5, 5, 5, 5, 5, 5, 5, 5, 5]\n",
      "## coherence score :  [5, 5, 5, 5, 5, 5, 5, 5, 5, 5]\n",
      "## all_reponses :  [4, 4, 4, 5, 4, 4, 5, 4, 4, 3]\n",
      "## engagingness score :  [4, 4, 4, 5, 4, 4, 5, 4, 4, 3]\n",
      "## all_reponses :  [5, 5, 5, 5, 4, 4, 5, 5, 5, 5]\n",
      "## naturalness score :  [5, 5, 5, 5, 4, 4, 5, 5, 5, 5]\n"
     ]
    },
    {
     "name": "stderr",
     "output_type": "stream",
     "text": [
      " 85%|████████▌ | 46/54 [04:30<00:43,  5.39s/it]"
     ]
    },
    {
     "name": "stdout",
     "output_type": "stream",
     "text": [
      "## all_reponses :  [5, 5, 5, 5, 5, 4, 4, 5, 5, 5]\n",
      "## groundedness score :  [5, 5, 5, 5, 5, 4, 4, 5, 5, 5]\n",
      "## all_reponses :  [5, 5, 5, 5, 5, 5, 5, 5, 5, 5]\n",
      "## coherence score :  [5, 5, 5, 5, 5, 5, 5, 5, 5, 5]\n",
      "## all_reponses :  [4, 4, 4, 4, 4, 4, 4, 4, 4, 4]\n",
      "## engagingness score :  [4, 4, 4, 4, 4, 4, 4, 4, 4, 4]\n",
      "## all_reponses :  [5, 5, 5, 5, 5, 5, 5, 5, 5, 5]\n",
      "## naturalness score :  [5, 5, 5, 5, 5, 5, 5, 5, 5, 5]\n"
     ]
    },
    {
     "name": "stderr",
     "output_type": "stream",
     "text": [
      " 87%|████████▋ | 47/54 [04:35<00:38,  5.47s/it]"
     ]
    },
    {
     "name": "stdout",
     "output_type": "stream",
     "text": [
      "## all_reponses :  [5, 5, 5, 5, 5, 5, 5, 5, 5, 5]\n",
      "## groundedness score :  [5, 5, 5, 5, 5, 5, 5, 5, 5, 5]\n",
      "## all_reponses :  [5, 5, 5, 5, 5, 5, 5, 5, 5, 5]\n",
      "## coherence score :  [5, 5, 5, 5, 5, 5, 5, 5, 5, 5]\n",
      "## all_reponses :  [4, 5, 4, 4, 4, 5, 5, 4, 4, 5]\n",
      "## engagingness score :  [4, 5, 4, 4, 4, 5, 5, 4, 4, 5]\n",
      "## all_reponses :  [5, 5, 5, 5, 5, 5, 5, 5, 5, 5]\n",
      "## naturalness score :  [5, 5, 5, 5, 5, 5, 5, 5, 5, 5]\n"
     ]
    },
    {
     "name": "stderr",
     "output_type": "stream",
     "text": [
      " 89%|████████▉ | 48/54 [04:41<00:32,  5.44s/it]"
     ]
    },
    {
     "name": "stdout",
     "output_type": "stream",
     "text": [
      "## all_reponses :  [5, 5, 5, 5, 5, 5, 5, 5, 5, 5]\n",
      "## groundedness score :  [5, 5, 5, 5, 5, 5, 5, 5, 5, 5]\n",
      "## all_reponses :  [5, 5, 5, 5, 5, 5, 5, 5, 5, 5]\n",
      "## coherence score :  [5, 5, 5, 5, 5, 5, 5, 5, 5, 5]\n",
      "## all_reponses :  [4, 5, 4, 4, 4, 4, 5, 5, 5, 3]\n",
      "## engagingness score :  [4, 5, 4, 4, 4, 4, 5, 5, 5, 3]\n",
      "## all_reponses :  [5, 5, 5, 5, 5, 5, 5, 5, 5, 5]\n",
      "## naturalness score :  [5, 5, 5, 5, 5, 5, 5, 5, 5, 5]\n"
     ]
    },
    {
     "name": "stderr",
     "output_type": "stream",
     "text": [
      " 91%|█████████ | 49/54 [04:47<00:28,  5.72s/it]"
     ]
    },
    {
     "name": "stdout",
     "output_type": "stream",
     "text": [
      "## all_reponses :  [5, 5, 5, 5, 5, 5, 5, 5, 5, 5]\n",
      "## groundedness score :  [5, 5, 5, 5, 5, 5, 5, 5, 5, 5]\n",
      "## all_reponses :  [5, 5, 5, 4, 5, 5, 5, 5, 5, 5]\n",
      "## coherence score :  [5, 5, 5, 4, 5, 5, 5, 5, 5, 5]\n",
      "## all_reponses :  [4, 4, 5, 4, 3, 4, 4, 4, 4, 3]\n",
      "## engagingness score :  [4, 4, 5, 4, 3, 4, 4, 4, 4, 3]\n",
      "## all_reponses :  [5, 4, 5, 5, 5, 5, 4, 5, 4, 5]\n",
      "## naturalness score :  [5, 4, 5, 5, 5, 5, 4, 5, 4, 5]\n"
     ]
    },
    {
     "name": "stderr",
     "output_type": "stream",
     "text": [
      " 93%|█████████▎| 50/54 [04:53<00:22,  5.66s/it]"
     ]
    },
    {
     "name": "stdout",
     "output_type": "stream",
     "text": [
      "## all_reponses :  [5, 5, 4, 5, 4, 5, 4, 3, 5, 5]\n",
      "## groundedness score :  [5, 5, 4, 5, 4, 5, 4, 3, 5, 5]\n",
      "## all_reponses :  [5, 5, 5, 5, 5, 5, 5, 4, 5, 5]\n",
      "## coherence score :  [5, 5, 5, 5, 5, 5, 5, 4, 5, 5]\n",
      "## all_reponses :  [4, 3, 4, 4, 3, 4, 4, 4, 3, 3]\n",
      "## engagingness score :  [4, 3, 4, 4, 3, 4, 4, 4, 3, 3]\n",
      "## all_reponses :  [3, 4, 4, 3, 4, 3, 4, 4, 3, 4]\n",
      "## naturalness score :  [3, 4, 4, 3, 4, 3, 4, 4, 3, 4]\n"
     ]
    },
    {
     "name": "stderr",
     "output_type": "stream",
     "text": [
      " 94%|█████████▍| 51/54 [04:58<00:16,  5.46s/it]"
     ]
    },
    {
     "name": "stdout",
     "output_type": "stream",
     "text": [
      "## all_reponses :  [5, 3, 3, 3, 4, 3, 3, 4, 4, 4]\n",
      "## groundedness score :  [5, 3, 3, 3, 4, 3, 3, 4, 4, 4]\n",
      "## all_reponses :  [5, 5, 5, 3, 3, 4, 5, 5, 3, 3]\n",
      "## coherence score :  [5, 5, 5, 3, 3, 4, 5, 5, 3, 3]\n",
      "## all_reponses :  [3, 3, 3, 4, 3, 3, 3, 2, 3, 3]\n",
      "## engagingness score :  [3, 3, 3, 4, 3, 3, 3, 2, 3, 3]\n",
      "## all_reponses :  [4, 4, 3, 2, 4, 4, 4, 3, 4, 3]\n",
      "## naturalness score :  [4, 4, 3, 2, 4, 4, 4, 3, 4, 3]\n"
     ]
    },
    {
     "name": "stderr",
     "output_type": "stream",
     "text": [
      " 96%|█████████▋| 52/54 [05:03<00:11,  5.54s/it]"
     ]
    },
    {
     "name": "stdout",
     "output_type": "stream",
     "text": [
      "## all_reponses :  [2, 3, 1, 2, 1, 2, 1, 4, 3, 1]\n",
      "## groundedness score :  [2, 3, 1, 2, 1, 2, 1, 4, 3, 1]\n",
      "## all_reponses :  [5, 5, 3, 4, 4, 3, 4, 5, 3, 5]\n",
      "## coherence score :  [5, 5, 3, 4, 4, 3, 4, 5, 3, 5]\n",
      "## all_reponses :  [2, 4, 4, 3, 3, 4, 4, 3, 3, 3]\n",
      "## engagingness score :  [2, 4, 4, 3, 3, 4, 4, 3, 3, 3]\n",
      "## all_reponses :  [5, 3, 4, 4, 3, 4, 4, 4, 4, 5]\n",
      "## naturalness score :  [5, 3, 4, 4, 3, 4, 4, 4, 4, 5]\n"
     ]
    },
    {
     "name": "stderr",
     "output_type": "stream",
     "text": [
      " 98%|█████████▊| 53/54 [05:09<00:05,  5.52s/it]"
     ]
    },
    {
     "name": "stdout",
     "output_type": "stream",
     "text": [
      "## all_reponses :  [4, 5, 2, 4, 2, 3, 3, 2, 4, 3]\n",
      "## groundedness score :  [4, 5, 2, 4, 2, 3, 3, 2, 4, 3]\n",
      "## all_reponses :  [4, 3, 1, 4, 5, 4, 2, 4, 4, 3]\n",
      "## coherence score :  [4, 3, 1, 4, 5, 4, 2, 4, 4, 3]\n",
      "## all_reponses :  [1, 1, 1, 1, 1, 1, 2, 1, 1, 1]\n",
      "## engagingness score :  [1, 1, 1, 1, 1, 1, 2, 1, 1, 1]\n",
      "## all_reponses :  [2, 3, 2, 4, 4, 3, 5, 2, 5, 5]\n",
      "## naturalness score :  [2, 3, 2, 4, 4, 3, 5, 2, 5, 5]\n"
     ]
    },
    {
     "name": "stderr",
     "output_type": "stream",
     "text": [
      "100%|██████████| 54/54 [05:14<00:00,  5.83s/it]"
     ]
    },
    {
     "name": "stdout",
     "output_type": "stream",
     "text": [
      "## all_reponses :  [3, 2, 2, 3, 5, 5, 4, 4, 4, 4]\n",
      "## groundedness score :  [3, 2, 2, 3, 5, 5, 4, 4, 4, 4]\n",
      "## Evaluated 54/54 row! : \n"
     ]
    },
    {
     "name": "stderr",
     "output_type": "stream",
     "text": [
      "\n"
     ]
    }
   ],
   "source": [
    "evaluate(solar_vl2_2, 'GEVAL_solar_vl2_2')"
   ]
  },
  {
   "cell_type": "code",
   "execution_count": 11,
   "metadata": {},
   "outputs": [
    {
     "name": "stderr",
     "output_type": "stream",
     "text": [
      "  0%|          | 0/54 [00:00<?, ?it/s]"
     ]
    },
    {
     "name": "stdout",
     "output_type": "stream",
     "text": [
      "## all_reponses :  [5, 5, 4, 5, 5, 5, 5, 5, 5, 5]\n",
      "## coherence score :  [5, 5, 4, 5, 5, 5, 5, 5, 5, 5]\n",
      "## all_reponses :  [3, 3, 2, 3, 4, 3, 3, 3, 2, 3]\n",
      "## engagingness score :  [3, 3, 2, 3, 4, 3, 3, 3, 2, 3]\n",
      "## all_reponses :  [5, 5, 5, 5, 5, 5, 5, 5, 5, 5]\n",
      "## naturalness score :  [5, 5, 5, 5, 5, 5, 5, 5, 5, 5]\n"
     ]
    },
    {
     "name": "stderr",
     "output_type": "stream",
     "text": [
      "  2%|▏         | 1/54 [00:05<04:46,  5.40s/it]"
     ]
    },
    {
     "name": "stdout",
     "output_type": "stream",
     "text": [
      "## all_reponses :  [5, 4, 4, 5, 5, 4, 3, 5, 4, 5]\n",
      "## groundedness score :  [5, 4, 4, 5, 5, 4, 3, 5, 4, 5]\n",
      "## all_reponses :  [4, 5, 5, 5, 5, 5, 5, 4, 5, 5]\n",
      "## coherence score :  [4, 5, 5, 5, 5, 5, 5, 4, 5, 5]\n",
      "## all_reponses :  [3, 4, 5, 4, 5, 4, 3, 4, 3, 4]\n",
      "## engagingness score :  [3, 4, 5, 4, 5, 4, 3, 4, 3, 4]\n",
      "## all_reponses :  [3, 5, 3, 5, 4, 5, 4, 4, 4, 4]\n",
      "## naturalness score :  [3, 5, 3, 5, 4, 5, 4, 4, 4, 4]\n"
     ]
    },
    {
     "name": "stderr",
     "output_type": "stream",
     "text": [
      "  4%|▎         | 2/54 [00:10<04:43,  5.45s/it]"
     ]
    },
    {
     "name": "stdout",
     "output_type": "stream",
     "text": [
      "## all_reponses :  [5, 5, 5, 4, 5, 5, 4, 4, 4, 4]\n",
      "## groundedness score :  [5, 5, 5, 4, 5, 5, 4, 4, 4, 4]\n",
      "## all_reponses :  [4, 4, 4, 5, 3, 5, 5, 4, 4, 5]\n",
      "## coherence score :  [4, 4, 4, 5, 3, 5, 5, 4, 4, 5]\n",
      "## all_reponses :  [5, 4, 5, 4, 4, 4, 4, 3, 4, 5]\n",
      "## engagingness score :  [5, 4, 5, 4, 4, 4, 4, 3, 4, 5]\n",
      "## all_reponses :  [4, 3, 5, 3, 4, 4, 4, 4, 5, 4]\n",
      "## naturalness score :  [4, 3, 5, 3, 4, 4, 4, 4, 5, 4]\n"
     ]
    },
    {
     "name": "stderr",
     "output_type": "stream",
     "text": [
      "  6%|▌         | 3/54 [00:16<04:37,  5.45s/it]"
     ]
    },
    {
     "name": "stdout",
     "output_type": "stream",
     "text": [
      "## all_reponses :  [3, 3, 4, 3, 3, 3, 3, 3, 4, 4]\n",
      "## groundedness score :  [3, 3, 4, 3, 3, 3, 3, 3, 4, 4]\n",
      "## all_reponses :  [5, 5, 5, 5, 5, 5, 5, 5, 5, 5]\n",
      "## coherence score :  [5, 5, 5, 5, 5, 5, 5, 5, 5, 5]\n",
      "## all_reponses :  [3, 3, 4, 3, 3, 3, 3, 4, 3, 3]\n",
      "## engagingness score :  [3, 3, 4, 3, 3, 3, 3, 4, 3, 3]\n",
      "## all_reponses :  [5, 5, 5, 5, 5, 5, 5, 5, 5, 5]\n",
      "## naturalness score :  [5, 5, 5, 5, 5, 5, 5, 5, 5, 5]\n"
     ]
    },
    {
     "name": "stderr",
     "output_type": "stream",
     "text": [
      "  7%|▋         | 4/54 [00:21<04:29,  5.38s/it]"
     ]
    },
    {
     "name": "stdout",
     "output_type": "stream",
     "text": [
      "## all_reponses :  [5, 5, 5, 5, 5, 4, 4, 5, 5, 5]\n",
      "## groundedness score :  [5, 5, 5, 5, 5, 4, 4, 5, 5, 5]\n",
      "## all_reponses :  [5, 5, 5, 5, 5, 5, 5, 5, 5, 5]\n",
      "## coherence score :  [5, 5, 5, 5, 5, 5, 5, 5, 5, 5]\n",
      "## all_reponses :  [2, 3, 3, 2, 2, 3, 3, 2, 1, 2]\n",
      "## engagingness score :  [2, 3, 3, 2, 2, 3, 3, 2, 1, 2]\n",
      "## all_reponses :  [5, 5, 5, 5, 5, 5, 5, 5, 5, 5]\n",
      "## naturalness score :  [5, 5, 5, 5, 5, 5, 5, 5, 5, 5]\n"
     ]
    },
    {
     "name": "stderr",
     "output_type": "stream",
     "text": [
      "  9%|▉         | 5/54 [00:27<04:24,  5.41s/it]"
     ]
    },
    {
     "name": "stdout",
     "output_type": "stream",
     "text": [
      "## all_reponses :  [5, 5, 5, 5, 5, 5, 5, 5, 5, 5]\n",
      "## groundedness score :  [5, 5, 5, 5, 5, 5, 5, 5, 5, 5]\n",
      "## all_reponses :  [5, 5, 5, 5, 5, 4, 5, 5, 5, 5]\n",
      "## coherence score :  [5, 5, 5, 5, 5, 4, 5, 5, 5, 5]\n",
      "## all_reponses :  [5, 5, 5, 5, 5, 5, 4, 5, 5, 4]\n",
      "## engagingness score :  [5, 5, 5, 5, 5, 5, 4, 5, 5, 4]\n",
      "## all_reponses :  [5, 5, 5, 4, 5, 5, 5, 5, 5, 5]\n",
      "## naturalness score :  [5, 5, 5, 4, 5, 5, 5, 5, 5, 5]\n"
     ]
    },
    {
     "name": "stderr",
     "output_type": "stream",
     "text": [
      " 11%|█         | 6/54 [00:32<04:13,  5.27s/it]"
     ]
    },
    {
     "name": "stdout",
     "output_type": "stream",
     "text": [
      "## all_reponses :  [4, 5, 4, 4, 5, 4, 5, 5, 5, 3]\n",
      "## groundedness score :  [4, 5, 4, 4, 5, 4, 5, 5, 5, 3]\n",
      "## all_reponses :  [4, 4, 4, 3, 5, 4, 4, 5, 3, 5]\n",
      "## coherence score :  [4, 4, 4, 3, 5, 4, 4, 5, 3, 5]\n",
      "## all_reponses :  [3, 3, 4, 4, 4, 3, 3, 3, 3, 3]\n",
      "## engagingness score :  [3, 3, 4, 4, 4, 3, 3, 3, 3, 3]\n",
      "## all_reponses :  [5, 4, 4, 3, 4, 4, 5, 5, 5, 4]\n",
      "## naturalness score :  [5, 4, 4, 3, 4, 4, 5, 5, 5, 4]\n"
     ]
    },
    {
     "name": "stderr",
     "output_type": "stream",
     "text": [
      " 13%|█▎        | 7/54 [00:37<04:04,  5.20s/it]"
     ]
    },
    {
     "name": "stdout",
     "output_type": "stream",
     "text": [
      "## all_reponses :  [4, 4, 5, 5, 4, 4, 3, 4, 4, 3]\n",
      "## groundedness score :  [4, 4, 5, 5, 4, 4, 3, 4, 4, 3]\n",
      "## all_reponses :  [3, 4, 4, 3, 3, 4, 3, 4, 4, 4]\n",
      "## coherence score :  [3, 4, 4, 3, 3, 4, 3, 4, 4, 4]\n",
      "## all_reponses :  [4, 4, 3, 3, 4, 3, 4, 3, 3, 4]\n",
      "## engagingness score :  [4, 4, 3, 3, 4, 3, 4, 3, 3, 4]\n",
      "## all_reponses :  [3, 4, 2, 3, 4, 3, 2, 2, 4, 4]\n",
      "## naturalness score :  [3, 4, 2, 3, 4, 3, 2, 2, 4, 4]\n"
     ]
    },
    {
     "name": "stderr",
     "output_type": "stream",
     "text": [
      " 15%|█▍        | 8/54 [00:42<03:59,  5.21s/it]"
     ]
    },
    {
     "name": "stdout",
     "output_type": "stream",
     "text": [
      "## all_reponses :  [3, 4, 1, 4, 2, 3, 1, 4, 2, 1]\n",
      "## groundedness score :  [3, 4, 1, 4, 2, 3, 1, 4, 2, 1]\n",
      "## all_reponses :  [1, 1, 1, 1, 1, 2, 1, 2, 1, 1]\n",
      "## coherence score :  [1, 1, 1, 1, 1, 2, 1, 2, 1, 1]\n",
      "## all_reponses :  [1, 1, 1, 2, 2, 1, 1, 2, 2, 1]\n",
      "## engagingness score :  [1, 1, 1, 2, 2, 1, 1, 2, 2, 1]\n",
      "## all_reponses :  [2, 1, 1, 1, 1, 1, 1, 1, 2, 1]\n",
      "## naturalness score :  [2, 1, 1, 1, 1, 1, 1, 1, 2, 1]\n"
     ]
    },
    {
     "name": "stderr",
     "output_type": "stream",
     "text": [
      " 17%|█▋        | 9/54 [00:48<04:01,  5.37s/it]"
     ]
    },
    {
     "name": "stdout",
     "output_type": "stream",
     "text": [
      "## all_reponses :  [1, 1, 1, 1, 2, 1, 1, 1, 2, 1]\n",
      "## groundedness score :  [1, 1, 1, 1, 2, 1, 1, 1, 2, 1]\n",
      "## all_reponses :  [5, 5, 5, 5, 5, 5, 5, 5, 5, 5]\n",
      "## coherence score :  [5, 5, 5, 5, 5, 5, 5, 5, 5, 5]\n",
      "## all_reponses :  [3, 3, 3, 3, 3, 4, 3, 4, 3, 3]\n",
      "## engagingness score :  [3, 3, 3, 3, 3, 4, 3, 4, 3, 3]\n",
      "## all_reponses :  [5, 5, 5, 5, 5, 5, 5, 5, 5, 5]\n",
      "## naturalness score :  [5, 5, 5, 5, 5, 5, 5, 5, 5, 5]\n"
     ]
    },
    {
     "name": "stderr",
     "output_type": "stream",
     "text": [
      " 19%|█▊        | 10/54 [00:52<03:49,  5.22s/it]"
     ]
    },
    {
     "name": "stdout",
     "output_type": "stream",
     "text": [
      "## all_reponses :  [5, 5, 5, 4, 5, 5, 5, 5, 5, 5]\n",
      "## groundedness score :  [5, 5, 5, 4, 5, 5, 5, 5, 5, 5]\n",
      "## all_reponses :  [4, 5, 5, 5, 5, 5, 5, 5, 5, 4]\n",
      "## coherence score :  [4, 5, 5, 5, 5, 5, 5, 5, 5, 4]\n",
      "## all_reponses :  [4, 4, 5, 4, 4, 4, 4, 4, 4, 3]\n",
      "## engagingness score :  [4, 4, 5, 4, 4, 4, 4, 4, 4, 3]\n",
      "## all_reponses :  [5, 4, 5, 5, 5, 5, 5, 5, 4, 4]\n",
      "## naturalness score :  [5, 4, 5, 5, 5, 5, 5, 5, 4, 4]\n"
     ]
    },
    {
     "name": "stderr",
     "output_type": "stream",
     "text": [
      " 20%|██        | 11/54 [00:59<03:56,  5.50s/it]"
     ]
    },
    {
     "name": "stdout",
     "output_type": "stream",
     "text": [
      "## all_reponses :  [5, 5, 5, 4, 5, 5, 5, 5, 5, 5]\n",
      "## groundedness score :  [5, 5, 5, 4, 5, 5, 5, 5, 5, 5]\n",
      "## all_reponses :  [5, 5, 5, 5, 5, 5, 4, 5, 5, 5]\n",
      "## coherence score :  [5, 5, 5, 5, 5, 5, 4, 5, 5, 5]\n",
      "## all_reponses :  [1, 1, 3, 3, 3, 1, 3, 3, 3, 3]\n",
      "## engagingness score :  [1, 1, 3, 3, 3, 1, 3, 3, 3, 3]\n",
      "## all_reponses :  [5, 5, 5, 5, 5, 5, 5, 5, 5, 5]\n",
      "## naturalness score :  [5, 5, 5, 5, 5, 5, 5, 5, 5, 5]\n"
     ]
    },
    {
     "name": "stderr",
     "output_type": "stream",
     "text": [
      " 22%|██▏       | 12/54 [01:04<03:48,  5.44s/it]"
     ]
    },
    {
     "name": "stdout",
     "output_type": "stream",
     "text": [
      "## all_reponses :  [5, 5, 5, 5, 5, 5, 5, 5, 5, 5]\n",
      "## groundedness score :  [5, 5, 5, 5, 5, 5, 5, 5, 5, 5]\n",
      "## all_reponses :  [5, 5, 4, 5, 5, 4, 5, 5, 4, 5]\n",
      "## coherence score :  [5, 5, 4, 5, 5, 4, 5, 5, 4, 5]\n",
      "## all_reponses :  [4, 4, 4, 5, 5, 5, 3, 4, 4, 4]\n",
      "## engagingness score :  [4, 4, 4, 5, 5, 5, 3, 4, 4, 4]\n",
      "## all_reponses :  [4, 4, 5, 4, 5, 3, 4, 5, 4, 4]\n",
      "## naturalness score :  [4, 4, 5, 4, 5, 3, 4, 5, 4, 4]\n"
     ]
    },
    {
     "name": "stderr",
     "output_type": "stream",
     "text": [
      " 24%|██▍       | 13/54 [01:10<03:50,  5.62s/it]"
     ]
    },
    {
     "name": "stdout",
     "output_type": "stream",
     "text": [
      "## all_reponses :  [1, 1, 1, 1, 1, 1, 1, 2, 1, 1]\n",
      "## groundedness score :  [1, 1, 1, 1, 1, 1, 1, 2, 1, 1]\n",
      "## all_reponses :  [5, 5, 5, 5, 5, 4, 5, 5, 5, 4]\n",
      "## coherence score :  [5, 5, 5, 5, 5, 4, 5, 5, 5, 4]\n",
      "## all_reponses :  [3, 2, 1, 3, 2, 2, 2, 3, 1, 3]\n",
      "## engagingness score :  [3, 2, 1, 3, 2, 2, 2, 3, 1, 3]\n",
      "## all_reponses :  [4, 2, 3, 3, 3, 3, 3, 4, 3, 2]\n",
      "## naturalness score :  [4, 2, 3, 3, 3, 3, 3, 4, 3, 2]\n"
     ]
    },
    {
     "name": "stderr",
     "output_type": "stream",
     "text": [
      " 26%|██▌       | 14/54 [01:15<03:39,  5.49s/it]"
     ]
    },
    {
     "name": "stdout",
     "output_type": "stream",
     "text": [
      "## all_reponses :  [3, 3, 4, 3, 4, 3, 3, 4, 4, 5]\n",
      "## groundedness score :  [3, 3, 4, 3, 4, 3, 3, 4, 4, 5]\n",
      "## all_reponses :  [5, 5, 5, 5, 5, 5, 5, 5, 5, 5]\n",
      "## coherence score :  [5, 5, 5, 5, 5, 5, 5, 5, 5, 5]\n",
      "## all_reponses :  [4, 3, 3, 4, 3, 3, 3, 4, 3, 3]\n",
      "## engagingness score :  [4, 3, 3, 4, 3, 3, 3, 4, 3, 3]\n",
      "## all_reponses :  [5, 5, 5, 5, 5, 5, 5, 5, 5, 5]\n",
      "## naturalness score :  [5, 5, 5, 5, 5, 5, 5, 5, 5, 5]\n"
     ]
    },
    {
     "name": "stderr",
     "output_type": "stream",
     "text": [
      " 28%|██▊       | 15/54 [01:20<03:30,  5.41s/it]"
     ]
    },
    {
     "name": "stdout",
     "output_type": "stream",
     "text": [
      "## all_reponses :  [5, 5, 5, 5, 5, 5, 5, 5, 5, 5]\n",
      "## groundedness score :  [5, 5, 5, 5, 5, 5, 5, 5, 5, 5]\n",
      "## all_reponses :  [5, 5, 5, 5, 5, 5, 5, 5, 4, 5]\n",
      "## coherence score :  [5, 5, 5, 5, 5, 5, 5, 5, 4, 5]\n",
      "## all_reponses :  [5, 4, 5, 4, 4, 4, 5, 4, 5, 4]\n",
      "## engagingness score :  [5, 4, 5, 4, 4, 4, 5, 4, 5, 4]\n",
      "## all_reponses :  [5, 5, 4, 5, 5, 5, 5, 5, 5, 5]\n",
      "## naturalness score :  [5, 5, 4, 5, 5, 5, 5, 5, 5, 5]\n"
     ]
    },
    {
     "name": "stderr",
     "output_type": "stream",
     "text": [
      " 30%|██▉       | 16/54 [01:26<03:24,  5.39s/it]"
     ]
    },
    {
     "name": "stdout",
     "output_type": "stream",
     "text": [
      "## all_reponses :  [5, 4, 5, 4, 5, 5, 4, 5, 5, 5]\n",
      "## groundedness score :  [5, 4, 5, 4, 5, 5, 4, 5, 5, 5]\n",
      "## all_reponses :  [4, 3, 2, 4, 3, 2, 4, 3, 3, 3]\n",
      "## coherence score :  [4, 3, 2, 4, 3, 2, 4, 3, 3, 3]\n",
      "## all_reponses :  [4, 4, 4, 3, 4, 5, 4, 3, 4, 4]\n",
      "## engagingness score :  [4, 4, 4, 3, 4, 5, 4, 3, 4, 4]\n",
      "## all_reponses :  [4, 4, 4, 4, 4, 4, 5, 4, 4, 4]\n",
      "## naturalness score :  [4, 4, 4, 4, 4, 4, 5, 4, 4, 4]\n"
     ]
    },
    {
     "name": "stderr",
     "output_type": "stream",
     "text": [
      " 31%|███▏      | 17/54 [01:31<03:19,  5.40s/it]"
     ]
    },
    {
     "name": "stdout",
     "output_type": "stream",
     "text": [
      "## all_reponses :  [2, 2, 2, 1, 2, 1, 2, 1, 2, 1]\n",
      "## groundedness score :  [2, 2, 2, 1, 2, 1, 2, 1, 2, 1]\n",
      "## all_reponses :  [5, 5, 5, 5, 5, 5, 5, 5, 5, 5]\n",
      "## coherence score :  [5, 5, 5, 5, 5, 5, 5, 5, 5, 5]\n",
      "## all_reponses :  [4, 3, 3, 3, 3, 3, 3, 3, 3, 3]\n",
      "## engagingness score :  [4, 3, 3, 3, 3, 3, 3, 3, 3, 3]\n",
      "## all_reponses :  [5, 5, 4, 5, 5, 5, 5, 5, 5, 5]\n",
      "## naturalness score :  [5, 5, 4, 5, 5, 5, 5, 5, 5, 5]\n"
     ]
    },
    {
     "name": "stderr",
     "output_type": "stream",
     "text": [
      " 33%|███▎      | 18/54 [01:36<03:11,  5.32s/it]"
     ]
    },
    {
     "name": "stdout",
     "output_type": "stream",
     "text": [
      "## all_reponses :  [5, 5, 4, 4, 5, 4, 5, 5, 5, 5]\n",
      "## groundedness score :  [5, 5, 4, 4, 5, 4, 5, 5, 5, 5]\n",
      "## all_reponses :  [5, 5, 5, 5, 5, 5, 5, 5, 5, 5]\n",
      "## coherence score :  [5, 5, 5, 5, 5, 5, 5, 5, 5, 5]\n",
      "## all_reponses :  [3, 4, 4, 4, 5, 4, 3, 4, 4, 4]\n",
      "## engagingness score :  [3, 4, 4, 4, 5, 4, 3, 4, 4, 4]\n",
      "## all_reponses :  [5, 5, 5, 5, 5, 5, 5, 5, 4, 5]\n",
      "## naturalness score :  [5, 5, 5, 5, 5, 5, 5, 5, 4, 5]\n"
     ]
    },
    {
     "name": "stderr",
     "output_type": "stream",
     "text": [
      " 35%|███▌      | 19/54 [01:41<03:05,  5.29s/it]"
     ]
    },
    {
     "name": "stdout",
     "output_type": "stream",
     "text": [
      "## all_reponses :  [5, 5, 5, 4, 5, 5, 5, 5, 5, 4]\n",
      "## groundedness score :  [5, 5, 5, 4, 5, 5, 5, 5, 5, 4]\n",
      "## all_reponses :  [5, 5, 5, 4, 5, 5, 4, 5, 4, 5]\n",
      "## coherence score :  [5, 5, 5, 4, 5, 5, 4, 5, 4, 5]\n",
      "## all_reponses :  [3, 4, 3, 3, 3, 3, 4, 4, 4, 3]\n",
      "## engagingness score :  [3, 4, 3, 3, 3, 3, 4, 4, 4, 3]\n",
      "## all_reponses :  [4, 4, 4, 4, 3, 4, 4, 4, 4, 4]\n",
      "## naturalness score :  [4, 4, 4, 4, 3, 4, 4, 4, 4, 4]\n"
     ]
    },
    {
     "name": "stderr",
     "output_type": "stream",
     "text": [
      " 37%|███▋      | 20/54 [01:47<03:02,  5.37s/it]"
     ]
    },
    {
     "name": "stdout",
     "output_type": "stream",
     "text": [
      "## all_reponses :  [5, 4, 5, 3, 4, 4, 4, 5, 5, 5]\n",
      "## groundedness score :  [5, 4, 5, 3, 4, 4, 4, 5, 5, 5]\n",
      "## all_reponses :  [5, 5, 5, 5, 5, 4, 5, 5, 5, 5]\n",
      "## coherence score :  [5, 5, 5, 5, 5, 4, 5, 5, 5, 5]\n",
      "## all_reponses :  [4, 4, 4, 4, 4, 3, 5, 4, 3, 4]\n",
      "## engagingness score :  [4, 4, 4, 4, 4, 3, 5, 4, 3, 4]\n",
      "## all_reponses :  [5, 5, 5, 5, 5, 5, 5, 5, 5, 5]\n",
      "## naturalness score :  [5, 5, 5, 5, 5, 5, 5, 5, 5, 5]\n"
     ]
    },
    {
     "name": "stderr",
     "output_type": "stream",
     "text": [
      " 39%|███▉      | 21/54 [01:53<03:00,  5.47s/it]"
     ]
    },
    {
     "name": "stdout",
     "output_type": "stream",
     "text": [
      "## all_reponses :  [3, 5, 5, 4, 5, 5, 4, 5, 4, 5]\n",
      "## groundedness score :  [3, 5, 5, 4, 5, 5, 4, 5, 4, 5]\n",
      "## all_reponses :  [5, 5, 5, 5, 5, 5, 5, 4, 5, 5]\n",
      "## coherence score :  [5, 5, 5, 5, 5, 5, 5, 4, 5, 5]\n",
      "## all_reponses :  [4, 4, 4, 4, 4, 4, 3, 4, 3, 4]\n",
      "## engagingness score :  [4, 4, 4, 4, 4, 4, 3, 4, 3, 4]\n",
      "## all_reponses :  [4, 5, 5, 4, 5, 5, 4, 5, 5, 5]\n",
      "## naturalness score :  [4, 5, 5, 4, 5, 5, 4, 5, 5, 5]\n"
     ]
    },
    {
     "name": "stderr",
     "output_type": "stream",
     "text": [
      " 41%|████      | 22/54 [01:58<02:50,  5.34s/it]"
     ]
    },
    {
     "name": "stdout",
     "output_type": "stream",
     "text": [
      "## all_reponses :  [5, 4, 5, 4, 5, 5, 4, 5, 5, 4]\n",
      "## groundedness score :  [5, 4, 5, 4, 5, 5, 4, 5, 5, 4]\n",
      "## all_reponses :  [5, 5, 5, 5, 5, 5, 5, 5, 5, 5]\n",
      "## coherence score :  [5, 5, 5, 5, 5, 5, 5, 5, 5, 5]\n",
      "## all_reponses :  [2, 2, 3, 2, 3, 2, 3, 3, 2, 3]\n",
      "## engagingness score :  [2, 2, 3, 2, 3, 2, 3, 3, 2, 3]\n",
      "## all_reponses :  [5, 5, 5, 4, 5, 5, 5, 5, 5, 5]\n",
      "## naturalness score :  [5, 5, 5, 4, 5, 5, 5, 5, 5, 5]\n"
     ]
    },
    {
     "name": "stderr",
     "output_type": "stream",
     "text": [
      " 43%|████▎     | 23/54 [02:03<02:42,  5.25s/it]"
     ]
    },
    {
     "name": "stdout",
     "output_type": "stream",
     "text": [
      "## all_reponses :  [5, 5, 5, 4, 5, 5, 4, 5, 5, 5]\n",
      "## groundedness score :  [5, 5, 5, 4, 5, 5, 4, 5, 5, 5]\n",
      "## all_reponses :  [3, 4, 5, 5, 5, 4, 5, 4, 5, 5]\n",
      "## coherence score :  [3, 4, 5, 5, 5, 4, 5, 4, 5, 5]\n",
      "## all_reponses :  [3, 3, 3, 3, 3, 3, 3, 3, 3, 3]\n",
      "## engagingness score :  [3, 3, 3, 3, 3, 3, 3, 3, 3, 3]\n",
      "## all_reponses :  [5, 5, 5, 4, 5, 5, 4, 4, 5, 4]\n",
      "## naturalness score :  [5, 5, 5, 4, 5, 5, 4, 4, 5, 4]\n"
     ]
    },
    {
     "name": "stderr",
     "output_type": "stream",
     "text": [
      " 44%|████▍     | 24/54 [02:08<02:35,  5.20s/it]"
     ]
    },
    {
     "name": "stdout",
     "output_type": "stream",
     "text": [
      "## all_reponses :  [3, 3, 4, 4, 3, 4, 4, 5, 3, 4]\n",
      "## groundedness score :  [3, 3, 4, 4, 3, 4, 4, 5, 3, 4]\n",
      "## all_reponses :  [5, 5, 5, 5, 5, 5, 5, 5, 5, 5]\n",
      "## coherence score :  [5, 5, 5, 5, 5, 5, 5, 5, 5, 5]\n",
      "## all_reponses :  [4, 4, 5, 4, 4, 5, 4, 4, 5, 4]\n",
      "## engagingness score :  [4, 4, 5, 4, 4, 5, 4, 4, 5, 4]\n",
      "## all_reponses :  [5, 5, 5, 5, 5, 5, 5, 5, 5, 5]\n",
      "## naturalness score :  [5, 5, 5, 5, 5, 5, 5, 5, 5, 5]\n"
     ]
    },
    {
     "name": "stderr",
     "output_type": "stream",
     "text": [
      " 46%|████▋     | 25/54 [02:13<02:28,  5.11s/it]"
     ]
    },
    {
     "name": "stdout",
     "output_type": "stream",
     "text": [
      "## all_reponses :  [5, 4, 5, 5, 5, 5, 4, 5, 4, 5]\n",
      "## groundedness score :  [5, 4, 5, 5, 5, 5, 4, 5, 4, 5]\n",
      "## all_reponses :  [5, 5, 5, 5, 5, 5, 5, 5, 5, 5]\n",
      "## coherence score :  [5, 5, 5, 5, 5, 5, 5, 5, 5, 5]\n",
      "## all_reponses :  [4, 4, 4, 4, 4, 4, 4, 5, 4, 4]\n",
      "## engagingness score :  [4, 4, 4, 4, 4, 4, 4, 5, 4, 4]\n",
      "## all_reponses :  [5, 5, 5, 5, 5, 5, 5, 5, 5, 5]\n",
      "## naturalness score :  [5, 5, 5, 5, 5, 5, 5, 5, 5, 5]\n"
     ]
    },
    {
     "name": "stderr",
     "output_type": "stream",
     "text": [
      " 48%|████▊     | 26/54 [02:18<02:25,  5.18s/it]"
     ]
    },
    {
     "name": "stdout",
     "output_type": "stream",
     "text": [
      "## all_reponses :  [5, 4, 5, 4, 4, 4, 4, 5, 4, 5]\n",
      "## groundedness score :  [5, 4, 5, 4, 4, 4, 4, 5, 4, 5]\n",
      "## all_reponses :  [5, 5, 5, 5, 5, 5, 5, 5, 4, 5]\n",
      "## coherence score :  [5, 5, 5, 5, 5, 5, 5, 5, 4, 5]\n",
      "## all_reponses :  [3, 3, 3, 3, 4, 3, 3, 4, 4, 5]\n",
      "## engagingness score :  [3, 3, 3, 3, 4, 3, 3, 4, 4, 5]\n",
      "## all_reponses :  [5, 5, 5, 5, 4, 5, 4, 5, 5, 5]\n",
      "## naturalness score :  [5, 5, 5, 5, 4, 5, 4, 5, 5, 5]\n"
     ]
    },
    {
     "name": "stderr",
     "output_type": "stream",
     "text": [
      " 50%|█████     | 27/54 [02:24<02:23,  5.31s/it]"
     ]
    },
    {
     "name": "stdout",
     "output_type": "stream",
     "text": [
      "## all_reponses :  [5, 5, 5, 5, 5, 5, 5, 4, 5, 5]\n",
      "## groundedness score :  [5, 5, 5, 5, 5, 5, 5, 4, 5, 5]\n",
      "## all_reponses :  [4, 3, 3, 4, 3, 4, 3, 3, 3, 3]\n",
      "## coherence score :  [4, 3, 3, 4, 3, 4, 3, 3, 3, 3]\n",
      "## all_reponses :  [2, 2, 3, 3, 2, 2, 2, 2, 3, 3]\n",
      "## engagingness score :  [2, 2, 3, 3, 2, 2, 2, 2, 3, 3]\n",
      "## all_reponses :  [3, 2, 4, 2, 2, 3, 2, 3, 3, 4]\n",
      "## naturalness score :  [3, 2, 4, 2, 2, 3, 2, 3, 3, 4]\n"
     ]
    },
    {
     "name": "stderr",
     "output_type": "stream",
     "text": [
      " 52%|█████▏    | 28/54 [02:29<02:18,  5.31s/it]"
     ]
    },
    {
     "name": "stdout",
     "output_type": "stream",
     "text": [
      "## all_reponses :  [4, 4, 3, 4, 3, 3, 5, 4, 4, 3]\n",
      "## groundedness score :  [4, 4, 3, 4, 3, 3, 5, 4, 4, 3]\n",
      "## all_reponses :  [5, 5, 5, 5, 5, 5, 5, 5, 5, 5]\n",
      "## coherence score :  [5, 5, 5, 5, 5, 5, 5, 5, 5, 5]\n",
      "## all_reponses :  [3, 3, 3, 4, 3, 3, 3, 4, 3, 3]\n",
      "## engagingness score :  [3, 3, 3, 4, 3, 3, 3, 4, 3, 3]\n",
      "## all_reponses :  [5, 4, 5, 5, 5, 5, 5, 5, 5, 5]\n",
      "## naturalness score :  [5, 4, 5, 5, 5, 5, 5, 5, 5, 5]\n"
     ]
    },
    {
     "name": "stderr",
     "output_type": "stream",
     "text": [
      " 54%|█████▎    | 29/54 [02:34<02:12,  5.28s/it]"
     ]
    },
    {
     "name": "stdout",
     "output_type": "stream",
     "text": [
      "## all_reponses :  [5, 5, 5, 5, 5, 5, 4, 5, 5, 5]\n",
      "## groundedness score :  [5, 5, 5, 5, 5, 5, 4, 5, 5, 5]\n",
      "## all_reponses :  [5, 5, 5, 5, 5, 5, 5, 5, 5, 5]\n",
      "## coherence score :  [5, 5, 5, 5, 5, 5, 5, 5, 5, 5]\n",
      "## all_reponses :  [3, 3, 3, 3, 4, 4, 4, 3, 5, 4]\n",
      "## engagingness score :  [3, 3, 3, 3, 4, 4, 4, 3, 5, 4]\n",
      "## all_reponses :  [5, 5, 4, 5, 4, 4, 5, 5, 5, 5]\n",
      "## naturalness score :  [5, 5, 4, 5, 4, 4, 5, 5, 5, 5]\n"
     ]
    },
    {
     "name": "stderr",
     "output_type": "stream",
     "text": [
      " 56%|█████▌    | 30/54 [02:39<02:04,  5.20s/it]"
     ]
    },
    {
     "name": "stdout",
     "output_type": "stream",
     "text": [
      "## all_reponses :  [5, 5, 5, 5, 5, 5, 5, 5, 5, 5]\n",
      "## groundedness score :  [5, 5, 5, 5, 5, 5, 5, 5, 5, 5]\n",
      "## all_reponses :  [5, 3, 4, 4, 3, 5, 5, 4, 5, 5]\n",
      "## coherence score :  [5, 3, 4, 4, 3, 5, 5, 4, 5, 5]\n",
      "## all_reponses :  [3, 5, 4, 5, 4, 4, 5, 4, 4, 4]\n",
      "## engagingness score :  [3, 5, 4, 5, 4, 4, 5, 4, 4, 4]\n",
      "## all_reponses :  [5, 5, 4, 5, 4, 4, 5, 5, 4, 5]\n",
      "## naturalness score :  [5, 5, 4, 5, 4, 4, 5, 5, 4, 5]\n"
     ]
    },
    {
     "name": "stderr",
     "output_type": "stream",
     "text": [
      " 57%|█████▋    | 31/54 [02:44<01:59,  5.18s/it]"
     ]
    },
    {
     "name": "stdout",
     "output_type": "stream",
     "text": [
      "## all_reponses :  [3, 5, 4, 5, 5, 5, 5, 4, 4, 4]\n",
      "## groundedness score :  [3, 5, 4, 5, 5, 5, 5, 4, 4, 4]\n",
      "## all_reponses :  [5, 5, 5, 5, 5, 5, 5, 5, 5, 5]\n",
      "## coherence score :  [5, 5, 5, 5, 5, 5, 5, 5, 5, 5]\n",
      "## all_reponses :  [3, 3, 2, 3, 3, 3, 3, 4, 3, 3]\n",
      "## engagingness score :  [3, 3, 2, 3, 3, 3, 3, 4, 3, 3]\n",
      "## all_reponses :  [5, 5, 5, 4, 5, 5, 5, 5, 5, 5]\n",
      "## naturalness score :  [5, 5, 5, 4, 5, 5, 5, 5, 5, 5]\n"
     ]
    },
    {
     "name": "stderr",
     "output_type": "stream",
     "text": [
      " 59%|█████▉    | 32/54 [02:49<01:52,  5.11s/it]"
     ]
    },
    {
     "name": "stdout",
     "output_type": "stream",
     "text": [
      "## all_reponses :  [5, 5, 4, 5, 4, 3, 3, 4, 4, 5]\n",
      "## groundedness score :  [5, 5, 4, 5, 4, 3, 3, 4, 4, 5]\n",
      "## all_reponses :  [5, 5, 5, 5, 3, 5, 5, 5, 4, 5]\n",
      "## coherence score :  [5, 5, 5, 5, 3, 5, 5, 5, 4, 5]\n",
      "## all_reponses :  [1, 1, 1, 1, 1, 1, 1, 1, 1, 1]\n",
      "## engagingness score :  [1, 1, 1, 1, 1, 1, 1, 1, 1, 1]\n",
      "## all_reponses :  [2, 2, 4, 2, 1, 3, 3, 3, 4, 4]\n",
      "## naturalness score :  [2, 2, 4, 2, 1, 3, 3, 3, 4, 4]\n"
     ]
    },
    {
     "name": "stderr",
     "output_type": "stream",
     "text": [
      " 61%|██████    | 33/54 [02:55<01:47,  5.13s/it]"
     ]
    },
    {
     "name": "stdout",
     "output_type": "stream",
     "text": [
      "## all_reponses :  [4, 3, 3, 2, 2, 3, 4, 4, 3, 3]\n",
      "## groundedness score :  [4, 3, 3, 2, 2, 3, 4, 4, 3, 3]\n",
      "## all_reponses :  [4, 4, 3, 3, 2, 1, 3, 4, 3, 3]\n",
      "## coherence score :  [4, 4, 3, 3, 2, 1, 3, 4, 3, 3]\n",
      "## all_reponses :  [3, 3, 3, 3, 4, 3, 3, 3, 3, 3]\n",
      "## engagingness score :  [3, 3, 3, 3, 4, 3, 3, 3, 3, 3]\n",
      "## all_reponses :  [4, 3, 4, 2, 3, 2, 4, 3, 3, 3]\n",
      "## naturalness score :  [4, 3, 4, 2, 3, 2, 4, 3, 3, 3]\n"
     ]
    },
    {
     "name": "stderr",
     "output_type": "stream",
     "text": [
      " 63%|██████▎   | 34/54 [03:00<01:43,  5.17s/it]"
     ]
    },
    {
     "name": "stdout",
     "output_type": "stream",
     "text": [
      "## all_reponses :  [2, 2, 2, 2, 1, 2, 2, 2, 2, 2]\n",
      "## groundedness score :  [2, 2, 2, 2, 1, 2, 2, 2, 2, 2]\n",
      "## all_reponses :  [5, 5, 5, 5, 5, 5, 5, 5, 5, 5]\n",
      "## coherence score :  [5, 5, 5, 5, 5, 5, 5, 5, 5, 5]\n",
      "## all_reponses :  [5, 4, 5, 5, 4, 4, 4, 5, 5, 4]\n",
      "## engagingness score :  [5, 4, 5, 5, 4, 4, 4, 5, 5, 4]\n",
      "## all_reponses :  [5, 5, 5, 5, 5, 5, 5, 5, 5, 5]\n",
      "## naturalness score :  [5, 5, 5, 5, 5, 5, 5, 5, 5, 5]\n"
     ]
    },
    {
     "name": "stderr",
     "output_type": "stream",
     "text": [
      " 65%|██████▍   | 35/54 [03:05<01:38,  5.17s/it]"
     ]
    },
    {
     "name": "stdout",
     "output_type": "stream",
     "text": [
      "## all_reponses :  [5, 4, 5, 5, 4, 4, 5, 4, 4, 5]\n",
      "## groundedness score :  [5, 4, 5, 5, 4, 4, 5, 4, 4, 5]\n",
      "## all_reponses :  [5, 5, 5, 5, 5, 5, 5, 5, 5, 5]\n",
      "## coherence score :  [5, 5, 5, 5, 5, 5, 5, 5, 5, 5]\n",
      "## all_reponses :  [5, 3, 3, 4, 5, 4, 4, 3, 3, 4]\n",
      "## engagingness score :  [5, 3, 3, 4, 5, 4, 4, 3, 3, 4]\n",
      "## all_reponses :  [4, 5, 4, 5, 4, 4, 5, 3, 4, 4]\n",
      "## naturalness score :  [4, 5, 4, 5, 4, 4, 5, 3, 4, 4]\n"
     ]
    },
    {
     "name": "stderr",
     "output_type": "stream",
     "text": [
      " 67%|██████▋   | 36/54 [03:10<01:34,  5.23s/it]"
     ]
    },
    {
     "name": "stdout",
     "output_type": "stream",
     "text": [
      "## all_reponses :  [4, 4, 3, 4, 3, 5, 5, 4, 4, 4]\n",
      "## groundedness score :  [4, 4, 3, 4, 3, 5, 5, 4, 4, 4]\n",
      "## all_reponses :  [3, 4, 4, 3, 5, 4, 3, 4, 4, 4]\n",
      "## coherence score :  [3, 4, 4, 3, 5, 4, 3, 4, 4, 4]\n",
      "## all_reponses :  [2, 1, 3, 2, 2, 3, 3, 2, 3, 2]\n",
      "## engagingness score :  [2, 1, 3, 2, 2, 3, 3, 2, 3, 2]\n",
      "## all_reponses :  [4, 5, 5, 5, 5, 4, 5, 5, 5, 4]\n",
      "## naturalness score :  [4, 5, 5, 5, 5, 4, 5, 5, 5, 4]\n"
     ]
    },
    {
     "name": "stderr",
     "output_type": "stream",
     "text": [
      " 69%|██████▊   | 37/54 [03:16<01:32,  5.42s/it]"
     ]
    },
    {
     "name": "stdout",
     "output_type": "stream",
     "text": [
      "## all_reponses :  [4, 4, 3, 4, 4, 4, 3, 1, 5, 3]\n",
      "## groundedness score :  [4, 4, 3, 4, 4, 4, 3, 1, 5, 3]\n",
      "## all_reponses :  [5, 5, 5, 5, 5, 5, 5, 5, 5, 5]\n",
      "## coherence score :  [5, 5, 5, 5, 5, 5, 5, 5, 5, 5]\n",
      "## all_reponses :  [3, 3, 3, 3, 3, 3, 4, 3, 3, 3]\n",
      "## engagingness score :  [3, 3, 3, 3, 3, 3, 4, 3, 3, 3]\n",
      "## all_reponses :  [5, 5, 5, 5, 5, 5, 5, 5, 4, 5]\n",
      "## naturalness score :  [5, 5, 5, 5, 5, 5, 5, 5, 4, 5]\n"
     ]
    },
    {
     "name": "stderr",
     "output_type": "stream",
     "text": [
      " 70%|███████   | 38/54 [03:21<01:25,  5.35s/it]"
     ]
    },
    {
     "name": "stdout",
     "output_type": "stream",
     "text": [
      "## all_reponses :  [5, 5, 5, 5, 5, 5, 4, 4, 4, 4]\n",
      "## groundedness score :  [5, 5, 5, 5, 5, 5, 4, 4, 4, 4]\n",
      "## all_reponses :  [5, 5, 5, 5, 5, 5, 4, 5, 5, 5]\n",
      "## coherence score :  [5, 5, 5, 5, 5, 5, 4, 5, 5, 5]\n",
      "## all_reponses :  [3, 4, 4, 3, 4, 4, 4, 4, 5, 4]\n",
      "## engagingness score :  [3, 4, 4, 3, 4, 4, 4, 4, 5, 4]\n",
      "## all_reponses :  [5, 5, 5, 5, 5, 4, 5, 5, 5, 5]\n",
      "## naturalness score :  [5, 5, 5, 5, 5, 4, 5, 5, 5, 5]\n"
     ]
    },
    {
     "name": "stderr",
     "output_type": "stream",
     "text": [
      " 72%|███████▏  | 39/54 [03:27<01:19,  5.30s/it]"
     ]
    },
    {
     "name": "stdout",
     "output_type": "stream",
     "text": [
      "## all_reponses :  [5, 5, 4, 4, 4, 5, 4, 4, 4, 5]\n",
      "## groundedness score :  [5, 5, 4, 4, 4, 5, 4, 4, 4, 5]\n",
      "## all_reponses :  [5, 5, 4, 5, 5, 4, 4, 5, 5, 5]\n",
      "## coherence score :  [5, 5, 4, 5, 5, 4, 4, 5, 5, 5]\n",
      "## all_reponses :  [4, 3, 3, 3, 3, 5, 3, 3, 3, 4]\n",
      "## engagingness score :  [4, 3, 3, 3, 3, 5, 3, 3, 3, 4]\n",
      "## all_reponses :  [4, 4, 3, 4, 4, 3, 4, 4, 4, 4]\n",
      "## naturalness score :  [4, 4, 3, 4, 4, 3, 4, 4, 4, 4]\n"
     ]
    },
    {
     "name": "stderr",
     "output_type": "stream",
     "text": [
      " 74%|███████▍  | 40/54 [03:32<01:13,  5.24s/it]"
     ]
    },
    {
     "name": "stdout",
     "output_type": "stream",
     "text": [
      "## all_reponses :  [4, 5, 4, 3, 3, 4, 4, 3, 5, 5]\n",
      "## groundedness score :  [4, 5, 4, 3, 3, 4, 4, 3, 5, 5]\n",
      "## all_reponses :  [5, 3, 3, 3, 4, 5, 4, 4, 3, 3]\n",
      "## coherence score :  [5, 3, 3, 3, 4, 5, 4, 4, 3, 3]\n",
      "## all_reponses :  [3, 3, 4, 3, 3, 2, 4, 2, 4, 3]\n",
      "## engagingness score :  [3, 3, 4, 3, 3, 2, 4, 2, 4, 3]\n",
      "## all_reponses :  [3, 4, 3, 4, 3, 3, 4, 4, 3, 5]\n",
      "## naturalness score :  [3, 4, 3, 4, 3, 3, 4, 4, 3, 5]\n"
     ]
    },
    {
     "name": "stderr",
     "output_type": "stream",
     "text": [
      " 76%|███████▌  | 41/54 [03:37<01:07,  5.20s/it]"
     ]
    },
    {
     "name": "stdout",
     "output_type": "stream",
     "text": [
      "## all_reponses :  [5, 3, 2, 4, 3, 4, 3, 3, 5, 5]\n",
      "## groundedness score :  [5, 3, 2, 4, 3, 4, 3, 3, 5, 5]\n",
      "## all_reponses :  [5, 5, 5, 5, 5, 5, 5, 5, 5, 5]\n",
      "## coherence score :  [5, 5, 5, 5, 5, 5, 5, 5, 5, 5]\n",
      "## all_reponses :  [5, 5, 5, 5, 5, 5, 5, 5, 5, 4]\n",
      "## engagingness score :  [5, 5, 5, 5, 5, 5, 5, 5, 5, 4]\n",
      "## all_reponses :  [5, 5, 5, 5, 5, 5, 5, 5, 5, 5]\n",
      "## naturalness score :  [5, 5, 5, 5, 5, 5, 5, 5, 5, 5]\n"
     ]
    },
    {
     "name": "stderr",
     "output_type": "stream",
     "text": [
      " 78%|███████▊  | 42/54 [03:42<01:03,  5.30s/it]"
     ]
    },
    {
     "name": "stdout",
     "output_type": "stream",
     "text": [
      "## all_reponses :  [5, 5, 5, 5, 4, 5, 5, 5, 5, 5]\n",
      "## groundedness score :  [5, 5, 5, 5, 4, 5, 5, 5, 5, 5]\n",
      "## all_reponses :  [5, 5, 5, 5, 5, 5, 5, 5, 5, 5]\n",
      "## coherence score :  [5, 5, 5, 5, 5, 5, 5, 5, 5, 5]\n",
      "## all_reponses :  [4, 5, 4, 4, 4, 5, 5, 5, 5, 5]\n",
      "## engagingness score :  [4, 5, 4, 4, 4, 5, 5, 5, 5, 5]\n",
      "## all_reponses :  [5, 5, 5, 5, 5, 5, 5, 5, 5, 5]\n",
      "## naturalness score :  [5, 5, 5, 5, 5, 5, 5, 5, 5, 5]\n"
     ]
    },
    {
     "name": "stderr",
     "output_type": "stream",
     "text": [
      " 80%|███████▉  | 43/54 [03:48<00:58,  5.32s/it]"
     ]
    },
    {
     "name": "stdout",
     "output_type": "stream",
     "text": [
      "## all_reponses :  [4, 5, 4, 5, 5, 4, 4, 5, 5, 4]\n",
      "## groundedness score :  [4, 5, 4, 5, 5, 4, 4, 5, 5, 4]\n",
      "## all_reponses :  [1, 1, 2, 1, 1, 1, 1, 1, 1, 1]\n",
      "## coherence score :  [1, 1, 2, 1, 1, 1, 1, 1, 1, 1]\n",
      "## all_reponses :  [1, 2, 2, 2, 1, 3, 3, 2, 2, 3]\n",
      "## engagingness score :  [1, 2, 2, 2, 1, 3, 3, 2, 2, 3]\n",
      "## all_reponses :  [2, 1, 1, 2, 2, 1, 2, 1, 2, 1]\n",
      "## naturalness score :  [2, 1, 1, 2, 2, 1, 2, 1, 2, 1]\n"
     ]
    },
    {
     "name": "stderr",
     "output_type": "stream",
     "text": [
      " 81%|████████▏ | 44/54 [03:53<00:53,  5.33s/it]"
     ]
    },
    {
     "name": "stdout",
     "output_type": "stream",
     "text": [
      "## all_reponses :  [2, 1, 2, 1, 1, 2, 3, 1, 1, 1]\n",
      "## groundedness score :  [2, 1, 2, 1, 1, 2, 3, 1, 1, 1]\n",
      "## all_reponses :  [5, 5, 5, 5, 5, 5, 5, 5, 5, 5]\n",
      "## coherence score :  [5, 5, 5, 5, 5, 5, 5, 5, 5, 5]\n",
      "## all_reponses :  [3, 4, 3, 4, 4, 3, 3, 4, 3, 3]\n",
      "## engagingness score :  [3, 4, 3, 4, 4, 3, 3, 4, 3, 3]\n",
      "## all_reponses :  [5, 5, 5, 5, 5, 5, 5, 5, 5, 5]\n",
      "## naturalness score :  [5, 5, 5, 5, 5, 5, 5, 5, 5, 5]\n"
     ]
    },
    {
     "name": "stderr",
     "output_type": "stream",
     "text": [
      " 83%|████████▎ | 45/54 [03:58<00:47,  5.32s/it]"
     ]
    },
    {
     "name": "stdout",
     "output_type": "stream",
     "text": [
      "## all_reponses :  [5, 5, 5, 5, 5, 5, 5, 5, 5, 5]\n",
      "## groundedness score :  [5, 5, 5, 5, 5, 5, 5, 5, 5, 5]\n",
      "## all_reponses :  [5, 5, 4, 4, 5, 5, 5, 4, 5, 5]\n",
      "## coherence score :  [5, 5, 4, 4, 5, 5, 5, 4, 5, 5]\n",
      "## all_reponses :  [4, 3, 3, 3, 4, 3, 4, 4, 4, 4]\n",
      "## engagingness score :  [4, 3, 3, 3, 4, 3, 4, 4, 4, 4]\n",
      "## all_reponses :  [5, 5, 4, 4, 5, 5, 4, 5, 4, 4]\n",
      "## naturalness score :  [5, 5, 4, 4, 5, 5, 4, 5, 4, 4]\n"
     ]
    },
    {
     "name": "stderr",
     "output_type": "stream",
     "text": [
      " 85%|████████▌ | 46/54 [04:04<00:42,  5.36s/it]"
     ]
    },
    {
     "name": "stdout",
     "output_type": "stream",
     "text": [
      "## all_reponses :  [3, 4, 4, 3, 4, 4, 4, 4, 3, 4]\n",
      "## groundedness score :  [3, 4, 4, 3, 4, 4, 4, 4, 3, 4]\n",
      "## all_reponses :  [5, 5, 5, 5, 5, 5, 5, 5, 5, 4]\n",
      "## coherence score :  [5, 5, 5, 5, 5, 5, 5, 5, 5, 4]\n",
      "## all_reponses :  [3, 4, 3, 3, 3, 3, 4, 3, 4, 4]\n",
      "## engagingness score :  [3, 4, 3, 3, 3, 3, 4, 3, 4, 4]\n",
      "## all_reponses :  [5, 5, 5, 5, 5, 4, 5, 5, 4, 5]\n",
      "## naturalness score :  [5, 5, 5, 5, 5, 4, 5, 5, 4, 5]\n"
     ]
    },
    {
     "name": "stderr",
     "output_type": "stream",
     "text": [
      " 87%|████████▋ | 47/54 [04:09<00:37,  5.36s/it]"
     ]
    },
    {
     "name": "stdout",
     "output_type": "stream",
     "text": [
      "## all_reponses :  [5, 5, 5, 5, 5, 5, 5, 5, 5, 5]\n",
      "## groundedness score :  [5, 5, 5, 5, 5, 5, 5, 5, 5, 5]\n",
      "## all_reponses :  [5, 5, 5, 5, 5, 5, 5, 5, 5, 5]\n",
      "## coherence score :  [5, 5, 5, 5, 5, 5, 5, 5, 5, 5]\n",
      "## all_reponses :  [5, 3, 3, 5, 5, 4, 4, 4, 4, 3]\n",
      "## engagingness score :  [5, 3, 3, 5, 5, 4, 4, 4, 4, 3]\n",
      "## all_reponses :  [5, 4, 5, 5, 4, 5, 5, 5, 5, 5]\n",
      "## naturalness score :  [5, 4, 5, 5, 4, 5, 5, 5, 5, 5]\n"
     ]
    },
    {
     "name": "stderr",
     "output_type": "stream",
     "text": [
      " 89%|████████▉ | 48/54 [04:15<00:32,  5.37s/it]"
     ]
    },
    {
     "name": "stdout",
     "output_type": "stream",
     "text": [
      "## all_reponses :  [5, 4, 4, 5, 5, 4, 5, 5, 5, 5]\n",
      "## groundedness score :  [5, 4, 4, 5, 5, 4, 5, 5, 5, 5]\n",
      "## all_reponses :  [5, 5, 5, 5, 5, 5, 5, 5, 5, 5]\n",
      "## coherence score :  [5, 5, 5, 5, 5, 5, 5, 5, 5, 5]\n",
      "## all_reponses :  [4, 4, 5, 5, 5, 5, 5, 5, 5, 4]\n",
      "## engagingness score :  [4, 4, 5, 5, 5, 5, 5, 5, 5, 4]\n",
      "## all_reponses :  [4, 4, 5, 5, 5, 5, 5, 5, 5, 5]\n",
      "## naturalness score :  [4, 4, 5, 5, 5, 5, 5, 5, 5, 5]\n"
     ]
    },
    {
     "name": "stderr",
     "output_type": "stream",
     "text": [
      " 91%|█████████ | 49/54 [04:21<00:27,  5.56s/it]"
     ]
    },
    {
     "name": "stdout",
     "output_type": "stream",
     "text": [
      "## all_reponses :  [5, 5, 5, 5, 5, 5, 5, 5, 5, 5]\n",
      "## groundedness score :  [5, 5, 5, 5, 5, 5, 5, 5, 5, 5]\n",
      "## all_reponses :  [5, 5, 5, 4, 5, 4, 5, 5, 5, 5]\n",
      "## coherence score :  [5, 5, 5, 4, 5, 4, 5, 5, 5, 5]\n",
      "## all_reponses :  [3, 4, 5, 3, 3, 4, 3, 4, 4, 4]\n",
      "## engagingness score :  [3, 4, 5, 3, 3, 4, 3, 4, 4, 4]\n",
      "## all_reponses :  [4, 4, 5, 5, 5, 4, 4, 5, 5, 4]\n",
      "## naturalness score :  [4, 4, 5, 5, 5, 4, 4, 5, 5, 4]\n"
     ]
    },
    {
     "name": "stderr",
     "output_type": "stream",
     "text": [
      " 93%|█████████▎| 50/54 [04:26<00:21,  5.47s/it]"
     ]
    },
    {
     "name": "stdout",
     "output_type": "stream",
     "text": [
      "## all_reponses :  [4, 4, 5, 5, 5, 5, 5, 5, 5, 5]\n",
      "## groundedness score :  [4, 4, 5, 5, 5, 5, 5, 5, 5, 5]\n",
      "## all_reponses :  [5, 5, 5, 5, 5, 5, 5, 5, 5, 5]\n",
      "## coherence score :  [5, 5, 5, 5, 5, 5, 5, 5, 5, 5]\n",
      "## all_reponses :  [3, 3, 4, 4, 5, 5, 4, 4, 5, 4]\n",
      "## engagingness score :  [3, 3, 4, 4, 5, 5, 4, 4, 5, 4]\n",
      "## all_reponses :  [5, 5, 5, 5, 5, 5, 4, 5, 5, 5]\n",
      "## naturalness score :  [5, 5, 5, 5, 5, 5, 4, 5, 5, 5]\n"
     ]
    },
    {
     "name": "stderr",
     "output_type": "stream",
     "text": [
      " 94%|█████████▍| 51/54 [04:32<00:16,  5.57s/it]"
     ]
    },
    {
     "name": "stdout",
     "output_type": "stream",
     "text": [
      "## all_reponses :  [3, 5, 3, 3, 4, 3, 4, 3, 4, 4]\n",
      "## groundedness score :  [3, 5, 3, 3, 4, 3, 4, 3, 4, 4]\n",
      "## all_reponses :  [4, 5, 5, 5, 4, 5, 5, 5, 4, 5]\n",
      "## coherence score :  [4, 5, 5, 5, 4, 5, 5, 5, 4, 5]\n",
      "## all_reponses :  [4, 5, 4, 4, 4, 4, 4, 3, 4, 4]\n",
      "## engagingness score :  [4, 5, 4, 4, 4, 4, 4, 3, 4, 4]\n",
      "## all_reponses :  [5, 5, 5, 5, 5, 5, 5, 5, 5, 5]\n",
      "## naturalness score :  [5, 5, 5, 5, 5, 5, 5, 5, 5, 5]\n"
     ]
    },
    {
     "name": "stderr",
     "output_type": "stream",
     "text": [
      " 96%|█████████▋| 52/54 [04:37<00:11,  5.54s/it]"
     ]
    },
    {
     "name": "stdout",
     "output_type": "stream",
     "text": [
      "## all_reponses :  [4, 3, 4, 5, 4, 4, 4, 3, 4, 2]\n",
      "## groundedness score :  [4, 3, 4, 5, 4, 4, 4, 3, 4, 2]\n",
      "## all_reponses :  [3, 3, 3, 4, 4, 4, 3, 2, 5, 5]\n",
      "## coherence score :  [3, 3, 3, 4, 4, 4, 3, 2, 5, 5]\n",
      "## all_reponses :  [4, 2, 3, 3, 3, 3, 4, 4, 3, 3]\n",
      "## engagingness score :  [4, 2, 3, 3, 3, 3, 4, 4, 3, 3]\n",
      "## all_reponses :  [4, 3, 4, 4, 4, 3, 4, 3, 4, 3]\n",
      "## naturalness score :  [4, 3, 4, 4, 4, 3, 4, 3, 4, 3]\n"
     ]
    },
    {
     "name": "stderr",
     "output_type": "stream",
     "text": [
      " 98%|█████████▊| 53/54 [04:42<00:05,  5.50s/it]"
     ]
    },
    {
     "name": "stdout",
     "output_type": "stream",
     "text": [
      "## all_reponses :  [2, 3, 3, 2, 2, 3, 3, 2, 4, 3]\n",
      "## groundedness score :  [2, 3, 3, 2, 2, 3, 3, 2, 4, 3]\n",
      "## all_reponses :  [5, 5, 5, 5, 5, 5, 5, 5, 5, 5]\n",
      "## coherence score :  [5, 5, 5, 5, 5, 5, 5, 5, 5, 5]\n",
      "## all_reponses :  [2, 2, 3, 1, 4, 1, 3, 2, 3, 3]\n",
      "## engagingness score :  [2, 2, 3, 1, 4, 1, 3, 2, 3, 3]\n",
      "## all_reponses :  [4, 4, 5, 4, 4, 5, 5, 5, 5, 5]\n",
      "## naturalness score :  [4, 4, 5, 4, 4, 5, 5, 5, 5, 5]\n"
     ]
    },
    {
     "name": "stderr",
     "output_type": "stream",
     "text": [
      "100%|██████████| 54/54 [04:48<00:00,  5.34s/it]"
     ]
    },
    {
     "name": "stdout",
     "output_type": "stream",
     "text": [
      "## all_reponses :  [5, 5, 5, 5, 5, 5, 5, 4, 5, 5]\n",
      "## groundedness score :  [5, 5, 5, 5, 5, 5, 5, 4, 5, 5]\n",
      "## Evaluated 54/54 row! : \n"
     ]
    },
    {
     "name": "stderr",
     "output_type": "stream",
     "text": [
      "\n"
     ]
    }
   ],
   "source": [
    "evaluate(solar_vl2_no_persona_2, 'GEVAL_solar_vl2_no_persona_2')"
   ]
  },
  {
   "cell_type": "code",
   "execution_count": 12,
   "metadata": {},
   "outputs": [
    {
     "name": "stderr",
     "output_type": "stream",
     "text": [
      "  0%|          | 0/54 [00:00<?, ?it/s]"
     ]
    },
    {
     "name": "stdout",
     "output_type": "stream",
     "text": [
      "## all_reponses :  [1, 1, 1, 1, 1, 1, 1, 1, 1, 1]\n",
      "## coherence score :  [1, 1, 1, 1, 1, 1, 1, 1, 1, 1]\n",
      "## all_reponses :  [1, 1, 2, 1, 1, 1, 1, 1, 1, 1]\n",
      "## engagingness score :  [1, 1, 2, 1, 1, 1, 1, 1, 1, 1]\n",
      "## all_reponses :  [1, 1, 1, 1, 1, 1, 1, 1, 1, 1]\n",
      "## naturalness score :  [1, 1, 1, 1, 1, 1, 1, 1, 1, 1]\n"
     ]
    },
    {
     "name": "stderr",
     "output_type": "stream",
     "text": [
      "  2%|▏         | 1/54 [00:05<05:01,  5.69s/it]"
     ]
    },
    {
     "name": "stdout",
     "output_type": "stream",
     "text": [
      "## all_reponses :  [1, 1, 1, 1, 1, 1, 1, 1, 1, 1]\n",
      "## groundedness score :  [1, 1, 1, 1, 1, 1, 1, 1, 1, 1]\n",
      "## all_reponses :  [5, 5, 5, 5, 5, 5, 5, 5, 5, 5]\n",
      "## coherence score :  [5, 5, 5, 5, 5, 5, 5, 5, 5, 5]\n",
      "## all_reponses :  [3, 3, 3, 3, 4, 3, 3, 3, 3, 4]\n",
      "## engagingness score :  [3, 3, 3, 3, 4, 3, 3, 3, 3, 4]\n",
      "## all_reponses :  [5, 5, 5, 5, 5, 5, 5, 5, 5, 5]\n",
      "## naturalness score :  [5, 5, 5, 5, 5, 5, 5, 5, 5, 5]\n"
     ]
    },
    {
     "name": "stderr",
     "output_type": "stream",
     "text": [
      "  4%|▎         | 2/54 [00:11<04:48,  5.55s/it]"
     ]
    },
    {
     "name": "stdout",
     "output_type": "stream",
     "text": [
      "## all_reponses :  [5, 5, 5, 4, 5, 5, 5, 5, 5, 5]\n",
      "## groundedness score :  [5, 5, 5, 4, 5, 5, 5, 5, 5, 5]\n",
      "## all_reponses :  [5, 5, 5, 5, 5, 5, 5, 5, 5, 5]\n",
      "## coherence score :  [5, 5, 5, 5, 5, 5, 5, 5, 5, 5]\n",
      "## all_reponses :  [3, 3, 3, 3, 3, 3, 3, 3, 2, 3]\n",
      "## engagingness score :  [3, 3, 3, 3, 3, 3, 3, 3, 2, 3]\n",
      "## all_reponses :  [5, 5, 4, 4, 4, 5, 5, 4, 5, 4]\n",
      "## naturalness score :  [5, 5, 4, 4, 4, 5, 5, 4, 5, 4]\n"
     ]
    },
    {
     "name": "stderr",
     "output_type": "stream",
     "text": [
      "  6%|▌         | 3/54 [00:17<04:53,  5.75s/it]"
     ]
    },
    {
     "name": "stdout",
     "output_type": "stream",
     "text": [
      "## all_reponses :  [4, 3, 3, 2, 2, 3, 4, 3, 3, 2]\n",
      "## groundedness score :  [4, 3, 3, 2, 2, 3, 4, 3, 3, 2]\n",
      "## all_reponses :  [5, 5, 5, 5, 5, 5, 5, 5, 5, 5]\n",
      "## coherence score :  [5, 5, 5, 5, 5, 5, 5, 5, 5, 5]\n",
      "## all_reponses :  [3, 3, 3, 2, 3, 3, 3, 3, 4, 3]\n",
      "## engagingness score :  [3, 3, 3, 2, 3, 3, 3, 3, 4, 3]\n",
      "## all_reponses :  [5, 5, 5, 5, 5, 5, 5, 5, 5, 5]\n",
      "## naturalness score :  [5, 5, 5, 5, 5, 5, 5, 5, 5, 5]\n"
     ]
    },
    {
     "name": "stderr",
     "output_type": "stream",
     "text": [
      "  7%|▋         | 4/54 [00:22<04:31,  5.43s/it]"
     ]
    },
    {
     "name": "stdout",
     "output_type": "stream",
     "text": [
      "## all_reponses :  [5, 5, 5, 5, 5, 4, 5, 5, 5, 5]\n",
      "## groundedness score :  [5, 5, 5, 5, 5, 4, 5, 5, 5, 5]\n",
      "## all_reponses :  [5, 5, 5, 5, 5, 5, 5, 5, 5, 5]\n",
      "## coherence score :  [5, 5, 5, 5, 5, 5, 5, 5, 5, 5]\n",
      "## all_reponses :  [3, 3, 3, 3, 2, 3, 3, 3, 4, 3]\n",
      "## engagingness score :  [3, 3, 3, 3, 2, 3, 3, 3, 4, 3]\n",
      "## all_reponses :  [5, 5, 5, 5, 5, 5, 5, 5, 5, 5]\n",
      "## naturalness score :  [5, 5, 5, 5, 5, 5, 5, 5, 5, 5]\n"
     ]
    },
    {
     "name": "stderr",
     "output_type": "stream",
     "text": [
      "  9%|▉         | 5/54 [00:27<04:27,  5.45s/it]"
     ]
    },
    {
     "name": "stdout",
     "output_type": "stream",
     "text": [
      "## all_reponses :  [3, 4, 4, 5, 4, 5, 5, 3, 4, 4]\n",
      "## groundedness score :  [3, 4, 4, 5, 4, 5, 5, 3, 4, 4]\n",
      "## all_reponses :  [5, 5, 5, 5, 5, 5, 5, 5, 5, 5]\n",
      "## coherence score :  [5, 5, 5, 5, 5, 5, 5, 5, 5, 5]\n",
      "## all_reponses :  [4, 5, 4, 5, 5, 4, 4, 5, 4, 4]\n",
      "## engagingness score :  [4, 5, 4, 5, 5, 4, 4, 5, 4, 4]\n",
      "## all_reponses :  [5, 5, 5, 5, 5, 5, 5, 5, 5, 5]\n",
      "## naturalness score :  [5, 5, 5, 5, 5, 5, 5, 5, 5, 5]\n"
     ]
    },
    {
     "name": "stderr",
     "output_type": "stream",
     "text": [
      " 11%|█         | 6/54 [00:33<04:23,  5.50s/it]"
     ]
    },
    {
     "name": "stdout",
     "output_type": "stream",
     "text": [
      "## all_reponses :  [5, 5, 5, 5, 5, 5, 5, 5, 5, 4]\n",
      "## groundedness score :  [5, 5, 5, 5, 5, 5, 5, 5, 5, 4]\n",
      "## all_reponses :  [5, 5, 3, 5, 5, 5, 5, 5, 4, 5]\n",
      "## coherence score :  [5, 5, 3, 5, 5, 5, 5, 5, 4, 5]\n",
      "## all_reponses :  [2, 2, 3, 2, 3, 3, 2, 2, 3, 3]\n",
      "## engagingness score :  [2, 2, 3, 2, 3, 3, 2, 2, 3, 3]\n",
      "## all_reponses :  [5, 4, 5, 5, 5, 5, 5, 5, 5, 4]\n",
      "## naturalness score :  [5, 4, 5, 5, 5, 5, 5, 5, 5, 4]\n"
     ]
    },
    {
     "name": "stderr",
     "output_type": "stream",
     "text": [
      " 13%|█▎        | 7/54 [00:38<04:18,  5.51s/it]"
     ]
    },
    {
     "name": "stdout",
     "output_type": "stream",
     "text": [
      "## all_reponses :  [4, 3, 4, 2, 3, 5, 4, 4, 2, 3]\n",
      "## groundedness score :  [4, 3, 4, 2, 3, 5, 4, 4, 2, 3]\n",
      "## all_reponses :  [5, 5, 5, 5, 5, 5, 5, 5, 5, 5]\n",
      "## coherence score :  [5, 5, 5, 5, 5, 5, 5, 5, 5, 5]\n",
      "## all_reponses :  [4, 4, 4, 4, 4, 4, 4, 4, 4, 4]\n",
      "## engagingness score :  [4, 4, 4, 4, 4, 4, 4, 4, 4, 4]\n",
      "## all_reponses :  [5, 5, 5, 5, 4, 5, 5, 5, 5, 5]\n",
      "## naturalness score :  [5, 5, 5, 5, 4, 5, 5, 5, 5, 5]\n"
     ]
    },
    {
     "name": "stderr",
     "output_type": "stream",
     "text": [
      " 15%|█▍        | 8/54 [00:44<04:11,  5.46s/it]"
     ]
    },
    {
     "name": "stdout",
     "output_type": "stream",
     "text": [
      "## all_reponses :  [4, 5, 5, 4, 5, 4, 5, 5, 5, 4]\n",
      "## groundedness score :  [4, 5, 5, 4, 5, 4, 5, 5, 5, 4]\n",
      "## all_reponses :  [1, 1, 1, 1, 1, 1, 1, 1, 1, 1]\n",
      "## coherence score :  [1, 1, 1, 1, 1, 1, 1, 1, 1, 1]\n",
      "## all_reponses :  [1, 1, 1, 1, 1, 1, 2, 1, 1, 2]\n",
      "## engagingness score :  [1, 1, 1, 1, 1, 1, 2, 1, 1, 2]\n",
      "## all_reponses :  [2, 2, 2, 1, 1, 1, 1, 1, 1, 1]\n",
      "## naturalness score :  [2, 2, 2, 1, 1, 1, 1, 1, 1, 1]\n"
     ]
    },
    {
     "name": "stderr",
     "output_type": "stream",
     "text": [
      " 17%|█▋        | 9/54 [00:50<04:21,  5.82s/it]"
     ]
    },
    {
     "name": "stdout",
     "output_type": "stream",
     "text": [
      "## all_reponses :  [1, 2, 1, 2, 2, 1, 1, 1, 1, 1]\n",
      "## groundedness score :  [1, 2, 1, 2, 2, 1, 1, 1, 1, 1]\n",
      "## all_reponses :  [5, 5, 5, 5, 5, 5, 5, 5, 5, 5]\n",
      "## coherence score :  [5, 5, 5, 5, 5, 5, 5, 5, 5, 5]\n",
      "## all_reponses :  [2, 1, 2, 2, 2, 1, 2, 2, 2, 1]\n",
      "## engagingness score :  [2, 1, 2, 2, 2, 1, 2, 2, 2, 1]\n",
      "## all_reponses :  [5, 5, 5, 5, 5, 5, 5, 5, 5, 5]\n",
      "## naturalness score :  [5, 5, 5, 5, 5, 5, 5, 5, 5, 5]\n"
     ]
    },
    {
     "name": "stderr",
     "output_type": "stream",
     "text": [
      " 19%|█▊        | 10/54 [00:56<04:15,  5.80s/it]"
     ]
    },
    {
     "name": "stdout",
     "output_type": "stream",
     "text": [
      "## all_reponses :  [5, 5, 4, 5, 5, 5, 4, 3, 4, 4]\n",
      "## groundedness score :  [5, 5, 4, 5, 5, 5, 4, 3, 4, 4]\n",
      "## all_reponses :  [2, 1, 3, 2, 3, 2, 2, 3, 2, 2]\n",
      "## coherence score :  [2, 1, 3, 2, 3, 2, 2, 3, 2, 2]\n",
      "## all_reponses :  [3, 5, 3, 3, 3, 3, 3, 4, 4, 4]\n",
      "## engagingness score :  [3, 5, 3, 3, 3, 3, 3, 4, 4, 4]\n",
      "## all_reponses :  [4, 3, 2, 3, 4, 4, 4, 4, 3, 4]\n",
      "## naturalness score :  [4, 3, 2, 3, 4, 4, 4, 4, 3, 4]\n"
     ]
    },
    {
     "name": "stderr",
     "output_type": "stream",
     "text": [
      " 20%|██        | 11/54 [01:01<04:04,  5.69s/it]"
     ]
    },
    {
     "name": "stdout",
     "output_type": "stream",
     "text": [
      "## all_reponses :  [2, 1, 2, 2, 2, 3, 1, 1, 2, 1]\n",
      "## groundedness score :  [2, 1, 2, 2, 2, 3, 1, 1, 2, 1]\n",
      "## all_reponses :  [5, 5, 5, 5, 5, 5, 5, 5, 5, 5]\n",
      "## coherence score :  [5, 5, 5, 5, 5, 5, 5, 5, 5, 5]\n",
      "## all_reponses :  [3, 3, 5, 5, 3, 3, 3, 5, 4, 3]\n",
      "## engagingness score :  [3, 3, 5, 5, 3, 3, 3, 5, 4, 3]\n",
      "## all_reponses :  [5, 5, 5, 5, 5, 5, 5, 5, 5, 5]\n",
      "## naturalness score :  [5, 5, 5, 5, 5, 5, 5, 5, 5, 5]\n"
     ]
    },
    {
     "name": "stderr",
     "output_type": "stream",
     "text": [
      " 22%|██▏       | 12/54 [01:07<03:59,  5.70s/it]"
     ]
    },
    {
     "name": "stdout",
     "output_type": "stream",
     "text": [
      "## all_reponses :  [5, 4, 5, 5, 5, 5, 5, 5, 4, 5]\n",
      "## groundedness score :  [5, 4, 5, 5, 5, 5, 5, 5, 4, 5]\n",
      "## all_reponses :  [5, 5, 5, 5, 5, 5, 5, 5, 5, 5]\n",
      "## coherence score :  [5, 5, 5, 5, 5, 5, 5, 5, 5, 5]\n",
      "## all_reponses :  [3, 4, 3, 3, 3, 3, 3, 3, 3, 3]\n",
      "## engagingness score :  [3, 4, 3, 3, 3, 3, 3, 3, 3, 3]\n",
      "## all_reponses :  [5, 5, 4, 5, 5, 5, 5, 5, 5, 5]\n",
      "## naturalness score :  [5, 5, 4, 5, 5, 5, 5, 5, 5, 5]\n"
     ]
    },
    {
     "name": "stderr",
     "output_type": "stream",
     "text": [
      " 24%|██▍       | 13/54 [01:12<03:49,  5.59s/it]"
     ]
    },
    {
     "name": "stdout",
     "output_type": "stream",
     "text": [
      "## all_reponses :  [1, 1, 2, 2, 2, 1, 1, 3, 3, 3]\n",
      "## groundedness score :  [1, 1, 2, 2, 2, 1, 1, 3, 3, 3]\n",
      "## all_reponses :  [5, 5, 5, 4, 5, 5, 5, 5, 5, 5]\n",
      "## coherence score :  [5, 5, 5, 4, 5, 5, 5, 5, 5, 5]\n",
      "## all_reponses :  [3, 3, 3, 3, 3, 4, 4, 3, 3, 3]\n",
      "## engagingness score :  [3, 3, 3, 3, 3, 4, 4, 3, 3, 3]\n",
      "## all_reponses :  [4, 5, 4, 5, 4, 5, 4, 4, 4, 5]\n",
      "## naturalness score :  [4, 5, 4, 5, 4, 5, 4, 4, 4, 5]\n"
     ]
    },
    {
     "name": "stderr",
     "output_type": "stream",
     "text": [
      " 26%|██▌       | 14/54 [01:17<03:37,  5.43s/it]"
     ]
    },
    {
     "name": "stdout",
     "output_type": "stream",
     "text": [
      "## all_reponses :  [3, 5, 4, 5, 4, 3, 5, 4, 5, 5]\n",
      "## groundedness score :  [3, 5, 4, 5, 4, 3, 5, 4, 5, 5]\n",
      "## all_reponses :  [3, 5, 5, 5, 5, 4, 5, 3, 5, 5]\n",
      "## coherence score :  [3, 5, 5, 5, 5, 4, 5, 3, 5, 5]\n",
      "## all_reponses :  [3, 5, 3, 3, 2, 3, 3, 3, 4, 4]\n",
      "## engagingness score :  [3, 5, 3, 3, 2, 3, 3, 3, 4, 4]\n",
      "## all_reponses :  [5, 5, 4, 4, 4, 5, 5, 4, 4, 4]\n",
      "## naturalness score :  [5, 5, 4, 4, 4, 5, 5, 4, 4, 4]\n"
     ]
    },
    {
     "name": "stderr",
     "output_type": "stream",
     "text": [
      " 28%|██▊       | 15/54 [01:23<03:34,  5.50s/it]"
     ]
    },
    {
     "name": "stdout",
     "output_type": "stream",
     "text": [
      "## all_reponses :  [3, 4, 4, 5, 3, 2, 3, 5, 4, 5]\n",
      "## groundedness score :  [3, 4, 4, 5, 3, 2, 3, 5, 4, 5]\n",
      "## all_reponses :  [5, 5, 5, 5, 5, 5, 5, 5, 5, 5]\n",
      "## coherence score :  [5, 5, 5, 5, 5, 5, 5, 5, 5, 5]\n",
      "## all_reponses :  [4, 4, 5, 4, 3, 4, 4, 5, 3, 5]\n",
      "## engagingness score :  [4, 4, 5, 4, 3, 4, 4, 5, 3, 5]\n",
      "## all_reponses :  [5, 5, 4, 4, 5, 5, 5, 4, 5, 5]\n",
      "## naturalness score :  [5, 5, 4, 4, 5, 5, 5, 4, 5, 5]\n"
     ]
    },
    {
     "name": "stderr",
     "output_type": "stream",
     "text": [
      " 30%|██▉       | 16/54 [01:29<03:34,  5.65s/it]"
     ]
    },
    {
     "name": "stdout",
     "output_type": "stream",
     "text": [
      "## all_reponses :  [3, 3, 4, 4, 4, 3, 4, 2, 2, 3]\n",
      "## groundedness score :  [3, 3, 4, 4, 4, 3, 4, 2, 2, 3]\n",
      "## all_reponses :  [5, 5, 5, 5, 4, 5, 5, 5, 5, 5]\n",
      "## coherence score :  [5, 5, 5, 5, 4, 5, 5, 5, 5, 5]\n",
      "## all_reponses :  [5, 4, 3, 4, 3, 4, 3, 3, 3, 4]\n",
      "## engagingness score :  [5, 4, 3, 4, 3, 4, 3, 3, 3, 4]\n",
      "## all_reponses :  [4, 5, 5, 5, 5, 5, 4, 5, 5, 5]\n",
      "## naturalness score :  [4, 5, 5, 5, 5, 5, 4, 5, 5, 5]\n"
     ]
    },
    {
     "name": "stderr",
     "output_type": "stream",
     "text": [
      " 31%|███▏      | 17/54 [01:35<03:33,  5.78s/it]"
     ]
    },
    {
     "name": "stdout",
     "output_type": "stream",
     "text": [
      "## all_reponses :  [5, 4, 5, 5, 5, 4, 5, 5, 5, 4]\n",
      "## groundedness score :  [5, 4, 5, 5, 5, 4, 5, 5, 5, 4]\n",
      "## all_reponses :  [5, 4, 5, 5, 4, 5, 5, 4, 5, 5]\n",
      "## coherence score :  [5, 4, 5, 5, 4, 5, 5, 4, 5, 5]\n",
      "## all_reponses :  [3, 3, 2, 4, 3, 3, 1, 4, 3, 3]\n",
      "## engagingness score :  [3, 3, 2, 4, 3, 3, 1, 4, 3, 3]\n",
      "## all_reponses :  [5, 4, 5, 5, 5, 5, 5, 4, 5, 4]\n",
      "## naturalness score :  [5, 4, 5, 5, 5, 5, 5, 4, 5, 4]\n"
     ]
    },
    {
     "name": "stderr",
     "output_type": "stream",
     "text": [
      " 33%|███▎      | 18/54 [01:40<03:19,  5.55s/it]"
     ]
    },
    {
     "name": "stdout",
     "output_type": "stream",
     "text": [
      "## all_reponses :  [4, 4, 4, 5, 4, 4, 4, 5, 4, 4]\n",
      "## groundedness score :  [4, 4, 4, 5, 4, 4, 4, 5, 4, 4]\n",
      "## all_reponses :  [5, 4, 5, 5, 5, 5, 5, 5, 5, 5]\n",
      "## coherence score :  [5, 4, 5, 5, 5, 5, 5, 5, 5, 5]\n",
      "## all_reponses :  [3, 4, 4, 4, 3, 4, 3, 4, 3, 3]\n",
      "## engagingness score :  [3, 4, 4, 4, 3, 4, 3, 4, 3, 3]\n",
      "## all_reponses :  [4, 5, 4, 5, 5, 5, 4, 5, 4, 5]\n",
      "## naturalness score :  [4, 5, 4, 5, 5, 5, 4, 5, 4, 5]\n"
     ]
    },
    {
     "name": "stderr",
     "output_type": "stream",
     "text": [
      " 35%|███▌      | 19/54 [01:46<03:13,  5.52s/it]"
     ]
    },
    {
     "name": "stdout",
     "output_type": "stream",
     "text": [
      "## all_reponses :  [5, 5, 5, 5, 5, 5, 5, 5, 5, 5]\n",
      "## groundedness score :  [5, 5, 5, 5, 5, 5, 5, 5, 5, 5]\n",
      "## all_reponses :  [5, 5, 5, 5, 5, 5, 5, 5, 5, 5]\n",
      "## coherence score :  [5, 5, 5, 5, 5, 5, 5, 5, 5, 5]\n",
      "## all_reponses :  [4, 4, 3, 4, 4, 5, 4, 4, 3, 4]\n",
      "## engagingness score :  [4, 4, 3, 4, 4, 5, 4, 4, 3, 4]\n",
      "## all_reponses :  [5, 5, 5, 5, 5, 3, 5, 5, 5, 4]\n",
      "## naturalness score :  [5, 5, 5, 5, 5, 3, 5, 5, 5, 4]\n"
     ]
    },
    {
     "name": "stderr",
     "output_type": "stream",
     "text": [
      " 37%|███▋      | 20/54 [01:51<03:04,  5.42s/it]"
     ]
    },
    {
     "name": "stdout",
     "output_type": "stream",
     "text": [
      "## all_reponses :  [1, 1, 1, 1, 1, 1, 1, 1, 1, 1]\n",
      "## groundedness score :  [1, 1, 1, 1, 1, 1, 1, 1, 1, 1]\n",
      "## all_reponses :  [5, 5, 5, 5, 5, 5, 5, 5, 5, 5]\n",
      "## coherence score :  [5, 5, 5, 5, 5, 5, 5, 5, 5, 5]\n",
      "## all_reponses :  [4, 4, 4, 4, 4, 4, 4, 4, 4, 5]\n",
      "## engagingness score :  [4, 4, 4, 4, 4, 4, 4, 4, 4, 5]\n",
      "## all_reponses :  [5, 5, 5, 5, 5, 5, 5, 5, 5, 5]\n",
      "## naturalness score :  [5, 5, 5, 5, 5, 5, 5, 5, 5, 5]\n"
     ]
    },
    {
     "name": "stderr",
     "output_type": "stream",
     "text": [
      " 39%|███▉      | 21/54 [01:57<03:01,  5.51s/it]"
     ]
    },
    {
     "name": "stdout",
     "output_type": "stream",
     "text": [
      "## all_reponses :  [4, 4, 4, 4, 5, 4, 4, 5, 4, 5]\n",
      "## groundedness score :  [4, 4, 4, 4, 5, 4, 4, 5, 4, 5]\n",
      "## all_reponses :  [4, 5, 5, 5, 4, 5, 5, 5, 4, 5]\n",
      "## coherence score :  [4, 5, 5, 5, 4, 5, 5, 5, 4, 5]\n",
      "## all_reponses :  [4, 3, 3, 3, 3, 3, 3, 4, 3, 3]\n",
      "## engagingness score :  [4, 3, 3, 3, 3, 3, 3, 4, 3, 3]\n",
      "## all_reponses :  [4, 3, 3, 5, 3, 4, 4, 3, 3, 4]\n",
      "## naturalness score :  [4, 3, 3, 5, 3, 4, 4, 3, 3, 4]\n"
     ]
    },
    {
     "name": "stderr",
     "output_type": "stream",
     "text": [
      " 41%|████      | 22/54 [02:02<02:55,  5.47s/it]"
     ]
    },
    {
     "name": "stdout",
     "output_type": "stream",
     "text": [
      "## all_reponses :  [5, 5, 5, 5, 5, 5, 4, 5, 5, 5]\n",
      "## groundedness score :  [5, 5, 5, 5, 5, 5, 4, 5, 5, 5]\n",
      "## all_reponses :  [5, 5, 5, 5, 5, 5, 5, 5, 5, 5]\n",
      "## coherence score :  [5, 5, 5, 5, 5, 5, 5, 5, 5, 5]\n",
      "## all_reponses :  [4, 3, 4, 5, 3, 4, 3, 3, 4, 1]\n",
      "## engagingness score :  [4, 3, 4, 5, 3, 4, 3, 3, 4, 1]\n",
      "## all_reponses :  [5, 4, 5, 5, 5, 5, 5, 5, 5, 5]\n",
      "## naturalness score :  [5, 4, 5, 5, 5, 5, 5, 5, 5, 5]\n"
     ]
    },
    {
     "name": "stderr",
     "output_type": "stream",
     "text": [
      " 43%|████▎     | 23/54 [02:07<02:49,  5.46s/it]"
     ]
    },
    {
     "name": "stdout",
     "output_type": "stream",
     "text": [
      "## all_reponses :  [5, 5, 5, 5, 5, 5, 4, 5, 5, 5]\n",
      "## groundedness score :  [5, 5, 5, 5, 5, 5, 4, 5, 5, 5]\n",
      "## all_reponses :  [5, 5, 5, 5, 5, 5, 5, 5, 5, 5]\n",
      "## coherence score :  [5, 5, 5, 5, 5, 5, 5, 5, 5, 5]\n",
      "## all_reponses :  [4, 4, 4, 3, 3, 4, 4, 3, 3, 3]\n",
      "## engagingness score :  [4, 4, 4, 3, 3, 4, 4, 3, 3, 3]\n",
      "## all_reponses :  [5, 5, 5, 5, 5, 5, 5, 5, 5, 5]\n",
      "## naturalness score :  [5, 5, 5, 5, 5, 5, 5, 5, 5, 5]\n"
     ]
    },
    {
     "name": "stderr",
     "output_type": "stream",
     "text": [
      " 44%|████▍     | 24/54 [02:13<02:47,  5.59s/it]"
     ]
    },
    {
     "name": "stdout",
     "output_type": "stream",
     "text": [
      "## all_reponses :  [3, 5, 4, 4, 3, 4, 4, 4, 4, 3]\n",
      "## groundedness score :  [3, 5, 4, 4, 3, 4, 4, 4, 4, 3]\n",
      "## all_reponses :  [5, 5, 5, 5, 5, 5, 5, 5, 5, 5]\n",
      "## coherence score :  [5, 5, 5, 5, 5, 5, 5, 5, 5, 5]\n",
      "## all_reponses :  [4, 5, 4, 4, 4, 4, 4, 4, 4, 4]\n",
      "## engagingness score :  [4, 5, 4, 4, 4, 4, 4, 4, 4, 4]\n",
      "## all_reponses :  [4, 5, 5, 5, 5, 5, 4, 5, 5, 5]\n",
      "## naturalness score :  [4, 5, 5, 5, 5, 5, 4, 5, 5, 5]\n"
     ]
    },
    {
     "name": "stderr",
     "output_type": "stream",
     "text": [
      " 46%|████▋     | 25/54 [02:19<02:43,  5.62s/it]"
     ]
    },
    {
     "name": "stdout",
     "output_type": "stream",
     "text": [
      "## all_reponses :  [3, 4, 5, 5, 4, 4, 4, 3, 4, 4]\n",
      "## groundedness score :  [3, 4, 5, 5, 4, 4, 4, 3, 4, 4]\n",
      "## all_reponses :  [5, 5, 5, 5, 5, 5, 5, 5, 5, 5]\n",
      "## coherence score :  [5, 5, 5, 5, 5, 5, 5, 5, 5, 5]\n",
      "## all_reponses :  [5, 5, 4, 4, 4, 4, 4, 4, 4, 5]\n",
      "## engagingness score :  [5, 5, 4, 4, 4, 4, 4, 4, 4, 5]\n",
      "## all_reponses :  [5, 5, 5, 5, 5, 5, 5, 5, 5, 5]\n",
      "## naturalness score :  [5, 5, 5, 5, 5, 5, 5, 5, 5, 5]\n"
     ]
    },
    {
     "name": "stderr",
     "output_type": "stream",
     "text": [
      " 48%|████▊     | 26/54 [02:24<02:32,  5.46s/it]"
     ]
    },
    {
     "name": "stdout",
     "output_type": "stream",
     "text": [
      "## all_reponses :  [4, 4, 3, 4, 4, 5, 3, 4, 4, 4]\n",
      "## groundedness score :  [4, 4, 3, 4, 4, 5, 3, 4, 4, 4]\n",
      "## all_reponses :  [3, 5, 4, 5, 4, 4, 5, 5, 5, 5]\n",
      "## coherence score :  [3, 5, 4, 5, 4, 4, 5, 5, 5, 5]\n",
      "## all_reponses :  [4, 4, 4, 3, 4, 4, 3, 3, 4, 4]\n",
      "## engagingness score :  [4, 4, 4, 3, 4, 4, 3, 3, 4, 4]\n",
      "## all_reponses :  [4, 4, 4, 5, 4, 5, 4, 4, 3, 4]\n",
      "## naturalness score :  [4, 4, 4, 5, 4, 5, 4, 4, 3, 4]\n"
     ]
    },
    {
     "name": "stderr",
     "output_type": "stream",
     "text": [
      " 50%|█████     | 27/54 [02:29<02:25,  5.38s/it]"
     ]
    },
    {
     "name": "stdout",
     "output_type": "stream",
     "text": [
      "## all_reponses :  [4, 3, 2, 4, 4, 4, 3, 3, 5, 3]\n",
      "## groundedness score :  [4, 3, 2, 4, 4, 4, 3, 3, 5, 3]\n",
      "## all_reponses :  [5, 5, 5, 5, 5, 5, 5, 5, 5, 5]\n",
      "## coherence score :  [5, 5, 5, 5, 5, 5, 5, 5, 5, 5]\n",
      "## all_reponses :  [3, 3, 3, 3, 3, 3, 3, 3, 3, 3]\n",
      "## engagingness score :  [3, 3, 3, 3, 3, 3, 3, 3, 3, 3]\n",
      "## all_reponses :  [5, 5, 5, 5, 5, 5, 5, 5, 5, 5]\n",
      "## naturalness score :  [5, 5, 5, 5, 5, 5, 5, 5, 5, 5]\n"
     ]
    },
    {
     "name": "stderr",
     "output_type": "stream",
     "text": [
      " 52%|█████▏    | 28/54 [02:35<02:19,  5.36s/it]"
     ]
    },
    {
     "name": "stdout",
     "output_type": "stream",
     "text": [
      "## all_reponses :  [5, 5, 5, 5, 5, 5, 5, 5, 5, 5]\n",
      "## groundedness score :  [5, 5, 5, 5, 5, 5, 5, 5, 5, 5]\n",
      "## all_reponses :  [5, 5, 5, 5, 5, 5, 5, 5, 5, 5]\n",
      "## coherence score :  [5, 5, 5, 5, 5, 5, 5, 5, 5, 5]\n",
      "## all_reponses :  [4, 4, 4, 4, 4, 3, 4, 4, 4, 4]\n",
      "## engagingness score :  [4, 4, 4, 4, 4, 3, 4, 4, 4, 4]\n",
      "## all_reponses :  [5, 5, 5, 5, 5, 5, 5, 5, 5, 5]\n",
      "## naturalness score :  [5, 5, 5, 5, 5, 5, 5, 5, 5, 5]\n"
     ]
    },
    {
     "name": "stderr",
     "output_type": "stream",
     "text": [
      " 54%|█████▎    | 29/54 [02:40<02:14,  5.38s/it]"
     ]
    },
    {
     "name": "stdout",
     "output_type": "stream",
     "text": [
      "## all_reponses :  [5, 5, 5, 5, 5, 5, 5, 5, 5, 5]\n",
      "## groundedness score :  [5, 5, 5, 5, 5, 5, 5, 5, 5, 5]\n",
      "## all_reponses :  [5, 5, 5, 5, 5, 5, 5, 5, 5, 5]\n",
      "## coherence score :  [5, 5, 5, 5, 5, 5, 5, 5, 5, 5]\n",
      "## all_reponses :  [4, 4, 4, 5, 4, 5, 4, 4, 5, 5]\n",
      "## engagingness score :  [4, 4, 4, 5, 4, 5, 4, 4, 5, 5]\n",
      "## all_reponses :  [5, 5, 5, 5, 5, 5, 5, 5, 5, 5]\n",
      "## naturalness score :  [5, 5, 5, 5, 5, 5, 5, 5, 5, 5]\n"
     ]
    },
    {
     "name": "stderr",
     "output_type": "stream",
     "text": [
      " 56%|█████▌    | 30/54 [02:45<02:07,  5.30s/it]"
     ]
    },
    {
     "name": "stdout",
     "output_type": "stream",
     "text": [
      "## all_reponses :  [5, 5, 5, 5, 5, 5, 5, 5, 5, 5]\n",
      "## groundedness score :  [5, 5, 5, 5, 5, 5, 5, 5, 5, 5]\n",
      "## all_reponses :  [2, 1, 3, 4, 2, 3, 1, 1, 2, 3]\n",
      "## coherence score :  [2, 1, 3, 4, 2, 3, 1, 1, 2, 3]\n",
      "## all_reponses :  [5, 4, 5, 4, 4, 4, 4, 4, 5, 4]\n",
      "## engagingness score :  [5, 4, 5, 4, 4, 4, 4, 4, 5, 4]\n",
      "## all_reponses :  [3, 4, 3, 4, 4, 3, 4, 4, 3, 3]\n",
      "## naturalness score :  [3, 4, 3, 4, 4, 3, 4, 4, 3, 3]\n"
     ]
    },
    {
     "name": "stderr",
     "output_type": "stream",
     "text": [
      " 57%|█████▋    | 31/54 [02:51<02:05,  5.44s/it]"
     ]
    },
    {
     "name": "stdout",
     "output_type": "stream",
     "text": [
      "## all_reponses :  [4, 1, 4, 1, 3, 1, 2, 5, 5, 1]\n",
      "## groundedness score :  [4, 1, 4, 1, 3, 1, 2, 5, 5, 1]\n",
      "## all_reponses :  [5, 5, 5, 5, 5, 5, 5, 4, 5, 4]\n",
      "## coherence score :  [5, 5, 5, 5, 5, 5, 5, 4, 5, 4]\n",
      "## all_reponses :  [4, 4, 4, 4, 4, 4, 4, 4, 5, 4]\n",
      "## engagingness score :  [4, 4, 4, 4, 4, 4, 4, 4, 5, 4]\n",
      "## all_reponses :  [5, 4, 5, 5, 5, 5, 5, 5, 5, 5]\n",
      "## naturalness score :  [5, 4, 5, 5, 5, 5, 5, 5, 5, 5]\n"
     ]
    },
    {
     "name": "stderr",
     "output_type": "stream",
     "text": [
      " 59%|█████▉    | 32/54 [02:56<01:58,  5.40s/it]"
     ]
    },
    {
     "name": "stdout",
     "output_type": "stream",
     "text": [
      "## all_reponses :  [5, 4, 5, 5, 5, 4, 4, 5, 4, 5]\n",
      "## groundedness score :  [5, 4, 5, 5, 5, 4, 4, 5, 4, 5]\n",
      "## all_reponses :  [1, 1, 1, 1, 2, 1, 2, 1, 1, 1]\n",
      "## coherence score :  [1, 1, 1, 1, 2, 1, 2, 1, 1, 1]\n",
      "## all_reponses :  [2, 1, 1, 1, 2, 1, 1, 1, 1, 1]\n",
      "## engagingness score :  [2, 1, 1, 1, 2, 1, 1, 1, 1, 1]\n",
      "## all_reponses :  [1, 3, 1, 1, 2, 1, 2, 1, 1, 2]\n",
      "## naturalness score :  [1, 3, 1, 1, 2, 1, 2, 1, 1, 2]\n"
     ]
    },
    {
     "name": "stderr",
     "output_type": "stream",
     "text": [
      " 61%|██████    | 33/54 [03:02<01:54,  5.47s/it]"
     ]
    },
    {
     "name": "stdout",
     "output_type": "stream",
     "text": [
      "## all_reponses :  [1, 1, 1, 1, 1, 1, 1, 1, 1, 1]\n",
      "## groundedness score :  [1, 1, 1, 1, 1, 1, 1, 1, 1, 1]\n",
      "## all_reponses :  [1, 1, 1, 1, 2, 2, 1, 1, 1, 2]\n",
      "## coherence score :  [1, 1, 1, 1, 2, 2, 1, 1, 1, 2]\n",
      "## all_reponses :  [2, 1, 3, 3, 2, 3, 3, 2, 3, 3]\n",
      "## engagingness score :  [2, 1, 3, 3, 2, 3, 3, 2, 3, 3]\n",
      "## all_reponses :  [2, 1, 1, 1, 4, 2, 1, 1, 3, 2]\n",
      "## naturalness score :  [2, 1, 1, 1, 4, 2, 1, 1, 3, 2]\n"
     ]
    },
    {
     "name": "stderr",
     "output_type": "stream",
     "text": [
      " 63%|██████▎   | 34/54 [03:07<01:47,  5.40s/it]"
     ]
    },
    {
     "name": "stdout",
     "output_type": "stream",
     "text": [
      "## all_reponses :  [2, 1, 1, 1, 2, 2, 2, 1, 1, 3]\n",
      "## groundedness score :  [2, 1, 1, 1, 2, 2, 2, 1, 1, 3]\n",
      "## all_reponses :  [5, 5, 5, 5, 5, 5, 5, 5, 5, 5]\n",
      "## coherence score :  [5, 5, 5, 5, 5, 5, 5, 5, 5, 5]\n",
      "## all_reponses :  [5, 4, 4, 5, 5, 4, 4, 5, 4, 4]\n",
      "## engagingness score :  [5, 4, 4, 5, 5, 4, 4, 5, 4, 4]\n",
      "## all_reponses :  [5, 5, 5, 5, 5, 5, 5, 5, 5, 5]\n",
      "## naturalness score :  [5, 5, 5, 5, 5, 5, 5, 5, 5, 5]\n"
     ]
    },
    {
     "name": "stderr",
     "output_type": "stream",
     "text": [
      " 65%|██████▍   | 35/54 [03:12<01:42,  5.39s/it]"
     ]
    },
    {
     "name": "stdout",
     "output_type": "stream",
     "text": [
      "## all_reponses :  [5, 5, 5, 5, 5, 5, 5, 5, 5, 5]\n",
      "## groundedness score :  [5, 5, 5, 5, 5, 5, 5, 5, 5, 5]\n",
      "## all_reponses :  [5, 5, 5, 5, 4, 5, 4, 5, 4, 5]\n",
      "## coherence score :  [5, 5, 5, 5, 4, 5, 4, 5, 4, 5]\n",
      "## all_reponses :  [2, 2, 2, 2, 1, 2, 3, 2, 2, 1]\n",
      "## engagingness score :  [2, 2, 2, 2, 1, 2, 3, 2, 2, 1]\n",
      "## all_reponses :  [5, 4, 4, 4, 4, 5, 4, 4, 4, 4]\n",
      "## naturalness score :  [5, 4, 4, 4, 4, 5, 4, 4, 4, 4]\n"
     ]
    },
    {
     "name": "stderr",
     "output_type": "stream",
     "text": [
      " 67%|██████▋   | 36/54 [03:18<01:35,  5.31s/it]"
     ]
    },
    {
     "name": "stdout",
     "output_type": "stream",
     "text": [
      "## all_reponses :  [4, 4, 3, 2, 4, 3, 3, 2, 4, 3]\n",
      "## groundedness score :  [4, 4, 3, 2, 4, 3, 3, 2, 4, 3]\n",
      "## all_reponses :  [5, 5, 4, 5, 4, 4, 5, 3, 3, 5]\n",
      "## coherence score :  [5, 5, 4, 5, 4, 4, 5, 3, 3, 5]\n",
      "## all_reponses :  [3, 3, 4, 4, 3, 3, 3, 3, 4, 3]\n",
      "## engagingness score :  [3, 3, 4, 4, 3, 3, 3, 3, 4, 3]\n",
      "## all_reponses :  [5, 4, 5, 5, 5, 5, 5, 5, 5, 5]\n",
      "## naturalness score :  [5, 4, 5, 5, 5, 5, 5, 5, 5, 5]\n"
     ]
    },
    {
     "name": "stderr",
     "output_type": "stream",
     "text": [
      " 69%|██████▊   | 37/54 [03:24<01:34,  5.58s/it]"
     ]
    },
    {
     "name": "stdout",
     "output_type": "stream",
     "text": [
      "## all_reponses :  [5, 4, 2, 3, 3, 3, 3, 3, 5, 3]\n",
      "## groundedness score :  [5, 4, 2, 3, 3, 3, 3, 3, 5, 3]\n",
      "## all_reponses :  [5, 4, 5, 5, 5, 5, 5, 4, 5, 5]\n",
      "## coherence score :  [5, 4, 5, 5, 5, 5, 5, 4, 5, 5]\n",
      "## all_reponses :  [4, 4, 3, 4, 4, 4, 3, 4, 4, 4]\n",
      "## engagingness score :  [4, 4, 3, 4, 4, 4, 3, 4, 4, 4]\n",
      "## all_reponses :  [5, 5, 4, 5, 5, 5, 4, 4, 5, 5]\n",
      "## naturalness score :  [5, 5, 4, 5, 5, 5, 4, 4, 5, 5]\n"
     ]
    },
    {
     "name": "stderr",
     "output_type": "stream",
     "text": [
      " 70%|███████   | 38/54 [03:29<01:29,  5.58s/it]"
     ]
    },
    {
     "name": "stdout",
     "output_type": "stream",
     "text": [
      "## all_reponses :  [3, 2, 3, 2, 2, 2, 2, 3, 2, 2]\n",
      "## groundedness score :  [3, 2, 3, 2, 2, 2, 2, 3, 2, 2]\n",
      "## all_reponses :  [3, 4, 4, 3, 4, 5, 3, 1, 4, 4]\n",
      "## coherence score :  [3, 4, 4, 3, 4, 5, 3, 1, 4, 4]\n",
      "## all_reponses :  [2, 2, 1, 2, 1, 1, 2, 2, 2, 1]\n",
      "## engagingness score :  [2, 2, 1, 2, 1, 1, 2, 2, 2, 1]\n",
      "## all_reponses :  [3, 3, 3, 4, 3, 3, 3, 2, 3, 3]\n",
      "## naturalness score :  [3, 3, 3, 4, 3, 3, 3, 2, 3, 3]\n"
     ]
    },
    {
     "name": "stderr",
     "output_type": "stream",
     "text": [
      " 72%|███████▏  | 39/54 [03:35<01:24,  5.61s/it]"
     ]
    },
    {
     "name": "stdout",
     "output_type": "stream",
     "text": [
      "## all_reponses :  [1, 3, 2, 3, 2, 1, 1, 2, 2, 1]\n",
      "## groundedness score :  [1, 3, 2, 3, 2, 1, 1, 2, 2, 1]\n",
      "## all_reponses :  [5, 5, 5, 4, 5, 5, 5, 5, 5, 5]\n",
      "## coherence score :  [5, 5, 5, 4, 5, 5, 5, 5, 5, 5]\n",
      "## all_reponses :  [3, 3, 3, 3, 3, 3, 3, 3, 3, 4]\n",
      "## engagingness score :  [3, 3, 3, 3, 3, 3, 3, 3, 3, 4]\n",
      "## all_reponses :  [5, 5, 5, 5, 4, 5, 4, 5, 4, 5]\n",
      "## naturalness score :  [5, 5, 5, 5, 4, 5, 4, 5, 4, 5]\n"
     ]
    },
    {
     "name": "stderr",
     "output_type": "stream",
     "text": [
      " 74%|███████▍  | 40/54 [03:40<01:16,  5.49s/it]"
     ]
    },
    {
     "name": "stdout",
     "output_type": "stream",
     "text": [
      "## all_reponses :  [3, 3, 3, 2, 4, 4, 4, 4, 4, 2]\n",
      "## groundedness score :  [3, 3, 3, 2, 4, 4, 4, 4, 4, 2]\n",
      "## all_reponses :  [4, 5, 5, 5, 5, 5, 4, 5, 4, 5]\n",
      "## coherence score :  [4, 5, 5, 5, 5, 5, 4, 5, 4, 5]\n",
      "## all_reponses :  [3, 4, 3, 4, 3, 4, 4, 3, 4, 3]\n",
      "## engagingness score :  [3, 4, 3, 4, 3, 4, 4, 3, 4, 3]\n",
      "## all_reponses :  [4, 4, 4, 4, 4, 4, 4, 5, 5, 4]\n",
      "## naturalness score :  [4, 4, 4, 4, 4, 4, 4, 5, 5, 4]\n"
     ]
    },
    {
     "name": "stderr",
     "output_type": "stream",
     "text": [
      " 76%|███████▌  | 41/54 [03:45<01:09,  5.36s/it]"
     ]
    },
    {
     "name": "stdout",
     "output_type": "stream",
     "text": [
      "## all_reponses :  [3, 4, 3, 4, 4, 5, 5, 5, 4, 3]\n",
      "## groundedness score :  [3, 4, 3, 4, 4, 5, 5, 5, 4, 3]\n",
      "## all_reponses :  [5, 5, 5, 5, 5, 5, 5, 5, 5, 5]\n",
      "## coherence score :  [5, 5, 5, 5, 5, 5, 5, 5, 5, 5]\n",
      "## all_reponses :  [5, 4, 5, 3, 4, 5, 4, 5, 4, 4]\n",
      "## engagingness score :  [5, 4, 5, 3, 4, 5, 4, 5, 4, 4]\n",
      "## all_reponses :  [5, 5, 5, 5, 5, 5, 5, 5, 5, 5]\n",
      "## naturalness score :  [5, 5, 5, 5, 5, 5, 5, 5, 5, 5]\n"
     ]
    },
    {
     "name": "stderr",
     "output_type": "stream",
     "text": [
      " 78%|███████▊  | 42/54 [03:51<01:04,  5.39s/it]"
     ]
    },
    {
     "name": "stdout",
     "output_type": "stream",
     "text": [
      "## all_reponses :  [4, 5, 5, 5, 5, 4, 5, 5, 5, 4]\n",
      "## groundedness score :  [4, 5, 5, 5, 5, 4, 5, 5, 5, 4]\n",
      "## all_reponses :  [5, 5, 5, 5, 5, 5, 5, 5, 4, 5]\n",
      "## coherence score :  [5, 5, 5, 5, 5, 5, 5, 5, 4, 5]\n",
      "## all_reponses :  [4, 4, 3, 4, 4, 4, 3, 3, 4, 3]\n",
      "## engagingness score :  [4, 4, 3, 4, 4, 4, 3, 3, 4, 3]\n",
      "## all_reponses :  [5, 5, 5, 5, 5, 5, 5, 5, 5, 5]\n",
      "## naturalness score :  [5, 5, 5, 5, 5, 5, 5, 5, 5, 5]\n"
     ]
    },
    {
     "name": "stderr",
     "output_type": "stream",
     "text": [
      " 80%|███████▉  | 43/54 [03:56<00:58,  5.29s/it]"
     ]
    },
    {
     "name": "stdout",
     "output_type": "stream",
     "text": [
      "## all_reponses :  [4, 5, 5, 5, 4, 5, 5, 5, 5, 5]\n",
      "## groundedness score :  [4, 5, 5, 5, 4, 5, 5, 5, 5, 5]\n",
      "## all_reponses :  [1, 3, 2, 2, 1, 2, 2, 1, 3, 2]\n",
      "## coherence score :  [1, 3, 2, 2, 1, 2, 2, 1, 3, 2]\n",
      "## all_reponses :  [1, 2, 3, 2, 2, 2, 3, 2, 3, 4]\n",
      "## engagingness score :  [1, 2, 3, 2, 2, 2, 3, 2, 3, 4]\n",
      "## all_reponses :  [4, 3, 3, 3, 4, 2, 2, 2, 4, 3]\n",
      "## naturalness score :  [4, 3, 3, 3, 4, 2, 2, 2, 4, 3]\n"
     ]
    },
    {
     "name": "stderr",
     "output_type": "stream",
     "text": [
      " 81%|████████▏ | 44/54 [04:01<00:53,  5.37s/it]"
     ]
    },
    {
     "name": "stdout",
     "output_type": "stream",
     "text": [
      "## all_reponses :  [1, 1, 1, 1, 1, 1, 1, 1, 2, 2]\n",
      "## groundedness score :  [1, 1, 1, 1, 1, 1, 1, 1, 2, 2]\n",
      "## all_reponses :  [5, 5, 5, 5, 5, 5, 5, 5, 5, 5]\n",
      "## coherence score :  [5, 5, 5, 5, 5, 5, 5, 5, 5, 5]\n",
      "## all_reponses :  [4, 4, 4, 4, 4, 4, 4, 4, 4, 4]\n",
      "## engagingness score :  [4, 4, 4, 4, 4, 4, 4, 4, 4, 4]\n",
      "## all_reponses :  [5, 5, 5, 5, 4, 5, 5, 5, 5, 5]\n",
      "## naturalness score :  [5, 5, 5, 5, 4, 5, 5, 5, 5, 5]\n"
     ]
    },
    {
     "name": "stderr",
     "output_type": "stream",
     "text": [
      " 83%|████████▎ | 45/54 [04:07<00:48,  5.39s/it]"
     ]
    },
    {
     "name": "stdout",
     "output_type": "stream",
     "text": [
      "## all_reponses :  [5, 5, 5, 4, 5, 4, 5, 5, 4, 4]\n",
      "## groundedness score :  [5, 5, 5, 4, 5, 4, 5, 5, 4, 4]\n",
      "## all_reponses :  [4, 5, 5, 5, 5, 4, 5, 5, 4, 5]\n",
      "## coherence score :  [4, 5, 5, 5, 5, 4, 5, 5, 4, 5]\n",
      "## all_reponses :  [5, 4, 5, 5, 5, 5, 5, 5, 5, 4]\n",
      "## engagingness score :  [5, 4, 5, 5, 5, 5, 5, 5, 5, 4]\n",
      "## all_reponses :  [5, 4, 5, 5, 4, 4, 4, 5, 4, 5]\n",
      "## naturalness score :  [5, 4, 5, 5, 4, 4, 4, 5, 4, 5]\n"
     ]
    },
    {
     "name": "stderr",
     "output_type": "stream",
     "text": [
      " 85%|████████▌ | 46/54 [04:12<00:43,  5.39s/it]"
     ]
    },
    {
     "name": "stdout",
     "output_type": "stream",
     "text": [
      "## all_reponses :  [3, 5, 4, 4, 3, 5, 4, 3, 4, 4]\n",
      "## groundedness score :  [3, 5, 4, 4, 3, 5, 4, 3, 4, 4]\n",
      "## all_reponses :  [4, 5, 5, 5, 5, 5, 5, 5, 5, 5]\n",
      "## coherence score :  [4, 5, 5, 5, 5, 5, 5, 5, 5, 5]\n",
      "## all_reponses :  [5, 4, 3, 3, 4, 4, 3, 4, 3, 4]\n",
      "## engagingness score :  [5, 4, 3, 3, 4, 4, 3, 4, 3, 4]\n",
      "## all_reponses :  [5, 5, 5, 5, 5, 5, 5, 5, 5, 5]\n",
      "## naturalness score :  [5, 5, 5, 5, 5, 5, 5, 5, 5, 5]\n"
     ]
    },
    {
     "name": "stderr",
     "output_type": "stream",
     "text": [
      " 87%|████████▋ | 47/54 [04:18<00:37,  5.39s/it]"
     ]
    },
    {
     "name": "stdout",
     "output_type": "stream",
     "text": [
      "## all_reponses :  [4, 5, 4, 4, 5, 5, 5, 4, 5, 5]\n",
      "## groundedness score :  [4, 5, 4, 4, 5, 5, 5, 4, 5, 5]\n",
      "## all_reponses :  [5, 5, 5, 5, 5, 5, 5, 5, 5, 5]\n",
      "## coherence score :  [5, 5, 5, 5, 5, 5, 5, 5, 5, 5]\n",
      "## all_reponses :  [5, 5, 5, 4, 4, 4, 5, 4, 5, 4]\n",
      "## engagingness score :  [5, 5, 5, 4, 4, 4, 5, 4, 5, 4]\n",
      "## all_reponses :  [5, 5, 5, 4, 5, 5, 4, 5, 5, 5]\n",
      "## naturalness score :  [5, 5, 5, 4, 5, 5, 4, 5, 5, 5]\n"
     ]
    },
    {
     "name": "stderr",
     "output_type": "stream",
     "text": [
      " 89%|████████▉ | 48/54 [04:24<00:33,  5.65s/it]"
     ]
    },
    {
     "name": "stdout",
     "output_type": "stream",
     "text": [
      "## all_reponses :  [5, 5, 5, 5, 5, 5, 5, 5, 5, 5]\n",
      "## groundedness score :  [5, 5, 5, 5, 5, 5, 5, 5, 5, 5]\n",
      "## all_reponses :  [5, 5, 5, 5, 5, 5, 5, 5, 5, 5]\n",
      "## coherence score :  [5, 5, 5, 5, 5, 5, 5, 5, 5, 5]\n",
      "## all_reponses :  [5, 5, 5, 4, 5, 4, 5, 4, 5, 4]\n",
      "## engagingness score :  [5, 5, 5, 4, 5, 4, 5, 4, 5, 4]\n",
      "## all_reponses :  [5, 5, 5, 5, 5, 5, 5, 5, 5, 5]\n",
      "## naturalness score :  [5, 5, 5, 5, 5, 5, 5, 5, 5, 5]\n"
     ]
    },
    {
     "name": "stderr",
     "output_type": "stream",
     "text": [
      " 91%|█████████ | 49/54 [04:29<00:28,  5.64s/it]"
     ]
    },
    {
     "name": "stdout",
     "output_type": "stream",
     "text": [
      "## all_reponses :  [5, 5, 5, 5, 5, 5, 5, 5, 5, 5]\n",
      "## groundedness score :  [5, 5, 5, 5, 5, 5, 5, 5, 5, 5]\n",
      "## all_reponses :  [5, 4, 5, 5, 5, 5, 5, 5, 5, 5]\n",
      "## coherence score :  [5, 4, 5, 5, 5, 5, 5, 5, 5, 5]\n",
      "## all_reponses :  [3, 3, 4, 4, 3, 3, 4, 4, 4, 4]\n",
      "## engagingness score :  [3, 3, 4, 4, 3, 3, 4, 4, 4, 4]\n",
      "## all_reponses :  [5, 5, 5, 5, 4, 4, 5, 5, 5, 5]\n",
      "## naturalness score :  [5, 5, 5, 5, 4, 4, 5, 5, 5, 5]\n"
     ]
    },
    {
     "name": "stderr",
     "output_type": "stream",
     "text": [
      " 93%|█████████▎| 50/54 [04:35<00:22,  5.67s/it]"
     ]
    },
    {
     "name": "stdout",
     "output_type": "stream",
     "text": [
      "## all_reponses :  [5, 5, 4, 5, 5, 5, 4, 5, 5, 4]\n",
      "## groundedness score :  [5, 5, 4, 5, 5, 5, 4, 5, 5, 4]\n",
      "## all_reponses :  [4, 4, 5, 4, 4, 5, 4, 3, 3, 2]\n",
      "## coherence score :  [4, 4, 5, 4, 4, 5, 4, 3, 3, 2]\n",
      "## all_reponses :  [2, 2, 1, 2, 2, 2, 2, 1, 2, 2]\n",
      "## engagingness score :  [2, 2, 1, 2, 2, 2, 2, 1, 2, 2]\n",
      "## all_reponses :  [2, 2, 2, 3, 3, 3, 3, 3, 3, 1]\n",
      "## naturalness score :  [2, 2, 2, 3, 3, 3, 3, 3, 3, 1]\n"
     ]
    },
    {
     "name": "stderr",
     "output_type": "stream",
     "text": [
      " 94%|█████████▍| 51/54 [04:41<00:16,  5.57s/it]"
     ]
    },
    {
     "name": "stdout",
     "output_type": "stream",
     "text": [
      "## all_reponses :  [2, 3, 3, 1, 1, 2, 3, 4, 1, 2]\n",
      "## groundedness score :  [2, 3, 3, 1, 1, 2, 3, 4, 1, 2]\n",
      "## all_reponses :  [4, 4, 4, 4, 4, 4, 4, 4, 4, 4]\n",
      "## coherence score :  [4, 4, 4, 4, 4, 4, 4, 4, 4, 4]\n",
      "## all_reponses :  [4, 3, 3, 3, 3, 3, 4, 3, 3, 5]\n",
      "## engagingness score :  [4, 3, 3, 3, 3, 3, 4, 3, 3, 5]\n",
      "## all_reponses :  [4, 3, 4, 5, 5, 4, 4, 4, 4, 4]\n",
      "## naturalness score :  [4, 3, 4, 5, 5, 4, 4, 4, 4, 4]\n"
     ]
    },
    {
     "name": "stderr",
     "output_type": "stream",
     "text": [
      " 96%|█████████▋| 52/54 [04:46<00:11,  5.50s/it]"
     ]
    },
    {
     "name": "stdout",
     "output_type": "stream",
     "text": [
      "## all_reponses :  [4, 2, 4, 3, 4, 3, 3, 1, 3, 3]\n",
      "## groundedness score :  [4, 2, 4, 3, 4, 3, 3, 1, 3, 3]\n",
      "## all_reponses :  [3, 2, 3, 3, 4, 2, 1, 4, 4, 2]\n",
      "## coherence score :  [3, 2, 3, 3, 4, 2, 1, 4, 4, 2]\n",
      "## all_reponses :  [3, 3, 3, 3, 4, 3, 3, 3, 2, 3]\n",
      "## engagingness score :  [3, 3, 3, 3, 4, 3, 3, 3, 2, 3]\n",
      "## all_reponses :  [3, 3, 4, 2, 4, 3, 3, 4, 3, 2]\n",
      "## naturalness score :  [3, 3, 4, 2, 4, 3, 3, 4, 3, 2]\n"
     ]
    },
    {
     "name": "stderr",
     "output_type": "stream",
     "text": [
      " 98%|█████████▊| 53/54 [04:51<00:05,  5.42s/it]"
     ]
    },
    {
     "name": "stdout",
     "output_type": "stream",
     "text": [
      "## all_reponses :  [2, 2, 2, 1, 3, 3, 3, 3, 2, 3]\n",
      "## groundedness score :  [2, 2, 2, 1, 3, 3, 3, 3, 2, 3]\n",
      "## all_reponses :  [3, 3, 3, 2, 3, 1, 2, 1, 2, 4]\n",
      "## coherence score :  [3, 3, 3, 2, 3, 1, 2, 1, 2, 4]\n",
      "## all_reponses :  [1, 2, 1, 1, 2, 1, 1, 1, 1, 1]\n",
      "## engagingness score :  [1, 2, 1, 1, 2, 1, 1, 1, 1, 1]\n",
      "## all_reponses :  [1, 1, 3, 3, 2, 4, 2, 2, 1, 2]\n",
      "## naturalness score :  [1, 1, 3, 3, 2, 4, 2, 2, 1, 2]\n"
     ]
    },
    {
     "name": "stderr",
     "output_type": "stream",
     "text": [
      "100%|██████████| 54/54 [04:56<00:00,  5.50s/it]"
     ]
    },
    {
     "name": "stdout",
     "output_type": "stream",
     "text": [
      "## all_reponses :  [2, 4, 4, 4, 2, 4, 3, 4, 3, 4]\n",
      "## groundedness score :  [2, 4, 4, 4, 2, 4, 3, 4, 3, 4]\n",
      "## Evaluated 54/54 row! : \n"
     ]
    },
    {
     "name": "stderr",
     "output_type": "stream",
     "text": [
      "\n"
     ]
    }
   ],
   "source": [
    "evaluate(solar_vl2_3, 'GEVAL_solar_vl2_3')"
   ]
  },
  {
   "cell_type": "code",
   "execution_count": 13,
   "metadata": {},
   "outputs": [
    {
     "name": "stderr",
     "output_type": "stream",
     "text": [
      "  0%|          | 0/54 [00:00<?, ?it/s]"
     ]
    },
    {
     "name": "stdout",
     "output_type": "stream",
     "text": [
      "## all_reponses :  [5, 5, 5, 5, 5, 5, 5, 5, 5, 5]\n",
      "## coherence score :  [5, 5, 5, 5, 5, 5, 5, 5, 5, 5]\n",
      "## all_reponses :  [3, 3, 3, 3, 3, 3, 3, 3, 3, 3]\n",
      "## engagingness score :  [3, 3, 3, 3, 3, 3, 3, 3, 3, 3]\n",
      "## all_reponses :  [5, 5, 5, 5, 5, 5, 5, 5, 5, 5]\n",
      "## naturalness score :  [5, 5, 5, 5, 5, 5, 5, 5, 5, 5]\n"
     ]
    },
    {
     "name": "stderr",
     "output_type": "stream",
     "text": [
      "  2%|▏         | 1/54 [00:05<04:47,  5.42s/it]"
     ]
    },
    {
     "name": "stdout",
     "output_type": "stream",
     "text": [
      "## all_reponses :  [5, 5, 3, 5, 5, 3, 4, 5, 5, 5]\n",
      "## groundedness score :  [5, 5, 3, 5, 5, 3, 4, 5, 5, 5]\n",
      "## all_reponses :  [5, 5, 5, 5, 5, 5, 5, 5, 5, 5]\n",
      "## coherence score :  [5, 5, 5, 5, 5, 5, 5, 5, 5, 5]\n",
      "## all_reponses :  [5, 5, 5, 4, 4, 3, 4, 4, 4, 4]\n",
      "## engagingness score :  [5, 5, 5, 4, 4, 3, 4, 4, 4, 4]\n",
      "## all_reponses :  [5, 5, 5, 5, 5, 5, 4, 5, 4, 5]\n",
      "## naturalness score :  [5, 5, 5, 5, 5, 5, 4, 5, 4, 5]\n"
     ]
    },
    {
     "name": "stderr",
     "output_type": "stream",
     "text": [
      "  4%|▎         | 2/54 [00:10<04:35,  5.30s/it]"
     ]
    },
    {
     "name": "stdout",
     "output_type": "stream",
     "text": [
      "## all_reponses :  [5, 5, 5, 5, 5, 5, 5, 5, 5, 5]\n",
      "## groundedness score :  [5, 5, 5, 5, 5, 5, 5, 5, 5, 5]\n",
      "## all_reponses :  [4, 5, 5, 5, 4, 5, 5, 5, 4, 5]\n",
      "## coherence score :  [4, 5, 5, 5, 4, 5, 5, 5, 4, 5]\n",
      "## all_reponses :  [4, 3, 4, 3, 3, 3, 3, 3, 3, 3]\n",
      "## engagingness score :  [4, 3, 4, 3, 3, 3, 3, 3, 3, 3]\n",
      "## all_reponses :  [5, 4, 4, 5, 4, 5, 5, 4, 5, 5]\n",
      "## naturalness score :  [5, 4, 4, 5, 4, 5, 5, 4, 5, 5]\n"
     ]
    },
    {
     "name": "stderr",
     "output_type": "stream",
     "text": [
      "  6%|▌         | 3/54 [00:15<04:28,  5.26s/it]"
     ]
    },
    {
     "name": "stdout",
     "output_type": "stream",
     "text": [
      "## all_reponses :  [4, 4, 3, 4, 4, 3, 4, 4, 3, 4]\n",
      "## groundedness score :  [4, 4, 3, 4, 4, 3, 4, 4, 3, 4]\n",
      "## all_reponses :  [5, 5, 5, 5, 5, 5, 5, 5, 5, 5]\n",
      "## coherence score :  [5, 5, 5, 5, 5, 5, 5, 5, 5, 5]\n",
      "## all_reponses :  [2, 3, 2, 3, 2, 3, 3, 3, 2, 3]\n",
      "## engagingness score :  [2, 3, 2, 3, 2, 3, 3, 3, 2, 3]\n",
      "## all_reponses :  [5, 5, 4, 5, 5, 5, 5, 5, 5, 5]\n",
      "## naturalness score :  [5, 5, 4, 5, 5, 5, 5, 5, 5, 5]\n"
     ]
    },
    {
     "name": "stderr",
     "output_type": "stream",
     "text": [
      "  7%|▋         | 4/54 [00:21<04:32,  5.45s/it]"
     ]
    },
    {
     "name": "stdout",
     "output_type": "stream",
     "text": [
      "## all_reponses :  [5, 5, 4, 4, 4, 4, 4, 5, 4, 4]\n",
      "## groundedness score :  [5, 5, 4, 4, 4, 4, 4, 5, 4, 4]\n",
      "## all_reponses :  [4, 4, 5, 5, 5, 5, 5, 4, 5, 5]\n",
      "## coherence score :  [4, 4, 5, 5, 5, 5, 5, 4, 5, 5]\n",
      "## all_reponses :  [3, 4, 3, 4, 5, 5, 4, 3, 4, 4]\n",
      "## engagingness score :  [3, 4, 3, 4, 5, 5, 4, 3, 4, 4]\n",
      "## all_reponses :  [5, 4, 4, 4, 4, 5, 4, 4, 4, 4]\n",
      "## naturalness score :  [5, 4, 4, 4, 4, 5, 4, 4, 4, 4]\n"
     ]
    },
    {
     "name": "stderr",
     "output_type": "stream",
     "text": [
      "  9%|▉         | 5/54 [00:27<04:28,  5.49s/it]"
     ]
    },
    {
     "name": "stdout",
     "output_type": "stream",
     "text": [
      "## all_reponses :  [2, 4, 3, 4, 3, 4, 3, 4, 4, 4]\n",
      "## groundedness score :  [2, 4, 3, 4, 3, 4, 3, 4, 4, 4]\n",
      "## all_reponses :  [5, 5, 5, 5, 5, 5, 5, 5, 5, 5]\n",
      "## coherence score :  [5, 5, 5, 5, 5, 5, 5, 5, 5, 5]\n",
      "## all_reponses :  [5, 5, 5, 4, 5, 4, 5, 4, 5, 4]\n",
      "## engagingness score :  [5, 5, 5, 4, 5, 4, 5, 4, 5, 4]\n",
      "## all_reponses :  [5, 5, 5, 5, 5, 5, 5, 5, 5, 5]\n",
      "## naturalness score :  [5, 5, 5, 5, 5, 5, 5, 5, 5, 5]\n"
     ]
    },
    {
     "name": "stderr",
     "output_type": "stream",
     "text": [
      " 11%|█         | 6/54 [00:32<04:15,  5.32s/it]"
     ]
    },
    {
     "name": "stdout",
     "output_type": "stream",
     "text": [
      "## all_reponses :  [5, 4, 5, 3, 5, 5, 5, 5, 5, 3]\n",
      "## groundedness score :  [5, 4, 5, 3, 5, 5, 5, 5, 5, 3]\n",
      "## all_reponses :  [4, 5, 5, 5, 5, 5, 4, 5, 4, 5]\n",
      "## coherence score :  [4, 5, 5, 5, 5, 5, 4, 5, 4, 5]\n",
      "## all_reponses :  [3, 4, 4, 3, 3, 4, 4, 3, 3, 3]\n",
      "## engagingness score :  [3, 4, 4, 3, 3, 4, 4, 3, 3, 3]\n",
      "## all_reponses :  [4, 4, 5, 5, 5, 5, 5, 5, 5, 5]\n",
      "## naturalness score :  [4, 4, 5, 5, 5, 5, 5, 5, 5, 5]\n"
     ]
    },
    {
     "name": "stderr",
     "output_type": "stream",
     "text": [
      " 13%|█▎        | 7/54 [00:37<04:10,  5.34s/it]"
     ]
    },
    {
     "name": "stdout",
     "output_type": "stream",
     "text": [
      "## all_reponses :  [4, 4, 4, 4, 5, 4, 3, 4, 5, 4]\n",
      "## groundedness score :  [4, 4, 4, 4, 5, 4, 3, 4, 5, 4]\n",
      "## all_reponses :  [2, 1, 2, 2, 3, 2, 2, 1, 1, 2]\n",
      "## coherence score :  [2, 1, 2, 2, 3, 2, 2, 1, 1, 2]\n",
      "## all_reponses :  [2, 3, 2, 2, 3, 2, 2, 3, 2, 3]\n",
      "## engagingness score :  [2, 3, 2, 2, 3, 2, 2, 3, 2, 3]\n",
      "## all_reponses :  [2, 2, 1, 3, 2, 2, 2, 3, 2, 2]\n",
      "## naturalness score :  [2, 2, 1, 3, 2, 2, 2, 3, 2, 2]\n"
     ]
    },
    {
     "name": "stderr",
     "output_type": "stream",
     "text": [
      " 15%|█▍        | 8/54 [00:43<04:09,  5.43s/it]"
     ]
    },
    {
     "name": "stdout",
     "output_type": "stream",
     "text": [
      "## all_reponses :  [2, 1, 2, 3, 1, 2, 2, 1, 1, 1]\n",
      "## groundedness score :  [2, 1, 2, 3, 1, 2, 2, 1, 1, 1]\n",
      "## all_reponses :  [4, 4, 3, 3, 4, 3, 5, 5, 4, 4]\n",
      "## coherence score :  [4, 4, 3, 3, 4, 3, 5, 5, 4, 4]\n",
      "## all_reponses :  [2, 3, 3, 3, 3, 3, 3, 3, 3, 3]\n",
      "## engagingness score :  [2, 3, 3, 3, 3, 3, 3, 3, 3, 3]\n",
      "## all_reponses :  [4, 3, 3, 3, 3, 2, 4, 3, 3, 3]\n",
      "## naturalness score :  [4, 3, 3, 3, 3, 2, 4, 3, 3, 3]\n"
     ]
    },
    {
     "name": "stderr",
     "output_type": "stream",
     "text": [
      " 17%|█▋        | 9/54 [00:48<04:04,  5.44s/it]"
     ]
    },
    {
     "name": "stdout",
     "output_type": "stream",
     "text": [
      "## all_reponses :  [2, 2, 2, 1, 2, 1, 3, 2, 2, 2]\n",
      "## groundedness score :  [2, 2, 2, 1, 2, 1, 3, 2, 2, 2]\n",
      "## all_reponses :  [5, 5, 5, 5, 5, 5, 5, 5, 5, 5]\n",
      "## coherence score :  [5, 5, 5, 5, 5, 5, 5, 5, 5, 5]\n",
      "## all_reponses :  [2, 1, 2, 1, 2, 2, 2, 2, 1, 2]\n",
      "## engagingness score :  [2, 1, 2, 1, 2, 2, 2, 2, 1, 2]\n",
      "## all_reponses :  [5, 5, 5, 5, 4, 5, 5, 5, 5, 5]\n",
      "## naturalness score :  [5, 5, 5, 5, 4, 5, 5, 5, 5, 5]\n"
     ]
    },
    {
     "name": "stderr",
     "output_type": "stream",
     "text": [
      " 19%|█▊        | 10/54 [00:53<03:53,  5.31s/it]"
     ]
    },
    {
     "name": "stdout",
     "output_type": "stream",
     "text": [
      "## all_reponses :  [4, 3, 4, 5, 3, 5, 5, 5, 3, 5]\n",
      "## groundedness score :  [4, 3, 4, 5, 3, 5, 5, 5, 3, 5]\n",
      "## all_reponses :  [5, 5, 5, 5, 5, 5, 4, 5, 5, 5]\n",
      "## coherence score :  [5, 5, 5, 5, 5, 5, 4, 5, 5, 5]\n",
      "## all_reponses :  [3, 4, 5, 5, 4, 5, 4, 4, 4, 4]\n",
      "## engagingness score :  [3, 4, 5, 5, 4, 5, 4, 4, 4, 4]\n",
      "## all_reponses :  [5, 5, 5, 5, 4, 4, 4, 5, 5, 4]\n",
      "## naturalness score :  [5, 5, 5, 5, 4, 4, 4, 5, 5, 4]\n"
     ]
    },
    {
     "name": "stderr",
     "output_type": "stream",
     "text": [
      " 20%|██        | 11/54 [00:59<03:52,  5.41s/it]"
     ]
    },
    {
     "name": "stdout",
     "output_type": "stream",
     "text": [
      "## all_reponses :  [3, 5, 4, 4, 4, 4, 5, 5, 5, 4]\n",
      "## groundedness score :  [3, 5, 4, 4, 4, 4, 5, 5, 5, 4]\n",
      "## all_reponses :  [5, 5, 5, 5, 5, 5, 5, 5, 5, 5]\n",
      "## coherence score :  [5, 5, 5, 5, 5, 5, 5, 5, 5, 5]\n",
      "## all_reponses :  [1, 3, 1, 3, 3, 2, 1, 1, 3, 1]\n",
      "## engagingness score :  [1, 3, 1, 3, 3, 2, 1, 1, 3, 1]\n",
      "## all_reponses :  [5, 5, 5, 5, 5, 5, 5, 5, 5, 5]\n",
      "## naturalness score :  [5, 5, 5, 5, 5, 5, 5, 5, 5, 5]\n"
     ]
    },
    {
     "name": "stderr",
     "output_type": "stream",
     "text": [
      " 22%|██▏       | 12/54 [01:04<03:45,  5.37s/it]"
     ]
    },
    {
     "name": "stdout",
     "output_type": "stream",
     "text": [
      "## all_reponses :  [4, 5, 5, 5, 5, 5, 5, 5, 5, 5]\n",
      "## groundedness score :  [4, 5, 5, 5, 5, 5, 5, 5, 5, 5]\n",
      "## all_reponses :  [2, 1, 3, 2, 2, 3, 2, 1, 2, 2]\n",
      "## coherence score :  [2, 1, 3, 2, 2, 3, 2, 1, 2, 2]\n",
      "## all_reponses :  [2, 2, 3, 2, 2, 3, 2, 2, 3, 3]\n",
      "## engagingness score :  [2, 2, 3, 2, 2, 3, 2, 2, 3, 3]\n",
      "## all_reponses :  [3, 2, 2, 1, 2, 2, 3, 2, 2, 2]\n",
      "## naturalness score :  [3, 2, 2, 1, 2, 2, 3, 2, 2, 2]\n"
     ]
    },
    {
     "name": "stderr",
     "output_type": "stream",
     "text": [
      " 24%|██▍       | 13/54 [01:09<03:35,  5.25s/it]"
     ]
    },
    {
     "name": "stdout",
     "output_type": "stream",
     "text": [
      "## all_reponses :  [2, 1, 1, 2, 1, 1, 2, 1, 2, 1]\n",
      "## groundedness score :  [2, 1, 1, 2, 1, 1, 2, 1, 2, 1]\n",
      "## all_reponses :  [5, 5, 5, 3, 5, 5, 5, 5, 5, 5]\n",
      "## coherence score :  [5, 5, 5, 3, 5, 5, 5, 5, 5, 5]\n",
      "## all_reponses :  [2, 3, 3, 3, 3, 3, 2, 3, 2, 2]\n",
      "## engagingness score :  [2, 3, 3, 3, 3, 3, 2, 3, 2, 2]\n",
      "## all_reponses :  [3, 5, 4, 4, 5, 4, 4, 4, 4, 5]\n",
      "## naturalness score :  [3, 5, 4, 4, 5, 4, 4, 4, 4, 5]\n"
     ]
    },
    {
     "name": "stderr",
     "output_type": "stream",
     "text": [
      " 26%|██▌       | 14/54 [01:14<03:28,  5.21s/it]"
     ]
    },
    {
     "name": "stdout",
     "output_type": "stream",
     "text": [
      "## all_reponses :  [4, 4, 4, 3, 5, 4, 3, 3, 4, 4]\n",
      "## groundedness score :  [4, 4, 4, 3, 5, 4, 3, 3, 4, 4]\n",
      "## all_reponses :  [5, 5, 4, 5, 2, 4, 4, 4, 4, 5]\n",
      "## coherence score :  [5, 5, 4, 5, 2, 4, 4, 4, 4, 5]\n",
      "## all_reponses :  [2, 2, 2, 2, 2, 2, 1, 1, 1, 1]\n",
      "## engagingness score :  [2, 2, 2, 2, 2, 2, 1, 1, 1, 1]\n",
      "## all_reponses :  [5, 4, 4, 4, 4, 3, 4, 4, 5, 5]\n",
      "## naturalness score :  [5, 4, 4, 4, 4, 3, 4, 4, 5, 5]\n"
     ]
    },
    {
     "name": "stderr",
     "output_type": "stream",
     "text": [
      " 28%|██▊       | 15/54 [01:19<03:22,  5.20s/it]"
     ]
    },
    {
     "name": "stdout",
     "output_type": "stream",
     "text": [
      "## all_reponses :  [4, 5, 2, 3, 4, 3, 5, 5, 4, 5]\n",
      "## groundedness score :  [4, 5, 2, 3, 4, 3, 5, 5, 4, 5]\n",
      "## all_reponses :  [5, 5, 5, 4, 5, 5, 5, 5, 5, 5]\n",
      "## coherence score :  [5, 5, 5, 4, 5, 5, 5, 5, 5, 5]\n",
      "## all_reponses :  [4, 3, 4, 4, 4, 5, 4, 4, 4, 4]\n",
      "## engagingness score :  [4, 3, 4, 4, 4, 5, 4, 4, 4, 4]\n",
      "## all_reponses :  [4, 5, 4, 5, 4, 5, 5, 4, 5, 5]\n",
      "## naturalness score :  [4, 5, 4, 5, 4, 5, 5, 4, 5, 5]\n"
     ]
    },
    {
     "name": "stderr",
     "output_type": "stream",
     "text": [
      " 30%|██▉       | 16/54 [01:25<03:18,  5.21s/it]"
     ]
    },
    {
     "name": "stdout",
     "output_type": "stream",
     "text": [
      "## all_reponses :  [3, 4, 2, 5, 3, 5, 3, 4, 3, 3]\n",
      "## groundedness score :  [3, 4, 2, 5, 3, 5, 3, 4, 3, 3]\n",
      "## all_reponses :  [5, 5, 5, 5, 5, 5, 5, 5, 5, 4]\n",
      "## coherence score :  [5, 5, 5, 5, 5, 5, 5, 5, 5, 4]\n",
      "## all_reponses :  [4, 3, 4, 3, 4, 3, 4, 3, 4, 5]\n",
      "## engagingness score :  [4, 3, 4, 3, 4, 3, 4, 3, 4, 5]\n",
      "## all_reponses :  [5, 5, 5, 4, 5, 5, 5, 5, 5, 5]\n",
      "## naturalness score :  [5, 5, 5, 4, 5, 5, 5, 5, 5, 5]\n"
     ]
    },
    {
     "name": "stderr",
     "output_type": "stream",
     "text": [
      " 31%|███▏      | 17/54 [01:30<03:16,  5.32s/it]"
     ]
    },
    {
     "name": "stdout",
     "output_type": "stream",
     "text": [
      "## all_reponses :  [4, 3, 3, 4, 3, 3, 3, 2, 3, 4]\n",
      "## groundedness score :  [4, 3, 3, 4, 3, 3, 3, 2, 3, 4]\n",
      "## all_reponses :  [5, 5, 5, 5, 5, 5, 5, 5, 5, 5]\n",
      "## coherence score :  [5, 5, 5, 5, 5, 5, 5, 5, 5, 5]\n",
      "## all_reponses :  [3, 3, 3, 3, 4, 3, 3, 3, 4, 3]\n",
      "## engagingness score :  [3, 3, 3, 3, 4, 3, 3, 3, 4, 3]\n",
      "## all_reponses :  [5, 5, 5, 5, 5, 5, 5, 5, 5, 5]\n",
      "## naturalness score :  [5, 5, 5, 5, 5, 5, 5, 5, 5, 5]\n"
     ]
    },
    {
     "name": "stderr",
     "output_type": "stream",
     "text": [
      " 33%|███▎      | 18/54 [01:36<03:12,  5.35s/it]"
     ]
    },
    {
     "name": "stdout",
     "output_type": "stream",
     "text": [
      "## all_reponses :  [4, 5, 5, 5, 5, 5, 5, 5, 5, 4]\n",
      "## groundedness score :  [4, 5, 5, 5, 5, 5, 5, 5, 5, 4]\n",
      "## all_reponses :  [5, 5, 5, 5, 5, 5, 5, 5, 5, 5]\n",
      "## coherence score :  [5, 5, 5, 5, 5, 5, 5, 5, 5, 5]\n",
      "## all_reponses :  [4, 4, 5, 4, 4, 4, 4, 4, 5, 4]\n",
      "## engagingness score :  [4, 4, 5, 4, 4, 4, 4, 4, 5, 4]\n",
      "## all_reponses :  [5, 5, 5, 5, 5, 5, 5, 5, 5, 4]\n",
      "## naturalness score :  [5, 5, 5, 5, 5, 5, 5, 5, 5, 4]\n"
     ]
    },
    {
     "name": "stderr",
     "output_type": "stream",
     "text": [
      " 35%|███▌      | 19/54 [01:41<03:09,  5.42s/it]"
     ]
    },
    {
     "name": "stdout",
     "output_type": "stream",
     "text": [
      "## all_reponses :  [4, 3, 5, 5, 5, 4, 5, 5, 4, 5]\n",
      "## groundedness score :  [4, 3, 5, 5, 5, 4, 5, 5, 4, 5]\n",
      "## all_reponses :  [5, 5, 5, 5, 5, 5, 5, 5, 5, 5]\n",
      "## coherence score :  [5, 5, 5, 5, 5, 5, 5, 5, 5, 5]\n",
      "## all_reponses :  [3, 3, 3, 4, 4, 4, 3, 3, 4, 4]\n",
      "## engagingness score :  [3, 3, 3, 4, 4, 4, 3, 3, 4, 4]\n",
      "## all_reponses :  [5, 4, 4, 5, 4, 5, 4, 5, 5, 5]\n",
      "## naturalness score :  [5, 4, 4, 5, 4, 5, 4, 5, 5, 5]\n"
     ]
    },
    {
     "name": "stderr",
     "output_type": "stream",
     "text": [
      " 37%|███▋      | 20/54 [01:46<03:01,  5.35s/it]"
     ]
    },
    {
     "name": "stdout",
     "output_type": "stream",
     "text": [
      "## all_reponses :  [5, 5, 5, 5, 5, 5, 5, 4, 4, 5]\n",
      "## groundedness score :  [5, 5, 5, 5, 5, 5, 5, 4, 4, 5]\n",
      "## all_reponses :  [5, 5, 5, 5, 5, 5, 5, 5, 5, 5]\n",
      "## coherence score :  [5, 5, 5, 5, 5, 5, 5, 5, 5, 5]\n",
      "## all_reponses :  [3, 3, 4, 3, 4, 3, 4, 4, 4, 4]\n",
      "## engagingness score :  [3, 3, 4, 3, 4, 3, 4, 4, 4, 4]\n",
      "## all_reponses :  [5, 5, 5, 5, 5, 5, 5, 5, 4, 5]\n",
      "## naturalness score :  [5, 5, 5, 5, 5, 5, 5, 5, 4, 5]\n"
     ]
    },
    {
     "name": "stderr",
     "output_type": "stream",
     "text": [
      " 39%|███▉      | 21/54 [01:52<02:56,  5.34s/it]"
     ]
    },
    {
     "name": "stdout",
     "output_type": "stream",
     "text": [
      "## all_reponses :  [4, 5, 4, 5, 5, 5, 5, 5, 4, 4]\n",
      "## groundedness score :  [4, 5, 4, 5, 5, 5, 5, 5, 4, 4]\n",
      "## all_reponses :  [5, 5, 5, 5, 5, 5, 5, 5, 5, 5]\n",
      "## coherence score :  [5, 5, 5, 5, 5, 5, 5, 5, 5, 5]\n",
      "## all_reponses :  [3, 3, 3, 3, 2, 3, 4, 3, 3, 4]\n",
      "## engagingness score :  [3, 3, 3, 3, 2, 3, 4, 3, 3, 4]\n",
      "## all_reponses :  [4, 4, 5, 4, 4, 5, 5, 5, 4, 5]\n",
      "## naturalness score :  [4, 4, 5, 4, 4, 5, 5, 5, 4, 5]\n"
     ]
    },
    {
     "name": "stderr",
     "output_type": "stream",
     "text": [
      " 41%|████      | 22/54 [01:57<02:51,  5.34s/it]"
     ]
    },
    {
     "name": "stdout",
     "output_type": "stream",
     "text": [
      "## all_reponses :  [3, 3, 4, 3, 4, 4, 4, 4, 5, 4]\n",
      "## groundedness score :  [3, 3, 4, 3, 4, 4, 4, 4, 5, 4]\n",
      "## all_reponses :  [5, 5, 5, 5, 5, 5, 5, 5, 5, 5]\n",
      "## coherence score :  [5, 5, 5, 5, 5, 5, 5, 5, 5, 5]\n",
      "## all_reponses :  [3, 3, 4, 3, 3, 3, 3, 3, 3, 3]\n",
      "## engagingness score :  [3, 3, 4, 3, 3, 3, 3, 3, 3, 3]\n",
      "## all_reponses :  [5, 5, 5, 4, 5, 5, 5, 5, 5, 5]\n",
      "## naturalness score :  [5, 5, 5, 4, 5, 5, 5, 5, 5, 5]\n"
     ]
    },
    {
     "name": "stderr",
     "output_type": "stream",
     "text": [
      " 43%|████▎     | 23/54 [02:02<02:47,  5.39s/it]"
     ]
    },
    {
     "name": "stdout",
     "output_type": "stream",
     "text": [
      "## all_reponses :  [4, 5, 5, 3, 4, 5, 5, 4, 5, 5]\n",
      "## groundedness score :  [4, 5, 5, 3, 4, 5, 5, 4, 5, 5]\n",
      "## all_reponses :  [5, 5, 5, 5, 5, 5, 5, 5, 5, 5]\n",
      "## coherence score :  [5, 5, 5, 5, 5, 5, 5, 5, 5, 5]\n",
      "## all_reponses :  [3, 3, 3, 3, 2, 3, 2, 3, 3, 3]\n",
      "## engagingness score :  [3, 3, 3, 3, 2, 3, 2, 3, 3, 3]\n",
      "## all_reponses :  [5, 5, 5, 5, 5, 5, 5, 5, 5, 5]\n",
      "## naturalness score :  [5, 5, 5, 5, 5, 5, 5, 5, 5, 5]\n"
     ]
    },
    {
     "name": "stderr",
     "output_type": "stream",
     "text": [
      " 44%|████▍     | 24/54 [02:07<02:36,  5.22s/it]"
     ]
    },
    {
     "name": "stdout",
     "output_type": "stream",
     "text": [
      "## all_reponses :  [4, 5, 5, 5, 4, 5, 5, 5, 4, 5]\n",
      "## groundedness score :  [4, 5, 5, 5, 4, 5, 5, 5, 4, 5]\n",
      "## all_reponses :  [5, 5, 5, 5, 5, 5, 5, 5, 5, 5]\n",
      "## coherence score :  [5, 5, 5, 5, 5, 5, 5, 5, 5, 5]\n",
      "## all_reponses :  [4, 4, 4, 5, 5, 4, 5, 4, 5, 5]\n",
      "## engagingness score :  [4, 4, 4, 5, 5, 4, 5, 4, 5, 5]\n",
      "## all_reponses :  [5, 5, 5, 5, 5, 5, 5, 5, 5, 5]\n",
      "## naturalness score :  [5, 5, 5, 5, 5, 5, 5, 5, 5, 5]\n"
     ]
    },
    {
     "name": "stderr",
     "output_type": "stream",
     "text": [
      " 46%|████▋     | 25/54 [02:13<02:34,  5.33s/it]"
     ]
    },
    {
     "name": "stdout",
     "output_type": "stream",
     "text": [
      "## all_reponses :  [5, 5, 5, 5, 5, 5, 4, 4, 4, 5]\n",
      "## groundedness score :  [5, 5, 5, 5, 5, 5, 4, 4, 4, 5]\n",
      "## all_reponses :  [4, 5, 5, 5, 5, 5, 5, 5, 5, 5]\n",
      "## coherence score :  [4, 5, 5, 5, 5, 5, 5, 5, 5, 5]\n",
      "## all_reponses :  [3, 4, 3, 4, 4, 4, 3, 4, 4, 4]\n",
      "## engagingness score :  [3, 4, 3, 4, 4, 4, 3, 4, 4, 4]\n",
      "## all_reponses :  [5, 5, 5, 5, 5, 5, 5, 5, 5, 5]\n",
      "## naturalness score :  [5, 5, 5, 5, 5, 5, 5, 5, 5, 5]\n"
     ]
    },
    {
     "name": "stderr",
     "output_type": "stream",
     "text": [
      " 48%|████▊     | 26/54 [02:18<02:26,  5.23s/it]"
     ]
    },
    {
     "name": "stdout",
     "output_type": "stream",
     "text": [
      "## all_reponses :  [5, 4, 4, 4, 4, 4, 4, 4, 5, 4]\n",
      "## groundedness score :  [5, 4, 4, 4, 4, 4, 4, 4, 5, 4]\n",
      "## all_reponses :  [4, 5, 5, 5, 5, 5, 5, 4, 3, 5]\n",
      "## coherence score :  [4, 5, 5, 5, 5, 5, 5, 4, 3, 5]\n",
      "## all_reponses :  [3, 4, 3, 4, 4, 4, 4, 3, 5, 4]\n",
      "## engagingness score :  [3, 4, 3, 4, 4, 4, 4, 3, 5, 4]\n",
      "## all_reponses :  [4, 4, 5, 4, 3, 4, 4, 5, 4, 4]\n",
      "## naturalness score :  [4, 4, 5, 4, 3, 4, 4, 5, 4, 4]\n"
     ]
    },
    {
     "name": "stderr",
     "output_type": "stream",
     "text": [
      " 50%|█████     | 27/54 [02:23<02:20,  5.22s/it]"
     ]
    },
    {
     "name": "stdout",
     "output_type": "stream",
     "text": [
      "## all_reponses :  [5, 4, 4, 4, 3, 4, 4, 4, 5, 5]\n",
      "## groundedness score :  [5, 4, 4, 4, 3, 4, 4, 4, 5, 5]\n",
      "## all_reponses :  [5, 5, 5, 5, 5, 5, 5, 5, 5, 5]\n",
      "## coherence score :  [5, 5, 5, 5, 5, 5, 5, 5, 5, 5]\n",
      "## all_reponses :  [4, 4, 4, 4, 4, 4, 4, 4, 3, 3]\n",
      "## engagingness score :  [4, 4, 4, 4, 4, 4, 4, 4, 3, 3]\n",
      "## all_reponses :  [5, 5, 5, 5, 5, 5, 5, 5, 5, 5]\n",
      "## naturalness score :  [5, 5, 5, 5, 5, 5, 5, 5, 5, 5]\n"
     ]
    },
    {
     "name": "stderr",
     "output_type": "stream",
     "text": [
      " 52%|█████▏    | 28/54 [02:29<02:17,  5.29s/it]"
     ]
    },
    {
     "name": "stdout",
     "output_type": "stream",
     "text": [
      "## all_reponses :  [4, 4, 5, 5, 5, 4, 5, 4, 4, 5]\n",
      "## groundedness score :  [4, 4, 5, 5, 5, 4, 5, 4, 4, 5]\n",
      "## all_reponses :  [5, 5, 5, 5, 5, 5, 5, 5, 5, 5]\n",
      "## coherence score :  [5, 5, 5, 5, 5, 5, 5, 5, 5, 5]\n",
      "## all_reponses :  [3, 3, 3, 3, 2, 2, 3, 3, 3, 3]\n",
      "## engagingness score :  [3, 3, 3, 3, 2, 2, 3, 3, 3, 3]\n",
      "## all_reponses :  [5, 4, 4, 5, 5, 5, 4, 4, 4, 4]\n",
      "## naturalness score :  [5, 4, 4, 5, 5, 5, 4, 4, 4, 4]\n"
     ]
    },
    {
     "name": "stderr",
     "output_type": "stream",
     "text": [
      " 54%|█████▎    | 29/54 [02:33<02:09,  5.20s/it]"
     ]
    },
    {
     "name": "stdout",
     "output_type": "stream",
     "text": [
      "## all_reponses :  [4, 4, 5, 4, 4, 4, 5, 4, 5, 4]\n",
      "## groundedness score :  [4, 4, 5, 4, 4, 4, 5, 4, 5, 4]\n",
      "## all_reponses :  [3, 1, 1, 3, 1, 2, 2, 1, 3, 4]\n",
      "## coherence score :  [3, 1, 1, 3, 1, 2, 2, 1, 3, 4]\n",
      "## all_reponses :  [4, 4, 3, 3, 3, 3, 4, 3, 3, 4]\n",
      "## engagingness score :  [4, 4, 3, 3, 3, 3, 4, 3, 3, 4]\n",
      "## all_reponses :  [2, 3, 2, 3, 2, 3, 3, 2, 2, 3]\n",
      "## naturalness score :  [2, 3, 2, 3, 2, 3, 3, 2, 2, 3]\n"
     ]
    },
    {
     "name": "stderr",
     "output_type": "stream",
     "text": [
      " 56%|█████▌    | 30/54 [02:39<02:06,  5.25s/it]"
     ]
    },
    {
     "name": "stdout",
     "output_type": "stream",
     "text": [
      "## all_reponses :  [4, 2, 1, 2, 2, 2, 2, 3, 3, 2]\n",
      "## groundedness score :  [4, 2, 1, 2, 2, 2, 2, 3, 3, 2]\n",
      "## all_reponses :  [1, 1, 1, 1, 1, 1, 2, 1, 3, 1]\n",
      "## coherence score :  [1, 1, 1, 1, 1, 1, 2, 1, 3, 1]\n",
      "## all_reponses :  [4, 1, 2, 1, 1, 1, 1, 1, 1, 1]\n",
      "## engagingness score :  [4, 1, 2, 1, 1, 1, 1, 1, 1, 1]\n",
      "## all_reponses :  [2, 1, 1, 1, 2, 1, 1, 3, 1, 1]\n",
      "## naturalness score :  [2, 1, 1, 1, 2, 1, 1, 3, 1, 1]\n"
     ]
    },
    {
     "name": "stderr",
     "output_type": "stream",
     "text": [
      " 57%|█████▋    | 31/54 [02:44<02:00,  5.24s/it]"
     ]
    },
    {
     "name": "stdout",
     "output_type": "stream",
     "text": [
      "## all_reponses :  [1, 1, 1, 1, 1, 1, 1, 1, 1, 1]\n",
      "## groundedness score :  [1, 1, 1, 1, 1, 1, 1, 1, 1, 1]\n",
      "## all_reponses :  [5, 5, 5, 5, 5, 5, 5, 5, 5, 5]\n",
      "## coherence score :  [5, 5, 5, 5, 5, 5, 5, 5, 5, 5]\n",
      "## all_reponses :  [5, 4, 3, 3, 3, 4, 4, 4, 3, 4]\n",
      "## engagingness score :  [5, 4, 3, 3, 3, 4, 4, 4, 3, 4]\n",
      "## all_reponses :  [5, 5, 5, 5, 4, 5, 5, 5, 4, 5]\n",
      "## naturalness score :  [5, 5, 5, 5, 4, 5, 5, 5, 4, 5]\n"
     ]
    },
    {
     "name": "stderr",
     "output_type": "stream",
     "text": [
      " 59%|█████▉    | 32/54 [02:49<01:55,  5.25s/it]"
     ]
    },
    {
     "name": "stdout",
     "output_type": "stream",
     "text": [
      "## all_reponses :  [4, 5, 4, 5, 4, 5, 5, 5, 4, 4]\n",
      "## groundedness score :  [4, 5, 4, 5, 4, 5, 5, 5, 4, 4]\n",
      "## all_reponses :  [1, 1, 1, 2, 1, 1, 2, 1, 1, 1]\n",
      "## coherence score :  [1, 1, 1, 2, 1, 1, 2, 1, 1, 1]\n",
      "## all_reponses :  [1, 1, 3, 3, 1, 2, 1, 2, 3, 1]\n",
      "## engagingness score :  [1, 1, 3, 3, 1, 2, 1, 2, 3, 1]\n",
      "## all_reponses :  [2, 2, 2, 2, 2, 2, 1, 2, 3, 1]\n",
      "## naturalness score :  [2, 2, 2, 2, 2, 2, 1, 2, 3, 1]\n"
     ]
    },
    {
     "name": "stderr",
     "output_type": "stream",
     "text": [
      " 61%|██████    | 33/54 [02:54<01:49,  5.20s/it]"
     ]
    },
    {
     "name": "stdout",
     "output_type": "stream",
     "text": [
      "## all_reponses :  [1, 1, 1, 1, 1, 1, 1, 2, 1, 1]\n",
      "## groundedness score :  [1, 1, 1, 1, 1, 1, 1, 2, 1, 1]\n",
      "## all_reponses :  [3, 2, 2, 1, 4, 2, 1, 2, 2, 2]\n",
      "## coherence score :  [3, 2, 2, 1, 4, 2, 1, 2, 2, 2]\n",
      "## all_reponses :  [3, 2, 3, 2, 2, 3, 1, 2, 3, 2]\n",
      "## engagingness score :  [3, 2, 3, 2, 2, 3, 1, 2, 3, 2]\n",
      "## all_reponses :  [2, 3, 3, 4, 3, 2, 3, 3, 2, 2]\n",
      "## naturalness score :  [2, 3, 3, 4, 3, 2, 3, 3, 2, 2]\n"
     ]
    },
    {
     "name": "stderr",
     "output_type": "stream",
     "text": [
      " 63%|██████▎   | 34/54 [02:59<01:42,  5.11s/it]"
     ]
    },
    {
     "name": "stdout",
     "output_type": "stream",
     "text": [
      "## all_reponses :  [2, 2, 2, 1, 2, 2, 3, 2, 1, 1]\n",
      "## groundedness score :  [2, 2, 2, 1, 2, 2, 3, 2, 1, 1]\n",
      "## all_reponses :  [5, 5, 5, 5, 5, 5, 5, 5, 5, 5]\n",
      "## coherence score :  [5, 5, 5, 5, 5, 5, 5, 5, 5, 5]\n",
      "## all_reponses :  [4, 4, 4, 4, 5, 5, 4, 4, 4, 4]\n",
      "## engagingness score :  [4, 4, 4, 4, 5, 5, 4, 4, 4, 4]\n",
      "## all_reponses :  [5, 5, 5, 5, 5, 5, 5, 5, 5, 5]\n",
      "## naturalness score :  [5, 5, 5, 5, 5, 5, 5, 5, 5, 5]\n"
     ]
    },
    {
     "name": "stderr",
     "output_type": "stream",
     "text": [
      " 65%|██████▍   | 35/54 [03:05<01:39,  5.25s/it]"
     ]
    },
    {
     "name": "stdout",
     "output_type": "stream",
     "text": [
      "## all_reponses :  [5, 5, 4, 5, 4, 5, 4, 5, 5, 5]\n",
      "## groundedness score :  [5, 5, 4, 5, 4, 5, 4, 5, 5, 5]\n",
      "## all_reponses :  [5, 4, 5, 4, 5, 5, 5, 4, 5, 5]\n",
      "## coherence score :  [5, 4, 5, 4, 5, 5, 5, 4, 5, 5]\n",
      "## all_reponses :  [3, 2, 3, 2, 3, 3, 3, 2, 3, 3]\n",
      "## engagingness score :  [3, 2, 3, 2, 3, 3, 3, 2, 3, 3]\n",
      "## all_reponses :  [5, 4, 5, 4, 5, 4, 4, 5, 4, 4]\n",
      "## naturalness score :  [5, 4, 5, 4, 5, 4, 4, 5, 4, 4]\n"
     ]
    },
    {
     "name": "stderr",
     "output_type": "stream",
     "text": [
      " 67%|██████▋   | 36/54 [03:11<01:37,  5.40s/it]"
     ]
    },
    {
     "name": "stdout",
     "output_type": "stream",
     "text": [
      "## all_reponses :  [3, 4, 4, 3, 3, 3, 5, 4, 3, 3]\n",
      "## groundedness score :  [3, 4, 4, 3, 3, 3, 5, 4, 3, 3]\n",
      "## all_reponses :  [4, 5, 5, 5, 4, 5, 5, 5, 5, 4]\n",
      "## coherence score :  [4, 5, 5, 5, 4, 5, 5, 5, 5, 4]\n",
      "## all_reponses :  [4, 4, 5, 4, 4, 4, 4, 4, 4, 4]\n",
      "## engagingness score :  [4, 4, 5, 4, 4, 4, 4, 4, 4, 4]\n",
      "## all_reponses :  [5, 5, 5, 5, 5, 5, 4, 5, 4, 5]\n",
      "## naturalness score :  [5, 5, 5, 5, 5, 5, 4, 5, 4, 5]\n"
     ]
    },
    {
     "name": "stderr",
     "output_type": "stream",
     "text": [
      " 69%|██████▊   | 37/54 [03:16<01:29,  5.24s/it]"
     ]
    },
    {
     "name": "stdout",
     "output_type": "stream",
     "text": [
      "## all_reponses :  [5, 5, 5, 5, 4, 5, 5, 4, 3, 5]\n",
      "## groundedness score :  [5, 5, 5, 5, 4, 5, 5, 4, 3, 5]\n",
      "## all_reponses :  [3, 4, 4, 4, 4, 5, 4, 4, 3, 4]\n",
      "## coherence score :  [3, 4, 4, 4, 4, 5, 4, 4, 3, 4]\n",
      "## all_reponses :  [5, 4, 4, 4, 4, 5, 4, 5, 4, 4]\n",
      "## engagingness score :  [5, 4, 4, 4, 4, 5, 4, 5, 4, 4]\n",
      "## all_reponses :  [5, 5, 5, 5, 5, 4, 5, 4, 4, 4]\n",
      "## naturalness score :  [5, 5, 5, 5, 5, 4, 5, 4, 4, 4]\n"
     ]
    },
    {
     "name": "stderr",
     "output_type": "stream",
     "text": [
      " 70%|███████   | 38/54 [03:21<01:23,  5.24s/it]"
     ]
    },
    {
     "name": "stdout",
     "output_type": "stream",
     "text": [
      "## all_reponses :  [2, 1, 3, 3, 1, 2, 3, 2, 2, 1]\n",
      "## groundedness score :  [2, 1, 3, 3, 1, 2, 3, 2, 2, 1]\n",
      "## all_reponses :  [5, 5, 5, 5, 5, 5, 5, 4, 5, 5]\n",
      "## coherence score :  [5, 5, 5, 5, 5, 5, 5, 4, 5, 5]\n",
      "## all_reponses :  [2, 2, 1, 3, 2, 2, 2, 2, 2, 2]\n",
      "## engagingness score :  [2, 2, 1, 3, 2, 2, 2, 2, 2, 2]\n",
      "## all_reponses :  [5, 4, 5, 5, 5, 4, 4, 4, 5, 5]\n",
      "## naturalness score :  [5, 4, 5, 5, 5, 4, 4, 4, 5, 5]\n"
     ]
    },
    {
     "name": "stderr",
     "output_type": "stream",
     "text": [
      " 72%|███████▏  | 39/54 [03:26<01:17,  5.17s/it]"
     ]
    },
    {
     "name": "stdout",
     "output_type": "stream",
     "text": [
      "## all_reponses :  [3, 2, 3, 4, 3, 5, 3, 4, 2, 3]\n",
      "## groundedness score :  [3, 2, 3, 4, 3, 5, 3, 4, 2, 3]\n",
      "## all_reponses :  [5, 5, 3, 4, 3, 5, 3, 4, 4, 4]\n",
      "## coherence score :  [5, 5, 3, 4, 3, 5, 3, 4, 4, 4]\n",
      "## all_reponses :  [1, 3, 3, 4, 3, 3, 3, 3, 3, 3]\n",
      "## engagingness score :  [1, 3, 3, 4, 3, 3, 3, 3, 3, 3]\n",
      "## all_reponses :  [3, 5, 5, 4, 3, 4, 4, 3, 4, 3]\n",
      "## naturalness score :  [3, 5, 5, 4, 3, 4, 4, 3, 4, 3]\n"
     ]
    },
    {
     "name": "stderr",
     "output_type": "stream",
     "text": [
      " 74%|███████▍  | 40/54 [03:31<01:11,  5.12s/it]"
     ]
    },
    {
     "name": "stdout",
     "output_type": "stream",
     "text": [
      "## all_reponses :  [2, 5, 4, 4, 3, 3, 4, 3, 5, 4]\n",
      "## groundedness score :  [2, 5, 4, 4, 3, 3, 4, 3, 5, 4]\n",
      "## all_reponses :  [5, 5, 5, 5, 5, 5, 5, 5, 5, 5]\n",
      "## coherence score :  [5, 5, 5, 5, 5, 5, 5, 5, 5, 5]\n",
      "## all_reponses :  [4, 4, 4, 4, 4, 3, 4, 4, 4, 3]\n",
      "## engagingness score :  [4, 4, 4, 4, 4, 3, 4, 4, 4, 3]\n",
      "## all_reponses :  [5, 4, 4, 5, 5, 5, 5, 5, 5, 5]\n",
      "## naturalness score :  [5, 4, 4, 5, 5, 5, 5, 5, 5, 5]\n"
     ]
    },
    {
     "name": "stderr",
     "output_type": "stream",
     "text": [
      " 76%|███████▌  | 41/54 [03:36<01:06,  5.10s/it]"
     ]
    },
    {
     "name": "stdout",
     "output_type": "stream",
     "text": [
      "## all_reponses :  [5, 5, 4, 5, 5, 4, 5, 5, 5, 4]\n",
      "## groundedness score :  [5, 5, 4, 5, 5, 4, 5, 5, 5, 4]\n",
      "## all_reponses :  [5, 5, 5, 5, 5, 5, 5, 5, 5, 5]\n",
      "## coherence score :  [5, 5, 5, 5, 5, 5, 5, 5, 5, 5]\n",
      "## all_reponses :  [4, 5, 4, 3, 4, 4, 4, 5, 5, 5]\n",
      "## engagingness score :  [4, 5, 4, 3, 4, 4, 4, 5, 5, 5]\n",
      "## all_reponses :  [5, 5, 5, 5, 5, 5, 4, 5, 4, 5]\n",
      "## naturalness score :  [5, 5, 5, 5, 5, 5, 4, 5, 4, 5]\n"
     ]
    },
    {
     "name": "stderr",
     "output_type": "stream",
     "text": [
      " 78%|███████▊  | 42/54 [03:41<01:02,  5.18s/it]"
     ]
    },
    {
     "name": "stdout",
     "output_type": "stream",
     "text": [
      "## all_reponses :  [2, 4, 3, 4, 5, 3, 4, 4, 3, 3]\n",
      "## groundedness score :  [2, 4, 3, 4, 5, 3, 4, 4, 3, 3]\n",
      "## all_reponses :  [5, 5, 5, 5, 5, 5, 5, 5, 5, 5]\n",
      "## coherence score :  [5, 5, 5, 5, 5, 5, 5, 5, 5, 5]\n",
      "## all_reponses :  [4, 4, 4, 4, 5, 5, 4, 4, 4, 3]\n",
      "## engagingness score :  [4, 4, 4, 4, 5, 5, 4, 4, 4, 3]\n",
      "## all_reponses :  [5, 5, 5, 5, 5, 5, 5, 5, 5, 5]\n",
      "## naturalness score :  [5, 5, 5, 5, 5, 5, 5, 5, 5, 5]\n"
     ]
    },
    {
     "name": "stderr",
     "output_type": "stream",
     "text": [
      " 80%|███████▉  | 43/54 [03:47<00:57,  5.24s/it]"
     ]
    },
    {
     "name": "stdout",
     "output_type": "stream",
     "text": [
      "## all_reponses :  [4, 5, 5, 5, 4, 4, 4, 4, 4, 4]\n",
      "## groundedness score :  [4, 5, 5, 5, 4, 4, 4, 4, 4, 4]\n",
      "## all_reponses :  [5, 5, 5, 5, 5, 5, 5, 5, 5, 5]\n",
      "## coherence score :  [5, 5, 5, 5, 5, 5, 5, 5, 5, 5]\n",
      "## all_reponses :  [4, 3, 3, 5, 4, 4, 4, 3, 4, 4]\n",
      "## engagingness score :  [4, 3, 3, 5, 4, 4, 4, 3, 4, 4]\n",
      "## all_reponses :  [5, 5, 5, 5, 5, 5, 5, 4, 5, 5]\n",
      "## naturalness score :  [5, 5, 5, 5, 5, 5, 5, 4, 5, 5]\n"
     ]
    },
    {
     "name": "stderr",
     "output_type": "stream",
     "text": [
      " 81%|████████▏ | 44/54 [03:52<00:53,  5.31s/it]"
     ]
    },
    {
     "name": "stdout",
     "output_type": "stream",
     "text": [
      "## all_reponses :  [4, 4, 3, 4, 3, 3, 4, 5, 4, 5]\n",
      "## groundedness score :  [4, 4, 3, 4, 3, 3, 4, 5, 4, 5]\n",
      "## all_reponses :  [5, 5, 4, 5, 5, 5, 5, 5, 5, 5]\n",
      "## coherence score :  [5, 5, 4, 5, 5, 5, 5, 5, 5, 5]\n",
      "## all_reponses :  [4, 3, 5, 4, 5, 4, 4, 4, 4, 5]\n",
      "## engagingness score :  [4, 3, 5, 4, 5, 4, 4, 4, 4, 5]\n",
      "## all_reponses :  [5, 5, 5, 5, 5, 5, 5, 5, 5, 4]\n",
      "## naturalness score :  [5, 5, 5, 5, 5, 5, 5, 5, 5, 4]\n"
     ]
    },
    {
     "name": "stderr",
     "output_type": "stream",
     "text": [
      " 83%|████████▎ | 45/54 [03:58<00:49,  5.49s/it]"
     ]
    },
    {
     "name": "stdout",
     "output_type": "stream",
     "text": [
      "## all_reponses :  [5, 5, 5, 4, 5, 5, 5, 4, 5, 5]\n",
      "## groundedness score :  [5, 5, 5, 4, 5, 5, 5, 4, 5, 5]\n",
      "## all_reponses :  [5, 5, 5, 5, 5, 4, 5, 5, 5, 5]\n",
      "## coherence score :  [5, 5, 5, 5, 5, 4, 5, 5, 5, 5]\n",
      "## all_reponses :  [4, 4, 4, 4, 4, 4, 4, 5, 3, 4]\n",
      "## engagingness score :  [4, 4, 4, 4, 4, 4, 4, 5, 3, 4]\n",
      "## all_reponses :  [5, 5, 5, 5, 4, 5, 5, 5, 5, 5]\n",
      "## naturalness score :  [5, 5, 5, 5, 4, 5, 5, 5, 5, 5]\n"
     ]
    },
    {
     "name": "stderr",
     "output_type": "stream",
     "text": [
      " 85%|████████▌ | 46/54 [04:03<00:42,  5.32s/it]"
     ]
    },
    {
     "name": "stdout",
     "output_type": "stream",
     "text": [
      "## all_reponses :  [5, 5, 4, 4, 5, 5, 5, 5, 5, 4]\n",
      "## groundedness score :  [5, 5, 4, 4, 5, 5, 5, 5, 5, 4]\n",
      "## all_reponses :  [5, 5, 5, 5, 5, 5, 5, 5, 5, 5]\n",
      "## coherence score :  [5, 5, 5, 5, 5, 5, 5, 5, 5, 5]\n",
      "## all_reponses :  [2, 3, 3, 3, 3, 3, 3, 3, 3, 2]\n",
      "## engagingness score :  [2, 3, 3, 3, 3, 3, 3, 3, 3, 2]\n",
      "## all_reponses :  [5, 5, 5, 5, 4, 5, 5, 5, 4, 5]\n",
      "## naturalness score :  [5, 5, 5, 5, 4, 5, 5, 5, 4, 5]\n"
     ]
    },
    {
     "name": "stderr",
     "output_type": "stream",
     "text": [
      " 87%|████████▋ | 47/54 [04:08<00:36,  5.24s/it]"
     ]
    },
    {
     "name": "stdout",
     "output_type": "stream",
     "text": [
      "## all_reponses :  [5, 5, 5, 5, 5, 5, 5, 5, 5, 5]\n",
      "## groundedness score :  [5, 5, 5, 5, 5, 5, 5, 5, 5, 5]\n",
      "## all_reponses :  [5, 5, 5, 5, 5, 5, 5, 5, 5, 5]\n",
      "## coherence score :  [5, 5, 5, 5, 5, 5, 5, 5, 5, 5]\n",
      "## all_reponses :  [3, 4, 5, 4, 4, 4, 3, 5, 4, 4]\n",
      "## engagingness score :  [3, 4, 5, 4, 4, 4, 3, 5, 4, 4]\n",
      "## all_reponses :  [5, 5, 5, 4, 5, 5, 5, 4, 5, 5]\n",
      "## naturalness score :  [5, 5, 5, 4, 5, 5, 5, 4, 5, 5]\n"
     ]
    },
    {
     "name": "stderr",
     "output_type": "stream",
     "text": [
      " 89%|████████▉ | 48/54 [04:13<00:31,  5.25s/it]"
     ]
    },
    {
     "name": "stdout",
     "output_type": "stream",
     "text": [
      "## all_reponses :  [4, 5, 5, 5, 5, 5, 5, 5, 5, 5]\n",
      "## groundedness score :  [4, 5, 5, 5, 5, 5, 5, 5, 5, 5]\n",
      "## all_reponses :  [5, 5, 5, 5, 5, 5, 5, 5, 5, 5]\n",
      "## coherence score :  [5, 5, 5, 5, 5, 5, 5, 5, 5, 5]\n",
      "## all_reponses :  [4, 4, 4, 5, 4, 4, 4, 4, 5, 5]\n",
      "## engagingness score :  [4, 4, 4, 5, 4, 4, 4, 4, 5, 5]\n",
      "## all_reponses :  [5, 5, 5, 5, 5, 5, 5, 5, 5, 5]\n",
      "## naturalness score :  [5, 5, 5, 5, 5, 5, 5, 5, 5, 5]\n"
     ]
    },
    {
     "name": "stderr",
     "output_type": "stream",
     "text": [
      " 91%|█████████ | 49/54 [04:18<00:26,  5.23s/it]"
     ]
    },
    {
     "name": "stdout",
     "output_type": "stream",
     "text": [
      "## all_reponses :  [5, 5, 5, 5, 5, 5, 5, 5, 5, 5]\n",
      "## groundedness score :  [5, 5, 5, 5, 5, 5, 5, 5, 5, 5]\n",
      "## all_reponses :  [5, 5, 5, 5, 5, 5, 5, 5, 5, 5]\n",
      "## coherence score :  [5, 5, 5, 5, 5, 5, 5, 5, 5, 5]\n",
      "## all_reponses :  [5, 4, 4, 4, 4, 3, 4, 4, 4, 5]\n",
      "## engagingness score :  [5, 4, 4, 4, 4, 3, 4, 4, 4, 5]\n",
      "## all_reponses :  [4, 5, 4, 5, 5, 5, 5, 5, 5, 4]\n",
      "## naturalness score :  [4, 5, 4, 5, 5, 5, 5, 5, 5, 4]\n"
     ]
    },
    {
     "name": "stderr",
     "output_type": "stream",
     "text": [
      " 93%|█████████▎| 50/54 [04:23<00:20,  5.14s/it]"
     ]
    },
    {
     "name": "stdout",
     "output_type": "stream",
     "text": [
      "## all_reponses :  [5, 5, 5, 5, 5, 4, 5, 5, 5, 5]\n",
      "## groundedness score :  [5, 5, 5, 5, 5, 4, 5, 5, 5, 5]\n",
      "## all_reponses :  [4, 5, 5, 5, 5, 3, 5, 4, 5, 5]\n",
      "## coherence score :  [4, 5, 5, 5, 5, 3, 5, 4, 5, 5]\n",
      "## all_reponses :  [4, 4, 3, 4, 4, 4, 4, 4, 4, 4]\n",
      "## engagingness score :  [4, 4, 3, 4, 4, 4, 4, 4, 4, 4]\n",
      "## all_reponses :  [5, 5, 4, 5, 5, 4, 5, 4, 4, 4]\n",
      "## naturalness score :  [5, 5, 4, 5, 5, 4, 5, 4, 4, 4]\n"
     ]
    },
    {
     "name": "stderr",
     "output_type": "stream",
     "text": [
      " 94%|█████████▍| 51/54 [04:29<00:15,  5.29s/it]"
     ]
    },
    {
     "name": "stdout",
     "output_type": "stream",
     "text": [
      "## all_reponses :  [4, 4, 4, 3, 5, 4, 3, 4, 3, 3]\n",
      "## groundedness score :  [4, 4, 4, 3, 5, 4, 3, 4, 3, 3]\n",
      "## all_reponses :  [4, 3, 3, 2, 5, 4, 4, 1, 3, 3]\n",
      "## coherence score :  [4, 3, 3, 2, 5, 4, 4, 1, 3, 3]\n",
      "## all_reponses :  [2, 3, 3, 3, 2, 3, 2, 3, 3, 3]\n",
      "## engagingness score :  [2, 3, 3, 3, 2, 3, 2, 3, 3, 3]\n",
      "## all_reponses :  [5, 5, 5, 4, 3, 5, 5, 5, 5, 5]\n",
      "## naturalness score :  [5, 5, 5, 4, 3, 5, 5, 5, 5, 5]\n"
     ]
    },
    {
     "name": "stderr",
     "output_type": "stream",
     "text": [
      " 96%|█████████▋| 52/54 [04:34<00:10,  5.34s/it]"
     ]
    },
    {
     "name": "stdout",
     "output_type": "stream",
     "text": [
      "## all_reponses :  [3, 3, 5, 4, 3, 3, 2, 2, 2, 2]\n",
      "## groundedness score :  [3, 3, 5, 4, 3, 3, 2, 2, 2, 2]\n",
      "## all_reponses :  [4, 2, 4, 5, 4, 3, 4, 5, 4, 1]\n",
      "## coherence score :  [4, 2, 4, 5, 4, 3, 4, 5, 4, 1]\n",
      "## all_reponses :  [2, 3, 2, 2, 3, 2, 3, 3, 2, 2]\n",
      "## engagingness score :  [2, 3, 2, 2, 3, 2, 3, 3, 2, 2]\n",
      "## all_reponses :  [4, 3, 2, 3, 3, 2, 4, 4, 4, 3]\n",
      "## naturalness score :  [4, 3, 2, 3, 3, 2, 4, 4, 4, 3]\n"
     ]
    },
    {
     "name": "stderr",
     "output_type": "stream",
     "text": [
      " 98%|█████████▊| 53/54 [04:40<00:05,  5.30s/it]"
     ]
    },
    {
     "name": "stdout",
     "output_type": "stream",
     "text": [
      "## all_reponses :  [4, 4, 3, 4, 4, 4, 3, 4, 3, 3]\n",
      "## groundedness score :  [4, 4, 3, 4, 4, 4, 3, 4, 3, 3]\n",
      "## all_reponses :  [5, 4, 5, 4, 3, 4, 4, 5, 5, 3]\n",
      "## coherence score :  [5, 4, 5, 4, 3, 4, 4, 5, 5, 3]\n",
      "## all_reponses :  [2, 3, 3, 3, 3, 3, 3, 2, 3, 2]\n",
      "## engagingness score :  [2, 3, 3, 3, 3, 3, 3, 2, 3, 2]\n",
      "## all_reponses :  [5, 4, 3, 4, 4, 4, 4, 4, 4, 5]\n",
      "## naturalness score :  [5, 4, 3, 4, 4, 4, 4, 4, 4, 5]\n"
     ]
    },
    {
     "name": "stderr",
     "output_type": "stream",
     "text": [
      "100%|██████████| 54/54 [04:45<00:00,  5.29s/it]"
     ]
    },
    {
     "name": "stdout",
     "output_type": "stream",
     "text": [
      "## all_reponses :  [3, 3, 4, 3, 4, 3, 3, 2, 4, 4]\n",
      "## groundedness score :  [3, 3, 4, 3, 4, 3, 3, 2, 4, 4]\n",
      "## Evaluated 54/54 row! : \n"
     ]
    },
    {
     "name": "stderr",
     "output_type": "stream",
     "text": [
      "\n"
     ]
    }
   ],
   "source": [
    "evaluate(solar_vl2_no_persona_3, 'GEVAL_solar_vl2_no_persona_3')"
   ]
  },
  {
   "cell_type": "code",
   "execution_count": null,
   "metadata": {},
   "outputs": [],
   "source": [
    "evaluate(solar_vl2_3, 'GEVAL_solar_vl2_3')"
   ]
  }
 ],
 "metadata": {
  "kernelspec": {
   "display_name": "true_friend",
   "language": "python",
   "name": "python3"
  },
  "language_info": {
   "codemirror_mode": {
    "name": "ipython",
    "version": 3
   },
   "file_extension": ".py",
   "mimetype": "text/x-python",
   "name": "python",
   "nbconvert_exporter": "python",
   "pygments_lexer": "ipython3",
   "version": "3.9.18"
  }
 },
 "nbformat": 4,
 "nbformat_minor": 2
}
